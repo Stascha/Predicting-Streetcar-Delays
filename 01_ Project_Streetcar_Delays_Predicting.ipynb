{
 "cells": [
  {
   "cell_type": "markdown",
   "metadata": {},
   "source": [
    "# Data preparation\n"
   ]
  },
  {
   "cell_type": "code",
   "execution_count": 1,
   "metadata": {},
   "outputs": [
    {
     "name": "stdout",
     "output_type": "stream",
     "text": [
      "Requirement already satisfied: requests in c:\\users\\korisnik\\anaconda3\\lib\\site-packages (2.22.0)\n",
      "Requirement already satisfied: chardet<3.1.0,>=3.0.2 in c:\\users\\korisnik\\anaconda3\\lib\\site-packages (from requests) (3.0.4)\n",
      "Requirement already satisfied: certifi>=2017.4.17 in c:\\users\\korisnik\\anaconda3\\lib\\site-packages (from requests) (2019.9.11)\n",
      "Requirement already satisfied: urllib3!=1.25.0,!=1.25.1,<1.26,>=1.21.1 in c:\\users\\korisnik\\anaconda3\\lib\\site-packages (from requests) (1.24.2)\n",
      "Requirement already satisfied: idna<2.9,>=2.5 in c:\\users\\korisnik\\anaconda3\\lib\\site-packages (from requests) (2.8)\n"
     ]
    }
   ],
   "source": [
    "!pip install requests"
   ]
  },
  {
   "cell_type": "code",
   "execution_count": 2,
   "metadata": {},
   "outputs": [
    {
     "name": "stderr",
     "output_type": "stream",
     "text": [
      "C:\\Users\\Korisnik\\Anaconda3\\lib\\site-packages\\sklearn\\externals\\six.py:31: DeprecationWarning: The module is deprecated in version 0.21 and will be removed in version 0.23 since we've dropped support for Python 2.7. Please rely on the official version of six (https://pypi.org/project/six/).\n",
      "  \"(https://pypi.org/project/six/).\", DeprecationWarning)\n"
     ]
    }
   ],
   "source": [
    "import numpy as np \n",
    "import pandas as pd \n",
    "import matplotlib \n",
    "import matplotlib.pyplot as plt\n",
    "import datetime as dt\n",
    "import keras\n",
    "import zipfile\n",
    "import time\n",
    "import os\n",
    "import math\n",
    "import datetime\n",
    "import pandas as pd\n",
    "import pickle\n",
    "import requests\n",
    "import json\n",
    "import matplotlib.pyplot as plt\n",
    "import seaborn as sns\n",
    "import re\n",
    "import os\n",
    "import logging\n",
    "import imblearn\n",
    "import seaborn as sns\n",
    "from imblearn.over_sampling import SMOTE\n",
    "from imblearn.over_sampling import RandomOverSampler\n",
    "from imblearn.under_sampling import RandomUnderSampler\n",
    "from datetime import datetime, timedelta\n",
    "from datetime import date\n",
    "from dateutil import relativedelta\n",
    "from io import StringIO\n",
    "from sklearn.base import BaseEstimator\n",
    "from sklearn.base import TransformerMixin\n",
    "from sklearn.utils import shuffle\n",
    "from io import StringIO\n",
    "from sklearn.preprocessing import LabelEncoder, MinMaxScaler, StandardScaler\n",
    "from sklearn.model_selection import train_test_split\n",
    "%matplotlib inline \n",
    "from subprocess import check_output\n",
    "from IPython.display import display\n",
    "from colorama import Fore, Back, Style\n",
    "from scipy.stats import pearsonr"
   ]
  },
  {
   "cell_type": "markdown",
   "metadata": {},
   "source": [
    "# Load data"
   ]
  },
  {
   "cell_type": "code",
   "execution_count": 3,
   "metadata": {},
   "outputs": [
    {
     "name": "stdout",
     "output_type": "stream",
     "text": [
      "Data loading in progress ... \n",
      "Data loaded\n"
     ]
    }
   ],
   "source": [
    "Months = [\"Jan \", \"Feb \", \"Mar \", \"Apr \", \"May \", \"Jun \", \"July \", \"Aug \", \"Sept \", \"Oct \", \"Nov \", \"Dec \"]\n",
    "Years = [ \"2014\" , \"2015\" , \"2016\" , \"2017\"]\n",
    "\n",
    "print(\"Data loading in progress ... \")\n",
    "\n",
    "for year in Years:\n",
    "    for month in Months:\n",
    "        file = 'data/ttc-streetcar-delay-data-' + year + '.xlsx'\n",
    "        sheet =  month + year\n",
    "        if( year == \"2014\"  and  month == \"Jan \" ): \n",
    "            data_original = pd.read_excel( file ,  sheet)\n",
    "        if( year == \"2017\"  and  month == \"Sept \" ): \n",
    "            continue\n",
    "        else:\n",
    "            data_original = data_original.append(pd.read_excel( file ,  sheet))\n",
    "            \n",
    "print(\"Data loaded\")"
   ]
  },
  {
   "cell_type": "code",
   "execution_count": 4,
   "metadata": {},
   "outputs": [
    {
     "data": {
      "text/html": [
       "<div>\n",
       "<style scoped>\n",
       "    .dataframe tbody tr th:only-of-type {\n",
       "        vertical-align: middle;\n",
       "    }\n",
       "\n",
       "    .dataframe tbody tr th {\n",
       "        vertical-align: top;\n",
       "    }\n",
       "\n",
       "    .dataframe thead th {\n",
       "        text-align: right;\n",
       "    }\n",
       "</style>\n",
       "<table border=\"1\" class=\"dataframe\">\n",
       "  <thead>\n",
       "    <tr style=\"text-align: right;\">\n",
       "      <th></th>\n",
       "      <th>Report Date</th>\n",
       "      <th>Route</th>\n",
       "      <th>Time</th>\n",
       "      <th>Day</th>\n",
       "      <th>Location</th>\n",
       "      <th>Incident</th>\n",
       "      <th>Min Delay</th>\n",
       "      <th>Min Gap</th>\n",
       "      <th>Direction</th>\n",
       "      <th>Vehicle</th>\n",
       "    </tr>\n",
       "  </thead>\n",
       "  <tbody>\n",
       "    <tr>\n",
       "      <td>0</td>\n",
       "      <td>2014-01-02</td>\n",
       "      <td>505</td>\n",
       "      <td>06:31:00</td>\n",
       "      <td>Thursday</td>\n",
       "      <td>Dundas and Roncesvalles</td>\n",
       "      <td>Late Leaving Garage</td>\n",
       "      <td>4.0</td>\n",
       "      <td>8.0</td>\n",
       "      <td>E/B</td>\n",
       "      <td>4018.0</td>\n",
       "    </tr>\n",
       "    <tr>\n",
       "      <td>1</td>\n",
       "      <td>2014-01-02</td>\n",
       "      <td>504</td>\n",
       "      <td>12:43:00</td>\n",
       "      <td>Thursday</td>\n",
       "      <td>King and Shaw</td>\n",
       "      <td>Utilized Off Route</td>\n",
       "      <td>20.0</td>\n",
       "      <td>22.0</td>\n",
       "      <td>E/B</td>\n",
       "      <td>4128.0</td>\n",
       "    </tr>\n",
       "    <tr>\n",
       "      <td>2</td>\n",
       "      <td>2014-01-02</td>\n",
       "      <td>501</td>\n",
       "      <td>14:01:00</td>\n",
       "      <td>Thursday</td>\n",
       "      <td>Kingston road and Bingham</td>\n",
       "      <td>Held By</td>\n",
       "      <td>13.0</td>\n",
       "      <td>19.0</td>\n",
       "      <td>W/B</td>\n",
       "      <td>4016.0</td>\n",
       "    </tr>\n",
       "    <tr>\n",
       "      <td>3</td>\n",
       "      <td>2014-01-02</td>\n",
       "      <td>504</td>\n",
       "      <td>14:22:00</td>\n",
       "      <td>Thursday</td>\n",
       "      <td>King St. and Roncesvalles Ave.</td>\n",
       "      <td>Investigation</td>\n",
       "      <td>7.0</td>\n",
       "      <td>11.0</td>\n",
       "      <td>W/B</td>\n",
       "      <td>4175.0</td>\n",
       "    </tr>\n",
       "    <tr>\n",
       "      <td>4</td>\n",
       "      <td>2014-01-02</td>\n",
       "      <td>504</td>\n",
       "      <td>16:42:00</td>\n",
       "      <td>Thursday</td>\n",
       "      <td>King and Bathurst</td>\n",
       "      <td>Utilized Off Route</td>\n",
       "      <td>3.0</td>\n",
       "      <td>6.0</td>\n",
       "      <td>E/B</td>\n",
       "      <td>4080.0</td>\n",
       "    </tr>\n",
       "    <tr>\n",
       "      <td>...</td>\n",
       "      <td>...</td>\n",
       "      <td>...</td>\n",
       "      <td>...</td>\n",
       "      <td>...</td>\n",
       "      <td>...</td>\n",
       "      <td>...</td>\n",
       "      <td>...</td>\n",
       "      <td>...</td>\n",
       "      <td>...</td>\n",
       "      <td>...</td>\n",
       "    </tr>\n",
       "    <tr>\n",
       "      <td>1693</td>\n",
       "      <td>2017-12-31</td>\n",
       "      <td>501</td>\n",
       "      <td>19:58:00</td>\n",
       "      <td>Sunday</td>\n",
       "      <td>Queen</td>\n",
       "      <td>General Delay</td>\n",
       "      <td>7.0</td>\n",
       "      <td>15.0</td>\n",
       "      <td>B/W</td>\n",
       "      <td>NaN</td>\n",
       "    </tr>\n",
       "    <tr>\n",
       "      <td>1694</td>\n",
       "      <td>2017-12-31</td>\n",
       "      <td>501</td>\n",
       "      <td>21:15:00</td>\n",
       "      <td>Sunday</td>\n",
       "      <td>Queen and Neville park</td>\n",
       "      <td>Mechanical</td>\n",
       "      <td>12.0</td>\n",
       "      <td>24.0</td>\n",
       "      <td>W/B</td>\n",
       "      <td>4110.0</td>\n",
       "    </tr>\n",
       "    <tr>\n",
       "      <td>1695</td>\n",
       "      <td>2017-12-31</td>\n",
       "      <td>501</td>\n",
       "      <td>21:44:00</td>\n",
       "      <td>Sunday</td>\n",
       "      <td>Queen and Dufferin</td>\n",
       "      <td>Mechanical</td>\n",
       "      <td>12.0</td>\n",
       "      <td>24.0</td>\n",
       "      <td>W/B</td>\n",
       "      <td>1419.0</td>\n",
       "    </tr>\n",
       "    <tr>\n",
       "      <td>1696</td>\n",
       "      <td>2017-12-31</td>\n",
       "      <td>510</td>\n",
       "      <td>22:15:00</td>\n",
       "      <td>Sunday</td>\n",
       "      <td>Spadina and King</td>\n",
       "      <td>Mechanical</td>\n",
       "      <td>5.0</td>\n",
       "      <td>10.0</td>\n",
       "      <td>S/B</td>\n",
       "      <td>4447.0</td>\n",
       "    </tr>\n",
       "    <tr>\n",
       "      <td>1697</td>\n",
       "      <td>2017-12-31</td>\n",
       "      <td>505</td>\n",
       "      <td>22:30:00</td>\n",
       "      <td>Sunday</td>\n",
       "      <td>Broadview and Gerrard</td>\n",
       "      <td>Mechanical</td>\n",
       "      <td>8.0</td>\n",
       "      <td>16.0</td>\n",
       "      <td>N/B</td>\n",
       "      <td>4167.0</td>\n",
       "    </tr>\n",
       "  </tbody>\n",
       "</table>\n",
       "<p>50374 rows × 10 columns</p>\n",
       "</div>"
      ],
      "text/plain": [
       "     Report Date  Route      Time       Day                        Location  \\\n",
       "0     2014-01-02    505  06:31:00  Thursday         Dundas and Roncesvalles   \n",
       "1     2014-01-02    504  12:43:00  Thursday                   King and Shaw   \n",
       "2     2014-01-02    501  14:01:00  Thursday       Kingston road and Bingham   \n",
       "3     2014-01-02    504  14:22:00  Thursday  King St. and Roncesvalles Ave.   \n",
       "4     2014-01-02    504  16:42:00  Thursday               King and Bathurst   \n",
       "...          ...    ...       ...       ...                             ...   \n",
       "1693  2017-12-31    501  19:58:00    Sunday                           Queen   \n",
       "1694  2017-12-31    501  21:15:00    Sunday          Queen and Neville park   \n",
       "1695  2017-12-31    501  21:44:00    Sunday              Queen and Dufferin   \n",
       "1696  2017-12-31    510  22:15:00    Sunday                Spadina and King   \n",
       "1697  2017-12-31    505  22:30:00    Sunday           Broadview and Gerrard   \n",
       "\n",
       "                 Incident  Min Delay  Min Gap Direction  Vehicle  \n",
       "0     Late Leaving Garage        4.0      8.0       E/B   4018.0  \n",
       "1      Utilized Off Route       20.0     22.0       E/B   4128.0  \n",
       "2                 Held By       13.0     19.0       W/B   4016.0  \n",
       "3           Investigation        7.0     11.0       W/B   4175.0  \n",
       "4      Utilized Off Route        3.0      6.0       E/B   4080.0  \n",
       "...                   ...        ...      ...       ...      ...  \n",
       "1693        General Delay        7.0     15.0       B/W      NaN  \n",
       "1694           Mechanical       12.0     24.0       W/B   4110.0  \n",
       "1695           Mechanical       12.0     24.0       W/B   1419.0  \n",
       "1696           Mechanical        5.0     10.0       S/B   4447.0  \n",
       "1697           Mechanical        8.0     16.0       N/B   4167.0  \n",
       "\n",
       "[50374 rows x 10 columns]"
      ]
     },
     "execution_count": 4,
     "metadata": {},
     "output_type": "execute_result"
    }
   ],
   "source": [
    "data_original"
   ]
  },
  {
   "cell_type": "code",
   "execution_count": 21,
   "metadata": {},
   "outputs": [],
   "source": [
    "data = data_original"
   ]
  },
  {
   "cell_type": "code",
   "execution_count": 22,
   "metadata": {},
   "outputs": [
    {
     "data": {
      "text/html": [
       "<div>\n",
       "<style scoped>\n",
       "    .dataframe tbody tr th:only-of-type {\n",
       "        vertical-align: middle;\n",
       "    }\n",
       "\n",
       "    .dataframe tbody tr th {\n",
       "        vertical-align: top;\n",
       "    }\n",
       "\n",
       "    .dataframe thead th {\n",
       "        text-align: right;\n",
       "    }\n",
       "</style>\n",
       "<table border=\"1\" class=\"dataframe\">\n",
       "  <thead>\n",
       "    <tr style=\"text-align: right;\">\n",
       "      <th></th>\n",
       "      <th>Report Date</th>\n",
       "      <th>Route</th>\n",
       "      <th>Time</th>\n",
       "      <th>Day</th>\n",
       "      <th>Location</th>\n",
       "      <th>Incident</th>\n",
       "      <th>Min Delay</th>\n",
       "      <th>Min Gap</th>\n",
       "      <th>Direction</th>\n",
       "      <th>Vehicle</th>\n",
       "    </tr>\n",
       "  </thead>\n",
       "  <tbody>\n",
       "    <tr>\n",
       "      <td>0</td>\n",
       "      <td>2014-01-02</td>\n",
       "      <td>505</td>\n",
       "      <td>06:31:00</td>\n",
       "      <td>Thursday</td>\n",
       "      <td>Dundas and Roncesvalles</td>\n",
       "      <td>Late Leaving Garage</td>\n",
       "      <td>4.0</td>\n",
       "      <td>8.0</td>\n",
       "      <td>E/B</td>\n",
       "      <td>4018.0</td>\n",
       "    </tr>\n",
       "    <tr>\n",
       "      <td>1</td>\n",
       "      <td>2014-01-02</td>\n",
       "      <td>504</td>\n",
       "      <td>12:43:00</td>\n",
       "      <td>Thursday</td>\n",
       "      <td>King and Shaw</td>\n",
       "      <td>Utilized Off Route</td>\n",
       "      <td>20.0</td>\n",
       "      <td>22.0</td>\n",
       "      <td>E/B</td>\n",
       "      <td>4128.0</td>\n",
       "    </tr>\n",
       "    <tr>\n",
       "      <td>2</td>\n",
       "      <td>2014-01-02</td>\n",
       "      <td>501</td>\n",
       "      <td>14:01:00</td>\n",
       "      <td>Thursday</td>\n",
       "      <td>Kingston road and Bingham</td>\n",
       "      <td>Held By</td>\n",
       "      <td>13.0</td>\n",
       "      <td>19.0</td>\n",
       "      <td>W/B</td>\n",
       "      <td>4016.0</td>\n",
       "    </tr>\n",
       "    <tr>\n",
       "      <td>3</td>\n",
       "      <td>2014-01-02</td>\n",
       "      <td>504</td>\n",
       "      <td>14:22:00</td>\n",
       "      <td>Thursday</td>\n",
       "      <td>King St. and Roncesvalles Ave.</td>\n",
       "      <td>Investigation</td>\n",
       "      <td>7.0</td>\n",
       "      <td>11.0</td>\n",
       "      <td>W/B</td>\n",
       "      <td>4175.0</td>\n",
       "    </tr>\n",
       "    <tr>\n",
       "      <td>4</td>\n",
       "      <td>2014-01-02</td>\n",
       "      <td>504</td>\n",
       "      <td>16:42:00</td>\n",
       "      <td>Thursday</td>\n",
       "      <td>King and Bathurst</td>\n",
       "      <td>Utilized Off Route</td>\n",
       "      <td>3.0</td>\n",
       "      <td>6.0</td>\n",
       "      <td>E/B</td>\n",
       "      <td>4080.0</td>\n",
       "    </tr>\n",
       "  </tbody>\n",
       "</table>\n",
       "</div>"
      ],
      "text/plain": [
       "  Report Date  Route      Time       Day                        Location  \\\n",
       "0  2014-01-02    505  06:31:00  Thursday         Dundas and Roncesvalles   \n",
       "1  2014-01-02    504  12:43:00  Thursday                   King and Shaw   \n",
       "2  2014-01-02    501  14:01:00  Thursday       Kingston road and Bingham   \n",
       "3  2014-01-02    504  14:22:00  Thursday  King St. and Roncesvalles Ave.   \n",
       "4  2014-01-02    504  16:42:00  Thursday               King and Bathurst   \n",
       "\n",
       "              Incident  Min Delay  Min Gap Direction  Vehicle  \n",
       "0  Late Leaving Garage        4.0      8.0       E/B   4018.0  \n",
       "1   Utilized Off Route       20.0     22.0       E/B   4128.0  \n",
       "2              Held By       13.0     19.0       W/B   4016.0  \n",
       "3        Investigation        7.0     11.0       W/B   4175.0  \n",
       "4   Utilized Off Route        3.0      6.0       E/B   4080.0  "
      ]
     },
     "execution_count": 22,
     "metadata": {},
     "output_type": "execute_result"
    }
   ],
   "source": [
    "data.head()"
   ]
  },
  {
   "cell_type": "code",
   "execution_count": 23,
   "metadata": {},
   "outputs": [
    {
     "data": {
      "text/plain": [
       "(50374, 10)"
      ]
     },
     "execution_count": 23,
     "metadata": {},
     "output_type": "execute_result"
    }
   ],
   "source": [
    "data.shape"
   ]
  },
  {
   "cell_type": "code",
   "execution_count": 24,
   "metadata": {},
   "outputs": [],
   "source": [
    "data = data.drop(columns = ['Location'])"
   ]
  },
  {
   "cell_type": "code",
   "execution_count": 25,
   "metadata": {},
   "outputs": [
    {
     "data": {
      "text/html": [
       "<div>\n",
       "<style scoped>\n",
       "    .dataframe tbody tr th:only-of-type {\n",
       "        vertical-align: middle;\n",
       "    }\n",
       "\n",
       "    .dataframe tbody tr th {\n",
       "        vertical-align: top;\n",
       "    }\n",
       "\n",
       "    .dataframe thead th {\n",
       "        text-align: right;\n",
       "    }\n",
       "</style>\n",
       "<table border=\"1\" class=\"dataframe\">\n",
       "  <thead>\n",
       "    <tr style=\"text-align: right;\">\n",
       "      <th></th>\n",
       "      <th>Report Date</th>\n",
       "      <th>Route</th>\n",
       "      <th>Time</th>\n",
       "      <th>Day</th>\n",
       "      <th>Incident</th>\n",
       "      <th>Min Delay</th>\n",
       "      <th>Min Gap</th>\n",
       "      <th>Direction</th>\n",
       "      <th>Vehicle</th>\n",
       "    </tr>\n",
       "  </thead>\n",
       "  <tbody>\n",
       "    <tr>\n",
       "      <td>0</td>\n",
       "      <td>2014-01-02</td>\n",
       "      <td>505</td>\n",
       "      <td>06:31:00</td>\n",
       "      <td>Thursday</td>\n",
       "      <td>Late Leaving Garage</td>\n",
       "      <td>4.0</td>\n",
       "      <td>8.0</td>\n",
       "      <td>E/B</td>\n",
       "      <td>4018.0</td>\n",
       "    </tr>\n",
       "    <tr>\n",
       "      <td>1</td>\n",
       "      <td>2014-01-02</td>\n",
       "      <td>504</td>\n",
       "      <td>12:43:00</td>\n",
       "      <td>Thursday</td>\n",
       "      <td>Utilized Off Route</td>\n",
       "      <td>20.0</td>\n",
       "      <td>22.0</td>\n",
       "      <td>E/B</td>\n",
       "      <td>4128.0</td>\n",
       "    </tr>\n",
       "    <tr>\n",
       "      <td>2</td>\n",
       "      <td>2014-01-02</td>\n",
       "      <td>501</td>\n",
       "      <td>14:01:00</td>\n",
       "      <td>Thursday</td>\n",
       "      <td>Held By</td>\n",
       "      <td>13.0</td>\n",
       "      <td>19.0</td>\n",
       "      <td>W/B</td>\n",
       "      <td>4016.0</td>\n",
       "    </tr>\n",
       "    <tr>\n",
       "      <td>3</td>\n",
       "      <td>2014-01-02</td>\n",
       "      <td>504</td>\n",
       "      <td>14:22:00</td>\n",
       "      <td>Thursday</td>\n",
       "      <td>Investigation</td>\n",
       "      <td>7.0</td>\n",
       "      <td>11.0</td>\n",
       "      <td>W/B</td>\n",
       "      <td>4175.0</td>\n",
       "    </tr>\n",
       "    <tr>\n",
       "      <td>4</td>\n",
       "      <td>2014-01-02</td>\n",
       "      <td>504</td>\n",
       "      <td>16:42:00</td>\n",
       "      <td>Thursday</td>\n",
       "      <td>Utilized Off Route</td>\n",
       "      <td>3.0</td>\n",
       "      <td>6.0</td>\n",
       "      <td>E/B</td>\n",
       "      <td>4080.0</td>\n",
       "    </tr>\n",
       "  </tbody>\n",
       "</table>\n",
       "</div>"
      ],
      "text/plain": [
       "  Report Date  Route      Time       Day             Incident  Min Delay  \\\n",
       "0  2014-01-02    505  06:31:00  Thursday  Late Leaving Garage        4.0   \n",
       "1  2014-01-02    504  12:43:00  Thursday   Utilized Off Route       20.0   \n",
       "2  2014-01-02    501  14:01:00  Thursday              Held By       13.0   \n",
       "3  2014-01-02    504  14:22:00  Thursday        Investigation        7.0   \n",
       "4  2014-01-02    504  16:42:00  Thursday   Utilized Off Route        3.0   \n",
       "\n",
       "   Min Gap Direction  Vehicle  \n",
       "0      8.0       E/B   4018.0  \n",
       "1     22.0       E/B   4128.0  \n",
       "2     19.0       W/B   4016.0  \n",
       "3     11.0       W/B   4175.0  \n",
       "4      6.0       E/B   4080.0  "
      ]
     },
     "execution_count": 25,
     "metadata": {},
     "output_type": "execute_result"
    }
   ],
   "source": [
    "data.head()"
   ]
  },
  {
   "cell_type": "code",
   "execution_count": 26,
   "metadata": {},
   "outputs": [
    {
     "data": {
      "text/plain": [
       "(50374, 9)"
      ]
     },
     "execution_count": 26,
     "metadata": {},
     "output_type": "execute_result"
    }
   ],
   "source": [
    "data.shape"
   ]
  },
  {
   "cell_type": "code",
   "execution_count": 27,
   "metadata": {},
   "outputs": [
    {
     "name": "stdout",
     "output_type": "stream",
     "text": [
      "<class 'pandas.core.frame.DataFrame'>\n",
      "Int64Index: 50374 entries, 0 to 1697\n",
      "Data columns (total 9 columns):\n",
      "Report Date    50374 non-null datetime64[ns]\n",
      "Route          50374 non-null int64\n",
      "Time           50374 non-null object\n",
      "Day            50374 non-null object\n",
      "Incident       50374 non-null object\n",
      "Min Delay      50362 non-null float64\n",
      "Min Gap        50360 non-null float64\n",
      "Direction      50298 non-null object\n",
      "Vehicle        46481 non-null float64\n",
      "dtypes: datetime64[ns](1), float64(3), int64(1), object(4)\n",
      "memory usage: 3.8+ MB\n"
     ]
    }
   ],
   "source": [
    "data.info()"
   ]
  },
  {
   "cell_type": "markdown",
   "metadata": {},
   "source": [
    "### Deleting data that contains a missing value"
   ]
  },
  {
   "cell_type": "code",
   "execution_count": 28,
   "metadata": {},
   "outputs": [
    {
     "data": {
      "text/plain": [
       "True"
      ]
     },
     "execution_count": 28,
     "metadata": {},
     "output_type": "execute_result"
    }
   ],
   "source": [
    "data.isna().values.any()"
   ]
  },
  {
   "cell_type": "code",
   "execution_count": 13,
   "metadata": {},
   "outputs": [
    {
     "data": {
      "text/plain": [
       "Report Date    False\n",
       "Route          False\n",
       "Time           False\n",
       "Day            False\n",
       "Incident       False\n",
       "Min Delay       True\n",
       "Min Gap         True\n",
       "Direction       True\n",
       "Vehicle         True\n",
       "dtype: bool"
      ]
     },
     "execution_count": 13,
     "metadata": {},
     "output_type": "execute_result"
    }
   ],
   "source": [
    "data.isna().any()"
   ]
  },
  {
   "cell_type": "code",
   "execution_count": 30,
   "metadata": {},
   "outputs": [
    {
     "data": {
      "text/html": [
       "<div>\n",
       "<style scoped>\n",
       "    .dataframe tbody tr th:only-of-type {\n",
       "        vertical-align: middle;\n",
       "    }\n",
       "\n",
       "    .dataframe tbody tr th {\n",
       "        vertical-align: top;\n",
       "    }\n",
       "\n",
       "    .dataframe thead th {\n",
       "        text-align: right;\n",
       "    }\n",
       "</style>\n",
       "<table border=\"1\" class=\"dataframe\">\n",
       "  <thead>\n",
       "    <tr style=\"text-align: right;\">\n",
       "      <th></th>\n",
       "      <th>Report Date</th>\n",
       "      <th>Route</th>\n",
       "      <th>Time</th>\n",
       "      <th>Day</th>\n",
       "      <th>Incident</th>\n",
       "      <th>Min Delay</th>\n",
       "      <th>Min Gap</th>\n",
       "      <th>Direction</th>\n",
       "      <th>Vehicle</th>\n",
       "    </tr>\n",
       "  </thead>\n",
       "  <tbody>\n",
       "    <tr>\n",
       "      <td>13</td>\n",
       "      <td>2014-01-03</td>\n",
       "      <td>501</td>\n",
       "      <td>05:29:00</td>\n",
       "      <td>Friday</td>\n",
       "      <td>Mechanical</td>\n",
       "      <td>4.0</td>\n",
       "      <td>11.0</td>\n",
       "      <td>W/B</td>\n",
       "      <td>NaN</td>\n",
       "    </tr>\n",
       "    <tr>\n",
       "      <td>16</td>\n",
       "      <td>2014-01-03</td>\n",
       "      <td>501</td>\n",
       "      <td>05:40:00</td>\n",
       "      <td>Friday</td>\n",
       "      <td>Mechanical</td>\n",
       "      <td>1.0</td>\n",
       "      <td>7.0</td>\n",
       "      <td>W/B</td>\n",
       "      <td>NaN</td>\n",
       "    </tr>\n",
       "    <tr>\n",
       "      <td>17</td>\n",
       "      <td>2014-01-03</td>\n",
       "      <td>506</td>\n",
       "      <td>05:47:00</td>\n",
       "      <td>Friday</td>\n",
       "      <td>Mechanical</td>\n",
       "      <td>5.0</td>\n",
       "      <td>11.0</td>\n",
       "      <td>E/B</td>\n",
       "      <td>NaN</td>\n",
       "    </tr>\n",
       "    <tr>\n",
       "      <td>19</td>\n",
       "      <td>2014-01-03</td>\n",
       "      <td>506</td>\n",
       "      <td>05:48:00</td>\n",
       "      <td>Friday</td>\n",
       "      <td>Mechanical</td>\n",
       "      <td>5.0</td>\n",
       "      <td>11.0</td>\n",
       "      <td>E/B</td>\n",
       "      <td>NaN</td>\n",
       "    </tr>\n",
       "    <tr>\n",
       "      <td>20</td>\n",
       "      <td>2014-01-03</td>\n",
       "      <td>511</td>\n",
       "      <td>05:54:00</td>\n",
       "      <td>Friday</td>\n",
       "      <td>Mechanical</td>\n",
       "      <td>6.0</td>\n",
       "      <td>11.0</td>\n",
       "      <td>N/B</td>\n",
       "      <td>NaN</td>\n",
       "    </tr>\n",
       "    <tr>\n",
       "      <td>...</td>\n",
       "      <td>...</td>\n",
       "      <td>...</td>\n",
       "      <td>...</td>\n",
       "      <td>...</td>\n",
       "      <td>...</td>\n",
       "      <td>...</td>\n",
       "      <td>...</td>\n",
       "      <td>...</td>\n",
       "      <td>...</td>\n",
       "    </tr>\n",
       "    <tr>\n",
       "      <td>1591</td>\n",
       "      <td>2017-12-29</td>\n",
       "      <td>504</td>\n",
       "      <td>17:00:00</td>\n",
       "      <td>Friday</td>\n",
       "      <td>General Delay</td>\n",
       "      <td>12.0</td>\n",
       "      <td>16.0</td>\n",
       "      <td>E/B</td>\n",
       "      <td>NaN</td>\n",
       "    </tr>\n",
       "    <tr>\n",
       "      <td>1615</td>\n",
       "      <td>2017-12-30</td>\n",
       "      <td>501</td>\n",
       "      <td>09:22:00</td>\n",
       "      <td>Saturday</td>\n",
       "      <td>Utilized Off Route</td>\n",
       "      <td>6.0</td>\n",
       "      <td>12.0</td>\n",
       "      <td>B/W</td>\n",
       "      <td>NaN</td>\n",
       "    </tr>\n",
       "    <tr>\n",
       "      <td>1635</td>\n",
       "      <td>2017-12-30</td>\n",
       "      <td>511</td>\n",
       "      <td>15:01:00</td>\n",
       "      <td>Saturday</td>\n",
       "      <td>Emergency Services</td>\n",
       "      <td>43.0</td>\n",
       "      <td>8.0</td>\n",
       "      <td>W/B</td>\n",
       "      <td>NaN</td>\n",
       "    </tr>\n",
       "    <tr>\n",
       "      <td>1674</td>\n",
       "      <td>2017-12-31</td>\n",
       "      <td>504</td>\n",
       "      <td>13:00:00</td>\n",
       "      <td>Sunday</td>\n",
       "      <td>General Delay</td>\n",
       "      <td>5.0</td>\n",
       "      <td>8.0</td>\n",
       "      <td>B/W</td>\n",
       "      <td>NaN</td>\n",
       "    </tr>\n",
       "    <tr>\n",
       "      <td>1693</td>\n",
       "      <td>2017-12-31</td>\n",
       "      <td>501</td>\n",
       "      <td>19:58:00</td>\n",
       "      <td>Sunday</td>\n",
       "      <td>General Delay</td>\n",
       "      <td>7.0</td>\n",
       "      <td>15.0</td>\n",
       "      <td>B/W</td>\n",
       "      <td>NaN</td>\n",
       "    </tr>\n",
       "  </tbody>\n",
       "</table>\n",
       "<p>3950 rows × 9 columns</p>\n",
       "</div>"
      ],
      "text/plain": [
       "     Report Date  Route      Time       Day            Incident  Min Delay  \\\n",
       "13    2014-01-03    501  05:29:00    Friday          Mechanical        4.0   \n",
       "16    2014-01-03    501  05:40:00    Friday          Mechanical        1.0   \n",
       "17    2014-01-03    506  05:47:00    Friday          Mechanical        5.0   \n",
       "19    2014-01-03    506  05:48:00    Friday          Mechanical        5.0   \n",
       "20    2014-01-03    511  05:54:00    Friday          Mechanical        6.0   \n",
       "...          ...    ...       ...       ...                 ...        ...   \n",
       "1591  2017-12-29    504  17:00:00    Friday       General Delay       12.0   \n",
       "1615  2017-12-30    501  09:22:00  Saturday  Utilized Off Route        6.0   \n",
       "1635  2017-12-30    511  15:01:00  Saturday  Emergency Services       43.0   \n",
       "1674  2017-12-31    504  13:00:00    Sunday       General Delay        5.0   \n",
       "1693  2017-12-31    501  19:58:00    Sunday       General Delay        7.0   \n",
       "\n",
       "      Min Gap Direction  Vehicle  \n",
       "13       11.0       W/B      NaN  \n",
       "16        7.0       W/B      NaN  \n",
       "17       11.0       E/B      NaN  \n",
       "19       11.0       E/B      NaN  \n",
       "20       11.0       N/B      NaN  \n",
       "...       ...       ...      ...  \n",
       "1591     16.0       E/B      NaN  \n",
       "1615     12.0       B/W      NaN  \n",
       "1635      8.0       W/B      NaN  \n",
       "1674      8.0       B/W      NaN  \n",
       "1693     15.0       B/W      NaN  \n",
       "\n",
       "[3950 rows x 9 columns]"
      ]
     },
     "execution_count": 30,
     "metadata": {},
     "output_type": "execute_result"
    }
   ],
   "source": [
    "data[data.isna().any(axis=1)]"
   ]
  },
  {
   "cell_type": "code",
   "execution_count": 31,
   "metadata": {},
   "outputs": [
    {
     "data": {
      "text/plain": [
       "(3950, 9)"
      ]
     },
     "execution_count": 31,
     "metadata": {},
     "output_type": "execute_result"
    }
   ],
   "source": [
    "data[data.isna().any(axis=1)].shape"
   ]
  },
  {
   "cell_type": "code",
   "execution_count": 32,
   "metadata": {},
   "outputs": [],
   "source": [
    "data = data.dropna()"
   ]
  },
  {
   "cell_type": "code",
   "execution_count": 33,
   "metadata": {},
   "outputs": [
    {
     "data": {
      "text/plain": [
       "Report Date    False\n",
       "Route          False\n",
       "Time           False\n",
       "Day            False\n",
       "Incident       False\n",
       "Min Delay      False\n",
       "Min Gap        False\n",
       "Direction      False\n",
       "Vehicle        False\n",
       "dtype: bool"
      ]
     },
     "execution_count": 33,
     "metadata": {},
     "output_type": "execute_result"
    }
   ],
   "source": [
    "data.isna().any()"
   ]
  },
  {
   "cell_type": "code",
   "execution_count": 34,
   "metadata": {},
   "outputs": [
    {
     "data": {
      "text/plain": [
       "False"
      ]
     },
     "execution_count": 34,
     "metadata": {},
     "output_type": "execute_result"
    }
   ],
   "source": [
    "data.isna().values.any()"
   ]
  },
  {
   "cell_type": "code",
   "execution_count": 35,
   "metadata": {},
   "outputs": [
    {
     "name": "stdout",
     "output_type": "stream",
     "text": [
      "Number of data containing mising value -  0\n"
     ]
    }
   ],
   "source": [
    "print(\"Number of data containing mising value - \" , data[data.isna().any(axis=1)].shape[0] )"
   ]
  },
  {
   "cell_type": "code",
   "execution_count": 36,
   "metadata": {},
   "outputs": [
    {
     "data": {
      "text/plain": [
       "(46424, 9)"
      ]
     },
     "execution_count": 36,
     "metadata": {},
     "output_type": "execute_result"
    }
   ],
   "source": [
    "data.shape"
   ]
  },
  {
   "cell_type": "markdown",
   "metadata": {},
   "source": [
    "# Adding a Delay column \n",
    "Delay column will have a value of 0 if the value in the Min Delay column is 0 otherwise it will have a value of 1. 0 means no delay. 1 means there are delays."
   ]
  },
  {
   "cell_type": "code",
   "execution_count": 37,
   "metadata": {},
   "outputs": [],
   "source": [
    "data[\"Delay\"] = [0 if x == 0 else 1 for x in data['Min Delay'] ]"
   ]
  },
  {
   "cell_type": "code",
   "execution_count": 38,
   "metadata": {},
   "outputs": [],
   "source": [
    "data = data.drop(columns=['Min Delay'])"
   ]
  },
  {
   "cell_type": "code",
   "execution_count": 39,
   "metadata": {},
   "outputs": [
    {
     "data": {
      "text/html": [
       "<div>\n",
       "<style scoped>\n",
       "    .dataframe tbody tr th:only-of-type {\n",
       "        vertical-align: middle;\n",
       "    }\n",
       "\n",
       "    .dataframe tbody tr th {\n",
       "        vertical-align: top;\n",
       "    }\n",
       "\n",
       "    .dataframe thead th {\n",
       "        text-align: right;\n",
       "    }\n",
       "</style>\n",
       "<table border=\"1\" class=\"dataframe\">\n",
       "  <thead>\n",
       "    <tr style=\"text-align: right;\">\n",
       "      <th></th>\n",
       "      <th>Report Date</th>\n",
       "      <th>Route</th>\n",
       "      <th>Time</th>\n",
       "      <th>Day</th>\n",
       "      <th>Incident</th>\n",
       "      <th>Min Gap</th>\n",
       "      <th>Direction</th>\n",
       "      <th>Vehicle</th>\n",
       "      <th>Delay</th>\n",
       "    </tr>\n",
       "  </thead>\n",
       "  <tbody>\n",
       "    <tr>\n",
       "      <td>0</td>\n",
       "      <td>2014-01-02</td>\n",
       "      <td>505</td>\n",
       "      <td>06:31:00</td>\n",
       "      <td>Thursday</td>\n",
       "      <td>Late Leaving Garage</td>\n",
       "      <td>8.0</td>\n",
       "      <td>E/B</td>\n",
       "      <td>4018.0</td>\n",
       "      <td>1</td>\n",
       "    </tr>\n",
       "    <tr>\n",
       "      <td>1</td>\n",
       "      <td>2014-01-02</td>\n",
       "      <td>504</td>\n",
       "      <td>12:43:00</td>\n",
       "      <td>Thursday</td>\n",
       "      <td>Utilized Off Route</td>\n",
       "      <td>22.0</td>\n",
       "      <td>E/B</td>\n",
       "      <td>4128.0</td>\n",
       "      <td>1</td>\n",
       "    </tr>\n",
       "    <tr>\n",
       "      <td>2</td>\n",
       "      <td>2014-01-02</td>\n",
       "      <td>501</td>\n",
       "      <td>14:01:00</td>\n",
       "      <td>Thursday</td>\n",
       "      <td>Held By</td>\n",
       "      <td>19.0</td>\n",
       "      <td>W/B</td>\n",
       "      <td>4016.0</td>\n",
       "      <td>1</td>\n",
       "    </tr>\n",
       "    <tr>\n",
       "      <td>3</td>\n",
       "      <td>2014-01-02</td>\n",
       "      <td>504</td>\n",
       "      <td>14:22:00</td>\n",
       "      <td>Thursday</td>\n",
       "      <td>Investigation</td>\n",
       "      <td>11.0</td>\n",
       "      <td>W/B</td>\n",
       "      <td>4175.0</td>\n",
       "      <td>1</td>\n",
       "    </tr>\n",
       "    <tr>\n",
       "      <td>4</td>\n",
       "      <td>2014-01-02</td>\n",
       "      <td>504</td>\n",
       "      <td>16:42:00</td>\n",
       "      <td>Thursday</td>\n",
       "      <td>Utilized Off Route</td>\n",
       "      <td>6.0</td>\n",
       "      <td>E/B</td>\n",
       "      <td>4080.0</td>\n",
       "      <td>1</td>\n",
       "    </tr>\n",
       "  </tbody>\n",
       "</table>\n",
       "</div>"
      ],
      "text/plain": [
       "  Report Date  Route      Time       Day             Incident  Min Gap  \\\n",
       "0  2014-01-02    505  06:31:00  Thursday  Late Leaving Garage      8.0   \n",
       "1  2014-01-02    504  12:43:00  Thursday   Utilized Off Route     22.0   \n",
       "2  2014-01-02    501  14:01:00  Thursday              Held By     19.0   \n",
       "3  2014-01-02    504  14:22:00  Thursday        Investigation     11.0   \n",
       "4  2014-01-02    504  16:42:00  Thursday   Utilized Off Route      6.0   \n",
       "\n",
       "  Direction  Vehicle  Delay  \n",
       "0       E/B   4018.0      1  \n",
       "1       E/B   4128.0      1  \n",
       "2       W/B   4016.0      1  \n",
       "3       W/B   4175.0      1  \n",
       "4       E/B   4080.0      1  "
      ]
     },
     "execution_count": 39,
     "metadata": {},
     "output_type": "execute_result"
    }
   ],
   "source": [
    "data.head()"
   ]
  },
  {
   "cell_type": "code",
   "execution_count": 41,
   "metadata": {},
   "outputs": [
    {
     "data": {
      "text/plain": [
       "730"
      ]
     },
     "execution_count": 41,
     "metadata": {},
     "output_type": "execute_result"
    }
   ],
   "source": [
    "no_delay = data[data['Delay'] == 0].shape[0]\n",
    "no_delay"
   ]
  },
  {
   "cell_type": "code",
   "execution_count": 42,
   "metadata": {},
   "outputs": [
    {
     "data": {
      "text/plain": [
       "45694"
      ]
     },
     "execution_count": 42,
     "metadata": {},
     "output_type": "execute_result"
    }
   ],
   "source": [
    "delay = data[data['Delay'] == 1].shape[0]\n",
    "delay"
   ]
  },
  {
   "cell_type": "code",
   "execution_count": 59,
   "metadata": {},
   "outputs": [
    {
     "data": {
      "text/plain": [
       "1    45694\n",
       "0      730\n",
       "Name: Delay, dtype: int64"
      ]
     },
     "execution_count": 59,
     "metadata": {},
     "output_type": "execute_result"
    }
   ],
   "source": [
    "data['Delay'].value_counts()"
   ]
  },
  {
   "cell_type": "code",
   "execution_count": 60,
   "metadata": {},
   "outputs": [
    {
     "data": {
      "image/png": "[encoded data removed]",
      "text/plain": [
       "<Figure size 288x504 with 1 Axes>"
      ]
     },
     "metadata": {
      "needs_background": "light"
     },
     "output_type": "display_data"
    }
   ],
   "source": [
    "fig = plt.figure(figsize=(4, 7))\n",
    "plt.bar(['Delay' , 'No Delay'] , data['Delay'].value_counts() , color='blue')\n",
    "plt.title(\"Delay\")\n",
    "plt.show()"
   ]
  },
  {
   "cell_type": "markdown",
   "metadata": {},
   "source": [
    "### Clean up Direction"
   ]
  },
  {
   "cell_type": "markdown",
   "metadata": {},
   "source": [
    "I will Unified directions. <br> Direction should be categorized and can have 4 valid values: e - for Eastbound, w - for Westbound, s - for Southbound, n - for Northbound. "
   ]
  },
  {
   "cell_type": "code",
   "execution_count": 61,
   "metadata": {},
   "outputs": [],
   "source": [
    "valid_directions = ['e','w','s','n']   "
   ]
  },
  {
   "cell_type": "code",
   "execution_count": 62,
   "metadata": {},
   "outputs": [
    {
     "data": {
      "text/plain": [
       "array(['E/B', 'W/B', 'S/B', 'N/B', 'EB', 'WB', 'B/W', 's', 'NB', 'wb',\n",
       "       'eb', 'w/b', 'ew', 'b/w', 'eastbound', 'w', 'sb', 'southbound',\n",
       "       'northbound', 'Service adjusted.', 'westbound', 'nb', 'b#', 'SB',\n",
       "       'we', 'EW', 'E', 'Service adjusted', 'W', '14', 's/b', '5', 'Bw',\n",
       "       '0', 'sw', '2', '506', '54495', '4075', 'bs', 'wruiter adv',\n",
       "       '(Ref', 'e', '9', 'gap', '1114', 'run', 'ss', '19', '68029',\n",
       "       'eb``', '6', '512', 'W`', 'n/b', '\\\\5', '10', '4', '7', '13',\n",
       "       '-BD#', '30', '`', '510', 'w.b', '\\\\', '26', 'W\\\\B', 'N', '20',\n",
       "       '8', 'e/b', 'ee', '.', 'See also', 'w/B', 'E5'], dtype=object)"
      ]
     },
     "execution_count": 62,
     "metadata": {},
     "output_type": "execute_result"
    }
   ],
   "source": [
    "data['Direction'].unique() "
   ]
  },
  {
   "cell_type": "code",
   "execution_count": 63,
   "metadata": {},
   "outputs": [
    {
     "name": "stdout",
     "output_type": "stream",
     "text": [
      "Number of All Direction from original data set 77\n"
     ]
    }
   ],
   "source": [
    "print( \"Number of All Direction from original data set\", data['Direction'].nunique() )"
   ]
  },
  {
   "cell_type": "code",
   "execution_count": 64,
   "metadata": {},
   "outputs": [],
   "source": [
    "data['Direction'] = data['Direction'].str.lower().str.replace('/','')\n",
    "data['Direction'] = data['Direction'].replace({'eastbound':'e','westbound':'w','southbound':'s','northbound':'n'})\n",
    "data['Direction'] = data['Direction'].replace('b','',regex=True)"
   ]
  },
  {
   "cell_type": "code",
   "execution_count": 65,
   "metadata": {},
   "outputs": [],
   "source": [
    " data = data[data['Direction'].isin(valid_directions)]"
   ]
  },
  {
   "cell_type": "code",
   "execution_count": 66,
   "metadata": {},
   "outputs": [
    {
     "name": "stdout",
     "output_type": "stream",
     "text": [
      "Direction after cleanup ['e' 'w' 's' 'n']\n"
     ]
    }
   ],
   "source": [
    "print( \"Direction after cleanup\", data['Direction'].unique() )"
   ]
  },
  {
   "cell_type": "code",
   "execution_count": 67,
   "metadata": {},
   "outputs": [
    {
     "data": {
      "text/html": [
       "<div>\n",
       "<style scoped>\n",
       "    .dataframe tbody tr th:only-of-type {\n",
       "        vertical-align: middle;\n",
       "    }\n",
       "\n",
       "    .dataframe tbody tr th {\n",
       "        vertical-align: top;\n",
       "    }\n",
       "\n",
       "    .dataframe thead th {\n",
       "        text-align: right;\n",
       "    }\n",
       "</style>\n",
       "<table border=\"1\" class=\"dataframe\">\n",
       "  <thead>\n",
       "    <tr style=\"text-align: right;\">\n",
       "      <th></th>\n",
       "      <th>Report Date</th>\n",
       "      <th>Route</th>\n",
       "      <th>Time</th>\n",
       "      <th>Day</th>\n",
       "      <th>Incident</th>\n",
       "      <th>Min Gap</th>\n",
       "      <th>Direction</th>\n",
       "      <th>Vehicle</th>\n",
       "      <th>Delay</th>\n",
       "    </tr>\n",
       "  </thead>\n",
       "  <tbody>\n",
       "    <tr>\n",
       "      <td>0</td>\n",
       "      <td>2014-01-02</td>\n",
       "      <td>505</td>\n",
       "      <td>06:31:00</td>\n",
       "      <td>Thursday</td>\n",
       "      <td>Late Leaving Garage</td>\n",
       "      <td>8.0</td>\n",
       "      <td>e</td>\n",
       "      <td>4018.0</td>\n",
       "      <td>1</td>\n",
       "    </tr>\n",
       "    <tr>\n",
       "      <td>1</td>\n",
       "      <td>2014-01-02</td>\n",
       "      <td>504</td>\n",
       "      <td>12:43:00</td>\n",
       "      <td>Thursday</td>\n",
       "      <td>Utilized Off Route</td>\n",
       "      <td>22.0</td>\n",
       "      <td>e</td>\n",
       "      <td>4128.0</td>\n",
       "      <td>1</td>\n",
       "    </tr>\n",
       "    <tr>\n",
       "      <td>2</td>\n",
       "      <td>2014-01-02</td>\n",
       "      <td>501</td>\n",
       "      <td>14:01:00</td>\n",
       "      <td>Thursday</td>\n",
       "      <td>Held By</td>\n",
       "      <td>19.0</td>\n",
       "      <td>w</td>\n",
       "      <td>4016.0</td>\n",
       "      <td>1</td>\n",
       "    </tr>\n",
       "    <tr>\n",
       "      <td>3</td>\n",
       "      <td>2014-01-02</td>\n",
       "      <td>504</td>\n",
       "      <td>14:22:00</td>\n",
       "      <td>Thursday</td>\n",
       "      <td>Investigation</td>\n",
       "      <td>11.0</td>\n",
       "      <td>w</td>\n",
       "      <td>4175.0</td>\n",
       "      <td>1</td>\n",
       "    </tr>\n",
       "    <tr>\n",
       "      <td>4</td>\n",
       "      <td>2014-01-02</td>\n",
       "      <td>504</td>\n",
       "      <td>16:42:00</td>\n",
       "      <td>Thursday</td>\n",
       "      <td>Utilized Off Route</td>\n",
       "      <td>6.0</td>\n",
       "      <td>e</td>\n",
       "      <td>4080.0</td>\n",
       "      <td>1</td>\n",
       "    </tr>\n",
       "    <tr>\n",
       "      <td>...</td>\n",
       "      <td>...</td>\n",
       "      <td>...</td>\n",
       "      <td>...</td>\n",
       "      <td>...</td>\n",
       "      <td>...</td>\n",
       "      <td>...</td>\n",
       "      <td>...</td>\n",
       "      <td>...</td>\n",
       "      <td>...</td>\n",
       "    </tr>\n",
       "    <tr>\n",
       "      <td>1692</td>\n",
       "      <td>2017-12-31</td>\n",
       "      <td>505</td>\n",
       "      <td>17:42:00</td>\n",
       "      <td>Sunday</td>\n",
       "      <td>Held By</td>\n",
       "      <td>16.0</td>\n",
       "      <td>e</td>\n",
       "      <td>4164.0</td>\n",
       "      <td>1</td>\n",
       "    </tr>\n",
       "    <tr>\n",
       "      <td>1694</td>\n",
       "      <td>2017-12-31</td>\n",
       "      <td>501</td>\n",
       "      <td>21:15:00</td>\n",
       "      <td>Sunday</td>\n",
       "      <td>Mechanical</td>\n",
       "      <td>24.0</td>\n",
       "      <td>w</td>\n",
       "      <td>4110.0</td>\n",
       "      <td>1</td>\n",
       "    </tr>\n",
       "    <tr>\n",
       "      <td>1695</td>\n",
       "      <td>2017-12-31</td>\n",
       "      <td>501</td>\n",
       "      <td>21:44:00</td>\n",
       "      <td>Sunday</td>\n",
       "      <td>Mechanical</td>\n",
       "      <td>24.0</td>\n",
       "      <td>w</td>\n",
       "      <td>1419.0</td>\n",
       "      <td>1</td>\n",
       "    </tr>\n",
       "    <tr>\n",
       "      <td>1696</td>\n",
       "      <td>2017-12-31</td>\n",
       "      <td>510</td>\n",
       "      <td>22:15:00</td>\n",
       "      <td>Sunday</td>\n",
       "      <td>Mechanical</td>\n",
       "      <td>10.0</td>\n",
       "      <td>s</td>\n",
       "      <td>4447.0</td>\n",
       "      <td>1</td>\n",
       "    </tr>\n",
       "    <tr>\n",
       "      <td>1697</td>\n",
       "      <td>2017-12-31</td>\n",
       "      <td>505</td>\n",
       "      <td>22:30:00</td>\n",
       "      <td>Sunday</td>\n",
       "      <td>Mechanical</td>\n",
       "      <td>16.0</td>\n",
       "      <td>n</td>\n",
       "      <td>4167.0</td>\n",
       "      <td>1</td>\n",
       "    </tr>\n",
       "  </tbody>\n",
       "</table>\n",
       "<p>46364 rows × 9 columns</p>\n",
       "</div>"
      ],
      "text/plain": [
       "     Report Date  Route      Time       Day             Incident  Min Gap  \\\n",
       "0     2014-01-02    505  06:31:00  Thursday  Late Leaving Garage      8.0   \n",
       "1     2014-01-02    504  12:43:00  Thursday   Utilized Off Route     22.0   \n",
       "2     2014-01-02    501  14:01:00  Thursday              Held By     19.0   \n",
       "3     2014-01-02    504  14:22:00  Thursday        Investigation     11.0   \n",
       "4     2014-01-02    504  16:42:00  Thursday   Utilized Off Route      6.0   \n",
       "...          ...    ...       ...       ...                  ...      ...   \n",
       "1692  2017-12-31    505  17:42:00    Sunday              Held By     16.0   \n",
       "1694  2017-12-31    501  21:15:00    Sunday           Mechanical     24.0   \n",
       "1695  2017-12-31    501  21:44:00    Sunday           Mechanical     24.0   \n",
       "1696  2017-12-31    510  22:15:00    Sunday           Mechanical     10.0   \n",
       "1697  2017-12-31    505  22:30:00    Sunday           Mechanical     16.0   \n",
       "\n",
       "     Direction  Vehicle  Delay  \n",
       "0            e   4018.0      1  \n",
       "1            e   4128.0      1  \n",
       "2            w   4016.0      1  \n",
       "3            w   4175.0      1  \n",
       "4            e   4080.0      1  \n",
       "...        ...      ...    ...  \n",
       "1692         e   4164.0      1  \n",
       "1694         w   4110.0      1  \n",
       "1695         w   1419.0      1  \n",
       "1696         s   4447.0      1  \n",
       "1697         n   4167.0      1  \n",
       "\n",
       "[46364 rows x 9 columns]"
      ]
     },
     "execution_count": 67,
     "metadata": {},
     "output_type": "execute_result"
    }
   ],
   "source": [
    "data"
   ]
  },
  {
   "cell_type": "markdown",
   "metadata": {},
   "source": [
    "### Delay by days"
   ]
  },
  {
   "cell_type": "code",
   "execution_count": 68,
   "metadata": {},
   "outputs": [],
   "source": [
    "Monday = data[data['Day'] == 'Monday']['Delay']\n",
    "Tuesday = data[data['Day'] == 'Tuesday']['Delay']\n",
    "Wednesday = data[data['Day'] == 'Wednesday']['Delay']\n",
    "Thursday = data[data['Day'] == 'Thursday']['Delay']\n",
    "Friday = data[data['Day'] == 'Friday']['Delay']\n",
    "Saturday = data[data['Day'] == 'Saturday']['Delay']\n",
    "Sunday = data[data['Day'] == 'Sunday']['Delay']"
   ]
  },
  {
   "cell_type": "code",
   "execution_count": 69,
   "metadata": {},
   "outputs": [
    {
     "data": {
      "image/png": "[encoded data removed]",
      "text/plain": [
       "<Figure size 720x504 with 1 Axes>"
      ]
     },
     "metadata": {
      "needs_background": "light"
     },
     "output_type": "display_data"
    }
   ],
   "source": [
    "fig = plt.figure(figsize=(10, 7))\n",
    "  \n",
    "plt.title(\"Delay by Days\")\n",
    "plt.xticks([])         \n",
    "plt.xlabel('No Delay                                                                                       Delay ', fontsize = 15)\n",
    "plt.hist([Thursday , Friday , Wednesday , Tuesday , Monday , Saturday , Sunday ], color=['red', 'blue', 'orange','green', 'yellow', 'black', 'purple'], label=['Thursday' , 'Friday' , 'Wednesday' , 'Tuesday' , 'Monday' , 'Saturday' , 'Sunday'])\n",
    "plt.legend(loc='best')\n",
    "plt.show()"
   ]
  },
  {
   "cell_type": "markdown",
   "metadata": {},
   "source": [
    "### Delay after Incidents"
   ]
  },
  {
   "cell_type": "code",
   "execution_count": 70,
   "metadata": {},
   "outputs": [
    {
     "data": {
      "text/plain": [
       "array(['Late Leaving Garage', 'Utilized Off Route', 'Held By',\n",
       "       'Investigation', 'Mechanical', 'Emergency Services', 'Diversion',\n",
       "       'General Delay', 'Overhead - Pantograph'], dtype=object)"
      ]
     },
     "execution_count": 70,
     "metadata": {},
     "output_type": "execute_result"
    }
   ],
   "source": [
    "data['Incident'].unique()"
   ]
  },
  {
   "cell_type": "code",
   "execution_count": 71,
   "metadata": {},
   "outputs": [],
   "source": [
    "Late_Leaving_Garage = data[data['Incident'] == 'Late Leaving Garage']['Delay']\n",
    "Utilized_Off_Route = data[data['Incident'] == 'Utilized Off Route']['Delay']\n",
    "Held_By = data[data['Incident'] == 'Held By']['Delay']\n",
    "Investigation = data[data['Incident'] == 'Investigation']['Delay']\n",
    "Mechanical = data[data['Incident'] == 'Mechanical']['Delay']\n",
    "Emergency_Services = data[data['Incident'] == 'Emergency Services']['Delay']\n",
    "Diversion = data[data['Incident'] == 'Diversion']['Delay']\n",
    "General_Delay = data[data['Incident'] == 'General Delay']['Delay']\n",
    "Overhead_Pantograph = data[data['Incident'] == 'Overhead - Pantograph']['Delay']"
   ]
  },
  {
   "cell_type": "code",
   "execution_count": 72,
   "metadata": {},
   "outputs": [
    {
     "data": {
      "image/png": "[encoded data removed]",
      "text/plain": [
       "<Figure size 1224x576 with 1 Axes>"
      ]
     },
     "metadata": {
      "needs_background": "light"
     },
     "output_type": "display_data"
    }
   ],
   "source": [
    "fig = plt.figure(figsize=(17, 8))\n",
    "  \n",
    "plt.title(\"Delay after Incidents\")\n",
    "plt.xticks([])         \n",
    "plt.xlabel('No Delay                                                                                                                                                        Delay ', fontsize = 15)\n",
    "plt.hist([Late_Leaving_Garage , Utilized_Off_Route , Held_By , Investigation , Mechanical , Emergency_Services , Diversion, General_Delay, Overhead_Pantograph], color=['red', 'blue', 'orange','green', 'yellow', 'black', 'purple', 'grey', 'darkblue'], label=['Late Leaving Garage' , 'Utilized Off Route' , 'Held By' , 'Investigation' , 'Mechanical' , 'Emergency_Services' , 'Diversion', 'General Delay', 'Overhead Pantograph'])\n",
    "plt.legend(loc='best')\n",
    "plt.show()"
   ]
  },
  {
   "cell_type": "markdown",
   "metadata": {},
   "source": [
    "### Delay by Direction"
   ]
  },
  {
   "cell_type": "code",
   "execution_count": 73,
   "metadata": {},
   "outputs": [],
   "source": [
    "Eastbound = data[data['Direction'] == 'e']['Delay']\n",
    "Westbound = data[data['Direction'] == 'w']['Delay']\n",
    "Southbound = data[data['Direction'] == 's']['Delay']\n",
    "Northbound = data[data['Direction'] == 'n']['Delay']"
   ]
  },
  {
   "cell_type": "code",
   "execution_count": 74,
   "metadata": {},
   "outputs": [
    {
     "data": {
      "image/png": "[encoded data removed]",
      "text/plain": [
       "<Figure size 720x504 with 1 Axes>"
      ]
     },
     "metadata": {
      "needs_background": "light"
     },
     "output_type": "display_data"
    }
   ],
   "source": [
    "plt.figure(figsize=(10, 7))  \n",
    "plt.title(\"Delay by Direction\")\n",
    "plt.xticks([])         \n",
    "plt.xlabel('No Delay                                                                                       Delay ', fontsize = 15)\n",
    "plt.hist([Eastbound, Westbound, Southbound, Northbound], color=['red', 'blue', 'orange','green'], label=['Eastbound', 'Westbound', 'Southbound', 'Northbound'])\n",
    "plt.legend(loc='best')\n",
    "plt.show()"
   ]
  },
  {
   "cell_type": "markdown",
   "metadata": {},
   "source": [
    "### Conversion of values in columns Vehicle and Min Gap to int"
   ]
  },
  {
   "cell_type": "code",
   "execution_count": 75,
   "metadata": {},
   "outputs": [],
   "source": [
    "data = data.astype({ \"Vehicle\": int, \"Min Gap\": int })"
   ]
  },
  {
   "cell_type": "code",
   "execution_count": 76,
   "metadata": {},
   "outputs": [
    {
     "data": {
      "text/html": [
       "<div>\n",
       "<style scoped>\n",
       "    .dataframe tbody tr th:only-of-type {\n",
       "        vertical-align: middle;\n",
       "    }\n",
       "\n",
       "    .dataframe tbody tr th {\n",
       "        vertical-align: top;\n",
       "    }\n",
       "\n",
       "    .dataframe thead th {\n",
       "        text-align: right;\n",
       "    }\n",
       "</style>\n",
       "<table border=\"1\" class=\"dataframe\">\n",
       "  <thead>\n",
       "    <tr style=\"text-align: right;\">\n",
       "      <th></th>\n",
       "      <th>Report Date</th>\n",
       "      <th>Route</th>\n",
       "      <th>Time</th>\n",
       "      <th>Day</th>\n",
       "      <th>Incident</th>\n",
       "      <th>Min Gap</th>\n",
       "      <th>Direction</th>\n",
       "      <th>Vehicle</th>\n",
       "      <th>Delay</th>\n",
       "    </tr>\n",
       "  </thead>\n",
       "  <tbody>\n",
       "    <tr>\n",
       "      <td>0</td>\n",
       "      <td>2014-01-02</td>\n",
       "      <td>505</td>\n",
       "      <td>06:31:00</td>\n",
       "      <td>Thursday</td>\n",
       "      <td>Late Leaving Garage</td>\n",
       "      <td>8</td>\n",
       "      <td>e</td>\n",
       "      <td>4018</td>\n",
       "      <td>1</td>\n",
       "    </tr>\n",
       "    <tr>\n",
       "      <td>1</td>\n",
       "      <td>2014-01-02</td>\n",
       "      <td>504</td>\n",
       "      <td>12:43:00</td>\n",
       "      <td>Thursday</td>\n",
       "      <td>Utilized Off Route</td>\n",
       "      <td>22</td>\n",
       "      <td>e</td>\n",
       "      <td>4128</td>\n",
       "      <td>1</td>\n",
       "    </tr>\n",
       "    <tr>\n",
       "      <td>2</td>\n",
       "      <td>2014-01-02</td>\n",
       "      <td>501</td>\n",
       "      <td>14:01:00</td>\n",
       "      <td>Thursday</td>\n",
       "      <td>Held By</td>\n",
       "      <td>19</td>\n",
       "      <td>w</td>\n",
       "      <td>4016</td>\n",
       "      <td>1</td>\n",
       "    </tr>\n",
       "    <tr>\n",
       "      <td>3</td>\n",
       "      <td>2014-01-02</td>\n",
       "      <td>504</td>\n",
       "      <td>14:22:00</td>\n",
       "      <td>Thursday</td>\n",
       "      <td>Investigation</td>\n",
       "      <td>11</td>\n",
       "      <td>w</td>\n",
       "      <td>4175</td>\n",
       "      <td>1</td>\n",
       "    </tr>\n",
       "    <tr>\n",
       "      <td>4</td>\n",
       "      <td>2014-01-02</td>\n",
       "      <td>504</td>\n",
       "      <td>16:42:00</td>\n",
       "      <td>Thursday</td>\n",
       "      <td>Utilized Off Route</td>\n",
       "      <td>6</td>\n",
       "      <td>e</td>\n",
       "      <td>4080</td>\n",
       "      <td>1</td>\n",
       "    </tr>\n",
       "  </tbody>\n",
       "</table>\n",
       "</div>"
      ],
      "text/plain": [
       "  Report Date  Route      Time       Day             Incident  Min Gap  \\\n",
       "0  2014-01-02    505  06:31:00  Thursday  Late Leaving Garage        8   \n",
       "1  2014-01-02    504  12:43:00  Thursday   Utilized Off Route       22   \n",
       "2  2014-01-02    501  14:01:00  Thursday              Held By       19   \n",
       "3  2014-01-02    504  14:22:00  Thursday        Investigation       11   \n",
       "4  2014-01-02    504  16:42:00  Thursday   Utilized Off Route        6   \n",
       "\n",
       "  Direction  Vehicle  Delay  \n",
       "0         e     4018      1  \n",
       "1         e     4128      1  \n",
       "2         w     4016      1  \n",
       "3         w     4175      1  \n",
       "4         e     4080      1  "
      ]
     },
     "execution_count": 76,
     "metadata": {},
     "output_type": "execute_result"
    }
   ],
   "source": [
    "data.head()"
   ]
  },
  {
   "cell_type": "code",
   "execution_count": 77,
   "metadata": {},
   "outputs": [
    {
     "name": "stdout",
     "output_type": "stream",
     "text": [
      "<class 'pandas.core.frame.DataFrame'>\n",
      "Int64Index: 46364 entries, 0 to 1697\n",
      "Data columns (total 9 columns):\n",
      "Report Date    46364 non-null datetime64[ns]\n",
      "Route          46364 non-null int64\n",
      "Time           46364 non-null object\n",
      "Day            46364 non-null object\n",
      "Incident       46364 non-null object\n",
      "Min Gap        46364 non-null int32\n",
      "Direction      46364 non-null object\n",
      "Vehicle        46364 non-null int32\n",
      "Delay          46364 non-null int64\n",
      "dtypes: datetime64[ns](1), int32(2), int64(2), object(4)\n",
      "memory usage: 3.2+ MB\n"
     ]
    }
   ],
   "source": [
    "data.info()"
   ]
  },
  {
   "cell_type": "markdown",
   "metadata": {},
   "source": [
    "### Clean up Route"
   ]
  },
  {
   "cell_type": "markdown",
   "metadata": {},
   "source": [
    "I will remove data with invalid routes that are not in full list of currently used routes by the Toronto streetcar system "
   ]
  },
  {
   "cell_type": "code",
   "execution_count": 78,
   "metadata": {},
   "outputs": [],
   "source": [
    "valid_routes = ['501','502','503','504','505','506','509','510','511','512','301','304','306','310']"
   ]
  },
  {
   "cell_type": "code",
   "execution_count": 79,
   "metadata": {},
   "outputs": [
    {
     "data": {
      "text/plain": [
       "14"
      ]
     },
     "execution_count": 79,
     "metadata": {},
     "output_type": "execute_result"
    }
   ],
   "source": [
    "len(valid_routes)"
   ]
  },
  {
   "cell_type": "code",
   "execution_count": 80,
   "metadata": {},
   "outputs": [
    {
     "data": {
      "text/plain": [
       "array([505, 504, 501, 510, 512, 511, 506, 503, 502, 509, 301, 401, 905,\n",
       "       508,  25,   2,  50, 805, 306, 111,  23,  35,  18,  51,   5,  62,\n",
       "        57,   4, 405, 500,  68,  20,   8,  63, 201,  65, 210, 204,   9,\n",
       "        17,  21,  33,  24,  49,  40, 550,  12, 375,   1,   7, 807,   3,\n",
       "       804,  16,  45,  10, 536,  93, 304,  41,  37,  11, 205, 317,  13,\n",
       "        22, 535,  14,  83, 514,  81,  15,  55, 999, 519,  43,   6,  56,\n",
       "        19, 830, 705,  61,  80,  26,  29, 516,  54, 595, 596, 310,  64,\n",
       "        87, 591], dtype=int64)"
      ]
     },
     "execution_count": 80,
     "metadata": {},
     "output_type": "execute_result"
    }
   ],
   "source": [
    "data['Route'].unique()"
   ]
  },
  {
   "cell_type": "code",
   "execution_count": 81,
   "metadata": {},
   "outputs": [
    {
     "data": {
      "text/plain": [
       "93"
      ]
     },
     "execution_count": 81,
     "metadata": {},
     "output_type": "execute_result"
    }
   ],
   "source": [
    "data['Route'].nunique()"
   ]
  },
  {
   "cell_type": "code",
   "execution_count": 82,
   "metadata": {},
   "outputs": [],
   "source": [
    "data = data[data['Route'].isin(valid_routes)]"
   ]
  },
  {
   "cell_type": "code",
   "execution_count": 83,
   "metadata": {},
   "outputs": [
    {
     "data": {
      "text/plain": [
       "array([505, 504, 501, 510, 512, 511, 506, 503, 502, 509, 301, 306, 304,\n",
       "       310], dtype=int64)"
      ]
     },
     "execution_count": 83,
     "metadata": {},
     "output_type": "execute_result"
    }
   ],
   "source": [
    "data['Route'].unique()"
   ]
  },
  {
   "cell_type": "code",
   "execution_count": 84,
   "metadata": {},
   "outputs": [
    {
     "data": {
      "text/plain": [
       "14"
      ]
     },
     "execution_count": 84,
     "metadata": {},
     "output_type": "execute_result"
    }
   ],
   "source": [
    "data['Route'].nunique()"
   ]
  },
  {
   "cell_type": "code",
   "execution_count": 85,
   "metadata": {},
   "outputs": [
    {
     "data": {
      "text/plain": [
       "(45044, 9)"
      ]
     },
     "execution_count": 85,
     "metadata": {},
     "output_type": "execute_result"
    }
   ],
   "source": [
    "data.shape"
   ]
  },
  {
   "cell_type": "markdown",
   "metadata": {},
   "source": [
    "### One - hot encoding"
   ]
  },
  {
   "cell_type": "markdown",
   "metadata": {},
   "source": [
    "In machine learning, one-hot encoding is a frequently used method to deal with categorical data. Because many machine learning models need their input variables to be numeric I will transform categorical variables Direction, Incident and Day using one-hot encoding."
   ]
  },
  {
   "cell_type": "code",
   "execution_count": 86,
   "metadata": {},
   "outputs": [
    {
     "data": {
      "text/plain": [
       "w    19668\n",
       "e    18319\n",
       "n     3686\n",
       "s     3371\n",
       "Name: Direction, dtype: int64"
      ]
     },
     "execution_count": 86,
     "metadata": {},
     "output_type": "execute_result"
    }
   ],
   "source": [
    "data['Direction'].value_counts()"
   ]
  },
  {
   "cell_type": "code",
   "execution_count": 87,
   "metadata": {},
   "outputs": [
    {
     "data": {
      "image/png": "[encoded data removed]",
      "text/plain": [
       "<Figure size 576x288 with 1 Axes>"
      ]
     },
     "metadata": {
      "needs_background": "light"
     },
     "output_type": "display_data"
    }
   ],
   "source": [
    "fig = plt.figure(figsize=(8, 4))\n",
    "plt.bar(data['Direction'].value_counts().index, data['Direction'].value_counts().values, color='blue')\n",
    "plt.xlabel(\"Directions\")\n",
    "plt.ylabel(\"Number of data\")\n",
    "plt.title(\"Different direction\")\n",
    "plt.show()"
   ]
  },
  {
   "cell_type": "code",
   "execution_count": 88,
   "metadata": {},
   "outputs": [],
   "source": [
    "data = pd.get_dummies(data, columns=['Direction'])"
   ]
  },
  {
   "cell_type": "code",
   "execution_count": null,
   "metadata": {},
   "outputs": [],
   "source": []
  },
  {
   "cell_type": "code",
   "execution_count": 89,
   "metadata": {},
   "outputs": [
    {
     "data": {
      "text/plain": [
       "Mechanical               23368\n",
       "Investigation             6324\n",
       "Held By                   5581\n",
       "Late Leaving Garage       4699\n",
       "Utilized Off Route        1593\n",
       "General Delay             1535\n",
       "Emergency Services        1310\n",
       "Diversion                  627\n",
       "Overhead - Pantograph        7\n",
       "Name: Incident, dtype: int64"
      ]
     },
     "execution_count": 89,
     "metadata": {},
     "output_type": "execute_result"
    }
   ],
   "source": [
    "data['Incident'].value_counts()"
   ]
  },
  {
   "cell_type": "code",
   "execution_count": 90,
   "metadata": {},
   "outputs": [
    {
     "data": {
      "image/png": "[encoded data removed]",
      "text/plain": [
       "<Figure size 576x288 with 1 Axes>"
      ]
     },
     "metadata": {
      "needs_background": "light"
     },
     "output_type": "display_data"
    }
   ],
   "source": [
    "fig = plt.figure(figsize=(8, 4))\n",
    "plt.barh(data['Incident'].value_counts().index, data['Incident'].value_counts().values, color='red')  \n",
    "plt.xlabel(\"Number of data that contains different Incident\")\n",
    "plt.ylabel(\"Type of incidents\")\n",
    "plt.title(\"Different Incident\")\n",
    "plt.show()"
   ]
  },
  {
   "cell_type": "code",
   "execution_count": 91,
   "metadata": {},
   "outputs": [],
   "source": [
    "data = pd.get_dummies(data, columns=['Incident'])"
   ]
  },
  {
   "cell_type": "code",
   "execution_count": null,
   "metadata": {},
   "outputs": [],
   "source": []
  },
  {
   "cell_type": "code",
   "execution_count": 92,
   "metadata": {},
   "outputs": [
    {
     "data": {
      "text/plain": [
       "Thursday     7473\n",
       "Friday       7127\n",
       "Wednesday    7116\n",
       "Tuesday      7094\n",
       "Monday       6624\n",
       "Saturday     5087\n",
       "Sunday       4523\n",
       "Name: Day, dtype: int64"
      ]
     },
     "execution_count": 92,
     "metadata": {},
     "output_type": "execute_result"
    }
   ],
   "source": [
    "data['Day'].value_counts()"
   ]
  },
  {
   "cell_type": "code",
   "execution_count": 93,
   "metadata": {},
   "outputs": [
    {
     "data": {
      "image/png": "[encoded data removed]",
      "text/plain": [
       "<Figure size 720x288 with 1 Axes>"
      ]
     },
     "metadata": {
      "needs_background": "light"
     },
     "output_type": "display_data"
    }
   ],
   "source": [
    "fig = plt.figure(figsize=(10, 4))\n",
    "plt.bar(data['Day'].value_counts().index, data['Day'].value_counts().values, color='green') \n",
    "plt.xlabel(\"Day\")\n",
    "plt.ylabel(\"Number of data\")\n",
    "plt.title(\"Different day\")\n",
    "plt.show()"
   ]
  },
  {
   "cell_type": "code",
   "execution_count": 94,
   "metadata": {},
   "outputs": [],
   "source": [
    "data = pd.get_dummies(data, columns=['Day'])"
   ]
  },
  {
   "cell_type": "code",
   "execution_count": 95,
   "metadata": {},
   "outputs": [
    {
     "data": {
      "text/html": [
       "<div>\n",
       "<style scoped>\n",
       "    .dataframe tbody tr th:only-of-type {\n",
       "        vertical-align: middle;\n",
       "    }\n",
       "\n",
       "    .dataframe tbody tr th {\n",
       "        vertical-align: top;\n",
       "    }\n",
       "\n",
       "    .dataframe thead th {\n",
       "        text-align: right;\n",
       "    }\n",
       "</style>\n",
       "<table border=\"1\" class=\"dataframe\">\n",
       "  <thead>\n",
       "    <tr style=\"text-align: right;\">\n",
       "      <th></th>\n",
       "      <th>Report Date</th>\n",
       "      <th>Route</th>\n",
       "      <th>Time</th>\n",
       "      <th>Min Gap</th>\n",
       "      <th>Vehicle</th>\n",
       "      <th>Delay</th>\n",
       "      <th>Direction_e</th>\n",
       "      <th>Direction_n</th>\n",
       "      <th>Direction_s</th>\n",
       "      <th>Direction_w</th>\n",
       "      <th>...</th>\n",
       "      <th>Incident_Mechanical</th>\n",
       "      <th>Incident_Overhead - Pantograph</th>\n",
       "      <th>Incident_Utilized Off Route</th>\n",
       "      <th>Day_Friday</th>\n",
       "      <th>Day_Monday</th>\n",
       "      <th>Day_Saturday</th>\n",
       "      <th>Day_Sunday</th>\n",
       "      <th>Day_Thursday</th>\n",
       "      <th>Day_Tuesday</th>\n",
       "      <th>Day_Wednesday</th>\n",
       "    </tr>\n",
       "  </thead>\n",
       "  <tbody>\n",
       "    <tr>\n",
       "      <td>0</td>\n",
       "      <td>2014-01-02</td>\n",
       "      <td>505</td>\n",
       "      <td>06:31:00</td>\n",
       "      <td>8</td>\n",
       "      <td>4018</td>\n",
       "      <td>1</td>\n",
       "      <td>1</td>\n",
       "      <td>0</td>\n",
       "      <td>0</td>\n",
       "      <td>0</td>\n",
       "      <td>...</td>\n",
       "      <td>0</td>\n",
       "      <td>0</td>\n",
       "      <td>0</td>\n",
       "      <td>0</td>\n",
       "      <td>0</td>\n",
       "      <td>0</td>\n",
       "      <td>0</td>\n",
       "      <td>1</td>\n",
       "      <td>0</td>\n",
       "      <td>0</td>\n",
       "    </tr>\n",
       "    <tr>\n",
       "      <td>1</td>\n",
       "      <td>2014-01-02</td>\n",
       "      <td>504</td>\n",
       "      <td>12:43:00</td>\n",
       "      <td>22</td>\n",
       "      <td>4128</td>\n",
       "      <td>1</td>\n",
       "      <td>1</td>\n",
       "      <td>0</td>\n",
       "      <td>0</td>\n",
       "      <td>0</td>\n",
       "      <td>...</td>\n",
       "      <td>0</td>\n",
       "      <td>0</td>\n",
       "      <td>1</td>\n",
       "      <td>0</td>\n",
       "      <td>0</td>\n",
       "      <td>0</td>\n",
       "      <td>0</td>\n",
       "      <td>1</td>\n",
       "      <td>0</td>\n",
       "      <td>0</td>\n",
       "    </tr>\n",
       "    <tr>\n",
       "      <td>2</td>\n",
       "      <td>2014-01-02</td>\n",
       "      <td>501</td>\n",
       "      <td>14:01:00</td>\n",
       "      <td>19</td>\n",
       "      <td>4016</td>\n",
       "      <td>1</td>\n",
       "      <td>0</td>\n",
       "      <td>0</td>\n",
       "      <td>0</td>\n",
       "      <td>1</td>\n",
       "      <td>...</td>\n",
       "      <td>0</td>\n",
       "      <td>0</td>\n",
       "      <td>0</td>\n",
       "      <td>0</td>\n",
       "      <td>0</td>\n",
       "      <td>0</td>\n",
       "      <td>0</td>\n",
       "      <td>1</td>\n",
       "      <td>0</td>\n",
       "      <td>0</td>\n",
       "    </tr>\n",
       "    <tr>\n",
       "      <td>3</td>\n",
       "      <td>2014-01-02</td>\n",
       "      <td>504</td>\n",
       "      <td>14:22:00</td>\n",
       "      <td>11</td>\n",
       "      <td>4175</td>\n",
       "      <td>1</td>\n",
       "      <td>0</td>\n",
       "      <td>0</td>\n",
       "      <td>0</td>\n",
       "      <td>1</td>\n",
       "      <td>...</td>\n",
       "      <td>0</td>\n",
       "      <td>0</td>\n",
       "      <td>0</td>\n",
       "      <td>0</td>\n",
       "      <td>0</td>\n",
       "      <td>0</td>\n",
       "      <td>0</td>\n",
       "      <td>1</td>\n",
       "      <td>0</td>\n",
       "      <td>0</td>\n",
       "    </tr>\n",
       "    <tr>\n",
       "      <td>4</td>\n",
       "      <td>2014-01-02</td>\n",
       "      <td>504</td>\n",
       "      <td>16:42:00</td>\n",
       "      <td>6</td>\n",
       "      <td>4080</td>\n",
       "      <td>1</td>\n",
       "      <td>1</td>\n",
       "      <td>0</td>\n",
       "      <td>0</td>\n",
       "      <td>0</td>\n",
       "      <td>...</td>\n",
       "      <td>0</td>\n",
       "      <td>0</td>\n",
       "      <td>1</td>\n",
       "      <td>0</td>\n",
       "      <td>0</td>\n",
       "      <td>0</td>\n",
       "      <td>0</td>\n",
       "      <td>1</td>\n",
       "      <td>0</td>\n",
       "      <td>0</td>\n",
       "    </tr>\n",
       "  </tbody>\n",
       "</table>\n",
       "<p>5 rows × 26 columns</p>\n",
       "</div>"
      ],
      "text/plain": [
       "  Report Date  Route      Time  Min Gap  Vehicle  Delay  Direction_e  \\\n",
       "0  2014-01-02    505  06:31:00        8     4018      1            1   \n",
       "1  2014-01-02    504  12:43:00       22     4128      1            1   \n",
       "2  2014-01-02    501  14:01:00       19     4016      1            0   \n",
       "3  2014-01-02    504  14:22:00       11     4175      1            0   \n",
       "4  2014-01-02    504  16:42:00        6     4080      1            1   \n",
       "\n",
       "   Direction_n  Direction_s  Direction_w  ...  Incident_Mechanical  \\\n",
       "0            0            0            0  ...                    0   \n",
       "1            0            0            0  ...                    0   \n",
       "2            0            0            1  ...                    0   \n",
       "3            0            0            1  ...                    0   \n",
       "4            0            0            0  ...                    0   \n",
       "\n",
       "   Incident_Overhead - Pantograph  Incident_Utilized Off Route  Day_Friday  \\\n",
       "0                               0                            0           0   \n",
       "1                               0                            1           0   \n",
       "2                               0                            0           0   \n",
       "3                               0                            0           0   \n",
       "4                               0                            1           0   \n",
       "\n",
       "   Day_Monday  Day_Saturday  Day_Sunday  Day_Thursday  Day_Tuesday  \\\n",
       "0           0             0           0             1            0   \n",
       "1           0             0           0             1            0   \n",
       "2           0             0           0             1            0   \n",
       "3           0             0           0             1            0   \n",
       "4           0             0           0             1            0   \n",
       "\n",
       "   Day_Wednesday  \n",
       "0              0  \n",
       "1              0  \n",
       "2              0  \n",
       "3              0  \n",
       "4              0  \n",
       "\n",
       "[5 rows x 26 columns]"
      ]
     },
     "execution_count": 95,
     "metadata": {},
     "output_type": "execute_result"
    }
   ],
   "source": [
    "data.head()"
   ]
  },
  {
   "cell_type": "code",
   "execution_count": 96,
   "metadata": {},
   "outputs": [
    {
     "data": {
      "text/plain": [
       "(45044, 26)"
      ]
     },
     "execution_count": 96,
     "metadata": {},
     "output_type": "execute_result"
    }
   ],
   "source": [
    "data.shape"
   ]
  },
  {
   "cell_type": "markdown",
   "metadata": {},
   "source": [
    "\n",
    "### Date and Time\n",
    "Instead of the Report Date column, I will add the Year, Month and Day columns and instead of the Time column I will add the Hour column"
   ]
  },
  {
   "cell_type": "code",
   "execution_count": 97,
   "metadata": {},
   "outputs": [
    {
     "data": {
      "text/html": [
       "<div>\n",
       "<style scoped>\n",
       "    .dataframe tbody tr th:only-of-type {\n",
       "        vertical-align: middle;\n",
       "    }\n",
       "\n",
       "    .dataframe tbody tr th {\n",
       "        vertical-align: top;\n",
       "    }\n",
       "\n",
       "    .dataframe thead th {\n",
       "        text-align: right;\n",
       "    }\n",
       "</style>\n",
       "<table border=\"1\" class=\"dataframe\">\n",
       "  <thead>\n",
       "    <tr style=\"text-align: right;\">\n",
       "      <th></th>\n",
       "      <th>Report Date</th>\n",
       "      <th>Route</th>\n",
       "      <th>Time</th>\n",
       "      <th>Min Gap</th>\n",
       "      <th>Vehicle</th>\n",
       "      <th>Delay</th>\n",
       "      <th>Direction_e</th>\n",
       "      <th>Direction_n</th>\n",
       "      <th>Direction_s</th>\n",
       "      <th>Direction_w</th>\n",
       "      <th>...</th>\n",
       "      <th>Incident_Mechanical</th>\n",
       "      <th>Incident_Overhead - Pantograph</th>\n",
       "      <th>Incident_Utilized Off Route</th>\n",
       "      <th>Day_Friday</th>\n",
       "      <th>Day_Monday</th>\n",
       "      <th>Day_Saturday</th>\n",
       "      <th>Day_Sunday</th>\n",
       "      <th>Day_Thursday</th>\n",
       "      <th>Day_Tuesday</th>\n",
       "      <th>Day_Wednesday</th>\n",
       "    </tr>\n",
       "  </thead>\n",
       "  <tbody>\n",
       "    <tr>\n",
       "      <td>0</td>\n",
       "      <td>2014-01-02</td>\n",
       "      <td>505</td>\n",
       "      <td>06:31:00</td>\n",
       "      <td>8</td>\n",
       "      <td>4018</td>\n",
       "      <td>1</td>\n",
       "      <td>1</td>\n",
       "      <td>0</td>\n",
       "      <td>0</td>\n",
       "      <td>0</td>\n",
       "      <td>...</td>\n",
       "      <td>0</td>\n",
       "      <td>0</td>\n",
       "      <td>0</td>\n",
       "      <td>0</td>\n",
       "      <td>0</td>\n",
       "      <td>0</td>\n",
       "      <td>0</td>\n",
       "      <td>1</td>\n",
       "      <td>0</td>\n",
       "      <td>0</td>\n",
       "    </tr>\n",
       "    <tr>\n",
       "      <td>1</td>\n",
       "      <td>2014-01-02</td>\n",
       "      <td>504</td>\n",
       "      <td>12:43:00</td>\n",
       "      <td>22</td>\n",
       "      <td>4128</td>\n",
       "      <td>1</td>\n",
       "      <td>1</td>\n",
       "      <td>0</td>\n",
       "      <td>0</td>\n",
       "      <td>0</td>\n",
       "      <td>...</td>\n",
       "      <td>0</td>\n",
       "      <td>0</td>\n",
       "      <td>1</td>\n",
       "      <td>0</td>\n",
       "      <td>0</td>\n",
       "      <td>0</td>\n",
       "      <td>0</td>\n",
       "      <td>1</td>\n",
       "      <td>0</td>\n",
       "      <td>0</td>\n",
       "    </tr>\n",
       "    <tr>\n",
       "      <td>2</td>\n",
       "      <td>2014-01-02</td>\n",
       "      <td>501</td>\n",
       "      <td>14:01:00</td>\n",
       "      <td>19</td>\n",
       "      <td>4016</td>\n",
       "      <td>1</td>\n",
       "      <td>0</td>\n",
       "      <td>0</td>\n",
       "      <td>0</td>\n",
       "      <td>1</td>\n",
       "      <td>...</td>\n",
       "      <td>0</td>\n",
       "      <td>0</td>\n",
       "      <td>0</td>\n",
       "      <td>0</td>\n",
       "      <td>0</td>\n",
       "      <td>0</td>\n",
       "      <td>0</td>\n",
       "      <td>1</td>\n",
       "      <td>0</td>\n",
       "      <td>0</td>\n",
       "    </tr>\n",
       "    <tr>\n",
       "      <td>3</td>\n",
       "      <td>2014-01-02</td>\n",
       "      <td>504</td>\n",
       "      <td>14:22:00</td>\n",
       "      <td>11</td>\n",
       "      <td>4175</td>\n",
       "      <td>1</td>\n",
       "      <td>0</td>\n",
       "      <td>0</td>\n",
       "      <td>0</td>\n",
       "      <td>1</td>\n",
       "      <td>...</td>\n",
       "      <td>0</td>\n",
       "      <td>0</td>\n",
       "      <td>0</td>\n",
       "      <td>0</td>\n",
       "      <td>0</td>\n",
       "      <td>0</td>\n",
       "      <td>0</td>\n",
       "      <td>1</td>\n",
       "      <td>0</td>\n",
       "      <td>0</td>\n",
       "    </tr>\n",
       "    <tr>\n",
       "      <td>4</td>\n",
       "      <td>2014-01-02</td>\n",
       "      <td>504</td>\n",
       "      <td>16:42:00</td>\n",
       "      <td>6</td>\n",
       "      <td>4080</td>\n",
       "      <td>1</td>\n",
       "      <td>1</td>\n",
       "      <td>0</td>\n",
       "      <td>0</td>\n",
       "      <td>0</td>\n",
       "      <td>...</td>\n",
       "      <td>0</td>\n",
       "      <td>0</td>\n",
       "      <td>1</td>\n",
       "      <td>0</td>\n",
       "      <td>0</td>\n",
       "      <td>0</td>\n",
       "      <td>0</td>\n",
       "      <td>1</td>\n",
       "      <td>0</td>\n",
       "      <td>0</td>\n",
       "    </tr>\n",
       "  </tbody>\n",
       "</table>\n",
       "<p>5 rows × 26 columns</p>\n",
       "</div>"
      ],
      "text/plain": [
       "  Report Date  Route      Time  Min Gap  Vehicle  Delay  Direction_e  \\\n",
       "0  2014-01-02    505  06:31:00        8     4018      1            1   \n",
       "1  2014-01-02    504  12:43:00       22     4128      1            1   \n",
       "2  2014-01-02    501  14:01:00       19     4016      1            0   \n",
       "3  2014-01-02    504  14:22:00       11     4175      1            0   \n",
       "4  2014-01-02    504  16:42:00        6     4080      1            1   \n",
       "\n",
       "   Direction_n  Direction_s  Direction_w  ...  Incident_Mechanical  \\\n",
       "0            0            0            0  ...                    0   \n",
       "1            0            0            0  ...                    0   \n",
       "2            0            0            1  ...                    0   \n",
       "3            0            0            1  ...                    0   \n",
       "4            0            0            0  ...                    0   \n",
       "\n",
       "   Incident_Overhead - Pantograph  Incident_Utilized Off Route  Day_Friday  \\\n",
       "0                               0                            0           0   \n",
       "1                               0                            1           0   \n",
       "2                               0                            0           0   \n",
       "3                               0                            0           0   \n",
       "4                               0                            1           0   \n",
       "\n",
       "   Day_Monday  Day_Saturday  Day_Sunday  Day_Thursday  Day_Tuesday  \\\n",
       "0           0             0           0             1            0   \n",
       "1           0             0           0             1            0   \n",
       "2           0             0           0             1            0   \n",
       "3           0             0           0             1            0   \n",
       "4           0             0           0             1            0   \n",
       "\n",
       "   Day_Wednesday  \n",
       "0              0  \n",
       "1              0  \n",
       "2              0  \n",
       "3              0  \n",
       "4              0  \n",
       "\n",
       "[5 rows x 26 columns]"
      ]
     },
     "execution_count": 97,
     "metadata": {},
     "output_type": "execute_result"
    }
   ],
   "source": [
    "data.head()"
   ]
  },
  {
   "cell_type": "code",
   "execution_count": 98,
   "metadata": {},
   "outputs": [],
   "source": [
    "# Creating the year column from column Report Date.\n",
    "data['Year'] = data['Report Date'].dt.year\n",
    "\n",
    "# Creating the month column from column Report Date.\n",
    "data['Month'] = data['Report Date'].dt.month\n",
    "\n",
    "# Creating the day column from column Report Date.\n",
    "data['Day'] = data['Report Date'].dt.day\n",
    "\n",
    "# Creating the hour column from column Time.\n",
    "data[['Hour']] = pd.DataFrame([(x.hour) for x in data['Time']])"
   ]
  },
  {
   "cell_type": "code",
   "execution_count": 99,
   "metadata": {},
   "outputs": [
    {
     "data": {
      "text/html": [
       "<div>\n",
       "<style scoped>\n",
       "    .dataframe tbody tr th:only-of-type {\n",
       "        vertical-align: middle;\n",
       "    }\n",
       "\n",
       "    .dataframe tbody tr th {\n",
       "        vertical-align: top;\n",
       "    }\n",
       "\n",
       "    .dataframe thead th {\n",
       "        text-align: right;\n",
       "    }\n",
       "</style>\n",
       "<table border=\"1\" class=\"dataframe\">\n",
       "  <thead>\n",
       "    <tr style=\"text-align: right;\">\n",
       "      <th></th>\n",
       "      <th>Report Date</th>\n",
       "      <th>Route</th>\n",
       "      <th>Time</th>\n",
       "      <th>Min Gap</th>\n",
       "      <th>Vehicle</th>\n",
       "      <th>Delay</th>\n",
       "      <th>Direction_e</th>\n",
       "      <th>Direction_n</th>\n",
       "      <th>Direction_s</th>\n",
       "      <th>Direction_w</th>\n",
       "      <th>...</th>\n",
       "      <th>Day_Monday</th>\n",
       "      <th>Day_Saturday</th>\n",
       "      <th>Day_Sunday</th>\n",
       "      <th>Day_Thursday</th>\n",
       "      <th>Day_Tuesday</th>\n",
       "      <th>Day_Wednesday</th>\n",
       "      <th>Year</th>\n",
       "      <th>Month</th>\n",
       "      <th>Day</th>\n",
       "      <th>Hour</th>\n",
       "    </tr>\n",
       "  </thead>\n",
       "  <tbody>\n",
       "    <tr>\n",
       "      <td>0</td>\n",
       "      <td>2014-01-02</td>\n",
       "      <td>505</td>\n",
       "      <td>06:31:00</td>\n",
       "      <td>8</td>\n",
       "      <td>4018</td>\n",
       "      <td>1</td>\n",
       "      <td>1</td>\n",
       "      <td>0</td>\n",
       "      <td>0</td>\n",
       "      <td>0</td>\n",
       "      <td>...</td>\n",
       "      <td>0</td>\n",
       "      <td>0</td>\n",
       "      <td>0</td>\n",
       "      <td>1</td>\n",
       "      <td>0</td>\n",
       "      <td>0</td>\n",
       "      <td>2014</td>\n",
       "      <td>1</td>\n",
       "      <td>2</td>\n",
       "      <td>6</td>\n",
       "    </tr>\n",
       "    <tr>\n",
       "      <td>1</td>\n",
       "      <td>2014-01-02</td>\n",
       "      <td>504</td>\n",
       "      <td>12:43:00</td>\n",
       "      <td>22</td>\n",
       "      <td>4128</td>\n",
       "      <td>1</td>\n",
       "      <td>1</td>\n",
       "      <td>0</td>\n",
       "      <td>0</td>\n",
       "      <td>0</td>\n",
       "      <td>...</td>\n",
       "      <td>0</td>\n",
       "      <td>0</td>\n",
       "      <td>0</td>\n",
       "      <td>1</td>\n",
       "      <td>0</td>\n",
       "      <td>0</td>\n",
       "      <td>2014</td>\n",
       "      <td>1</td>\n",
       "      <td>2</td>\n",
       "      <td>12</td>\n",
       "    </tr>\n",
       "    <tr>\n",
       "      <td>2</td>\n",
       "      <td>2014-01-02</td>\n",
       "      <td>501</td>\n",
       "      <td>14:01:00</td>\n",
       "      <td>19</td>\n",
       "      <td>4016</td>\n",
       "      <td>1</td>\n",
       "      <td>0</td>\n",
       "      <td>0</td>\n",
       "      <td>0</td>\n",
       "      <td>1</td>\n",
       "      <td>...</td>\n",
       "      <td>0</td>\n",
       "      <td>0</td>\n",
       "      <td>0</td>\n",
       "      <td>1</td>\n",
       "      <td>0</td>\n",
       "      <td>0</td>\n",
       "      <td>2014</td>\n",
       "      <td>1</td>\n",
       "      <td>2</td>\n",
       "      <td>14</td>\n",
       "    </tr>\n",
       "    <tr>\n",
       "      <td>3</td>\n",
       "      <td>2014-01-02</td>\n",
       "      <td>504</td>\n",
       "      <td>14:22:00</td>\n",
       "      <td>11</td>\n",
       "      <td>4175</td>\n",
       "      <td>1</td>\n",
       "      <td>0</td>\n",
       "      <td>0</td>\n",
       "      <td>0</td>\n",
       "      <td>1</td>\n",
       "      <td>...</td>\n",
       "      <td>0</td>\n",
       "      <td>0</td>\n",
       "      <td>0</td>\n",
       "      <td>1</td>\n",
       "      <td>0</td>\n",
       "      <td>0</td>\n",
       "      <td>2014</td>\n",
       "      <td>1</td>\n",
       "      <td>2</td>\n",
       "      <td>14</td>\n",
       "    </tr>\n",
       "    <tr>\n",
       "      <td>4</td>\n",
       "      <td>2014-01-02</td>\n",
       "      <td>504</td>\n",
       "      <td>16:42:00</td>\n",
       "      <td>6</td>\n",
       "      <td>4080</td>\n",
       "      <td>1</td>\n",
       "      <td>1</td>\n",
       "      <td>0</td>\n",
       "      <td>0</td>\n",
       "      <td>0</td>\n",
       "      <td>...</td>\n",
       "      <td>0</td>\n",
       "      <td>0</td>\n",
       "      <td>0</td>\n",
       "      <td>1</td>\n",
       "      <td>0</td>\n",
       "      <td>0</td>\n",
       "      <td>2014</td>\n",
       "      <td>1</td>\n",
       "      <td>2</td>\n",
       "      <td>16</td>\n",
       "    </tr>\n",
       "  </tbody>\n",
       "</table>\n",
       "<p>5 rows × 30 columns</p>\n",
       "</div>"
      ],
      "text/plain": [
       "  Report Date  Route      Time  Min Gap  Vehicle  Delay  Direction_e  \\\n",
       "0  2014-01-02    505  06:31:00        8     4018      1            1   \n",
       "1  2014-01-02    504  12:43:00       22     4128      1            1   \n",
       "2  2014-01-02    501  14:01:00       19     4016      1            0   \n",
       "3  2014-01-02    504  14:22:00       11     4175      1            0   \n",
       "4  2014-01-02    504  16:42:00        6     4080      1            1   \n",
       "\n",
       "   Direction_n  Direction_s  Direction_w  ...  Day_Monday  Day_Saturday  \\\n",
       "0            0            0            0  ...           0             0   \n",
       "1            0            0            0  ...           0             0   \n",
       "2            0            0            1  ...           0             0   \n",
       "3            0            0            1  ...           0             0   \n",
       "4            0            0            0  ...           0             0   \n",
       "\n",
       "   Day_Sunday  Day_Thursday  Day_Tuesday  Day_Wednesday  Year  Month  Day  \\\n",
       "0           0             1            0              0  2014      1    2   \n",
       "1           0             1            0              0  2014      1    2   \n",
       "2           0             1            0              0  2014      1    2   \n",
       "3           0             1            0              0  2014      1    2   \n",
       "4           0             1            0              0  2014      1    2   \n",
       "\n",
       "   Hour  \n",
       "0     6  \n",
       "1    12  \n",
       "2    14  \n",
       "3    14  \n",
       "4    16  \n",
       "\n",
       "[5 rows x 30 columns]"
      ]
     },
     "execution_count": 99,
     "metadata": {},
     "output_type": "execute_result"
    }
   ],
   "source": [
    "data.head()"
   ]
  },
  {
   "cell_type": "code",
   "execution_count": 100,
   "metadata": {},
   "outputs": [
    {
     "data": {
      "text/plain": [
       "(45044, 30)"
      ]
     },
     "execution_count": 100,
     "metadata": {},
     "output_type": "execute_result"
    }
   ],
   "source": [
    "data.shape"
   ]
  },
  {
   "cell_type": "code",
   "execution_count": 101,
   "metadata": {},
   "outputs": [],
   "source": [
    "data = data.drop(columns=['Report Date' , 'Time'])"
   ]
  },
  {
   "cell_type": "code",
   "execution_count": 102,
   "metadata": {},
   "outputs": [
    {
     "data": {
      "text/html": [
       "<div>\n",
       "<style scoped>\n",
       "    .dataframe tbody tr th:only-of-type {\n",
       "        vertical-align: middle;\n",
       "    }\n",
       "\n",
       "    .dataframe tbody tr th {\n",
       "        vertical-align: top;\n",
       "    }\n",
       "\n",
       "    .dataframe thead th {\n",
       "        text-align: right;\n",
       "    }\n",
       "</style>\n",
       "<table border=\"1\" class=\"dataframe\">\n",
       "  <thead>\n",
       "    <tr style=\"text-align: right;\">\n",
       "      <th></th>\n",
       "      <th>Route</th>\n",
       "      <th>Min Gap</th>\n",
       "      <th>Vehicle</th>\n",
       "      <th>Delay</th>\n",
       "      <th>Direction_e</th>\n",
       "      <th>Direction_n</th>\n",
       "      <th>Direction_s</th>\n",
       "      <th>Direction_w</th>\n",
       "      <th>Incident_Diversion</th>\n",
       "      <th>Incident_Emergency Services</th>\n",
       "      <th>...</th>\n",
       "      <th>Day_Monday</th>\n",
       "      <th>Day_Saturday</th>\n",
       "      <th>Day_Sunday</th>\n",
       "      <th>Day_Thursday</th>\n",
       "      <th>Day_Tuesday</th>\n",
       "      <th>Day_Wednesday</th>\n",
       "      <th>Year</th>\n",
       "      <th>Month</th>\n",
       "      <th>Day</th>\n",
       "      <th>Hour</th>\n",
       "    </tr>\n",
       "  </thead>\n",
       "  <tbody>\n",
       "    <tr>\n",
       "      <td>0</td>\n",
       "      <td>505</td>\n",
       "      <td>8</td>\n",
       "      <td>4018</td>\n",
       "      <td>1</td>\n",
       "      <td>1</td>\n",
       "      <td>0</td>\n",
       "      <td>0</td>\n",
       "      <td>0</td>\n",
       "      <td>0</td>\n",
       "      <td>0</td>\n",
       "      <td>...</td>\n",
       "      <td>0</td>\n",
       "      <td>0</td>\n",
       "      <td>0</td>\n",
       "      <td>1</td>\n",
       "      <td>0</td>\n",
       "      <td>0</td>\n",
       "      <td>2014</td>\n",
       "      <td>1</td>\n",
       "      <td>2</td>\n",
       "      <td>6</td>\n",
       "    </tr>\n",
       "    <tr>\n",
       "      <td>1</td>\n",
       "      <td>504</td>\n",
       "      <td>22</td>\n",
       "      <td>4128</td>\n",
       "      <td>1</td>\n",
       "      <td>1</td>\n",
       "      <td>0</td>\n",
       "      <td>0</td>\n",
       "      <td>0</td>\n",
       "      <td>0</td>\n",
       "      <td>0</td>\n",
       "      <td>...</td>\n",
       "      <td>0</td>\n",
       "      <td>0</td>\n",
       "      <td>0</td>\n",
       "      <td>1</td>\n",
       "      <td>0</td>\n",
       "      <td>0</td>\n",
       "      <td>2014</td>\n",
       "      <td>1</td>\n",
       "      <td>2</td>\n",
       "      <td>12</td>\n",
       "    </tr>\n",
       "    <tr>\n",
       "      <td>2</td>\n",
       "      <td>501</td>\n",
       "      <td>19</td>\n",
       "      <td>4016</td>\n",
       "      <td>1</td>\n",
       "      <td>0</td>\n",
       "      <td>0</td>\n",
       "      <td>0</td>\n",
       "      <td>1</td>\n",
       "      <td>0</td>\n",
       "      <td>0</td>\n",
       "      <td>...</td>\n",
       "      <td>0</td>\n",
       "      <td>0</td>\n",
       "      <td>0</td>\n",
       "      <td>1</td>\n",
       "      <td>0</td>\n",
       "      <td>0</td>\n",
       "      <td>2014</td>\n",
       "      <td>1</td>\n",
       "      <td>2</td>\n",
       "      <td>14</td>\n",
       "    </tr>\n",
       "    <tr>\n",
       "      <td>3</td>\n",
       "      <td>504</td>\n",
       "      <td>11</td>\n",
       "      <td>4175</td>\n",
       "      <td>1</td>\n",
       "      <td>0</td>\n",
       "      <td>0</td>\n",
       "      <td>0</td>\n",
       "      <td>1</td>\n",
       "      <td>0</td>\n",
       "      <td>0</td>\n",
       "      <td>...</td>\n",
       "      <td>0</td>\n",
       "      <td>0</td>\n",
       "      <td>0</td>\n",
       "      <td>1</td>\n",
       "      <td>0</td>\n",
       "      <td>0</td>\n",
       "      <td>2014</td>\n",
       "      <td>1</td>\n",
       "      <td>2</td>\n",
       "      <td>14</td>\n",
       "    </tr>\n",
       "    <tr>\n",
       "      <td>4</td>\n",
       "      <td>504</td>\n",
       "      <td>6</td>\n",
       "      <td>4080</td>\n",
       "      <td>1</td>\n",
       "      <td>1</td>\n",
       "      <td>0</td>\n",
       "      <td>0</td>\n",
       "      <td>0</td>\n",
       "      <td>0</td>\n",
       "      <td>0</td>\n",
       "      <td>...</td>\n",
       "      <td>0</td>\n",
       "      <td>0</td>\n",
       "      <td>0</td>\n",
       "      <td>1</td>\n",
       "      <td>0</td>\n",
       "      <td>0</td>\n",
       "      <td>2014</td>\n",
       "      <td>1</td>\n",
       "      <td>2</td>\n",
       "      <td>16</td>\n",
       "    </tr>\n",
       "  </tbody>\n",
       "</table>\n",
       "<p>5 rows × 28 columns</p>\n",
       "</div>"
      ],
      "text/plain": [
       "   Route  Min Gap  Vehicle  Delay  Direction_e  Direction_n  Direction_s  \\\n",
       "0    505        8     4018      1            1            0            0   \n",
       "1    504       22     4128      1            1            0            0   \n",
       "2    501       19     4016      1            0            0            0   \n",
       "3    504       11     4175      1            0            0            0   \n",
       "4    504        6     4080      1            1            0            0   \n",
       "\n",
       "   Direction_w  Incident_Diversion  Incident_Emergency Services  ...  \\\n",
       "0            0                   0                            0  ...   \n",
       "1            0                   0                            0  ...   \n",
       "2            1                   0                            0  ...   \n",
       "3            1                   0                            0  ...   \n",
       "4            0                   0                            0  ...   \n",
       "\n",
       "   Day_Monday  Day_Saturday  Day_Sunday  Day_Thursday  Day_Tuesday  \\\n",
       "0           0             0           0             1            0   \n",
       "1           0             0           0             1            0   \n",
       "2           0             0           0             1            0   \n",
       "3           0             0           0             1            0   \n",
       "4           0             0           0             1            0   \n",
       "\n",
       "   Day_Wednesday  Year  Month  Day  Hour  \n",
       "0              0  2014      1    2     6  \n",
       "1              0  2014      1    2    12  \n",
       "2              0  2014      1    2    14  \n",
       "3              0  2014      1    2    14  \n",
       "4              0  2014      1    2    16  \n",
       "\n",
       "[5 rows x 28 columns]"
      ]
     },
     "execution_count": 102,
     "metadata": {},
     "output_type": "execute_result"
    }
   ],
   "source": [
    "data.head()"
   ]
  },
  {
   "cell_type": "code",
   "execution_count": 103,
   "metadata": {},
   "outputs": [
    {
     "data": {
      "text/plain": [
       "(45044, 28)"
      ]
     },
     "execution_count": 103,
     "metadata": {},
     "output_type": "execute_result"
    }
   ],
   "source": [
    "data.shape"
   ]
  },
  {
   "cell_type": "markdown",
   "metadata": {},
   "source": [
    "### Delay throug the year"
   ]
  },
  {
   "cell_type": "code",
   "execution_count": 104,
   "metadata": {},
   "outputs": [],
   "source": [
    "Year_2014 = data[data['Year'] == 2014]['Delay']\n",
    "Year_2015 = data[data['Year'] == 2015]['Delay']\n",
    "Year_2016 = data[data['Year'] == 2016]['Delay']\n",
    "Year_2017 = data[data['Year'] == 2017]['Delay']"
   ]
  },
  {
   "cell_type": "code",
   "execution_count": 105,
   "metadata": {},
   "outputs": [
    {
     "data": {
      "image/png": "[encoded data removed]",
      "text/plain": [
       "<Figure size 720x504 with 1 Axes>"
      ]
     },
     "metadata": {
      "needs_background": "light"
     },
     "output_type": "display_data"
    }
   ],
   "source": [
    "fig = plt.figure(figsize=(10, 7))  \n",
    "plt.title(\"Delay throug the year\")\n",
    "plt.xticks([0 , 1])         \n",
    "plt.xlabel('No Delay                                                                                                                                        Delay')\n",
    "plt.hist([Year_2014 , Year_2015 , Year_2016 , Year_2017], color=['red', 'blue', 'green', 'yellow'], label=['Year 2014' , 'Year 2015' , 'Year 2016' , 'Year 2017'])\n",
    "plt.legend(loc='best')\n",
    "plt.show()"
   ]
  },
  {
   "cell_type": "code",
   "execution_count": null,
   "metadata": {},
   "outputs": [],
   "source": []
  },
  {
   "cell_type": "code",
   "execution_count": 106,
   "metadata": {},
   "outputs": [],
   "source": [
    "feature_names = data.columns\n",
    "# for col in feature_names:\n",
    "#     print(col)"
   ]
  },
  {
   "cell_type": "code",
   "execution_count": 107,
   "metadata": {},
   "outputs": [
    {
     "data": {
      "text/plain": [
       "Route                            -0.008716\n",
       "Min Gap                           0.056566\n",
       "Vehicle                           0.001145\n",
       "Delay                             1.000000\n",
       "Direction_e                       0.011842\n",
       "Direction_n                      -0.023678\n",
       "Direction_s                      -0.020946\n",
       "Direction_w                       0.012471\n",
       "Incident_Diversion               -0.023048\n",
       "Incident_Emergency Services       0.001560\n",
       "Incident_General Delay           -0.060980\n",
       "Incident_Held By                  0.030531\n",
       "Incident_Investigation           -0.014389\n",
       "Incident_Late Leaving Garage      0.017236\n",
       "Incident_Mechanical               0.014905\n",
       "Incident_Overhead - Pantograph    0.001530\n",
       "Incident_Utilized Off Route      -0.023245\n",
       "Day_Friday                       -0.008207\n",
       "Day_Monday                        0.005826\n",
       "Day_Saturday                      0.000255\n",
       "Day_Sunday                       -0.000565\n",
       "Day_Thursday                     -0.005024\n",
       "Day_Tuesday                      -0.000402\n",
       "Day_Wednesday                     0.008324\n",
       "Year                             -0.006103\n",
       "Month                             0.005401\n",
       "Day                              -0.006279\n",
       "Hour                              0.000839\n",
       "Name: Delay, dtype: float64"
      ]
     },
     "execution_count": 107,
     "metadata": {},
     "output_type": "execute_result"
    }
   ],
   "source": [
    "corrcoefs = data.corr()['Delay']\n",
    "corrcoefs"
   ]
  },
  {
   "cell_type": "code",
   "execution_count": 108,
   "metadata": {},
   "outputs": [
    {
     "data": {
      "text/plain": [
       "Route                            -0.008716\n",
       "Min Gap                           0.056566\n",
       "Vehicle                           0.001145\n",
       "Direction_e                       0.011842\n",
       "Direction_n                      -0.023678\n",
       "Direction_s                      -0.020946\n",
       "Direction_w                       0.012471\n",
       "Incident_Diversion               -0.023048\n",
       "Incident_Emergency Services       0.001560\n",
       "Incident_General Delay           -0.060980\n",
       "Incident_Held By                  0.030531\n",
       "Incident_Investigation           -0.014389\n",
       "Incident_Late Leaving Garage      0.017236\n",
       "Incident_Mechanical               0.014905\n",
       "Incident_Overhead - Pantograph    0.001530\n",
       "Incident_Utilized Off Route      -0.023245\n",
       "Day_Friday                       -0.008207\n",
       "Day_Monday                        0.005826\n",
       "Day_Saturday                      0.000255\n",
       "Day_Sunday                       -0.000565\n",
       "Day_Thursday                     -0.005024\n",
       "Day_Tuesday                      -0.000402\n",
       "Day_Wednesday                     0.008324\n",
       "Year                             -0.006103\n",
       "Month                             0.005401\n",
       "Day                              -0.006279\n",
       "Hour                              0.000839\n",
       "Name: Delay, dtype: float64"
      ]
     },
     "execution_count": 108,
     "metadata": {},
     "output_type": "execute_result"
    }
   ],
   "source": [
    "# corrcoefs_for_barh = ( (corrcoefs.drop('Delay')) * 1000000 ).astype(int)\n",
    "corrcoefs_for_barh = corrcoefs.drop('Delay')\n",
    "corrcoefs_for_barh\n"
   ]
  },
  {
   "cell_type": "code",
   "execution_count": 109,
   "metadata": {},
   "outputs": [
    {
     "ename": "IndexError",
     "evalue": "arrays used as indices must be of integer (or boolean) type",
     "output_type": "error",
     "traceback": [
      "\u001b[1;31m---------------------------------------------------------------------------\u001b[0m",
      "\u001b[1;31mIndexError\u001b[0m                                Traceback (most recent call last)",
      "\u001b[1;32m<ipython-input-109-d5e5216f13b4>\u001b[0m in \u001b[0;36m<module>\u001b[1;34m\u001b[0m\n\u001b[0;32m      7\u001b[0m \u001b[0mplt\u001b[0m\u001b[1;33m.\u001b[0m\u001b[0mylabel\u001b[0m\u001b[1;33m(\u001b[0m\u001b[1;34m'Attribute name'\u001b[0m\u001b[1;33m)\u001b[0m\u001b[1;33m\u001b[0m\u001b[1;33m\u001b[0m\u001b[0m\n\u001b[0;32m      8\u001b[0m \u001b[0mplt\u001b[0m\u001b[1;33m.\u001b[0m\u001b[0mxlabel\u001b[0m\u001b[1;33m(\u001b[0m\u001b[1;34m'Correlation coefficient value'\u001b[0m\u001b[1;33m)\u001b[0m\u001b[1;33m\u001b[0m\u001b[1;33m\u001b[0m\u001b[0m\n\u001b[1;32m----> 9\u001b[1;33m \u001b[0mplt\u001b[0m\u001b[1;33m.\u001b[0m\u001b[0myticks\u001b[0m\u001b[1;33m(\u001b[0m\u001b[0mnp\u001b[0m\u001b[1;33m.\u001b[0m\u001b[0marange\u001b[0m\u001b[1;33m(\u001b[0m\u001b[0mnumber_of_features\u001b[0m\u001b[1;33m)\u001b[0m\u001b[1;33m,\u001b[0m \u001b[0mlist\u001b[0m\u001b[1;33m(\u001b[0m\u001b[0mfeature_names\u001b[0m\u001b[1;33m[\u001b[0m\u001b[0mcoefs_for_plot\u001b[0m\u001b[1;33m.\u001b[0m\u001b[0mindex\u001b[0m\u001b[1;33m]\u001b[0m\u001b[1;33m)\u001b[0m\u001b[1;33m)\u001b[0m\u001b[1;33m\u001b[0m\u001b[1;33m\u001b[0m\u001b[0m\n\u001b[0m\u001b[0;32m     10\u001b[0m \u001b[0mplt\u001b[0m\u001b[1;33m.\u001b[0m\u001b[0mplot\u001b[0m\u001b[1;33m(\u001b[0m\u001b[1;33m)\u001b[0m\u001b[1;33m\u001b[0m\u001b[1;33m\u001b[0m\u001b[0m\n",
      "\u001b[1;32m~\\Anaconda3\\lib\\site-packages\\pandas\\core\\indexes\\base.py\u001b[0m in \u001b[0;36m__getitem__\u001b[1;34m(self, key)\u001b[0m\n\u001b[0;32m   4289\u001b[0m \u001b[1;33m\u001b[0m\u001b[0m\n\u001b[0;32m   4290\u001b[0m         \u001b[0mkey\u001b[0m \u001b[1;33m=\u001b[0m \u001b[0mcom\u001b[0m\u001b[1;33m.\u001b[0m\u001b[0mvalues_from_object\u001b[0m\u001b[1;33m(\u001b[0m\u001b[0mkey\u001b[0m\u001b[1;33m)\u001b[0m\u001b[1;33m\u001b[0m\u001b[1;33m\u001b[0m\u001b[0m\n\u001b[1;32m-> 4291\u001b[1;33m         \u001b[0mresult\u001b[0m \u001b[1;33m=\u001b[0m \u001b[0mgetitem\u001b[0m\u001b[1;33m(\u001b[0m\u001b[0mkey\u001b[0m\u001b[1;33m)\u001b[0m\u001b[1;33m\u001b[0m\u001b[1;33m\u001b[0m\u001b[0m\n\u001b[0m\u001b[0;32m   4292\u001b[0m         \u001b[1;32mif\u001b[0m \u001b[1;32mnot\u001b[0m \u001b[0mis_scalar\u001b[0m\u001b[1;33m(\u001b[0m\u001b[0mresult\u001b[0m\u001b[1;33m)\u001b[0m\u001b[1;33m:\u001b[0m\u001b[1;33m\u001b[0m\u001b[1;33m\u001b[0m\u001b[0m\n\u001b[0;32m   4293\u001b[0m             \u001b[1;32mreturn\u001b[0m \u001b[0mpromote\u001b[0m\u001b[1;33m(\u001b[0m\u001b[0mresult\u001b[0m\u001b[1;33m)\u001b[0m\u001b[1;33m\u001b[0m\u001b[1;33m\u001b[0m\u001b[0m\n",
      "\u001b[1;31mIndexError\u001b[0m: arrays used as indices must be of integer (or boolean) type"
     ]
    },
    {
     "data": {
      "image/png": "[encoded data removed]",
      "text/plain": [
       "<Figure size 648x648 with 1 Axes>"
      ]
     },
     "metadata": {
      "needs_background": "light"
     },
     "output_type": "display_data"
    }
   ],
   "source": [
    "number_of_features = len(data.columns)\n",
    "\n",
    "coefs_for_plot = pd.Series(corrcoefs_for_barh).sort_values()\n",
    "coefs_for_plot.plot(kind = \"barh\", color = 'orange', figsize = (9, 9))\n",
    "\n",
    "plt.title(\"Attributes correlation with the target variable y\" )\n",
    "plt.ylabel('Attribute name')\n",
    "plt.xlabel('Correlation coefficient value')\n",
    "plt.yticks(np.arange(number_of_features), list(feature_names[coefs_for_plot.index]))\n",
    "plt.plot()"
   ]
  },
  {
   "cell_type": "code",
   "execution_count": 110,
   "metadata": {},
   "outputs": [],
   "source": [
    "y = data['Delay']\n",
    "X = data.drop(columns=['Delay'])"
   ]
  },
  {
   "cell_type": "code",
   "execution_count": 111,
   "metadata": {},
   "outputs": [
    {
     "data": {
      "text/html": [
       "<div>\n",
       "<style scoped>\n",
       "    .dataframe tbody tr th:only-of-type {\n",
       "        vertical-align: middle;\n",
       "    }\n",
       "\n",
       "    .dataframe tbody tr th {\n",
       "        vertical-align: top;\n",
       "    }\n",
       "\n",
       "    .dataframe thead th {\n",
       "        text-align: right;\n",
       "    }\n",
       "</style>\n",
       "<table border=\"1\" class=\"dataframe\">\n",
       "  <thead>\n",
       "    <tr style=\"text-align: right;\">\n",
       "      <th></th>\n",
       "      <th>Route</th>\n",
       "      <th>Min Gap</th>\n",
       "      <th>Vehicle</th>\n",
       "      <th>Direction_e</th>\n",
       "      <th>Direction_n</th>\n",
       "      <th>Direction_s</th>\n",
       "      <th>Direction_w</th>\n",
       "      <th>Incident_Diversion</th>\n",
       "      <th>Incident_Emergency Services</th>\n",
       "      <th>Incident_General Delay</th>\n",
       "      <th>...</th>\n",
       "      <th>Day_Monday</th>\n",
       "      <th>Day_Saturday</th>\n",
       "      <th>Day_Sunday</th>\n",
       "      <th>Day_Thursday</th>\n",
       "      <th>Day_Tuesday</th>\n",
       "      <th>Day_Wednesday</th>\n",
       "      <th>Year</th>\n",
       "      <th>Month</th>\n",
       "      <th>Day</th>\n",
       "      <th>Hour</th>\n",
       "    </tr>\n",
       "  </thead>\n",
       "  <tbody>\n",
       "    <tr>\n",
       "      <td>Route</td>\n",
       "      <td>1.000000</td>\n",
       "      <td>-0.086860</td>\n",
       "      <td>0.003536</td>\n",
       "      <td>-0.019117</td>\n",
       "      <td>0.064304</td>\n",
       "      <td>0.058385</td>\n",
       "      <td>-0.047580</td>\n",
       "      <td>-0.023700</td>\n",
       "      <td>-0.055631</td>\n",
       "      <td>0.017453</td>\n",
       "      <td>...</td>\n",
       "      <td>0.010611</td>\n",
       "      <td>-0.029604</td>\n",
       "      <td>-0.049578</td>\n",
       "      <td>0.015163</td>\n",
       "      <td>0.009791</td>\n",
       "      <td>0.024823</td>\n",
       "      <td>-0.011980</td>\n",
       "      <td>-0.001899</td>\n",
       "      <td>0.011446</td>\n",
       "      <td>-0.000178</td>\n",
       "    </tr>\n",
       "    <tr>\n",
       "      <td>Min Gap</td>\n",
       "      <td>-0.086860</td>\n",
       "      <td>1.000000</td>\n",
       "      <td>-0.020061</td>\n",
       "      <td>-0.018443</td>\n",
       "      <td>-0.031929</td>\n",
       "      <td>-0.017381</td>\n",
       "      <td>0.045133</td>\n",
       "      <td>0.175230</td>\n",
       "      <td>0.048142</td>\n",
       "      <td>0.010307</td>\n",
       "      <td>...</td>\n",
       "      <td>-0.013045</td>\n",
       "      <td>0.015613</td>\n",
       "      <td>0.042096</td>\n",
       "      <td>-0.015156</td>\n",
       "      <td>-0.005897</td>\n",
       "      <td>-0.009730</td>\n",
       "      <td>-0.015375</td>\n",
       "      <td>0.016159</td>\n",
       "      <td>-0.001196</td>\n",
       "      <td>-0.005060</td>\n",
       "    </tr>\n",
       "    <tr>\n",
       "      <td>Vehicle</td>\n",
       "      <td>0.003536</td>\n",
       "      <td>-0.020061</td>\n",
       "      <td>1.000000</td>\n",
       "      <td>0.015028</td>\n",
       "      <td>-0.001610</td>\n",
       "      <td>0.000429</td>\n",
       "      <td>-0.014221</td>\n",
       "      <td>-0.002160</td>\n",
       "      <td>0.001392</td>\n",
       "      <td>-0.024807</td>\n",
       "      <td>...</td>\n",
       "      <td>-0.002274</td>\n",
       "      <td>-0.004080</td>\n",
       "      <td>-0.003524</td>\n",
       "      <td>-0.002267</td>\n",
       "      <td>0.008051</td>\n",
       "      <td>0.001761</td>\n",
       "      <td>-0.049402</td>\n",
       "      <td>0.001179</td>\n",
       "      <td>-0.001149</td>\n",
       "      <td>0.000911</td>\n",
       "    </tr>\n",
       "    <tr>\n",
       "      <td>Direction_e</td>\n",
       "      <td>-0.019117</td>\n",
       "      <td>-0.018443</td>\n",
       "      <td>0.015028</td>\n",
       "      <td>1.000000</td>\n",
       "      <td>-0.247167</td>\n",
       "      <td>-0.235475</td>\n",
       "      <td>-0.728888</td>\n",
       "      <td>-0.018901</td>\n",
       "      <td>-0.012847</td>\n",
       "      <td>-0.022736</td>\n",
       "      <td>...</td>\n",
       "      <td>-0.004201</td>\n",
       "      <td>-0.007830</td>\n",
       "      <td>-0.005333</td>\n",
       "      <td>0.004471</td>\n",
       "      <td>0.012275</td>\n",
       "      <td>0.000122</td>\n",
       "      <td>-0.008377</td>\n",
       "      <td>-0.030390</td>\n",
       "      <td>-0.010049</td>\n",
       "      <td>0.003917</td>\n",
       "    </tr>\n",
       "    <tr>\n",
       "      <td>Direction_n</td>\n",
       "      <td>0.064304</td>\n",
       "      <td>-0.031929</td>\n",
       "      <td>-0.001610</td>\n",
       "      <td>-0.247167</td>\n",
       "      <td>1.000000</td>\n",
       "      <td>-0.084908</td>\n",
       "      <td>-0.262825</td>\n",
       "      <td>-0.001596</td>\n",
       "      <td>-0.012627</td>\n",
       "      <td>-0.015004</td>\n",
       "      <td>...</td>\n",
       "      <td>-0.004585</td>\n",
       "      <td>0.009142</td>\n",
       "      <td>0.001315</td>\n",
       "      <td>0.000321</td>\n",
       "      <td>-0.004783</td>\n",
       "      <td>0.003262</td>\n",
       "      <td>-0.003167</td>\n",
       "      <td>-0.001273</td>\n",
       "      <td>-0.010484</td>\n",
       "      <td>-0.002060</td>\n",
       "    </tr>\n",
       "    <tr>\n",
       "      <td>Direction_s</td>\n",
       "      <td>0.058385</td>\n",
       "      <td>-0.017381</td>\n",
       "      <td>0.000429</td>\n",
       "      <td>-0.235475</td>\n",
       "      <td>-0.084908</td>\n",
       "      <td>1.000000</td>\n",
       "      <td>-0.250392</td>\n",
       "      <td>-0.002825</td>\n",
       "      <td>-0.005542</td>\n",
       "      <td>-0.020404</td>\n",
       "      <td>...</td>\n",
       "      <td>0.006021</td>\n",
       "      <td>0.005678</td>\n",
       "      <td>0.006880</td>\n",
       "      <td>-0.007091</td>\n",
       "      <td>-0.009010</td>\n",
       "      <td>-0.002902</td>\n",
       "      <td>-0.005430</td>\n",
       "      <td>0.008200</td>\n",
       "      <td>0.000749</td>\n",
       "      <td>0.002629</td>\n",
       "    </tr>\n",
       "    <tr>\n",
       "      <td>Direction_w</td>\n",
       "      <td>-0.047580</td>\n",
       "      <td>0.045133</td>\n",
       "      <td>-0.014221</td>\n",
       "      <td>-0.728888</td>\n",
       "      <td>-0.262825</td>\n",
       "      <td>-0.250392</td>\n",
       "      <td>1.000000</td>\n",
       "      <td>0.021100</td>\n",
       "      <td>0.022643</td>\n",
       "      <td>0.041636</td>\n",
       "      <td>...</td>\n",
       "      <td>0.003501</td>\n",
       "      <td>-0.000309</td>\n",
       "      <td>0.000905</td>\n",
       "      <td>-0.000843</td>\n",
       "      <td>-0.004734</td>\n",
       "      <td>-0.000384</td>\n",
       "      <td>0.012928</td>\n",
       "      <td>0.026452</td>\n",
       "      <td>0.015350</td>\n",
       "      <td>-0.004136</td>\n",
       "    </tr>\n",
       "    <tr>\n",
       "      <td>Incident_Diversion</td>\n",
       "      <td>-0.023700</td>\n",
       "      <td>0.175230</td>\n",
       "      <td>-0.002160</td>\n",
       "      <td>-0.018901</td>\n",
       "      <td>-0.001596</td>\n",
       "      <td>-0.002825</td>\n",
       "      <td>0.021100</td>\n",
       "      <td>1.000000</td>\n",
       "      <td>-0.020563</td>\n",
       "      <td>-0.022316</td>\n",
       "      <td>...</td>\n",
       "      <td>-0.005460</td>\n",
       "      <td>0.002509</td>\n",
       "      <td>0.026506</td>\n",
       "      <td>-0.002049</td>\n",
       "      <td>-0.000388</td>\n",
       "      <td>-0.006262</td>\n",
       "      <td>0.009340</td>\n",
       "      <td>0.011782</td>\n",
       "      <td>-0.000767</td>\n",
       "      <td>0.001514</td>\n",
       "    </tr>\n",
       "    <tr>\n",
       "      <td>Incident_Emergency Services</td>\n",
       "      <td>-0.055631</td>\n",
       "      <td>0.048142</td>\n",
       "      <td>0.001392</td>\n",
       "      <td>-0.012847</td>\n",
       "      <td>-0.012627</td>\n",
       "      <td>-0.005542</td>\n",
       "      <td>0.022643</td>\n",
       "      <td>-0.020563</td>\n",
       "      <td>1.000000</td>\n",
       "      <td>-0.032508</td>\n",
       "      <td>...</td>\n",
       "      <td>-0.008074</td>\n",
       "      <td>0.017137</td>\n",
       "      <td>0.026137</td>\n",
       "      <td>-0.005801</td>\n",
       "      <td>-0.007367</td>\n",
       "      <td>-0.006865</td>\n",
       "      <td>0.018482</td>\n",
       "      <td>-0.000305</td>\n",
       "      <td>-0.007546</td>\n",
       "      <td>-0.008458</td>\n",
       "    </tr>\n",
       "    <tr>\n",
       "      <td>Incident_General Delay</td>\n",
       "      <td>0.017453</td>\n",
       "      <td>0.010307</td>\n",
       "      <td>-0.024807</td>\n",
       "      <td>-0.022736</td>\n",
       "      <td>-0.015004</td>\n",
       "      <td>-0.020404</td>\n",
       "      <td>0.041636</td>\n",
       "      <td>-0.022316</td>\n",
       "      <td>-0.032508</td>\n",
       "      <td>1.000000</td>\n",
       "      <td>...</td>\n",
       "      <td>-0.020637</td>\n",
       "      <td>0.010302</td>\n",
       "      <td>0.018267</td>\n",
       "      <td>0.003729</td>\n",
       "      <td>-0.014024</td>\n",
       "      <td>-0.001173</td>\n",
       "      <td>0.038061</td>\n",
       "      <td>0.021885</td>\n",
       "      <td>0.013049</td>\n",
       "      <td>-0.000141</td>\n",
       "    </tr>\n",
       "    <tr>\n",
       "      <td>Incident_Held By</td>\n",
       "      <td>-0.051014</td>\n",
       "      <td>0.120897</td>\n",
       "      <td>-0.030666</td>\n",
       "      <td>-0.033710</td>\n",
       "      <td>-0.007301</td>\n",
       "      <td>-0.002220</td>\n",
       "      <td>0.038600</td>\n",
       "      <td>-0.044681</td>\n",
       "      <td>-0.065086</td>\n",
       "      <td>-0.070636</td>\n",
       "      <td>...</td>\n",
       "      <td>-0.013836</td>\n",
       "      <td>0.008668</td>\n",
       "      <td>0.020760</td>\n",
       "      <td>-0.007592</td>\n",
       "      <td>-0.016455</td>\n",
       "      <td>0.012992</td>\n",
       "      <td>-0.041700</td>\n",
       "      <td>0.019259</td>\n",
       "      <td>-0.009008</td>\n",
       "      <td>0.001846</td>\n",
       "    </tr>\n",
       "    <tr>\n",
       "      <td>Incident_Investigation</td>\n",
       "      <td>-0.028893</td>\n",
       "      <td>0.065511</td>\n",
       "      <td>0.016439</td>\n",
       "      <td>-0.004412</td>\n",
       "      <td>-0.006178</td>\n",
       "      <td>0.026648</td>\n",
       "      <td>-0.006354</td>\n",
       "      <td>-0.048016</td>\n",
       "      <td>-0.069945</td>\n",
       "      <td>-0.075909</td>\n",
       "      <td>...</td>\n",
       "      <td>-0.001621</td>\n",
       "      <td>0.018940</td>\n",
       "      <td>0.010416</td>\n",
       "      <td>-0.005356</td>\n",
       "      <td>-0.006661</td>\n",
       "      <td>-0.005792</td>\n",
       "      <td>-0.004248</td>\n",
       "      <td>0.025530</td>\n",
       "      <td>0.010606</td>\n",
       "      <td>-0.007366</td>\n",
       "    </tr>\n",
       "    <tr>\n",
       "      <td>Incident_Late Leaving Garage</td>\n",
       "      <td>0.049934</td>\n",
       "      <td>-0.074298</td>\n",
       "      <td>-0.025434</td>\n",
       "      <td>0.013744</td>\n",
       "      <td>0.020793</td>\n",
       "      <td>-0.061734</td>\n",
       "      <td>0.007648</td>\n",
       "      <td>-0.040548</td>\n",
       "      <td>-0.059066</td>\n",
       "      <td>-0.064102</td>\n",
       "      <td>...</td>\n",
       "      <td>0.016812</td>\n",
       "      <td>-0.064864</td>\n",
       "      <td>-0.058682</td>\n",
       "      <td>0.025853</td>\n",
       "      <td>0.003978</td>\n",
       "      <td>0.027213</td>\n",
       "      <td>-0.018749</td>\n",
       "      <td>-0.050263</td>\n",
       "      <td>0.009444</td>\n",
       "      <td>-0.000664</td>\n",
       "    </tr>\n",
       "    <tr>\n",
       "      <td>Incident_Mechanical</td>\n",
       "      <td>0.040936</td>\n",
       "      <td>-0.131724</td>\n",
       "      <td>0.010159</td>\n",
       "      <td>0.031156</td>\n",
       "      <td>-0.000686</td>\n",
       "      <td>0.032453</td>\n",
       "      <td>-0.047696</td>\n",
       "      <td>-0.123362</td>\n",
       "      <td>-0.179700</td>\n",
       "      <td>-0.195023</td>\n",
       "      <td>...</td>\n",
       "      <td>0.009860</td>\n",
       "      <td>0.014734</td>\n",
       "      <td>-0.002727</td>\n",
       "      <td>-0.009538</td>\n",
       "      <td>0.015828</td>\n",
       "      <td>-0.018840</td>\n",
       "      <td>0.031992</td>\n",
       "      <td>0.000394</td>\n",
       "      <td>-0.009576</td>\n",
       "      <td>0.005685</td>\n",
       "    </tr>\n",
       "    <tr>\n",
       "      <td>Incident_Overhead - Pantograph</td>\n",
       "      <td>0.002571</td>\n",
       "      <td>0.036531</td>\n",
       "      <td>-0.000058</td>\n",
       "      <td>0.000555</td>\n",
       "      <td>0.002776</td>\n",
       "      <td>-0.003546</td>\n",
       "      <td>-0.000203</td>\n",
       "      <td>-0.001481</td>\n",
       "      <td>-0.002158</td>\n",
       "      <td>-0.002342</td>\n",
       "      <td>...</td>\n",
       "      <td>-0.000148</td>\n",
       "      <td>0.001179</td>\n",
       "      <td>0.001761</td>\n",
       "      <td>0.004015</td>\n",
       "      <td>0.004389</td>\n",
       "      <td>-0.005400</td>\n",
       "      <td>0.016526</td>\n",
       "      <td>0.017289</td>\n",
       "      <td>0.012407</td>\n",
       "      <td>0.009360</td>\n",
       "    </tr>\n",
       "    <tr>\n",
       "      <td>Incident_Utilized Off Route</td>\n",
       "      <td>0.000294</td>\n",
       "      <td>-0.027116</td>\n",
       "      <td>0.062868</td>\n",
       "      <td>0.007375</td>\n",
       "      <td>0.019138</td>\n",
       "      <td>-0.004667</td>\n",
       "      <td>-0.015405</td>\n",
       "      <td>-0.022749</td>\n",
       "      <td>-0.033139</td>\n",
       "      <td>-0.035964</td>\n",
       "      <td>...</td>\n",
       "      <td>0.004324</td>\n",
       "      <td>-0.010976</td>\n",
       "      <td>-0.010781</td>\n",
       "      <td>0.009278</td>\n",
       "      <td>0.012908</td>\n",
       "      <td>0.005385</td>\n",
       "      <td>-0.034379</td>\n",
       "      <td>-0.030115</td>\n",
       "      <td>0.000091</td>\n",
       "      <td>0.002521</td>\n",
       "    </tr>\n",
       "    <tr>\n",
       "      <td>Day_Friday</td>\n",
       "      <td>0.006170</td>\n",
       "      <td>-0.004490</td>\n",
       "      <td>0.001162</td>\n",
       "      <td>-0.001670</td>\n",
       "      <td>-0.003376</td>\n",
       "      <td>0.002689</td>\n",
       "      <td>0.002094</td>\n",
       "      <td>-0.009972</td>\n",
       "      <td>-0.008425</td>\n",
       "      <td>0.007419</td>\n",
       "      <td>...</td>\n",
       "      <td>-0.180019</td>\n",
       "      <td>-0.154693</td>\n",
       "      <td>-0.144847</td>\n",
       "      <td>-0.193356</td>\n",
       "      <td>-0.187446</td>\n",
       "      <td>-0.187791</td>\n",
       "      <td>-0.005489</td>\n",
       "      <td>-0.000036</td>\n",
       "      <td>-0.008049</td>\n",
       "      <td>-0.000797</td>\n",
       "    </tr>\n",
       "    <tr>\n",
       "      <td>Day_Monday</td>\n",
       "      <td>0.010611</td>\n",
       "      <td>-0.013045</td>\n",
       "      <td>-0.002274</td>\n",
       "      <td>-0.004201</td>\n",
       "      <td>-0.004585</td>\n",
       "      <td>0.006021</td>\n",
       "      <td>0.003501</td>\n",
       "      <td>-0.005460</td>\n",
       "      <td>-0.008074</td>\n",
       "      <td>-0.020637</td>\n",
       "      <td>...</td>\n",
       "      <td>1.000000</td>\n",
       "      <td>-0.148155</td>\n",
       "      <td>-0.138725</td>\n",
       "      <td>-0.185184</td>\n",
       "      <td>-0.179523</td>\n",
       "      <td>-0.179854</td>\n",
       "      <td>0.004539</td>\n",
       "      <td>-0.014690</td>\n",
       "      <td>-0.000877</td>\n",
       "      <td>-0.010434</td>\n",
       "    </tr>\n",
       "    <tr>\n",
       "      <td>Day_Saturday</td>\n",
       "      <td>-0.029604</td>\n",
       "      <td>0.015613</td>\n",
       "      <td>-0.004080</td>\n",
       "      <td>-0.007830</td>\n",
       "      <td>0.009142</td>\n",
       "      <td>0.005678</td>\n",
       "      <td>-0.000309</td>\n",
       "      <td>0.002509</td>\n",
       "      <td>0.017137</td>\n",
       "      <td>0.010302</td>\n",
       "      <td>...</td>\n",
       "      <td>-0.148155</td>\n",
       "      <td>1.000000</td>\n",
       "      <td>-0.119209</td>\n",
       "      <td>-0.159131</td>\n",
       "      <td>-0.154267</td>\n",
       "      <td>-0.154551</td>\n",
       "      <td>0.021111</td>\n",
       "      <td>-0.002790</td>\n",
       "      <td>0.010693</td>\n",
       "      <td>-0.016054</td>\n",
       "    </tr>\n",
       "    <tr>\n",
       "      <td>Day_Sunday</td>\n",
       "      <td>-0.049578</td>\n",
       "      <td>0.042096</td>\n",
       "      <td>-0.003524</td>\n",
       "      <td>-0.005333</td>\n",
       "      <td>0.001315</td>\n",
       "      <td>0.006880</td>\n",
       "      <td>0.000905</td>\n",
       "      <td>0.026506</td>\n",
       "      <td>0.026137</td>\n",
       "      <td>0.018267</td>\n",
       "      <td>...</td>\n",
       "      <td>-0.138725</td>\n",
       "      <td>-0.119209</td>\n",
       "      <td>1.000000</td>\n",
       "      <td>-0.149003</td>\n",
       "      <td>-0.144448</td>\n",
       "      <td>-0.144714</td>\n",
       "      <td>0.006928</td>\n",
       "      <td>-0.005580</td>\n",
       "      <td>0.005384</td>\n",
       "      <td>0.007741</td>\n",
       "    </tr>\n",
       "    <tr>\n",
       "      <td>Day_Thursday</td>\n",
       "      <td>0.015163</td>\n",
       "      <td>-0.015156</td>\n",
       "      <td>-0.002267</td>\n",
       "      <td>0.004471</td>\n",
       "      <td>0.000321</td>\n",
       "      <td>-0.007091</td>\n",
       "      <td>-0.000843</td>\n",
       "      <td>-0.002049</td>\n",
       "      <td>-0.005801</td>\n",
       "      <td>0.003729</td>\n",
       "      <td>...</td>\n",
       "      <td>-0.185184</td>\n",
       "      <td>-0.159131</td>\n",
       "      <td>-0.149003</td>\n",
       "      <td>1.000000</td>\n",
       "      <td>-0.192824</td>\n",
       "      <td>-0.193179</td>\n",
       "      <td>0.004579</td>\n",
       "      <td>0.008586</td>\n",
       "      <td>0.015499</td>\n",
       "      <td>0.024265</td>\n",
       "    </tr>\n",
       "    <tr>\n",
       "      <td>Day_Tuesday</td>\n",
       "      <td>0.009791</td>\n",
       "      <td>-0.005897</td>\n",
       "      <td>0.008051</td>\n",
       "      <td>0.012275</td>\n",
       "      <td>-0.004783</td>\n",
       "      <td>-0.009010</td>\n",
       "      <td>-0.004734</td>\n",
       "      <td>-0.000388</td>\n",
       "      <td>-0.007367</td>\n",
       "      <td>-0.014024</td>\n",
       "      <td>...</td>\n",
       "      <td>-0.179523</td>\n",
       "      <td>-0.154267</td>\n",
       "      <td>-0.144448</td>\n",
       "      <td>-0.192824</td>\n",
       "      <td>1.000000</td>\n",
       "      <td>-0.187274</td>\n",
       "      <td>-0.018085</td>\n",
       "      <td>0.003496</td>\n",
       "      <td>-0.001210</td>\n",
       "      <td>0.002012</td>\n",
       "    </tr>\n",
       "    <tr>\n",
       "      <td>Day_Wednesday</td>\n",
       "      <td>0.024823</td>\n",
       "      <td>-0.009730</td>\n",
       "      <td>0.001761</td>\n",
       "      <td>0.000122</td>\n",
       "      <td>0.003262</td>\n",
       "      <td>-0.002902</td>\n",
       "      <td>-0.000384</td>\n",
       "      <td>-0.006262</td>\n",
       "      <td>-0.006865</td>\n",
       "      <td>-0.001173</td>\n",
       "      <td>...</td>\n",
       "      <td>-0.179854</td>\n",
       "      <td>-0.154551</td>\n",
       "      <td>-0.144714</td>\n",
       "      <td>-0.193179</td>\n",
       "      <td>-0.187274</td>\n",
       "      <td>1.000000</td>\n",
       "      <td>-0.009552</td>\n",
       "      <td>0.009071</td>\n",
       "      <td>-0.019410</td>\n",
       "      <td>-0.008277</td>\n",
       "    </tr>\n",
       "    <tr>\n",
       "      <td>Year</td>\n",
       "      <td>-0.011980</td>\n",
       "      <td>-0.015375</td>\n",
       "      <td>-0.049402</td>\n",
       "      <td>-0.008377</td>\n",
       "      <td>-0.003167</td>\n",
       "      <td>-0.005430</td>\n",
       "      <td>0.012928</td>\n",
       "      <td>0.009340</td>\n",
       "      <td>0.018482</td>\n",
       "      <td>0.038061</td>\n",
       "      <td>...</td>\n",
       "      <td>0.004539</td>\n",
       "      <td>0.021111</td>\n",
       "      <td>0.006928</td>\n",
       "      <td>0.004579</td>\n",
       "      <td>-0.018085</td>\n",
       "      <td>-0.009552</td>\n",
       "      <td>1.000000</td>\n",
       "      <td>-0.048151</td>\n",
       "      <td>0.019126</td>\n",
       "      <td>0.008461</td>\n",
       "    </tr>\n",
       "    <tr>\n",
       "      <td>Month</td>\n",
       "      <td>-0.001899</td>\n",
       "      <td>0.016159</td>\n",
       "      <td>0.001179</td>\n",
       "      <td>-0.030390</td>\n",
       "      <td>-0.001273</td>\n",
       "      <td>0.008200</td>\n",
       "      <td>0.026452</td>\n",
       "      <td>0.011782</td>\n",
       "      <td>-0.000305</td>\n",
       "      <td>0.021885</td>\n",
       "      <td>...</td>\n",
       "      <td>-0.014690</td>\n",
       "      <td>-0.002790</td>\n",
       "      <td>-0.005580</td>\n",
       "      <td>0.008586</td>\n",
       "      <td>0.003496</td>\n",
       "      <td>0.009071</td>\n",
       "      <td>-0.048151</td>\n",
       "      <td>1.000000</td>\n",
       "      <td>0.036648</td>\n",
       "      <td>0.002977</td>\n",
       "    </tr>\n",
       "    <tr>\n",
       "      <td>Day</td>\n",
       "      <td>0.011446</td>\n",
       "      <td>-0.001196</td>\n",
       "      <td>-0.001149</td>\n",
       "      <td>-0.010049</td>\n",
       "      <td>-0.010484</td>\n",
       "      <td>0.000749</td>\n",
       "      <td>0.015350</td>\n",
       "      <td>-0.000767</td>\n",
       "      <td>-0.007546</td>\n",
       "      <td>0.013049</td>\n",
       "      <td>...</td>\n",
       "      <td>-0.000877</td>\n",
       "      <td>0.010693</td>\n",
       "      <td>0.005384</td>\n",
       "      <td>0.015499</td>\n",
       "      <td>-0.001210</td>\n",
       "      <td>-0.019410</td>\n",
       "      <td>0.019126</td>\n",
       "      <td>0.036648</td>\n",
       "      <td>1.000000</td>\n",
       "      <td>0.151580</td>\n",
       "    </tr>\n",
       "    <tr>\n",
       "      <td>Hour</td>\n",
       "      <td>-0.000178</td>\n",
       "      <td>-0.005060</td>\n",
       "      <td>0.000911</td>\n",
       "      <td>0.003917</td>\n",
       "      <td>-0.002060</td>\n",
       "      <td>0.002629</td>\n",
       "      <td>-0.004136</td>\n",
       "      <td>0.001514</td>\n",
       "      <td>-0.008458</td>\n",
       "      <td>-0.000141</td>\n",
       "      <td>...</td>\n",
       "      <td>-0.010434</td>\n",
       "      <td>-0.016054</td>\n",
       "      <td>0.007741</td>\n",
       "      <td>0.024265</td>\n",
       "      <td>0.002012</td>\n",
       "      <td>-0.008277</td>\n",
       "      <td>0.008461</td>\n",
       "      <td>0.002977</td>\n",
       "      <td>0.151580</td>\n",
       "      <td>1.000000</td>\n",
       "    </tr>\n",
       "  </tbody>\n",
       "</table>\n",
       "<p>27 rows × 27 columns</p>\n",
       "</div>"
      ],
      "text/plain": [
       "                                   Route   Min Gap   Vehicle  Direction_e  \\\n",
       "Route                           1.000000 -0.086860  0.003536    -0.019117   \n",
       "Min Gap                        -0.086860  1.000000 -0.020061    -0.018443   \n",
       "Vehicle                         0.003536 -0.020061  1.000000     0.015028   \n",
       "Direction_e                    -0.019117 -0.018443  0.015028     1.000000   \n",
       "Direction_n                     0.064304 -0.031929 -0.001610    -0.247167   \n",
       "Direction_s                     0.058385 -0.017381  0.000429    -0.235475   \n",
       "Direction_w                    -0.047580  0.045133 -0.014221    -0.728888   \n",
       "Incident_Diversion             -0.023700  0.175230 -0.002160    -0.018901   \n",
       "Incident_Emergency Services    -0.055631  0.048142  0.001392    -0.012847   \n",
       "Incident_General Delay          0.017453  0.010307 -0.024807    -0.022736   \n",
       "Incident_Held By               -0.051014  0.120897 -0.030666    -0.033710   \n",
       "Incident_Investigation         -0.028893  0.065511  0.016439    -0.004412   \n",
       "Incident_Late Leaving Garage    0.049934 -0.074298 -0.025434     0.013744   \n",
       "Incident_Mechanical             0.040936 -0.131724  0.010159     0.031156   \n",
       "Incident_Overhead - Pantograph  0.002571  0.036531 -0.000058     0.000555   \n",
       "Incident_Utilized Off Route     0.000294 -0.027116  0.062868     0.007375   \n",
       "Day_Friday                      0.006170 -0.004490  0.001162    -0.001670   \n",
       "Day_Monday                      0.010611 -0.013045 -0.002274    -0.004201   \n",
       "Day_Saturday                   -0.029604  0.015613 -0.004080    -0.007830   \n",
       "Day_Sunday                     -0.049578  0.042096 -0.003524    -0.005333   \n",
       "Day_Thursday                    0.015163 -0.015156 -0.002267     0.004471   \n",
       "Day_Tuesday                     0.009791 -0.005897  0.008051     0.012275   \n",
       "Day_Wednesday                   0.024823 -0.009730  0.001761     0.000122   \n",
       "Year                           -0.011980 -0.015375 -0.049402    -0.008377   \n",
       "Month                          -0.001899  0.016159  0.001179    -0.030390   \n",
       "Day                             0.011446 -0.001196 -0.001149    -0.010049   \n",
       "Hour                           -0.000178 -0.005060  0.000911     0.003917   \n",
       "\n",
       "                                Direction_n  Direction_s  Direction_w  \\\n",
       "Route                              0.064304     0.058385    -0.047580   \n",
       "Min Gap                           -0.031929    -0.017381     0.045133   \n",
       "Vehicle                           -0.001610     0.000429    -0.014221   \n",
       "Direction_e                       -0.247167    -0.235475    -0.728888   \n",
       "Direction_n                        1.000000    -0.084908    -0.262825   \n",
       "Direction_s                       -0.084908     1.000000    -0.250392   \n",
       "Direction_w                       -0.262825    -0.250392     1.000000   \n",
       "Incident_Diversion                -0.001596    -0.002825     0.021100   \n",
       "Incident_Emergency Services       -0.012627    -0.005542     0.022643   \n",
       "Incident_General Delay            -0.015004    -0.020404     0.041636   \n",
       "Incident_Held By                  -0.007301    -0.002220     0.038600   \n",
       "Incident_Investigation            -0.006178     0.026648    -0.006354   \n",
       "Incident_Late Leaving Garage       0.020793    -0.061734     0.007648   \n",
       "Incident_Mechanical               -0.000686     0.032453    -0.047696   \n",
       "Incident_Overhead - Pantograph     0.002776    -0.003546    -0.000203   \n",
       "Incident_Utilized Off Route        0.019138    -0.004667    -0.015405   \n",
       "Day_Friday                        -0.003376     0.002689     0.002094   \n",
       "Day_Monday                        -0.004585     0.006021     0.003501   \n",
       "Day_Saturday                       0.009142     0.005678    -0.000309   \n",
       "Day_Sunday                         0.001315     0.006880     0.000905   \n",
       "Day_Thursday                       0.000321    -0.007091    -0.000843   \n",
       "Day_Tuesday                       -0.004783    -0.009010    -0.004734   \n",
       "Day_Wednesday                      0.003262    -0.002902    -0.000384   \n",
       "Year                              -0.003167    -0.005430     0.012928   \n",
       "Month                             -0.001273     0.008200     0.026452   \n",
       "Day                               -0.010484     0.000749     0.015350   \n",
       "Hour                              -0.002060     0.002629    -0.004136   \n",
       "\n",
       "                                Incident_Diversion  \\\n",
       "Route                                    -0.023700   \n",
       "Min Gap                                   0.175230   \n",
       "Vehicle                                  -0.002160   \n",
       "Direction_e                              -0.018901   \n",
       "Direction_n                              -0.001596   \n",
       "Direction_s                              -0.002825   \n",
       "Direction_w                               0.021100   \n",
       "Incident_Diversion                        1.000000   \n",
       "Incident_Emergency Services              -0.020563   \n",
       "Incident_General Delay                   -0.022316   \n",
       "Incident_Held By                         -0.044681   \n",
       "Incident_Investigation                   -0.048016   \n",
       "Incident_Late Leaving Garage             -0.040548   \n",
       "Incident_Mechanical                      -0.123362   \n",
       "Incident_Overhead - Pantograph           -0.001481   \n",
       "Incident_Utilized Off Route              -0.022749   \n",
       "Day_Friday                               -0.009972   \n",
       "Day_Monday                               -0.005460   \n",
       "Day_Saturday                              0.002509   \n",
       "Day_Sunday                                0.026506   \n",
       "Day_Thursday                             -0.002049   \n",
       "Day_Tuesday                              -0.000388   \n",
       "Day_Wednesday                            -0.006262   \n",
       "Year                                      0.009340   \n",
       "Month                                     0.011782   \n",
       "Day                                      -0.000767   \n",
       "Hour                                      0.001514   \n",
       "\n",
       "                                Incident_Emergency Services  \\\n",
       "Route                                             -0.055631   \n",
       "Min Gap                                            0.048142   \n",
       "Vehicle                                            0.001392   \n",
       "Direction_e                                       -0.012847   \n",
       "Direction_n                                       -0.012627   \n",
       "Direction_s                                       -0.005542   \n",
       "Direction_w                                        0.022643   \n",
       "Incident_Diversion                                -0.020563   \n",
       "Incident_Emergency Services                        1.000000   \n",
       "Incident_General Delay                            -0.032508   \n",
       "Incident_Held By                                  -0.065086   \n",
       "Incident_Investigation                            -0.069945   \n",
       "Incident_Late Leaving Garage                      -0.059066   \n",
       "Incident_Mechanical                               -0.179700   \n",
       "Incident_Overhead - Pantograph                    -0.002158   \n",
       "Incident_Utilized Off Route                       -0.033139   \n",
       "Day_Friday                                        -0.008425   \n",
       "Day_Monday                                        -0.008074   \n",
       "Day_Saturday                                       0.017137   \n",
       "Day_Sunday                                         0.026137   \n",
       "Day_Thursday                                      -0.005801   \n",
       "Day_Tuesday                                       -0.007367   \n",
       "Day_Wednesday                                     -0.006865   \n",
       "Year                                               0.018482   \n",
       "Month                                             -0.000305   \n",
       "Day                                               -0.007546   \n",
       "Hour                                              -0.008458   \n",
       "\n",
       "                                Incident_General Delay  ...  Day_Monday  \\\n",
       "Route                                         0.017453  ...    0.010611   \n",
       "Min Gap                                       0.010307  ...   -0.013045   \n",
       "Vehicle                                      -0.024807  ...   -0.002274   \n",
       "Direction_e                                  -0.022736  ...   -0.004201   \n",
       "Direction_n                                  -0.015004  ...   -0.004585   \n",
       "Direction_s                                  -0.020404  ...    0.006021   \n",
       "Direction_w                                   0.041636  ...    0.003501   \n",
       "Incident_Diversion                           -0.022316  ...   -0.005460   \n",
       "Incident_Emergency Services                  -0.032508  ...   -0.008074   \n",
       "Incident_General Delay                        1.000000  ...   -0.020637   \n",
       "Incident_Held By                             -0.070636  ...   -0.013836   \n",
       "Incident_Investigation                       -0.075909  ...   -0.001621   \n",
       "Incident_Late Leaving Garage                 -0.064102  ...    0.016812   \n",
       "Incident_Mechanical                          -0.195023  ...    0.009860   \n",
       "Incident_Overhead - Pantograph               -0.002342  ...   -0.000148   \n",
       "Incident_Utilized Off Route                  -0.035964  ...    0.004324   \n",
       "Day_Friday                                    0.007419  ...   -0.180019   \n",
       "Day_Monday                                   -0.020637  ...    1.000000   \n",
       "Day_Saturday                                  0.010302  ...   -0.148155   \n",
       "Day_Sunday                                    0.018267  ...   -0.138725   \n",
       "Day_Thursday                                  0.003729  ...   -0.185184   \n",
       "Day_Tuesday                                  -0.014024  ...   -0.179523   \n",
       "Day_Wednesday                                -0.001173  ...   -0.179854   \n",
       "Year                                          0.038061  ...    0.004539   \n",
       "Month                                         0.021885  ...   -0.014690   \n",
       "Day                                           0.013049  ...   -0.000877   \n",
       "Hour                                         -0.000141  ...   -0.010434   \n",
       "\n",
       "                                Day_Saturday  Day_Sunday  Day_Thursday  \\\n",
       "Route                              -0.029604   -0.049578      0.015163   \n",
       "Min Gap                             0.015613    0.042096     -0.015156   \n",
       "Vehicle                            -0.004080   -0.003524     -0.002267   \n",
       "Direction_e                        -0.007830   -0.005333      0.004471   \n",
       "Direction_n                         0.009142    0.001315      0.000321   \n",
       "Direction_s                         0.005678    0.006880     -0.007091   \n",
       "Direction_w                        -0.000309    0.000905     -0.000843   \n",
       "Incident_Diversion                  0.002509    0.026506     -0.002049   \n",
       "Incident_Emergency Services         0.017137    0.026137     -0.005801   \n",
       "Incident_General Delay              0.010302    0.018267      0.003729   \n",
       "Incident_Held By                    0.008668    0.020760     -0.007592   \n",
       "Incident_Investigation              0.018940    0.010416     -0.005356   \n",
       "Incident_Late Leaving Garage       -0.064864   -0.058682      0.025853   \n",
       "Incident_Mechanical                 0.014734   -0.002727     -0.009538   \n",
       "Incident_Overhead - Pantograph      0.001179    0.001761      0.004015   \n",
       "Incident_Utilized Off Route        -0.010976   -0.010781      0.009278   \n",
       "Day_Friday                         -0.154693   -0.144847     -0.193356   \n",
       "Day_Monday                         -0.148155   -0.138725     -0.185184   \n",
       "Day_Saturday                        1.000000   -0.119209     -0.159131   \n",
       "Day_Sunday                         -0.119209    1.000000     -0.149003   \n",
       "Day_Thursday                       -0.159131   -0.149003      1.000000   \n",
       "Day_Tuesday                        -0.154267   -0.144448     -0.192824   \n",
       "Day_Wednesday                      -0.154551   -0.144714     -0.193179   \n",
       "Year                                0.021111    0.006928      0.004579   \n",
       "Month                              -0.002790   -0.005580      0.008586   \n",
       "Day                                 0.010693    0.005384      0.015499   \n",
       "Hour                               -0.016054    0.007741      0.024265   \n",
       "\n",
       "                                Day_Tuesday  Day_Wednesday      Year  \\\n",
       "Route                              0.009791       0.024823 -0.011980   \n",
       "Min Gap                           -0.005897      -0.009730 -0.015375   \n",
       "Vehicle                            0.008051       0.001761 -0.049402   \n",
       "Direction_e                        0.012275       0.000122 -0.008377   \n",
       "Direction_n                       -0.004783       0.003262 -0.003167   \n",
       "Direction_s                       -0.009010      -0.002902 -0.005430   \n",
       "Direction_w                       -0.004734      -0.000384  0.012928   \n",
       "Incident_Diversion                -0.000388      -0.006262  0.009340   \n",
       "Incident_Emergency Services       -0.007367      -0.006865  0.018482   \n",
       "Incident_General Delay            -0.014024      -0.001173  0.038061   \n",
       "Incident_Held By                  -0.016455       0.012992 -0.041700   \n",
       "Incident_Investigation            -0.006661      -0.005792 -0.004248   \n",
       "Incident_Late Leaving Garage       0.003978       0.027213 -0.018749   \n",
       "Incident_Mechanical                0.015828      -0.018840  0.031992   \n",
       "Incident_Overhead - Pantograph     0.004389      -0.005400  0.016526   \n",
       "Incident_Utilized Off Route        0.012908       0.005385 -0.034379   \n",
       "Day_Friday                        -0.187446      -0.187791 -0.005489   \n",
       "Day_Monday                        -0.179523      -0.179854  0.004539   \n",
       "Day_Saturday                      -0.154267      -0.154551  0.021111   \n",
       "Day_Sunday                        -0.144448      -0.144714  0.006928   \n",
       "Day_Thursday                      -0.192824      -0.193179  0.004579   \n",
       "Day_Tuesday                        1.000000      -0.187274 -0.018085   \n",
       "Day_Wednesday                     -0.187274       1.000000 -0.009552   \n",
       "Year                              -0.018085      -0.009552  1.000000   \n",
       "Month                              0.003496       0.009071 -0.048151   \n",
       "Day                               -0.001210      -0.019410  0.019126   \n",
       "Hour                               0.002012      -0.008277  0.008461   \n",
       "\n",
       "                                   Month       Day      Hour  \n",
       "Route                          -0.001899  0.011446 -0.000178  \n",
       "Min Gap                         0.016159 -0.001196 -0.005060  \n",
       "Vehicle                         0.001179 -0.001149  0.000911  \n",
       "Direction_e                    -0.030390 -0.010049  0.003917  \n",
       "Direction_n                    -0.001273 -0.010484 -0.002060  \n",
       "Direction_s                     0.008200  0.000749  0.002629  \n",
       "Direction_w                     0.026452  0.015350 -0.004136  \n",
       "Incident_Diversion              0.011782 -0.000767  0.001514  \n",
       "Incident_Emergency Services    -0.000305 -0.007546 -0.008458  \n",
       "Incident_General Delay          0.021885  0.013049 -0.000141  \n",
       "Incident_Held By                0.019259 -0.009008  0.001846  \n",
       "Incident_Investigation          0.025530  0.010606 -0.007366  \n",
       "Incident_Late Leaving Garage   -0.050263  0.009444 -0.000664  \n",
       "Incident_Mechanical             0.000394 -0.009576  0.005685  \n",
       "Incident_Overhead - Pantograph  0.017289  0.012407  0.009360  \n",
       "Incident_Utilized Off Route    -0.030115  0.000091  0.002521  \n",
       "Day_Friday                     -0.000036 -0.008049 -0.000797  \n",
       "Day_Monday                     -0.014690 -0.000877 -0.010434  \n",
       "Day_Saturday                   -0.002790  0.010693 -0.016054  \n",
       "Day_Sunday                     -0.005580  0.005384  0.007741  \n",
       "Day_Thursday                    0.008586  0.015499  0.024265  \n",
       "Day_Tuesday                     0.003496 -0.001210  0.002012  \n",
       "Day_Wednesday                   0.009071 -0.019410 -0.008277  \n",
       "Year                           -0.048151  0.019126  0.008461  \n",
       "Month                           1.000000  0.036648  0.002977  \n",
       "Day                             0.036648  1.000000  0.151580  \n",
       "Hour                            0.002977  0.151580  1.000000  \n",
       "\n",
       "[27 rows x 27 columns]"
      ]
     },
     "execution_count": 111,
     "metadata": {},
     "output_type": "execute_result"
    }
   ],
   "source": [
    "X.corr()"
   ]
  },
  {
   "cell_type": "code",
   "execution_count": 112,
   "metadata": {},
   "outputs": [],
   "source": [
    "number_of_features = X.shape[1]"
   ]
  },
  {
   "cell_type": "code",
   "execution_count": 113,
   "metadata": {},
   "outputs": [
    {
     "data": {
      "image/png": "[encoded data removed]",
      "text/plain": [
       "<Figure size 720x720 with 2 Axes>"
      ]
     },
     "metadata": {
      "needs_background": "light"
     },
     "output_type": "display_data"
    }
   ],
   "source": [
    "plt.figure(figsize = (10, 10))\n",
    "plt.xticks(range(0, number_of_features), feature_names, rotation='vertical')\n",
    "plt.yticks(range(0, number_of_features), feature_names)\n",
    "plt.imshow(X.corr(), cmap='ocean')\n",
    "plt.colorbar()\n",
    "plt.show()"
   ]
  },
  {
   "cell_type": "markdown",
   "metadata": {},
   "source": [
    "# Logistic regression"
   ]
  },
  {
   "cell_type": "code",
   "execution_count": 114,
   "metadata": {},
   "outputs": [],
   "source": [
    "from sklearn import linear_model\n",
    "from sklearn import model_selection\n",
    "from sklearn import metrics\n",
    "from sklearn import preprocessing\n",
    "from sklearn import datasets"
   ]
  },
  {
   "cell_type": "code",
   "execution_count": 115,
   "metadata": {},
   "outputs": [],
   "source": [
    "X_train, X_test, y_train, y_test = model_selection.train_test_split(X, y, test_size = 0.33, random_state = 7, stratify = y)"
   ]
  },
  {
   "cell_type": "code",
   "execution_count": 116,
   "metadata": {},
   "outputs": [
    {
     "data": {
      "text/plain": [
       "(30179, 27)"
      ]
     },
     "execution_count": 116,
     "metadata": {},
     "output_type": "execute_result"
    }
   ],
   "source": [
    "X_train.shape"
   ]
  },
  {
   "cell_type": "code",
   "execution_count": 117,
   "metadata": {},
   "outputs": [
    {
     "data": {
      "text/plain": [
       "(14865, 27)"
      ]
     },
     "execution_count": 117,
     "metadata": {},
     "output_type": "execute_result"
    }
   ],
   "source": [
    "X_test.shape"
   ]
  },
  {
   "cell_type": "code",
   "execution_count": 118,
   "metadata": {},
   "outputs": [
    {
     "data": {
      "text/plain": [
       "(30179,)"
      ]
     },
     "execution_count": 118,
     "metadata": {},
     "output_type": "execute_result"
    }
   ],
   "source": [
    " y_train.shape\n",
    "    "
   ]
  },
  {
   "cell_type": "code",
   "execution_count": 119,
   "metadata": {},
   "outputs": [
    {
     "data": {
      "text/plain": [
       "(14865,)"
      ]
     },
     "execution_count": 119,
     "metadata": {},
     "output_type": "execute_result"
    }
   ],
   "source": [
    "y_test.shape"
   ]
  },
  {
   "cell_type": "code",
   "execution_count": 120,
   "metadata": {},
   "outputs": [],
   "source": [
    "scaler = preprocessing.StandardScaler()\n",
    "scaler.fit(X_train)\n",
    "X_train = scaler.transform(X_train)\n",
    "X_test = scaler.transform(X_test)"
   ]
  },
  {
   "cell_type": "code",
   "execution_count": 121,
   "metadata": {},
   "outputs": [
    {
     "name": "stdout",
     "output_type": "stream",
     "text": [
      "Train Delay:  29731      Train Without Delay:  448\n"
     ]
    }
   ],
   "source": [
    "wd_train = np.sum(y_train == 0)\n",
    "d_train = np.sum(y_train == 1)\n",
    "print('Train Delay: ', d_train, '     Train Without Delay: ', wd_train)"
   ]
  },
  {
   "cell_type": "code",
   "execution_count": 122,
   "metadata": {},
   "outputs": [
    {
     "name": "stdout",
     "output_type": "stream",
     "text": [
      "Test Delay:  14645      Test Without Delay:  220\n"
     ]
    }
   ],
   "source": [
    "wd_test = np.sum(y_test == 0)\n",
    "d_test = np.sum(y_test == 1)\n",
    "print('Test Delay: ', d_test, '     Test Without Delay: ', wd_test)"
   ]
  },
  {
   "cell_type": "code",
   "execution_count": 123,
   "metadata": {},
   "outputs": [
    {
     "data": {
      "image/png": "[encoded data removed]",
      "text/plain": [
       "<Figure size 504x504 with 1 Axes>"
      ]
     },
     "metadata": {
      "needs_background": "light"
     },
     "output_type": "display_data"
    }
   ],
   "source": [
    "plt.figure(figsize = (7, 7))\n",
    "matplotlib.rc('xtick', labelsize = 12) \n",
    "matplotlib.rc('ytick', labelsize = 12) \n",
    "plt.title(\"Visual inspection of stratification\")\n",
    "plt.xticks([0,1])\n",
    "plt.xlabel('No delay                                                        delay ', fontsize = 15 )\n",
    "plt.hist([y_train, y_test], color=['red', 'blue'], label=['training set ',' testing set'])\n",
    "plt.legend(loc='best')\n",
    "plt.show()"
   ]
  },
  {
   "cell_type": "markdown",
   "metadata": {},
   "source": [
    "## Model learning"
   ]
  },
  {
   "cell_type": "code",
   "execution_count": 124,
   "metadata": {},
   "outputs": [],
   "source": [
    "model = linear_model.LogisticRegression(solver='lbfgs')"
   ]
  },
  {
   "cell_type": "code",
   "execution_count": 125,
   "metadata": {},
   "outputs": [
    {
     "data": {
      "text/plain": [
       "LogisticRegression(C=1.0, class_weight=None, dual=False, fit_intercept=True,\n",
       "                   intercept_scaling=1, l1_ratio=None, max_iter=100,\n",
       "                   multi_class='warn', n_jobs=None, penalty='l2',\n",
       "                   random_state=None, solver='lbfgs', tol=0.0001, verbose=0,\n",
       "                   warm_start=False)"
      ]
     },
     "execution_count": 125,
     "metadata": {},
     "output_type": "execute_result"
    }
   ],
   "source": [
    "model.fit(X_train, y_train)"
   ]
  },
  {
   "cell_type": "code",
   "execution_count": 126,
   "metadata": {},
   "outputs": [
    {
     "data": {
      "text/plain": [
       "array([8.5299948])"
      ]
     },
     "execution_count": 126,
     "metadata": {},
     "output_type": "execute_result"
    }
   ],
   "source": [
    "model.intercept_"
   ]
  },
  {
   "cell_type": "code",
   "execution_count": 127,
   "metadata": {},
   "outputs": [
    {
     "data": {
      "text/plain": [
       "array([[ 4.90790829e-02,  1.25658767e+01,  6.03311894e-02,\n",
       "        -2.18276782e-03,  4.70885003e-02, -3.05541783e-02,\n",
       "        -7.86958723e-03, -5.82339156e-02, -2.60995201e-02,\n",
       "        -2.68324722e-01,  1.66379250e-01, -1.86619328e-01,\n",
       "         2.52870554e-01,  3.64399362e-02,  3.34655481e-02,\n",
       "        -1.40924837e-01, -4.81297162e-02,  4.74150376e-02,\n",
       "        -3.25820731e-02, -3.67521391e-02, -4.32427030e-02,\n",
       "         5.60851700e-02,  4.84709167e-02, -1.02366586e-01,\n",
       "         3.55862687e-02, -5.56892492e-02, -3.04213311e-02]])"
      ]
     },
     "execution_count": 127,
     "metadata": {},
     "output_type": "execute_result"
    }
   ],
   "source": [
    "model.coef_"
   ]
  },
  {
   "cell_type": "markdown",
   "metadata": {},
   "source": [
    "## Evaluation"
   ]
  },
  {
   "cell_type": "code",
   "execution_count": 128,
   "metadata": {},
   "outputs": [],
   "source": [
    "y_test_predicted = model.predict(X_test)"
   ]
  },
  {
   "cell_type": "code",
   "execution_count": 129,
   "metadata": {},
   "outputs": [
    {
     "data": {
      "text/plain": [
       "0.986343760511268"
      ]
     },
     "execution_count": 129,
     "metadata": {},
     "output_type": "execute_result"
    }
   ],
   "source": [
    "accuracy = metrics.accuracy_score(y_test, y_test_predicted)\n",
    "accuracy"
   ]
  },
  {
   "cell_type": "code",
   "execution_count": 130,
   "metadata": {},
   "outputs": [
    {
     "data": {
      "text/plain": [
       "0.9868527508090615"
      ]
     },
     "execution_count": 130,
     "metadata": {},
     "output_type": "execute_result"
    }
   ],
   "source": [
    "precision = metrics.precision_score(y_test, y_test_predicted)\n",
    "precision"
   ]
  },
  {
   "cell_type": "code",
   "execution_count": 131,
   "metadata": {},
   "outputs": [
    {
     "data": {
      "text/plain": [
       "0.999453738477296"
      ]
     },
     "execution_count": 131,
     "metadata": {},
     "output_type": "execute_result"
    }
   ],
   "source": [
    "recall = metrics.recall_score(y_test, y_test_predicted)\n",
    "recall"
   ]
  },
  {
   "cell_type": "code",
   "execution_count": 132,
   "metadata": {},
   "outputs": [
    {
     "data": {
      "text/plain": [
       "0.99311327475659"
      ]
     },
     "execution_count": 132,
     "metadata": {},
     "output_type": "execute_result"
    }
   ],
   "source": [
    "f1 = metrics.f1_score(y_test, y_test_predicted)\n",
    "f1"
   ]
  },
  {
   "cell_type": "code",
   "execution_count": 133,
   "metadata": {},
   "outputs": [],
   "source": [
    "y_train_predicted = model.predict(X_train)"
   ]
  },
  {
   "cell_type": "code",
   "execution_count": 134,
   "metadata": {},
   "outputs": [
    {
     "data": {
      "text/plain": [
       "array([1, 1, 1, 1, 1, 1, 1, 1, 1, 1, 1, 1, 1, 1, 1, 1, 1, 1, 1, 1, 1, 1,\n",
       "       1, 1, 1, 1, 1, 1, 1, 1], dtype=int64)"
      ]
     },
     "execution_count": 134,
     "metadata": {},
     "output_type": "execute_result"
    }
   ],
   "source": [
    "y_train_predicted[:30]"
   ]
  },
  {
   "cell_type": "code",
   "execution_count": 135,
   "metadata": {},
   "outputs": [],
   "source": [
    "train_score = metrics.accuracy_score(y_train, y_train_predicted)\n",
    "test_score = metrics.accuracy_score(y_test, y_test_predicted)"
   ]
  },
  {
   "cell_type": "code",
   "execution_count": 136,
   "metadata": {},
   "outputs": [
    {
     "name": "stdout",
     "output_type": "stream",
     "text": [
      "Accuracy at the training set: 0.9867126147320985\n",
      "Accuracy at the test set: 0.986343760511268\n"
     ]
    }
   ],
   "source": [
    "print(\"Accuracy at the training set: {train}\\nAccuracy at the test set: {test}\".format(train=train_score, test=test_score))"
   ]
  },
  {
   "cell_type": "code",
   "execution_count": 137,
   "metadata": {},
   "outputs": [
    {
     "name": "stdout",
     "output_type": "stream",
     "text": [
      "              precision    recall  f1-score   support\n",
      "\n",
      "           0       0.76      0.11      0.20       220\n",
      "           1       0.99      1.00      0.99     14645\n",
      "\n",
      "    accuracy                           0.99     14865\n",
      "   macro avg       0.87      0.56      0.60     14865\n",
      "weighted avg       0.98      0.99      0.98     14865\n",
      "\n"
     ]
    }
   ],
   "source": [
    "print(metrics.classification_report(y_test, y_test_predicted))"
   ]
  },
  {
   "cell_type": "code",
   "execution_count": 138,
   "metadata": {},
   "outputs": [
    {
     "data": {
      "text/plain": [
       "array([[   25,   195],\n",
       "       [    8, 14637]], dtype=int64)"
      ]
     },
     "execution_count": 138,
     "metadata": {},
     "output_type": "execute_result"
    }
   ],
   "source": [
    "metrics.confusion_matrix(y_test, y_test_predicted)"
   ]
  },
  {
   "cell_type": "code",
   "execution_count": 143,
   "metadata": {},
   "outputs": [
    {
     "data": {
      "image/png": "[encoded data removed]",
      "text/plain": [
       "<Figure size 720x360 with 1 Axes>"
      ]
     },
     "metadata": {
      "needs_background": "light"
     },
     "output_type": "display_data"
    }
   ],
   "source": [
    "fig = plt.figure(figsize=(10, 5))\n",
    "plt.bar(['accuracy', 'precision', 'recall', 'f1'], [accuracy , precision, recall, f1], color='orangered')\n",
    "plt.title(\"Evaluation Logistic Regression\")\n",
    "plt.yticks(np.arange(0, 1, 0.1)) \n",
    "plt.show()"
   ]
  },
  {
   "cell_type": "markdown",
   "metadata": {},
   "source": [
    "# Neural networks"
   ]
  },
  {
   "cell_type": "code",
   "execution_count": 144,
   "metadata": {},
   "outputs": [],
   "source": [
    "import tensorflow as tf\n",
    "from keras.models import Sequential\n",
    "from keras.layers import Dense, Activation\n",
    "from keras import losses, optimizers\n",
    "from keras.layers import Dropout\n",
    "import numpy as np\n",
    "from matplotlib import pyplot as plt\n",
    "from sklearn import preprocessing\n",
    "from sklearn import datasets\n",
    "from sklearn import model_selection\n",
    "from keras import optimizers\n",
    "from keras import losses"
   ]
  },
  {
   "cell_type": "code",
   "execution_count": 145,
   "metadata": {},
   "outputs": [],
   "source": [
    "np.random.seed(7)"
   ]
  },
  {
   "cell_type": "markdown",
   "metadata": {},
   "source": [
    "## Creating Neural networks"
   ]
  },
  {
   "cell_type": "markdown",
   "metadata": {},
   "source": [
    "I will create a neural network with advance propagation. <br> The neural network will have an input layer, three hidden layers with, respectively, 100, 40 and 20 neurons, and an output layer. <br> The number of input layer neurons corresponds to the number of attributes of the data set, which is 27. <br> The number of output layer neurons is 1 since it is a binary classification. <br> In hidden layers I will use relu activation function and in the latter sigmoid function. <br> Optimizer Adam will be used. <br> Binary cross entropy as a function of error will be used. <br> Since the task of classification metrics will be accuracy. <br> I will use Dropout regularization for reducing overfitting and improving the generalization. "
   ]
  },
  {
   "cell_type": "code",
   "execution_count": 148,
   "metadata": {},
   "outputs": [],
   "source": [
    "number_of_features = X_train.shape[1]\n",
    "output_size = 1"
   ]
  },
  {
   "cell_type": "code",
   "execution_count": 149,
   "metadata": {},
   "outputs": [
    {
     "data": {
      "text/plain": [
       "27"
      ]
     },
     "execution_count": 149,
     "metadata": {},
     "output_type": "execute_result"
    }
   ],
   "source": [
    "number_of_features"
   ]
  },
  {
   "cell_type": "code",
   "execution_count": 150,
   "metadata": {},
   "outputs": [],
   "source": [
    "model = Sequential()\n",
    "model.add(Dense(units = 100, input_dim = number_of_features, activation = 'relu'))\n",
    "model.add(Dense(units = 40, activation = 'relu'))\n",
    "model.add(Dense(units = 20, activation = 'relu'))\n",
    "model.add(Dropout(0.1))\n",
    "model.add(Dense(units = output_size, activation = 'sigmoid'))"
   ]
  },
  {
   "cell_type": "code",
   "execution_count": 151,
   "metadata": {},
   "outputs": [],
   "source": [
    "model.compile( optimizers.Adam(learning_rate = 0.0001), loss = losses.BinaryCrossentropy(), metrics = ['accuracy'] )"
   ]
  },
  {
   "cell_type": "code",
   "execution_count": 152,
   "metadata": {},
   "outputs": [
    {
     "name": "stdout",
     "output_type": "stream",
     "text": [
      "Model: \"sequential\"\n",
      "_________________________________________________________________\n",
      "Layer (type)                 Output Shape              Param #   \n",
      "=================================================================\n",
      "dense (Dense)                (None, 100)               2800      \n",
      "_________________________________________________________________\n",
      "dense_1 (Dense)              (None, 40)                4040      \n",
      "_________________________________________________________________\n",
      "dense_2 (Dense)              (None, 20)                820       \n",
      "_________________________________________________________________\n",
      "dropout (Dropout)            (None, 20)                0         \n",
      "_________________________________________________________________\n",
      "dense_3 (Dense)              (None, 1)                 21        \n",
      "=================================================================\n",
      "Total params: 7,681\n",
      "Trainable params: 7,681\n",
      "Non-trainable params: 0\n",
      "_________________________________________________________________\n"
     ]
    }
   ],
   "source": [
    "model.summary()"
   ]
  },
  {
   "cell_type": "code",
   "execution_count": 153,
   "metadata": {},
   "outputs": [
    {
     "name": "stdout",
     "output_type": "stream",
     "text": [
      "Epoch 1/50\n",
      "755/755 [==============================] - 6s 8ms/step - loss: 0.1854 - accuracy: 0.9603 - val_loss: 0.0783 - val_accuracy: 0.9853\n",
      "Epoch 2/50\n",
      "755/755 [==============================] - 6s 7ms/step - loss: 0.0815 - accuracy: 0.9851 - val_loss: 0.0728 - val_accuracy: 0.9853\n",
      "Epoch 3/50\n",
      "755/755 [==============================] - 7s 9ms/step - loss: 0.0757 - accuracy: 0.9851 - val_loss: 0.0698 - val_accuracy: 0.9853\n",
      "Epoch 4/50\n",
      "755/755 [==============================] - 6s 8ms/step - loss: 0.0728 - accuracy: 0.9851 - val_loss: 0.0677 - val_accuracy: 0.9853\n",
      "Epoch 5/50\n",
      "755/755 [==============================] - 4s 6ms/step - loss: 0.0706 - accuracy: 0.9851 - val_loss: 0.0658 - val_accuracy: 0.9853\n",
      "Epoch 6/50\n",
      "755/755 [==============================] - 5s 7ms/step - loss: 0.0678 - accuracy: 0.9851 - val_loss: 0.0642 - val_accuracy: 0.9853\n",
      "Epoch 7/50\n",
      "755/755 [==============================] - 5s 7ms/step - loss: 0.0652 - accuracy: 0.9851 - val_loss: 0.0620 - val_accuracy: 0.9853\n",
      "Epoch 8/50\n",
      "755/755 [==============================] - 4s 5ms/step - loss: 0.0625 - accuracy: 0.9852 - val_loss: 0.0601 - val_accuracy: 0.9853\n",
      "Epoch 9/50\n",
      "755/755 [==============================] - 5s 6ms/step - loss: 0.0601 - accuracy: 0.9855 - val_loss: 0.0580 - val_accuracy: 0.9854\n",
      "Epoch 10/50\n",
      "755/755 [==============================] - 5s 6ms/step - loss: 0.0580 - accuracy: 0.9856 - val_loss: 0.0556 - val_accuracy: 0.9856\n",
      "Epoch 11/50\n",
      "755/755 [==============================] - 4s 6ms/step - loss: 0.0550 - accuracy: 0.9860 - val_loss: 0.0533 - val_accuracy: 0.9862\n",
      "Epoch 12/50\n",
      "755/755 [==============================] - 5s 6ms/step - loss: 0.0530 - accuracy: 0.9862 - val_loss: 0.0510 - val_accuracy: 0.9871\n",
      "Epoch 13/50\n",
      "755/755 [==============================] - 5s 7ms/step - loss: 0.0503 - accuracy: 0.9865 - val_loss: 0.0494 - val_accuracy: 0.9871\n",
      "Epoch 14/50\n",
      "755/755 [==============================] - 5s 7ms/step - loss: 0.0482 - accuracy: 0.9867 - val_loss: 0.0469 - val_accuracy: 0.9871\n",
      "Epoch 15/50\n",
      "755/755 [==============================] - 5s 6ms/step - loss: 0.0453 - accuracy: 0.9874 - val_loss: 0.0451 - val_accuracy: 0.9877\n",
      "Epoch 16/50\n",
      "755/755 [==============================] - 5s 7ms/step - loss: 0.0431 - accuracy: 0.9879 - val_loss: 0.0440 - val_accuracy: 0.9871\n",
      "Epoch 17/50\n",
      "755/755 [==============================] - 6s 8ms/step - loss: 0.0412 - accuracy: 0.9884 - val_loss: 0.0428 - val_accuracy: 0.9874\n",
      "Epoch 18/50\n",
      "755/755 [==============================] - 6s 7ms/step - loss: 0.0399 - accuracy: 0.9889 - val_loss: 0.0411 - val_accuracy: 0.9874\n",
      "Epoch 19/50\n",
      "755/755 [==============================] - 6s 8ms/step - loss: 0.0380 - accuracy: 0.9889 - val_loss: 0.0404 - val_accuracy: 0.9876\n",
      "Epoch 20/50\n",
      "755/755 [==============================] - 5s 7ms/step - loss: 0.0362 - accuracy: 0.9895 - val_loss: 0.0393 - val_accuracy: 0.9877\n",
      "Epoch 21/50\n",
      "755/755 [==============================] - 5s 7ms/step - loss: 0.0351 - accuracy: 0.9899 - val_loss: 0.0386 - val_accuracy: 0.9882\n",
      "Epoch 22/50\n",
      "755/755 [==============================] - 7s 9ms/step - loss: 0.0338 - accuracy: 0.9903 - val_loss: 0.0388 - val_accuracy: 0.9879\n",
      "Epoch 23/50\n",
      "755/755 [==============================] - 6s 7ms/step - loss: 0.0320 - accuracy: 0.9913 - val_loss: 0.0382 - val_accuracy: 0.9881\n",
      "Epoch 24/50\n",
      "755/755 [==============================] - 5s 7ms/step - loss: 0.0317 - accuracy: 0.9916 - val_loss: 0.0373 - val_accuracy: 0.9884\n",
      "Epoch 25/50\n",
      "755/755 [==============================] - 6s 8ms/step - loss: 0.0312 - accuracy: 0.9913 - val_loss: 0.0381 - val_accuracy: 0.9874\n",
      "Epoch 26/50\n",
      "755/755 [==============================] - 5s 6ms/step - loss: 0.0304 - accuracy: 0.9919 - val_loss: 0.0373 - val_accuracy: 0.9874\n",
      "Epoch 27/50\n",
      "755/755 [==============================] - 5s 7ms/step - loss: 0.0286 - accuracy: 0.9921 - val_loss: 0.0370 - val_accuracy: 0.9877\n",
      "Epoch 28/50\n",
      "755/755 [==============================] - 6s 8ms/step - loss: 0.0295 - accuracy: 0.9928 - val_loss: 0.0374 - val_accuracy: 0.9877\n",
      "Epoch 29/50\n",
      "755/755 [==============================] - 5s 6ms/step - loss: 0.0278 - accuracy: 0.9925 - val_loss: 0.0366 - val_accuracy: 0.9879\n",
      "Epoch 30/50\n",
      "755/755 [==============================] - 5s 7ms/step - loss: 0.0269 - accuracy: 0.9928 - val_loss: 0.0371 - val_accuracy: 0.9879\n",
      "Epoch 31/50\n",
      "755/755 [==============================] - 4s 6ms/step - loss: 0.0271 - accuracy: 0.9932 - val_loss: 0.0370 - val_accuracy: 0.9882\n",
      "Epoch 32/50\n",
      "755/755 [==============================] - 5s 6ms/step - loss: 0.0272 - accuracy: 0.9929 - val_loss: 0.0375 - val_accuracy: 0.9879\n",
      "Epoch 33/50\n",
      "755/755 [==============================] - 5s 6ms/step - loss: 0.0266 - accuracy: 0.9933 - val_loss: 0.0374 - val_accuracy: 0.9874\n",
      "Epoch 34/50\n",
      "755/755 [==============================] - 5s 7ms/step - loss: 0.0263 - accuracy: 0.9930 - val_loss: 0.0375 - val_accuracy: 0.9876\n",
      "Epoch 35/50\n",
      "755/755 [==============================] - 5s 7ms/step - loss: 0.0254 - accuracy: 0.9935 - val_loss: 0.0381 - val_accuracy: 0.9877\n",
      "Epoch 36/50\n",
      "755/755 [==============================] - 5s 6ms/step - loss: 0.0247 - accuracy: 0.9940 - val_loss: 0.0382 - val_accuracy: 0.9876\n",
      "Epoch 37/50\n",
      "755/755 [==============================] - 6s 7ms/step - loss: 0.0242 - accuracy: 0.9942 - val_loss: 0.0381 - val_accuracy: 0.9877\n",
      "Epoch 38/50\n",
      "755/755 [==============================] - 6s 8ms/step - loss: 0.0237 - accuracy: 0.9942 - val_loss: 0.0361 - val_accuracy: 0.9889\n",
      "Epoch 39/50\n",
      "755/755 [==============================] - 5s 7ms/step - loss: 0.0229 - accuracy: 0.9942 - val_loss: 0.0370 - val_accuracy: 0.9879\n",
      "Epoch 40/50\n",
      "755/755 [==============================] - 5s 7ms/step - loss: 0.0229 - accuracy: 0.9946 - val_loss: 0.0379 - val_accuracy: 0.9876\n",
      "Epoch 41/50\n",
      "755/755 [==============================] - 7s 9ms/step - loss: 0.0215 - accuracy: 0.9946 - val_loss: 0.0367 - val_accuracy: 0.9879\n",
      "Epoch 42/50\n",
      "755/755 [==============================] - 5s 6ms/step - loss: 0.0220 - accuracy: 0.9946 - val_loss: 0.0386 - val_accuracy: 0.9886\n",
      "Epoch 43/50\n",
      "755/755 [==============================] - 6s 8ms/step - loss: 0.0213 - accuracy: 0.9948 - val_loss: 0.0391 - val_accuracy: 0.9876\n",
      "Epoch 44/50\n",
      "755/755 [==============================] - 6s 8ms/step - loss: 0.0212 - accuracy: 0.9948 - val_loss: 0.0378 - val_accuracy: 0.9881\n",
      "Epoch 45/50\n",
      "755/755 [==============================] - 5s 7ms/step - loss: 0.0202 - accuracy: 0.9952 - val_loss: 0.0382 - val_accuracy: 0.9886\n",
      "Epoch 46/50\n",
      "755/755 [==============================] - 5s 7ms/step - loss: 0.0202 - accuracy: 0.9949 - val_loss: 0.0384 - val_accuracy: 0.9876\n",
      "Epoch 47/50\n",
      "755/755 [==============================] - 5s 6ms/step - loss: 0.0196 - accuracy: 0.9953 - val_loss: 0.0378 - val_accuracy: 0.9879\n",
      "Epoch 48/50\n",
      "755/755 [==============================] - 5s 6ms/step - loss: 0.0200 - accuracy: 0.9950 - val_loss: 0.0387 - val_accuracy: 0.9882\n",
      "Epoch 49/50\n",
      "755/755 [==============================] - 5s 7ms/step - loss: 0.0198 - accuracy: 0.9952 - val_loss: 0.0390 - val_accuracy: 0.9877\n",
      "Epoch 50/50\n",
      "755/755 [==============================] - 5s 6ms/step - loss: 0.0186 - accuracy: 0.9957 - val_loss: 0.0389 - val_accuracy: 0.9876\n"
     ]
    }
   ],
   "source": [
    "history = model.fit(X_train, y_train, epochs = 50, batch_size = 32, verbose = 1, validation_split = 0.2)"
   ]
  },
  {
   "cell_type": "code",
   "execution_count": 154,
   "metadata": {},
   "outputs": [],
   "source": [
    "epochs = history.epoch\n",
    "\n",
    "loss = history.history['loss']\n",
    "validation_loss = history.history['val_loss']\n",
    "\n",
    "acc = history.history['accuracy']\n",
    "validation_acc = history.history['val_accuracy']"
   ]
  },
  {
   "cell_type": "code",
   "execution_count": 155,
   "metadata": {},
   "outputs": [
    {
     "data": {
      "text/plain": [
       "<matplotlib.legend.Legend at 0x1cb0259b4c8>"
      ]
     },
     "execution_count": 155,
     "metadata": {},
     "output_type": "execute_result"
    },
    {
     "data": {
      "image/png": "[encoded data removed]",
      "text/plain": [
       "<Figure size 1080x360 with 2 Axes>"
      ]
     },
     "metadata": {
      "needs_background": "light"
     },
     "output_type": "display_data"
    }
   ],
   "source": [
    "fig = plt.figure(figsize=(15, 5))\n",
    "\n",
    "plt.subplot(1,2,1)\n",
    "plt.title('Loss')\n",
    "plt.xlabel('Epochs')\n",
    "plt.ylabel('Loss')\n",
    "plt.plot(epochs, loss, c='red', label='training')\n",
    "plt.plot(epochs, validation_loss, c='blue', label='validation')\n",
    "plt.legend(loc='best')\n",
    "\n",
    "plt.subplot(1,2,2)\n",
    "plt.title('Accuracy')\n",
    "plt.xlabel('Epochs')\n",
    "plt.ylabel('Acccuracy')\n",
    "plt.plot(epochs, acc, c='red', label='training')\n",
    "plt.plot(epochs, validation_acc, c='blue', label='validation')\n",
    "plt.legend(loc='best')"
   ]
  },
  {
   "cell_type": "markdown",
   "metadata": {},
   "source": [
    "## Neural network evaluation"
   ]
  },
  {
   "cell_type": "code",
   "execution_count": 156,
   "metadata": {},
   "outputs": [],
   "source": [
    "final_model = Sequential()\n",
    "final_model.add(Dense(units=100, input_dim=number_of_features, activation='relu'))\n",
    "final_model.add(Dense(units=40, activation='relu'))\n",
    "final_model.add(Dense(units=20, activation='relu'))\n",
    "final_model.add(Dropout(0.1))\n",
    "final_model.add(Dense(units=output_size, activation='sigmoid'))\n",
    "final_model.compile(optimizers.Adam(learning_rate = 0.0001), loss=losses.BinaryCrossentropy(), metrics=['accuracy'])"
   ]
  },
  {
   "cell_type": "code",
   "execution_count": 157,
   "metadata": {},
   "outputs": [
    {
     "name": "stdout",
     "output_type": "stream",
     "text": [
      "Epoch 1/50\n",
      "944/944 [==============================] - 5s 5ms/step - loss: 0.2113 - accuracy: 0.9421\n",
      "Epoch 2/50\n",
      "944/944 [==============================] - 5s 5ms/step - loss: 0.0832 - accuracy: 0.9852\n",
      "Epoch 3/50\n",
      "944/944 [==============================] - 6s 6ms/step - loss: 0.0777 - accuracy: 0.9852: 0s - loss: 0.0\n",
      "Epoch 4/50\n",
      "944/944 [==============================] - 6s 7ms/step - loss: 0.0731 - accuracy: 0.9852\n",
      "Epoch 5/50\n",
      "944/944 [==============================] - 6s 7ms/step - loss: 0.0702 - accuracy: 0.9852\n",
      "Epoch 6/50\n",
      "944/944 [==============================] - 6s 6ms/step - loss: 0.0682 - accuracy: 0.9852\n",
      "Epoch 7/50\n",
      "944/944 [==============================] - 6s 6ms/step - loss: 0.0652 - accuracy: 0.9852\n",
      "Epoch 8/50\n",
      "944/944 [==============================] - 5s 5ms/step - loss: 0.0621 - accuracy: 0.9852\n",
      "Epoch 9/50\n",
      "944/944 [==============================] - 5s 5ms/step - loss: 0.0599 - accuracy: 0.9854\n",
      "Epoch 10/50\n",
      "944/944 [==============================] - 4s 5ms/step - loss: 0.0570 - accuracy: 0.9857\n",
      "Epoch 11/50\n",
      "944/944 [==============================] - 4s 4ms/step - loss: 0.0547 - accuracy: 0.9860\n",
      "Epoch 12/50\n",
      "944/944 [==============================] - 5s 6ms/step - loss: 0.0514 - accuracy: 0.9863\n",
      "Epoch 13/50\n",
      "944/944 [==============================] - 7s 7ms/step - loss: 0.0489 - accuracy: 0.9869\n",
      "Epoch 14/50\n",
      "944/944 [==============================] - 5s 6ms/step - loss: 0.0458 - accuracy: 0.9872\n",
      "Epoch 15/50\n",
      "944/944 [==============================] - 4s 5ms/step - loss: 0.0430 - accuracy: 0.9879\n",
      "Epoch 16/50\n",
      "944/944 [==============================] - 4s 4ms/step - loss: 0.0410 - accuracy: 0.9883\n",
      "Epoch 17/50\n",
      "944/944 [==============================] - 5s 5ms/step - loss: 0.0388 - accuracy: 0.9890\n",
      "Epoch 18/50\n",
      "944/944 [==============================] - 4s 5ms/step - loss: 0.0364 - accuracy: 0.9892\n",
      "Epoch 19/50\n",
      "944/944 [==============================] - 5s 5ms/step - loss: 0.0362 - accuracy: 0.9898\n",
      "Epoch 20/50\n",
      "944/944 [==============================] - 5s 5ms/step - loss: 0.0345 - accuracy: 0.9902\n",
      "Epoch 21/50\n",
      "944/944 [==============================] - 5s 5ms/step - loss: 0.0333 - accuracy: 0.9909\n",
      "Epoch 22/50\n",
      "944/944 [==============================] - 6s 6ms/step - loss: 0.0318 - accuracy: 0.9911\n",
      "Epoch 23/50\n",
      "944/944 [==============================] - 5s 6ms/step - loss: 0.0315 - accuracy: 0.9916\n",
      "Epoch 24/50\n",
      "944/944 [==============================] - 5s 5ms/step - loss: 0.0313 - accuracy: 0.9913: 0s - loss: 0.0314 - accuracy: 0.\n",
      "Epoch 25/50\n",
      "944/944 [==============================] - 6s 6ms/step - loss: 0.0298 - accuracy: 0.9918\n",
      "Epoch 26/50\n",
      "944/944 [==============================] - 5s 5ms/step - loss: 0.0290 - accuracy: 0.9923\n",
      "Epoch 27/50\n",
      "944/944 [==============================] - 5s 5ms/step - loss: 0.0293 - accuracy: 0.9924\n",
      "Epoch 28/50\n",
      "944/944 [==============================] - 6s 6ms/step - loss: 0.0285 - accuracy: 0.9928\n",
      "Epoch 29/50\n",
      "944/944 [==============================] - 5s 5ms/step - loss: 0.0282 - accuracy: 0.9929\n",
      "Epoch 30/50\n",
      "944/944 [==============================] - 5s 5ms/step - loss: 0.0275 - accuracy: 0.9932\n",
      "Epoch 31/50\n",
      "944/944 [==============================] - 6s 6ms/step - loss: 0.0270 - accuracy: 0.9926\n",
      "Epoch 32/50\n",
      "944/944 [==============================] - 6s 7ms/step - loss: 0.0260 - accuracy: 0.9933\n",
      "Epoch 33/50\n",
      "944/944 [==============================] - 5s 6ms/step - loss: 0.0250 - accuracy: 0.9932\n",
      "Epoch 34/50\n",
      "944/944 [==============================] - 6s 6ms/step - loss: 0.0260 - accuracy: 0.9929\n",
      "Epoch 35/50\n",
      "944/944 [==============================] - 5s 5ms/step - loss: 0.0251 - accuracy: 0.9940\n",
      "Epoch 36/50\n",
      "944/944 [==============================] - 5s 5ms/step - loss: 0.0250 - accuracy: 0.9935\n",
      "Epoch 37/50\n",
      "944/944 [==============================] - 6s 6ms/step - loss: 0.0242 - accuracy: 0.9943: 0s - l\n",
      "Epoch 38/50\n",
      "944/944 [==============================] - 4s 4ms/step - loss: 0.0235 - accuracy: 0.9944\n",
      "Epoch 39/50\n",
      "944/944 [==============================] - 4s 5ms/step - loss: 0.0236 - accuracy: 0.9941\n",
      "Epoch 40/50\n",
      "944/944 [==============================] - 5s 6ms/step - loss: 0.0228 - accuracy: 0.9947\n",
      "Epoch 41/50\n",
      "944/944 [==============================] - 5s 5ms/step - loss: 0.0221 - accuracy: 0.9944\n",
      "Epoch 42/50\n",
      "944/944 [==============================] - 5s 5ms/step - loss: 0.0221 - accuracy: 0.9948\n",
      "Epoch 43/50\n",
      "944/944 [==============================] - 5s 5ms/step - loss: 0.0221 - accuracy: 0.9948\n",
      "Epoch 44/50\n",
      "944/944 [==============================] - 5s 5ms/step - loss: 0.0216 - accuracy: 0.9947\n",
      "Epoch 45/50\n",
      "944/944 [==============================] - 5s 5ms/step - loss: 0.0216 - accuracy: 0.9949\n",
      "Epoch 46/50\n",
      "944/944 [==============================] - 5s 5ms/step - loss: 0.0212 - accuracy: 0.9948\n",
      "Epoch 47/50\n",
      "944/944 [==============================] - 5s 5ms/step - loss: 0.0205 - accuracy: 0.9955\n",
      "Epoch 48/50\n",
      "944/944 [==============================] - 5s 5ms/step - loss: 0.0203 - accuracy: 0.9951\n",
      "Epoch 49/50\n",
      "944/944 [==============================] - 5s 5ms/step - loss: 0.0198 - accuracy: 0.9953\n",
      "Epoch 50/50\n",
      "944/944 [==============================] - 5s 5ms/step - loss: 0.0194 - accuracy: 0.9958\n"
     ]
    }
   ],
   "source": [
    "history = final_model.fit(X_train, y_train, epochs=50, batch_size=32, verbose = 1)"
   ]
  },
  {
   "cell_type": "code",
   "execution_count": 158,
   "metadata": {},
   "outputs": [
    {
     "name": "stdout",
     "output_type": "stream",
     "text": [
      "465/465 [==============================] - 1s 3ms/step - loss: 0.0370 - accuracy: 0.9880\n",
      "Test loss: 0.036980584263801575, test accuracy: 0.9880255460739136\n"
     ]
    }
   ],
   "source": [
    "test_loss, test_accuracy = final_model.evaluate(X_test, y_test)\n",
    "print (\"Test loss: {}, test accuracy: {}\".format(test_loss, test_accuracy))"
   ]
  },
  {
   "cell_type": "code",
   "execution_count": 159,
   "metadata": {},
   "outputs": [
    {
     "name": "stdout",
     "output_type": "stream",
     "text": [
      "944/944 [==============================] - 3s 3ms/step - loss: 0.0174 - accuracy: 0.9962\n",
      "Train loss: 0.017388662323355675, train accuracy: 0.9961562752723694\n"
     ]
    }
   ],
   "source": [
    "train_loss, train_accuracy = final_model.evaluate(X_train, y_train)\n",
    "print (\"Train loss: {}, train accuracy: {}\".format(train_loss, train_accuracy))"
   ]
  },
  {
   "cell_type": "code",
   "execution_count": 160,
   "metadata": {},
   "outputs": [],
   "source": [
    "epochs = history.epoch\n",
    "loss = history.history['loss']\n",
    "acc = history.history['accuracy']"
   ]
  },
  {
   "cell_type": "code",
   "execution_count": 162,
   "metadata": {},
   "outputs": [
    {
     "data": {
      "text/plain": [
       "<matplotlib.legend.Legend at 0x1cb02dad0c8>"
      ]
     },
     "execution_count": 162,
     "metadata": {},
     "output_type": "execute_result"
    },
    {
     "data": {
      "image/png": "[encoded data removed]",
      "text/plain": [
       "<Figure size 1080x360 with 2 Axes>"
      ]
     },
     "metadata": {
      "needs_background": "light"
     },
     "output_type": "display_data"
    }
   ],
   "source": [
    "fig = plt.figure(figsize=(15, 5))\n",
    "\n",
    "plt.subplot(1, 2, 1)\n",
    "plt.title('Loss')\n",
    "plt.xlabel('Epochs')\n",
    "plt.ylabel('Loss')\n",
    "plt.plot(epochs, loss, c='red', label='test loss')\n",
    "plt.legend(loc='best')\n",
    "\n",
    "plt.subplot(1, 2, 2)\n",
    "plt.title('Accuracy')\n",
    "plt.xlabel('Epochs')\n",
    "plt.ylabel('Acccuracy')\n",
    "plt.plot(epochs, acc, c='blue', label = 'test accuracy')\n",
    "plt.legend(loc='best')"
   ]
  },
  {
   "cell_type": "code",
   "execution_count": null,
   "metadata": {},
   "outputs": [],
   "source": []
  },
  {
   "cell_type": "markdown",
   "metadata": {},
   "source": [
    "## Save model"
   ]
  },
  {
   "cell_type": "code",
   "execution_count": 163,
   "metadata": {},
   "outputs": [],
   "source": [
    "from keras.models import load_model"
   ]
  },
  {
   "cell_type": "code",
   "execution_count": 164,
   "metadata": {},
   "outputs": [],
   "source": [
    "model.save('final_model_without_oversampling.h5') "
   ]
  },
  {
   "cell_type": "code",
   "execution_count": null,
   "metadata": {},
   "outputs": [],
   "source": []
  },
  {
   "cell_type": "markdown",
   "metadata": {},
   "source": [
    "### Oversampling \n",
    "Since the data is not balanced I will do Oversampling"
   ]
  },
  {
   "cell_type": "code",
   "execution_count": 175,
   "metadata": {},
   "outputs": [],
   "source": [
    "oversampling_set = data[data['Delay'] == 0.0]"
   ]
  },
  {
   "cell_type": "code",
   "execution_count": 176,
   "metadata": {},
   "outputs": [],
   "source": [
    "data_balanced  = data"
   ]
  },
  {
   "cell_type": "code",
   "execution_count": 177,
   "metadata": {},
   "outputs": [],
   "source": [
    "for x in range(50):\n",
    "    oversampling_set  = shuffle(oversampling_set)\n",
    "    data_balanced = data_balanced.append(oversampling_set)\n",
    "    data_balanced  = shuffle(data_balanced )"
   ]
  },
  {
   "cell_type": "code",
   "execution_count": 178,
   "metadata": {},
   "outputs": [],
   "source": [
    "data_balanced  = shuffle(data_balanced )"
   ]
  },
  {
   "cell_type": "code",
   "execution_count": 179,
   "metadata": {},
   "outputs": [
    {
     "name": "stdout",
     "output_type": "stream",
     "text": [
      "Without delay  34068\n",
      "With delay  44376\n"
     ]
    }
   ],
   "source": [
    "print(\"Without delay \", data_balanced[data_balanced['Delay']==0].shape[0])\n",
    "print(\"With delay \", data_balanced[data_balanced['Delay']==1].shape[0])"
   ]
  },
  {
   "cell_type": "code",
   "execution_count": 180,
   "metadata": {},
   "outputs": [
    {
     "data": {
      "text/plain": [
       "1    44376\n",
       "0    34068\n",
       "Name: Delay, dtype: int64"
      ]
     },
     "execution_count": 180,
     "metadata": {},
     "output_type": "execute_result"
    }
   ],
   "source": [
    "data_balanced['Delay'].value_counts()"
   ]
  },
  {
   "cell_type": "code",
   "execution_count": 181,
   "metadata": {},
   "outputs": [
    {
     "data": {
      "image/png": "[encoded data removed]",
      "text/plain": [
       "<Figure size 288x504 with 1 Axes>"
      ]
     },
     "metadata": {
      "needs_background": "light"
     },
     "output_type": "display_data"
    }
   ],
   "source": [
    "plt.figure(figsize=(4, 7))\n",
    "plt.bar(['Delay', 'No Delay'], data_balanced['Delay'].value_counts().values, color='blue')\n",
    "plt.title(\"Delay\")\n",
    "plt.show()"
   ]
  },
  {
   "cell_type": "code",
   "execution_count": 182,
   "metadata": {},
   "outputs": [
    {
     "data": {
      "text/html": [
       "<div>\n",
       "<style scoped>\n",
       "    .dataframe tbody tr th:only-of-type {\n",
       "        vertical-align: middle;\n",
       "    }\n",
       "\n",
       "    .dataframe tbody tr th {\n",
       "        vertical-align: top;\n",
       "    }\n",
       "\n",
       "    .dataframe thead th {\n",
       "        text-align: right;\n",
       "    }\n",
       "</style>\n",
       "<table border=\"1\" class=\"dataframe\">\n",
       "  <thead>\n",
       "    <tr style=\"text-align: right;\">\n",
       "      <th></th>\n",
       "      <th>Route</th>\n",
       "      <th>Min Gap</th>\n",
       "      <th>Vehicle</th>\n",
       "      <th>Delay</th>\n",
       "      <th>Direction_e</th>\n",
       "      <th>Direction_n</th>\n",
       "      <th>Direction_s</th>\n",
       "      <th>Direction_w</th>\n",
       "      <th>Incident_Diversion</th>\n",
       "      <th>Incident_Emergency Services</th>\n",
       "      <th>...</th>\n",
       "      <th>Day_Monday</th>\n",
       "      <th>Day_Saturday</th>\n",
       "      <th>Day_Sunday</th>\n",
       "      <th>Day_Thursday</th>\n",
       "      <th>Day_Tuesday</th>\n",
       "      <th>Day_Wednesday</th>\n",
       "      <th>Year</th>\n",
       "      <th>Month</th>\n",
       "      <th>Day</th>\n",
       "      <th>Hour</th>\n",
       "    </tr>\n",
       "  </thead>\n",
       "  <tbody>\n",
       "    <tr>\n",
       "      <td>280</td>\n",
       "      <td>504</td>\n",
       "      <td>32</td>\n",
       "      <td>4105</td>\n",
       "      <td>1</td>\n",
       "      <td>1</td>\n",
       "      <td>0</td>\n",
       "      <td>0</td>\n",
       "      <td>0</td>\n",
       "      <td>0</td>\n",
       "      <td>0</td>\n",
       "      <td>...</td>\n",
       "      <td>0</td>\n",
       "      <td>0</td>\n",
       "      <td>0</td>\n",
       "      <td>0</td>\n",
       "      <td>0</td>\n",
       "      <td>0</td>\n",
       "      <td>2016</td>\n",
       "      <td>10</td>\n",
       "      <td>7</td>\n",
       "      <td>10</td>\n",
       "    </tr>\n",
       "    <tr>\n",
       "      <td>50</td>\n",
       "      <td>501</td>\n",
       "      <td>0</td>\n",
       "      <td>4229</td>\n",
       "      <td>0</td>\n",
       "      <td>1</td>\n",
       "      <td>0</td>\n",
       "      <td>0</td>\n",
       "      <td>0</td>\n",
       "      <td>0</td>\n",
       "      <td>0</td>\n",
       "      <td>...</td>\n",
       "      <td>0</td>\n",
       "      <td>0</td>\n",
       "      <td>0</td>\n",
       "      <td>1</td>\n",
       "      <td>0</td>\n",
       "      <td>0</td>\n",
       "      <td>2017</td>\n",
       "      <td>2</td>\n",
       "      <td>2</td>\n",
       "      <td>5</td>\n",
       "    </tr>\n",
       "    <tr>\n",
       "      <td>474</td>\n",
       "      <td>512</td>\n",
       "      <td>0</td>\n",
       "      <td>4077</td>\n",
       "      <td>0</td>\n",
       "      <td>1</td>\n",
       "      <td>0</td>\n",
       "      <td>0</td>\n",
       "      <td>0</td>\n",
       "      <td>0</td>\n",
       "      <td>0</td>\n",
       "      <td>...</td>\n",
       "      <td>0</td>\n",
       "      <td>0</td>\n",
       "      <td>0</td>\n",
       "      <td>1</td>\n",
       "      <td>0</td>\n",
       "      <td>0</td>\n",
       "      <td>2015</td>\n",
       "      <td>4</td>\n",
       "      <td>16</td>\n",
       "      <td>14</td>\n",
       "    </tr>\n",
       "    <tr>\n",
       "      <td>121</td>\n",
       "      <td>512</td>\n",
       "      <td>5</td>\n",
       "      <td>4193</td>\n",
       "      <td>1</td>\n",
       "      <td>1</td>\n",
       "      <td>0</td>\n",
       "      <td>0</td>\n",
       "      <td>0</td>\n",
       "      <td>0</td>\n",
       "      <td>0</td>\n",
       "      <td>...</td>\n",
       "      <td>0</td>\n",
       "      <td>0</td>\n",
       "      <td>0</td>\n",
       "      <td>0</td>\n",
       "      <td>1</td>\n",
       "      <td>0</td>\n",
       "      <td>2014</td>\n",
       "      <td>1</td>\n",
       "      <td>7</td>\n",
       "      <td>9</td>\n",
       "    </tr>\n",
       "    <tr>\n",
       "      <td>107</td>\n",
       "      <td>506</td>\n",
       "      <td>0</td>\n",
       "      <td>4132</td>\n",
       "      <td>0</td>\n",
       "      <td>0</td>\n",
       "      <td>0</td>\n",
       "      <td>0</td>\n",
       "      <td>1</td>\n",
       "      <td>0</td>\n",
       "      <td>0</td>\n",
       "      <td>...</td>\n",
       "      <td>0</td>\n",
       "      <td>0</td>\n",
       "      <td>0</td>\n",
       "      <td>1</td>\n",
       "      <td>0</td>\n",
       "      <td>0</td>\n",
       "      <td>2014</td>\n",
       "      <td>12</td>\n",
       "      <td>4</td>\n",
       "      <td>14</td>\n",
       "    </tr>\n",
       "    <tr>\n",
       "      <td>...</td>\n",
       "      <td>...</td>\n",
       "      <td>...</td>\n",
       "      <td>...</td>\n",
       "      <td>...</td>\n",
       "      <td>...</td>\n",
       "      <td>...</td>\n",
       "      <td>...</td>\n",
       "      <td>...</td>\n",
       "      <td>...</td>\n",
       "      <td>...</td>\n",
       "      <td>...</td>\n",
       "      <td>...</td>\n",
       "      <td>...</td>\n",
       "      <td>...</td>\n",
       "      <td>...</td>\n",
       "      <td>...</td>\n",
       "      <td>...</td>\n",
       "      <td>...</td>\n",
       "      <td>...</td>\n",
       "      <td>...</td>\n",
       "      <td>...</td>\n",
       "    </tr>\n",
       "    <tr>\n",
       "      <td>349</td>\n",
       "      <td>510</td>\n",
       "      <td>0</td>\n",
       "      <td>4406</td>\n",
       "      <td>0</td>\n",
       "      <td>0</td>\n",
       "      <td>0</td>\n",
       "      <td>1</td>\n",
       "      <td>0</td>\n",
       "      <td>0</td>\n",
       "      <td>0</td>\n",
       "      <td>...</td>\n",
       "      <td>0</td>\n",
       "      <td>0</td>\n",
       "      <td>0</td>\n",
       "      <td>0</td>\n",
       "      <td>0</td>\n",
       "      <td>0</td>\n",
       "      <td>2016</td>\n",
       "      <td>12</td>\n",
       "      <td>9</td>\n",
       "      <td>18</td>\n",
       "    </tr>\n",
       "    <tr>\n",
       "      <td>1627</td>\n",
       "      <td>501</td>\n",
       "      <td>0</td>\n",
       "      <td>4244</td>\n",
       "      <td>0</td>\n",
       "      <td>1</td>\n",
       "      <td>0</td>\n",
       "      <td>0</td>\n",
       "      <td>0</td>\n",
       "      <td>0</td>\n",
       "      <td>0</td>\n",
       "      <td>...</td>\n",
       "      <td>0</td>\n",
       "      <td>1</td>\n",
       "      <td>0</td>\n",
       "      <td>0</td>\n",
       "      <td>0</td>\n",
       "      <td>0</td>\n",
       "      <td>2015</td>\n",
       "      <td>2</td>\n",
       "      <td>28</td>\n",
       "      <td>15</td>\n",
       "    </tr>\n",
       "    <tr>\n",
       "      <td>382</td>\n",
       "      <td>504</td>\n",
       "      <td>0</td>\n",
       "      <td>4194</td>\n",
       "      <td>0</td>\n",
       "      <td>0</td>\n",
       "      <td>0</td>\n",
       "      <td>0</td>\n",
       "      <td>1</td>\n",
       "      <td>0</td>\n",
       "      <td>0</td>\n",
       "      <td>...</td>\n",
       "      <td>0</td>\n",
       "      <td>0</td>\n",
       "      <td>0</td>\n",
       "      <td>0</td>\n",
       "      <td>0</td>\n",
       "      <td>1</td>\n",
       "      <td>2015</td>\n",
       "      <td>12</td>\n",
       "      <td>16</td>\n",
       "      <td>8</td>\n",
       "    </tr>\n",
       "    <tr>\n",
       "      <td>505</td>\n",
       "      <td>506</td>\n",
       "      <td>0</td>\n",
       "      <td>506</td>\n",
       "      <td>0</td>\n",
       "      <td>1</td>\n",
       "      <td>0</td>\n",
       "      <td>0</td>\n",
       "      <td>0</td>\n",
       "      <td>0</td>\n",
       "      <td>0</td>\n",
       "      <td>...</td>\n",
       "      <td>0</td>\n",
       "      <td>1</td>\n",
       "      <td>0</td>\n",
       "      <td>0</td>\n",
       "      <td>0</td>\n",
       "      <td>0</td>\n",
       "      <td>2017</td>\n",
       "      <td>2</td>\n",
       "      <td>11</td>\n",
       "      <td>9</td>\n",
       "    </tr>\n",
       "    <tr>\n",
       "      <td>1020</td>\n",
       "      <td>504</td>\n",
       "      <td>0</td>\n",
       "      <td>4194</td>\n",
       "      <td>0</td>\n",
       "      <td>0</td>\n",
       "      <td>0</td>\n",
       "      <td>1</td>\n",
       "      <td>0</td>\n",
       "      <td>0</td>\n",
       "      <td>0</td>\n",
       "      <td>...</td>\n",
       "      <td>0</td>\n",
       "      <td>0</td>\n",
       "      <td>0</td>\n",
       "      <td>1</td>\n",
       "      <td>0</td>\n",
       "      <td>0</td>\n",
       "      <td>2017</td>\n",
       "      <td>1</td>\n",
       "      <td>26</td>\n",
       "      <td>13</td>\n",
       "    </tr>\n",
       "  </tbody>\n",
       "</table>\n",
       "<p>78444 rows × 28 columns</p>\n",
       "</div>"
      ],
      "text/plain": [
       "      Route  Min Gap  Vehicle  Delay  Direction_e  Direction_n  Direction_s  \\\n",
       "280     504       32     4105      1            1            0            0   \n",
       "50      501        0     4229      0            1            0            0   \n",
       "474     512        0     4077      0            1            0            0   \n",
       "121     512        5     4193      1            1            0            0   \n",
       "107     506        0     4132      0            0            0            0   \n",
       "...     ...      ...      ...    ...          ...          ...          ...   \n",
       "349     510        0     4406      0            0            0            1   \n",
       "1627    501        0     4244      0            1            0            0   \n",
       "382     504        0     4194      0            0            0            0   \n",
       "505     506        0      506      0            1            0            0   \n",
       "1020    504        0     4194      0            0            0            1   \n",
       "\n",
       "      Direction_w  Incident_Diversion  Incident_Emergency Services  ...  \\\n",
       "280             0                   0                            0  ...   \n",
       "50              0                   0                            0  ...   \n",
       "474             0                   0                            0  ...   \n",
       "121             0                   0                            0  ...   \n",
       "107             1                   0                            0  ...   \n",
       "...           ...                 ...                          ...  ...   \n",
       "349             0                   0                            0  ...   \n",
       "1627            0                   0                            0  ...   \n",
       "382             1                   0                            0  ...   \n",
       "505             0                   0                            0  ...   \n",
       "1020            0                   0                            0  ...   \n",
       "\n",
       "      Day_Monday  Day_Saturday  Day_Sunday  Day_Thursday  Day_Tuesday  \\\n",
       "280            0             0           0             0            0   \n",
       "50             0             0           0             1            0   \n",
       "474            0             0           0             1            0   \n",
       "121            0             0           0             0            1   \n",
       "107            0             0           0             1            0   \n",
       "...          ...           ...         ...           ...          ...   \n",
       "349            0             0           0             0            0   \n",
       "1627           0             1           0             0            0   \n",
       "382            0             0           0             0            0   \n",
       "505            0             1           0             0            0   \n",
       "1020           0             0           0             1            0   \n",
       "\n",
       "      Day_Wednesday  Year  Month  Day  Hour  \n",
       "280               0  2016     10    7    10  \n",
       "50                0  2017      2    2     5  \n",
       "474               0  2015      4   16    14  \n",
       "121               0  2014      1    7     9  \n",
       "107               0  2014     12    4    14  \n",
       "...             ...   ...    ...  ...   ...  \n",
       "349               0  2016     12    9    18  \n",
       "1627              0  2015      2   28    15  \n",
       "382               1  2015     12   16     8  \n",
       "505               0  2017      2   11     9  \n",
       "1020              0  2017      1   26    13  \n",
       "\n",
       "[78444 rows x 28 columns]"
      ]
     },
     "execution_count": 182,
     "metadata": {},
     "output_type": "execute_result"
    }
   ],
   "source": [
    "data_balanced"
   ]
  },
  {
   "cell_type": "code",
   "execution_count": 183,
   "metadata": {},
   "outputs": [
    {
     "data": {
      "text/html": [
       "<div>\n",
       "<style scoped>\n",
       "    .dataframe tbody tr th:only-of-type {\n",
       "        vertical-align: middle;\n",
       "    }\n",
       "\n",
       "    .dataframe tbody tr th {\n",
       "        vertical-align: top;\n",
       "    }\n",
       "\n",
       "    .dataframe thead th {\n",
       "        text-align: right;\n",
       "    }\n",
       "</style>\n",
       "<table border=\"1\" class=\"dataframe\">\n",
       "  <thead>\n",
       "    <tr style=\"text-align: right;\">\n",
       "      <th></th>\n",
       "      <th>Route</th>\n",
       "      <th>Min Gap</th>\n",
       "      <th>Vehicle</th>\n",
       "      <th>Delay</th>\n",
       "      <th>Direction_e</th>\n",
       "      <th>Direction_n</th>\n",
       "      <th>Direction_s</th>\n",
       "      <th>Direction_w</th>\n",
       "      <th>Incident_Diversion</th>\n",
       "      <th>Incident_Emergency Services</th>\n",
       "      <th>...</th>\n",
       "      <th>Day_Monday</th>\n",
       "      <th>Day_Saturday</th>\n",
       "      <th>Day_Sunday</th>\n",
       "      <th>Day_Thursday</th>\n",
       "      <th>Day_Tuesday</th>\n",
       "      <th>Day_Wednesday</th>\n",
       "      <th>Year</th>\n",
       "      <th>Month</th>\n",
       "      <th>Day</th>\n",
       "      <th>Hour</th>\n",
       "    </tr>\n",
       "  </thead>\n",
       "  <tbody>\n",
       "    <tr>\n",
       "      <td>count</td>\n",
       "      <td>78444.000000</td>\n",
       "      <td>78444.000000</td>\n",
       "      <td>78444.000000</td>\n",
       "      <td>78444.000000</td>\n",
       "      <td>78444.000000</td>\n",
       "      <td>78444.000000</td>\n",
       "      <td>78444.000000</td>\n",
       "      <td>78444.000000</td>\n",
       "      <td>78444.000000</td>\n",
       "      <td>78444.000000</td>\n",
       "      <td>...</td>\n",
       "      <td>78444.000000</td>\n",
       "      <td>78444.000000</td>\n",
       "      <td>78444.000000</td>\n",
       "      <td>78444.000000</td>\n",
       "      <td>78444.000000</td>\n",
       "      <td>78444.000000</td>\n",
       "      <td>78444.000000</td>\n",
       "      <td>78444.000000</td>\n",
       "      <td>78444.000000</td>\n",
       "      <td>78444.000000</td>\n",
       "    </tr>\n",
       "    <tr>\n",
       "      <td>mean</td>\n",
       "      <td>502.700487</td>\n",
       "      <td>11.364986</td>\n",
       "      <td>4299.540908</td>\n",
       "      <td>0.565703</td>\n",
       "      <td>0.386505</td>\n",
       "      <td>0.104355</td>\n",
       "      <td>0.093965</td>\n",
       "      <td>0.415175</td>\n",
       "      <td>0.023291</td>\n",
       "      <td>0.028173</td>\n",
       "      <td>...</td>\n",
       "      <td>0.139896</td>\n",
       "      <td>0.112654</td>\n",
       "      <td>0.101002</td>\n",
       "      <td>0.172390</td>\n",
       "      <td>0.157998</td>\n",
       "      <td>0.147443</td>\n",
       "      <td>2015.573556</td>\n",
       "      <td>6.374254</td>\n",
       "      <td>15.879621</td>\n",
       "      <td>10.750433</td>\n",
       "    </tr>\n",
       "    <tr>\n",
       "      <td>std</td>\n",
       "      <td>26.667264</td>\n",
       "      <td>29.411028</td>\n",
       "      <td>1433.941371</td>\n",
       "      <td>0.495667</td>\n",
       "      <td>0.486952</td>\n",
       "      <td>0.305722</td>\n",
       "      <td>0.291782</td>\n",
       "      <td>0.492755</td>\n",
       "      <td>0.150826</td>\n",
       "      <td>0.165468</td>\n",
       "      <td>...</td>\n",
       "      <td>0.346881</td>\n",
       "      <td>0.316171</td>\n",
       "      <td>0.301333</td>\n",
       "      <td>0.377722</td>\n",
       "      <td>0.364742</td>\n",
       "      <td>0.354549</td>\n",
       "      <td>1.059206</td>\n",
       "      <td>3.400198</td>\n",
       "      <td>8.883369</td>\n",
       "      <td>5.436824</td>\n",
       "    </tr>\n",
       "    <tr>\n",
       "      <td>min</td>\n",
       "      <td>301.000000</td>\n",
       "      <td>0.000000</td>\n",
       "      <td>0.000000</td>\n",
       "      <td>0.000000</td>\n",
       "      <td>0.000000</td>\n",
       "      <td>0.000000</td>\n",
       "      <td>0.000000</td>\n",
       "      <td>0.000000</td>\n",
       "      <td>0.000000</td>\n",
       "      <td>0.000000</td>\n",
       "      <td>...</td>\n",
       "      <td>0.000000</td>\n",
       "      <td>0.000000</td>\n",
       "      <td>0.000000</td>\n",
       "      <td>0.000000</td>\n",
       "      <td>0.000000</td>\n",
       "      <td>0.000000</td>\n",
       "      <td>2014.000000</td>\n",
       "      <td>1.000000</td>\n",
       "      <td>1.000000</td>\n",
       "      <td>0.000000</td>\n",
       "    </tr>\n",
       "    <tr>\n",
       "      <td>25%</td>\n",
       "      <td>504.000000</td>\n",
       "      <td>0.000000</td>\n",
       "      <td>4076.000000</td>\n",
       "      <td>0.000000</td>\n",
       "      <td>0.000000</td>\n",
       "      <td>0.000000</td>\n",
       "      <td>0.000000</td>\n",
       "      <td>0.000000</td>\n",
       "      <td>0.000000</td>\n",
       "      <td>0.000000</td>\n",
       "      <td>...</td>\n",
       "      <td>0.000000</td>\n",
       "      <td>0.000000</td>\n",
       "      <td>0.000000</td>\n",
       "      <td>0.000000</td>\n",
       "      <td>0.000000</td>\n",
       "      <td>0.000000</td>\n",
       "      <td>2015.000000</td>\n",
       "      <td>4.000000</td>\n",
       "      <td>8.000000</td>\n",
       "      <td>6.000000</td>\n",
       "    </tr>\n",
       "    <tr>\n",
       "      <td>50%</td>\n",
       "      <td>505.000000</td>\n",
       "      <td>8.000000</td>\n",
       "      <td>4152.000000</td>\n",
       "      <td>1.000000</td>\n",
       "      <td>0.000000</td>\n",
       "      <td>0.000000</td>\n",
       "      <td>0.000000</td>\n",
       "      <td>0.000000</td>\n",
       "      <td>0.000000</td>\n",
       "      <td>0.000000</td>\n",
       "      <td>...</td>\n",
       "      <td>0.000000</td>\n",
       "      <td>0.000000</td>\n",
       "      <td>0.000000</td>\n",
       "      <td>0.000000</td>\n",
       "      <td>0.000000</td>\n",
       "      <td>0.000000</td>\n",
       "      <td>2016.000000</td>\n",
       "      <td>6.000000</td>\n",
       "      <td>16.000000</td>\n",
       "      <td>10.000000</td>\n",
       "    </tr>\n",
       "    <tr>\n",
       "      <td>75%</td>\n",
       "      <td>510.000000</td>\n",
       "      <td>14.000000</td>\n",
       "      <td>4227.000000</td>\n",
       "      <td>1.000000</td>\n",
       "      <td>1.000000</td>\n",
       "      <td>0.000000</td>\n",
       "      <td>0.000000</td>\n",
       "      <td>1.000000</td>\n",
       "      <td>0.000000</td>\n",
       "      <td>0.000000</td>\n",
       "      <td>...</td>\n",
       "      <td>0.000000</td>\n",
       "      <td>0.000000</td>\n",
       "      <td>0.000000</td>\n",
       "      <td>0.000000</td>\n",
       "      <td>0.000000</td>\n",
       "      <td>0.000000</td>\n",
       "      <td>2016.000000</td>\n",
       "      <td>9.000000</td>\n",
       "      <td>24.000000</td>\n",
       "      <td>15.000000</td>\n",
       "    </tr>\n",
       "    <tr>\n",
       "      <td>max</td>\n",
       "      <td>512.000000</td>\n",
       "      <td>4216.000000</td>\n",
       "      <td>163242.000000</td>\n",
       "      <td>1.000000</td>\n",
       "      <td>1.000000</td>\n",
       "      <td>1.000000</td>\n",
       "      <td>1.000000</td>\n",
       "      <td>1.000000</td>\n",
       "      <td>1.000000</td>\n",
       "      <td>1.000000</td>\n",
       "      <td>...</td>\n",
       "      <td>1.000000</td>\n",
       "      <td>1.000000</td>\n",
       "      <td>1.000000</td>\n",
       "      <td>1.000000</td>\n",
       "      <td>1.000000</td>\n",
       "      <td>1.000000</td>\n",
       "      <td>2017.000000</td>\n",
       "      <td>12.000000</td>\n",
       "      <td>31.000000</td>\n",
       "      <td>23.000000</td>\n",
       "    </tr>\n",
       "  </tbody>\n",
       "</table>\n",
       "<p>8 rows × 28 columns</p>\n",
       "</div>"
      ],
      "text/plain": [
       "              Route       Min Gap        Vehicle         Delay   Direction_e  \\\n",
       "count  78444.000000  78444.000000   78444.000000  78444.000000  78444.000000   \n",
       "mean     502.700487     11.364986    4299.540908      0.565703      0.386505   \n",
       "std       26.667264     29.411028    1433.941371      0.495667      0.486952   \n",
       "min      301.000000      0.000000       0.000000      0.000000      0.000000   \n",
       "25%      504.000000      0.000000    4076.000000      0.000000      0.000000   \n",
       "50%      505.000000      8.000000    4152.000000      1.000000      0.000000   \n",
       "75%      510.000000     14.000000    4227.000000      1.000000      1.000000   \n",
       "max      512.000000   4216.000000  163242.000000      1.000000      1.000000   \n",
       "\n",
       "        Direction_n   Direction_s   Direction_w  Incident_Diversion  \\\n",
       "count  78444.000000  78444.000000  78444.000000        78444.000000   \n",
       "mean       0.104355      0.093965      0.415175            0.023291   \n",
       "std        0.305722      0.291782      0.492755            0.150826   \n",
       "min        0.000000      0.000000      0.000000            0.000000   \n",
       "25%        0.000000      0.000000      0.000000            0.000000   \n",
       "50%        0.000000      0.000000      0.000000            0.000000   \n",
       "75%        0.000000      0.000000      1.000000            0.000000   \n",
       "max        1.000000      1.000000      1.000000            1.000000   \n",
       "\n",
       "       Incident_Emergency Services  ...    Day_Monday  Day_Saturday  \\\n",
       "count                 78444.000000  ...  78444.000000  78444.000000   \n",
       "mean                      0.028173  ...      0.139896      0.112654   \n",
       "std                       0.165468  ...      0.346881      0.316171   \n",
       "min                       0.000000  ...      0.000000      0.000000   \n",
       "25%                       0.000000  ...      0.000000      0.000000   \n",
       "50%                       0.000000  ...      0.000000      0.000000   \n",
       "75%                       0.000000  ...      0.000000      0.000000   \n",
       "max                       1.000000  ...      1.000000      1.000000   \n",
       "\n",
       "         Day_Sunday  Day_Thursday   Day_Tuesday  Day_Wednesday          Year  \\\n",
       "count  78444.000000  78444.000000  78444.000000   78444.000000  78444.000000   \n",
       "mean       0.101002      0.172390      0.157998       0.147443   2015.573556   \n",
       "std        0.301333      0.377722      0.364742       0.354549      1.059206   \n",
       "min        0.000000      0.000000      0.000000       0.000000   2014.000000   \n",
       "25%        0.000000      0.000000      0.000000       0.000000   2015.000000   \n",
       "50%        0.000000      0.000000      0.000000       0.000000   2016.000000   \n",
       "75%        0.000000      0.000000      0.000000       0.000000   2016.000000   \n",
       "max        1.000000      1.000000      1.000000       1.000000   2017.000000   \n",
       "\n",
       "              Month           Day          Hour  \n",
       "count  78444.000000  78444.000000  78444.000000  \n",
       "mean       6.374254     15.879621     10.750433  \n",
       "std        3.400198      8.883369      5.436824  \n",
       "min        1.000000      1.000000      0.000000  \n",
       "25%        4.000000      8.000000      6.000000  \n",
       "50%        6.000000     16.000000     10.000000  \n",
       "75%        9.000000     24.000000     15.000000  \n",
       "max       12.000000     31.000000     23.000000  \n",
       "\n",
       "[8 rows x 28 columns]"
      ]
     },
     "execution_count": 183,
     "metadata": {},
     "output_type": "execute_result"
    }
   ],
   "source": [
    "data_balanced.describe() "
   ]
  },
  {
   "cell_type": "code",
   "execution_count": null,
   "metadata": {},
   "outputs": [],
   "source": []
  },
  {
   "cell_type": "code",
   "execution_count": 184,
   "metadata": {},
   "outputs": [],
   "source": [
    "feature_names = data_balanced.columns\n",
    "# for col in feature_names:\n",
    "#     print(col)"
   ]
  },
  {
   "cell_type": "code",
   "execution_count": 185,
   "metadata": {},
   "outputs": [
    {
     "data": {
      "text/plain": [
       "Route                            -0.034926\n",
       "Min Gap                           0.278729\n",
       "Vehicle                           0.004735\n",
       "Delay                             1.000000\n",
       "Direction_e                       0.048985\n",
       "Direction_n                      -0.087057\n",
       "Direction_s                      -0.077461\n",
       "Direction_w                       0.051473\n",
       "Incident_Diversion               -0.073416\n",
       "Incident_Emergency Services       0.006497\n",
       "Incident_General Delay           -0.174988\n",
       "Incident_Held By                  0.144867\n",
       "Incident_Investigation           -0.056236\n",
       "Incident_Late Leaving Garage      0.077048\n",
       "Incident_Mechanical               0.061083\n",
       "Incident_Overhead - Pantograph    0.008277\n",
       "Incident_Utilized Off Route      -0.080581\n",
       "Day_Friday                       -0.032804\n",
       "Day_Monday                        0.024392\n",
       "Day_Saturday                      0.001048\n",
       "Day_Sunday                       -0.002310\n",
       "Day_Thursday                     -0.020291\n",
       "Day_Tuesday                      -0.001645\n",
       "Day_Wednesday                     0.035115\n",
       "Year                             -0.025838\n",
       "Month                             0.022761\n",
       "Day                              -0.025458\n",
       "Hour                              0.003447\n",
       "Name: Delay, dtype: float64"
      ]
     },
     "execution_count": 185,
     "metadata": {},
     "output_type": "execute_result"
    }
   ],
   "source": [
    "corrcoefs = data_balanced.corr()['Delay']\n",
    "corrcoefs"
   ]
  },
  {
   "cell_type": "code",
   "execution_count": 186,
   "metadata": {},
   "outputs": [
    {
     "data": {
      "text/plain": [
       "Route                            -0.034926\n",
       "Min Gap                           0.278729\n",
       "Vehicle                           0.004735\n",
       "Direction_e                       0.048985\n",
       "Direction_n                      -0.087057\n",
       "Direction_s                      -0.077461\n",
       "Direction_w                       0.051473\n",
       "Incident_Diversion               -0.073416\n",
       "Incident_Emergency Services       0.006497\n",
       "Incident_General Delay           -0.174988\n",
       "Incident_Held By                  0.144867\n",
       "Incident_Investigation           -0.056236\n",
       "Incident_Late Leaving Garage      0.077048\n",
       "Incident_Mechanical               0.061083\n",
       "Incident_Overhead - Pantograph    0.008277\n",
       "Incident_Utilized Off Route      -0.080581\n",
       "Day_Friday                       -0.032804\n",
       "Day_Monday                        0.024392\n",
       "Day_Saturday                      0.001048\n",
       "Day_Sunday                       -0.002310\n",
       "Day_Thursday                     -0.020291\n",
       "Day_Tuesday                      -0.001645\n",
       "Day_Wednesday                     0.035115\n",
       "Year                             -0.025838\n",
       "Month                             0.022761\n",
       "Day                              -0.025458\n",
       "Hour                              0.003447\n",
       "Name: Delay, dtype: float64"
      ]
     },
     "execution_count": 186,
     "metadata": {},
     "output_type": "execute_result"
    }
   ],
   "source": [
    "# corrcoefs_for_barh = ( (corrcoefs.drop('Delay')) * 1000000 ).astype(int)\n",
    "corrcoefs_for_barh = corrcoefs.drop('Delay')\n",
    "corrcoefs_for_barh\n"
   ]
  },
  {
   "cell_type": "code",
   "execution_count": 187,
   "metadata": {},
   "outputs": [
    {
     "ename": "IndexError",
     "evalue": "arrays used as indices must be of integer (or boolean) type",
     "output_type": "error",
     "traceback": [
      "\u001b[1;31m---------------------------------------------------------------------------\u001b[0m",
      "\u001b[1;31mIndexError\u001b[0m                                Traceback (most recent call last)",
      "\u001b[1;32m<ipython-input-187-18cc8209e05a>\u001b[0m in \u001b[0;36m<module>\u001b[1;34m\u001b[0m\n\u001b[0;32m      7\u001b[0m \u001b[0mplt\u001b[0m\u001b[1;33m.\u001b[0m\u001b[0mylabel\u001b[0m\u001b[1;33m(\u001b[0m\u001b[1;34m'Attribute name'\u001b[0m\u001b[1;33m)\u001b[0m\u001b[1;33m\u001b[0m\u001b[1;33m\u001b[0m\u001b[0m\n\u001b[0;32m      8\u001b[0m \u001b[0mplt\u001b[0m\u001b[1;33m.\u001b[0m\u001b[0mxlabel\u001b[0m\u001b[1;33m(\u001b[0m\u001b[1;34m'Correlation coefficient value'\u001b[0m\u001b[1;33m)\u001b[0m\u001b[1;33m\u001b[0m\u001b[1;33m\u001b[0m\u001b[0m\n\u001b[1;32m----> 9\u001b[1;33m \u001b[0mplt\u001b[0m\u001b[1;33m.\u001b[0m\u001b[0myticks\u001b[0m\u001b[1;33m(\u001b[0m\u001b[0mnp\u001b[0m\u001b[1;33m.\u001b[0m\u001b[0marange\u001b[0m\u001b[1;33m(\u001b[0m\u001b[0mnumber_of_features\u001b[0m\u001b[1;33m)\u001b[0m\u001b[1;33m,\u001b[0m \u001b[0mlist\u001b[0m\u001b[1;33m(\u001b[0m\u001b[0mfeature_names\u001b[0m\u001b[1;33m[\u001b[0m\u001b[0mcoefs_for_plot\u001b[0m\u001b[1;33m.\u001b[0m\u001b[0mindex\u001b[0m\u001b[1;33m]\u001b[0m\u001b[1;33m)\u001b[0m\u001b[1;33m)\u001b[0m\u001b[1;33m\u001b[0m\u001b[1;33m\u001b[0m\u001b[0m\n\u001b[0m\u001b[0;32m     10\u001b[0m \u001b[0mplt\u001b[0m\u001b[1;33m.\u001b[0m\u001b[0mplot\u001b[0m\u001b[1;33m(\u001b[0m\u001b[1;33m)\u001b[0m\u001b[1;33m\u001b[0m\u001b[1;33m\u001b[0m\u001b[0m\n",
      "\u001b[1;32m~\\Anaconda3\\lib\\site-packages\\pandas\\core\\indexes\\base.py\u001b[0m in \u001b[0;36m__getitem__\u001b[1;34m(self, key)\u001b[0m\n\u001b[0;32m   4289\u001b[0m \u001b[1;33m\u001b[0m\u001b[0m\n\u001b[0;32m   4290\u001b[0m         \u001b[0mkey\u001b[0m \u001b[1;33m=\u001b[0m \u001b[0mcom\u001b[0m\u001b[1;33m.\u001b[0m\u001b[0mvalues_from_object\u001b[0m\u001b[1;33m(\u001b[0m\u001b[0mkey\u001b[0m\u001b[1;33m)\u001b[0m\u001b[1;33m\u001b[0m\u001b[1;33m\u001b[0m\u001b[0m\n\u001b[1;32m-> 4291\u001b[1;33m         \u001b[0mresult\u001b[0m \u001b[1;33m=\u001b[0m \u001b[0mgetitem\u001b[0m\u001b[1;33m(\u001b[0m\u001b[0mkey\u001b[0m\u001b[1;33m)\u001b[0m\u001b[1;33m\u001b[0m\u001b[1;33m\u001b[0m\u001b[0m\n\u001b[0m\u001b[0;32m   4292\u001b[0m         \u001b[1;32mif\u001b[0m \u001b[1;32mnot\u001b[0m \u001b[0mis_scalar\u001b[0m\u001b[1;33m(\u001b[0m\u001b[0mresult\u001b[0m\u001b[1;33m)\u001b[0m\u001b[1;33m:\u001b[0m\u001b[1;33m\u001b[0m\u001b[1;33m\u001b[0m\u001b[0m\n\u001b[0;32m   4293\u001b[0m             \u001b[1;32mreturn\u001b[0m \u001b[0mpromote\u001b[0m\u001b[1;33m(\u001b[0m\u001b[0mresult\u001b[0m\u001b[1;33m)\u001b[0m\u001b[1;33m\u001b[0m\u001b[1;33m\u001b[0m\u001b[0m\n",
      "\u001b[1;31mIndexError\u001b[0m: arrays used as indices must be of integer (or boolean) type"
     ]
    },
    {
     "data": {
      "image/png": "[encoded data removed]",
      "text/plain": [
       "<Figure size 648x648 with 1 Axes>"
      ]
     },
     "metadata": {
      "needs_background": "light"
     },
     "output_type": "display_data"
    }
   ],
   "source": [
    "number_of_features = len(data_balanced.columns)\n",
    "\n",
    "coefs_for_plot = pd.Series(corrcoefs_for_barh).sort_values()\n",
    "coefs_for_plot.plot(kind = \"barh\", color = 'orange', figsize = (9, 9))\n",
    "\n",
    "plt.title(\"Attributes correlation with the target variable y\" )\n",
    "plt.ylabel('Attribute name')\n",
    "plt.xlabel('Correlation coefficient value')\n",
    "plt.yticks(np.arange(number_of_features), list(feature_names[coefs_for_plot.index]))\n",
    "plt.plot()"
   ]
  },
  {
   "cell_type": "code",
   "execution_count": 188,
   "metadata": {},
   "outputs": [],
   "source": [
    "y = data_balanced['Delay']\n",
    "X = data_balanced.drop(columns=['Delay'])"
   ]
  },
  {
   "cell_type": "code",
   "execution_count": 189,
   "metadata": {},
   "outputs": [
    {
     "data": {
      "text/html": [
       "<div>\n",
       "<style scoped>\n",
       "    .dataframe tbody tr th:only-of-type {\n",
       "        vertical-align: middle;\n",
       "    }\n",
       "\n",
       "    .dataframe tbody tr th {\n",
       "        vertical-align: top;\n",
       "    }\n",
       "\n",
       "    .dataframe thead th {\n",
       "        text-align: right;\n",
       "    }\n",
       "</style>\n",
       "<table border=\"1\" class=\"dataframe\">\n",
       "  <thead>\n",
       "    <tr style=\"text-align: right;\">\n",
       "      <th></th>\n",
       "      <th>Route</th>\n",
       "      <th>Min Gap</th>\n",
       "      <th>Vehicle</th>\n",
       "      <th>Direction_e</th>\n",
       "      <th>Direction_n</th>\n",
       "      <th>Direction_s</th>\n",
       "      <th>Direction_w</th>\n",
       "      <th>Incident_Diversion</th>\n",
       "      <th>Incident_Emergency Services</th>\n",
       "      <th>Incident_General Delay</th>\n",
       "      <th>...</th>\n",
       "      <th>Day_Monday</th>\n",
       "      <th>Day_Saturday</th>\n",
       "      <th>Day_Sunday</th>\n",
       "      <th>Day_Thursday</th>\n",
       "      <th>Day_Tuesday</th>\n",
       "      <th>Day_Wednesday</th>\n",
       "      <th>Year</th>\n",
       "      <th>Month</th>\n",
       "      <th>Day</th>\n",
       "      <th>Hour</th>\n",
       "    </tr>\n",
       "  </thead>\n",
       "  <tbody>\n",
       "    <tr>\n",
       "      <td>Route</td>\n",
       "      <td>1.000000</td>\n",
       "      <td>-0.090835</td>\n",
       "      <td>-0.000206</td>\n",
       "      <td>-0.007527</td>\n",
       "      <td>0.056262</td>\n",
       "      <td>0.065490</td>\n",
       "      <td>-0.066248</td>\n",
       "      <td>-0.068125</td>\n",
       "      <td>-0.115807</td>\n",
       "      <td>0.066561</td>\n",
       "      <td>...</td>\n",
       "      <td>0.025761</td>\n",
       "      <td>-0.076482</td>\n",
       "      <td>-0.057406</td>\n",
       "      <td>0.022075</td>\n",
       "      <td>-0.004348</td>\n",
       "      <td>0.038360</td>\n",
       "      <td>-0.015195</td>\n",
       "      <td>-0.024061</td>\n",
       "      <td>-0.011307</td>\n",
       "      <td>-0.001935</td>\n",
       "    </tr>\n",
       "    <tr>\n",
       "      <td>Min Gap</td>\n",
       "      <td>-0.090835</td>\n",
       "      <td>1.000000</td>\n",
       "      <td>-0.012631</td>\n",
       "      <td>-0.012296</td>\n",
       "      <td>-0.051257</td>\n",
       "      <td>-0.036179</td>\n",
       "      <td>0.065376</td>\n",
       "      <td>0.088779</td>\n",
       "      <td>0.088769</td>\n",
       "      <td>-0.056070</td>\n",
       "      <td>...</td>\n",
       "      <td>0.000389</td>\n",
       "      <td>0.008964</td>\n",
       "      <td>0.024205</td>\n",
       "      <td>-0.025578</td>\n",
       "      <td>0.016828</td>\n",
       "      <td>-0.002881</td>\n",
       "      <td>-0.009246</td>\n",
       "      <td>0.013451</td>\n",
       "      <td>-0.018059</td>\n",
       "      <td>-0.006272</td>\n",
       "    </tr>\n",
       "    <tr>\n",
       "      <td>Vehicle</td>\n",
       "      <td>-0.000206</td>\n",
       "      <td>-0.012631</td>\n",
       "      <td>1.000000</td>\n",
       "      <td>0.029031</td>\n",
       "      <td>0.025599</td>\n",
       "      <td>-0.014690</td>\n",
       "      <td>-0.035873</td>\n",
       "      <td>-0.020570</td>\n",
       "      <td>0.012695</td>\n",
       "      <td>-0.044952</td>\n",
       "      <td>...</td>\n",
       "      <td>0.008296</td>\n",
       "      <td>0.021635</td>\n",
       "      <td>0.024436</td>\n",
       "      <td>-0.040605</td>\n",
       "      <td>-0.002598</td>\n",
       "      <td>-0.002825</td>\n",
       "      <td>-0.108997</td>\n",
       "      <td>0.031157</td>\n",
       "      <td>-0.001586</td>\n",
       "      <td>0.013271</td>\n",
       "    </tr>\n",
       "    <tr>\n",
       "      <td>Direction_e</td>\n",
       "      <td>-0.007527</td>\n",
       "      <td>-0.012296</td>\n",
       "      <td>0.029031</td>\n",
       "      <td>1.000000</td>\n",
       "      <td>-0.270932</td>\n",
       "      <td>-0.255613</td>\n",
       "      <td>-0.668767</td>\n",
       "      <td>-0.017383</td>\n",
       "      <td>-0.018855</td>\n",
       "      <td>0.150019</td>\n",
       "      <td>...</td>\n",
       "      <td>0.020339</td>\n",
       "      <td>-0.020828</td>\n",
       "      <td>-0.035471</td>\n",
       "      <td>-0.006980</td>\n",
       "      <td>0.028255</td>\n",
       "      <td>0.020282</td>\n",
       "      <td>-0.043491</td>\n",
       "      <td>-0.033423</td>\n",
       "      <td>-0.016545</td>\n",
       "      <td>-0.024280</td>\n",
       "    </tr>\n",
       "    <tr>\n",
       "      <td>Direction_n</td>\n",
       "      <td>0.056262</td>\n",
       "      <td>-0.051257</td>\n",
       "      <td>0.025599</td>\n",
       "      <td>-0.270932</td>\n",
       "      <td>1.000000</td>\n",
       "      <td>-0.109926</td>\n",
       "      <td>-0.287601</td>\n",
       "      <td>-0.025340</td>\n",
       "      <td>-0.025106</td>\n",
       "      <td>-0.072576</td>\n",
       "      <td>...</td>\n",
       "      <td>-0.014808</td>\n",
       "      <td>-0.009256</td>\n",
       "      <td>-0.007168</td>\n",
       "      <td>-0.043958</td>\n",
       "      <td>0.018935</td>\n",
       "      <td>0.016469</td>\n",
       "      <td>0.031135</td>\n",
       "      <td>-0.037375</td>\n",
       "      <td>-0.034034</td>\n",
       "      <td>0.029090</td>\n",
       "    </tr>\n",
       "    <tr>\n",
       "      <td>Direction_s</td>\n",
       "      <td>0.065490</td>\n",
       "      <td>-0.036179</td>\n",
       "      <td>-0.014690</td>\n",
       "      <td>-0.255613</td>\n",
       "      <td>-0.109926</td>\n",
       "      <td>1.000000</td>\n",
       "      <td>-0.271340</td>\n",
       "      <td>-0.008306</td>\n",
       "      <td>0.020948</td>\n",
       "      <td>-0.069629</td>\n",
       "      <td>...</td>\n",
       "      <td>-0.007579</td>\n",
       "      <td>0.009898</td>\n",
       "      <td>0.009934</td>\n",
       "      <td>-0.016505</td>\n",
       "      <td>-0.002708</td>\n",
       "      <td>0.022575</td>\n",
       "      <td>0.043613</td>\n",
       "      <td>0.032938</td>\n",
       "      <td>0.010645</td>\n",
       "      <td>0.029907</td>\n",
       "    </tr>\n",
       "    <tr>\n",
       "      <td>Direction_w</td>\n",
       "      <td>-0.066248</td>\n",
       "      <td>0.065376</td>\n",
       "      <td>-0.035873</td>\n",
       "      <td>-0.668767</td>\n",
       "      <td>-0.287601</td>\n",
       "      <td>-0.271340</td>\n",
       "      <td>1.000000</td>\n",
       "      <td>0.037818</td>\n",
       "      <td>0.021805</td>\n",
       "      <td>-0.061993</td>\n",
       "      <td>...</td>\n",
       "      <td>-0.006424</td>\n",
       "      <td>0.020465</td>\n",
       "      <td>0.033618</td>\n",
       "      <td>0.043944</td>\n",
       "      <td>-0.038067</td>\n",
       "      <td>-0.043629</td>\n",
       "      <td>-0.002163</td>\n",
       "      <td>0.036714</td>\n",
       "      <td>0.031163</td>\n",
       "      <td>-0.011764</td>\n",
       "    </tr>\n",
       "    <tr>\n",
       "      <td>Incident_Diversion</td>\n",
       "      <td>-0.068125</td>\n",
       "      <td>0.088779</td>\n",
       "      <td>-0.020570</td>\n",
       "      <td>-0.017383</td>\n",
       "      <td>-0.025340</td>\n",
       "      <td>-0.008306</td>\n",
       "      <td>0.037818</td>\n",
       "      <td>1.000000</td>\n",
       "      <td>-0.026292</td>\n",
       "      <td>-0.043165</td>\n",
       "      <td>...</td>\n",
       "      <td>-0.005748</td>\n",
       "      <td>0.045228</td>\n",
       "      <td>0.047816</td>\n",
       "      <td>-0.036912</td>\n",
       "      <td>-0.032596</td>\n",
       "      <td>0.004201</td>\n",
       "      <td>0.024028</td>\n",
       "      <td>0.008930</td>\n",
       "      <td>-0.021989</td>\n",
       "      <td>0.003933</td>\n",
       "    </tr>\n",
       "    <tr>\n",
       "      <td>Incident_Emergency Services</td>\n",
       "      <td>-0.115807</td>\n",
       "      <td>0.088769</td>\n",
       "      <td>0.012695</td>\n",
       "      <td>-0.018855</td>\n",
       "      <td>-0.025106</td>\n",
       "      <td>0.020948</td>\n",
       "      <td>0.021805</td>\n",
       "      <td>-0.026292</td>\n",
       "      <td>1.000000</td>\n",
       "      <td>-0.047593</td>\n",
       "      <td>...</td>\n",
       "      <td>0.002627</td>\n",
       "      <td>0.058491</td>\n",
       "      <td>-0.008236</td>\n",
       "      <td>-0.006116</td>\n",
       "      <td>0.007778</td>\n",
       "      <td>-0.029954</td>\n",
       "      <td>0.000469</td>\n",
       "      <td>0.033781</td>\n",
       "      <td>0.020867</td>\n",
       "      <td>0.014830</td>\n",
       "    </tr>\n",
       "    <tr>\n",
       "      <td>Incident_General Delay</td>\n",
       "      <td>0.066561</td>\n",
       "      <td>-0.056070</td>\n",
       "      <td>-0.044952</td>\n",
       "      <td>0.150019</td>\n",
       "      <td>-0.072576</td>\n",
       "      <td>-0.069629</td>\n",
       "      <td>-0.061993</td>\n",
       "      <td>-0.043165</td>\n",
       "      <td>-0.047593</td>\n",
       "      <td>1.000000</td>\n",
       "      <td>...</td>\n",
       "      <td>-0.011242</td>\n",
       "      <td>-0.052943</td>\n",
       "      <td>0.004047</td>\n",
       "      <td>0.024207</td>\n",
       "      <td>-0.006500</td>\n",
       "      <td>0.013977</td>\n",
       "      <td>-0.077786</td>\n",
       "      <td>-0.015583</td>\n",
       "      <td>0.014625</td>\n",
       "      <td>-0.039306</td>\n",
       "    </tr>\n",
       "    <tr>\n",
       "      <td>Incident_Held By</td>\n",
       "      <td>-0.049623</td>\n",
       "      <td>0.145627</td>\n",
       "      <td>-0.015260</td>\n",
       "      <td>-0.006821</td>\n",
       "      <td>-0.022187</td>\n",
       "      <td>-0.014879</td>\n",
       "      <td>0.029317</td>\n",
       "      <td>-0.048264</td>\n",
       "      <td>-0.053216</td>\n",
       "      <td>-0.087366</td>\n",
       "      <td>...</td>\n",
       "      <td>0.009214</td>\n",
       "      <td>0.004895</td>\n",
       "      <td>0.007118</td>\n",
       "      <td>-0.020086</td>\n",
       "      <td>0.004544</td>\n",
       "      <td>0.015495</td>\n",
       "      <td>-0.019401</td>\n",
       "      <td>0.003823</td>\n",
       "      <td>0.017521</td>\n",
       "      <td>0.015541</td>\n",
       "    </tr>\n",
       "    <tr>\n",
       "      <td>Incident_Investigation</td>\n",
       "      <td>-0.041579</td>\n",
       "      <td>0.023180</td>\n",
       "      <td>-0.003480</td>\n",
       "      <td>-0.046298</td>\n",
       "      <td>-0.028632</td>\n",
       "      <td>0.044383</td>\n",
       "      <td>0.037236</td>\n",
       "      <td>-0.066828</td>\n",
       "      <td>-0.073684</td>\n",
       "      <td>-0.120969</td>\n",
       "      <td>...</td>\n",
       "      <td>0.004026</td>\n",
       "      <td>-0.026103</td>\n",
       "      <td>0.009773</td>\n",
       "      <td>0.003226</td>\n",
       "      <td>-0.014102</td>\n",
       "      <td>-0.015631</td>\n",
       "      <td>-0.062379</td>\n",
       "      <td>0.036988</td>\n",
       "      <td>0.014471</td>\n",
       "      <td>-0.027776</td>\n",
       "    </tr>\n",
       "    <tr>\n",
       "      <td>Incident_Late Leaving Garage</td>\n",
       "      <td>0.034905</td>\n",
       "      <td>-0.037796</td>\n",
       "      <td>-0.001127</td>\n",
       "      <td>0.046257</td>\n",
       "      <td>0.016165</td>\n",
       "      <td>-0.071073</td>\n",
       "      <td>-0.013656</td>\n",
       "      <td>-0.047379</td>\n",
       "      <td>-0.052239</td>\n",
       "      <td>-0.085762</td>\n",
       "      <td>...</td>\n",
       "      <td>0.003780</td>\n",
       "      <td>-0.044904</td>\n",
       "      <td>-0.053205</td>\n",
       "      <td>0.041948</td>\n",
       "      <td>-0.013253</td>\n",
       "      <td>0.049226</td>\n",
       "      <td>-0.013602</td>\n",
       "      <td>-0.063212</td>\n",
       "      <td>-0.017454</td>\n",
       "      <td>-0.019346</td>\n",
       "    </tr>\n",
       "    <tr>\n",
       "      <td>Incident_Mechanical</td>\n",
       "      <td>0.056004</td>\n",
       "      <td>-0.085908</td>\n",
       "      <td>-0.024044</td>\n",
       "      <td>-0.033899</td>\n",
       "      <td>0.056116</td>\n",
       "      <td>0.066202</td>\n",
       "      <td>-0.040518</td>\n",
       "      <td>-0.152255</td>\n",
       "      <td>-0.167875</td>\n",
       "      <td>-0.275605</td>\n",
       "      <td>...</td>\n",
       "      <td>-0.010622</td>\n",
       "      <td>0.035317</td>\n",
       "      <td>-0.006562</td>\n",
       "      <td>0.002093</td>\n",
       "      <td>0.017514</td>\n",
       "      <td>-0.011817</td>\n",
       "      <td>0.128088</td>\n",
       "      <td>0.023887</td>\n",
       "      <td>-0.025039</td>\n",
       "      <td>0.037455</td>\n",
       "    </tr>\n",
       "    <tr>\n",
       "      <td>Incident_Overhead - Pantograph</td>\n",
       "      <td>0.001624</td>\n",
       "      <td>0.035491</td>\n",
       "      <td>-0.000006</td>\n",
       "      <td>0.000816</td>\n",
       "      <td>0.001190</td>\n",
       "      <td>-0.003042</td>\n",
       "      <td>0.000257</td>\n",
       "      <td>-0.001459</td>\n",
       "      <td>-0.001608</td>\n",
       "      <td>-0.002641</td>\n",
       "      <td>...</td>\n",
       "      <td>0.000081</td>\n",
       "      <td>0.000902</td>\n",
       "      <td>0.001312</td>\n",
       "      <td>0.002834</td>\n",
       "      <td>0.003308</td>\n",
       "      <td>-0.003929</td>\n",
       "      <td>0.012722</td>\n",
       "      <td>0.013646</td>\n",
       "      <td>0.009091</td>\n",
       "      <td>0.007136</td>\n",
       "    </tr>\n",
       "    <tr>\n",
       "      <td>Incident_Utilized Off Route</td>\n",
       "      <td>0.016764</td>\n",
       "      <td>-0.046876</td>\n",
       "      <td>0.140084</td>\n",
       "      <td>-0.047447</td>\n",
       "      <td>0.050103</td>\n",
       "      <td>-0.042293</td>\n",
       "      <td>0.040846</td>\n",
       "      <td>-0.035525</td>\n",
       "      <td>-0.039170</td>\n",
       "      <td>-0.064306</td>\n",
       "      <td>...</td>\n",
       "      <td>0.016045</td>\n",
       "      <td>0.001256</td>\n",
       "      <td>0.026091</td>\n",
       "      <td>-0.036568</td>\n",
       "      <td>0.018718</td>\n",
       "      <td>-0.026884</td>\n",
       "      <td>-0.071474</td>\n",
       "      <td>-0.054064</td>\n",
       "      <td>0.014349</td>\n",
       "      <td>-0.002403</td>\n",
       "    </tr>\n",
       "    <tr>\n",
       "      <td>Day_Friday</td>\n",
       "      <td>0.032561</td>\n",
       "      <td>-0.015271</td>\n",
       "      <td>0.000548</td>\n",
       "      <td>-0.012397</td>\n",
       "      <td>0.037609</td>\n",
       "      <td>-0.011421</td>\n",
       "      <td>-0.004320</td>\n",
       "      <td>-0.006335</td>\n",
       "      <td>-0.018240</td>\n",
       "      <td>0.020540</td>\n",
       "      <td>...</td>\n",
       "      <td>-0.181626</td>\n",
       "      <td>-0.160463</td>\n",
       "      <td>-0.150951</td>\n",
       "      <td>-0.205539</td>\n",
       "      <td>-0.195083</td>\n",
       "      <td>-0.187284</td>\n",
       "      <td>0.004422</td>\n",
       "      <td>0.000818</td>\n",
       "      <td>0.016896</td>\n",
       "      <td>0.006037</td>\n",
       "    </tr>\n",
       "    <tr>\n",
       "      <td>Day_Monday</td>\n",
       "      <td>0.025761</td>\n",
       "      <td>0.000389</td>\n",
       "      <td>0.008296</td>\n",
       "      <td>0.020339</td>\n",
       "      <td>-0.014808</td>\n",
       "      <td>-0.007579</td>\n",
       "      <td>-0.006424</td>\n",
       "      <td>-0.005748</td>\n",
       "      <td>0.002627</td>\n",
       "      <td>-0.011242</td>\n",
       "      <td>...</td>\n",
       "      <td>1.000000</td>\n",
       "      <td>-0.143699</td>\n",
       "      <td>-0.135180</td>\n",
       "      <td>-0.184065</td>\n",
       "      <td>-0.174701</td>\n",
       "      <td>-0.167717</td>\n",
       "      <td>-0.012810</td>\n",
       "      <td>-0.013111</td>\n",
       "      <td>-0.043923</td>\n",
       "      <td>-0.030190</td>\n",
       "    </tr>\n",
       "    <tr>\n",
       "      <td>Day_Saturday</td>\n",
       "      <td>-0.076482</td>\n",
       "      <td>0.008964</td>\n",
       "      <td>0.021635</td>\n",
       "      <td>-0.020828</td>\n",
       "      <td>-0.009256</td>\n",
       "      <td>0.009898</td>\n",
       "      <td>0.020465</td>\n",
       "      <td>0.045228</td>\n",
       "      <td>0.058491</td>\n",
       "      <td>-0.052943</td>\n",
       "      <td>...</td>\n",
       "      <td>-0.143699</td>\n",
       "      <td>1.000000</td>\n",
       "      <td>-0.119429</td>\n",
       "      <td>-0.162618</td>\n",
       "      <td>-0.154346</td>\n",
       "      <td>-0.148175</td>\n",
       "      <td>0.004206</td>\n",
       "      <td>0.025978</td>\n",
       "      <td>0.052954</td>\n",
       "      <td>0.036483</td>\n",
       "    </tr>\n",
       "    <tr>\n",
       "      <td>Day_Sunday</td>\n",
       "      <td>-0.057406</td>\n",
       "      <td>0.024205</td>\n",
       "      <td>0.024436</td>\n",
       "      <td>-0.035471</td>\n",
       "      <td>-0.007168</td>\n",
       "      <td>0.009934</td>\n",
       "      <td>0.033618</td>\n",
       "      <td>0.047816</td>\n",
       "      <td>-0.008236</td>\n",
       "      <td>0.004047</td>\n",
       "      <td>...</td>\n",
       "      <td>-0.135180</td>\n",
       "      <td>-0.119429</td>\n",
       "      <td>1.000000</td>\n",
       "      <td>-0.152978</td>\n",
       "      <td>-0.145196</td>\n",
       "      <td>-0.139391</td>\n",
       "      <td>0.019879</td>\n",
       "      <td>0.006965</td>\n",
       "      <td>0.004209</td>\n",
       "      <td>-0.003569</td>\n",
       "    </tr>\n",
       "    <tr>\n",
       "      <td>Day_Thursday</td>\n",
       "      <td>0.022075</td>\n",
       "      <td>-0.025578</td>\n",
       "      <td>-0.040605</td>\n",
       "      <td>-0.006980</td>\n",
       "      <td>-0.043958</td>\n",
       "      <td>-0.016505</td>\n",
       "      <td>0.043944</td>\n",
       "      <td>-0.036912</td>\n",
       "      <td>-0.006116</td>\n",
       "      <td>0.024207</td>\n",
       "      <td>...</td>\n",
       "      <td>-0.184065</td>\n",
       "      <td>-0.162618</td>\n",
       "      <td>-0.152978</td>\n",
       "      <td>1.000000</td>\n",
       "      <td>-0.197703</td>\n",
       "      <td>-0.189799</td>\n",
       "      <td>0.009266</td>\n",
       "      <td>0.017152</td>\n",
       "      <td>0.005619</td>\n",
       "      <td>0.013929</td>\n",
       "    </tr>\n",
       "    <tr>\n",
       "      <td>Day_Tuesday</td>\n",
       "      <td>-0.004348</td>\n",
       "      <td>0.016828</td>\n",
       "      <td>-0.002598</td>\n",
       "      <td>0.028255</td>\n",
       "      <td>0.018935</td>\n",
       "      <td>-0.002708</td>\n",
       "      <td>-0.038067</td>\n",
       "      <td>-0.032596</td>\n",
       "      <td>0.007778</td>\n",
       "      <td>-0.006500</td>\n",
       "      <td>...</td>\n",
       "      <td>-0.174701</td>\n",
       "      <td>-0.154346</td>\n",
       "      <td>-0.145196</td>\n",
       "      <td>-0.197703</td>\n",
       "      <td>1.000000</td>\n",
       "      <td>-0.180144</td>\n",
       "      <td>-0.019094</td>\n",
       "      <td>-0.037709</td>\n",
       "      <td>0.015171</td>\n",
       "      <td>-0.012117</td>\n",
       "    </tr>\n",
       "    <tr>\n",
       "      <td>Day_Wednesday</td>\n",
       "      <td>0.038360</td>\n",
       "      <td>-0.002881</td>\n",
       "      <td>-0.002825</td>\n",
       "      <td>0.020282</td>\n",
       "      <td>0.016469</td>\n",
       "      <td>0.022575</td>\n",
       "      <td>-0.043629</td>\n",
       "      <td>0.004201</td>\n",
       "      <td>-0.029954</td>\n",
       "      <td>0.013977</td>\n",
       "      <td>...</td>\n",
       "      <td>-0.167717</td>\n",
       "      <td>-0.148175</td>\n",
       "      <td>-0.139391</td>\n",
       "      <td>-0.189799</td>\n",
       "      <td>-0.180144</td>\n",
       "      <td>1.000000</td>\n",
       "      <td>-0.003013</td>\n",
       "      <td>0.003398</td>\n",
       "      <td>-0.047262</td>\n",
       "      <td>-0.008713</td>\n",
       "    </tr>\n",
       "    <tr>\n",
       "      <td>Year</td>\n",
       "      <td>-0.015195</td>\n",
       "      <td>-0.009246</td>\n",
       "      <td>-0.108997</td>\n",
       "      <td>-0.043491</td>\n",
       "      <td>0.031135</td>\n",
       "      <td>0.043613</td>\n",
       "      <td>-0.002163</td>\n",
       "      <td>0.024028</td>\n",
       "      <td>0.000469</td>\n",
       "      <td>-0.077786</td>\n",
       "      <td>...</td>\n",
       "      <td>-0.012810</td>\n",
       "      <td>0.004206</td>\n",
       "      <td>0.019879</td>\n",
       "      <td>0.009266</td>\n",
       "      <td>-0.019094</td>\n",
       "      <td>-0.003013</td>\n",
       "      <td>1.000000</td>\n",
       "      <td>-0.083268</td>\n",
       "      <td>-0.009604</td>\n",
       "      <td>-0.007846</td>\n",
       "    </tr>\n",
       "    <tr>\n",
       "      <td>Month</td>\n",
       "      <td>-0.024061</td>\n",
       "      <td>0.013451</td>\n",
       "      <td>0.031157</td>\n",
       "      <td>-0.033423</td>\n",
       "      <td>-0.037375</td>\n",
       "      <td>0.032938</td>\n",
       "      <td>0.036714</td>\n",
       "      <td>0.008930</td>\n",
       "      <td>0.033781</td>\n",
       "      <td>-0.015583</td>\n",
       "      <td>...</td>\n",
       "      <td>-0.013111</td>\n",
       "      <td>0.025978</td>\n",
       "      <td>0.006965</td>\n",
       "      <td>0.017152</td>\n",
       "      <td>-0.037709</td>\n",
       "      <td>0.003398</td>\n",
       "      <td>-0.083268</td>\n",
       "      <td>1.000000</td>\n",
       "      <td>0.044324</td>\n",
       "      <td>0.032825</td>\n",
       "    </tr>\n",
       "    <tr>\n",
       "      <td>Day</td>\n",
       "      <td>-0.011307</td>\n",
       "      <td>-0.018059</td>\n",
       "      <td>-0.001586</td>\n",
       "      <td>-0.016545</td>\n",
       "      <td>-0.034034</td>\n",
       "      <td>0.010645</td>\n",
       "      <td>0.031163</td>\n",
       "      <td>-0.021989</td>\n",
       "      <td>0.020867</td>\n",
       "      <td>0.014625</td>\n",
       "      <td>...</td>\n",
       "      <td>-0.043923</td>\n",
       "      <td>0.052954</td>\n",
       "      <td>0.004209</td>\n",
       "      <td>0.005619</td>\n",
       "      <td>0.015171</td>\n",
       "      <td>-0.047262</td>\n",
       "      <td>-0.009604</td>\n",
       "      <td>0.044324</td>\n",
       "      <td>1.000000</td>\n",
       "      <td>0.148926</td>\n",
       "    </tr>\n",
       "    <tr>\n",
       "      <td>Hour</td>\n",
       "      <td>-0.001935</td>\n",
       "      <td>-0.006272</td>\n",
       "      <td>0.013271</td>\n",
       "      <td>-0.024280</td>\n",
       "      <td>0.029090</td>\n",
       "      <td>0.029907</td>\n",
       "      <td>-0.011764</td>\n",
       "      <td>0.003933</td>\n",
       "      <td>0.014830</td>\n",
       "      <td>-0.039306</td>\n",
       "      <td>...</td>\n",
       "      <td>-0.030190</td>\n",
       "      <td>0.036483</td>\n",
       "      <td>-0.003569</td>\n",
       "      <td>0.013929</td>\n",
       "      <td>-0.012117</td>\n",
       "      <td>-0.008713</td>\n",
       "      <td>-0.007846</td>\n",
       "      <td>0.032825</td>\n",
       "      <td>0.148926</td>\n",
       "      <td>1.000000</td>\n",
       "    </tr>\n",
       "  </tbody>\n",
       "</table>\n",
       "<p>27 rows × 27 columns</p>\n",
       "</div>"
      ],
      "text/plain": [
       "                                   Route   Min Gap   Vehicle  Direction_e  \\\n",
       "Route                           1.000000 -0.090835 -0.000206    -0.007527   \n",
       "Min Gap                        -0.090835  1.000000 -0.012631    -0.012296   \n",
       "Vehicle                        -0.000206 -0.012631  1.000000     0.029031   \n",
       "Direction_e                    -0.007527 -0.012296  0.029031     1.000000   \n",
       "Direction_n                     0.056262 -0.051257  0.025599    -0.270932   \n",
       "Direction_s                     0.065490 -0.036179 -0.014690    -0.255613   \n",
       "Direction_w                    -0.066248  0.065376 -0.035873    -0.668767   \n",
       "Incident_Diversion             -0.068125  0.088779 -0.020570    -0.017383   \n",
       "Incident_Emergency Services    -0.115807  0.088769  0.012695    -0.018855   \n",
       "Incident_General Delay          0.066561 -0.056070 -0.044952     0.150019   \n",
       "Incident_Held By               -0.049623  0.145627 -0.015260    -0.006821   \n",
       "Incident_Investigation         -0.041579  0.023180 -0.003480    -0.046298   \n",
       "Incident_Late Leaving Garage    0.034905 -0.037796 -0.001127     0.046257   \n",
       "Incident_Mechanical             0.056004 -0.085908 -0.024044    -0.033899   \n",
       "Incident_Overhead - Pantograph  0.001624  0.035491 -0.000006     0.000816   \n",
       "Incident_Utilized Off Route     0.016764 -0.046876  0.140084    -0.047447   \n",
       "Day_Friday                      0.032561 -0.015271  0.000548    -0.012397   \n",
       "Day_Monday                      0.025761  0.000389  0.008296     0.020339   \n",
       "Day_Saturday                   -0.076482  0.008964  0.021635    -0.020828   \n",
       "Day_Sunday                     -0.057406  0.024205  0.024436    -0.035471   \n",
       "Day_Thursday                    0.022075 -0.025578 -0.040605    -0.006980   \n",
       "Day_Tuesday                    -0.004348  0.016828 -0.002598     0.028255   \n",
       "Day_Wednesday                   0.038360 -0.002881 -0.002825     0.020282   \n",
       "Year                           -0.015195 -0.009246 -0.108997    -0.043491   \n",
       "Month                          -0.024061  0.013451  0.031157    -0.033423   \n",
       "Day                            -0.011307 -0.018059 -0.001586    -0.016545   \n",
       "Hour                           -0.001935 -0.006272  0.013271    -0.024280   \n",
       "\n",
       "                                Direction_n  Direction_s  Direction_w  \\\n",
       "Route                              0.056262     0.065490    -0.066248   \n",
       "Min Gap                           -0.051257    -0.036179     0.065376   \n",
       "Vehicle                            0.025599    -0.014690    -0.035873   \n",
       "Direction_e                       -0.270932    -0.255613    -0.668767   \n",
       "Direction_n                        1.000000    -0.109926    -0.287601   \n",
       "Direction_s                       -0.109926     1.000000    -0.271340   \n",
       "Direction_w                       -0.287601    -0.271340     1.000000   \n",
       "Incident_Diversion                -0.025340    -0.008306     0.037818   \n",
       "Incident_Emergency Services       -0.025106     0.020948     0.021805   \n",
       "Incident_General Delay            -0.072576    -0.069629    -0.061993   \n",
       "Incident_Held By                  -0.022187    -0.014879     0.029317   \n",
       "Incident_Investigation            -0.028632     0.044383     0.037236   \n",
       "Incident_Late Leaving Garage       0.016165    -0.071073    -0.013656   \n",
       "Incident_Mechanical                0.056116     0.066202    -0.040518   \n",
       "Incident_Overhead - Pantograph     0.001190    -0.003042     0.000257   \n",
       "Incident_Utilized Off Route        0.050103    -0.042293     0.040846   \n",
       "Day_Friday                         0.037609    -0.011421    -0.004320   \n",
       "Day_Monday                        -0.014808    -0.007579    -0.006424   \n",
       "Day_Saturday                      -0.009256     0.009898     0.020465   \n",
       "Day_Sunday                        -0.007168     0.009934     0.033618   \n",
       "Day_Thursday                      -0.043958    -0.016505     0.043944   \n",
       "Day_Tuesday                        0.018935    -0.002708    -0.038067   \n",
       "Day_Wednesday                      0.016469     0.022575    -0.043629   \n",
       "Year                               0.031135     0.043613    -0.002163   \n",
       "Month                             -0.037375     0.032938     0.036714   \n",
       "Day                               -0.034034     0.010645     0.031163   \n",
       "Hour                               0.029090     0.029907    -0.011764   \n",
       "\n",
       "                                Incident_Diversion  \\\n",
       "Route                                    -0.068125   \n",
       "Min Gap                                   0.088779   \n",
       "Vehicle                                  -0.020570   \n",
       "Direction_e                              -0.017383   \n",
       "Direction_n                              -0.025340   \n",
       "Direction_s                              -0.008306   \n",
       "Direction_w                               0.037818   \n",
       "Incident_Diversion                        1.000000   \n",
       "Incident_Emergency Services              -0.026292   \n",
       "Incident_General Delay                   -0.043165   \n",
       "Incident_Held By                         -0.048264   \n",
       "Incident_Investigation                   -0.066828   \n",
       "Incident_Late Leaving Garage             -0.047379   \n",
       "Incident_Mechanical                      -0.152255   \n",
       "Incident_Overhead - Pantograph           -0.001459   \n",
       "Incident_Utilized Off Route              -0.035525   \n",
       "Day_Friday                               -0.006335   \n",
       "Day_Monday                               -0.005748   \n",
       "Day_Saturday                              0.045228   \n",
       "Day_Sunday                                0.047816   \n",
       "Day_Thursday                             -0.036912   \n",
       "Day_Tuesday                              -0.032596   \n",
       "Day_Wednesday                             0.004201   \n",
       "Year                                      0.024028   \n",
       "Month                                     0.008930   \n",
       "Day                                      -0.021989   \n",
       "Hour                                      0.003933   \n",
       "\n",
       "                                Incident_Emergency Services  \\\n",
       "Route                                             -0.115807   \n",
       "Min Gap                                            0.088769   \n",
       "Vehicle                                            0.012695   \n",
       "Direction_e                                       -0.018855   \n",
       "Direction_n                                       -0.025106   \n",
       "Direction_s                                        0.020948   \n",
       "Direction_w                                        0.021805   \n",
       "Incident_Diversion                                -0.026292   \n",
       "Incident_Emergency Services                        1.000000   \n",
       "Incident_General Delay                            -0.047593   \n",
       "Incident_Held By                                  -0.053216   \n",
       "Incident_Investigation                            -0.073684   \n",
       "Incident_Late Leaving Garage                      -0.052239   \n",
       "Incident_Mechanical                               -0.167875   \n",
       "Incident_Overhead - Pantograph                    -0.001608   \n",
       "Incident_Utilized Off Route                       -0.039170   \n",
       "Day_Friday                                        -0.018240   \n",
       "Day_Monday                                         0.002627   \n",
       "Day_Saturday                                       0.058491   \n",
       "Day_Sunday                                        -0.008236   \n",
       "Day_Thursday                                      -0.006116   \n",
       "Day_Tuesday                                        0.007778   \n",
       "Day_Wednesday                                     -0.029954   \n",
       "Year                                               0.000469   \n",
       "Month                                              0.033781   \n",
       "Day                                                0.020867   \n",
       "Hour                                               0.014830   \n",
       "\n",
       "                                Incident_General Delay  ...  Day_Monday  \\\n",
       "Route                                         0.066561  ...    0.025761   \n",
       "Min Gap                                      -0.056070  ...    0.000389   \n",
       "Vehicle                                      -0.044952  ...    0.008296   \n",
       "Direction_e                                   0.150019  ...    0.020339   \n",
       "Direction_n                                  -0.072576  ...   -0.014808   \n",
       "Direction_s                                  -0.069629  ...   -0.007579   \n",
       "Direction_w                                  -0.061993  ...   -0.006424   \n",
       "Incident_Diversion                           -0.043165  ...   -0.005748   \n",
       "Incident_Emergency Services                  -0.047593  ...    0.002627   \n",
       "Incident_General Delay                        1.000000  ...   -0.011242   \n",
       "Incident_Held By                             -0.087366  ...    0.009214   \n",
       "Incident_Investigation                       -0.120969  ...    0.004026   \n",
       "Incident_Late Leaving Garage                 -0.085762  ...    0.003780   \n",
       "Incident_Mechanical                          -0.275605  ...   -0.010622   \n",
       "Incident_Overhead - Pantograph               -0.002641  ...    0.000081   \n",
       "Incident_Utilized Off Route                  -0.064306  ...    0.016045   \n",
       "Day_Friday                                    0.020540  ...   -0.181626   \n",
       "Day_Monday                                   -0.011242  ...    1.000000   \n",
       "Day_Saturday                                 -0.052943  ...   -0.143699   \n",
       "Day_Sunday                                    0.004047  ...   -0.135180   \n",
       "Day_Thursday                                  0.024207  ...   -0.184065   \n",
       "Day_Tuesday                                  -0.006500  ...   -0.174701   \n",
       "Day_Wednesday                                 0.013977  ...   -0.167717   \n",
       "Year                                         -0.077786  ...   -0.012810   \n",
       "Month                                        -0.015583  ...   -0.013111   \n",
       "Day                                           0.014625  ...   -0.043923   \n",
       "Hour                                         -0.039306  ...   -0.030190   \n",
       "\n",
       "                                Day_Saturday  Day_Sunday  Day_Thursday  \\\n",
       "Route                              -0.076482   -0.057406      0.022075   \n",
       "Min Gap                             0.008964    0.024205     -0.025578   \n",
       "Vehicle                             0.021635    0.024436     -0.040605   \n",
       "Direction_e                        -0.020828   -0.035471     -0.006980   \n",
       "Direction_n                        -0.009256   -0.007168     -0.043958   \n",
       "Direction_s                         0.009898    0.009934     -0.016505   \n",
       "Direction_w                         0.020465    0.033618      0.043944   \n",
       "Incident_Diversion                  0.045228    0.047816     -0.036912   \n",
       "Incident_Emergency Services         0.058491   -0.008236     -0.006116   \n",
       "Incident_General Delay             -0.052943    0.004047      0.024207   \n",
       "Incident_Held By                    0.004895    0.007118     -0.020086   \n",
       "Incident_Investigation             -0.026103    0.009773      0.003226   \n",
       "Incident_Late Leaving Garage       -0.044904   -0.053205      0.041948   \n",
       "Incident_Mechanical                 0.035317   -0.006562      0.002093   \n",
       "Incident_Overhead - Pantograph      0.000902    0.001312      0.002834   \n",
       "Incident_Utilized Off Route         0.001256    0.026091     -0.036568   \n",
       "Day_Friday                         -0.160463   -0.150951     -0.205539   \n",
       "Day_Monday                         -0.143699   -0.135180     -0.184065   \n",
       "Day_Saturday                        1.000000   -0.119429     -0.162618   \n",
       "Day_Sunday                         -0.119429    1.000000     -0.152978   \n",
       "Day_Thursday                       -0.162618   -0.152978      1.000000   \n",
       "Day_Tuesday                        -0.154346   -0.145196     -0.197703   \n",
       "Day_Wednesday                      -0.148175   -0.139391     -0.189799   \n",
       "Year                                0.004206    0.019879      0.009266   \n",
       "Month                               0.025978    0.006965      0.017152   \n",
       "Day                                 0.052954    0.004209      0.005619   \n",
       "Hour                                0.036483   -0.003569      0.013929   \n",
       "\n",
       "                                Day_Tuesday  Day_Wednesday      Year  \\\n",
       "Route                             -0.004348       0.038360 -0.015195   \n",
       "Min Gap                            0.016828      -0.002881 -0.009246   \n",
       "Vehicle                           -0.002598      -0.002825 -0.108997   \n",
       "Direction_e                        0.028255       0.020282 -0.043491   \n",
       "Direction_n                        0.018935       0.016469  0.031135   \n",
       "Direction_s                       -0.002708       0.022575  0.043613   \n",
       "Direction_w                       -0.038067      -0.043629 -0.002163   \n",
       "Incident_Diversion                -0.032596       0.004201  0.024028   \n",
       "Incident_Emergency Services        0.007778      -0.029954  0.000469   \n",
       "Incident_General Delay            -0.006500       0.013977 -0.077786   \n",
       "Incident_Held By                   0.004544       0.015495 -0.019401   \n",
       "Incident_Investigation            -0.014102      -0.015631 -0.062379   \n",
       "Incident_Late Leaving Garage      -0.013253       0.049226 -0.013602   \n",
       "Incident_Mechanical                0.017514      -0.011817  0.128088   \n",
       "Incident_Overhead - Pantograph     0.003308      -0.003929  0.012722   \n",
       "Incident_Utilized Off Route        0.018718      -0.026884 -0.071474   \n",
       "Day_Friday                        -0.195083      -0.187284  0.004422   \n",
       "Day_Monday                        -0.174701      -0.167717 -0.012810   \n",
       "Day_Saturday                      -0.154346      -0.148175  0.004206   \n",
       "Day_Sunday                        -0.145196      -0.139391  0.019879   \n",
       "Day_Thursday                      -0.197703      -0.189799  0.009266   \n",
       "Day_Tuesday                        1.000000      -0.180144 -0.019094   \n",
       "Day_Wednesday                     -0.180144       1.000000 -0.003013   \n",
       "Year                              -0.019094      -0.003013  1.000000   \n",
       "Month                             -0.037709       0.003398 -0.083268   \n",
       "Day                                0.015171      -0.047262 -0.009604   \n",
       "Hour                              -0.012117      -0.008713 -0.007846   \n",
       "\n",
       "                                   Month       Day      Hour  \n",
       "Route                          -0.024061 -0.011307 -0.001935  \n",
       "Min Gap                         0.013451 -0.018059 -0.006272  \n",
       "Vehicle                         0.031157 -0.001586  0.013271  \n",
       "Direction_e                    -0.033423 -0.016545 -0.024280  \n",
       "Direction_n                    -0.037375 -0.034034  0.029090  \n",
       "Direction_s                     0.032938  0.010645  0.029907  \n",
       "Direction_w                     0.036714  0.031163 -0.011764  \n",
       "Incident_Diversion              0.008930 -0.021989  0.003933  \n",
       "Incident_Emergency Services     0.033781  0.020867  0.014830  \n",
       "Incident_General Delay         -0.015583  0.014625 -0.039306  \n",
       "Incident_Held By                0.003823  0.017521  0.015541  \n",
       "Incident_Investigation          0.036988  0.014471 -0.027776  \n",
       "Incident_Late Leaving Garage   -0.063212 -0.017454 -0.019346  \n",
       "Incident_Mechanical             0.023887 -0.025039  0.037455  \n",
       "Incident_Overhead - Pantograph  0.013646  0.009091  0.007136  \n",
       "Incident_Utilized Off Route    -0.054064  0.014349 -0.002403  \n",
       "Day_Friday                      0.000818  0.016896  0.006037  \n",
       "Day_Monday                     -0.013111 -0.043923 -0.030190  \n",
       "Day_Saturday                    0.025978  0.052954  0.036483  \n",
       "Day_Sunday                      0.006965  0.004209 -0.003569  \n",
       "Day_Thursday                    0.017152  0.005619  0.013929  \n",
       "Day_Tuesday                    -0.037709  0.015171 -0.012117  \n",
       "Day_Wednesday                   0.003398 -0.047262 -0.008713  \n",
       "Year                           -0.083268 -0.009604 -0.007846  \n",
       "Month                           1.000000  0.044324  0.032825  \n",
       "Day                             0.044324  1.000000  0.148926  \n",
       "Hour                            0.032825  0.148926  1.000000  \n",
       "\n",
       "[27 rows x 27 columns]"
      ]
     },
     "execution_count": 189,
     "metadata": {},
     "output_type": "execute_result"
    }
   ],
   "source": [
    "X.corr()"
   ]
  },
  {
   "cell_type": "code",
   "execution_count": 190,
   "metadata": {},
   "outputs": [],
   "source": [
    "number_of_features = X.shape[1]"
   ]
  },
  {
   "cell_type": "code",
   "execution_count": 191,
   "metadata": {},
   "outputs": [
    {
     "data": {
      "image/png": "[encoded data removed]",
      "text/plain": [
       "<Figure size 720x720 with 2 Axes>"
      ]
     },
     "metadata": {
      "needs_background": "light"
     },
     "output_type": "display_data"
    }
   ],
   "source": [
    "plt.figure(figsize = (10, 10))\n",
    "plt.xticks(range(0, number_of_features), feature_names, rotation='vertical')\n",
    "plt.yticks(range(0, number_of_features), feature_names)\n",
    "plt.imshow(X.corr(), cmap='ocean')\n",
    "plt.colorbar()\n",
    "plt.show()"
   ]
  },
  {
   "cell_type": "markdown",
   "metadata": {},
   "source": [
    "# Logistic regression"
   ]
  },
  {
   "cell_type": "code",
   "execution_count": 192,
   "metadata": {},
   "outputs": [],
   "source": [
    "from sklearn import linear_model\n",
    "from sklearn import model_selection\n",
    "from sklearn import metrics\n",
    "from sklearn import preprocessing\n",
    "from sklearn import datasets"
   ]
  },
  {
   "cell_type": "code",
   "execution_count": 193,
   "metadata": {},
   "outputs": [],
   "source": [
    "X_train, X_test, y_train, y_test = model_selection.train_test_split(X, y, test_size = 0.33, random_state = 7, stratify = y)"
   ]
  },
  {
   "cell_type": "code",
   "execution_count": 194,
   "metadata": {},
   "outputs": [
    {
     "data": {
      "text/plain": [
       "(52557, 27)"
      ]
     },
     "execution_count": 194,
     "metadata": {},
     "output_type": "execute_result"
    }
   ],
   "source": [
    "X_train.shape"
   ]
  },
  {
   "cell_type": "code",
   "execution_count": 195,
   "metadata": {},
   "outputs": [
    {
     "data": {
      "text/plain": [
       "(25887, 27)"
      ]
     },
     "execution_count": 195,
     "metadata": {},
     "output_type": "execute_result"
    }
   ],
   "source": [
    "X_test.shape"
   ]
  },
  {
   "cell_type": "code",
   "execution_count": 196,
   "metadata": {},
   "outputs": [
    {
     "data": {
      "text/plain": [
       "(52557,)"
      ]
     },
     "execution_count": 196,
     "metadata": {},
     "output_type": "execute_result"
    }
   ],
   "source": [
    " y_train.shape\n",
    "    "
   ]
  },
  {
   "cell_type": "code",
   "execution_count": 197,
   "metadata": {},
   "outputs": [
    {
     "data": {
      "text/plain": [
       "(25887,)"
      ]
     },
     "execution_count": 197,
     "metadata": {},
     "output_type": "execute_result"
    }
   ],
   "source": [
    "y_test.shape"
   ]
  },
  {
   "cell_type": "code",
   "execution_count": 198,
   "metadata": {},
   "outputs": [],
   "source": [
    "scaler = preprocessing.StandardScaler()\n",
    "scaler.fit(X_train)\n",
    "X_train = scaler.transform(X_train)\n",
    "X_test = scaler.transform(X_test)"
   ]
  },
  {
   "cell_type": "code",
   "execution_count": 199,
   "metadata": {},
   "outputs": [
    {
     "name": "stdout",
     "output_type": "stream",
     "text": [
      "Train Delay:  29732      Train Without Delay:  22825\n"
     ]
    }
   ],
   "source": [
    "wd_train = np.sum(y_train == 0)\n",
    "d_train = np.sum(y_train == 1)\n",
    "print('Train Delay: ', d_train, '     Train Without Delay: ', wd_train)"
   ]
  },
  {
   "cell_type": "code",
   "execution_count": 200,
   "metadata": {},
   "outputs": [
    {
     "name": "stdout",
     "output_type": "stream",
     "text": [
      "Test Delay:  14644      Test Without Delay:  11243\n"
     ]
    }
   ],
   "source": [
    "wd_test = np.sum(y_test == 0)\n",
    "d_test = np.sum(y_test == 1)\n",
    "print('Test Delay: ', d_test, '     Test Without Delay: ', wd_test)"
   ]
  },
  {
   "cell_type": "code",
   "execution_count": 201,
   "metadata": {},
   "outputs": [
    {
     "data": {
      "image/png": "[encoded data removed]",
      "text/plain": [
       "<Figure size 504x504 with 1 Axes>"
      ]
     },
     "metadata": {
      "needs_background": "light"
     },
     "output_type": "display_data"
    }
   ],
   "source": [
    "plt.figure(figsize = (7, 7))\n",
    "matplotlib.rc('xtick', labelsize = 12) \n",
    "matplotlib.rc('ytick', labelsize = 12) \n",
    "plt.title(\"Visual inspection of stratification\")\n",
    "plt.xticks([0,1])\n",
    "plt.xlabel('No delay                                                        delay ', fontsize = 15 )\n",
    "plt.hist([y_train, y_test], color=['red', 'blue'], label=['training set ',' testing set'])\n",
    "plt.legend(loc='best')\n",
    "plt.show()"
   ]
  },
  {
   "cell_type": "markdown",
   "metadata": {},
   "source": [
    "## Model learning"
   ]
  },
  {
   "cell_type": "code",
   "execution_count": 202,
   "metadata": {},
   "outputs": [],
   "source": [
    "model = linear_model.LogisticRegression(solver='lbfgs')"
   ]
  },
  {
   "cell_type": "code",
   "execution_count": 203,
   "metadata": {},
   "outputs": [
    {
     "data": {
      "text/plain": [
       "LogisticRegression(C=1.0, class_weight=None, dual=False, fit_intercept=True,\n",
       "                   intercept_scaling=1, l1_ratio=None, max_iter=100,\n",
       "                   multi_class='warn', n_jobs=None, penalty='l2',\n",
       "                   random_state=None, solver='lbfgs', tol=0.0001, verbose=0,\n",
       "                   warm_start=False)"
      ]
     },
     "execution_count": 203,
     "metadata": {},
     "output_type": "execute_result"
    }
   ],
   "source": [
    "model.fit(X_train, y_train)"
   ]
  },
  {
   "cell_type": "code",
   "execution_count": 204,
   "metadata": {},
   "outputs": [
    {
     "data": {
      "text/plain": [
       "array([1.48367489])"
      ]
     },
     "execution_count": 204,
     "metadata": {},
     "output_type": "execute_result"
    }
   ],
   "source": [
    "model.intercept_"
   ]
  },
  {
   "cell_type": "code",
   "execution_count": 205,
   "metadata": {},
   "outputs": [
    {
     "data": {
      "text/plain": [
       "array([[ 1.83590242e-01,  8.66745129e+00, -5.13951021e-03,\n",
       "         7.35557905e-02, -6.14526054e-02, -4.86214014e-02,\n",
       "        -5.81267536e-03, -2.47712839e-01, -1.90143548e-01,\n",
       "        -2.41418954e-01,  6.50116395e-02, -1.07970363e-01,\n",
       "         2.28543089e-01,  1.78042237e-01,  7.40049538e-02,\n",
       "        -3.30714010e-03, -2.11638220e-02,  3.80842827e-02,\n",
       "        -4.00901606e-02, -5.15475694e-02,  1.54291706e-02,\n",
       "        -1.80894962e-02,  6.71210816e-02, -1.27743453e-01,\n",
       "         3.74022118e-02, -1.34261019e-02,  2.17263289e-02]])"
      ]
     },
     "execution_count": 205,
     "metadata": {},
     "output_type": "execute_result"
    }
   ],
   "source": [
    "model.coef_"
   ]
  },
  {
   "cell_type": "markdown",
   "metadata": {},
   "source": [
    "## Evaluation"
   ]
  },
  {
   "cell_type": "code",
   "execution_count": 206,
   "metadata": {},
   "outputs": [],
   "source": [
    "y_test_predicted = model.predict(X_test)"
   ]
  },
  {
   "cell_type": "code",
   "execution_count": 207,
   "metadata": {},
   "outputs": [
    {
     "data": {
      "text/plain": [
       "0.9356820025495423"
      ]
     },
     "execution_count": 207,
     "metadata": {},
     "output_type": "execute_result"
    }
   ],
   "source": [
    "accuracy = metrics.accuracy_score(y_test, y_test_predicted)\n",
    "accuracy"
   ]
  },
  {
   "cell_type": "code",
   "execution_count": 208,
   "metadata": {},
   "outputs": [
    {
     "data": {
      "text/plain": [
       "0.9399362755067453"
      ]
     },
     "execution_count": 208,
     "metadata": {},
     "output_type": "execute_result"
    }
   ],
   "source": [
    "precision = metrics.precision_score(y_test, y_test_predicted)\n",
    "precision"
   ]
  },
  {
   "cell_type": "code",
   "execution_count": 209,
   "metadata": {},
   "outputs": [
    {
     "data": {
      "text/plain": [
       "0.9468041518710735"
      ]
     },
     "execution_count": 209,
     "metadata": {},
     "output_type": "execute_result"
    }
   ],
   "source": [
    "recall = metrics.recall_score(y_test, y_test_predicted)\n",
    "recall"
   ]
  },
  {
   "cell_type": "code",
   "execution_count": 210,
   "metadata": {},
   "outputs": [
    {
     "data": {
      "text/plain": [
       "0.9433577138969212"
      ]
     },
     "execution_count": 210,
     "metadata": {},
     "output_type": "execute_result"
    }
   ],
   "source": [
    "f1 = metrics.f1_score(y_test, y_test_predicted)\n",
    "f1"
   ]
  },
  {
   "cell_type": "code",
   "execution_count": 211,
   "metadata": {},
   "outputs": [],
   "source": [
    "y_train_predicted = model.predict(X_train)"
   ]
  },
  {
   "cell_type": "code",
   "execution_count": 212,
   "metadata": {},
   "outputs": [
    {
     "data": {
      "text/plain": [
       "array([1, 0, 1, 0, 1, 1, 0, 0, 1, 0, 1, 1, 1, 1, 1, 0, 1, 1, 1, 1, 1, 1,\n",
       "       1, 0, 1, 1, 0, 0, 1, 1], dtype=int64)"
      ]
     },
     "execution_count": 212,
     "metadata": {},
     "output_type": "execute_result"
    }
   ],
   "source": [
    "y_train_predicted[:30]"
   ]
  },
  {
   "cell_type": "code",
   "execution_count": 213,
   "metadata": {},
   "outputs": [],
   "source": [
    "train_score = metrics.accuracy_score(y_train, y_train_predicted)\n",
    "test_score = metrics.accuracy_score(y_test, y_test_predicted)"
   ]
  },
  {
   "cell_type": "code",
   "execution_count": 214,
   "metadata": {},
   "outputs": [
    {
     "name": "stdout",
     "output_type": "stream",
     "text": [
      "Accuracy at the training set: 0.9350039005270468\n",
      "Accuracy at the test set: 0.9356820025495423\n"
     ]
    }
   ],
   "source": [
    "print(\"Accuracy at the training set: {train}\\nAccuracy at the test set: {test}\".format(train=train_score, test=test_score))"
   ]
  },
  {
   "cell_type": "code",
   "execution_count": 215,
   "metadata": {},
   "outputs": [
    {
     "name": "stdout",
     "output_type": "stream",
     "text": [
      "              precision    recall  f1-score   support\n",
      "\n",
      "           0       0.93      0.92      0.93     11243\n",
      "           1       0.94      0.95      0.94     14644\n",
      "\n",
      "    accuracy                           0.94     25887\n",
      "   macro avg       0.93      0.93      0.93     25887\n",
      "weighted avg       0.94      0.94      0.94     25887\n",
      "\n"
     ]
    }
   ],
   "source": [
    "print(metrics.classification_report(y_test, y_test_predicted))"
   ]
  },
  {
   "cell_type": "code",
   "execution_count": 216,
   "metadata": {},
   "outputs": [
    {
     "data": {
      "text/plain": [
       "array([[10357,   886],\n",
       "       [  779, 13865]], dtype=int64)"
      ]
     },
     "execution_count": 216,
     "metadata": {},
     "output_type": "execute_result"
    }
   ],
   "source": [
    "metrics.confusion_matrix(y_test, y_test_predicted)"
   ]
  },
  {
   "cell_type": "code",
   "execution_count": 217,
   "metadata": {},
   "outputs": [
    {
     "data": {
      "image/png": "[encoded data removed]",
      "text/plain": [
       "<Figure size 720x360 with 1 Axes>"
      ]
     },
     "metadata": {
      "needs_background": "light"
     },
     "output_type": "display_data"
    }
   ],
   "source": [
    "fig = plt.figure(figsize=(10, 5))\n",
    "plt.bar(['accuracy', 'precision', 'recall', 'f1'], [accuracy , precision, recall, f1], color='orangered')\n",
    "plt.title(\"Evaluation Logistic Regression\")\n",
    "plt.yticks(np.arange(0, 1, 0.1)) \n",
    "plt.show()"
   ]
  },
  {
   "cell_type": "markdown",
   "metadata": {},
   "source": [
    "# Neural networks"
   ]
  },
  {
   "cell_type": "code",
   "execution_count": 218,
   "metadata": {},
   "outputs": [],
   "source": [
    "import tensorflow as tf\n",
    "from keras.models import Sequential\n",
    "from keras.layers import Dense, Activation\n",
    "from keras import losses, optimizers\n",
    "from keras.layers import Dropout\n",
    "import numpy as np\n",
    "from matplotlib import pyplot as plt\n",
    "from sklearn import preprocessing\n",
    "from sklearn import datasets\n",
    "from sklearn import model_selection\n",
    "from keras import optimizers\n",
    "from keras import losses"
   ]
  },
  {
   "cell_type": "code",
   "execution_count": 219,
   "metadata": {},
   "outputs": [],
   "source": [
    "np.random.seed(7)"
   ]
  },
  {
   "cell_type": "markdown",
   "metadata": {},
   "source": [
    "## Creating Neural networks"
   ]
  },
  {
   "cell_type": "markdown",
   "metadata": {},
   "source": [
    "I will create a neural network with advance propagation. <br> The neural network will have an input layer, three hidden layers with, respectively, 100, 40 and 20 neurons, and an output layer. <br> The number of input layer neurons corresponds to the number of attributes of the data set, which is 27. <br> The number of output layer neurons is 1 since it is a binary classification. <br> In hidden layers I will use relu activation function and in the latter sigmoid function. <br> Optimizer Adam will be used. <br> Binary cross entropy as a function of error will be used. <br> Since the task of classification metrics will be accuracy. <br> I will use Dropout regularization for reducing overfitting and improving the generalization. "
   ]
  },
  {
   "cell_type": "code",
   "execution_count": 220,
   "metadata": {},
   "outputs": [],
   "source": [
    "number_of_features = X_train.shape[1]\n",
    "output_size = 1"
   ]
  },
  {
   "cell_type": "code",
   "execution_count": 221,
   "metadata": {},
   "outputs": [
    {
     "data": {
      "text/plain": [
       "27"
      ]
     },
     "execution_count": 221,
     "metadata": {},
     "output_type": "execute_result"
    }
   ],
   "source": [
    "number_of_features"
   ]
  },
  {
   "cell_type": "code",
   "execution_count": 222,
   "metadata": {},
   "outputs": [],
   "source": [
    "model = Sequential()\n",
    "model.add(Dense(units = 100, input_dim = number_of_features, activation = 'relu'))\n",
    "model.add(Dense(units = 40, activation = 'relu'))\n",
    "model.add(Dense(units = 20, activation = 'relu'))\n",
    "model.add(Dropout(0.1))\n",
    "model.add(Dense(units = output_size, activation = 'sigmoid'))"
   ]
  },
  {
   "cell_type": "code",
   "execution_count": 223,
   "metadata": {},
   "outputs": [],
   "source": [
    "model.compile( optimizers.Adam(learning_rate = 0.0001), loss = losses.BinaryCrossentropy(), metrics = ['accuracy'] )"
   ]
  },
  {
   "cell_type": "code",
   "execution_count": 224,
   "metadata": {},
   "outputs": [
    {
     "name": "stdout",
     "output_type": "stream",
     "text": [
      "Model: \"sequential_2\"\n",
      "_________________________________________________________________\n",
      "Layer (type)                 Output Shape              Param #   \n",
      "=================================================================\n",
      "dense_8 (Dense)              (None, 100)               2800      \n",
      "_________________________________________________________________\n",
      "dense_9 (Dense)              (None, 40)                4040      \n",
      "_________________________________________________________________\n",
      "dense_10 (Dense)             (None, 20)                820       \n",
      "_________________________________________________________________\n",
      "dropout_2 (Dropout)          (None, 20)                0         \n",
      "_________________________________________________________________\n",
      "dense_11 (Dense)             (None, 1)                 21        \n",
      "=================================================================\n",
      "Total params: 7,681\n",
      "Trainable params: 7,681\n",
      "Non-trainable params: 0\n",
      "_________________________________________________________________\n"
     ]
    }
   ],
   "source": [
    "model.summary()"
   ]
  },
  {
   "cell_type": "code",
   "execution_count": 225,
   "metadata": {},
   "outputs": [
    {
     "name": "stdout",
     "output_type": "stream",
     "text": [
      "Epoch 1/50\n",
      "1314/1314 [==============================] - 9s 7ms/step - loss: 0.5735 - accuracy: 0.7105 - val_loss: 0.4555 - val_accuracy: 0.8221\n",
      "Epoch 2/50\n",
      "1314/1314 [==============================] - 8s 6ms/step - loss: 0.3700 - accuracy: 0.8741 - val_loss: 0.2789 - val_accuracy: 0.9263\n",
      "Epoch 3/50\n",
      "1314/1314 [==============================] - 7s 6ms/step - loss: 0.2555 - accuracy: 0.9277 - val_loss: 0.2040 - val_accuracy: 0.9468\n",
      "Epoch 4/50\n",
      "1314/1314 [==============================] - 7s 6ms/step - loss: 0.1999 - accuracy: 0.9407 - val_loss: 0.1628 - val_accuracy: 0.9528\n",
      "Epoch 5/50\n",
      "1314/1314 [==============================] - 8s 6ms/step - loss: 0.1651 - accuracy: 0.9472 - val_loss: 0.1366 - val_accuracy: 0.9572\n",
      "Epoch 6/50\n",
      "1314/1314 [==============================] - 8s 6ms/step - loss: 0.1434 - accuracy: 0.9518 - val_loss: 0.1207 - val_accuracy: 0.9605\n",
      "Epoch 7/50\n",
      "1314/1314 [==============================] - 8s 6ms/step - loss: 0.1267 - accuracy: 0.9558 - val_loss: 0.1100 - val_accuracy: 0.9624\n",
      "Epoch 8/50\n",
      "1314/1314 [==============================] - 7s 6ms/step - loss: 0.1159 - accuracy: 0.9599 - val_loss: 0.1013 - val_accuracy: 0.9652\n",
      "Epoch 9/50\n",
      "1314/1314 [==============================] - 7s 6ms/step - loss: 0.1054 - accuracy: 0.9633 - val_loss: 0.0916 - val_accuracy: 0.9677\n",
      "Epoch 10/50\n",
      "1314/1314 [==============================] - 7s 5ms/step - loss: 0.0952 - accuracy: 0.9665 - val_loss: 0.0845 - val_accuracy: 0.9733\n",
      "Epoch 11/50\n",
      "1314/1314 [==============================] - 7s 5ms/step - loss: 0.0874 - accuracy: 0.9690 - val_loss: 0.0780 - val_accuracy: 0.9736\n",
      "Epoch 12/50\n",
      "1314/1314 [==============================] - 7s 5ms/step - loss: 0.0808 - accuracy: 0.9722 - val_loss: 0.0732 - val_accuracy: 0.9764\n",
      "Epoch 13/50\n",
      "1314/1314 [==============================] - 7s 5ms/step - loss: 0.0747 - accuracy: 0.9752 - val_loss: 0.0685 - val_accuracy: 0.9794\n",
      "Epoch 14/50\n",
      "1314/1314 [==============================] - 8s 6ms/step - loss: 0.0698 - accuracy: 0.9776 - val_loss: 0.0649 - val_accuracy: 0.9803\n",
      "Epoch 15/50\n",
      "1314/1314 [==============================] - 7s 6ms/step - loss: 0.0642 - accuracy: 0.9797 - val_loss: 0.0617 - val_accuracy: 0.9820\n",
      "Epoch 16/50\n",
      "1314/1314 [==============================] - 8s 6ms/step - loss: 0.0613 - accuracy: 0.9821 - val_loss: 0.0605 - val_accuracy: 0.9838\n",
      "Epoch 17/50\n",
      "1314/1314 [==============================] - 7s 6ms/step - loss: 0.0571 - accuracy: 0.9833 - val_loss: 0.0579 - val_accuracy: 0.9835\n",
      "Epoch 18/50\n",
      "1314/1314 [==============================] - 8s 6ms/step - loss: 0.0537 - accuracy: 0.9854 - val_loss: 0.0557 - val_accuracy: 0.9845\n",
      "Epoch 19/50\n",
      "1314/1314 [==============================] - 7s 6ms/step - loss: 0.0510 - accuracy: 0.9863 - val_loss: 0.0527 - val_accuracy: 0.9848\n",
      "Epoch 20/50\n",
      "1314/1314 [==============================] - 9s 7ms/step - loss: 0.0486 - accuracy: 0.9872 - val_loss: 0.0499 - val_accuracy: 0.9875\n",
      "Epoch 21/50\n",
      "1314/1314 [==============================] - 7s 6ms/step - loss: 0.0458 - accuracy: 0.9884 - val_loss: 0.0485 - val_accuracy: 0.9877\n",
      "Epoch 22/50\n",
      "1314/1314 [==============================] - 12s 9ms/step - loss: 0.0432 - accuracy: 0.9896 - val_loss: 0.0486 - val_accuracy: 0.9872\n",
      "Epoch 23/50\n",
      "1314/1314 [==============================] - 10s 7ms/step - loss: 0.0411 - accuracy: 0.9903 - val_loss: 0.0459 - val_accuracy: 0.9893\n",
      "Epoch 24/50\n",
      "1314/1314 [==============================] - 9s 7ms/step - loss: 0.0397 - accuracy: 0.9908 - val_loss: 0.0443 - val_accuracy: 0.9897\n",
      "Epoch 25/50\n",
      "1314/1314 [==============================] - 9s 7ms/step - loss: 0.0379 - accuracy: 0.9907 - val_loss: 0.0417 - val_accuracy: 0.9899\n",
      "Epoch 26/50\n",
      "1314/1314 [==============================] - 8s 6ms/step - loss: 0.0359 - accuracy: 0.9917 - val_loss: 0.0429 - val_accuracy: 0.9893\n",
      "Epoch 27/50\n",
      "1314/1314 [==============================] - 8s 6ms/step - loss: 0.0338 - accuracy: 0.9922 - val_loss: 0.0418 - val_accuracy: 0.9898\n",
      "Epoch 28/50\n",
      "1314/1314 [==============================] - 7s 5ms/step - loss: 0.0322 - accuracy: 0.9926 - val_loss: 0.0426 - val_accuracy: 0.9893\n",
      "Epoch 29/50\n",
      "1314/1314 [==============================] - 8s 6ms/step - loss: 0.0306 - accuracy: 0.9927 - val_loss: 0.0454 - val_accuracy: 0.9874\n",
      "Epoch 30/50\n",
      "1314/1314 [==============================] - 7s 5ms/step - loss: 0.0296 - accuracy: 0.9930 - val_loss: 0.0390 - val_accuracy: 0.9912\n",
      "Epoch 31/50\n",
      "1314/1314 [==============================] - 10s 7ms/step - loss: 0.0277 - accuracy: 0.9934 - val_loss: 0.0394 - val_accuracy: 0.9905\n",
      "Epoch 32/50\n",
      "1314/1314 [==============================] - 7s 5ms/step - loss: 0.0270 - accuracy: 0.9938 - val_loss: 0.0395 - val_accuracy: 0.9903\n",
      "Epoch 33/50\n",
      "1314/1314 [==============================] - 8s 6ms/step - loss: 0.0262 - accuracy: 0.9938 - val_loss: 0.0383 - val_accuracy: 0.9907\n",
      "Epoch 34/50\n",
      "1314/1314 [==============================] - 7s 5ms/step - loss: 0.0246 - accuracy: 0.9944 - val_loss: 0.0352 - val_accuracy: 0.9927\n",
      "Epoch 35/50\n",
      "1314/1314 [==============================] - 8s 6ms/step - loss: 0.0241 - accuracy: 0.9944 - val_loss: 0.0362 - val_accuracy: 0.9911\n",
      "Epoch 36/50\n",
      "1314/1314 [==============================] - 8s 6ms/step - loss: 0.0225 - accuracy: 0.9949 - val_loss: 0.0370 - val_accuracy: 0.9910\n",
      "Epoch 37/50\n",
      "1314/1314 [==============================] - 11s 8ms/step - loss: 0.0218 - accuracy: 0.9951 - val_loss: 0.0356 - val_accuracy: 0.9914\n",
      "Epoch 38/50\n",
      "1314/1314 [==============================] - 12s 9ms/step - loss: 0.0204 - accuracy: 0.9954 - val_loss: 0.0356 - val_accuracy: 0.9912\n",
      "Epoch 39/50\n",
      "1314/1314 [==============================] - 10s 8ms/step - loss: 0.0195 - accuracy: 0.9956 - val_loss: 0.0376 - val_accuracy: 0.9903\n",
      "Epoch 40/50\n",
      "1314/1314 [==============================] - 10s 8ms/step - loss: 0.0192 - accuracy: 0.9951 - val_loss: 0.0357 - val_accuracy: 0.9917\n",
      "Epoch 41/50\n",
      "1314/1314 [==============================] - 9s 7ms/step - loss: 0.0184 - accuracy: 0.9958 - val_loss: 0.0334 - val_accuracy: 0.9925\n",
      "Epoch 42/50\n",
      "1314/1314 [==============================] - 10s 7ms/step - loss: 0.0179 - accuracy: 0.9958 - val_loss: 0.0334 - val_accuracy: 0.9920\n",
      "Epoch 43/50\n",
      "1314/1314 [==============================] - 9s 6ms/step - loss: 0.0168 - accuracy: 0.9962 - val_loss: 0.0365 - val_accuracy: 0.9912\n",
      "Epoch 44/50\n",
      "1314/1314 [==============================] - 9s 7ms/step - loss: 0.0163 - accuracy: 0.9962 - val_loss: 0.0321 - val_accuracy: 0.9929\n",
      "Epoch 45/50\n",
      "1314/1314 [==============================] - 10s 7ms/step - loss: 0.0159 - accuracy: 0.9962 - val_loss: 0.0374 - val_accuracy: 0.9911\n",
      "Epoch 46/50\n",
      "1314/1314 [==============================] - 9s 7ms/step - loss: 0.0157 - accuracy: 0.9966 - val_loss: 0.0390 - val_accuracy: 0.9906\n",
      "Epoch 47/50\n",
      "1314/1314 [==============================] - 10s 8ms/step - loss: 0.0145 - accuracy: 0.9967 - val_loss: 0.0353 - val_accuracy: 0.9922\n",
      "Epoch 48/50\n",
      "1314/1314 [==============================] - 10s 7ms/step - loss: 0.0140 - accuracy: 0.9968 - val_loss: 0.0312 - val_accuracy: 0.9930\n",
      "Epoch 49/50\n",
      "1314/1314 [==============================] - 9s 7ms/step - loss: 0.0139 - accuracy: 0.9968 - val_loss: 0.0353 - val_accuracy: 0.9924\n",
      "Epoch 50/50\n",
      "1314/1314 [==============================] - 10s 8ms/step - loss: 0.0133 - accuracy: 0.9972 - val_loss: 0.0357 - val_accuracy: 0.9911\n"
     ]
    }
   ],
   "source": [
    "history = model.fit(X_train, y_train, epochs = 50, batch_size = 32, verbose = 1, validation_split = 0.2)"
   ]
  },
  {
   "cell_type": "code",
   "execution_count": null,
   "metadata": {},
   "outputs": [],
   "source": []
  },
  {
   "cell_type": "code",
   "execution_count": 226,
   "metadata": {},
   "outputs": [],
   "source": [
    "epochs = history.epoch\n",
    "\n",
    "loss = history.history['loss']\n",
    "validation_loss = history.history['val_loss']\n",
    "\n",
    "acc = history.history['accuracy']\n",
    "validation_acc = history.history['val_accuracy']"
   ]
  },
  {
   "cell_type": "code",
   "execution_count": 227,
   "metadata": {},
   "outputs": [
    {
     "data": {
      "text/plain": [
       "<matplotlib.legend.Legend at 0x1cb07387dc8>"
      ]
     },
     "execution_count": 227,
     "metadata": {},
     "output_type": "execute_result"
    },
    {
     "data": {
      "image/png": "[encoded data removed]",
      "text/plain": [
       "<Figure size 1080x360 with 2 Axes>"
      ]
     },
     "metadata": {
      "needs_background": "light"
     },
     "output_type": "display_data"
    }
   ],
   "source": [
    "fig = plt.figure(figsize=(15, 5))\n",
    "\n",
    "plt.subplot(1,2,1)\n",
    "plt.title('Loss')\n",
    "plt.xlabel('Epochs')\n",
    "plt.ylabel('Loss')\n",
    "plt.plot(epochs, loss, c='red', label='training')\n",
    "plt.plot(epochs, validation_loss, c='blue', label='validation')\n",
    "plt.legend(loc='best')\n",
    "\n",
    "plt.subplot(1,2,2)\n",
    "plt.title('Accuracy')\n",
    "plt.xlabel('Epochs')\n",
    "plt.ylabel('Acccuracy')\n",
    "plt.plot(epochs, acc, c='red', label='training')\n",
    "plt.plot(epochs, validation_acc, c='blue', label='validation')\n",
    "plt.legend(loc='best')"
   ]
  },
  {
   "cell_type": "code",
   "execution_count": null,
   "metadata": {},
   "outputs": [],
   "source": []
  },
  {
   "cell_type": "markdown",
   "metadata": {},
   "source": [
    "## Neural network evaluation"
   ]
  },
  {
   "cell_type": "code",
   "execution_count": 235,
   "metadata": {},
   "outputs": [],
   "source": [
    "final_model = Sequential()\n",
    "final_model.add(Dense(units=100, input_dim=number_of_features, activation='relu'))\n",
    "final_model.add(Dense(units=40, activation='relu'))\n",
    "final_model.add(Dense(units=20, activation='relu'))\n",
    "final_model.add(Dropout(0.1))\n",
    "final_model.add(Dense(units=output_size, activation='sigmoid'))\n",
    "final_model.compile(optimizers.Adam(learning_rate = 0.0001), loss=losses.BinaryCrossentropy(), metrics=['accuracy'])"
   ]
  },
  {
   "cell_type": "code",
   "execution_count": null,
   "metadata": {},
   "outputs": [
    {
     "name": "stdout",
     "output_type": "stream",
     "text": [
      "Epoch 1/50\n",
      "1643/1643 [==============================] - 9s 5ms/step - loss: 0.5426 - accuracy: 0.7406\n",
      "Epoch 2/50\n",
      "1643/1643 [==============================] - 9s 5ms/step - loss: 0.2966 - accuracy: 0.9150\n",
      "Epoch 3/50\n",
      "1643/1643 [==============================] - 8s 5ms/step - loss: 0.1984 - accuracy: 0.9412\n",
      "Epoch 4/50\n",
      "1643/1643 [==============================] - 8s 5ms/step - loss: 0.1582 - accuracy: 0.9498: \n",
      "Epoch 5/50\n",
      "1643/1643 [==============================] - 8s 5ms/step - loss: 0.1371 - accuracy: 0.9542\n",
      "Epoch 6/50\n",
      "1643/1643 [==============================] - 9s 5ms/step - loss: 0.1233 - accuracy: 0.9596\n",
      "Epoch 7/50\n",
      "1643/1643 [==============================] - 11s 7ms/step - loss: 0.1106 - accuracy: 0.9639 1s - loss: 0.1118 - accuracy: 0. -\n",
      "Epoch 8/50\n",
      "1643/1643 [==============================] - 8s 5ms/step - loss: 0.1015 - accuracy: 0.9667\n",
      "Epoch 9/50\n",
      "1643/1643 [==============================] - 7s 4ms/step - loss: 0.0935 - accuracy: 0.9690\n",
      "Epoch 10/50\n",
      "1643/1643 [==============================] - 10s 6ms/step - loss: 0.0853 - accuracy: 0.9723\n",
      "Epoch 11/50\n",
      "1643/1643 [==============================] - 8s 5ms/step - loss: 0.0782 - accuracy: 0.9746\n",
      "Epoch 12/50\n",
      "1643/1643 [==============================] - 7s 4ms/step - loss: 0.0738 - accuracy: 0.9759\n",
      "Epoch 13/50\n",
      "1643/1643 [==============================] - 8s 5ms/step - loss: 0.0683 - accuracy: 0.9782\n",
      "Epoch 14/50\n",
      "1643/1643 [==============================] - 7s 4ms/step - loss: 0.0635 - accuracy: 0.9799\n",
      "Epoch 15/50\n",
      "1643/1643 [==============================] - 7s 4ms/step - loss: 0.0592 - accuracy: 0.9812\n",
      "Epoch 16/50\n",
      "1643/1643 [==============================] - 7s 4ms/step - loss: 0.0558 - accuracy: 0.9824\n",
      "Epoch 17/50\n",
      "1643/1643 [==============================] - 6s 4ms/step - loss: 0.0522 - accuracy: 0.9841\n",
      "Epoch 18/50\n",
      "1643/1643 [==============================] - 7s 4ms/step - loss: 0.0491 - accuracy: 0.9853\n",
      "Epoch 19/50\n",
      "1643/1643 [==============================] - 6s 4ms/step - loss: 0.0462 - accuracy: 0.9864\n",
      "Epoch 20/50\n",
      "1643/1643 [==============================] - 7s 4ms/step - loss: 0.0439 - accuracy: 0.9874\n",
      "Epoch 21/50\n",
      "1643/1643 [==============================] - 6s 4ms/step - loss: 0.0418 - accuracy: 0.9884\n",
      "Epoch 22/50\n",
      "1643/1643 [==============================] - 6s 4ms/step - loss: 0.0391 - accuracy: 0.9898\n",
      "Epoch 23/50\n",
      "1643/1643 [==============================] - 8s 5ms/step - loss: 0.0375 - accuracy: 0.9906\n",
      "Epoch 24/50\n",
      "1643/1643 [==============================] - 8s 5ms/step - loss: 0.0354 - accuracy: 0.9908\n",
      "Epoch 25/50\n",
      "1643/1643 [==============================] - 8s 5ms/step - loss: 0.0333 - accuracy: 0.9916\n",
      "Epoch 26/50\n",
      "1643/1643 [==============================] - 8s 5ms/step - loss: 0.0321 - accuracy: 0.9921\n",
      "Epoch 27/50\n",
      "1643/1643 [==============================] - 7s 4ms/step - loss: 0.0309 - accuracy: 0.9925\n",
      "Epoch 28/50\n",
      "1643/1643 [==============================] - 7s 4ms/step - loss: 0.0295 - accuracy: 0.9930\n",
      "Epoch 29/50\n",
      "1643/1643 [==============================] - 7s 4ms/step - loss: 0.0278 - accuracy: 0.9933\n",
      "Epoch 30/50\n",
      "1643/1643 [==============================] - 7s 4ms/step - loss: 0.0265 - accuracy: 0.9936\n",
      "Epoch 31/50\n",
      "1643/1643 [==============================] - 8s 5ms/step - loss: 0.0257 - accuracy: 0.9942\n",
      "Epoch 32/50\n",
      "1643/1643 [==============================] - 8s 5ms/step - loss: 0.0245 - accuracy: 0.9944\n",
      "Epoch 33/50\n",
      "1643/1643 [==============================] - 9s 6ms/step - loss: 0.0231 - accuracy: 0.9949\n",
      "Epoch 34/50\n",
      "1643/1643 [==============================] - 8s 5ms/step - loss: 0.0232 - accuracy: 0.9945\n",
      "Epoch 35/50\n",
      "1643/1643 [==============================] - 7s 4ms/step - loss: 0.0221 - accuracy: 0.9948\n",
      "Epoch 36/50\n",
      "1643/1643 [==============================] - 8s 5ms/step - loss: 0.0208 - accuracy: 0.9950\n",
      "Epoch 37/50\n",
      "1643/1643 [==============================] - 8s 5ms/step - loss: 0.0202 - accuracy: 0.9953\n",
      "Epoch 38/50\n",
      "1643/1643 [==============================] - ETA: 0s - loss: 0.0195 - accuracy: 0.99 - 8s 5ms/step - loss: 0.0195 - accuracy: 0.9957\n",
      "Epoch 39/50\n",
      "1643/1643 [==============================] - 8s 5ms/step - loss: 0.0191 - accuracy: 0.9953\n",
      "Epoch 40/50\n",
      "1643/1643 [==============================] - 7s 5ms/step - loss: 0.0180 - accuracy: 0.9956\n",
      "Epoch 41/50\n",
      "1643/1643 [==============================] - 7s 4ms/step - loss: 0.0178 - accuracy: 0.9959\n",
      "Epoch 42/50\n",
      "1643/1643 [==============================] - 7s 4ms/step - loss: 0.0172 - accuracy: 0.9961\n",
      "Epoch 43/50\n",
      "1643/1643 [==============================] - 8s 5ms/step - loss: 0.0163 - accuracy: 0.9963\n",
      "Epoch 44/50\n",
      "1643/1643 [==============================] - 8s 5ms/step - loss: 0.0160 - accuracy: 0.9962\n",
      "Epoch 45/50\n",
      "1643/1643 [==============================] - 10s 6ms/step - loss: 0.0155 - accuracy: 0.9963\n",
      "Epoch 46/50\n",
      "1643/1643 [==============================] - 11s 6ms/step - loss: 0.0151 - accuracy: 0.9967\n",
      "Epoch 47/50\n",
      "1643/1643 [==============================] - 10s 6ms/step - loss: 0.0144 - accuracy: 0.9965\n",
      "Epoch 48/50\n",
      "1643/1643 [==============================] - 9s 5ms/step - loss: 0.0140 - accuracy: 0.9967: 0s - l\n",
      "Epoch 49/50\n",
      "1143/1643 [===================>..........] - ETA: 2s - loss: 0.0140 - accuracy: 0.9967"
     ]
    }
   ],
   "source": [
    "history = final_model.fit(X_train, y_train, epochs=50, batch_size=32, verbose = 1)"
   ]
  },
  {
   "cell_type": "code",
   "execution_count": 231,
   "metadata": {},
   "outputs": [
    {
     "name": "stdout",
     "output_type": "stream",
     "text": [
      "809/809 [==============================] - 3s 4ms/step - loss: 0.0359 - accuracy: 0.9930\n",
      "Test loss: 0.03590763732790947, test accuracy: 0.9929694533348083\n"
     ]
    }
   ],
   "source": [
    "test_loss, test_accuracy = final_model.evaluate(X_test, y_test)\n",
    "print (\"Test loss: {}, test accuracy: {}\".format(test_loss, test_accuracy))"
   ]
  },
  {
   "cell_type": "code",
   "execution_count": 232,
   "metadata": {},
   "outputs": [
    {
     "name": "stdout",
     "output_type": "stream",
     "text": [
      "1643/1643 [==============================] - 6s 4ms/step - loss: 0.0108 - accuracy: 0.9974\n",
      "Train loss: 0.01075951848179102, train accuracy: 0.9973552227020264\n"
     ]
    }
   ],
   "source": [
    "train_loss, train_accuracy = final_model.evaluate(X_train, y_train)\n",
    "print (\"Train loss: {}, train accuracy: {}\".format(train_loss, train_accuracy))"
   ]
  },
  {
   "cell_type": "code",
   "execution_count": 233,
   "metadata": {},
   "outputs": [],
   "source": [
    "epochs = history.epoch\n",
    "loss = history.history['loss']\n",
    "acc = history.history['accuracy']"
   ]
  },
  {
   "cell_type": "code",
   "execution_count": 234,
   "metadata": {},
   "outputs": [
    {
     "data": {
      "text/plain": [
       "<matplotlib.legend.Legend at 0x1cb07ccf448>"
      ]
     },
     "execution_count": 234,
     "metadata": {},
     "output_type": "execute_result"
    },
    {
     "data": {
      "image/png": "[encoded data removed]",
      "text/plain": [
       "<Figure size 1080x360 with 2 Axes>"
      ]
     },
     "metadata": {
      "needs_background": "light"
     },
     "output_type": "display_data"
    }
   ],
   "source": [
    "fig = plt.figure(figsize=(15, 5))\n",
    "\n",
    "plt.subplot(1, 2, 1)\n",
    "plt.title('Loss')\n",
    "plt.xlabel('Epochs')\n",
    "plt.ylabel('Loss')\n",
    "plt.plot(epochs, loss, c='red', label='test loss')\n",
    "plt.legend(loc='best')\n",
    "\n",
    "plt.subplot(1, 2, 2)\n",
    "plt.title('Accuracy')\n",
    "plt.xlabel('Epochs')\n",
    "plt.ylabel('Acccuracy')\n",
    "plt.plot(epochs, acc, c='blue', label = 'test accuracy')\n",
    "plt.legend(loc='best')"
   ]
  },
  {
   "cell_type": "code",
   "execution_count": null,
   "metadata": {},
   "outputs": [],
   "source": []
  },
  {
   "cell_type": "markdown",
   "metadata": {},
   "source": [
    "## Save model"
   ]
  },
  {
   "cell_type": "code",
   "execution_count": 138,
   "metadata": {},
   "outputs": [],
   "source": [
    "from keras.models import load_model"
   ]
  },
  {
   "cell_type": "code",
   "execution_count": 139,
   "metadata": {},
   "outputs": [],
   "source": [
    "model.save('final_model.h5') "
   ]
  },
  {
   "cell_type": "code",
   "execution_count": null,
   "metadata": {},
   "outputs": [],
   "source": []
  },
  {
   "cell_type": "code",
   "execution_count": null,
   "metadata": {},
   "outputs": [],
   "source": []
  }
 ],
 "metadata": {
  "kernelspec": {
   "display_name": "Python 3",
   "language": "python",
   "name": "python3"
  },
  "language_info": {
   "codemirror_mode": {
    "name": "ipython",
    "version": 3
   },
   "file_extension": ".py",
   "mimetype": "text/x-python",
   "name": "python",
   "nbconvert_exporter": "python",
   "pygments_lexer": "ipython3",
   "version": "3.7.4"
  }
 },
 "nbformat": 4,
 "nbformat_minor": 2
}
