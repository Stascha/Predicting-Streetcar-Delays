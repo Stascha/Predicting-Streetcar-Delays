{
 "cells": [
  {
   "cell_type": "markdown",
   "metadata": {},
   "source": [
    "# Logistic regression"
   ]
  },
  {
   "cell_type": "code",
   "execution_count": 4,
   "metadata": {},
   "outputs": [],
   "source": [
    "import numpy as np \n",
    "import pandas as pd \n",
    "import matplotlib \n",
    "import matplotlib.pyplot as plt\n",
    "\n",
    "import zipfile\n",
    "import os\n",
    "import math\n",
    "import pickle\n",
    "import requests\n",
    "import json\n",
    "import re\n",
    "import logging\n",
    "import seaborn\n",
    "\n",
    "import imblearn\n",
    "from imblearn.over_sampling import SMOTE\n",
    "from imblearn.over_sampling import RandomOverSampler\n",
    "from imblearn.under_sampling import RandomUnderSampler\n",
    "\n",
    "import time\n",
    "import datetime\n",
    "from datetime import datetime, timedelta\n",
    "from datetime import date\n",
    "from dateutil import relativedelta\n",
    "\n",
    "from io import StringIO\n",
    "\n",
    "%matplotlib inline \n",
    "from subprocess import check_output\n",
    "from IPython.display import display\n",
    "from colorama import Fore, Back, Style\n",
    "from scipy.stats import pearsonr\n",
    "\n",
    "from sklearn.base import BaseEstimator\n",
    "from sklearn.base import TransformerMixin\n",
    "from sklearn.utils import shuffle\n",
    "from sklearn import linear_model\n",
    "from sklearn import model_selection\n",
    "from sklearn.model_selection import train_test_split\n",
    "from sklearn import metrics\n",
    "from sklearn import preprocessing\n",
    "from sklearn.preprocessing import StandardScaler, LabelEncoder, MinMaxScaler \n",
    "from sklearn import datasets\n",
    "\n",
    "import tensorflow\n",
    "import keras\n",
    "from keras.models import Sequential\n",
    "from keras.layers import Dense\n",
    "from keras.layers import Activation\n",
    "from keras.layers import Dropout\n",
    "from keras import optimizers\n",
    "from keras import losses\n"
   ]
  },
  {
   "cell_type": "code",
   "execution_count": 85,
   "metadata": {},
   "outputs": [],
   "source": [
    "data = pd.read_csv('preprocessed_data.csv')"
   ]
  },
  {
   "cell_type": "code",
   "execution_count": 6,
   "metadata": {},
   "outputs": [
    {
     "data": {
      "text/html": [
       "<div>\n",
       "<style scoped>\n",
       "    .dataframe tbody tr th:only-of-type {\n",
       "        vertical-align: middle;\n",
       "    }\n",
       "\n",
       "    .dataframe tbody tr th {\n",
       "        vertical-align: top;\n",
       "    }\n",
       "\n",
       "    .dataframe thead th {\n",
       "        text-align: right;\n",
       "    }\n",
       "</style>\n",
       "<table border=\"1\" class=\"dataframe\">\n",
       "  <thead>\n",
       "    <tr style=\"text-align: right;\">\n",
       "      <th></th>\n",
       "      <th>Route</th>\n",
       "      <th>Min Gap</th>\n",
       "      <th>Vehicle</th>\n",
       "      <th>Delay</th>\n",
       "      <th>Direction_e</th>\n",
       "      <th>Direction_n</th>\n",
       "      <th>Direction_s</th>\n",
       "      <th>Direction_w</th>\n",
       "      <th>Incident_Diversion</th>\n",
       "      <th>Incident_Emergency Services</th>\n",
       "      <th>...</th>\n",
       "      <th>Day_Monday</th>\n",
       "      <th>Day_Saturday</th>\n",
       "      <th>Day_Sunday</th>\n",
       "      <th>Day_Thursday</th>\n",
       "      <th>Day_Tuesday</th>\n",
       "      <th>Day_Wednesday</th>\n",
       "      <th>Year</th>\n",
       "      <th>Month</th>\n",
       "      <th>Day</th>\n",
       "      <th>Hour</th>\n",
       "    </tr>\n",
       "  </thead>\n",
       "  <tbody>\n",
       "    <tr>\n",
       "      <td>0</td>\n",
       "      <td>505</td>\n",
       "      <td>8</td>\n",
       "      <td>4018</td>\n",
       "      <td>1</td>\n",
       "      <td>1</td>\n",
       "      <td>0</td>\n",
       "      <td>0</td>\n",
       "      <td>0</td>\n",
       "      <td>0</td>\n",
       "      <td>0</td>\n",
       "      <td>...</td>\n",
       "      <td>0</td>\n",
       "      <td>0</td>\n",
       "      <td>0</td>\n",
       "      <td>1</td>\n",
       "      <td>0</td>\n",
       "      <td>0</td>\n",
       "      <td>2014</td>\n",
       "      <td>1</td>\n",
       "      <td>2</td>\n",
       "      <td>6</td>\n",
       "    </tr>\n",
       "    <tr>\n",
       "      <td>1</td>\n",
       "      <td>504</td>\n",
       "      <td>22</td>\n",
       "      <td>4128</td>\n",
       "      <td>1</td>\n",
       "      <td>1</td>\n",
       "      <td>0</td>\n",
       "      <td>0</td>\n",
       "      <td>0</td>\n",
       "      <td>0</td>\n",
       "      <td>0</td>\n",
       "      <td>...</td>\n",
       "      <td>0</td>\n",
       "      <td>0</td>\n",
       "      <td>0</td>\n",
       "      <td>1</td>\n",
       "      <td>0</td>\n",
       "      <td>0</td>\n",
       "      <td>2014</td>\n",
       "      <td>1</td>\n",
       "      <td>2</td>\n",
       "      <td>12</td>\n",
       "    </tr>\n",
       "    <tr>\n",
       "      <td>2</td>\n",
       "      <td>501</td>\n",
       "      <td>19</td>\n",
       "      <td>4016</td>\n",
       "      <td>1</td>\n",
       "      <td>0</td>\n",
       "      <td>0</td>\n",
       "      <td>0</td>\n",
       "      <td>1</td>\n",
       "      <td>0</td>\n",
       "      <td>0</td>\n",
       "      <td>...</td>\n",
       "      <td>0</td>\n",
       "      <td>0</td>\n",
       "      <td>0</td>\n",
       "      <td>1</td>\n",
       "      <td>0</td>\n",
       "      <td>0</td>\n",
       "      <td>2014</td>\n",
       "      <td>1</td>\n",
       "      <td>2</td>\n",
       "      <td>14</td>\n",
       "    </tr>\n",
       "    <tr>\n",
       "      <td>3</td>\n",
       "      <td>504</td>\n",
       "      <td>11</td>\n",
       "      <td>4175</td>\n",
       "      <td>1</td>\n",
       "      <td>0</td>\n",
       "      <td>0</td>\n",
       "      <td>0</td>\n",
       "      <td>1</td>\n",
       "      <td>0</td>\n",
       "      <td>0</td>\n",
       "      <td>...</td>\n",
       "      <td>0</td>\n",
       "      <td>0</td>\n",
       "      <td>0</td>\n",
       "      <td>1</td>\n",
       "      <td>0</td>\n",
       "      <td>0</td>\n",
       "      <td>2014</td>\n",
       "      <td>1</td>\n",
       "      <td>2</td>\n",
       "      <td>14</td>\n",
       "    </tr>\n",
       "    <tr>\n",
       "      <td>4</td>\n",
       "      <td>504</td>\n",
       "      <td>6</td>\n",
       "      <td>4080</td>\n",
       "      <td>1</td>\n",
       "      <td>1</td>\n",
       "      <td>0</td>\n",
       "      <td>0</td>\n",
       "      <td>0</td>\n",
       "      <td>0</td>\n",
       "      <td>0</td>\n",
       "      <td>...</td>\n",
       "      <td>0</td>\n",
       "      <td>0</td>\n",
       "      <td>0</td>\n",
       "      <td>1</td>\n",
       "      <td>0</td>\n",
       "      <td>0</td>\n",
       "      <td>2014</td>\n",
       "      <td>1</td>\n",
       "      <td>2</td>\n",
       "      <td>16</td>\n",
       "    </tr>\n",
       "    <tr>\n",
       "      <td>...</td>\n",
       "      <td>...</td>\n",
       "      <td>...</td>\n",
       "      <td>...</td>\n",
       "      <td>...</td>\n",
       "      <td>...</td>\n",
       "      <td>...</td>\n",
       "      <td>...</td>\n",
       "      <td>...</td>\n",
       "      <td>...</td>\n",
       "      <td>...</td>\n",
       "      <td>...</td>\n",
       "      <td>...</td>\n",
       "      <td>...</td>\n",
       "      <td>...</td>\n",
       "      <td>...</td>\n",
       "      <td>...</td>\n",
       "      <td>...</td>\n",
       "      <td>...</td>\n",
       "      <td>...</td>\n",
       "      <td>...</td>\n",
       "      <td>...</td>\n",
       "    </tr>\n",
       "    <tr>\n",
       "      <td>45039</td>\n",
       "      <td>505</td>\n",
       "      <td>16</td>\n",
       "      <td>4164</td>\n",
       "      <td>1</td>\n",
       "      <td>1</td>\n",
       "      <td>0</td>\n",
       "      <td>0</td>\n",
       "      <td>0</td>\n",
       "      <td>0</td>\n",
       "      <td>0</td>\n",
       "      <td>...</td>\n",
       "      <td>0</td>\n",
       "      <td>0</td>\n",
       "      <td>1</td>\n",
       "      <td>0</td>\n",
       "      <td>0</td>\n",
       "      <td>0</td>\n",
       "      <td>2017</td>\n",
       "      <td>12</td>\n",
       "      <td>31</td>\n",
       "      <td>9</td>\n",
       "    </tr>\n",
       "    <tr>\n",
       "      <td>45040</td>\n",
       "      <td>501</td>\n",
       "      <td>24</td>\n",
       "      <td>4110</td>\n",
       "      <td>1</td>\n",
       "      <td>0</td>\n",
       "      <td>0</td>\n",
       "      <td>0</td>\n",
       "      <td>1</td>\n",
       "      <td>0</td>\n",
       "      <td>0</td>\n",
       "      <td>...</td>\n",
       "      <td>0</td>\n",
       "      <td>0</td>\n",
       "      <td>1</td>\n",
       "      <td>0</td>\n",
       "      <td>0</td>\n",
       "      <td>0</td>\n",
       "      <td>2017</td>\n",
       "      <td>12</td>\n",
       "      <td>31</td>\n",
       "      <td>11</td>\n",
       "    </tr>\n",
       "    <tr>\n",
       "      <td>45041</td>\n",
       "      <td>501</td>\n",
       "      <td>24</td>\n",
       "      <td>1419</td>\n",
       "      <td>1</td>\n",
       "      <td>0</td>\n",
       "      <td>0</td>\n",
       "      <td>0</td>\n",
       "      <td>1</td>\n",
       "      <td>0</td>\n",
       "      <td>0</td>\n",
       "      <td>...</td>\n",
       "      <td>0</td>\n",
       "      <td>0</td>\n",
       "      <td>1</td>\n",
       "      <td>0</td>\n",
       "      <td>0</td>\n",
       "      <td>0</td>\n",
       "      <td>2017</td>\n",
       "      <td>12</td>\n",
       "      <td>31</td>\n",
       "      <td>11</td>\n",
       "    </tr>\n",
       "    <tr>\n",
       "      <td>45042</td>\n",
       "      <td>510</td>\n",
       "      <td>10</td>\n",
       "      <td>4447</td>\n",
       "      <td>1</td>\n",
       "      <td>0</td>\n",
       "      <td>0</td>\n",
       "      <td>1</td>\n",
       "      <td>0</td>\n",
       "      <td>0</td>\n",
       "      <td>0</td>\n",
       "      <td>...</td>\n",
       "      <td>0</td>\n",
       "      <td>0</td>\n",
       "      <td>1</td>\n",
       "      <td>0</td>\n",
       "      <td>0</td>\n",
       "      <td>0</td>\n",
       "      <td>2017</td>\n",
       "      <td>12</td>\n",
       "      <td>31</td>\n",
       "      <td>11</td>\n",
       "    </tr>\n",
       "    <tr>\n",
       "      <td>45043</td>\n",
       "      <td>505</td>\n",
       "      <td>16</td>\n",
       "      <td>4167</td>\n",
       "      <td>1</td>\n",
       "      <td>0</td>\n",
       "      <td>1</td>\n",
       "      <td>0</td>\n",
       "      <td>0</td>\n",
       "      <td>0</td>\n",
       "      <td>0</td>\n",
       "      <td>...</td>\n",
       "      <td>0</td>\n",
       "      <td>0</td>\n",
       "      <td>1</td>\n",
       "      <td>0</td>\n",
       "      <td>0</td>\n",
       "      <td>0</td>\n",
       "      <td>2017</td>\n",
       "      <td>12</td>\n",
       "      <td>31</td>\n",
       "      <td>11</td>\n",
       "    </tr>\n",
       "  </tbody>\n",
       "</table>\n",
       "<p>45044 rows × 28 columns</p>\n",
       "</div>"
      ],
      "text/plain": [
       "       Route  Min Gap  Vehicle  Delay  Direction_e  Direction_n  Direction_s  \\\n",
       "0        505        8     4018      1            1            0            0   \n",
       "1        504       22     4128      1            1            0            0   \n",
       "2        501       19     4016      1            0            0            0   \n",
       "3        504       11     4175      1            0            0            0   \n",
       "4        504        6     4080      1            1            0            0   \n",
       "...      ...      ...      ...    ...          ...          ...          ...   \n",
       "45039    505       16     4164      1            1            0            0   \n",
       "45040    501       24     4110      1            0            0            0   \n",
       "45041    501       24     1419      1            0            0            0   \n",
       "45042    510       10     4447      1            0            0            1   \n",
       "45043    505       16     4167      1            0            1            0   \n",
       "\n",
       "       Direction_w  Incident_Diversion  Incident_Emergency Services  ...  \\\n",
       "0                0                   0                            0  ...   \n",
       "1                0                   0                            0  ...   \n",
       "2                1                   0                            0  ...   \n",
       "3                1                   0                            0  ...   \n",
       "4                0                   0                            0  ...   \n",
       "...            ...                 ...                          ...  ...   \n",
       "45039            0                   0                            0  ...   \n",
       "45040            1                   0                            0  ...   \n",
       "45041            1                   0                            0  ...   \n",
       "45042            0                   0                            0  ...   \n",
       "45043            0                   0                            0  ...   \n",
       "\n",
       "       Day_Monday  Day_Saturday  Day_Sunday  Day_Thursday  Day_Tuesday  \\\n",
       "0               0             0           0             1            0   \n",
       "1               0             0           0             1            0   \n",
       "2               0             0           0             1            0   \n",
       "3               0             0           0             1            0   \n",
       "4               0             0           0             1            0   \n",
       "...           ...           ...         ...           ...          ...   \n",
       "45039           0             0           1             0            0   \n",
       "45040           0             0           1             0            0   \n",
       "45041           0             0           1             0            0   \n",
       "45042           0             0           1             0            0   \n",
       "45043           0             0           1             0            0   \n",
       "\n",
       "       Day_Wednesday  Year  Month  Day  Hour  \n",
       "0                  0  2014      1    2     6  \n",
       "1                  0  2014      1    2    12  \n",
       "2                  0  2014      1    2    14  \n",
       "3                  0  2014      1    2    14  \n",
       "4                  0  2014      1    2    16  \n",
       "...              ...   ...    ...  ...   ...  \n",
       "45039              0  2017     12   31     9  \n",
       "45040              0  2017     12   31    11  \n",
       "45041              0  2017     12   31    11  \n",
       "45042              0  2017     12   31    11  \n",
       "45043              0  2017     12   31    11  \n",
       "\n",
       "[45044 rows x 28 columns]"
      ]
     },
     "execution_count": 6,
     "metadata": {},
     "output_type": "execute_result"
    }
   ],
   "source": [
    "data"
   ]
  },
  {
   "cell_type": "code",
   "execution_count": 9,
   "metadata": {},
   "outputs": [
    {
     "name": "stdout",
     "output_type": "stream",
     "text": [
      "Route\n",
      "Min Gap\n",
      "Vehicle\n",
      "Delay\n",
      "Direction_e\n",
      "Direction_n\n",
      "Direction_s\n",
      "Direction_w\n",
      "Incident_Diversion\n",
      "Incident_Emergency Services\n",
      "Incident_General Delay\n",
      "Incident_Held By\n",
      "Incident_Investigation\n",
      "Incident_Late Leaving Garage\n",
      "Incident_Mechanical\n",
      "Incident_Overhead - Pantograph\n",
      "Incident_Utilized Off Route\n",
      "Day_Friday\n",
      "Day_Monday\n",
      "Day_Saturday\n",
      "Day_Sunday\n",
      "Day_Thursday\n",
      "Day_Tuesday\n",
      "Day_Wednesday\n",
      "Year\n",
      "Month\n",
      "Day\n",
      "Hour\n"
     ]
    }
   ],
   "source": [
    "feature_names = data.columns\n",
    "\n",
    "for col in feature_names:\n",
    "     print(col)"
   ]
  },
  {
   "cell_type": "code",
   "execution_count": 10,
   "metadata": {},
   "outputs": [
    {
     "data": {
      "text/plain": [
       "Route                            -0.008716\n",
       "Min Gap                           0.056566\n",
       "Vehicle                           0.001145\n",
       "Delay                             1.000000\n",
       "Direction_e                       0.011842\n",
       "Direction_n                      -0.023678\n",
       "Direction_s                      -0.020946\n",
       "Direction_w                       0.012471\n",
       "Incident_Diversion               -0.023048\n",
       "Incident_Emergency Services       0.001560\n",
       "Incident_General Delay           -0.060980\n",
       "Incident_Held By                  0.030531\n",
       "Incident_Investigation           -0.014389\n",
       "Incident_Late Leaving Garage      0.017236\n",
       "Incident_Mechanical               0.014905\n",
       "Incident_Overhead - Pantograph    0.001530\n",
       "Incident_Utilized Off Route      -0.023245\n",
       "Day_Friday                       -0.008207\n",
       "Day_Monday                        0.005826\n",
       "Day_Saturday                      0.000255\n",
       "Day_Sunday                       -0.000565\n",
       "Day_Thursday                     -0.005024\n",
       "Day_Tuesday                      -0.000402\n",
       "Day_Wednesday                     0.008324\n",
       "Year                             -0.006103\n",
       "Month                             0.005401\n",
       "Day                              -0.006279\n",
       "Hour                              0.000839\n",
       "Name: Delay, dtype: float64"
      ]
     },
     "execution_count": 10,
     "metadata": {},
     "output_type": "execute_result"
    }
   ],
   "source": [
    "corrcoefs = data.corr()['Delay']\n",
    "corrcoefs"
   ]
  },
  {
   "cell_type": "code",
   "execution_count": 11,
   "metadata": {},
   "outputs": [
    {
     "data": {
      "text/plain": [
       "Route                            -0.008716\n",
       "Min Gap                           0.056566\n",
       "Vehicle                           0.001145\n",
       "Direction_e                       0.011842\n",
       "Direction_n                      -0.023678\n",
       "Direction_s                      -0.020946\n",
       "Direction_w                       0.012471\n",
       "Incident_Diversion               -0.023048\n",
       "Incident_Emergency Services       0.001560\n",
       "Incident_General Delay           -0.060980\n",
       "Incident_Held By                  0.030531\n",
       "Incident_Investigation           -0.014389\n",
       "Incident_Late Leaving Garage      0.017236\n",
       "Incident_Mechanical               0.014905\n",
       "Incident_Overhead - Pantograph    0.001530\n",
       "Incident_Utilized Off Route      -0.023245\n",
       "Day_Friday                       -0.008207\n",
       "Day_Monday                        0.005826\n",
       "Day_Saturday                      0.000255\n",
       "Day_Sunday                       -0.000565\n",
       "Day_Thursday                     -0.005024\n",
       "Day_Tuesday                      -0.000402\n",
       "Day_Wednesday                     0.008324\n",
       "Year                             -0.006103\n",
       "Month                             0.005401\n",
       "Day                              -0.006279\n",
       "Hour                              0.000839\n",
       "Name: Delay, dtype: float64"
      ]
     },
     "execution_count": 11,
     "metadata": {},
     "output_type": "execute_result"
    }
   ],
   "source": [
    "# corrcoefs_for_barh = ( (corrcoefs.drop('Delay')) * 1000000 ).astype(int)\n",
    "corrcoefs_for_barh = corrcoefs.drop('Delay')\n",
    "corrcoefs_for_barh\n"
   ]
  },
  {
   "cell_type": "code",
   "execution_count": 12,
   "metadata": {},
   "outputs": [
    {
     "ename": "IndexError",
     "evalue": "arrays used as indices must be of integer (or boolean) type",
     "output_type": "error",
     "traceback": [
      "\u001b[1;31m---------------------------------------------------------------------------\u001b[0m",
      "\u001b[1;31mIndexError\u001b[0m                                Traceback (most recent call last)",
      "\u001b[1;32m<ipython-input-12-d5e5216f13b4>\u001b[0m in \u001b[0;36m<module>\u001b[1;34m\u001b[0m\n\u001b[0;32m      7\u001b[0m \u001b[0mplt\u001b[0m\u001b[1;33m.\u001b[0m\u001b[0mylabel\u001b[0m\u001b[1;33m(\u001b[0m\u001b[1;34m'Attribute name'\u001b[0m\u001b[1;33m)\u001b[0m\u001b[1;33m\u001b[0m\u001b[1;33m\u001b[0m\u001b[0m\n\u001b[0;32m      8\u001b[0m \u001b[0mplt\u001b[0m\u001b[1;33m.\u001b[0m\u001b[0mxlabel\u001b[0m\u001b[1;33m(\u001b[0m\u001b[1;34m'Correlation coefficient value'\u001b[0m\u001b[1;33m)\u001b[0m\u001b[1;33m\u001b[0m\u001b[1;33m\u001b[0m\u001b[0m\n\u001b[1;32m----> 9\u001b[1;33m \u001b[0mplt\u001b[0m\u001b[1;33m.\u001b[0m\u001b[0myticks\u001b[0m\u001b[1;33m(\u001b[0m\u001b[0mnp\u001b[0m\u001b[1;33m.\u001b[0m\u001b[0marange\u001b[0m\u001b[1;33m(\u001b[0m\u001b[0mnumber_of_features\u001b[0m\u001b[1;33m)\u001b[0m\u001b[1;33m,\u001b[0m \u001b[0mlist\u001b[0m\u001b[1;33m(\u001b[0m\u001b[0mfeature_names\u001b[0m\u001b[1;33m[\u001b[0m\u001b[0mcoefs_for_plot\u001b[0m\u001b[1;33m.\u001b[0m\u001b[0mindex\u001b[0m\u001b[1;33m]\u001b[0m\u001b[1;33m)\u001b[0m\u001b[1;33m)\u001b[0m\u001b[1;33m\u001b[0m\u001b[1;33m\u001b[0m\u001b[0m\n\u001b[0m\u001b[0;32m     10\u001b[0m \u001b[0mplt\u001b[0m\u001b[1;33m.\u001b[0m\u001b[0mplot\u001b[0m\u001b[1;33m(\u001b[0m\u001b[1;33m)\u001b[0m\u001b[1;33m\u001b[0m\u001b[1;33m\u001b[0m\u001b[0m\n",
      "\u001b[1;32m~\\Anaconda3\\lib\\site-packages\\pandas\\core\\indexes\\base.py\u001b[0m in \u001b[0;36m__getitem__\u001b[1;34m(self, key)\u001b[0m\n\u001b[0;32m   4289\u001b[0m \u001b[1;33m\u001b[0m\u001b[0m\n\u001b[0;32m   4290\u001b[0m         \u001b[0mkey\u001b[0m \u001b[1;33m=\u001b[0m \u001b[0mcom\u001b[0m\u001b[1;33m.\u001b[0m\u001b[0mvalues_from_object\u001b[0m\u001b[1;33m(\u001b[0m\u001b[0mkey\u001b[0m\u001b[1;33m)\u001b[0m\u001b[1;33m\u001b[0m\u001b[1;33m\u001b[0m\u001b[0m\n\u001b[1;32m-> 4291\u001b[1;33m         \u001b[0mresult\u001b[0m \u001b[1;33m=\u001b[0m \u001b[0mgetitem\u001b[0m\u001b[1;33m(\u001b[0m\u001b[0mkey\u001b[0m\u001b[1;33m)\u001b[0m\u001b[1;33m\u001b[0m\u001b[1;33m\u001b[0m\u001b[0m\n\u001b[0m\u001b[0;32m   4292\u001b[0m         \u001b[1;32mif\u001b[0m \u001b[1;32mnot\u001b[0m \u001b[0mis_scalar\u001b[0m\u001b[1;33m(\u001b[0m\u001b[0mresult\u001b[0m\u001b[1;33m)\u001b[0m\u001b[1;33m:\u001b[0m\u001b[1;33m\u001b[0m\u001b[1;33m\u001b[0m\u001b[0m\n\u001b[0;32m   4293\u001b[0m             \u001b[1;32mreturn\u001b[0m \u001b[0mpromote\u001b[0m\u001b[1;33m(\u001b[0m\u001b[0mresult\u001b[0m\u001b[1;33m)\u001b[0m\u001b[1;33m\u001b[0m\u001b[1;33m\u001b[0m\u001b[0m\n",
      "\u001b[1;31mIndexError\u001b[0m: arrays used as indices must be of integer (or boolean) type"
     ]
    },
    {
     "data": {
      "image/png": "[encoded data removed]",
      "text/plain": [
       "<Figure size 648x648 with 1 Axes>"
      ]
     },
     "metadata": {
      "needs_background": "light"
     },
     "output_type": "display_data"
    }
   ],
   "source": [
    "number_of_features = len(data.columns)\n",
    "\n",
    "coefs_for_plot = pd.Series(corrcoefs_for_barh).sort_values()\n",
    "coefs_for_plot.plot(kind = \"barh\", color = 'orange', figsize = (9, 9))\n",
    "\n",
    "plt.title(\"Attributes correlation with the target variable y\" )\n",
    "plt.ylabel('Attribute name')\n",
    "plt.xlabel('Correlation coefficient value')\n",
    "plt.yticks(np.arange(number_of_features), list(feature_names[coefs_for_plot.index]))\n",
    "plt.plot()"
   ]
  },
  {
   "cell_type": "code",
   "execution_count": null,
   "metadata": {},
   "outputs": [],
   "source": []
  },
  {
   "cell_type": "code",
   "execution_count": 86,
   "metadata": {},
   "outputs": [],
   "source": [
    "y = data['Delay']\n",
    "X = data.drop(columns=['Delay'])"
   ]
  },
  {
   "cell_type": "code",
   "execution_count": 14,
   "metadata": {},
   "outputs": [
    {
     "data": {
      "text/html": [
       "<div>\n",
       "<style scoped>\n",
       "    .dataframe tbody tr th:only-of-type {\n",
       "        vertical-align: middle;\n",
       "    }\n",
       "\n",
       "    .dataframe tbody tr th {\n",
       "        vertical-align: top;\n",
       "    }\n",
       "\n",
       "    .dataframe thead th {\n",
       "        text-align: right;\n",
       "    }\n",
       "</style>\n",
       "<table border=\"1\" class=\"dataframe\">\n",
       "  <thead>\n",
       "    <tr style=\"text-align: right;\">\n",
       "      <th></th>\n",
       "      <th>Route</th>\n",
       "      <th>Min Gap</th>\n",
       "      <th>Vehicle</th>\n",
       "      <th>Direction_e</th>\n",
       "      <th>Direction_n</th>\n",
       "      <th>Direction_s</th>\n",
       "      <th>Direction_w</th>\n",
       "      <th>Incident_Diversion</th>\n",
       "      <th>Incident_Emergency Services</th>\n",
       "      <th>Incident_General Delay</th>\n",
       "      <th>...</th>\n",
       "      <th>Day_Monday</th>\n",
       "      <th>Day_Saturday</th>\n",
       "      <th>Day_Sunday</th>\n",
       "      <th>Day_Thursday</th>\n",
       "      <th>Day_Tuesday</th>\n",
       "      <th>Day_Wednesday</th>\n",
       "      <th>Year</th>\n",
       "      <th>Month</th>\n",
       "      <th>Day</th>\n",
       "      <th>Hour</th>\n",
       "    </tr>\n",
       "  </thead>\n",
       "  <tbody>\n",
       "    <tr>\n",
       "      <td>Route</td>\n",
       "      <td>1.000000</td>\n",
       "      <td>-0.086860</td>\n",
       "      <td>0.003536</td>\n",
       "      <td>-0.019117</td>\n",
       "      <td>0.064304</td>\n",
       "      <td>0.058385</td>\n",
       "      <td>-0.047580</td>\n",
       "      <td>-0.023700</td>\n",
       "      <td>-0.055631</td>\n",
       "      <td>0.017453</td>\n",
       "      <td>...</td>\n",
       "      <td>0.010611</td>\n",
       "      <td>-0.029604</td>\n",
       "      <td>-0.049578</td>\n",
       "      <td>0.015163</td>\n",
       "      <td>0.009791</td>\n",
       "      <td>0.024823</td>\n",
       "      <td>-0.011980</td>\n",
       "      <td>-0.001899</td>\n",
       "      <td>0.011446</td>\n",
       "      <td>-0.000178</td>\n",
       "    </tr>\n",
       "    <tr>\n",
       "      <td>Min Gap</td>\n",
       "      <td>-0.086860</td>\n",
       "      <td>1.000000</td>\n",
       "      <td>-0.020061</td>\n",
       "      <td>-0.018443</td>\n",
       "      <td>-0.031929</td>\n",
       "      <td>-0.017381</td>\n",
       "      <td>0.045133</td>\n",
       "      <td>0.175230</td>\n",
       "      <td>0.048142</td>\n",
       "      <td>0.010307</td>\n",
       "      <td>...</td>\n",
       "      <td>-0.013045</td>\n",
       "      <td>0.015613</td>\n",
       "      <td>0.042096</td>\n",
       "      <td>-0.015156</td>\n",
       "      <td>-0.005897</td>\n",
       "      <td>-0.009730</td>\n",
       "      <td>-0.015375</td>\n",
       "      <td>0.016159</td>\n",
       "      <td>-0.001196</td>\n",
       "      <td>-0.005060</td>\n",
       "    </tr>\n",
       "    <tr>\n",
       "      <td>Vehicle</td>\n",
       "      <td>0.003536</td>\n",
       "      <td>-0.020061</td>\n",
       "      <td>1.000000</td>\n",
       "      <td>0.015028</td>\n",
       "      <td>-0.001610</td>\n",
       "      <td>0.000429</td>\n",
       "      <td>-0.014221</td>\n",
       "      <td>-0.002160</td>\n",
       "      <td>0.001392</td>\n",
       "      <td>-0.024807</td>\n",
       "      <td>...</td>\n",
       "      <td>-0.002274</td>\n",
       "      <td>-0.004080</td>\n",
       "      <td>-0.003524</td>\n",
       "      <td>-0.002267</td>\n",
       "      <td>0.008051</td>\n",
       "      <td>0.001761</td>\n",
       "      <td>-0.049402</td>\n",
       "      <td>0.001179</td>\n",
       "      <td>-0.001149</td>\n",
       "      <td>0.000911</td>\n",
       "    </tr>\n",
       "    <tr>\n",
       "      <td>Direction_e</td>\n",
       "      <td>-0.019117</td>\n",
       "      <td>-0.018443</td>\n",
       "      <td>0.015028</td>\n",
       "      <td>1.000000</td>\n",
       "      <td>-0.247167</td>\n",
       "      <td>-0.235475</td>\n",
       "      <td>-0.728888</td>\n",
       "      <td>-0.018901</td>\n",
       "      <td>-0.012847</td>\n",
       "      <td>-0.022736</td>\n",
       "      <td>...</td>\n",
       "      <td>-0.004201</td>\n",
       "      <td>-0.007830</td>\n",
       "      <td>-0.005333</td>\n",
       "      <td>0.004471</td>\n",
       "      <td>0.012275</td>\n",
       "      <td>0.000122</td>\n",
       "      <td>-0.008377</td>\n",
       "      <td>-0.030390</td>\n",
       "      <td>-0.010049</td>\n",
       "      <td>0.003917</td>\n",
       "    </tr>\n",
       "    <tr>\n",
       "      <td>Direction_n</td>\n",
       "      <td>0.064304</td>\n",
       "      <td>-0.031929</td>\n",
       "      <td>-0.001610</td>\n",
       "      <td>-0.247167</td>\n",
       "      <td>1.000000</td>\n",
       "      <td>-0.084908</td>\n",
       "      <td>-0.262825</td>\n",
       "      <td>-0.001596</td>\n",
       "      <td>-0.012627</td>\n",
       "      <td>-0.015004</td>\n",
       "      <td>...</td>\n",
       "      <td>-0.004585</td>\n",
       "      <td>0.009142</td>\n",
       "      <td>0.001315</td>\n",
       "      <td>0.000321</td>\n",
       "      <td>-0.004783</td>\n",
       "      <td>0.003262</td>\n",
       "      <td>-0.003167</td>\n",
       "      <td>-0.001273</td>\n",
       "      <td>-0.010484</td>\n",
       "      <td>-0.002060</td>\n",
       "    </tr>\n",
       "    <tr>\n",
       "      <td>Direction_s</td>\n",
       "      <td>0.058385</td>\n",
       "      <td>-0.017381</td>\n",
       "      <td>0.000429</td>\n",
       "      <td>-0.235475</td>\n",
       "      <td>-0.084908</td>\n",
       "      <td>1.000000</td>\n",
       "      <td>-0.250392</td>\n",
       "      <td>-0.002825</td>\n",
       "      <td>-0.005542</td>\n",
       "      <td>-0.020404</td>\n",
       "      <td>...</td>\n",
       "      <td>0.006021</td>\n",
       "      <td>0.005678</td>\n",
       "      <td>0.006880</td>\n",
       "      <td>-0.007091</td>\n",
       "      <td>-0.009010</td>\n",
       "      <td>-0.002902</td>\n",
       "      <td>-0.005430</td>\n",
       "      <td>0.008200</td>\n",
       "      <td>0.000749</td>\n",
       "      <td>0.002629</td>\n",
       "    </tr>\n",
       "    <tr>\n",
       "      <td>Direction_w</td>\n",
       "      <td>-0.047580</td>\n",
       "      <td>0.045133</td>\n",
       "      <td>-0.014221</td>\n",
       "      <td>-0.728888</td>\n",
       "      <td>-0.262825</td>\n",
       "      <td>-0.250392</td>\n",
       "      <td>1.000000</td>\n",
       "      <td>0.021100</td>\n",
       "      <td>0.022643</td>\n",
       "      <td>0.041636</td>\n",
       "      <td>...</td>\n",
       "      <td>0.003501</td>\n",
       "      <td>-0.000309</td>\n",
       "      <td>0.000905</td>\n",
       "      <td>-0.000843</td>\n",
       "      <td>-0.004734</td>\n",
       "      <td>-0.000384</td>\n",
       "      <td>0.012928</td>\n",
       "      <td>0.026452</td>\n",
       "      <td>0.015350</td>\n",
       "      <td>-0.004136</td>\n",
       "    </tr>\n",
       "    <tr>\n",
       "      <td>Incident_Diversion</td>\n",
       "      <td>-0.023700</td>\n",
       "      <td>0.175230</td>\n",
       "      <td>-0.002160</td>\n",
       "      <td>-0.018901</td>\n",
       "      <td>-0.001596</td>\n",
       "      <td>-0.002825</td>\n",
       "      <td>0.021100</td>\n",
       "      <td>1.000000</td>\n",
       "      <td>-0.020563</td>\n",
       "      <td>-0.022316</td>\n",
       "      <td>...</td>\n",
       "      <td>-0.005460</td>\n",
       "      <td>0.002509</td>\n",
       "      <td>0.026506</td>\n",
       "      <td>-0.002049</td>\n",
       "      <td>-0.000388</td>\n",
       "      <td>-0.006262</td>\n",
       "      <td>0.009340</td>\n",
       "      <td>0.011782</td>\n",
       "      <td>-0.000767</td>\n",
       "      <td>0.001514</td>\n",
       "    </tr>\n",
       "    <tr>\n",
       "      <td>Incident_Emergency Services</td>\n",
       "      <td>-0.055631</td>\n",
       "      <td>0.048142</td>\n",
       "      <td>0.001392</td>\n",
       "      <td>-0.012847</td>\n",
       "      <td>-0.012627</td>\n",
       "      <td>-0.005542</td>\n",
       "      <td>0.022643</td>\n",
       "      <td>-0.020563</td>\n",
       "      <td>1.000000</td>\n",
       "      <td>-0.032508</td>\n",
       "      <td>...</td>\n",
       "      <td>-0.008074</td>\n",
       "      <td>0.017137</td>\n",
       "      <td>0.026137</td>\n",
       "      <td>-0.005801</td>\n",
       "      <td>-0.007367</td>\n",
       "      <td>-0.006865</td>\n",
       "      <td>0.018482</td>\n",
       "      <td>-0.000305</td>\n",
       "      <td>-0.007546</td>\n",
       "      <td>-0.008458</td>\n",
       "    </tr>\n",
       "    <tr>\n",
       "      <td>Incident_General Delay</td>\n",
       "      <td>0.017453</td>\n",
       "      <td>0.010307</td>\n",
       "      <td>-0.024807</td>\n",
       "      <td>-0.022736</td>\n",
       "      <td>-0.015004</td>\n",
       "      <td>-0.020404</td>\n",
       "      <td>0.041636</td>\n",
       "      <td>-0.022316</td>\n",
       "      <td>-0.032508</td>\n",
       "      <td>1.000000</td>\n",
       "      <td>...</td>\n",
       "      <td>-0.020637</td>\n",
       "      <td>0.010302</td>\n",
       "      <td>0.018267</td>\n",
       "      <td>0.003729</td>\n",
       "      <td>-0.014024</td>\n",
       "      <td>-0.001173</td>\n",
       "      <td>0.038061</td>\n",
       "      <td>0.021885</td>\n",
       "      <td>0.013049</td>\n",
       "      <td>-0.000141</td>\n",
       "    </tr>\n",
       "    <tr>\n",
       "      <td>Incident_Held By</td>\n",
       "      <td>-0.051014</td>\n",
       "      <td>0.120897</td>\n",
       "      <td>-0.030666</td>\n",
       "      <td>-0.033710</td>\n",
       "      <td>-0.007301</td>\n",
       "      <td>-0.002220</td>\n",
       "      <td>0.038600</td>\n",
       "      <td>-0.044681</td>\n",
       "      <td>-0.065086</td>\n",
       "      <td>-0.070636</td>\n",
       "      <td>...</td>\n",
       "      <td>-0.013836</td>\n",
       "      <td>0.008668</td>\n",
       "      <td>0.020760</td>\n",
       "      <td>-0.007592</td>\n",
       "      <td>-0.016455</td>\n",
       "      <td>0.012992</td>\n",
       "      <td>-0.041700</td>\n",
       "      <td>0.019259</td>\n",
       "      <td>-0.009008</td>\n",
       "      <td>0.001846</td>\n",
       "    </tr>\n",
       "    <tr>\n",
       "      <td>Incident_Investigation</td>\n",
       "      <td>-0.028893</td>\n",
       "      <td>0.065511</td>\n",
       "      <td>0.016439</td>\n",
       "      <td>-0.004412</td>\n",
       "      <td>-0.006178</td>\n",
       "      <td>0.026648</td>\n",
       "      <td>-0.006354</td>\n",
       "      <td>-0.048016</td>\n",
       "      <td>-0.069945</td>\n",
       "      <td>-0.075909</td>\n",
       "      <td>...</td>\n",
       "      <td>-0.001621</td>\n",
       "      <td>0.018940</td>\n",
       "      <td>0.010416</td>\n",
       "      <td>-0.005356</td>\n",
       "      <td>-0.006661</td>\n",
       "      <td>-0.005792</td>\n",
       "      <td>-0.004248</td>\n",
       "      <td>0.025530</td>\n",
       "      <td>0.010606</td>\n",
       "      <td>-0.007366</td>\n",
       "    </tr>\n",
       "    <tr>\n",
       "      <td>Incident_Late Leaving Garage</td>\n",
       "      <td>0.049934</td>\n",
       "      <td>-0.074298</td>\n",
       "      <td>-0.025434</td>\n",
       "      <td>0.013744</td>\n",
       "      <td>0.020793</td>\n",
       "      <td>-0.061734</td>\n",
       "      <td>0.007648</td>\n",
       "      <td>-0.040548</td>\n",
       "      <td>-0.059066</td>\n",
       "      <td>-0.064102</td>\n",
       "      <td>...</td>\n",
       "      <td>0.016812</td>\n",
       "      <td>-0.064864</td>\n",
       "      <td>-0.058682</td>\n",
       "      <td>0.025853</td>\n",
       "      <td>0.003978</td>\n",
       "      <td>0.027213</td>\n",
       "      <td>-0.018749</td>\n",
       "      <td>-0.050263</td>\n",
       "      <td>0.009444</td>\n",
       "      <td>-0.000664</td>\n",
       "    </tr>\n",
       "    <tr>\n",
       "      <td>Incident_Mechanical</td>\n",
       "      <td>0.040936</td>\n",
       "      <td>-0.131724</td>\n",
       "      <td>0.010159</td>\n",
       "      <td>0.031156</td>\n",
       "      <td>-0.000686</td>\n",
       "      <td>0.032453</td>\n",
       "      <td>-0.047696</td>\n",
       "      <td>-0.123362</td>\n",
       "      <td>-0.179700</td>\n",
       "      <td>-0.195023</td>\n",
       "      <td>...</td>\n",
       "      <td>0.009860</td>\n",
       "      <td>0.014734</td>\n",
       "      <td>-0.002727</td>\n",
       "      <td>-0.009538</td>\n",
       "      <td>0.015828</td>\n",
       "      <td>-0.018840</td>\n",
       "      <td>0.031992</td>\n",
       "      <td>0.000394</td>\n",
       "      <td>-0.009576</td>\n",
       "      <td>0.005685</td>\n",
       "    </tr>\n",
       "    <tr>\n",
       "      <td>Incident_Overhead - Pantograph</td>\n",
       "      <td>0.002571</td>\n",
       "      <td>0.036531</td>\n",
       "      <td>-0.000058</td>\n",
       "      <td>0.000555</td>\n",
       "      <td>0.002776</td>\n",
       "      <td>-0.003546</td>\n",
       "      <td>-0.000203</td>\n",
       "      <td>-0.001481</td>\n",
       "      <td>-0.002158</td>\n",
       "      <td>-0.002342</td>\n",
       "      <td>...</td>\n",
       "      <td>-0.000148</td>\n",
       "      <td>0.001179</td>\n",
       "      <td>0.001761</td>\n",
       "      <td>0.004015</td>\n",
       "      <td>0.004389</td>\n",
       "      <td>-0.005400</td>\n",
       "      <td>0.016526</td>\n",
       "      <td>0.017289</td>\n",
       "      <td>0.012407</td>\n",
       "      <td>0.009360</td>\n",
       "    </tr>\n",
       "    <tr>\n",
       "      <td>Incident_Utilized Off Route</td>\n",
       "      <td>0.000294</td>\n",
       "      <td>-0.027116</td>\n",
       "      <td>0.062868</td>\n",
       "      <td>0.007375</td>\n",
       "      <td>0.019138</td>\n",
       "      <td>-0.004667</td>\n",
       "      <td>-0.015405</td>\n",
       "      <td>-0.022749</td>\n",
       "      <td>-0.033139</td>\n",
       "      <td>-0.035964</td>\n",
       "      <td>...</td>\n",
       "      <td>0.004324</td>\n",
       "      <td>-0.010976</td>\n",
       "      <td>-0.010781</td>\n",
       "      <td>0.009278</td>\n",
       "      <td>0.012908</td>\n",
       "      <td>0.005385</td>\n",
       "      <td>-0.034379</td>\n",
       "      <td>-0.030115</td>\n",
       "      <td>0.000091</td>\n",
       "      <td>0.002521</td>\n",
       "    </tr>\n",
       "    <tr>\n",
       "      <td>Day_Friday</td>\n",
       "      <td>0.006170</td>\n",
       "      <td>-0.004490</td>\n",
       "      <td>0.001162</td>\n",
       "      <td>-0.001670</td>\n",
       "      <td>-0.003376</td>\n",
       "      <td>0.002689</td>\n",
       "      <td>0.002094</td>\n",
       "      <td>-0.009972</td>\n",
       "      <td>-0.008425</td>\n",
       "      <td>0.007419</td>\n",
       "      <td>...</td>\n",
       "      <td>-0.180019</td>\n",
       "      <td>-0.154693</td>\n",
       "      <td>-0.144847</td>\n",
       "      <td>-0.193356</td>\n",
       "      <td>-0.187446</td>\n",
       "      <td>-0.187791</td>\n",
       "      <td>-0.005489</td>\n",
       "      <td>-0.000036</td>\n",
       "      <td>-0.008049</td>\n",
       "      <td>-0.000797</td>\n",
       "    </tr>\n",
       "    <tr>\n",
       "      <td>Day_Monday</td>\n",
       "      <td>0.010611</td>\n",
       "      <td>-0.013045</td>\n",
       "      <td>-0.002274</td>\n",
       "      <td>-0.004201</td>\n",
       "      <td>-0.004585</td>\n",
       "      <td>0.006021</td>\n",
       "      <td>0.003501</td>\n",
       "      <td>-0.005460</td>\n",
       "      <td>-0.008074</td>\n",
       "      <td>-0.020637</td>\n",
       "      <td>...</td>\n",
       "      <td>1.000000</td>\n",
       "      <td>-0.148155</td>\n",
       "      <td>-0.138725</td>\n",
       "      <td>-0.185184</td>\n",
       "      <td>-0.179523</td>\n",
       "      <td>-0.179854</td>\n",
       "      <td>0.004539</td>\n",
       "      <td>-0.014690</td>\n",
       "      <td>-0.000877</td>\n",
       "      <td>-0.010434</td>\n",
       "    </tr>\n",
       "    <tr>\n",
       "      <td>Day_Saturday</td>\n",
       "      <td>-0.029604</td>\n",
       "      <td>0.015613</td>\n",
       "      <td>-0.004080</td>\n",
       "      <td>-0.007830</td>\n",
       "      <td>0.009142</td>\n",
       "      <td>0.005678</td>\n",
       "      <td>-0.000309</td>\n",
       "      <td>0.002509</td>\n",
       "      <td>0.017137</td>\n",
       "      <td>0.010302</td>\n",
       "      <td>...</td>\n",
       "      <td>-0.148155</td>\n",
       "      <td>1.000000</td>\n",
       "      <td>-0.119209</td>\n",
       "      <td>-0.159131</td>\n",
       "      <td>-0.154267</td>\n",
       "      <td>-0.154551</td>\n",
       "      <td>0.021111</td>\n",
       "      <td>-0.002790</td>\n",
       "      <td>0.010693</td>\n",
       "      <td>-0.016054</td>\n",
       "    </tr>\n",
       "    <tr>\n",
       "      <td>Day_Sunday</td>\n",
       "      <td>-0.049578</td>\n",
       "      <td>0.042096</td>\n",
       "      <td>-0.003524</td>\n",
       "      <td>-0.005333</td>\n",
       "      <td>0.001315</td>\n",
       "      <td>0.006880</td>\n",
       "      <td>0.000905</td>\n",
       "      <td>0.026506</td>\n",
       "      <td>0.026137</td>\n",
       "      <td>0.018267</td>\n",
       "      <td>...</td>\n",
       "      <td>-0.138725</td>\n",
       "      <td>-0.119209</td>\n",
       "      <td>1.000000</td>\n",
       "      <td>-0.149003</td>\n",
       "      <td>-0.144448</td>\n",
       "      <td>-0.144714</td>\n",
       "      <td>0.006928</td>\n",
       "      <td>-0.005580</td>\n",
       "      <td>0.005384</td>\n",
       "      <td>0.007741</td>\n",
       "    </tr>\n",
       "    <tr>\n",
       "      <td>Day_Thursday</td>\n",
       "      <td>0.015163</td>\n",
       "      <td>-0.015156</td>\n",
       "      <td>-0.002267</td>\n",
       "      <td>0.004471</td>\n",
       "      <td>0.000321</td>\n",
       "      <td>-0.007091</td>\n",
       "      <td>-0.000843</td>\n",
       "      <td>-0.002049</td>\n",
       "      <td>-0.005801</td>\n",
       "      <td>0.003729</td>\n",
       "      <td>...</td>\n",
       "      <td>-0.185184</td>\n",
       "      <td>-0.159131</td>\n",
       "      <td>-0.149003</td>\n",
       "      <td>1.000000</td>\n",
       "      <td>-0.192824</td>\n",
       "      <td>-0.193179</td>\n",
       "      <td>0.004579</td>\n",
       "      <td>0.008586</td>\n",
       "      <td>0.015499</td>\n",
       "      <td>0.024265</td>\n",
       "    </tr>\n",
       "    <tr>\n",
       "      <td>Day_Tuesday</td>\n",
       "      <td>0.009791</td>\n",
       "      <td>-0.005897</td>\n",
       "      <td>0.008051</td>\n",
       "      <td>0.012275</td>\n",
       "      <td>-0.004783</td>\n",
       "      <td>-0.009010</td>\n",
       "      <td>-0.004734</td>\n",
       "      <td>-0.000388</td>\n",
       "      <td>-0.007367</td>\n",
       "      <td>-0.014024</td>\n",
       "      <td>...</td>\n",
       "      <td>-0.179523</td>\n",
       "      <td>-0.154267</td>\n",
       "      <td>-0.144448</td>\n",
       "      <td>-0.192824</td>\n",
       "      <td>1.000000</td>\n",
       "      <td>-0.187274</td>\n",
       "      <td>-0.018085</td>\n",
       "      <td>0.003496</td>\n",
       "      <td>-0.001210</td>\n",
       "      <td>0.002012</td>\n",
       "    </tr>\n",
       "    <tr>\n",
       "      <td>Day_Wednesday</td>\n",
       "      <td>0.024823</td>\n",
       "      <td>-0.009730</td>\n",
       "      <td>0.001761</td>\n",
       "      <td>0.000122</td>\n",
       "      <td>0.003262</td>\n",
       "      <td>-0.002902</td>\n",
       "      <td>-0.000384</td>\n",
       "      <td>-0.006262</td>\n",
       "      <td>-0.006865</td>\n",
       "      <td>-0.001173</td>\n",
       "      <td>...</td>\n",
       "      <td>-0.179854</td>\n",
       "      <td>-0.154551</td>\n",
       "      <td>-0.144714</td>\n",
       "      <td>-0.193179</td>\n",
       "      <td>-0.187274</td>\n",
       "      <td>1.000000</td>\n",
       "      <td>-0.009552</td>\n",
       "      <td>0.009071</td>\n",
       "      <td>-0.019410</td>\n",
       "      <td>-0.008277</td>\n",
       "    </tr>\n",
       "    <tr>\n",
       "      <td>Year</td>\n",
       "      <td>-0.011980</td>\n",
       "      <td>-0.015375</td>\n",
       "      <td>-0.049402</td>\n",
       "      <td>-0.008377</td>\n",
       "      <td>-0.003167</td>\n",
       "      <td>-0.005430</td>\n",
       "      <td>0.012928</td>\n",
       "      <td>0.009340</td>\n",
       "      <td>0.018482</td>\n",
       "      <td>0.038061</td>\n",
       "      <td>...</td>\n",
       "      <td>0.004539</td>\n",
       "      <td>0.021111</td>\n",
       "      <td>0.006928</td>\n",
       "      <td>0.004579</td>\n",
       "      <td>-0.018085</td>\n",
       "      <td>-0.009552</td>\n",
       "      <td>1.000000</td>\n",
       "      <td>-0.048151</td>\n",
       "      <td>0.019126</td>\n",
       "      <td>0.008461</td>\n",
       "    </tr>\n",
       "    <tr>\n",
       "      <td>Month</td>\n",
       "      <td>-0.001899</td>\n",
       "      <td>0.016159</td>\n",
       "      <td>0.001179</td>\n",
       "      <td>-0.030390</td>\n",
       "      <td>-0.001273</td>\n",
       "      <td>0.008200</td>\n",
       "      <td>0.026452</td>\n",
       "      <td>0.011782</td>\n",
       "      <td>-0.000305</td>\n",
       "      <td>0.021885</td>\n",
       "      <td>...</td>\n",
       "      <td>-0.014690</td>\n",
       "      <td>-0.002790</td>\n",
       "      <td>-0.005580</td>\n",
       "      <td>0.008586</td>\n",
       "      <td>0.003496</td>\n",
       "      <td>0.009071</td>\n",
       "      <td>-0.048151</td>\n",
       "      <td>1.000000</td>\n",
       "      <td>0.036648</td>\n",
       "      <td>0.002977</td>\n",
       "    </tr>\n",
       "    <tr>\n",
       "      <td>Day</td>\n",
       "      <td>0.011446</td>\n",
       "      <td>-0.001196</td>\n",
       "      <td>-0.001149</td>\n",
       "      <td>-0.010049</td>\n",
       "      <td>-0.010484</td>\n",
       "      <td>0.000749</td>\n",
       "      <td>0.015350</td>\n",
       "      <td>-0.000767</td>\n",
       "      <td>-0.007546</td>\n",
       "      <td>0.013049</td>\n",
       "      <td>...</td>\n",
       "      <td>-0.000877</td>\n",
       "      <td>0.010693</td>\n",
       "      <td>0.005384</td>\n",
       "      <td>0.015499</td>\n",
       "      <td>-0.001210</td>\n",
       "      <td>-0.019410</td>\n",
       "      <td>0.019126</td>\n",
       "      <td>0.036648</td>\n",
       "      <td>1.000000</td>\n",
       "      <td>0.151580</td>\n",
       "    </tr>\n",
       "    <tr>\n",
       "      <td>Hour</td>\n",
       "      <td>-0.000178</td>\n",
       "      <td>-0.005060</td>\n",
       "      <td>0.000911</td>\n",
       "      <td>0.003917</td>\n",
       "      <td>-0.002060</td>\n",
       "      <td>0.002629</td>\n",
       "      <td>-0.004136</td>\n",
       "      <td>0.001514</td>\n",
       "      <td>-0.008458</td>\n",
       "      <td>-0.000141</td>\n",
       "      <td>...</td>\n",
       "      <td>-0.010434</td>\n",
       "      <td>-0.016054</td>\n",
       "      <td>0.007741</td>\n",
       "      <td>0.024265</td>\n",
       "      <td>0.002012</td>\n",
       "      <td>-0.008277</td>\n",
       "      <td>0.008461</td>\n",
       "      <td>0.002977</td>\n",
       "      <td>0.151580</td>\n",
       "      <td>1.000000</td>\n",
       "    </tr>\n",
       "  </tbody>\n",
       "</table>\n",
       "<p>27 rows × 27 columns</p>\n",
       "</div>"
      ],
      "text/plain": [
       "                                   Route   Min Gap   Vehicle  Direction_e  \\\n",
       "Route                           1.000000 -0.086860  0.003536    -0.019117   \n",
       "Min Gap                        -0.086860  1.000000 -0.020061    -0.018443   \n",
       "Vehicle                         0.003536 -0.020061  1.000000     0.015028   \n",
       "Direction_e                    -0.019117 -0.018443  0.015028     1.000000   \n",
       "Direction_n                     0.064304 -0.031929 -0.001610    -0.247167   \n",
       "Direction_s                     0.058385 -0.017381  0.000429    -0.235475   \n",
       "Direction_w                    -0.047580  0.045133 -0.014221    -0.728888   \n",
       "Incident_Diversion             -0.023700  0.175230 -0.002160    -0.018901   \n",
       "Incident_Emergency Services    -0.055631  0.048142  0.001392    -0.012847   \n",
       "Incident_General Delay          0.017453  0.010307 -0.024807    -0.022736   \n",
       "Incident_Held By               -0.051014  0.120897 -0.030666    -0.033710   \n",
       "Incident_Investigation         -0.028893  0.065511  0.016439    -0.004412   \n",
       "Incident_Late Leaving Garage    0.049934 -0.074298 -0.025434     0.013744   \n",
       "Incident_Mechanical             0.040936 -0.131724  0.010159     0.031156   \n",
       "Incident_Overhead - Pantograph  0.002571  0.036531 -0.000058     0.000555   \n",
       "Incident_Utilized Off Route     0.000294 -0.027116  0.062868     0.007375   \n",
       "Day_Friday                      0.006170 -0.004490  0.001162    -0.001670   \n",
       "Day_Monday                      0.010611 -0.013045 -0.002274    -0.004201   \n",
       "Day_Saturday                   -0.029604  0.015613 -0.004080    -0.007830   \n",
       "Day_Sunday                     -0.049578  0.042096 -0.003524    -0.005333   \n",
       "Day_Thursday                    0.015163 -0.015156 -0.002267     0.004471   \n",
       "Day_Tuesday                     0.009791 -0.005897  0.008051     0.012275   \n",
       "Day_Wednesday                   0.024823 -0.009730  0.001761     0.000122   \n",
       "Year                           -0.011980 -0.015375 -0.049402    -0.008377   \n",
       "Month                          -0.001899  0.016159  0.001179    -0.030390   \n",
       "Day                             0.011446 -0.001196 -0.001149    -0.010049   \n",
       "Hour                           -0.000178 -0.005060  0.000911     0.003917   \n",
       "\n",
       "                                Direction_n  Direction_s  Direction_w  \\\n",
       "Route                              0.064304     0.058385    -0.047580   \n",
       "Min Gap                           -0.031929    -0.017381     0.045133   \n",
       "Vehicle                           -0.001610     0.000429    -0.014221   \n",
       "Direction_e                       -0.247167    -0.235475    -0.728888   \n",
       "Direction_n                        1.000000    -0.084908    -0.262825   \n",
       "Direction_s                       -0.084908     1.000000    -0.250392   \n",
       "Direction_w                       -0.262825    -0.250392     1.000000   \n",
       "Incident_Diversion                -0.001596    -0.002825     0.021100   \n",
       "Incident_Emergency Services       -0.012627    -0.005542     0.022643   \n",
       "Incident_General Delay            -0.015004    -0.020404     0.041636   \n",
       "Incident_Held By                  -0.007301    -0.002220     0.038600   \n",
       "Incident_Investigation            -0.006178     0.026648    -0.006354   \n",
       "Incident_Late Leaving Garage       0.020793    -0.061734     0.007648   \n",
       "Incident_Mechanical               -0.000686     0.032453    -0.047696   \n",
       "Incident_Overhead - Pantograph     0.002776    -0.003546    -0.000203   \n",
       "Incident_Utilized Off Route        0.019138    -0.004667    -0.015405   \n",
       "Day_Friday                        -0.003376     0.002689     0.002094   \n",
       "Day_Monday                        -0.004585     0.006021     0.003501   \n",
       "Day_Saturday                       0.009142     0.005678    -0.000309   \n",
       "Day_Sunday                         0.001315     0.006880     0.000905   \n",
       "Day_Thursday                       0.000321    -0.007091    -0.000843   \n",
       "Day_Tuesday                       -0.004783    -0.009010    -0.004734   \n",
       "Day_Wednesday                      0.003262    -0.002902    -0.000384   \n",
       "Year                              -0.003167    -0.005430     0.012928   \n",
       "Month                             -0.001273     0.008200     0.026452   \n",
       "Day                               -0.010484     0.000749     0.015350   \n",
       "Hour                              -0.002060     0.002629    -0.004136   \n",
       "\n",
       "                                Incident_Diversion  \\\n",
       "Route                                    -0.023700   \n",
       "Min Gap                                   0.175230   \n",
       "Vehicle                                  -0.002160   \n",
       "Direction_e                              -0.018901   \n",
       "Direction_n                              -0.001596   \n",
       "Direction_s                              -0.002825   \n",
       "Direction_w                               0.021100   \n",
       "Incident_Diversion                        1.000000   \n",
       "Incident_Emergency Services              -0.020563   \n",
       "Incident_General Delay                   -0.022316   \n",
       "Incident_Held By                         -0.044681   \n",
       "Incident_Investigation                   -0.048016   \n",
       "Incident_Late Leaving Garage             -0.040548   \n",
       "Incident_Mechanical                      -0.123362   \n",
       "Incident_Overhead - Pantograph           -0.001481   \n",
       "Incident_Utilized Off Route              -0.022749   \n",
       "Day_Friday                               -0.009972   \n",
       "Day_Monday                               -0.005460   \n",
       "Day_Saturday                              0.002509   \n",
       "Day_Sunday                                0.026506   \n",
       "Day_Thursday                             -0.002049   \n",
       "Day_Tuesday                              -0.000388   \n",
       "Day_Wednesday                            -0.006262   \n",
       "Year                                      0.009340   \n",
       "Month                                     0.011782   \n",
       "Day                                      -0.000767   \n",
       "Hour                                      0.001514   \n",
       "\n",
       "                                Incident_Emergency Services  \\\n",
       "Route                                             -0.055631   \n",
       "Min Gap                                            0.048142   \n",
       "Vehicle                                            0.001392   \n",
       "Direction_e                                       -0.012847   \n",
       "Direction_n                                       -0.012627   \n",
       "Direction_s                                       -0.005542   \n",
       "Direction_w                                        0.022643   \n",
       "Incident_Diversion                                -0.020563   \n",
       "Incident_Emergency Services                        1.000000   \n",
       "Incident_General Delay                            -0.032508   \n",
       "Incident_Held By                                  -0.065086   \n",
       "Incident_Investigation                            -0.069945   \n",
       "Incident_Late Leaving Garage                      -0.059066   \n",
       "Incident_Mechanical                               -0.179700   \n",
       "Incident_Overhead - Pantograph                    -0.002158   \n",
       "Incident_Utilized Off Route                       -0.033139   \n",
       "Day_Friday                                        -0.008425   \n",
       "Day_Monday                                        -0.008074   \n",
       "Day_Saturday                                       0.017137   \n",
       "Day_Sunday                                         0.026137   \n",
       "Day_Thursday                                      -0.005801   \n",
       "Day_Tuesday                                       -0.007367   \n",
       "Day_Wednesday                                     -0.006865   \n",
       "Year                                               0.018482   \n",
       "Month                                             -0.000305   \n",
       "Day                                               -0.007546   \n",
       "Hour                                              -0.008458   \n",
       "\n",
       "                                Incident_General Delay  ...  Day_Monday  \\\n",
       "Route                                         0.017453  ...    0.010611   \n",
       "Min Gap                                       0.010307  ...   -0.013045   \n",
       "Vehicle                                      -0.024807  ...   -0.002274   \n",
       "Direction_e                                  -0.022736  ...   -0.004201   \n",
       "Direction_n                                  -0.015004  ...   -0.004585   \n",
       "Direction_s                                  -0.020404  ...    0.006021   \n",
       "Direction_w                                   0.041636  ...    0.003501   \n",
       "Incident_Diversion                           -0.022316  ...   -0.005460   \n",
       "Incident_Emergency Services                  -0.032508  ...   -0.008074   \n",
       "Incident_General Delay                        1.000000  ...   -0.020637   \n",
       "Incident_Held By                             -0.070636  ...   -0.013836   \n",
       "Incident_Investigation                       -0.075909  ...   -0.001621   \n",
       "Incident_Late Leaving Garage                 -0.064102  ...    0.016812   \n",
       "Incident_Mechanical                          -0.195023  ...    0.009860   \n",
       "Incident_Overhead - Pantograph               -0.002342  ...   -0.000148   \n",
       "Incident_Utilized Off Route                  -0.035964  ...    0.004324   \n",
       "Day_Friday                                    0.007419  ...   -0.180019   \n",
       "Day_Monday                                   -0.020637  ...    1.000000   \n",
       "Day_Saturday                                  0.010302  ...   -0.148155   \n",
       "Day_Sunday                                    0.018267  ...   -0.138725   \n",
       "Day_Thursday                                  0.003729  ...   -0.185184   \n",
       "Day_Tuesday                                  -0.014024  ...   -0.179523   \n",
       "Day_Wednesday                                -0.001173  ...   -0.179854   \n",
       "Year                                          0.038061  ...    0.004539   \n",
       "Month                                         0.021885  ...   -0.014690   \n",
       "Day                                           0.013049  ...   -0.000877   \n",
       "Hour                                         -0.000141  ...   -0.010434   \n",
       "\n",
       "                                Day_Saturday  Day_Sunday  Day_Thursday  \\\n",
       "Route                              -0.029604   -0.049578      0.015163   \n",
       "Min Gap                             0.015613    0.042096     -0.015156   \n",
       "Vehicle                            -0.004080   -0.003524     -0.002267   \n",
       "Direction_e                        -0.007830   -0.005333      0.004471   \n",
       "Direction_n                         0.009142    0.001315      0.000321   \n",
       "Direction_s                         0.005678    0.006880     -0.007091   \n",
       "Direction_w                        -0.000309    0.000905     -0.000843   \n",
       "Incident_Diversion                  0.002509    0.026506     -0.002049   \n",
       "Incident_Emergency Services         0.017137    0.026137     -0.005801   \n",
       "Incident_General Delay              0.010302    0.018267      0.003729   \n",
       "Incident_Held By                    0.008668    0.020760     -0.007592   \n",
       "Incident_Investigation              0.018940    0.010416     -0.005356   \n",
       "Incident_Late Leaving Garage       -0.064864   -0.058682      0.025853   \n",
       "Incident_Mechanical                 0.014734   -0.002727     -0.009538   \n",
       "Incident_Overhead - Pantograph      0.001179    0.001761      0.004015   \n",
       "Incident_Utilized Off Route        -0.010976   -0.010781      0.009278   \n",
       "Day_Friday                         -0.154693   -0.144847     -0.193356   \n",
       "Day_Monday                         -0.148155   -0.138725     -0.185184   \n",
       "Day_Saturday                        1.000000   -0.119209     -0.159131   \n",
       "Day_Sunday                         -0.119209    1.000000     -0.149003   \n",
       "Day_Thursday                       -0.159131   -0.149003      1.000000   \n",
       "Day_Tuesday                        -0.154267   -0.144448     -0.192824   \n",
       "Day_Wednesday                      -0.154551   -0.144714     -0.193179   \n",
       "Year                                0.021111    0.006928      0.004579   \n",
       "Month                              -0.002790   -0.005580      0.008586   \n",
       "Day                                 0.010693    0.005384      0.015499   \n",
       "Hour                               -0.016054    0.007741      0.024265   \n",
       "\n",
       "                                Day_Tuesday  Day_Wednesday      Year  \\\n",
       "Route                              0.009791       0.024823 -0.011980   \n",
       "Min Gap                           -0.005897      -0.009730 -0.015375   \n",
       "Vehicle                            0.008051       0.001761 -0.049402   \n",
       "Direction_e                        0.012275       0.000122 -0.008377   \n",
       "Direction_n                       -0.004783       0.003262 -0.003167   \n",
       "Direction_s                       -0.009010      -0.002902 -0.005430   \n",
       "Direction_w                       -0.004734      -0.000384  0.012928   \n",
       "Incident_Diversion                -0.000388      -0.006262  0.009340   \n",
       "Incident_Emergency Services       -0.007367      -0.006865  0.018482   \n",
       "Incident_General Delay            -0.014024      -0.001173  0.038061   \n",
       "Incident_Held By                  -0.016455       0.012992 -0.041700   \n",
       "Incident_Investigation            -0.006661      -0.005792 -0.004248   \n",
       "Incident_Late Leaving Garage       0.003978       0.027213 -0.018749   \n",
       "Incident_Mechanical                0.015828      -0.018840  0.031992   \n",
       "Incident_Overhead - Pantograph     0.004389      -0.005400  0.016526   \n",
       "Incident_Utilized Off Route        0.012908       0.005385 -0.034379   \n",
       "Day_Friday                        -0.187446      -0.187791 -0.005489   \n",
       "Day_Monday                        -0.179523      -0.179854  0.004539   \n",
       "Day_Saturday                      -0.154267      -0.154551  0.021111   \n",
       "Day_Sunday                        -0.144448      -0.144714  0.006928   \n",
       "Day_Thursday                      -0.192824      -0.193179  0.004579   \n",
       "Day_Tuesday                        1.000000      -0.187274 -0.018085   \n",
       "Day_Wednesday                     -0.187274       1.000000 -0.009552   \n",
       "Year                              -0.018085      -0.009552  1.000000   \n",
       "Month                              0.003496       0.009071 -0.048151   \n",
       "Day                               -0.001210      -0.019410  0.019126   \n",
       "Hour                               0.002012      -0.008277  0.008461   \n",
       "\n",
       "                                   Month       Day      Hour  \n",
       "Route                          -0.001899  0.011446 -0.000178  \n",
       "Min Gap                         0.016159 -0.001196 -0.005060  \n",
       "Vehicle                         0.001179 -0.001149  0.000911  \n",
       "Direction_e                    -0.030390 -0.010049  0.003917  \n",
       "Direction_n                    -0.001273 -0.010484 -0.002060  \n",
       "Direction_s                     0.008200  0.000749  0.002629  \n",
       "Direction_w                     0.026452  0.015350 -0.004136  \n",
       "Incident_Diversion              0.011782 -0.000767  0.001514  \n",
       "Incident_Emergency Services    -0.000305 -0.007546 -0.008458  \n",
       "Incident_General Delay          0.021885  0.013049 -0.000141  \n",
       "Incident_Held By                0.019259 -0.009008  0.001846  \n",
       "Incident_Investigation          0.025530  0.010606 -0.007366  \n",
       "Incident_Late Leaving Garage   -0.050263  0.009444 -0.000664  \n",
       "Incident_Mechanical             0.000394 -0.009576  0.005685  \n",
       "Incident_Overhead - Pantograph  0.017289  0.012407  0.009360  \n",
       "Incident_Utilized Off Route    -0.030115  0.000091  0.002521  \n",
       "Day_Friday                     -0.000036 -0.008049 -0.000797  \n",
       "Day_Monday                     -0.014690 -0.000877 -0.010434  \n",
       "Day_Saturday                   -0.002790  0.010693 -0.016054  \n",
       "Day_Sunday                     -0.005580  0.005384  0.007741  \n",
       "Day_Thursday                    0.008586  0.015499  0.024265  \n",
       "Day_Tuesday                     0.003496 -0.001210  0.002012  \n",
       "Day_Wednesday                   0.009071 -0.019410 -0.008277  \n",
       "Year                           -0.048151  0.019126  0.008461  \n",
       "Month                           1.000000  0.036648  0.002977  \n",
       "Day                             0.036648  1.000000  0.151580  \n",
       "Hour                            0.002977  0.151580  1.000000  \n",
       "\n",
       "[27 rows x 27 columns]"
      ]
     },
     "execution_count": 14,
     "metadata": {},
     "output_type": "execute_result"
    }
   ],
   "source": [
    "X.corr()"
   ]
  },
  {
   "cell_type": "code",
   "execution_count": 15,
   "metadata": {},
   "outputs": [],
   "source": [
    "number_of_features = X.shape[1]"
   ]
  },
  {
   "cell_type": "code",
   "execution_count": 16,
   "metadata": {},
   "outputs": [
    {
     "data": {
      "image/png": "[encoded data removed]",
      "text/plain": [
       "<Figure size 720x720 with 2 Axes>"
      ]
     },
     "metadata": {
      "needs_background": "light"
     },
     "output_type": "display_data"
    }
   ],
   "source": [
    "plt.figure(figsize = (10, 10))\n",
    "plt.xticks(range(0, number_of_features), feature_names, rotation='vertical')\n",
    "plt.yticks(range(0, number_of_features), feature_names)\n",
    "plt.imshow(X.corr(), cmap='ocean')\n",
    "plt.colorbar()\n",
    "plt.show()"
   ]
  },
  {
   "cell_type": "code",
   "execution_count": null,
   "metadata": {},
   "outputs": [],
   "source": []
  },
  {
   "cell_type": "code",
   "execution_count": 17,
   "metadata": {},
   "outputs": [],
   "source": [
    "X_train, X_test, y_train, y_test = model_selection.train_test_split(X, y, test_size = 0.33, random_state = 7, stratify = y)"
   ]
  },
  {
   "cell_type": "code",
   "execution_count": 18,
   "metadata": {},
   "outputs": [
    {
     "data": {
      "text/html": [
       "<div>\n",
       "<style scoped>\n",
       "    .dataframe tbody tr th:only-of-type {\n",
       "        vertical-align: middle;\n",
       "    }\n",
       "\n",
       "    .dataframe tbody tr th {\n",
       "        vertical-align: top;\n",
       "    }\n",
       "\n",
       "    .dataframe thead th {\n",
       "        text-align: right;\n",
       "    }\n",
       "</style>\n",
       "<table border=\"1\" class=\"dataframe\">\n",
       "  <thead>\n",
       "    <tr style=\"text-align: right;\">\n",
       "      <th></th>\n",
       "      <th>Route</th>\n",
       "      <th>Min Gap</th>\n",
       "      <th>Vehicle</th>\n",
       "      <th>Direction_e</th>\n",
       "      <th>Direction_n</th>\n",
       "      <th>Direction_s</th>\n",
       "      <th>Direction_w</th>\n",
       "      <th>Incident_Diversion</th>\n",
       "      <th>Incident_Emergency Services</th>\n",
       "      <th>Incident_General Delay</th>\n",
       "      <th>...</th>\n",
       "      <th>Day_Monday</th>\n",
       "      <th>Day_Saturday</th>\n",
       "      <th>Day_Sunday</th>\n",
       "      <th>Day_Thursday</th>\n",
       "      <th>Day_Tuesday</th>\n",
       "      <th>Day_Wednesday</th>\n",
       "      <th>Year</th>\n",
       "      <th>Month</th>\n",
       "      <th>Day</th>\n",
       "      <th>Hour</th>\n",
       "    </tr>\n",
       "  </thead>\n",
       "  <tbody>\n",
       "    <tr>\n",
       "      <td>40978</td>\n",
       "      <td>506</td>\n",
       "      <td>12</td>\n",
       "      <td>4169</td>\n",
       "      <td>1</td>\n",
       "      <td>0</td>\n",
       "      <td>0</td>\n",
       "      <td>0</td>\n",
       "      <td>0</td>\n",
       "      <td>0</td>\n",
       "      <td>0</td>\n",
       "      <td>...</td>\n",
       "      <td>0</td>\n",
       "      <td>0</td>\n",
       "      <td>0</td>\n",
       "      <td>1</td>\n",
       "      <td>0</td>\n",
       "      <td>0</td>\n",
       "      <td>2017</td>\n",
       "      <td>7</td>\n",
       "      <td>27</td>\n",
       "      <td>17</td>\n",
       "    </tr>\n",
       "    <tr>\n",
       "      <td>29934</td>\n",
       "      <td>501</td>\n",
       "      <td>10</td>\n",
       "      <td>4221</td>\n",
       "      <td>0</td>\n",
       "      <td>0</td>\n",
       "      <td>0</td>\n",
       "      <td>1</td>\n",
       "      <td>0</td>\n",
       "      <td>0</td>\n",
       "      <td>0</td>\n",
       "      <td>...</td>\n",
       "      <td>0</td>\n",
       "      <td>0</td>\n",
       "      <td>0</td>\n",
       "      <td>0</td>\n",
       "      <td>0</td>\n",
       "      <td>1</td>\n",
       "      <td>2016</td>\n",
       "      <td>9</td>\n",
       "      <td>21</td>\n",
       "      <td>22</td>\n",
       "    </tr>\n",
       "    <tr>\n",
       "      <td>12501</td>\n",
       "      <td>504</td>\n",
       "      <td>8</td>\n",
       "      <td>4038</td>\n",
       "      <td>1</td>\n",
       "      <td>0</td>\n",
       "      <td>0</td>\n",
       "      <td>0</td>\n",
       "      <td>0</td>\n",
       "      <td>0</td>\n",
       "      <td>0</td>\n",
       "      <td>...</td>\n",
       "      <td>0</td>\n",
       "      <td>0</td>\n",
       "      <td>0</td>\n",
       "      <td>0</td>\n",
       "      <td>1</td>\n",
       "      <td>0</td>\n",
       "      <td>2015</td>\n",
       "      <td>2</td>\n",
       "      <td>24</td>\n",
       "      <td>6</td>\n",
       "    </tr>\n",
       "    <tr>\n",
       "      <td>7718</td>\n",
       "      <td>504</td>\n",
       "      <td>8</td>\n",
       "      <td>4153</td>\n",
       "      <td>1</td>\n",
       "      <td>0</td>\n",
       "      <td>0</td>\n",
       "      <td>0</td>\n",
       "      <td>0</td>\n",
       "      <td>0</td>\n",
       "      <td>0</td>\n",
       "      <td>...</td>\n",
       "      <td>0</td>\n",
       "      <td>0</td>\n",
       "      <td>0</td>\n",
       "      <td>1</td>\n",
       "      <td>0</td>\n",
       "      <td>0</td>\n",
       "      <td>2014</td>\n",
       "      <td>10</td>\n",
       "      <td>2</td>\n",
       "      <td>10</td>\n",
       "    </tr>\n",
       "    <tr>\n",
       "      <td>41369</td>\n",
       "      <td>506</td>\n",
       "      <td>1</td>\n",
       "      <td>4035</td>\n",
       "      <td>0</td>\n",
       "      <td>0</td>\n",
       "      <td>0</td>\n",
       "      <td>1</td>\n",
       "      <td>0</td>\n",
       "      <td>0</td>\n",
       "      <td>0</td>\n",
       "      <td>...</td>\n",
       "      <td>0</td>\n",
       "      <td>0</td>\n",
       "      <td>0</td>\n",
       "      <td>1</td>\n",
       "      <td>0</td>\n",
       "      <td>0</td>\n",
       "      <td>2017</td>\n",
       "      <td>8</td>\n",
       "      <td>10</td>\n",
       "      <td>11</td>\n",
       "    </tr>\n",
       "    <tr>\n",
       "      <td>...</td>\n",
       "      <td>...</td>\n",
       "      <td>...</td>\n",
       "      <td>...</td>\n",
       "      <td>...</td>\n",
       "      <td>...</td>\n",
       "      <td>...</td>\n",
       "      <td>...</td>\n",
       "      <td>...</td>\n",
       "      <td>...</td>\n",
       "      <td>...</td>\n",
       "      <td>...</td>\n",
       "      <td>...</td>\n",
       "      <td>...</td>\n",
       "      <td>...</td>\n",
       "      <td>...</td>\n",
       "      <td>...</td>\n",
       "      <td>...</td>\n",
       "      <td>...</td>\n",
       "      <td>...</td>\n",
       "      <td>...</td>\n",
       "      <td>...</td>\n",
       "    </tr>\n",
       "    <tr>\n",
       "      <td>27651</td>\n",
       "      <td>501</td>\n",
       "      <td>29</td>\n",
       "      <td>4205</td>\n",
       "      <td>1</td>\n",
       "      <td>0</td>\n",
       "      <td>0</td>\n",
       "      <td>0</td>\n",
       "      <td>0</td>\n",
       "      <td>0</td>\n",
       "      <td>0</td>\n",
       "      <td>...</td>\n",
       "      <td>0</td>\n",
       "      <td>0</td>\n",
       "      <td>0</td>\n",
       "      <td>0</td>\n",
       "      <td>1</td>\n",
       "      <td>0</td>\n",
       "      <td>2016</td>\n",
       "      <td>7</td>\n",
       "      <td>5</td>\n",
       "      <td>8</td>\n",
       "    </tr>\n",
       "    <tr>\n",
       "      <td>43907</td>\n",
       "      <td>501</td>\n",
       "      <td>10</td>\n",
       "      <td>4232</td>\n",
       "      <td>0</td>\n",
       "      <td>0</td>\n",
       "      <td>0</td>\n",
       "      <td>1</td>\n",
       "      <td>0</td>\n",
       "      <td>0</td>\n",
       "      <td>0</td>\n",
       "      <td>...</td>\n",
       "      <td>0</td>\n",
       "      <td>0</td>\n",
       "      <td>0</td>\n",
       "      <td>0</td>\n",
       "      <td>0</td>\n",
       "      <td>1</td>\n",
       "      <td>2017</td>\n",
       "      <td>12</td>\n",
       "      <td>6</td>\n",
       "      <td>14</td>\n",
       "    </tr>\n",
       "    <tr>\n",
       "      <td>26054</td>\n",
       "      <td>512</td>\n",
       "      <td>74</td>\n",
       "      <td>4183</td>\n",
       "      <td>0</td>\n",
       "      <td>0</td>\n",
       "      <td>0</td>\n",
       "      <td>1</td>\n",
       "      <td>0</td>\n",
       "      <td>0</td>\n",
       "      <td>0</td>\n",
       "      <td>...</td>\n",
       "      <td>0</td>\n",
       "      <td>1</td>\n",
       "      <td>0</td>\n",
       "      <td>0</td>\n",
       "      <td>0</td>\n",
       "      <td>0</td>\n",
       "      <td>2016</td>\n",
       "      <td>5</td>\n",
       "      <td>14</td>\n",
       "      <td>8</td>\n",
       "    </tr>\n",
       "    <tr>\n",
       "      <td>31049</td>\n",
       "      <td>503</td>\n",
       "      <td>24</td>\n",
       "      <td>0</td>\n",
       "      <td>0</td>\n",
       "      <td>0</td>\n",
       "      <td>0</td>\n",
       "      <td>1</td>\n",
       "      <td>0</td>\n",
       "      <td>0</td>\n",
       "      <td>0</td>\n",
       "      <td>...</td>\n",
       "      <td>0</td>\n",
       "      <td>0</td>\n",
       "      <td>0</td>\n",
       "      <td>0</td>\n",
       "      <td>0</td>\n",
       "      <td>1</td>\n",
       "      <td>2016</td>\n",
       "      <td>10</td>\n",
       "      <td>26</td>\n",
       "      <td>8</td>\n",
       "    </tr>\n",
       "    <tr>\n",
       "      <td>42517</td>\n",
       "      <td>509</td>\n",
       "      <td>12</td>\n",
       "      <td>4406</td>\n",
       "      <td>1</td>\n",
       "      <td>0</td>\n",
       "      <td>0</td>\n",
       "      <td>0</td>\n",
       "      <td>0</td>\n",
       "      <td>0</td>\n",
       "      <td>1</td>\n",
       "      <td>...</td>\n",
       "      <td>0</td>\n",
       "      <td>0</td>\n",
       "      <td>1</td>\n",
       "      <td>0</td>\n",
       "      <td>0</td>\n",
       "      <td>0</td>\n",
       "      <td>2017</td>\n",
       "      <td>10</td>\n",
       "      <td>22</td>\n",
       "      <td>1</td>\n",
       "    </tr>\n",
       "  </tbody>\n",
       "</table>\n",
       "<p>30179 rows × 27 columns</p>\n",
       "</div>"
      ],
      "text/plain": [
       "       Route  Min Gap  Vehicle  Direction_e  Direction_n  Direction_s  \\\n",
       "40978    506       12     4169            1            0            0   \n",
       "29934    501       10     4221            0            0            0   \n",
       "12501    504        8     4038            1            0            0   \n",
       "7718     504        8     4153            1            0            0   \n",
       "41369    506        1     4035            0            0            0   \n",
       "...      ...      ...      ...          ...          ...          ...   \n",
       "27651    501       29     4205            1            0            0   \n",
       "43907    501       10     4232            0            0            0   \n",
       "26054    512       74     4183            0            0            0   \n",
       "31049    503       24        0            0            0            0   \n",
       "42517    509       12     4406            1            0            0   \n",
       "\n",
       "       Direction_w  Incident_Diversion  Incident_Emergency Services  \\\n",
       "40978            0                   0                            0   \n",
       "29934            1                   0                            0   \n",
       "12501            0                   0                            0   \n",
       "7718             0                   0                            0   \n",
       "41369            1                   0                            0   \n",
       "...            ...                 ...                          ...   \n",
       "27651            0                   0                            0   \n",
       "43907            1                   0                            0   \n",
       "26054            1                   0                            0   \n",
       "31049            1                   0                            0   \n",
       "42517            0                   0                            0   \n",
       "\n",
       "       Incident_General Delay  ...  Day_Monday  Day_Saturday  Day_Sunday  \\\n",
       "40978                       0  ...           0             0           0   \n",
       "29934                       0  ...           0             0           0   \n",
       "12501                       0  ...           0             0           0   \n",
       "7718                        0  ...           0             0           0   \n",
       "41369                       0  ...           0             0           0   \n",
       "...                       ...  ...         ...           ...         ...   \n",
       "27651                       0  ...           0             0           0   \n",
       "43907                       0  ...           0             0           0   \n",
       "26054                       0  ...           0             1           0   \n",
       "31049                       0  ...           0             0           0   \n",
       "42517                       1  ...           0             0           1   \n",
       "\n",
       "       Day_Thursday  Day_Tuesday  Day_Wednesday  Year  Month  Day  Hour  \n",
       "40978             1            0              0  2017      7   27    17  \n",
       "29934             0            0              1  2016      9   21    22  \n",
       "12501             0            1              0  2015      2   24     6  \n",
       "7718              1            0              0  2014     10    2    10  \n",
       "41369             1            0              0  2017      8   10    11  \n",
       "...             ...          ...            ...   ...    ...  ...   ...  \n",
       "27651             0            1              0  2016      7    5     8  \n",
       "43907             0            0              1  2017     12    6    14  \n",
       "26054             0            0              0  2016      5   14     8  \n",
       "31049             0            0              1  2016     10   26     8  \n",
       "42517             0            0              0  2017     10   22     1  \n",
       "\n",
       "[30179 rows x 27 columns]"
      ]
     },
     "execution_count": 18,
     "metadata": {},
     "output_type": "execute_result"
    }
   ],
   "source": [
    "X_train"
   ]
  },
  {
   "cell_type": "code",
   "execution_count": 19,
   "metadata": {},
   "outputs": [
    {
     "data": {
      "text/plain": [
       "(30179, 27)"
      ]
     },
     "execution_count": 19,
     "metadata": {},
     "output_type": "execute_result"
    }
   ],
   "source": [
    "X_train.shape"
   ]
  },
  {
   "cell_type": "code",
   "execution_count": 20,
   "metadata": {},
   "outputs": [
    {
     "data": {
      "text/plain": [
       "(14865, 27)"
      ]
     },
     "execution_count": 20,
     "metadata": {},
     "output_type": "execute_result"
    }
   ],
   "source": [
    "X_test.shape"
   ]
  },
  {
   "cell_type": "code",
   "execution_count": 21,
   "metadata": {},
   "outputs": [
    {
     "data": {
      "text/plain": [
       "(30179,)"
      ]
     },
     "execution_count": 21,
     "metadata": {},
     "output_type": "execute_result"
    }
   ],
   "source": [
    " y_train.shape\n",
    "    "
   ]
  },
  {
   "cell_type": "code",
   "execution_count": 22,
   "metadata": {},
   "outputs": [
    {
     "data": {
      "text/plain": [
       "(14865,)"
      ]
     },
     "execution_count": 22,
     "metadata": {},
     "output_type": "execute_result"
    }
   ],
   "source": [
    "y_test.shape"
   ]
  },
  {
   "cell_type": "code",
   "execution_count": 23,
   "metadata": {},
   "outputs": [],
   "source": [
    "scaler = preprocessing.StandardScaler()\n",
    "scaler.fit(X_train)\n",
    "X_train = scaler.transform(X_train)\n",
    "X_test = scaler.transform(X_test)"
   ]
  },
  {
   "cell_type": "code",
   "execution_count": 24,
   "metadata": {},
   "outputs": [
    {
     "name": "stdout",
     "output_type": "stream",
     "text": [
      "Train Delay:  29731      Train Without Delay:  448\n"
     ]
    }
   ],
   "source": [
    "wd_train = np.sum(y_train == 0)\n",
    "d_train = np.sum(y_train == 1)\n",
    "print('Train Delay: ', d_train, '     Train Without Delay: ', wd_train)"
   ]
  },
  {
   "cell_type": "code",
   "execution_count": 25,
   "metadata": {},
   "outputs": [
    {
     "data": {
      "text/plain": [
       "1    29731\n",
       "0      448\n",
       "Name: Delay, dtype: int64"
      ]
     },
     "execution_count": 25,
     "metadata": {},
     "output_type": "execute_result"
    }
   ],
   "source": [
    "y_train.value_counts()"
   ]
  },
  {
   "cell_type": "code",
   "execution_count": 26,
   "metadata": {},
   "outputs": [
    {
     "name": "stdout",
     "output_type": "stream",
     "text": [
      "Test Delay:  14645      Test Without Delay:  220\n"
     ]
    }
   ],
   "source": [
    "wd_test = np.sum(y_test == 0)\n",
    "d_test = np.sum(y_test == 1)\n",
    "print('Test Delay: ', d_test, '     Test Without Delay: ', wd_test)"
   ]
  },
  {
   "cell_type": "code",
   "execution_count": 27,
   "metadata": {},
   "outputs": [
    {
     "data": {
      "image/png": "[encoded data removed]",
      "text/plain": [
       "<Figure size 504x504 with 1 Axes>"
      ]
     },
     "metadata": {
      "needs_background": "light"
     },
     "output_type": "display_data"
    }
   ],
   "source": [
    "plt.figure(figsize = (7, 7))\n",
    "matplotlib.rc('xtick', labelsize = 12) \n",
    "matplotlib.rc('ytick', labelsize = 12) \n",
    "plt.title(\"Visual inspection of stratification\")\n",
    "plt.xticks([0,1])\n",
    "plt.xlabel('No delay                                                        delay ', fontsize = 15 )\n",
    "plt.hist([y_train, y_test], color=['red', 'blue'], label=['training set ',' testing set'])\n",
    "plt.legend(loc='best')\n",
    "plt.show()"
   ]
  },
  {
   "cell_type": "markdown",
   "metadata": {},
   "source": [
    "## Model learning"
   ]
  },
  {
   "cell_type": "code",
   "execution_count": 28,
   "metadata": {},
   "outputs": [],
   "source": [
    "model = linear_model.LogisticRegression(solver='lbfgs')"
   ]
  },
  {
   "cell_type": "code",
   "execution_count": 29,
   "metadata": {},
   "outputs": [
    {
     "data": {
      "text/plain": [
       "LogisticRegression(C=1.0, class_weight=None, dual=False, fit_intercept=True,\n",
       "                   intercept_scaling=1, l1_ratio=None, max_iter=100,\n",
       "                   multi_class='warn', n_jobs=None, penalty='l2',\n",
       "                   random_state=None, solver='lbfgs', tol=0.0001, verbose=0,\n",
       "                   warm_start=False)"
      ]
     },
     "execution_count": 29,
     "metadata": {},
     "output_type": "execute_result"
    }
   ],
   "source": [
    "model.fit(X_train, y_train)"
   ]
  },
  {
   "cell_type": "code",
   "execution_count": 30,
   "metadata": {},
   "outputs": [
    {
     "data": {
      "text/plain": [
       "array([8.5299948])"
      ]
     },
     "execution_count": 30,
     "metadata": {},
     "output_type": "execute_result"
    }
   ],
   "source": [
    "model.intercept_"
   ]
  },
  {
   "cell_type": "code",
   "execution_count": 31,
   "metadata": {},
   "outputs": [
    {
     "data": {
      "text/plain": [
       "array([[ 4.90790829e-02,  1.25658767e+01,  6.03311894e-02,\n",
       "        -2.18276782e-03,  4.70885003e-02, -3.05541783e-02,\n",
       "        -7.86958723e-03, -5.82339156e-02, -2.60995201e-02,\n",
       "        -2.68324722e-01,  1.66379250e-01, -1.86619328e-01,\n",
       "         2.52870554e-01,  3.64399362e-02,  3.34655481e-02,\n",
       "        -1.40924837e-01, -4.81297162e-02,  4.74150376e-02,\n",
       "        -3.25820731e-02, -3.67521391e-02, -4.32427030e-02,\n",
       "         5.60851700e-02,  4.84709167e-02, -1.02366586e-01,\n",
       "         3.55862687e-02, -5.56892492e-02, -3.04213311e-02]])"
      ]
     },
     "execution_count": 31,
     "metadata": {},
     "output_type": "execute_result"
    }
   ],
   "source": [
    "model.coef_"
   ]
  },
  {
   "cell_type": "markdown",
   "metadata": {},
   "source": [
    "## Evaluation"
   ]
  },
  {
   "cell_type": "code",
   "execution_count": 32,
   "metadata": {},
   "outputs": [],
   "source": [
    "y_test_predicted = model.predict(X_test)"
   ]
  },
  {
   "cell_type": "code",
   "execution_count": 33,
   "metadata": {},
   "outputs": [
    {
     "data": {
      "text/plain": [
       "0.986343760511268"
      ]
     },
     "execution_count": 33,
     "metadata": {},
     "output_type": "execute_result"
    }
   ],
   "source": [
    "accuracy = metrics.accuracy_score(y_test, y_test_predicted)\n",
    "accuracy"
   ]
  },
  {
   "cell_type": "code",
   "execution_count": 34,
   "metadata": {},
   "outputs": [
    {
     "data": {
      "text/plain": [
       "0.9868527508090615"
      ]
     },
     "execution_count": 34,
     "metadata": {},
     "output_type": "execute_result"
    }
   ],
   "source": [
    "precision = metrics.precision_score(y_test, y_test_predicted)\n",
    "precision"
   ]
  },
  {
   "cell_type": "code",
   "execution_count": 35,
   "metadata": {},
   "outputs": [
    {
     "data": {
      "text/plain": [
       "0.999453738477296"
      ]
     },
     "execution_count": 35,
     "metadata": {},
     "output_type": "execute_result"
    }
   ],
   "source": [
    "recall = metrics.recall_score(y_test, y_test_predicted)\n",
    "recall"
   ]
  },
  {
   "cell_type": "code",
   "execution_count": 36,
   "metadata": {},
   "outputs": [
    {
     "data": {
      "text/plain": [
       "0.99311327475659"
      ]
     },
     "execution_count": 36,
     "metadata": {},
     "output_type": "execute_result"
    }
   ],
   "source": [
    "f1 = metrics.f1_score(y_test, y_test_predicted)\n",
    "f1"
   ]
  },
  {
   "cell_type": "code",
   "execution_count": 48,
   "metadata": {},
   "outputs": [
    {
     "data": {
      "text/plain": [
       "0.5565450510568298"
      ]
     },
     "execution_count": 48,
     "metadata": {},
     "output_type": "execute_result"
    }
   ],
   "source": [
    "metrics.roc_auc_score(y_test, y_test_predicted)"
   ]
  },
  {
   "cell_type": "code",
   "execution_count": 49,
   "metadata": {},
   "outputs": [],
   "source": [
    "# metrics.plot_roc_curve(logistic_regression, X_test, y_test)"
   ]
  },
  {
   "cell_type": "code",
   "execution_count": 50,
   "metadata": {},
   "outputs": [],
   "source": [
    "y_train_predicted = model.predict(X_train)"
   ]
  },
  {
   "cell_type": "code",
   "execution_count": 51,
   "metadata": {},
   "outputs": [
    {
     "data": {
      "text/plain": [
       "array([1, 1, 1, 1, 1, 1, 1, 1, 1, 1, 1, 1, 1, 1, 1, 1, 1, 1, 1, 1, 1, 1,\n",
       "       1, 1, 1, 1, 1, 1, 1, 1], dtype=int64)"
      ]
     },
     "execution_count": 51,
     "metadata": {},
     "output_type": "execute_result"
    }
   ],
   "source": [
    "y_train_predicted[:30]"
   ]
  },
  {
   "cell_type": "code",
   "execution_count": 52,
   "metadata": {},
   "outputs": [],
   "source": [
    "train_score = metrics.accuracy_score(y_train, y_train_predicted)\n",
    "test_score = metrics.accuracy_score(y_test, y_test_predicted)"
   ]
  },
  {
   "cell_type": "code",
   "execution_count": 53,
   "metadata": {},
   "outputs": [
    {
     "name": "stdout",
     "output_type": "stream",
     "text": [
      "Accuracy at the training set: 0.9867126147320985\n",
      "Accuracy at the test set: 0.986343760511268\n"
     ]
    }
   ],
   "source": [
    "print(\"Accuracy at the training set: {train}\\nAccuracy at the test set: {test}\".format(train=train_score, test=test_score))"
   ]
  },
  {
   "cell_type": "code",
   "execution_count": 54,
   "metadata": {},
   "outputs": [
    {
     "name": "stdout",
     "output_type": "stream",
     "text": [
      "              precision    recall  f1-score   support\n",
      "\n",
      "           0       0.76      0.11      0.20       220\n",
      "           1       0.99      1.00      0.99     14645\n",
      "\n",
      "    accuracy                           0.99     14865\n",
      "   macro avg       0.87      0.56      0.60     14865\n",
      "weighted avg       0.98      0.99      0.98     14865\n",
      "\n"
     ]
    }
   ],
   "source": [
    "print(metrics.classification_report(y_test, y_test_predicted))"
   ]
  },
  {
   "cell_type": "code",
   "execution_count": 55,
   "metadata": {},
   "outputs": [
    {
     "data": {
      "text/plain": [
       "array([[   25,   195],\n",
       "       [    8, 14637]], dtype=int64)"
      ]
     },
     "execution_count": 55,
     "metadata": {},
     "output_type": "execute_result"
    }
   ],
   "source": [
    "metrics.confusion_matrix(y_test, y_test_predicted)"
   ]
  },
  {
   "cell_type": "code",
   "execution_count": 56,
   "metadata": {},
   "outputs": [
    {
     "data": {
      "image/png": "[encoded data removed]",
      "text/plain": [
       "<Figure size 720x360 with 1 Axes>"
      ]
     },
     "metadata": {
      "needs_background": "light"
     },
     "output_type": "display_data"
    }
   ],
   "source": [
    "fig = plt.figure(figsize=(10, 5))\n",
    "plt.bar(['accuracy', 'precision', 'recall', 'f1'], [accuracy , precision, recall, f1], color='orangered')\n",
    "plt.title(\"Evaluation Logistic Regression\")\n",
    "plt.yticks(np.arange(0, 1, 0.1)) \n",
    "plt.show()"
   ]
  },
  {
   "cell_type": "markdown",
   "metadata": {},
   "source": [
    "# Neural networks"
   ]
  },
  {
   "cell_type": "code",
   "execution_count": 57,
   "metadata": {},
   "outputs": [],
   "source": [
    "np.random.seed(7)"
   ]
  },
  {
   "cell_type": "markdown",
   "metadata": {},
   "source": [
    "## Creating Neural networks"
   ]
  },
  {
   "cell_type": "markdown",
   "metadata": {},
   "source": [
    "I will create a neural network with advance propagation. <br> The neural network will have an input layer, three hidden layers with, respectively, 100, 40 and 20 neurons, and an output layer. <br> The number of input layer neurons corresponds to the number of attributes of the data set, which is 27. <br> The number of output layer neurons is 1 since it is a binary classification. <br> In hidden layers I will use relu activation function and in the latter sigmoid function. <br> Optimizer Adam will be used. <br> Binary cross entropy as a function of error will be used. <br> Since the task of classification metrics will be accuracy. <br> I will use Dropout regularization for reducing overfitting and improving the generalization. "
   ]
  },
  {
   "cell_type": "code",
   "execution_count": 58,
   "metadata": {},
   "outputs": [],
   "source": [
    "number_of_features = X_train.shape[1]\n",
    "output_size = 1"
   ]
  },
  {
   "cell_type": "code",
   "execution_count": 59,
   "metadata": {},
   "outputs": [
    {
     "data": {
      "text/plain": [
       "27"
      ]
     },
     "execution_count": 59,
     "metadata": {},
     "output_type": "execute_result"
    }
   ],
   "source": [
    "number_of_features"
   ]
  },
  {
   "cell_type": "code",
   "execution_count": 60,
   "metadata": {},
   "outputs": [],
   "source": [
    "model = Sequential()\n",
    "model.add(Dense(units = 100, input_dim = number_of_features, activation = 'relu'))\n",
    "model.add(Dense(units = 40, activation = 'relu'))\n",
    "model.add(Dense(units = 20, activation = 'relu'))\n",
    "model.add(Dropout(0.1))\n",
    "model.add(Dense(units = output_size, activation = 'sigmoid'))"
   ]
  },
  {
   "cell_type": "code",
   "execution_count": 61,
   "metadata": {},
   "outputs": [],
   "source": [
    "model.compile( optimizers.Adam(learning_rate = 0.0001), loss = losses.BinaryCrossentropy(), metrics = ['accuracy'] )"
   ]
  },
  {
   "cell_type": "code",
   "execution_count": 62,
   "metadata": {},
   "outputs": [
    {
     "name": "stdout",
     "output_type": "stream",
     "text": [
      "Model: \"sequential\"\n",
      "_________________________________________________________________\n",
      "Layer (type)                 Output Shape              Param #   \n",
      "=================================================================\n",
      "dense (Dense)                (None, 100)               2800      \n",
      "_________________________________________________________________\n",
      "dense_1 (Dense)              (None, 40)                4040      \n",
      "_________________________________________________________________\n",
      "dense_2 (Dense)              (None, 20)                820       \n",
      "_________________________________________________________________\n",
      "dropout (Dropout)            (None, 20)                0         \n",
      "_________________________________________________________________\n",
      "dense_3 (Dense)              (None, 1)                 21        \n",
      "=================================================================\n",
      "Total params: 7,681\n",
      "Trainable params: 7,681\n",
      "Non-trainable params: 0\n",
      "_________________________________________________________________\n"
     ]
    }
   ],
   "source": [
    "model.summary()"
   ]
  },
  {
   "cell_type": "code",
   "execution_count": 63,
   "metadata": {},
   "outputs": [
    {
     "name": "stdout",
     "output_type": "stream",
     "text": [
      "Epoch 1/50\n",
      "755/755 [==============================] - 4s 6ms/step - loss: 0.2035 - accuracy: 0.9525 - val_loss: 0.0819 - val_accuracy: 0.9853\n",
      "Epoch 2/50\n",
      "755/755 [==============================] - 4s 5ms/step - loss: 0.0831 - accuracy: 0.9851 - val_loss: 0.0755 - val_accuracy: 0.9853\n",
      "Epoch 3/50\n",
      "755/755 [==============================] - 4s 5ms/step - loss: 0.0777 - accuracy: 0.9851 - val_loss: 0.0724 - val_accuracy: 0.9853\n",
      "Epoch 4/50\n",
      "755/755 [==============================] - 4s 5ms/step - loss: 0.0757 - accuracy: 0.9851 - val_loss: 0.0704 - val_accuracy: 0.9853\n",
      "Epoch 5/50\n",
      "755/755 [==============================] - 4s 5ms/step - loss: 0.0718 - accuracy: 0.9851 - val_loss: 0.0690 - val_accuracy: 0.9853\n",
      "Epoch 6/50\n",
      "755/755 [==============================] - 4s 6ms/step - loss: 0.0697 - accuracy: 0.9851 - val_loss: 0.0668 - val_accuracy: 0.9853\n",
      "Epoch 7/50\n",
      "755/755 [==============================] - 4s 5ms/step - loss: 0.0677 - accuracy: 0.9851 - val_loss: 0.0651 - val_accuracy: 0.9853\n",
      "Epoch 8/50\n",
      "755/755 [==============================] - 4s 5ms/step - loss: 0.0646 - accuracy: 0.9851 - val_loss: 0.0627 - val_accuracy: 0.9853\n",
      "Epoch 9/50\n",
      "755/755 [==============================] - 4s 5ms/step - loss: 0.0618 - accuracy: 0.9852 - val_loss: 0.0609 - val_accuracy: 0.9853\n",
      "Epoch 10/50\n",
      "755/755 [==============================] - 4s 5ms/step - loss: 0.0592 - accuracy: 0.9853 - val_loss: 0.0584 - val_accuracy: 0.9854\n",
      "Epoch 11/50\n",
      "755/755 [==============================] - 4s 5ms/step - loss: 0.0570 - accuracy: 0.9854 - val_loss: 0.0566 - val_accuracy: 0.9854\n",
      "Epoch 12/50\n",
      "755/755 [==============================] - 4s 5ms/step - loss: 0.0538 - accuracy: 0.9855 - val_loss: 0.0542 - val_accuracy: 0.9861\n",
      "Epoch 13/50\n",
      "755/755 [==============================] - 4s 5ms/step - loss: 0.0522 - accuracy: 0.9862 - val_loss: 0.0520 - val_accuracy: 0.9861\n",
      "Epoch 14/50\n",
      "755/755 [==============================] - 4s 5ms/step - loss: 0.0487 - accuracy: 0.9865 - val_loss: 0.0496 - val_accuracy: 0.9862\n",
      "Epoch 15/50\n",
      "755/755 [==============================] - 3s 5ms/step - loss: 0.0461 - accuracy: 0.9872 - val_loss: 0.0475 - val_accuracy: 0.9864\n",
      "Epoch 16/50\n",
      "755/755 [==============================] - 3s 5ms/step - loss: 0.0442 - accuracy: 0.9871 - val_loss: 0.0459 - val_accuracy: 0.9867\n",
      "Epoch 17/50\n",
      "755/755 [==============================] - 4s 5ms/step - loss: 0.0418 - accuracy: 0.9879 - val_loss: 0.0440 - val_accuracy: 0.9862\n",
      "Epoch 18/50\n",
      "755/755 [==============================] - 4s 5ms/step - loss: 0.0395 - accuracy: 0.9884 - val_loss: 0.0431 - val_accuracy: 0.9864\n",
      "Epoch 19/50\n",
      "755/755 [==============================] - 4s 5ms/step - loss: 0.0384 - accuracy: 0.9890 - val_loss: 0.0412 - val_accuracy: 0.9876\n",
      "Epoch 20/50\n",
      "755/755 [==============================] - 4s 5ms/step - loss: 0.0374 - accuracy: 0.9891 - val_loss: 0.0406 - val_accuracy: 0.9869\n",
      "Epoch 21/50\n",
      "755/755 [==============================] - 4s 5ms/step - loss: 0.0361 - accuracy: 0.9898 - val_loss: 0.0406 - val_accuracy: 0.9867\n",
      "Epoch 22/50\n",
      "755/755 [==============================] - 4s 6ms/step - loss: 0.0341 - accuracy: 0.9901 - val_loss: 0.0397 - val_accuracy: 0.9869\n",
      "Epoch 23/50\n",
      "755/755 [==============================] - 4s 5ms/step - loss: 0.0335 - accuracy: 0.9905 - val_loss: 0.0399 - val_accuracy: 0.9869\n",
      "Epoch 24/50\n",
      "755/755 [==============================] - 3s 4ms/step - loss: 0.0326 - accuracy: 0.9906 - val_loss: 0.0387 - val_accuracy: 0.9889\n",
      "Epoch 25/50\n",
      "755/755 [==============================] - 3s 4ms/step - loss: 0.0324 - accuracy: 0.9913 - val_loss: 0.0385 - val_accuracy: 0.9889\n",
      "Epoch 26/50\n",
      "755/755 [==============================] - 3s 5ms/step - loss: 0.0308 - accuracy: 0.9915 - val_loss: 0.0380 - val_accuracy: 0.9886\n",
      "Epoch 27/50\n",
      "755/755 [==============================] - 3s 5ms/step - loss: 0.0305 - accuracy: 0.9920 - val_loss: 0.0379 - val_accuracy: 0.9889\n",
      "Epoch 28/50\n",
      "755/755 [==============================] - 3s 4ms/step - loss: 0.0304 - accuracy: 0.9923 - val_loss: 0.0386 - val_accuracy: 0.9874\n",
      "Epoch 29/50\n",
      "755/755 [==============================] - 3s 4ms/step - loss: 0.0289 - accuracy: 0.9921 - val_loss: 0.0376 - val_accuracy: 0.9896\n",
      "Epoch 30/50\n",
      "755/755 [==============================] - 3s 4ms/step - loss: 0.0282 - accuracy: 0.9927 - val_loss: 0.0380 - val_accuracy: 0.9889\n",
      "Epoch 31/50\n",
      "755/755 [==============================] - 4s 5ms/step - loss: 0.0279 - accuracy: 0.9926 - val_loss: 0.0380 - val_accuracy: 0.9877\n",
      "Epoch 32/50\n",
      "755/755 [==============================] - 3s 5ms/step - loss: 0.0276 - accuracy: 0.9933 - val_loss: 0.0383 - val_accuracy: 0.9876\n",
      "Epoch 33/50\n",
      "755/755 [==============================] - 3s 4ms/step - loss: 0.0276 - accuracy: 0.9930 - val_loss: 0.0367 - val_accuracy: 0.9891\n",
      "Epoch 34/50\n",
      "755/755 [==============================] - 4s 5ms/step - loss: 0.0269 - accuracy: 0.9931 - val_loss: 0.0378 - val_accuracy: 0.9889\n",
      "Epoch 35/50\n",
      "755/755 [==============================] - 4s 5ms/step - loss: 0.0268 - accuracy: 0.9932 - val_loss: 0.0376 - val_accuracy: 0.9892\n",
      "Epoch 36/50\n",
      "755/755 [==============================] - 4s 5ms/step - loss: 0.0263 - accuracy: 0.9932 - val_loss: 0.0371 - val_accuracy: 0.9891\n",
      "Epoch 37/50\n",
      "755/755 [==============================] - 4s 5ms/step - loss: 0.0256 - accuracy: 0.9935 - val_loss: 0.0374 - val_accuracy: 0.9896\n",
      "Epoch 38/50\n",
      "755/755 [==============================] - 3s 5ms/step - loss: 0.0245 - accuracy: 0.9939 - val_loss: 0.0367 - val_accuracy: 0.9887\n",
      "Epoch 39/50\n",
      "755/755 [==============================] - 4s 5ms/step - loss: 0.0249 - accuracy: 0.9937 - val_loss: 0.0375 - val_accuracy: 0.9887\n",
      "Epoch 40/50\n",
      "755/755 [==============================] - 4s 5ms/step - loss: 0.0243 - accuracy: 0.9935 - val_loss: 0.0378 - val_accuracy: 0.9891\n",
      "Epoch 41/50\n",
      "755/755 [==============================] - 3s 5ms/step - loss: 0.0241 - accuracy: 0.9938 - val_loss: 0.0381 - val_accuracy: 0.9892\n",
      "Epoch 42/50\n",
      "755/755 [==============================] - 3s 5ms/step - loss: 0.0241 - accuracy: 0.9940 - val_loss: 0.0385 - val_accuracy: 0.9886\n",
      "Epoch 43/50\n",
      "755/755 [==============================] - 3s 5ms/step - loss: 0.0237 - accuracy: 0.9942 - val_loss: 0.0393 - val_accuracy: 0.9889\n",
      "Epoch 44/50\n",
      "755/755 [==============================] - 4s 5ms/step - loss: 0.0229 - accuracy: 0.9943 - val_loss: 0.0384 - val_accuracy: 0.9884\n",
      "Epoch 45/50\n",
      "755/755 [==============================] - 4s 5ms/step - loss: 0.0223 - accuracy: 0.9945 - val_loss: 0.0386 - val_accuracy: 0.9889\n",
      "Epoch 46/50\n",
      "755/755 [==============================] - 4s 5ms/step - loss: 0.0224 - accuracy: 0.9944 - val_loss: 0.0369 - val_accuracy: 0.9892\n",
      "Epoch 47/50\n",
      "755/755 [==============================] - 4s 5ms/step - loss: 0.0219 - accuracy: 0.9943 - val_loss: 0.0384 - val_accuracy: 0.9879\n",
      "Epoch 48/50\n",
      "755/755 [==============================] - 4s 5ms/step - loss: 0.0216 - accuracy: 0.9947 - val_loss: 0.0390 - val_accuracy: 0.9886\n",
      "Epoch 49/50\n",
      "755/755 [==============================] - 4s 6ms/step - loss: 0.0217 - accuracy: 0.9948 - val_loss: 0.0375 - val_accuracy: 0.9889\n",
      "Epoch 50/50\n",
      "755/755 [==============================] - 5s 6ms/step - loss: 0.0205 - accuracy: 0.9947 - val_loss: 0.0390 - val_accuracy: 0.9887\n"
     ]
    }
   ],
   "source": [
    "history = model.fit(X_train, y_train, epochs = 50, batch_size = 32, verbose = 1, validation_split = 0.2)"
   ]
  },
  {
   "cell_type": "code",
   "execution_count": 64,
   "metadata": {},
   "outputs": [],
   "source": [
    "epochs = history.epoch\n",
    "\n",
    "loss = history.history['loss']\n",
    "validation_loss = history.history['val_loss']\n",
    "\n",
    "acc = history.history['accuracy']\n",
    "validation_acc = history.history['val_accuracy']"
   ]
  },
  {
   "cell_type": "code",
   "execution_count": 65,
   "metadata": {},
   "outputs": [
    {
     "data": {
      "text/plain": [
       "<matplotlib.legend.Legend at 0x2474caf8f88>"
      ]
     },
     "execution_count": 65,
     "metadata": {},
     "output_type": "execute_result"
    },
    {
     "data": {
      "image/png": "[encoded data removed]",
      "text/plain": [
       "<Figure size 1080x360 with 2 Axes>"
      ]
     },
     "metadata": {
      "needs_background": "light"
     },
     "output_type": "display_data"
    }
   ],
   "source": [
    "fig = plt.figure(figsize=(15, 5))\n",
    "\n",
    "plt.subplot(1,2,1)\n",
    "plt.title('Loss')\n",
    "plt.xlabel('Epochs')\n",
    "plt.ylabel('Loss')\n",
    "plt.plot(epochs, loss, c='red', label='training')\n",
    "plt.plot(epochs, validation_loss, c='blue', label='validation')\n",
    "plt.legend(loc='best')\n",
    "\n",
    "plt.subplot(1,2,2)\n",
    "plt.title('Accuracy')\n",
    "plt.xlabel('Epochs')\n",
    "plt.ylabel('Acccuracy')\n",
    "plt.plot(epochs, acc, c='red', label='training')\n",
    "plt.plot(epochs, validation_acc, c='blue', label='validation')\n",
    "plt.legend(loc='best')"
   ]
  },
  {
   "cell_type": "markdown",
   "metadata": {},
   "source": [
    "## Neural network evaluation"
   ]
  },
  {
   "cell_type": "code",
   "execution_count": 66,
   "metadata": {},
   "outputs": [],
   "source": [
    "final_model = Sequential()\n",
    "final_model.add(Dense(units=100, input_dim=number_of_features, activation='relu'))\n",
    "final_model.add(Dense(units=40, activation='relu'))\n",
    "final_model.add(Dense(units=20, activation='relu'))\n",
    "final_model.add(Dropout(0.1))\n",
    "final_model.add(Dense(units=output_size, activation='sigmoid'))\n",
    "final_model.compile(optimizers.Adam(learning_rate = 0.0001), loss=losses.BinaryCrossentropy(), metrics=['accuracy'])"
   ]
  },
  {
   "cell_type": "code",
   "execution_count": 67,
   "metadata": {},
   "outputs": [
    {
     "name": "stdout",
     "output_type": "stream",
     "text": [
      "Epoch 1/50\n",
      "944/944 [==============================] - 5s 5ms/step - loss: 0.2340 - accuracy: 0.9067\n",
      "Epoch 2/50\n",
      "944/944 [==============================] - 5s 5ms/step - loss: 0.0813 - accuracy: 0.9852\n",
      "Epoch 3/50\n",
      "944/944 [==============================] - 5s 5ms/step - loss: 0.0752 - accuracy: 0.9852\n",
      "Epoch 4/50\n",
      "944/944 [==============================] - 4s 5ms/step - loss: 0.0724 - accuracy: 0.9852\n",
      "Epoch 5/50\n",
      "944/944 [==============================] - 5s 5ms/step - loss: 0.0688 - accuracy: 0.9852\n",
      "Epoch 6/50\n",
      "944/944 [==============================] - 4s 5ms/step - loss: 0.0655 - accuracy: 0.9852\n",
      "Epoch 7/50\n",
      "944/944 [==============================] - 4s 4ms/step - loss: 0.0630 - accuracy: 0.9852\n",
      "Epoch 8/50\n",
      "944/944 [==============================] - 5s 5ms/step - loss: 0.0606 - accuracy: 0.9854\n",
      "Epoch 9/50\n",
      "944/944 [==============================] - 5s 6ms/step - loss: 0.0570 - accuracy: 0.9856\n",
      "Epoch 10/50\n",
      "944/944 [==============================] - 4s 4ms/step - loss: 0.0541 - accuracy: 0.9861\n",
      "Epoch 11/50\n",
      "944/944 [==============================] - 5s 6ms/step - loss: 0.0508 - accuracy: 0.9862\n",
      "Epoch 12/50\n",
      "944/944 [==============================] - 5s 5ms/step - loss: 0.0480 - accuracy: 0.9868\n",
      "Epoch 13/50\n",
      "944/944 [==============================] - 4s 4ms/step - loss: 0.0452 - accuracy: 0.9872\n",
      "Epoch 14/50\n",
      "944/944 [==============================] - 4s 4ms/step - loss: 0.0424 - accuracy: 0.9883\n",
      "Epoch 15/50\n",
      "944/944 [==============================] - 4s 4ms/step - loss: 0.0401 - accuracy: 0.9887\n",
      "Epoch 16/50\n",
      "944/944 [==============================] - 4s 4ms/step - loss: 0.0378 - accuracy: 0.9897\n",
      "Epoch 17/50\n",
      "944/944 [==============================] - 4s 4ms/step - loss: 0.0369 - accuracy: 0.9900\n",
      "Epoch 18/50\n",
      "944/944 [==============================] - 4s 4ms/step - loss: 0.0351 - accuracy: 0.9905\n",
      "Epoch 19/50\n",
      "944/944 [==============================] - 4s 4ms/step - loss: 0.0334 - accuracy: 0.9904\n",
      "Epoch 20/50\n",
      "944/944 [==============================] - 4s 4ms/step - loss: 0.0327 - accuracy: 0.9911\n",
      "Epoch 21/50\n",
      "944/944 [==============================] - 4s 4ms/step - loss: 0.0322 - accuracy: 0.9912\n",
      "Epoch 22/50\n",
      "944/944 [==============================] - 4s 4ms/step - loss: 0.0317 - accuracy: 0.9914\n",
      "Epoch 23/50\n",
      "944/944 [==============================] - 5s 5ms/step - loss: 0.0298 - accuracy: 0.9919\n",
      "Epoch 24/50\n",
      "944/944 [==============================] - 5s 5ms/step - loss: 0.0296 - accuracy: 0.9921\n",
      "Epoch 25/50\n",
      "944/944 [==============================] - 5s 5ms/step - loss: 0.0283 - accuracy: 0.9920\n",
      "Epoch 26/50\n",
      "944/944 [==============================] - 5s 5ms/step - loss: 0.0290 - accuracy: 0.9924\n",
      "Epoch 27/50\n",
      "944/944 [==============================] - 5s 5ms/step - loss: 0.0277 - accuracy: 0.9933\n",
      "Epoch 28/50\n",
      "944/944 [==============================] - 4s 5ms/step - loss: 0.0277 - accuracy: 0.9930\n",
      "Epoch 29/50\n",
      "944/944 [==============================] - 4s 4ms/step - loss: 0.0272 - accuracy: 0.9924\n",
      "Epoch 30/50\n",
      "944/944 [==============================] - 4s 4ms/step - loss: 0.0267 - accuracy: 0.9933\n",
      "Epoch 31/50\n",
      "944/944 [==============================] - 5s 6ms/step - loss: 0.0263 - accuracy: 0.9935\n",
      "Epoch 32/50\n",
      "944/944 [==============================] - 5s 5ms/step - loss: 0.0254 - accuracy: 0.9936\n",
      "Epoch 33/50\n",
      "944/944 [==============================] - 4s 4ms/step - loss: 0.0251 - accuracy: 0.9935\n",
      "Epoch 34/50\n",
      "944/944 [==============================] - 4s 4ms/step - loss: 0.0244 - accuracy: 0.9942\n",
      "Epoch 35/50\n",
      "944/944 [==============================] - 5s 5ms/step - loss: 0.0247 - accuracy: 0.9936\n",
      "Epoch 36/50\n",
      "944/944 [==============================] - 4s 4ms/step - loss: 0.0238 - accuracy: 0.9941\n",
      "Epoch 37/50\n",
      "944/944 [==============================] - 4s 4ms/step - loss: 0.0233 - accuracy: 0.9944\n",
      "Epoch 38/50\n",
      "944/944 [==============================] - 4s 4ms/step - loss: 0.0229 - accuracy: 0.9946\n",
      "Epoch 39/50\n",
      "944/944 [==============================] - 5s 5ms/step - loss: 0.0231 - accuracy: 0.9945\n",
      "Epoch 40/50\n",
      "944/944 [==============================] - 4s 4ms/step - loss: 0.0222 - accuracy: 0.9945\n",
      "Epoch 41/50\n",
      "944/944 [==============================] - 4s 4ms/step - loss: 0.0215 - accuracy: 0.9947\n",
      "Epoch 42/50\n",
      "944/944 [==============================] - 4s 4ms/step - loss: 0.0215 - accuracy: 0.9949\n",
      "Epoch 43/50\n",
      "944/944 [==============================] - 4s 5ms/step - loss: 0.0205 - accuracy: 0.9947\n",
      "Epoch 44/50\n",
      "944/944 [==============================] - 4s 4ms/step - loss: 0.0209 - accuracy: 0.9949\n",
      "Epoch 45/50\n",
      "944/944 [==============================] - 4s 4ms/step - loss: 0.0208 - accuracy: 0.9952\n",
      "Epoch 46/50\n",
      "944/944 [==============================] - 4s 4ms/step - loss: 0.0198 - accuracy: 0.9951\n",
      "Epoch 47/50\n",
      "944/944 [==============================] - 4s 4ms/step - loss: 0.0200 - accuracy: 0.9953\n",
      "Epoch 48/50\n",
      "944/944 [==============================] - 4s 4ms/step - loss: 0.0192 - accuracy: 0.9953\n",
      "Epoch 49/50\n",
      "944/944 [==============================] - 4s 4ms/step - loss: 0.0189 - accuracy: 0.9950\n",
      "Epoch 50/50\n",
      "944/944 [==============================] - 4s 4ms/step - loss: 0.0189 - accuracy: 0.9957\n"
     ]
    }
   ],
   "source": [
    "history = final_model.fit(X_train, y_train, epochs=50, batch_size=32, verbose = 1)"
   ]
  },
  {
   "cell_type": "code",
   "execution_count": 68,
   "metadata": {},
   "outputs": [
    {
     "name": "stdout",
     "output_type": "stream",
     "text": [
      "465/465 [==============================] - 1s 3ms/step - loss: 0.0350 - accuracy: 0.9886\n",
      "Test loss: 0.03500482067465782, test accuracy: 0.988631010055542\n"
     ]
    }
   ],
   "source": [
    "test_loss, test_accuracy = final_model.evaluate(X_test, y_test)\n",
    "print (\"Test loss: {}, test accuracy: {}\".format(test_loss, test_accuracy))"
   ]
  },
  {
   "cell_type": "code",
   "execution_count": 69,
   "metadata": {},
   "outputs": [
    {
     "name": "stdout",
     "output_type": "stream",
     "text": [
      "944/944 [==============================] - 3s 3ms/step - loss: 0.0170 - accuracy: 0.9963\n",
      "Train loss: 0.016966216266155243, train accuracy: 0.9962556958198547\n"
     ]
    }
   ],
   "source": [
    "train_loss, train_accuracy = final_model.evaluate(X_train, y_train)\n",
    "print (\"Train loss: {}, train accuracy: {}\".format(train_loss, train_accuracy))"
   ]
  },
  {
   "cell_type": "code",
   "execution_count": 70,
   "metadata": {},
   "outputs": [],
   "source": [
    "epochs = history.epoch\n",
    "loss = history.history['loss']\n",
    "acc = history.history['accuracy']"
   ]
  },
  {
   "cell_type": "code",
   "execution_count": 71,
   "metadata": {},
   "outputs": [
    {
     "data": {
      "text/plain": [
       "<matplotlib.legend.Legend at 0x24747895588>"
      ]
     },
     "execution_count": 71,
     "metadata": {},
     "output_type": "execute_result"
    },
    {
     "data": {
      "image/png": "[encoded data removed]",
      "text/plain": [
       "<Figure size 1080x360 with 2 Axes>"
      ]
     },
     "metadata": {
      "needs_background": "light"
     },
     "output_type": "display_data"
    }
   ],
   "source": [
    "fig = plt.figure(figsize=(15, 5))\n",
    "\n",
    "plt.subplot(1, 2, 1)\n",
    "plt.title('Loss')\n",
    "plt.xlabel('Epochs')\n",
    "plt.ylabel('Loss')\n",
    "plt.plot(epochs, loss, c='red', label='test loss')\n",
    "plt.legend(loc='best')\n",
    "\n",
    "plt.subplot(1, 2, 2)\n",
    "plt.title('Accuracy')\n",
    "plt.xlabel('Epochs')\n",
    "plt.ylabel('Acccuracy')\n",
    "plt.plot(epochs, acc, c='blue', label = 'test accuracy')\n",
    "plt.legend(loc='best')"
   ]
  },
  {
   "cell_type": "code",
   "execution_count": null,
   "metadata": {},
   "outputs": [],
   "source": []
  },
  {
   "cell_type": "markdown",
   "metadata": {},
   "source": [
    "### Oversampling \n",
    "Since the data is not balanced I will do Oversampling"
   ]
  },
  {
   "cell_type": "code",
   "execution_count": 87,
   "metadata": {},
   "outputs": [
    {
     "name": "stdout",
     "output_type": "stream",
     "text": [
      "With Delay:  44376      Without Delay:  668\n"
     ]
    }
   ],
   "source": [
    "wd = np.sum(y == 0)\n",
    "d = np.sum(y == 1)\n",
    "print('With Delay: ', d , '     Without Delay: ', wd)"
   ]
  },
  {
   "cell_type": "code",
   "execution_count": 88,
   "metadata": {},
   "outputs": [
    {
     "data": {
      "text/plain": [
       "1    44376\n",
       "0      668\n",
       "Name: Delay, dtype: int64"
      ]
     },
     "execution_count": 88,
     "metadata": {},
     "output_type": "execute_result"
    }
   ],
   "source": [
    "y.value_counts()"
   ]
  },
  {
   "cell_type": "code",
   "execution_count": 89,
   "metadata": {},
   "outputs": [
    {
     "data": {
      "text/html": [
       "<div>\n",
       "<style scoped>\n",
       "    .dataframe tbody tr th:only-of-type {\n",
       "        vertical-align: middle;\n",
       "    }\n",
       "\n",
       "    .dataframe tbody tr th {\n",
       "        vertical-align: top;\n",
       "    }\n",
       "\n",
       "    .dataframe thead th {\n",
       "        text-align: right;\n",
       "    }\n",
       "</style>\n",
       "<table border=\"1\" class=\"dataframe\">\n",
       "  <thead>\n",
       "    <tr style=\"text-align: right;\">\n",
       "      <th></th>\n",
       "      <th>Route</th>\n",
       "      <th>Min Gap</th>\n",
       "      <th>Vehicle</th>\n",
       "      <th>Direction_e</th>\n",
       "      <th>Direction_n</th>\n",
       "      <th>Direction_s</th>\n",
       "      <th>Direction_w</th>\n",
       "      <th>Incident_Diversion</th>\n",
       "      <th>Incident_Emergency Services</th>\n",
       "      <th>Incident_General Delay</th>\n",
       "      <th>...</th>\n",
       "      <th>Day_Monday</th>\n",
       "      <th>Day_Saturday</th>\n",
       "      <th>Day_Sunday</th>\n",
       "      <th>Day_Thursday</th>\n",
       "      <th>Day_Tuesday</th>\n",
       "      <th>Day_Wednesday</th>\n",
       "      <th>Year</th>\n",
       "      <th>Month</th>\n",
       "      <th>Day</th>\n",
       "      <th>Hour</th>\n",
       "    </tr>\n",
       "  </thead>\n",
       "  <tbody>\n",
       "    <tr>\n",
       "      <td>0</td>\n",
       "      <td>505</td>\n",
       "      <td>8</td>\n",
       "      <td>4018</td>\n",
       "      <td>1</td>\n",
       "      <td>0</td>\n",
       "      <td>0</td>\n",
       "      <td>0</td>\n",
       "      <td>0</td>\n",
       "      <td>0</td>\n",
       "      <td>0</td>\n",
       "      <td>...</td>\n",
       "      <td>0</td>\n",
       "      <td>0</td>\n",
       "      <td>0</td>\n",
       "      <td>1</td>\n",
       "      <td>0</td>\n",
       "      <td>0</td>\n",
       "      <td>2014</td>\n",
       "      <td>1</td>\n",
       "      <td>2</td>\n",
       "      <td>6</td>\n",
       "    </tr>\n",
       "    <tr>\n",
       "      <td>1</td>\n",
       "      <td>504</td>\n",
       "      <td>22</td>\n",
       "      <td>4128</td>\n",
       "      <td>1</td>\n",
       "      <td>0</td>\n",
       "      <td>0</td>\n",
       "      <td>0</td>\n",
       "      <td>0</td>\n",
       "      <td>0</td>\n",
       "      <td>0</td>\n",
       "      <td>...</td>\n",
       "      <td>0</td>\n",
       "      <td>0</td>\n",
       "      <td>0</td>\n",
       "      <td>1</td>\n",
       "      <td>0</td>\n",
       "      <td>0</td>\n",
       "      <td>2014</td>\n",
       "      <td>1</td>\n",
       "      <td>2</td>\n",
       "      <td>12</td>\n",
       "    </tr>\n",
       "    <tr>\n",
       "      <td>2</td>\n",
       "      <td>501</td>\n",
       "      <td>19</td>\n",
       "      <td>4016</td>\n",
       "      <td>0</td>\n",
       "      <td>0</td>\n",
       "      <td>0</td>\n",
       "      <td>1</td>\n",
       "      <td>0</td>\n",
       "      <td>0</td>\n",
       "      <td>0</td>\n",
       "      <td>...</td>\n",
       "      <td>0</td>\n",
       "      <td>0</td>\n",
       "      <td>0</td>\n",
       "      <td>1</td>\n",
       "      <td>0</td>\n",
       "      <td>0</td>\n",
       "      <td>2014</td>\n",
       "      <td>1</td>\n",
       "      <td>2</td>\n",
       "      <td>14</td>\n",
       "    </tr>\n",
       "    <tr>\n",
       "      <td>3</td>\n",
       "      <td>504</td>\n",
       "      <td>11</td>\n",
       "      <td>4175</td>\n",
       "      <td>0</td>\n",
       "      <td>0</td>\n",
       "      <td>0</td>\n",
       "      <td>1</td>\n",
       "      <td>0</td>\n",
       "      <td>0</td>\n",
       "      <td>0</td>\n",
       "      <td>...</td>\n",
       "      <td>0</td>\n",
       "      <td>0</td>\n",
       "      <td>0</td>\n",
       "      <td>1</td>\n",
       "      <td>0</td>\n",
       "      <td>0</td>\n",
       "      <td>2014</td>\n",
       "      <td>1</td>\n",
       "      <td>2</td>\n",
       "      <td>14</td>\n",
       "    </tr>\n",
       "    <tr>\n",
       "      <td>4</td>\n",
       "      <td>504</td>\n",
       "      <td>6</td>\n",
       "      <td>4080</td>\n",
       "      <td>1</td>\n",
       "      <td>0</td>\n",
       "      <td>0</td>\n",
       "      <td>0</td>\n",
       "      <td>0</td>\n",
       "      <td>0</td>\n",
       "      <td>0</td>\n",
       "      <td>...</td>\n",
       "      <td>0</td>\n",
       "      <td>0</td>\n",
       "      <td>0</td>\n",
       "      <td>1</td>\n",
       "      <td>0</td>\n",
       "      <td>0</td>\n",
       "      <td>2014</td>\n",
       "      <td>1</td>\n",
       "      <td>2</td>\n",
       "      <td>16</td>\n",
       "    </tr>\n",
       "    <tr>\n",
       "      <td>...</td>\n",
       "      <td>...</td>\n",
       "      <td>...</td>\n",
       "      <td>...</td>\n",
       "      <td>...</td>\n",
       "      <td>...</td>\n",
       "      <td>...</td>\n",
       "      <td>...</td>\n",
       "      <td>...</td>\n",
       "      <td>...</td>\n",
       "      <td>...</td>\n",
       "      <td>...</td>\n",
       "      <td>...</td>\n",
       "      <td>...</td>\n",
       "      <td>...</td>\n",
       "      <td>...</td>\n",
       "      <td>...</td>\n",
       "      <td>...</td>\n",
       "      <td>...</td>\n",
       "      <td>...</td>\n",
       "      <td>...</td>\n",
       "      <td>...</td>\n",
       "    </tr>\n",
       "    <tr>\n",
       "      <td>45039</td>\n",
       "      <td>505</td>\n",
       "      <td>16</td>\n",
       "      <td>4164</td>\n",
       "      <td>1</td>\n",
       "      <td>0</td>\n",
       "      <td>0</td>\n",
       "      <td>0</td>\n",
       "      <td>0</td>\n",
       "      <td>0</td>\n",
       "      <td>0</td>\n",
       "      <td>...</td>\n",
       "      <td>0</td>\n",
       "      <td>0</td>\n",
       "      <td>1</td>\n",
       "      <td>0</td>\n",
       "      <td>0</td>\n",
       "      <td>0</td>\n",
       "      <td>2017</td>\n",
       "      <td>12</td>\n",
       "      <td>31</td>\n",
       "      <td>9</td>\n",
       "    </tr>\n",
       "    <tr>\n",
       "      <td>45040</td>\n",
       "      <td>501</td>\n",
       "      <td>24</td>\n",
       "      <td>4110</td>\n",
       "      <td>0</td>\n",
       "      <td>0</td>\n",
       "      <td>0</td>\n",
       "      <td>1</td>\n",
       "      <td>0</td>\n",
       "      <td>0</td>\n",
       "      <td>0</td>\n",
       "      <td>...</td>\n",
       "      <td>0</td>\n",
       "      <td>0</td>\n",
       "      <td>1</td>\n",
       "      <td>0</td>\n",
       "      <td>0</td>\n",
       "      <td>0</td>\n",
       "      <td>2017</td>\n",
       "      <td>12</td>\n",
       "      <td>31</td>\n",
       "      <td>11</td>\n",
       "    </tr>\n",
       "    <tr>\n",
       "      <td>45041</td>\n",
       "      <td>501</td>\n",
       "      <td>24</td>\n",
       "      <td>1419</td>\n",
       "      <td>0</td>\n",
       "      <td>0</td>\n",
       "      <td>0</td>\n",
       "      <td>1</td>\n",
       "      <td>0</td>\n",
       "      <td>0</td>\n",
       "      <td>0</td>\n",
       "      <td>...</td>\n",
       "      <td>0</td>\n",
       "      <td>0</td>\n",
       "      <td>1</td>\n",
       "      <td>0</td>\n",
       "      <td>0</td>\n",
       "      <td>0</td>\n",
       "      <td>2017</td>\n",
       "      <td>12</td>\n",
       "      <td>31</td>\n",
       "      <td>11</td>\n",
       "    </tr>\n",
       "    <tr>\n",
       "      <td>45042</td>\n",
       "      <td>510</td>\n",
       "      <td>10</td>\n",
       "      <td>4447</td>\n",
       "      <td>0</td>\n",
       "      <td>0</td>\n",
       "      <td>1</td>\n",
       "      <td>0</td>\n",
       "      <td>0</td>\n",
       "      <td>0</td>\n",
       "      <td>0</td>\n",
       "      <td>...</td>\n",
       "      <td>0</td>\n",
       "      <td>0</td>\n",
       "      <td>1</td>\n",
       "      <td>0</td>\n",
       "      <td>0</td>\n",
       "      <td>0</td>\n",
       "      <td>2017</td>\n",
       "      <td>12</td>\n",
       "      <td>31</td>\n",
       "      <td>11</td>\n",
       "    </tr>\n",
       "    <tr>\n",
       "      <td>45043</td>\n",
       "      <td>505</td>\n",
       "      <td>16</td>\n",
       "      <td>4167</td>\n",
       "      <td>0</td>\n",
       "      <td>1</td>\n",
       "      <td>0</td>\n",
       "      <td>0</td>\n",
       "      <td>0</td>\n",
       "      <td>0</td>\n",
       "      <td>0</td>\n",
       "      <td>...</td>\n",
       "      <td>0</td>\n",
       "      <td>0</td>\n",
       "      <td>1</td>\n",
       "      <td>0</td>\n",
       "      <td>0</td>\n",
       "      <td>0</td>\n",
       "      <td>2017</td>\n",
       "      <td>12</td>\n",
       "      <td>31</td>\n",
       "      <td>11</td>\n",
       "    </tr>\n",
       "  </tbody>\n",
       "</table>\n",
       "<p>45044 rows × 27 columns</p>\n",
       "</div>"
      ],
      "text/plain": [
       "       Route  Min Gap  Vehicle  Direction_e  Direction_n  Direction_s  \\\n",
       "0        505        8     4018            1            0            0   \n",
       "1        504       22     4128            1            0            0   \n",
       "2        501       19     4016            0            0            0   \n",
       "3        504       11     4175            0            0            0   \n",
       "4        504        6     4080            1            0            0   \n",
       "...      ...      ...      ...          ...          ...          ...   \n",
       "45039    505       16     4164            1            0            0   \n",
       "45040    501       24     4110            0            0            0   \n",
       "45041    501       24     1419            0            0            0   \n",
       "45042    510       10     4447            0            0            1   \n",
       "45043    505       16     4167            0            1            0   \n",
       "\n",
       "       Direction_w  Incident_Diversion  Incident_Emergency Services  \\\n",
       "0                0                   0                            0   \n",
       "1                0                   0                            0   \n",
       "2                1                   0                            0   \n",
       "3                1                   0                            0   \n",
       "4                0                   0                            0   \n",
       "...            ...                 ...                          ...   \n",
       "45039            0                   0                            0   \n",
       "45040            1                   0                            0   \n",
       "45041            1                   0                            0   \n",
       "45042            0                   0                            0   \n",
       "45043            0                   0                            0   \n",
       "\n",
       "       Incident_General Delay  ...  Day_Monday  Day_Saturday  Day_Sunday  \\\n",
       "0                           0  ...           0             0           0   \n",
       "1                           0  ...           0             0           0   \n",
       "2                           0  ...           0             0           0   \n",
       "3                           0  ...           0             0           0   \n",
       "4                           0  ...           0             0           0   \n",
       "...                       ...  ...         ...           ...         ...   \n",
       "45039                       0  ...           0             0           1   \n",
       "45040                       0  ...           0             0           1   \n",
       "45041                       0  ...           0             0           1   \n",
       "45042                       0  ...           0             0           1   \n",
       "45043                       0  ...           0             0           1   \n",
       "\n",
       "       Day_Thursday  Day_Tuesday  Day_Wednesday  Year  Month  Day  Hour  \n",
       "0                 1            0              0  2014      1    2     6  \n",
       "1                 1            0              0  2014      1    2    12  \n",
       "2                 1            0              0  2014      1    2    14  \n",
       "3                 1            0              0  2014      1    2    14  \n",
       "4                 1            0              0  2014      1    2    16  \n",
       "...             ...          ...            ...   ...    ...  ...   ...  \n",
       "45039             0            0              0  2017     12   31     9  \n",
       "45040             0            0              0  2017     12   31    11  \n",
       "45041             0            0              0  2017     12   31    11  \n",
       "45042             0            0              0  2017     12   31    11  \n",
       "45043             0            0              0  2017     12   31    11  \n",
       "\n",
       "[45044 rows x 27 columns]"
      ]
     },
     "execution_count": 89,
     "metadata": {},
     "output_type": "execute_result"
    }
   ],
   "source": [
    "X"
   ]
  },
  {
   "cell_type": "code",
   "execution_count": 266,
   "metadata": {},
   "outputs": [],
   "source": [
    "ratio = 1/5\n",
    "ros = imblearn.over_sampling.RandomOverSampler(random_state = 0, sampling_strategy = ratio)\n",
    "X_resampled, y_resampled = ros.fit_resample(X, y)"
   ]
  },
  {
   "cell_type": "code",
   "execution_count": 267,
   "metadata": {},
   "outputs": [
    {
     "data": {
      "text/plain": [
       "array([ 8875, 44376], dtype=int64)"
      ]
     },
     "execution_count": 267,
     "metadata": {},
     "output_type": "execute_result"
    }
   ],
   "source": [
    "np.bincount(y_resampled)"
   ]
  },
  {
   "cell_type": "code",
   "execution_count": 268,
   "metadata": {},
   "outputs": [
    {
     "name": "stdout",
     "output_type": "stream",
     "text": [
      "With Delay:  44376      Without Delay:  8875\n"
     ]
    }
   ],
   "source": [
    "wd_resempled = np.sum(y_resampled == 0)\n",
    "d_resempled = np.sum(y_resampled == 1)\n",
    "print('With Delay: ', d_resempled, '     Without Delay: ', wd_resempled)"
   ]
  },
  {
   "cell_type": "code",
   "execution_count": 269,
   "metadata": {},
   "outputs": [
    {
     "data": {
      "text/plain": [
       "<BarContainer object of 2 artists>"
      ]
     },
     "execution_count": 269,
     "metadata": {},
     "output_type": "execute_result"
    },
    {
     "data": {
      "image/png": "[encoded data removed]",
      "text/plain": [
       "<Figure size 720x360 with 2 Axes>"
      ]
     },
     "metadata": {
      "needs_background": "light"
     },
     "output_type": "display_data"
    }
   ],
   "source": [
    "fig = plt.figure(figsize=(10, 5))\n",
    "\n",
    "plt.subplot(1, 2, 1)\n",
    "plt.title('Original data')\n",
    "plt.bar(['Delay', 'No Delay'], [d, wd], color='blue')\n",
    "\n",
    "plt.subplot(1, 2, 2)\n",
    "plt.title('Resempled data')\n",
    "plt.bar(['Delay', 'No Delay'], [d_resempled, wd_resempled], color='blue')\n"
   ]
  },
  {
   "cell_type": "code",
   "execution_count": null,
   "metadata": {},
   "outputs": [],
   "source": []
  },
  {
   "cell_type": "markdown",
   "metadata": {},
   "source": [
    "# Logistic regression"
   ]
  },
  {
   "cell_type": "code",
   "execution_count": 270,
   "metadata": {},
   "outputs": [],
   "source": [
    "X_train_resampled, X_test_resampled, y_train_resampled, y_test_resampled = model_selection.train_test_split(X_resampled, y_resampled, test_size = 0.33, random_state = 7, stratify = y_resampled)"
   ]
  },
  {
   "cell_type": "code",
   "execution_count": 271,
   "metadata": {},
   "outputs": [
    {
     "data": {
      "text/plain": [
       "(35678, 27)"
      ]
     },
     "execution_count": 271,
     "metadata": {},
     "output_type": "execute_result"
    }
   ],
   "source": [
    "X_train_resampled.shape"
   ]
  },
  {
   "cell_type": "code",
   "execution_count": 272,
   "metadata": {},
   "outputs": [
    {
     "data": {
      "text/plain": [
       "(17573, 27)"
      ]
     },
     "execution_count": 272,
     "metadata": {},
     "output_type": "execute_result"
    }
   ],
   "source": [
    "X_test_resampled.shape"
   ]
  },
  {
   "cell_type": "code",
   "execution_count": 273,
   "metadata": {},
   "outputs": [
    {
     "data": {
      "text/plain": [
       "(35678,)"
      ]
     },
     "execution_count": 273,
     "metadata": {},
     "output_type": "execute_result"
    }
   ],
   "source": [
    "y_train_resampled.shape\n",
    "    "
   ]
  },
  {
   "cell_type": "code",
   "execution_count": 274,
   "metadata": {},
   "outputs": [
    {
     "data": {
      "text/plain": [
       "(17573,)"
      ]
     },
     "execution_count": 274,
     "metadata": {},
     "output_type": "execute_result"
    }
   ],
   "source": [
    "y_test_resampled.shape"
   ]
  },
  {
   "cell_type": "code",
   "execution_count": null,
   "metadata": {},
   "outputs": [],
   "source": []
  },
  {
   "cell_type": "code",
   "execution_count": 275,
   "metadata": {},
   "outputs": [],
   "source": [
    "scaler = preprocessing.StandardScaler()\n",
    "scaler.fit(X_train_resampled)\n",
    "X_train_resampled = scaler.transform(X_train_resampled)\n",
    "X_test_resampled = scaler.transform(X_test_resampled)"
   ]
  },
  {
   "cell_type": "code",
   "execution_count": 276,
   "metadata": {},
   "outputs": [
    {
     "name": "stdout",
     "output_type": "stream",
     "text": [
      "Train Delay:  29732      Train Without Delay:  5946\n"
     ]
    }
   ],
   "source": [
    "wd_train_resampled = np.sum(y_train_resampled == 0)\n",
    "d_train_resampled = np.sum(y_train_resampled == 1)\n",
    "print('Train Delay: ', d_train_resampled, '     Train Without Delay: ', wd_train_resampled)"
   ]
  },
  {
   "cell_type": "code",
   "execution_count": 277,
   "metadata": {},
   "outputs": [
    {
     "name": "stdout",
     "output_type": "stream",
     "text": [
      "Test Delay:  14644      Test Without Delay:  2929\n"
     ]
    }
   ],
   "source": [
    "wd_test_resampled = np.sum(y_test_resampled == 0)\n",
    "d_test_resampled = np.sum(y_test_resampled == 1)\n",
    "print('Test Delay: ', d_test_resampled, '     Test Without Delay: ', wd_test_resampled)"
   ]
  },
  {
   "cell_type": "code",
   "execution_count": 278,
   "metadata": {},
   "outputs": [
    {
     "data": {
      "image/png": "[encoded data removed]",
      "text/plain": [
       "<Figure size 504x504 with 1 Axes>"
      ]
     },
     "metadata": {
      "needs_background": "light"
     },
     "output_type": "display_data"
    }
   ],
   "source": [
    "plt.figure(figsize = (7, 7))\n",
    "matplotlib.rc('xtick', labelsize = 12) \n",
    "matplotlib.rc('ytick', labelsize = 12) \n",
    "plt.title(\"Visual inspection of stratification\")\n",
    "plt.xticks([0,1])\n",
    "plt.xlabel('No delay                                                        delay ', fontsize = 15 )\n",
    "plt.hist([y_train_resampled, y_test_resampled], color=['red', 'blue'], label=['training set ',' testing set'])\n",
    "plt.legend(loc='best')\n",
    "plt.show()"
   ]
  },
  {
   "cell_type": "markdown",
   "metadata": {},
   "source": [
    "## Model learning"
   ]
  },
  {
   "cell_type": "code",
   "execution_count": 279,
   "metadata": {},
   "outputs": [],
   "source": [
    "model = linear_model.LogisticRegression(solver='lbfgs')"
   ]
  },
  {
   "cell_type": "code",
   "execution_count": 280,
   "metadata": {},
   "outputs": [
    {
     "data": {
      "text/plain": [
       "LogisticRegression(C=1.0, class_weight=None, dual=False, fit_intercept=True,\n",
       "                   intercept_scaling=1, l1_ratio=None, max_iter=100,\n",
       "                   multi_class='warn', n_jobs=None, penalty='l2',\n",
       "                   random_state=None, solver='lbfgs', tol=0.0001, verbose=0,\n",
       "                   warm_start=False)"
      ]
     },
     "execution_count": 280,
     "metadata": {},
     "output_type": "execute_result"
    }
   ],
   "source": [
    "model.fit(X_train_resampled, y_train_resampled)"
   ]
  },
  {
   "cell_type": "code",
   "execution_count": 281,
   "metadata": {},
   "outputs": [
    {
     "data": {
      "text/plain": [
       "array([5.17079354])"
      ]
     },
     "execution_count": 281,
     "metadata": {},
     "output_type": "execute_result"
    }
   ],
   "source": [
    "model.intercept_"
   ]
  },
  {
   "cell_type": "code",
   "execution_count": 282,
   "metadata": {},
   "outputs": [
    {
     "data": {
      "text/plain": [
       "array([[ 6.29778981e-02,  1.14708951e+01,  6.54499330e-03,\n",
       "         3.59551197e-02, -1.87756874e-02, -1.28568840e-02,\n",
       "        -1.74796787e-02, -1.28943430e-01, -1.61475341e-01,\n",
       "        -2.27560366e-01,  1.01563319e-01, -1.53148182e-01,\n",
       "         2.21024398e-01,  1.13971104e-01,  6.97216797e-02,\n",
       "        -4.28198903e-02, -2.49722580e-02,  4.31955716e-02,\n",
       "        -8.02504304e-02, -8.25125542e-02,  5.19182504e-03,\n",
       "         2.71542884e-02,  8.95223396e-02, -1.52333597e-01,\n",
       "         1.25583904e-02, -3.70282856e-03, -6.55845703e-03]])"
      ]
     },
     "execution_count": 282,
     "metadata": {},
     "output_type": "execute_result"
    }
   ],
   "source": [
    "model.coef_"
   ]
  },
  {
   "cell_type": "markdown",
   "metadata": {},
   "source": [
    "## Evaluation"
   ]
  },
  {
   "cell_type": "code",
   "execution_count": 283,
   "metadata": {},
   "outputs": [],
   "source": [
    "y_test_predicted = model.predict(X_test_resampled)"
   ]
  },
  {
   "cell_type": "code",
   "execution_count": 284,
   "metadata": {},
   "outputs": [],
   "source": [
    "accuracy  = metrics.accuracy_score(  y_test_resampled, y_test_predicted )\n",
    "precision = metrics.precision_score( y_test_resampled, y_test_predicted )\n",
    "recall    = metrics.recall_score(    y_test_resampled, y_test_predicted )\n",
    "f1        = metrics.f1_score(        y_test_resampled, y_test_predicted )"
   ]
  },
  {
   "cell_type": "code",
   "execution_count": 332,
   "metadata": {},
   "outputs": [
    {
     "name": "stdout",
     "output_type": "stream",
     "text": [
      "Accuracy  =  0.9676207818812952\n",
      "Precision =  0.9802770763666143\n",
      "Recall    =  0.9808795411089866\n",
      "F1        =  0.9805782161996109\n"
     ]
    }
   ],
   "source": [
    "print(\"Accuracy  = \" ,  accuracy)\n",
    "print(\"Precision = \" , precision )\n",
    "print(\"Recall    = \" , recall )\n",
    "print(\"F1        = \" , f1 )"
   ]
  },
  {
   "cell_type": "code",
   "execution_count": 286,
   "metadata": {},
   "outputs": [],
   "source": [
    "y_train_predicted = model.predict(X_train_resampled)"
   ]
  },
  {
   "cell_type": "code",
   "execution_count": 287,
   "metadata": {},
   "outputs": [
    {
     "data": {
      "text/plain": [
       "array([0, 1, 0, 1, 1, 0, 1, 1, 1, 1, 1, 1, 1, 1, 1, 1, 0, 1, 1, 1, 1, 0,\n",
       "       1, 1, 1, 1, 1, 0, 1, 1], dtype=int64)"
      ]
     },
     "execution_count": 287,
     "metadata": {},
     "output_type": "execute_result"
    }
   ],
   "source": [
    "y_train_predicted[:30]"
   ]
  },
  {
   "cell_type": "code",
   "execution_count": 288,
   "metadata": {},
   "outputs": [],
   "source": [
    "train_score = metrics.accuracy_score(y_train_resampled, y_train_predicted)\n",
    "test_score  = metrics.accuracy_score(y_test_resampled,  y_test_predicted)"
   ]
  },
  {
   "cell_type": "code",
   "execution_count": 334,
   "metadata": {},
   "outputs": [
    {
     "name": "stdout",
     "output_type": "stream",
     "text": [
      "Accuracy at the training set: 0.9665339985425192\n",
      "Accuracy at the test set:     0.9676207818812952\n"
     ]
    }
   ],
   "source": [
    "print(\"Accuracy at the training set: {train}\\nAccuracy at the test set:     {test}\".format(train=train_score, test=test_score))"
   ]
  },
  {
   "cell_type": "code",
   "execution_count": 335,
   "metadata": {},
   "outputs": [
    {
     "name": "stdout",
     "output_type": "stream",
     "text": [
      "              precision    recall  f1-score   support\n",
      "\n",
      "           0       0.90      0.90      0.90      2929\n",
      "           1       0.98      0.98      0.98     14644\n",
      "\n",
      "    accuracy                           0.97     17573\n",
      "   macro avg       0.94      0.94      0.94     17573\n",
      "weighted avg       0.97      0.97      0.97     17573\n",
      "\n"
     ]
    }
   ],
   "source": [
    "print(metrics.classification_report(y_test_resampled, y_test_predicted))"
   ]
  },
  {
   "cell_type": "code",
   "execution_count": 336,
   "metadata": {},
   "outputs": [
    {
     "data": {
      "text/plain": [
       "array([[ 2640,   289],\n",
       "       [  280, 14364]], dtype=int64)"
      ]
     },
     "execution_count": 336,
     "metadata": {},
     "output_type": "execute_result"
    }
   ],
   "source": [
    "metrics.confusion_matrix(y_test_resampled, y_test_predicted)"
   ]
  },
  {
   "cell_type": "code",
   "execution_count": 337,
   "metadata": {},
   "outputs": [
    {
     "data": {
      "image/png": "[encoded data removed]",
      "text/plain": [
       "<Figure size 720x360 with 1 Axes>"
      ]
     },
     "metadata": {
      "needs_background": "light"
     },
     "output_type": "display_data"
    }
   ],
   "source": [
    "fig = plt.figure(figsize=(10, 5))\n",
    "plt.bar(['accuracy', 'precision', 'recall', 'f1'], [accuracy , precision, recall, f1], color='orangered')\n",
    "plt.title(\"Evaluation Logistic Regression\")\n",
    "plt.yticks(np.arange(0, 1, 0.1)) \n",
    "plt.show()"
   ]
  },
  {
   "cell_type": "markdown",
   "metadata": {},
   "source": [
    "# Neural networks"
   ]
  },
  {
   "cell_type": "code",
   "execution_count": 293,
   "metadata": {},
   "outputs": [],
   "source": [
    "np.random.seed(7)"
   ]
  },
  {
   "cell_type": "markdown",
   "metadata": {},
   "source": [
    "## Creating Neural networks"
   ]
  },
  {
   "cell_type": "markdown",
   "metadata": {},
   "source": [
    "I will create a neural network with advance propagation. <br> The neural network will have an input layer, three hidden layers with, respectively, 100, 40 and 20 neurons, and an output layer. <br> The number of input layer neurons corresponds to the number of attributes of the data set, which is 27. <br> The number of output layer neurons is 1 since it is a binary classification. <br> In hidden layers I will use relu activation function and in the latter sigmoid function. <br> Optimizer Adam will be used. <br> Binary cross entropy as a function of error will be used. <br> Since the task of classification metrics will be accuracy. <br> I will use Dropout regularization for reducing overfitting and improving the generalization. "
   ]
  },
  {
   "cell_type": "code",
   "execution_count": 294,
   "metadata": {},
   "outputs": [],
   "source": [
    "number_of_features = X_train.shape[1]\n",
    "output_size = 1"
   ]
  },
  {
   "cell_type": "code",
   "execution_count": 295,
   "metadata": {},
   "outputs": [
    {
     "data": {
      "text/plain": [
       "27"
      ]
     },
     "execution_count": 295,
     "metadata": {},
     "output_type": "execute_result"
    }
   ],
   "source": [
    "number_of_features"
   ]
  },
  {
   "cell_type": "code",
   "execution_count": 296,
   "metadata": {},
   "outputs": [],
   "source": [
    "model = Sequential()\n",
    "model.add(Dense(units = 100, input_dim = number_of_features, activation = 'relu'))\n",
    "model.add(Dense(units = 40, activation = 'relu'))\n",
    "model.add(Dense(units = 20, activation = 'relu'))\n",
    "model.add(Dropout(0.1))\n",
    "model.add(Dense(units = output_size, activation = 'sigmoid'))"
   ]
  },
  {
   "cell_type": "code",
   "execution_count": 297,
   "metadata": {},
   "outputs": [],
   "source": [
    "model.compile( optimizers.Adam(learning_rate = 0.0001), loss = losses.BinaryCrossentropy(), metrics = ['accuracy'] )"
   ]
  },
  {
   "cell_type": "code",
   "execution_count": 298,
   "metadata": {},
   "outputs": [
    {
     "name": "stdout",
     "output_type": "stream",
     "text": [
      "Model: \"sequential_5\"\n",
      "_________________________________________________________________\n",
      "Layer (type)                 Output Shape              Param #   \n",
      "=================================================================\n",
      "dense_20 (Dense)             (None, 100)               2800      \n",
      "_________________________________________________________________\n",
      "dense_21 (Dense)             (None, 40)                4040      \n",
      "_________________________________________________________________\n",
      "dense_22 (Dense)             (None, 20)                820       \n",
      "_________________________________________________________________\n",
      "dropout_5 (Dropout)          (None, 20)                0         \n",
      "_________________________________________________________________\n",
      "dense_23 (Dense)             (None, 1)                 21        \n",
      "=================================================================\n",
      "Total params: 7,681\n",
      "Trainable params: 7,681\n",
      "Non-trainable params: 0\n",
      "_________________________________________________________________\n"
     ]
    }
   ],
   "source": [
    "model.summary()"
   ]
  },
  {
   "cell_type": "code",
   "execution_count": 299,
   "metadata": {},
   "outputs": [
    {
     "name": "stdout",
     "output_type": "stream",
     "text": [
      "Epoch 1/50\n",
      "892/892 [==============================] - 5s 6ms/step - loss: 0.4369 - accuracy: 0.8294 - val_loss: 0.3813 - val_accuracy: 0.8384\n",
      "Epoch 2/50\n",
      "892/892 [==============================] - 4s 5ms/step - loss: 0.3520 - accuracy: 0.8522 - val_loss: 0.3131 - val_accuracy: 0.8648\n",
      "Epoch 3/50\n",
      "892/892 [==============================] - 4s 5ms/step - loss: 0.2748 - accuracy: 0.8910 - val_loss: 0.2345 - val_accuracy: 0.9177\n",
      "Epoch 4/50\n",
      "892/892 [==============================] - 4s 5ms/step - loss: 0.2087 - accuracy: 0.9371 - val_loss: 0.1891 - val_accuracy: 0.9469\n",
      "Epoch 5/50\n",
      "892/892 [==============================] - 4s 5ms/step - loss: 0.1727 - accuracy: 0.9553 - val_loss: 0.1618 - val_accuracy: 0.9577\n",
      "Epoch 6/50\n",
      "892/892 [==============================] - 5s 5ms/step - loss: 0.1526 - accuracy: 0.9624 - val_loss: 0.1460 - val_accuracy: 0.9636\n",
      "Epoch 7/50\n",
      "892/892 [==============================] - 5s 5ms/step - loss: 0.1390 - accuracy: 0.9662 - val_loss: 0.1365 - val_accuracy: 0.9662\n",
      "Epoch 8/50\n",
      "892/892 [==============================] - 4s 5ms/step - loss: 0.1292 - accuracy: 0.9688 - val_loss: 0.1296 - val_accuracy: 0.9696\n",
      "Epoch 9/50\n",
      "892/892 [==============================] - 4s 5ms/step - loss: 0.1228 - accuracy: 0.9698 - val_loss: 0.1225 - val_accuracy: 0.9692\n",
      "Epoch 10/50\n",
      "892/892 [==============================] - 4s 5ms/step - loss: 0.1153 - accuracy: 0.9718 - val_loss: 0.1159 - val_accuracy: 0.9706\n",
      "Epoch 11/50\n",
      "892/892 [==============================] - 5s 5ms/step - loss: 0.1093 - accuracy: 0.9725 - val_loss: 0.1117 - val_accuracy: 0.9707\n",
      "Epoch 12/50\n",
      "892/892 [==============================] - 4s 5ms/step - loss: 0.1047 - accuracy: 0.9725 - val_loss: 0.1060 - val_accuracy: 0.9716\n",
      "Epoch 13/50\n",
      "892/892 [==============================] - 4s 5ms/step - loss: 0.0999 - accuracy: 0.9729 - val_loss: 0.1021 - val_accuracy: 0.9714\n",
      "Epoch 14/50\n",
      "892/892 [==============================] - 4s 5ms/step - loss: 0.0948 - accuracy: 0.9744 - val_loss: 0.0994 - val_accuracy: 0.9723\n",
      "Epoch 15/50\n",
      "892/892 [==============================] - 4s 5ms/step - loss: 0.0900 - accuracy: 0.9753 - val_loss: 0.0954 - val_accuracy: 0.9709\n",
      "Epoch 16/50\n",
      "892/892 [==============================] - 4s 5ms/step - loss: 0.0880 - accuracy: 0.9752 - val_loss: 0.0924 - val_accuracy: 0.9730\n",
      "Epoch 17/50\n",
      "892/892 [==============================] - 4s 5ms/step - loss: 0.0833 - accuracy: 0.9761 - val_loss: 0.0908 - val_accuracy: 0.9711\n",
      "Epoch 18/50\n",
      "892/892 [==============================] - 4s 5ms/step - loss: 0.0800 - accuracy: 0.9762 - val_loss: 0.0854 - val_accuracy: 0.9737\n",
      "Epoch 19/50\n",
      "892/892 [==============================] - 4s 5ms/step - loss: 0.0785 - accuracy: 0.9766 - val_loss: 0.0830 - val_accuracy: 0.9745\n",
      "Epoch 20/50\n",
      "892/892 [==============================] - 4s 5ms/step - loss: 0.0744 - accuracy: 0.9775 - val_loss: 0.0817 - val_accuracy: 0.9741\n",
      "Epoch 21/50\n",
      "892/892 [==============================] - 4s 5ms/step - loss: 0.0733 - accuracy: 0.9774 - val_loss: 0.0804 - val_accuracy: 0.9744\n",
      "Epoch 22/50\n",
      "892/892 [==============================] - 4s 5ms/step - loss: 0.0704 - accuracy: 0.9782 - val_loss: 0.0775 - val_accuracy: 0.9753\n",
      "Epoch 23/50\n",
      "892/892 [==============================] - 4s 5ms/step - loss: 0.0681 - accuracy: 0.9785 - val_loss: 0.0776 - val_accuracy: 0.9744\n",
      "Epoch 24/50\n",
      "892/892 [==============================] - 4s 4ms/step - loss: 0.0663 - accuracy: 0.9792 - val_loss: 0.0744 - val_accuracy: 0.9766\n",
      "Epoch 25/50\n",
      "892/892 [==============================] - 4s 4ms/step - loss: 0.0635 - accuracy: 0.9804 - val_loss: 0.0734 - val_accuracy: 0.9759\n",
      "Epoch 26/50\n",
      "892/892 [==============================] - 4s 5ms/step - loss: 0.0623 - accuracy: 0.9807 - val_loss: 0.0714 - val_accuracy: 0.9760\n",
      "Epoch 27/50\n",
      "892/892 [==============================] - 4s 4ms/step - loss: 0.0594 - accuracy: 0.9811 - val_loss: 0.0694 - val_accuracy: 0.9781\n",
      "Epoch 28/50\n",
      "892/892 [==============================] - 4s 4ms/step - loss: 0.0572 - accuracy: 0.9819 - val_loss: 0.0701 - val_accuracy: 0.9770\n",
      "Epoch 29/50\n",
      "892/892 [==============================] - 4s 4ms/step - loss: 0.0569 - accuracy: 0.9832 - val_loss: 0.0681 - val_accuracy: 0.9790\n",
      "Epoch 30/50\n",
      "892/892 [==============================] - 5s 6ms/step - loss: 0.0538 - accuracy: 0.9833 - val_loss: 0.0654 - val_accuracy: 0.9798\n",
      "Epoch 31/50\n",
      "892/892 [==============================] - 4s 4ms/step - loss: 0.0525 - accuracy: 0.9836 - val_loss: 0.0658 - val_accuracy: 0.9795\n",
      "Epoch 32/50\n",
      "892/892 [==============================] - 4s 4ms/step - loss: 0.0508 - accuracy: 0.9841 - val_loss: 0.0655 - val_accuracy: 0.9790\n",
      "Epoch 33/50\n",
      "892/892 [==============================] - 4s 5ms/step - loss: 0.0503 - accuracy: 0.9842 - val_loss: 0.0615 - val_accuracy: 0.9822\n",
      "Epoch 34/50\n",
      "892/892 [==============================] - 4s 5ms/step - loss: 0.0487 - accuracy: 0.9852 - val_loss: 0.0624 - val_accuracy: 0.9814\n",
      "Epoch 35/50\n",
      "892/892 [==============================] - 4s 4ms/step - loss: 0.0470 - accuracy: 0.9855 - val_loss: 0.0612 - val_accuracy: 0.9816\n",
      "Epoch 36/50\n",
      "892/892 [==============================] - 4s 5ms/step - loss: 0.0459 - accuracy: 0.9856 - val_loss: 0.0599 - val_accuracy: 0.9797\n",
      "Epoch 37/50\n",
      "892/892 [==============================] - 5s 6ms/step - loss: 0.0447 - accuracy: 0.9860 - val_loss: 0.0602 - val_accuracy: 0.9815\n",
      "Epoch 38/50\n",
      "892/892 [==============================] - 5s 6ms/step - loss: 0.0422 - accuracy: 0.9863 - val_loss: 0.0562 - val_accuracy: 0.9814\n",
      "Epoch 39/50\n",
      "892/892 [==============================] - 5s 5ms/step - loss: 0.0426 - accuracy: 0.9868 - val_loss: 0.0570 - val_accuracy: 0.9816\n",
      "Epoch 40/50\n",
      "892/892 [==============================] - 5s 6ms/step - loss: 0.0413 - accuracy: 0.9872 - val_loss: 0.0585 - val_accuracy: 0.9816\n",
      "Epoch 41/50\n",
      "892/892 [==============================] - 5s 6ms/step - loss: 0.0396 - accuracy: 0.9876 - val_loss: 0.0542 - val_accuracy: 0.9825\n",
      "Epoch 42/50\n",
      "892/892 [==============================] - 5s 5ms/step - loss: 0.0380 - accuracy: 0.9882 - val_loss: 0.0545 - val_accuracy: 0.9825\n",
      "Epoch 43/50\n",
      "892/892 [==============================] - 5s 5ms/step - loss: 0.0373 - accuracy: 0.9882 - val_loss: 0.0527 - val_accuracy: 0.9836\n",
      "Epoch 44/50\n",
      "892/892 [==============================] - 5s 6ms/step - loss: 0.0359 - accuracy: 0.9883 - val_loss: 0.0522 - val_accuracy: 0.9836\n",
      "Epoch 45/50\n",
      "892/892 [==============================] - 5s 5ms/step - loss: 0.0350 - accuracy: 0.9885 - val_loss: 0.0516 - val_accuracy: 0.9843\n",
      "Epoch 46/50\n",
      "892/892 [==============================] - 5s 5ms/step - loss: 0.0340 - accuracy: 0.9892 - val_loss: 0.0524 - val_accuracy: 0.9833\n",
      "Epoch 47/50\n",
      "892/892 [==============================] - 5s 6ms/step - loss: 0.0334 - accuracy: 0.9893 - val_loss: 0.0494 - val_accuracy: 0.9849\n",
      "Epoch 48/50\n",
      "892/892 [==============================] - 5s 5ms/step - loss: 0.0319 - accuracy: 0.9899 - val_loss: 0.0512 - val_accuracy: 0.9843\n",
      "Epoch 49/50\n",
      "892/892 [==============================] - 5s 5ms/step - loss: 0.0310 - accuracy: 0.9896 - val_loss: 0.0476 - val_accuracy: 0.9858\n",
      "Epoch 50/50\n",
      "892/892 [==============================] - 5s 6ms/step - loss: 0.0311 - accuracy: 0.9897 - val_loss: 0.0470 - val_accuracy: 0.9854\n"
     ]
    }
   ],
   "source": [
    "history = model.fit(X_train_resampled, y_train_resampled, epochs = 50, batch_size = 32, verbose = 1, validation_split = 0.2)"
   ]
  },
  {
   "cell_type": "code",
   "execution_count": null,
   "metadata": {},
   "outputs": [],
   "source": []
  },
  {
   "cell_type": "code",
   "execution_count": 300,
   "metadata": {},
   "outputs": [],
   "source": [
    "epochs = history.epoch\n",
    "\n",
    "loss = history.history['loss']\n",
    "validation_loss = history.history['val_loss']\n",
    "\n",
    "acc = history.history['accuracy']\n",
    "validation_acc = history.history['val_accuracy']"
   ]
  },
  {
   "cell_type": "code",
   "execution_count": 338,
   "metadata": {},
   "outputs": [
    {
     "name": "stdout",
     "output_type": "stream",
     "text": [
      "Loss                =  0.021288786083459854\n",
      "Accuracy            =  0.9935254454612732\n",
      "Validation Loss     =  0.046979885548353195\n",
      "Validation Accuracy =  0.9854260087013245\n"
     ]
    }
   ],
   "source": [
    "print(\"Loss                = \" , loss[49] )\n",
    "print(\"Accuracy            = \" ,  acc[49])\n",
    "\n",
    "print(\"Validation Loss     = \" , validation_loss[49] )\n",
    "print(\"Validation Accuracy = \" ,  validation_acc[49])"
   ]
  },
  {
   "cell_type": "code",
   "execution_count": 339,
   "metadata": {},
   "outputs": [
    {
     "data": {
      "text/plain": [
       "<matplotlib.legend.Legend at 0x24752927a08>"
      ]
     },
     "execution_count": 339,
     "metadata": {},
     "output_type": "execute_result"
    },
    {
     "data": {
      "image/png": "[encoded data removed]",
      "text/plain": [
       "<Figure size 1080x360 with 2 Axes>"
      ]
     },
     "metadata": {
      "needs_background": "light"
     },
     "output_type": "display_data"
    }
   ],
   "source": [
    "fig = plt.figure(figsize=(15, 5))\n",
    "\n",
    "plt.subplot(1,2,1)\n",
    "plt.title('Loss')\n",
    "plt.xlabel('Epochs')\n",
    "plt.ylabel('Loss')\n",
    "plt.plot(epochs, loss, c='red', label='training')\n",
    "plt.plot(epochs, validation_loss, c='blue', label='validation')\n",
    "plt.legend(loc='best')\n",
    "\n",
    "plt.subplot(1,2,2)\n",
    "plt.title('Accuracy')\n",
    "plt.xlabel('Epochs')\n",
    "plt.ylabel('Acccuracy')\n",
    "plt.plot(epochs, acc, c='red', label='training')\n",
    "plt.plot(epochs, validation_acc, c='blue', label='validation')\n",
    "plt.legend(loc='best')"
   ]
  },
  {
   "cell_type": "code",
   "execution_count": null,
   "metadata": {},
   "outputs": [],
   "source": []
  },
  {
   "cell_type": "markdown",
   "metadata": {},
   "source": [
    "## Neural network evaluation"
   ]
  },
  {
   "cell_type": "code",
   "execution_count": 308,
   "metadata": {},
   "outputs": [],
   "source": [
    "final_model = Sequential()\n",
    "final_model.add(Dense(units=100, input_dim=number_of_features, activation='relu'))\n",
    "final_model.add(Dense(units=40, activation='relu'))\n",
    "final_model.add(Dense(units=20, activation='relu'))\n",
    "final_model.add(Dropout(0.1))\n",
    "final_model.add(Dense(units=output_size, activation='sigmoid'))\n",
    "final_model.compile(optimizers.Adam(learning_rate = 0.0001), loss=losses.BinaryCrossentropy(), metrics=['accuracy'])"
   ]
  },
  {
   "cell_type": "code",
   "execution_count": null,
   "metadata": {},
   "outputs": [],
   "source": []
  },
  {
   "cell_type": "code",
   "execution_count": 344,
   "metadata": {},
   "outputs": [
    {
     "name": "stdout",
     "output_type": "stream",
     "text": [
      "Epoch 1/50\n",
      "1115/1115 [==============================] - 5s 5ms/step - loss: 0.0204 - accuracy: 0.9935\n",
      "Epoch 2/50\n",
      "1115/1115 [==============================] - 5s 4ms/step - loss: 0.0198 - accuracy: 0.9940\n",
      "Epoch 3/50\n",
      "1115/1115 [==============================] - 5s 4ms/step - loss: 0.0194 - accuracy: 0.9937\n",
      "Epoch 4/50\n",
      "1115/1115 [==============================] - 5s 5ms/step - loss: 0.0190 - accuracy: 0.9942\n",
      "Epoch 5/50\n",
      "1115/1115 [==============================] - 6s 5ms/step - loss: 0.0184 - accuracy: 0.9944\n",
      "Epoch 6/50\n",
      "1115/1115 [==============================] - 5s 5ms/step - loss: 0.0176 - accuracy: 0.9942\n",
      "Epoch 7/50\n",
      "1115/1115 [==============================] - 6s 5ms/step - loss: 0.0173 - accuracy: 0.9948\n",
      "Epoch 8/50\n",
      "1115/1115 [==============================] - 6s 5ms/step - loss: 0.0169 - accuracy: 0.9951\n",
      "Epoch 9/50\n",
      "1115/1115 [==============================] - 5s 5ms/step - loss: 0.0161 - accuracy: 0.9948\n",
      "Epoch 10/50\n",
      "1115/1115 [==============================] - 6s 6ms/step - loss: 0.0156 - accuracy: 0.9954\n",
      "Epoch 11/50\n",
      "1115/1115 [==============================] - 6s 5ms/step - loss: 0.0153 - accuracy: 0.9953\n",
      "Epoch 12/50\n",
      "1115/1115 [==============================] - 5s 5ms/step - loss: 0.0148 - accuracy: 0.9955\n",
      "Epoch 13/50\n",
      "1115/1115 [==============================] - 6s 5ms/step - loss: 0.0140 - accuracy: 0.9957\n",
      "Epoch 14/50\n",
      "1115/1115 [==============================] - 6s 5ms/step - loss: 0.0143 - accuracy: 0.9953\n",
      "Epoch 15/50\n",
      "1115/1115 [==============================] - 6s 5ms/step - loss: 0.0138 - accuracy: 0.9958\n",
      "Epoch 16/50\n",
      "1115/1115 [==============================] - 6s 5ms/step - loss: 0.0137 - accuracy: 0.9958\n",
      "Epoch 17/50\n",
      "1115/1115 [==============================] - 7s 6ms/step - loss: 0.0136 - accuracy: 0.9957\n",
      "Epoch 18/50\n",
      "1115/1115 [==============================] - 5s 5ms/step - loss: 0.0124 - accuracy: 0.9963\n",
      "Epoch 19/50\n",
      "1115/1115 [==============================] - 5s 5ms/step - loss: 0.0130 - accuracy: 0.9961\n",
      "Epoch 20/50\n",
      "1115/1115 [==============================] - 5s 4ms/step - loss: 0.0118 - accuracy: 0.9965\n",
      "Epoch 21/50\n",
      "1115/1115 [==============================] - 5s 4ms/step - loss: 0.0117 - accuracy: 0.9964\n",
      "Epoch 22/50\n",
      "1115/1115 [==============================] - 5s 5ms/step - loss: 0.0119 - accuracy: 0.9966\n",
      "Epoch 23/50\n",
      "1115/1115 [==============================] - 5s 4ms/step - loss: 0.0114 - accuracy: 0.9964\n",
      "Epoch 24/50\n",
      "1115/1115 [==============================] - 5s 4ms/step - loss: 0.0114 - accuracy: 0.9969\n",
      "Epoch 25/50\n",
      "1115/1115 [==============================] - 5s 5ms/step - loss: 0.0112 - accuracy: 0.9966\n",
      "Epoch 26/50\n",
      "1115/1115 [==============================] - 5s 4ms/step - loss: 0.0102 - accuracy: 0.9969\n",
      "Epoch 27/50\n",
      "1115/1115 [==============================] - 5s 4ms/step - loss: 0.0102 - accuracy: 0.9969\n",
      "Epoch 28/50\n",
      "1115/1115 [==============================] - 5s 5ms/step - loss: 0.0109 - accuracy: 0.9966\n",
      "Epoch 29/50\n",
      "1115/1115 [==============================] - 5s 4ms/step - loss: 0.0102 - accuracy: 0.9970\n",
      "Epoch 30/50\n",
      "1115/1115 [==============================] - 5s 4ms/step - loss: 0.0101 - accuracy: 0.9969\n",
      "Epoch 31/50\n",
      "1115/1115 [==============================] - 5s 5ms/step - loss: 0.0097 - accuracy: 0.9972\n",
      "Epoch 32/50\n",
      "1115/1115 [==============================] - 5s 4ms/step - loss: 0.0098 - accuracy: 0.9971\n",
      "Epoch 33/50\n",
      "1115/1115 [==============================] - 5s 5ms/step - loss: 0.0089 - accuracy: 0.9977\n",
      "Epoch 34/50\n",
      "1115/1115 [==============================] - 6s 5ms/step - loss: 0.0094 - accuracy: 0.9974\n",
      "Epoch 35/50\n",
      "1115/1115 [==============================] - 6s 5ms/step - loss: 0.0082 - accuracy: 0.9977\n",
      "Epoch 36/50\n",
      "1115/1115 [==============================] - 5s 5ms/step - loss: 0.0095 - accuracy: 0.9975\n",
      "Epoch 37/50\n",
      "1115/1115 [==============================] - 5s 4ms/step - loss: 0.0083 - accuracy: 0.9977\n",
      "Epoch 38/50\n",
      "1115/1115 [==============================] - 5s 4ms/step - loss: 0.0081 - accuracy: 0.9976\n",
      "Epoch 39/50\n",
      "1115/1115 [==============================] - 5s 4ms/step - loss: 0.0083 - accuracy: 0.9977\n",
      "Epoch 40/50\n",
      "1115/1115 [==============================] - 5s 4ms/step - loss: 0.0082 - accuracy: 0.9976\n",
      "Epoch 41/50\n",
      "1115/1115 [==============================] - 5s 4ms/step - loss: 0.0082 - accuracy: 0.9977\n",
      "Epoch 42/50\n",
      "1115/1115 [==============================] - 4s 4ms/step - loss: 0.0081 - accuracy: 0.9978\n",
      "Epoch 43/50\n",
      "1115/1115 [==============================] - 4s 4ms/step - loss: 0.0082 - accuracy: 0.9977\n",
      "Epoch 44/50\n",
      "1115/1115 [==============================] - 5s 4ms/step - loss: 0.0075 - accuracy: 0.9980\n",
      "Epoch 45/50\n",
      "1115/1115 [==============================] - 5s 4ms/step - loss: 0.0079 - accuracy: 0.9977\n",
      "Epoch 46/50\n",
      "1115/1115 [==============================] - 4s 4ms/step - loss: 0.0078 - accuracy: 0.9978\n",
      "Epoch 47/50\n",
      "1115/1115 [==============================] - 6s 5ms/step - loss: 0.0075 - accuracy: 0.9976\n",
      "Epoch 48/50\n",
      "1115/1115 [==============================] - 5s 4ms/step - loss: 0.0069 - accuracy: 0.9981\n",
      "Epoch 49/50\n",
      "1115/1115 [==============================] - 5s 4ms/step - loss: 0.0066 - accuracy: 0.9983\n",
      "Epoch 50/50\n",
      "1115/1115 [==============================] - 5s 4ms/step - loss: 0.0070 - accuracy: 0.9982\n"
     ]
    }
   ],
   "source": [
    "history = final_model.fit(X_train_resampled, y_train_resampled, epochs=50, batch_size=32, verbose = 1)"
   ]
  },
  {
   "cell_type": "code",
   "execution_count": 345,
   "metadata": {},
   "outputs": [
    {
     "name": "stdout",
     "output_type": "stream",
     "text": [
      "550/550 [==============================] - 2s 3ms/step - loss: 0.0458 - accuracy: 0.9900\n",
      "Test loss:     0.04578455537557602, \n",
      "Test accuracy: 0.9900415539741516\n"
     ]
    }
   ],
   "source": [
    "test_loss, test_accuracy = final_model.evaluate(X_test_resampled, y_test_resampled)\n",
    "print (\"Test loss:     {}, \\nTest accuracy: {}\".format(test_loss, test_accuracy))"
   ]
  },
  {
   "cell_type": "code",
   "execution_count": 346,
   "metadata": {},
   "outputs": [
    {
     "name": "stdout",
     "output_type": "stream",
     "text": [
      "1115/1115 [==============================] - 4s 3ms/step - loss: 0.0057 - accuracy: 0.9983\n",
      "Train loss:     0.0056786625646054745, \n",
      "Train accuracy: 0.9982902407646179\n"
     ]
    }
   ],
   "source": [
    "train_loss, train_accuracy = final_model.evaluate(X_train_resampled, y_train_resampled)\n",
    "print (\"Train loss:     {}, \\nTrain accuracy: {}\".format(train_loss, train_accuracy))"
   ]
  },
  {
   "cell_type": "code",
   "execution_count": 347,
   "metadata": {},
   "outputs": [],
   "source": [
    "epochs = history.epoch\n",
    "loss = history.history['loss']\n",
    "acc = history.history['accuracy']"
   ]
  },
  {
   "cell_type": "code",
   "execution_count": 354,
   "metadata": {},
   "outputs": [
    {
     "data": {
      "text/plain": [
       "<matplotlib.legend.Legend at 0x2474a383448>"
      ]
     },
     "execution_count": 354,
     "metadata": {},
     "output_type": "execute_result"
    },
    {
     "data": {
      "image/png": "[encoded data removed]",
      "text/plain": [
       "<Figure size 1080x360 with 2 Axes>"
      ]
     },
     "metadata": {
      "needs_background": "light"
     },
     "output_type": "display_data"
    }
   ],
   "source": [
    "fig = plt.figure(figsize=(15, 5))\n",
    "\n",
    "plt.subplot(1, 2, 1)\n",
    "plt.title('Loss')\n",
    "plt.xlabel('Epochs')\n",
    "plt.ylabel('Loss')\n",
    "plt.plot(epochs, loss, c='red', label='test loss')\n",
    "plt.legend(loc='best')\n",
    "\n",
    "plt.subplot(1, 2, 2)\n",
    "plt.title('Accuracy')\n",
    "plt.xlabel('Epochs')\n",
    "plt.ylabel('Acccuracy')\n",
    "plt.plot(epochs, acc , c='blue', label = 'test accuracy')\n",
    "plt.legend(loc='best')\n",
    "\n"
   ]
  },
  {
   "cell_type": "code",
   "execution_count": null,
   "metadata": {},
   "outputs": [],
   "source": []
  },
  {
   "cell_type": "markdown",
   "metadata": {},
   "source": [
    "## Save model"
   ]
  },
  {
   "cell_type": "code",
   "execution_count": 349,
   "metadata": {},
   "outputs": [],
   "source": [
    "from keras.models import load_model"
   ]
  },
  {
   "cell_type": "code",
   "execution_count": 350,
   "metadata": {},
   "outputs": [],
   "source": [
    "model.save('final_model.h5') "
   ]
  },
  {
   "cell_type": "code",
   "execution_count": null,
   "metadata": {},
   "outputs": [],
   "source": []
  },
  {
   "cell_type": "code",
   "execution_count": null,
   "metadata": {},
   "outputs": [],
   "source": []
  }
 ],
 "metadata": {
  "kernelspec": {
   "display_name": "Python 3",
   "language": "python",
   "name": "python3"
  },
  "language_info": {
   "codemirror_mode": {
    "name": "ipython",
    "version": 3
   },
   "file_extension": ".py",
   "mimetype": "text/x-python",
   "name": "python",
   "nbconvert_exporter": "python",
   "pygments_lexer": "ipython3",
   "version": "3.7.4"
  }
 },
 "nbformat": 4,
 "nbformat_minor": 2
}
