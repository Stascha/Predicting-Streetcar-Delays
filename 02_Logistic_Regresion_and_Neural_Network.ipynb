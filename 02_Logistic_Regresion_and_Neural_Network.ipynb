{
 "cells": [
  {
   "cell_type": "markdown",
   "metadata": {},
   "source": [
    "# Logistic regression"
   ]
  },
  {
   "cell_type": "code",
   "execution_count": 1,
   "metadata": {},
   "outputs": [
    {
     "name": "stderr",
     "output_type": "stream",
     "text": [
      "C:\\Users\\Korisnik\\Anaconda3\\lib\\site-packages\\sklearn\\externals\\six.py:31: DeprecationWarning: The module is deprecated in version 0.21 and will be removed in version 0.23 since we've dropped support for Python 2.7. Please rely on the official version of six (https://pypi.org/project/six/).\n",
      "  \"(https://pypi.org/project/six/).\", DeprecationWarning)\n"
     ]
    }
   ],
   "source": [
    "import numpy as np \n",
    "import pandas as pd \n",
    "import matplotlib \n",
    "import matplotlib.pyplot as plt\n",
    "\n",
    "import zipfile\n",
    "import os\n",
    "import math\n",
    "import pickle\n",
    "import requests\n",
    "import json\n",
    "import re\n",
    "import logging\n",
    "import seaborn\n",
    "\n",
    "import imblearn\n",
    "from imblearn.over_sampling import SMOTE\n",
    "from imblearn.over_sampling import RandomOverSampler\n",
    "from imblearn.under_sampling import RandomUnderSampler\n",
    "\n",
    "import time\n",
    "import datetime\n",
    "from datetime import datetime, timedelta\n",
    "from datetime import date\n",
    "from dateutil import relativedelta\n",
    "\n",
    "from io import StringIO\n",
    "\n",
    "%matplotlib inline \n",
    "from subprocess import check_output\n",
    "from IPython.display import display\n",
    "from colorama import Fore, Back, Style\n",
    "from scipy.stats import pearsonr\n",
    "\n",
    "from sklearn.model_selection import GridSearchCV\n",
    "from sklearn.base import BaseEstimator\n",
    "from sklearn.base import TransformerMixin\n",
    "from sklearn.utils import shuffle\n",
    "from sklearn import linear_model\n",
    "from sklearn import model_selection\n",
    "from sklearn.model_selection import train_test_split\n",
    "from sklearn import metrics\n",
    "from sklearn import preprocessing\n",
    "from sklearn.preprocessing import StandardScaler, LabelEncoder, MinMaxScaler \n",
    "from sklearn import datasets\n",
    "\n",
    "import tensorflow\n",
    "import keras\n",
    "from keras.models import Sequential\n",
    "from keras.layers import Dense\n",
    "from keras.layers import Activation\n",
    "from keras.layers import Dropout\n",
    "from keras import optimizers\n",
    "from keras import losses\n",
    "\n",
    "import warnings"
   ]
  },
  {
   "cell_type": "code",
   "execution_count": 2,
   "metadata": {},
   "outputs": [],
   "source": [
    "data = pd.read_csv('preprocessed_data.csv')"
   ]
  },
  {
   "cell_type": "code",
   "execution_count": 3,
   "metadata": {},
   "outputs": [
    {
     "data": {
      "text/html": [
       "<div>\n",
       "<style scoped>\n",
       "    .dataframe tbody tr th:only-of-type {\n",
       "        vertical-align: middle;\n",
       "    }\n",
       "\n",
       "    .dataframe tbody tr th {\n",
       "        vertical-align: top;\n",
       "    }\n",
       "\n",
       "    .dataframe thead th {\n",
       "        text-align: right;\n",
       "    }\n",
       "</style>\n",
       "<table border=\"1\" class=\"dataframe\">\n",
       "  <thead>\n",
       "    <tr style=\"text-align: right;\">\n",
       "      <th></th>\n",
       "      <th>Route</th>\n",
       "      <th>Min Gap</th>\n",
       "      <th>Vehicle</th>\n",
       "      <th>Delay</th>\n",
       "      <th>Direction_e</th>\n",
       "      <th>Direction_n</th>\n",
       "      <th>Direction_s</th>\n",
       "      <th>Direction_w</th>\n",
       "      <th>Incident_Diversion</th>\n",
       "      <th>Incident_Emergency Services</th>\n",
       "      <th>...</th>\n",
       "      <th>Day_Monday</th>\n",
       "      <th>Day_Saturday</th>\n",
       "      <th>Day_Sunday</th>\n",
       "      <th>Day_Thursday</th>\n",
       "      <th>Day_Tuesday</th>\n",
       "      <th>Day_Wednesday</th>\n",
       "      <th>Year</th>\n",
       "      <th>Month</th>\n",
       "      <th>Day</th>\n",
       "      <th>Hour</th>\n",
       "    </tr>\n",
       "  </thead>\n",
       "  <tbody>\n",
       "    <tr>\n",
       "      <td>0</td>\n",
       "      <td>505</td>\n",
       "      <td>8</td>\n",
       "      <td>4018</td>\n",
       "      <td>1</td>\n",
       "      <td>1</td>\n",
       "      <td>0</td>\n",
       "      <td>0</td>\n",
       "      <td>0</td>\n",
       "      <td>0</td>\n",
       "      <td>0</td>\n",
       "      <td>...</td>\n",
       "      <td>0</td>\n",
       "      <td>0</td>\n",
       "      <td>0</td>\n",
       "      <td>1</td>\n",
       "      <td>0</td>\n",
       "      <td>0</td>\n",
       "      <td>2014</td>\n",
       "      <td>1</td>\n",
       "      <td>2</td>\n",
       "      <td>6</td>\n",
       "    </tr>\n",
       "    <tr>\n",
       "      <td>1</td>\n",
       "      <td>504</td>\n",
       "      <td>22</td>\n",
       "      <td>4128</td>\n",
       "      <td>1</td>\n",
       "      <td>1</td>\n",
       "      <td>0</td>\n",
       "      <td>0</td>\n",
       "      <td>0</td>\n",
       "      <td>0</td>\n",
       "      <td>0</td>\n",
       "      <td>...</td>\n",
       "      <td>0</td>\n",
       "      <td>0</td>\n",
       "      <td>0</td>\n",
       "      <td>1</td>\n",
       "      <td>0</td>\n",
       "      <td>0</td>\n",
       "      <td>2014</td>\n",
       "      <td>1</td>\n",
       "      <td>2</td>\n",
       "      <td>12</td>\n",
       "    </tr>\n",
       "    <tr>\n",
       "      <td>2</td>\n",
       "      <td>501</td>\n",
       "      <td>19</td>\n",
       "      <td>4016</td>\n",
       "      <td>1</td>\n",
       "      <td>0</td>\n",
       "      <td>0</td>\n",
       "      <td>0</td>\n",
       "      <td>1</td>\n",
       "      <td>0</td>\n",
       "      <td>0</td>\n",
       "      <td>...</td>\n",
       "      <td>0</td>\n",
       "      <td>0</td>\n",
       "      <td>0</td>\n",
       "      <td>1</td>\n",
       "      <td>0</td>\n",
       "      <td>0</td>\n",
       "      <td>2014</td>\n",
       "      <td>1</td>\n",
       "      <td>2</td>\n",
       "      <td>14</td>\n",
       "    </tr>\n",
       "    <tr>\n",
       "      <td>3</td>\n",
       "      <td>504</td>\n",
       "      <td>11</td>\n",
       "      <td>4175</td>\n",
       "      <td>1</td>\n",
       "      <td>0</td>\n",
       "      <td>0</td>\n",
       "      <td>0</td>\n",
       "      <td>1</td>\n",
       "      <td>0</td>\n",
       "      <td>0</td>\n",
       "      <td>...</td>\n",
       "      <td>0</td>\n",
       "      <td>0</td>\n",
       "      <td>0</td>\n",
       "      <td>1</td>\n",
       "      <td>0</td>\n",
       "      <td>0</td>\n",
       "      <td>2014</td>\n",
       "      <td>1</td>\n",
       "      <td>2</td>\n",
       "      <td>14</td>\n",
       "    </tr>\n",
       "    <tr>\n",
       "      <td>4</td>\n",
       "      <td>504</td>\n",
       "      <td>6</td>\n",
       "      <td>4080</td>\n",
       "      <td>1</td>\n",
       "      <td>1</td>\n",
       "      <td>0</td>\n",
       "      <td>0</td>\n",
       "      <td>0</td>\n",
       "      <td>0</td>\n",
       "      <td>0</td>\n",
       "      <td>...</td>\n",
       "      <td>0</td>\n",
       "      <td>0</td>\n",
       "      <td>0</td>\n",
       "      <td>1</td>\n",
       "      <td>0</td>\n",
       "      <td>0</td>\n",
       "      <td>2014</td>\n",
       "      <td>1</td>\n",
       "      <td>2</td>\n",
       "      <td>16</td>\n",
       "    </tr>\n",
       "    <tr>\n",
       "      <td>...</td>\n",
       "      <td>...</td>\n",
       "      <td>...</td>\n",
       "      <td>...</td>\n",
       "      <td>...</td>\n",
       "      <td>...</td>\n",
       "      <td>...</td>\n",
       "      <td>...</td>\n",
       "      <td>...</td>\n",
       "      <td>...</td>\n",
       "      <td>...</td>\n",
       "      <td>...</td>\n",
       "      <td>...</td>\n",
       "      <td>...</td>\n",
       "      <td>...</td>\n",
       "      <td>...</td>\n",
       "      <td>...</td>\n",
       "      <td>...</td>\n",
       "      <td>...</td>\n",
       "      <td>...</td>\n",
       "      <td>...</td>\n",
       "      <td>...</td>\n",
       "    </tr>\n",
       "    <tr>\n",
       "      <td>45039</td>\n",
       "      <td>505</td>\n",
       "      <td>16</td>\n",
       "      <td>4164</td>\n",
       "      <td>1</td>\n",
       "      <td>1</td>\n",
       "      <td>0</td>\n",
       "      <td>0</td>\n",
       "      <td>0</td>\n",
       "      <td>0</td>\n",
       "      <td>0</td>\n",
       "      <td>...</td>\n",
       "      <td>0</td>\n",
       "      <td>0</td>\n",
       "      <td>1</td>\n",
       "      <td>0</td>\n",
       "      <td>0</td>\n",
       "      <td>0</td>\n",
       "      <td>2017</td>\n",
       "      <td>12</td>\n",
       "      <td>31</td>\n",
       "      <td>9</td>\n",
       "    </tr>\n",
       "    <tr>\n",
       "      <td>45040</td>\n",
       "      <td>501</td>\n",
       "      <td>24</td>\n",
       "      <td>4110</td>\n",
       "      <td>1</td>\n",
       "      <td>0</td>\n",
       "      <td>0</td>\n",
       "      <td>0</td>\n",
       "      <td>1</td>\n",
       "      <td>0</td>\n",
       "      <td>0</td>\n",
       "      <td>...</td>\n",
       "      <td>0</td>\n",
       "      <td>0</td>\n",
       "      <td>1</td>\n",
       "      <td>0</td>\n",
       "      <td>0</td>\n",
       "      <td>0</td>\n",
       "      <td>2017</td>\n",
       "      <td>12</td>\n",
       "      <td>31</td>\n",
       "      <td>11</td>\n",
       "    </tr>\n",
       "    <tr>\n",
       "      <td>45041</td>\n",
       "      <td>501</td>\n",
       "      <td>24</td>\n",
       "      <td>1419</td>\n",
       "      <td>1</td>\n",
       "      <td>0</td>\n",
       "      <td>0</td>\n",
       "      <td>0</td>\n",
       "      <td>1</td>\n",
       "      <td>0</td>\n",
       "      <td>0</td>\n",
       "      <td>...</td>\n",
       "      <td>0</td>\n",
       "      <td>0</td>\n",
       "      <td>1</td>\n",
       "      <td>0</td>\n",
       "      <td>0</td>\n",
       "      <td>0</td>\n",
       "      <td>2017</td>\n",
       "      <td>12</td>\n",
       "      <td>31</td>\n",
       "      <td>11</td>\n",
       "    </tr>\n",
       "    <tr>\n",
       "      <td>45042</td>\n",
       "      <td>510</td>\n",
       "      <td>10</td>\n",
       "      <td>4447</td>\n",
       "      <td>1</td>\n",
       "      <td>0</td>\n",
       "      <td>0</td>\n",
       "      <td>1</td>\n",
       "      <td>0</td>\n",
       "      <td>0</td>\n",
       "      <td>0</td>\n",
       "      <td>...</td>\n",
       "      <td>0</td>\n",
       "      <td>0</td>\n",
       "      <td>1</td>\n",
       "      <td>0</td>\n",
       "      <td>0</td>\n",
       "      <td>0</td>\n",
       "      <td>2017</td>\n",
       "      <td>12</td>\n",
       "      <td>31</td>\n",
       "      <td>11</td>\n",
       "    </tr>\n",
       "    <tr>\n",
       "      <td>45043</td>\n",
       "      <td>505</td>\n",
       "      <td>16</td>\n",
       "      <td>4167</td>\n",
       "      <td>1</td>\n",
       "      <td>0</td>\n",
       "      <td>1</td>\n",
       "      <td>0</td>\n",
       "      <td>0</td>\n",
       "      <td>0</td>\n",
       "      <td>0</td>\n",
       "      <td>...</td>\n",
       "      <td>0</td>\n",
       "      <td>0</td>\n",
       "      <td>1</td>\n",
       "      <td>0</td>\n",
       "      <td>0</td>\n",
       "      <td>0</td>\n",
       "      <td>2017</td>\n",
       "      <td>12</td>\n",
       "      <td>31</td>\n",
       "      <td>11</td>\n",
       "    </tr>\n",
       "  </tbody>\n",
       "</table>\n",
       "<p>45044 rows × 28 columns</p>\n",
       "</div>"
      ],
      "text/plain": [
       "       Route  Min Gap  Vehicle  Delay  Direction_e  Direction_n  Direction_s  \\\n",
       "0        505        8     4018      1            1            0            0   \n",
       "1        504       22     4128      1            1            0            0   \n",
       "2        501       19     4016      1            0            0            0   \n",
       "3        504       11     4175      1            0            0            0   \n",
       "4        504        6     4080      1            1            0            0   \n",
       "...      ...      ...      ...    ...          ...          ...          ...   \n",
       "45039    505       16     4164      1            1            0            0   \n",
       "45040    501       24     4110      1            0            0            0   \n",
       "45041    501       24     1419      1            0            0            0   \n",
       "45042    510       10     4447      1            0            0            1   \n",
       "45043    505       16     4167      1            0            1            0   \n",
       "\n",
       "       Direction_w  Incident_Diversion  Incident_Emergency Services  ...  \\\n",
       "0                0                   0                            0  ...   \n",
       "1                0                   0                            0  ...   \n",
       "2                1                   0                            0  ...   \n",
       "3                1                   0                            0  ...   \n",
       "4                0                   0                            0  ...   \n",
       "...            ...                 ...                          ...  ...   \n",
       "45039            0                   0                            0  ...   \n",
       "45040            1                   0                            0  ...   \n",
       "45041            1                   0                            0  ...   \n",
       "45042            0                   0                            0  ...   \n",
       "45043            0                   0                            0  ...   \n",
       "\n",
       "       Day_Monday  Day_Saturday  Day_Sunday  Day_Thursday  Day_Tuesday  \\\n",
       "0               0             0           0             1            0   \n",
       "1               0             0           0             1            0   \n",
       "2               0             0           0             1            0   \n",
       "3               0             0           0             1            0   \n",
       "4               0             0           0             1            0   \n",
       "...           ...           ...         ...           ...          ...   \n",
       "45039           0             0           1             0            0   \n",
       "45040           0             0           1             0            0   \n",
       "45041           0             0           1             0            0   \n",
       "45042           0             0           1             0            0   \n",
       "45043           0             0           1             0            0   \n",
       "\n",
       "       Day_Wednesday  Year  Month  Day  Hour  \n",
       "0                  0  2014      1    2     6  \n",
       "1                  0  2014      1    2    12  \n",
       "2                  0  2014      1    2    14  \n",
       "3                  0  2014      1    2    14  \n",
       "4                  0  2014      1    2    16  \n",
       "...              ...   ...    ...  ...   ...  \n",
       "45039              0  2017     12   31     9  \n",
       "45040              0  2017     12   31    11  \n",
       "45041              0  2017     12   31    11  \n",
       "45042              0  2017     12   31    11  \n",
       "45043              0  2017     12   31    11  \n",
       "\n",
       "[45044 rows x 28 columns]"
      ]
     },
     "execution_count": 3,
     "metadata": {},
     "output_type": "execute_result"
    }
   ],
   "source": [
    "data"
   ]
  },
  {
   "cell_type": "code",
   "execution_count": 4,
   "metadata": {},
   "outputs": [
    {
     "name": "stdout",
     "output_type": "stream",
     "text": [
      "Route\n",
      "Min Gap\n",
      "Vehicle\n",
      "Delay\n",
      "Direction_e\n",
      "Direction_n\n",
      "Direction_s\n",
      "Direction_w\n",
      "Incident_Diversion\n",
      "Incident_Emergency Services\n",
      "Incident_General Delay\n",
      "Incident_Held By\n",
      "Incident_Investigation\n",
      "Incident_Late Leaving Garage\n",
      "Incident_Mechanical\n",
      "Incident_Overhead - Pantograph\n",
      "Incident_Utilized Off Route\n",
      "Day_Friday\n",
      "Day_Monday\n",
      "Day_Saturday\n",
      "Day_Sunday\n",
      "Day_Thursday\n",
      "Day_Tuesday\n",
      "Day_Wednesday\n",
      "Year\n",
      "Month\n",
      "Day\n",
      "Hour\n"
     ]
    }
   ],
   "source": [
    "feature_names = data.columns\n",
    "\n",
    "for col in feature_names:\n",
    "     print(col)"
   ]
  },
  {
   "cell_type": "code",
   "execution_count": 5,
   "metadata": {},
   "outputs": [
    {
     "data": {
      "text/plain": [
       "Route                            -0.008716\n",
       "Min Gap                           0.056566\n",
       "Vehicle                           0.001145\n",
       "Delay                             1.000000\n",
       "Direction_e                       0.011842\n",
       "Direction_n                      -0.023678\n",
       "Direction_s                      -0.020946\n",
       "Direction_w                       0.012471\n",
       "Incident_Diversion               -0.023048\n",
       "Incident_Emergency Services       0.001560\n",
       "Incident_General Delay           -0.060980\n",
       "Incident_Held By                  0.030531\n",
       "Incident_Investigation           -0.014389\n",
       "Incident_Late Leaving Garage      0.017236\n",
       "Incident_Mechanical               0.014905\n",
       "Incident_Overhead - Pantograph    0.001530\n",
       "Incident_Utilized Off Route      -0.023245\n",
       "Day_Friday                       -0.008207\n",
       "Day_Monday                        0.005826\n",
       "Day_Saturday                      0.000255\n",
       "Day_Sunday                       -0.000565\n",
       "Day_Thursday                     -0.005024\n",
       "Day_Tuesday                      -0.000402\n",
       "Day_Wednesday                     0.008324\n",
       "Year                             -0.006103\n",
       "Month                             0.005401\n",
       "Day                              -0.006279\n",
       "Hour                              0.000839\n",
       "Name: Delay, dtype: float64"
      ]
     },
     "execution_count": 5,
     "metadata": {},
     "output_type": "execute_result"
    }
   ],
   "source": [
    "corrcoefs = data.corr()['Delay']\n",
    "corrcoefs"
   ]
  },
  {
   "cell_type": "code",
   "execution_count": 6,
   "metadata": {},
   "outputs": [
    {
     "data": {
      "text/plain": [
       "Route                            -0.008716\n",
       "Min Gap                           0.056566\n",
       "Vehicle                           0.001145\n",
       "Direction_e                       0.011842\n",
       "Direction_n                      -0.023678\n",
       "Direction_s                      -0.020946\n",
       "Direction_w                       0.012471\n",
       "Incident_Diversion               -0.023048\n",
       "Incident_Emergency Services       0.001560\n",
       "Incident_General Delay           -0.060980\n",
       "Incident_Held By                  0.030531\n",
       "Incident_Investigation           -0.014389\n",
       "Incident_Late Leaving Garage      0.017236\n",
       "Incident_Mechanical               0.014905\n",
       "Incident_Overhead - Pantograph    0.001530\n",
       "Incident_Utilized Off Route      -0.023245\n",
       "Day_Friday                       -0.008207\n",
       "Day_Monday                        0.005826\n",
       "Day_Saturday                      0.000255\n",
       "Day_Sunday                       -0.000565\n",
       "Day_Thursday                     -0.005024\n",
       "Day_Tuesday                      -0.000402\n",
       "Day_Wednesday                     0.008324\n",
       "Year                             -0.006103\n",
       "Month                             0.005401\n",
       "Day                              -0.006279\n",
       "Hour                              0.000839\n",
       "Name: Delay, dtype: float64"
      ]
     },
     "execution_count": 6,
     "metadata": {},
     "output_type": "execute_result"
    }
   ],
   "source": [
    "# corrcoefs_for_barh = ( (corrcoefs.drop('Delay')) * 1000000 ).astype(int)\n",
    "corrcoefs_for_barh = corrcoefs.drop('Delay')\n",
    "corrcoefs_for_barh\n"
   ]
  },
  {
   "cell_type": "code",
   "execution_count": 7,
   "metadata": {},
   "outputs": [
    {
     "data": {
      "image/png": "[encoded data removed]",
      "text/plain": [
       "<Figure size 1080x648 with 1 Axes>"
      ]
     },
     "metadata": {
      "needs_background": "light"
     },
     "output_type": "display_data"
    }
   ],
   "source": [
    "plt.figure(figsize=(15, 9))\n",
    "\n",
    "corrcoefs_for_plot = pd.Series(corrcoefs_for_barh)\n",
    "corrcoefs_for_plot.sort_values(inplace=True)\n",
    "\n",
    "corrcoefs_for_plot.plot.barh(color='red')\n",
    "plt.title('Korelacija sa ciljnom promenljivom Dealay', fontsize = 20)\n",
    "plt.xlabel('Vrednost Pirsonovog koeficijenta korelacije', fontsize = 20)\n",
    "plt.ylabel('Naziv atributa', fontsize = 20)\n",
    "plt.show()"
   ]
  },
  {
   "cell_type": "code",
   "execution_count": 8,
   "metadata": {},
   "outputs": [],
   "source": [
    "y = data['Delay']\n",
    "X = data.drop(columns=['Delay'])"
   ]
  },
  {
   "cell_type": "code",
   "execution_count": 9,
   "metadata": {},
   "outputs": [
    {
     "data": {
      "text/html": [
       "<div>\n",
       "<style scoped>\n",
       "    .dataframe tbody tr th:only-of-type {\n",
       "        vertical-align: middle;\n",
       "    }\n",
       "\n",
       "    .dataframe tbody tr th {\n",
       "        vertical-align: top;\n",
       "    }\n",
       "\n",
       "    .dataframe thead th {\n",
       "        text-align: right;\n",
       "    }\n",
       "</style>\n",
       "<table border=\"1\" class=\"dataframe\">\n",
       "  <thead>\n",
       "    <tr style=\"text-align: right;\">\n",
       "      <th></th>\n",
       "      <th>Route</th>\n",
       "      <th>Min Gap</th>\n",
       "      <th>Vehicle</th>\n",
       "      <th>Direction_e</th>\n",
       "      <th>Direction_n</th>\n",
       "      <th>Direction_s</th>\n",
       "      <th>Direction_w</th>\n",
       "      <th>Incident_Diversion</th>\n",
       "      <th>Incident_Emergency Services</th>\n",
       "      <th>Incident_General Delay</th>\n",
       "      <th>...</th>\n",
       "      <th>Day_Monday</th>\n",
       "      <th>Day_Saturday</th>\n",
       "      <th>Day_Sunday</th>\n",
       "      <th>Day_Thursday</th>\n",
       "      <th>Day_Tuesday</th>\n",
       "      <th>Day_Wednesday</th>\n",
       "      <th>Year</th>\n",
       "      <th>Month</th>\n",
       "      <th>Day</th>\n",
       "      <th>Hour</th>\n",
       "    </tr>\n",
       "  </thead>\n",
       "  <tbody>\n",
       "    <tr>\n",
       "      <td>Route</td>\n",
       "      <td>1.000000</td>\n",
       "      <td>-0.086860</td>\n",
       "      <td>0.003536</td>\n",
       "      <td>-0.019117</td>\n",
       "      <td>0.064304</td>\n",
       "      <td>0.058385</td>\n",
       "      <td>-0.047580</td>\n",
       "      <td>-0.023700</td>\n",
       "      <td>-0.055631</td>\n",
       "      <td>0.017453</td>\n",
       "      <td>...</td>\n",
       "      <td>0.010611</td>\n",
       "      <td>-0.029604</td>\n",
       "      <td>-0.049578</td>\n",
       "      <td>0.015163</td>\n",
       "      <td>0.009791</td>\n",
       "      <td>0.024823</td>\n",
       "      <td>-0.011980</td>\n",
       "      <td>-0.001899</td>\n",
       "      <td>0.011446</td>\n",
       "      <td>-0.000178</td>\n",
       "    </tr>\n",
       "    <tr>\n",
       "      <td>Min Gap</td>\n",
       "      <td>-0.086860</td>\n",
       "      <td>1.000000</td>\n",
       "      <td>-0.020061</td>\n",
       "      <td>-0.018443</td>\n",
       "      <td>-0.031929</td>\n",
       "      <td>-0.017381</td>\n",
       "      <td>0.045133</td>\n",
       "      <td>0.175230</td>\n",
       "      <td>0.048142</td>\n",
       "      <td>0.010307</td>\n",
       "      <td>...</td>\n",
       "      <td>-0.013045</td>\n",
       "      <td>0.015613</td>\n",
       "      <td>0.042096</td>\n",
       "      <td>-0.015156</td>\n",
       "      <td>-0.005897</td>\n",
       "      <td>-0.009730</td>\n",
       "      <td>-0.015375</td>\n",
       "      <td>0.016159</td>\n",
       "      <td>-0.001196</td>\n",
       "      <td>-0.005060</td>\n",
       "    </tr>\n",
       "    <tr>\n",
       "      <td>Vehicle</td>\n",
       "      <td>0.003536</td>\n",
       "      <td>-0.020061</td>\n",
       "      <td>1.000000</td>\n",
       "      <td>0.015028</td>\n",
       "      <td>-0.001610</td>\n",
       "      <td>0.000429</td>\n",
       "      <td>-0.014221</td>\n",
       "      <td>-0.002160</td>\n",
       "      <td>0.001392</td>\n",
       "      <td>-0.024807</td>\n",
       "      <td>...</td>\n",
       "      <td>-0.002274</td>\n",
       "      <td>-0.004080</td>\n",
       "      <td>-0.003524</td>\n",
       "      <td>-0.002267</td>\n",
       "      <td>0.008051</td>\n",
       "      <td>0.001761</td>\n",
       "      <td>-0.049402</td>\n",
       "      <td>0.001179</td>\n",
       "      <td>-0.001149</td>\n",
       "      <td>0.000911</td>\n",
       "    </tr>\n",
       "    <tr>\n",
       "      <td>Direction_e</td>\n",
       "      <td>-0.019117</td>\n",
       "      <td>-0.018443</td>\n",
       "      <td>0.015028</td>\n",
       "      <td>1.000000</td>\n",
       "      <td>-0.247167</td>\n",
       "      <td>-0.235475</td>\n",
       "      <td>-0.728888</td>\n",
       "      <td>-0.018901</td>\n",
       "      <td>-0.012847</td>\n",
       "      <td>-0.022736</td>\n",
       "      <td>...</td>\n",
       "      <td>-0.004201</td>\n",
       "      <td>-0.007830</td>\n",
       "      <td>-0.005333</td>\n",
       "      <td>0.004471</td>\n",
       "      <td>0.012275</td>\n",
       "      <td>0.000122</td>\n",
       "      <td>-0.008377</td>\n",
       "      <td>-0.030390</td>\n",
       "      <td>-0.010049</td>\n",
       "      <td>0.003917</td>\n",
       "    </tr>\n",
       "    <tr>\n",
       "      <td>Direction_n</td>\n",
       "      <td>0.064304</td>\n",
       "      <td>-0.031929</td>\n",
       "      <td>-0.001610</td>\n",
       "      <td>-0.247167</td>\n",
       "      <td>1.000000</td>\n",
       "      <td>-0.084908</td>\n",
       "      <td>-0.262825</td>\n",
       "      <td>-0.001596</td>\n",
       "      <td>-0.012627</td>\n",
       "      <td>-0.015004</td>\n",
       "      <td>...</td>\n",
       "      <td>-0.004585</td>\n",
       "      <td>0.009142</td>\n",
       "      <td>0.001315</td>\n",
       "      <td>0.000321</td>\n",
       "      <td>-0.004783</td>\n",
       "      <td>0.003262</td>\n",
       "      <td>-0.003167</td>\n",
       "      <td>-0.001273</td>\n",
       "      <td>-0.010484</td>\n",
       "      <td>-0.002060</td>\n",
       "    </tr>\n",
       "    <tr>\n",
       "      <td>Direction_s</td>\n",
       "      <td>0.058385</td>\n",
       "      <td>-0.017381</td>\n",
       "      <td>0.000429</td>\n",
       "      <td>-0.235475</td>\n",
       "      <td>-0.084908</td>\n",
       "      <td>1.000000</td>\n",
       "      <td>-0.250392</td>\n",
       "      <td>-0.002825</td>\n",
       "      <td>-0.005542</td>\n",
       "      <td>-0.020404</td>\n",
       "      <td>...</td>\n",
       "      <td>0.006021</td>\n",
       "      <td>0.005678</td>\n",
       "      <td>0.006880</td>\n",
       "      <td>-0.007091</td>\n",
       "      <td>-0.009010</td>\n",
       "      <td>-0.002902</td>\n",
       "      <td>-0.005430</td>\n",
       "      <td>0.008200</td>\n",
       "      <td>0.000749</td>\n",
       "      <td>0.002629</td>\n",
       "    </tr>\n",
       "    <tr>\n",
       "      <td>Direction_w</td>\n",
       "      <td>-0.047580</td>\n",
       "      <td>0.045133</td>\n",
       "      <td>-0.014221</td>\n",
       "      <td>-0.728888</td>\n",
       "      <td>-0.262825</td>\n",
       "      <td>-0.250392</td>\n",
       "      <td>1.000000</td>\n",
       "      <td>0.021100</td>\n",
       "      <td>0.022643</td>\n",
       "      <td>0.041636</td>\n",
       "      <td>...</td>\n",
       "      <td>0.003501</td>\n",
       "      <td>-0.000309</td>\n",
       "      <td>0.000905</td>\n",
       "      <td>-0.000843</td>\n",
       "      <td>-0.004734</td>\n",
       "      <td>-0.000384</td>\n",
       "      <td>0.012928</td>\n",
       "      <td>0.026452</td>\n",
       "      <td>0.015350</td>\n",
       "      <td>-0.004136</td>\n",
       "    </tr>\n",
       "    <tr>\n",
       "      <td>Incident_Diversion</td>\n",
       "      <td>-0.023700</td>\n",
       "      <td>0.175230</td>\n",
       "      <td>-0.002160</td>\n",
       "      <td>-0.018901</td>\n",
       "      <td>-0.001596</td>\n",
       "      <td>-0.002825</td>\n",
       "      <td>0.021100</td>\n",
       "      <td>1.000000</td>\n",
       "      <td>-0.020563</td>\n",
       "      <td>-0.022316</td>\n",
       "      <td>...</td>\n",
       "      <td>-0.005460</td>\n",
       "      <td>0.002509</td>\n",
       "      <td>0.026506</td>\n",
       "      <td>-0.002049</td>\n",
       "      <td>-0.000388</td>\n",
       "      <td>-0.006262</td>\n",
       "      <td>0.009340</td>\n",
       "      <td>0.011782</td>\n",
       "      <td>-0.000767</td>\n",
       "      <td>0.001514</td>\n",
       "    </tr>\n",
       "    <tr>\n",
       "      <td>Incident_Emergency Services</td>\n",
       "      <td>-0.055631</td>\n",
       "      <td>0.048142</td>\n",
       "      <td>0.001392</td>\n",
       "      <td>-0.012847</td>\n",
       "      <td>-0.012627</td>\n",
       "      <td>-0.005542</td>\n",
       "      <td>0.022643</td>\n",
       "      <td>-0.020563</td>\n",
       "      <td>1.000000</td>\n",
       "      <td>-0.032508</td>\n",
       "      <td>...</td>\n",
       "      <td>-0.008074</td>\n",
       "      <td>0.017137</td>\n",
       "      <td>0.026137</td>\n",
       "      <td>-0.005801</td>\n",
       "      <td>-0.007367</td>\n",
       "      <td>-0.006865</td>\n",
       "      <td>0.018482</td>\n",
       "      <td>-0.000305</td>\n",
       "      <td>-0.007546</td>\n",
       "      <td>-0.008458</td>\n",
       "    </tr>\n",
       "    <tr>\n",
       "      <td>Incident_General Delay</td>\n",
       "      <td>0.017453</td>\n",
       "      <td>0.010307</td>\n",
       "      <td>-0.024807</td>\n",
       "      <td>-0.022736</td>\n",
       "      <td>-0.015004</td>\n",
       "      <td>-0.020404</td>\n",
       "      <td>0.041636</td>\n",
       "      <td>-0.022316</td>\n",
       "      <td>-0.032508</td>\n",
       "      <td>1.000000</td>\n",
       "      <td>...</td>\n",
       "      <td>-0.020637</td>\n",
       "      <td>0.010302</td>\n",
       "      <td>0.018267</td>\n",
       "      <td>0.003729</td>\n",
       "      <td>-0.014024</td>\n",
       "      <td>-0.001173</td>\n",
       "      <td>0.038061</td>\n",
       "      <td>0.021885</td>\n",
       "      <td>0.013049</td>\n",
       "      <td>-0.000141</td>\n",
       "    </tr>\n",
       "    <tr>\n",
       "      <td>Incident_Held By</td>\n",
       "      <td>-0.051014</td>\n",
       "      <td>0.120897</td>\n",
       "      <td>-0.030666</td>\n",
       "      <td>-0.033710</td>\n",
       "      <td>-0.007301</td>\n",
       "      <td>-0.002220</td>\n",
       "      <td>0.038600</td>\n",
       "      <td>-0.044681</td>\n",
       "      <td>-0.065086</td>\n",
       "      <td>-0.070636</td>\n",
       "      <td>...</td>\n",
       "      <td>-0.013836</td>\n",
       "      <td>0.008668</td>\n",
       "      <td>0.020760</td>\n",
       "      <td>-0.007592</td>\n",
       "      <td>-0.016455</td>\n",
       "      <td>0.012992</td>\n",
       "      <td>-0.041700</td>\n",
       "      <td>0.019259</td>\n",
       "      <td>-0.009008</td>\n",
       "      <td>0.001846</td>\n",
       "    </tr>\n",
       "    <tr>\n",
       "      <td>Incident_Investigation</td>\n",
       "      <td>-0.028893</td>\n",
       "      <td>0.065511</td>\n",
       "      <td>0.016439</td>\n",
       "      <td>-0.004412</td>\n",
       "      <td>-0.006178</td>\n",
       "      <td>0.026648</td>\n",
       "      <td>-0.006354</td>\n",
       "      <td>-0.048016</td>\n",
       "      <td>-0.069945</td>\n",
       "      <td>-0.075909</td>\n",
       "      <td>...</td>\n",
       "      <td>-0.001621</td>\n",
       "      <td>0.018940</td>\n",
       "      <td>0.010416</td>\n",
       "      <td>-0.005356</td>\n",
       "      <td>-0.006661</td>\n",
       "      <td>-0.005792</td>\n",
       "      <td>-0.004248</td>\n",
       "      <td>0.025530</td>\n",
       "      <td>0.010606</td>\n",
       "      <td>-0.007366</td>\n",
       "    </tr>\n",
       "    <tr>\n",
       "      <td>Incident_Late Leaving Garage</td>\n",
       "      <td>0.049934</td>\n",
       "      <td>-0.074298</td>\n",
       "      <td>-0.025434</td>\n",
       "      <td>0.013744</td>\n",
       "      <td>0.020793</td>\n",
       "      <td>-0.061734</td>\n",
       "      <td>0.007648</td>\n",
       "      <td>-0.040548</td>\n",
       "      <td>-0.059066</td>\n",
       "      <td>-0.064102</td>\n",
       "      <td>...</td>\n",
       "      <td>0.016812</td>\n",
       "      <td>-0.064864</td>\n",
       "      <td>-0.058682</td>\n",
       "      <td>0.025853</td>\n",
       "      <td>0.003978</td>\n",
       "      <td>0.027213</td>\n",
       "      <td>-0.018749</td>\n",
       "      <td>-0.050263</td>\n",
       "      <td>0.009444</td>\n",
       "      <td>-0.000664</td>\n",
       "    </tr>\n",
       "    <tr>\n",
       "      <td>Incident_Mechanical</td>\n",
       "      <td>0.040936</td>\n",
       "      <td>-0.131724</td>\n",
       "      <td>0.010159</td>\n",
       "      <td>0.031156</td>\n",
       "      <td>-0.000686</td>\n",
       "      <td>0.032453</td>\n",
       "      <td>-0.047696</td>\n",
       "      <td>-0.123362</td>\n",
       "      <td>-0.179700</td>\n",
       "      <td>-0.195023</td>\n",
       "      <td>...</td>\n",
       "      <td>0.009860</td>\n",
       "      <td>0.014734</td>\n",
       "      <td>-0.002727</td>\n",
       "      <td>-0.009538</td>\n",
       "      <td>0.015828</td>\n",
       "      <td>-0.018840</td>\n",
       "      <td>0.031992</td>\n",
       "      <td>0.000394</td>\n",
       "      <td>-0.009576</td>\n",
       "      <td>0.005685</td>\n",
       "    </tr>\n",
       "    <tr>\n",
       "      <td>Incident_Overhead - Pantograph</td>\n",
       "      <td>0.002571</td>\n",
       "      <td>0.036531</td>\n",
       "      <td>-0.000058</td>\n",
       "      <td>0.000555</td>\n",
       "      <td>0.002776</td>\n",
       "      <td>-0.003546</td>\n",
       "      <td>-0.000203</td>\n",
       "      <td>-0.001481</td>\n",
       "      <td>-0.002158</td>\n",
       "      <td>-0.002342</td>\n",
       "      <td>...</td>\n",
       "      <td>-0.000148</td>\n",
       "      <td>0.001179</td>\n",
       "      <td>0.001761</td>\n",
       "      <td>0.004015</td>\n",
       "      <td>0.004389</td>\n",
       "      <td>-0.005400</td>\n",
       "      <td>0.016526</td>\n",
       "      <td>0.017289</td>\n",
       "      <td>0.012407</td>\n",
       "      <td>0.009360</td>\n",
       "    </tr>\n",
       "    <tr>\n",
       "      <td>Incident_Utilized Off Route</td>\n",
       "      <td>0.000294</td>\n",
       "      <td>-0.027116</td>\n",
       "      <td>0.062868</td>\n",
       "      <td>0.007375</td>\n",
       "      <td>0.019138</td>\n",
       "      <td>-0.004667</td>\n",
       "      <td>-0.015405</td>\n",
       "      <td>-0.022749</td>\n",
       "      <td>-0.033139</td>\n",
       "      <td>-0.035964</td>\n",
       "      <td>...</td>\n",
       "      <td>0.004324</td>\n",
       "      <td>-0.010976</td>\n",
       "      <td>-0.010781</td>\n",
       "      <td>0.009278</td>\n",
       "      <td>0.012908</td>\n",
       "      <td>0.005385</td>\n",
       "      <td>-0.034379</td>\n",
       "      <td>-0.030115</td>\n",
       "      <td>0.000091</td>\n",
       "      <td>0.002521</td>\n",
       "    </tr>\n",
       "    <tr>\n",
       "      <td>Day_Friday</td>\n",
       "      <td>0.006170</td>\n",
       "      <td>-0.004490</td>\n",
       "      <td>0.001162</td>\n",
       "      <td>-0.001670</td>\n",
       "      <td>-0.003376</td>\n",
       "      <td>0.002689</td>\n",
       "      <td>0.002094</td>\n",
       "      <td>-0.009972</td>\n",
       "      <td>-0.008425</td>\n",
       "      <td>0.007419</td>\n",
       "      <td>...</td>\n",
       "      <td>-0.180019</td>\n",
       "      <td>-0.154693</td>\n",
       "      <td>-0.144847</td>\n",
       "      <td>-0.193356</td>\n",
       "      <td>-0.187446</td>\n",
       "      <td>-0.187791</td>\n",
       "      <td>-0.005489</td>\n",
       "      <td>-0.000036</td>\n",
       "      <td>-0.008049</td>\n",
       "      <td>-0.000797</td>\n",
       "    </tr>\n",
       "    <tr>\n",
       "      <td>Day_Monday</td>\n",
       "      <td>0.010611</td>\n",
       "      <td>-0.013045</td>\n",
       "      <td>-0.002274</td>\n",
       "      <td>-0.004201</td>\n",
       "      <td>-0.004585</td>\n",
       "      <td>0.006021</td>\n",
       "      <td>0.003501</td>\n",
       "      <td>-0.005460</td>\n",
       "      <td>-0.008074</td>\n",
       "      <td>-0.020637</td>\n",
       "      <td>...</td>\n",
       "      <td>1.000000</td>\n",
       "      <td>-0.148155</td>\n",
       "      <td>-0.138725</td>\n",
       "      <td>-0.185184</td>\n",
       "      <td>-0.179523</td>\n",
       "      <td>-0.179854</td>\n",
       "      <td>0.004539</td>\n",
       "      <td>-0.014690</td>\n",
       "      <td>-0.000877</td>\n",
       "      <td>-0.010434</td>\n",
       "    </tr>\n",
       "    <tr>\n",
       "      <td>Day_Saturday</td>\n",
       "      <td>-0.029604</td>\n",
       "      <td>0.015613</td>\n",
       "      <td>-0.004080</td>\n",
       "      <td>-0.007830</td>\n",
       "      <td>0.009142</td>\n",
       "      <td>0.005678</td>\n",
       "      <td>-0.000309</td>\n",
       "      <td>0.002509</td>\n",
       "      <td>0.017137</td>\n",
       "      <td>0.010302</td>\n",
       "      <td>...</td>\n",
       "      <td>-0.148155</td>\n",
       "      <td>1.000000</td>\n",
       "      <td>-0.119209</td>\n",
       "      <td>-0.159131</td>\n",
       "      <td>-0.154267</td>\n",
       "      <td>-0.154551</td>\n",
       "      <td>0.021111</td>\n",
       "      <td>-0.002790</td>\n",
       "      <td>0.010693</td>\n",
       "      <td>-0.016054</td>\n",
       "    </tr>\n",
       "    <tr>\n",
       "      <td>Day_Sunday</td>\n",
       "      <td>-0.049578</td>\n",
       "      <td>0.042096</td>\n",
       "      <td>-0.003524</td>\n",
       "      <td>-0.005333</td>\n",
       "      <td>0.001315</td>\n",
       "      <td>0.006880</td>\n",
       "      <td>0.000905</td>\n",
       "      <td>0.026506</td>\n",
       "      <td>0.026137</td>\n",
       "      <td>0.018267</td>\n",
       "      <td>...</td>\n",
       "      <td>-0.138725</td>\n",
       "      <td>-0.119209</td>\n",
       "      <td>1.000000</td>\n",
       "      <td>-0.149003</td>\n",
       "      <td>-0.144448</td>\n",
       "      <td>-0.144714</td>\n",
       "      <td>0.006928</td>\n",
       "      <td>-0.005580</td>\n",
       "      <td>0.005384</td>\n",
       "      <td>0.007741</td>\n",
       "    </tr>\n",
       "    <tr>\n",
       "      <td>Day_Thursday</td>\n",
       "      <td>0.015163</td>\n",
       "      <td>-0.015156</td>\n",
       "      <td>-0.002267</td>\n",
       "      <td>0.004471</td>\n",
       "      <td>0.000321</td>\n",
       "      <td>-0.007091</td>\n",
       "      <td>-0.000843</td>\n",
       "      <td>-0.002049</td>\n",
       "      <td>-0.005801</td>\n",
       "      <td>0.003729</td>\n",
       "      <td>...</td>\n",
       "      <td>-0.185184</td>\n",
       "      <td>-0.159131</td>\n",
       "      <td>-0.149003</td>\n",
       "      <td>1.000000</td>\n",
       "      <td>-0.192824</td>\n",
       "      <td>-0.193179</td>\n",
       "      <td>0.004579</td>\n",
       "      <td>0.008586</td>\n",
       "      <td>0.015499</td>\n",
       "      <td>0.024265</td>\n",
       "    </tr>\n",
       "    <tr>\n",
       "      <td>Day_Tuesday</td>\n",
       "      <td>0.009791</td>\n",
       "      <td>-0.005897</td>\n",
       "      <td>0.008051</td>\n",
       "      <td>0.012275</td>\n",
       "      <td>-0.004783</td>\n",
       "      <td>-0.009010</td>\n",
       "      <td>-0.004734</td>\n",
       "      <td>-0.000388</td>\n",
       "      <td>-0.007367</td>\n",
       "      <td>-0.014024</td>\n",
       "      <td>...</td>\n",
       "      <td>-0.179523</td>\n",
       "      <td>-0.154267</td>\n",
       "      <td>-0.144448</td>\n",
       "      <td>-0.192824</td>\n",
       "      <td>1.000000</td>\n",
       "      <td>-0.187274</td>\n",
       "      <td>-0.018085</td>\n",
       "      <td>0.003496</td>\n",
       "      <td>-0.001210</td>\n",
       "      <td>0.002012</td>\n",
       "    </tr>\n",
       "    <tr>\n",
       "      <td>Day_Wednesday</td>\n",
       "      <td>0.024823</td>\n",
       "      <td>-0.009730</td>\n",
       "      <td>0.001761</td>\n",
       "      <td>0.000122</td>\n",
       "      <td>0.003262</td>\n",
       "      <td>-0.002902</td>\n",
       "      <td>-0.000384</td>\n",
       "      <td>-0.006262</td>\n",
       "      <td>-0.006865</td>\n",
       "      <td>-0.001173</td>\n",
       "      <td>...</td>\n",
       "      <td>-0.179854</td>\n",
       "      <td>-0.154551</td>\n",
       "      <td>-0.144714</td>\n",
       "      <td>-0.193179</td>\n",
       "      <td>-0.187274</td>\n",
       "      <td>1.000000</td>\n",
       "      <td>-0.009552</td>\n",
       "      <td>0.009071</td>\n",
       "      <td>-0.019410</td>\n",
       "      <td>-0.008277</td>\n",
       "    </tr>\n",
       "    <tr>\n",
       "      <td>Year</td>\n",
       "      <td>-0.011980</td>\n",
       "      <td>-0.015375</td>\n",
       "      <td>-0.049402</td>\n",
       "      <td>-0.008377</td>\n",
       "      <td>-0.003167</td>\n",
       "      <td>-0.005430</td>\n",
       "      <td>0.012928</td>\n",
       "      <td>0.009340</td>\n",
       "      <td>0.018482</td>\n",
       "      <td>0.038061</td>\n",
       "      <td>...</td>\n",
       "      <td>0.004539</td>\n",
       "      <td>0.021111</td>\n",
       "      <td>0.006928</td>\n",
       "      <td>0.004579</td>\n",
       "      <td>-0.018085</td>\n",
       "      <td>-0.009552</td>\n",
       "      <td>1.000000</td>\n",
       "      <td>-0.048151</td>\n",
       "      <td>0.019126</td>\n",
       "      <td>0.008461</td>\n",
       "    </tr>\n",
       "    <tr>\n",
       "      <td>Month</td>\n",
       "      <td>-0.001899</td>\n",
       "      <td>0.016159</td>\n",
       "      <td>0.001179</td>\n",
       "      <td>-0.030390</td>\n",
       "      <td>-0.001273</td>\n",
       "      <td>0.008200</td>\n",
       "      <td>0.026452</td>\n",
       "      <td>0.011782</td>\n",
       "      <td>-0.000305</td>\n",
       "      <td>0.021885</td>\n",
       "      <td>...</td>\n",
       "      <td>-0.014690</td>\n",
       "      <td>-0.002790</td>\n",
       "      <td>-0.005580</td>\n",
       "      <td>0.008586</td>\n",
       "      <td>0.003496</td>\n",
       "      <td>0.009071</td>\n",
       "      <td>-0.048151</td>\n",
       "      <td>1.000000</td>\n",
       "      <td>0.036648</td>\n",
       "      <td>0.002977</td>\n",
       "    </tr>\n",
       "    <tr>\n",
       "      <td>Day</td>\n",
       "      <td>0.011446</td>\n",
       "      <td>-0.001196</td>\n",
       "      <td>-0.001149</td>\n",
       "      <td>-0.010049</td>\n",
       "      <td>-0.010484</td>\n",
       "      <td>0.000749</td>\n",
       "      <td>0.015350</td>\n",
       "      <td>-0.000767</td>\n",
       "      <td>-0.007546</td>\n",
       "      <td>0.013049</td>\n",
       "      <td>...</td>\n",
       "      <td>-0.000877</td>\n",
       "      <td>0.010693</td>\n",
       "      <td>0.005384</td>\n",
       "      <td>0.015499</td>\n",
       "      <td>-0.001210</td>\n",
       "      <td>-0.019410</td>\n",
       "      <td>0.019126</td>\n",
       "      <td>0.036648</td>\n",
       "      <td>1.000000</td>\n",
       "      <td>0.151580</td>\n",
       "    </tr>\n",
       "    <tr>\n",
       "      <td>Hour</td>\n",
       "      <td>-0.000178</td>\n",
       "      <td>-0.005060</td>\n",
       "      <td>0.000911</td>\n",
       "      <td>0.003917</td>\n",
       "      <td>-0.002060</td>\n",
       "      <td>0.002629</td>\n",
       "      <td>-0.004136</td>\n",
       "      <td>0.001514</td>\n",
       "      <td>-0.008458</td>\n",
       "      <td>-0.000141</td>\n",
       "      <td>...</td>\n",
       "      <td>-0.010434</td>\n",
       "      <td>-0.016054</td>\n",
       "      <td>0.007741</td>\n",
       "      <td>0.024265</td>\n",
       "      <td>0.002012</td>\n",
       "      <td>-0.008277</td>\n",
       "      <td>0.008461</td>\n",
       "      <td>0.002977</td>\n",
       "      <td>0.151580</td>\n",
       "      <td>1.000000</td>\n",
       "    </tr>\n",
       "  </tbody>\n",
       "</table>\n",
       "<p>27 rows × 27 columns</p>\n",
       "</div>"
      ],
      "text/plain": [
       "                                   Route   Min Gap   Vehicle  Direction_e  \\\n",
       "Route                           1.000000 -0.086860  0.003536    -0.019117   \n",
       "Min Gap                        -0.086860  1.000000 -0.020061    -0.018443   \n",
       "Vehicle                         0.003536 -0.020061  1.000000     0.015028   \n",
       "Direction_e                    -0.019117 -0.018443  0.015028     1.000000   \n",
       "Direction_n                     0.064304 -0.031929 -0.001610    -0.247167   \n",
       "Direction_s                     0.058385 -0.017381  0.000429    -0.235475   \n",
       "Direction_w                    -0.047580  0.045133 -0.014221    -0.728888   \n",
       "Incident_Diversion             -0.023700  0.175230 -0.002160    -0.018901   \n",
       "Incident_Emergency Services    -0.055631  0.048142  0.001392    -0.012847   \n",
       "Incident_General Delay          0.017453  0.010307 -0.024807    -0.022736   \n",
       "Incident_Held By               -0.051014  0.120897 -0.030666    -0.033710   \n",
       "Incident_Investigation         -0.028893  0.065511  0.016439    -0.004412   \n",
       "Incident_Late Leaving Garage    0.049934 -0.074298 -0.025434     0.013744   \n",
       "Incident_Mechanical             0.040936 -0.131724  0.010159     0.031156   \n",
       "Incident_Overhead - Pantograph  0.002571  0.036531 -0.000058     0.000555   \n",
       "Incident_Utilized Off Route     0.000294 -0.027116  0.062868     0.007375   \n",
       "Day_Friday                      0.006170 -0.004490  0.001162    -0.001670   \n",
       "Day_Monday                      0.010611 -0.013045 -0.002274    -0.004201   \n",
       "Day_Saturday                   -0.029604  0.015613 -0.004080    -0.007830   \n",
       "Day_Sunday                     -0.049578  0.042096 -0.003524    -0.005333   \n",
       "Day_Thursday                    0.015163 -0.015156 -0.002267     0.004471   \n",
       "Day_Tuesday                     0.009791 -0.005897  0.008051     0.012275   \n",
       "Day_Wednesday                   0.024823 -0.009730  0.001761     0.000122   \n",
       "Year                           -0.011980 -0.015375 -0.049402    -0.008377   \n",
       "Month                          -0.001899  0.016159  0.001179    -0.030390   \n",
       "Day                             0.011446 -0.001196 -0.001149    -0.010049   \n",
       "Hour                           -0.000178 -0.005060  0.000911     0.003917   \n",
       "\n",
       "                                Direction_n  Direction_s  Direction_w  \\\n",
       "Route                              0.064304     0.058385    -0.047580   \n",
       "Min Gap                           -0.031929    -0.017381     0.045133   \n",
       "Vehicle                           -0.001610     0.000429    -0.014221   \n",
       "Direction_e                       -0.247167    -0.235475    -0.728888   \n",
       "Direction_n                        1.000000    -0.084908    -0.262825   \n",
       "Direction_s                       -0.084908     1.000000    -0.250392   \n",
       "Direction_w                       -0.262825    -0.250392     1.000000   \n",
       "Incident_Diversion                -0.001596    -0.002825     0.021100   \n",
       "Incident_Emergency Services       -0.012627    -0.005542     0.022643   \n",
       "Incident_General Delay            -0.015004    -0.020404     0.041636   \n",
       "Incident_Held By                  -0.007301    -0.002220     0.038600   \n",
       "Incident_Investigation            -0.006178     0.026648    -0.006354   \n",
       "Incident_Late Leaving Garage       0.020793    -0.061734     0.007648   \n",
       "Incident_Mechanical               -0.000686     0.032453    -0.047696   \n",
       "Incident_Overhead - Pantograph     0.002776    -0.003546    -0.000203   \n",
       "Incident_Utilized Off Route        0.019138    -0.004667    -0.015405   \n",
       "Day_Friday                        -0.003376     0.002689     0.002094   \n",
       "Day_Monday                        -0.004585     0.006021     0.003501   \n",
       "Day_Saturday                       0.009142     0.005678    -0.000309   \n",
       "Day_Sunday                         0.001315     0.006880     0.000905   \n",
       "Day_Thursday                       0.000321    -0.007091    -0.000843   \n",
       "Day_Tuesday                       -0.004783    -0.009010    -0.004734   \n",
       "Day_Wednesday                      0.003262    -0.002902    -0.000384   \n",
       "Year                              -0.003167    -0.005430     0.012928   \n",
       "Month                             -0.001273     0.008200     0.026452   \n",
       "Day                               -0.010484     0.000749     0.015350   \n",
       "Hour                              -0.002060     0.002629    -0.004136   \n",
       "\n",
       "                                Incident_Diversion  \\\n",
       "Route                                    -0.023700   \n",
       "Min Gap                                   0.175230   \n",
       "Vehicle                                  -0.002160   \n",
       "Direction_e                              -0.018901   \n",
       "Direction_n                              -0.001596   \n",
       "Direction_s                              -0.002825   \n",
       "Direction_w                               0.021100   \n",
       "Incident_Diversion                        1.000000   \n",
       "Incident_Emergency Services              -0.020563   \n",
       "Incident_General Delay                   -0.022316   \n",
       "Incident_Held By                         -0.044681   \n",
       "Incident_Investigation                   -0.048016   \n",
       "Incident_Late Leaving Garage             -0.040548   \n",
       "Incident_Mechanical                      -0.123362   \n",
       "Incident_Overhead - Pantograph           -0.001481   \n",
       "Incident_Utilized Off Route              -0.022749   \n",
       "Day_Friday                               -0.009972   \n",
       "Day_Monday                               -0.005460   \n",
       "Day_Saturday                              0.002509   \n",
       "Day_Sunday                                0.026506   \n",
       "Day_Thursday                             -0.002049   \n",
       "Day_Tuesday                              -0.000388   \n",
       "Day_Wednesday                            -0.006262   \n",
       "Year                                      0.009340   \n",
       "Month                                     0.011782   \n",
       "Day                                      -0.000767   \n",
       "Hour                                      0.001514   \n",
       "\n",
       "                                Incident_Emergency Services  \\\n",
       "Route                                             -0.055631   \n",
       "Min Gap                                            0.048142   \n",
       "Vehicle                                            0.001392   \n",
       "Direction_e                                       -0.012847   \n",
       "Direction_n                                       -0.012627   \n",
       "Direction_s                                       -0.005542   \n",
       "Direction_w                                        0.022643   \n",
       "Incident_Diversion                                -0.020563   \n",
       "Incident_Emergency Services                        1.000000   \n",
       "Incident_General Delay                            -0.032508   \n",
       "Incident_Held By                                  -0.065086   \n",
       "Incident_Investigation                            -0.069945   \n",
       "Incident_Late Leaving Garage                      -0.059066   \n",
       "Incident_Mechanical                               -0.179700   \n",
       "Incident_Overhead - Pantograph                    -0.002158   \n",
       "Incident_Utilized Off Route                       -0.033139   \n",
       "Day_Friday                                        -0.008425   \n",
       "Day_Monday                                        -0.008074   \n",
       "Day_Saturday                                       0.017137   \n",
       "Day_Sunday                                         0.026137   \n",
       "Day_Thursday                                      -0.005801   \n",
       "Day_Tuesday                                       -0.007367   \n",
       "Day_Wednesday                                     -0.006865   \n",
       "Year                                               0.018482   \n",
       "Month                                             -0.000305   \n",
       "Day                                               -0.007546   \n",
       "Hour                                              -0.008458   \n",
       "\n",
       "                                Incident_General Delay  ...  Day_Monday  \\\n",
       "Route                                         0.017453  ...    0.010611   \n",
       "Min Gap                                       0.010307  ...   -0.013045   \n",
       "Vehicle                                      -0.024807  ...   -0.002274   \n",
       "Direction_e                                  -0.022736  ...   -0.004201   \n",
       "Direction_n                                  -0.015004  ...   -0.004585   \n",
       "Direction_s                                  -0.020404  ...    0.006021   \n",
       "Direction_w                                   0.041636  ...    0.003501   \n",
       "Incident_Diversion                           -0.022316  ...   -0.005460   \n",
       "Incident_Emergency Services                  -0.032508  ...   -0.008074   \n",
       "Incident_General Delay                        1.000000  ...   -0.020637   \n",
       "Incident_Held By                             -0.070636  ...   -0.013836   \n",
       "Incident_Investigation                       -0.075909  ...   -0.001621   \n",
       "Incident_Late Leaving Garage                 -0.064102  ...    0.016812   \n",
       "Incident_Mechanical                          -0.195023  ...    0.009860   \n",
       "Incident_Overhead - Pantograph               -0.002342  ...   -0.000148   \n",
       "Incident_Utilized Off Route                  -0.035964  ...    0.004324   \n",
       "Day_Friday                                    0.007419  ...   -0.180019   \n",
       "Day_Monday                                   -0.020637  ...    1.000000   \n",
       "Day_Saturday                                  0.010302  ...   -0.148155   \n",
       "Day_Sunday                                    0.018267  ...   -0.138725   \n",
       "Day_Thursday                                  0.003729  ...   -0.185184   \n",
       "Day_Tuesday                                  -0.014024  ...   -0.179523   \n",
       "Day_Wednesday                                -0.001173  ...   -0.179854   \n",
       "Year                                          0.038061  ...    0.004539   \n",
       "Month                                         0.021885  ...   -0.014690   \n",
       "Day                                           0.013049  ...   -0.000877   \n",
       "Hour                                         -0.000141  ...   -0.010434   \n",
       "\n",
       "                                Day_Saturday  Day_Sunday  Day_Thursday  \\\n",
       "Route                              -0.029604   -0.049578      0.015163   \n",
       "Min Gap                             0.015613    0.042096     -0.015156   \n",
       "Vehicle                            -0.004080   -0.003524     -0.002267   \n",
       "Direction_e                        -0.007830   -0.005333      0.004471   \n",
       "Direction_n                         0.009142    0.001315      0.000321   \n",
       "Direction_s                         0.005678    0.006880     -0.007091   \n",
       "Direction_w                        -0.000309    0.000905     -0.000843   \n",
       "Incident_Diversion                  0.002509    0.026506     -0.002049   \n",
       "Incident_Emergency Services         0.017137    0.026137     -0.005801   \n",
       "Incident_General Delay              0.010302    0.018267      0.003729   \n",
       "Incident_Held By                    0.008668    0.020760     -0.007592   \n",
       "Incident_Investigation              0.018940    0.010416     -0.005356   \n",
       "Incident_Late Leaving Garage       -0.064864   -0.058682      0.025853   \n",
       "Incident_Mechanical                 0.014734   -0.002727     -0.009538   \n",
       "Incident_Overhead - Pantograph      0.001179    0.001761      0.004015   \n",
       "Incident_Utilized Off Route        -0.010976   -0.010781      0.009278   \n",
       "Day_Friday                         -0.154693   -0.144847     -0.193356   \n",
       "Day_Monday                         -0.148155   -0.138725     -0.185184   \n",
       "Day_Saturday                        1.000000   -0.119209     -0.159131   \n",
       "Day_Sunday                         -0.119209    1.000000     -0.149003   \n",
       "Day_Thursday                       -0.159131   -0.149003      1.000000   \n",
       "Day_Tuesday                        -0.154267   -0.144448     -0.192824   \n",
       "Day_Wednesday                      -0.154551   -0.144714     -0.193179   \n",
       "Year                                0.021111    0.006928      0.004579   \n",
       "Month                              -0.002790   -0.005580      0.008586   \n",
       "Day                                 0.010693    0.005384      0.015499   \n",
       "Hour                               -0.016054    0.007741      0.024265   \n",
       "\n",
       "                                Day_Tuesday  Day_Wednesday      Year  \\\n",
       "Route                              0.009791       0.024823 -0.011980   \n",
       "Min Gap                           -0.005897      -0.009730 -0.015375   \n",
       "Vehicle                            0.008051       0.001761 -0.049402   \n",
       "Direction_e                        0.012275       0.000122 -0.008377   \n",
       "Direction_n                       -0.004783       0.003262 -0.003167   \n",
       "Direction_s                       -0.009010      -0.002902 -0.005430   \n",
       "Direction_w                       -0.004734      -0.000384  0.012928   \n",
       "Incident_Diversion                -0.000388      -0.006262  0.009340   \n",
       "Incident_Emergency Services       -0.007367      -0.006865  0.018482   \n",
       "Incident_General Delay            -0.014024      -0.001173  0.038061   \n",
       "Incident_Held By                  -0.016455       0.012992 -0.041700   \n",
       "Incident_Investigation            -0.006661      -0.005792 -0.004248   \n",
       "Incident_Late Leaving Garage       0.003978       0.027213 -0.018749   \n",
       "Incident_Mechanical                0.015828      -0.018840  0.031992   \n",
       "Incident_Overhead - Pantograph     0.004389      -0.005400  0.016526   \n",
       "Incident_Utilized Off Route        0.012908       0.005385 -0.034379   \n",
       "Day_Friday                        -0.187446      -0.187791 -0.005489   \n",
       "Day_Monday                        -0.179523      -0.179854  0.004539   \n",
       "Day_Saturday                      -0.154267      -0.154551  0.021111   \n",
       "Day_Sunday                        -0.144448      -0.144714  0.006928   \n",
       "Day_Thursday                      -0.192824      -0.193179  0.004579   \n",
       "Day_Tuesday                        1.000000      -0.187274 -0.018085   \n",
       "Day_Wednesday                     -0.187274       1.000000 -0.009552   \n",
       "Year                              -0.018085      -0.009552  1.000000   \n",
       "Month                              0.003496       0.009071 -0.048151   \n",
       "Day                               -0.001210      -0.019410  0.019126   \n",
       "Hour                               0.002012      -0.008277  0.008461   \n",
       "\n",
       "                                   Month       Day      Hour  \n",
       "Route                          -0.001899  0.011446 -0.000178  \n",
       "Min Gap                         0.016159 -0.001196 -0.005060  \n",
       "Vehicle                         0.001179 -0.001149  0.000911  \n",
       "Direction_e                    -0.030390 -0.010049  0.003917  \n",
       "Direction_n                    -0.001273 -0.010484 -0.002060  \n",
       "Direction_s                     0.008200  0.000749  0.002629  \n",
       "Direction_w                     0.026452  0.015350 -0.004136  \n",
       "Incident_Diversion              0.011782 -0.000767  0.001514  \n",
       "Incident_Emergency Services    -0.000305 -0.007546 -0.008458  \n",
       "Incident_General Delay          0.021885  0.013049 -0.000141  \n",
       "Incident_Held By                0.019259 -0.009008  0.001846  \n",
       "Incident_Investigation          0.025530  0.010606 -0.007366  \n",
       "Incident_Late Leaving Garage   -0.050263  0.009444 -0.000664  \n",
       "Incident_Mechanical             0.000394 -0.009576  0.005685  \n",
       "Incident_Overhead - Pantograph  0.017289  0.012407  0.009360  \n",
       "Incident_Utilized Off Route    -0.030115  0.000091  0.002521  \n",
       "Day_Friday                     -0.000036 -0.008049 -0.000797  \n",
       "Day_Monday                     -0.014690 -0.000877 -0.010434  \n",
       "Day_Saturday                   -0.002790  0.010693 -0.016054  \n",
       "Day_Sunday                     -0.005580  0.005384  0.007741  \n",
       "Day_Thursday                    0.008586  0.015499  0.024265  \n",
       "Day_Tuesday                     0.003496 -0.001210  0.002012  \n",
       "Day_Wednesday                   0.009071 -0.019410 -0.008277  \n",
       "Year                           -0.048151  0.019126  0.008461  \n",
       "Month                           1.000000  0.036648  0.002977  \n",
       "Day                             0.036648  1.000000  0.151580  \n",
       "Hour                            0.002977  0.151580  1.000000  \n",
       "\n",
       "[27 rows x 27 columns]"
      ]
     },
     "execution_count": 9,
     "metadata": {},
     "output_type": "execute_result"
    }
   ],
   "source": [
    "X.corr()"
   ]
  },
  {
   "cell_type": "code",
   "execution_count": 10,
   "metadata": {},
   "outputs": [],
   "source": [
    "number_of_features = X.shape[1]"
   ]
  },
  {
   "cell_type": "code",
   "execution_count": 11,
   "metadata": {},
   "outputs": [
    {
     "data": {
      "image/png": "[encoded data removed]",
      "text/plain": [
       "<Figure size 720x720 with 2 Axes>"
      ]
     },
     "metadata": {
      "needs_background": "light"
     },
     "output_type": "display_data"
    }
   ],
   "source": [
    "plt.figure(figsize = (10, 10))\n",
    "plt.xticks(range(0, number_of_features), feature_names, rotation='vertical')\n",
    "plt.yticks(range(0, number_of_features), feature_names)\n",
    "plt.imshow(X.corr(), cmap='ocean')\n",
    "plt.colorbar()\n",
    "plt.show()"
   ]
  },
  {
   "cell_type": "code",
   "execution_count": null,
   "metadata": {},
   "outputs": [],
   "source": []
  },
  {
   "cell_type": "code",
   "execution_count": 12,
   "metadata": {},
   "outputs": [],
   "source": [
    "X_train, X_test, y_train, y_test = model_selection.train_test_split(X, y, test_size = 0.33, random_state = 7, stratify = y)"
   ]
  },
  {
   "cell_type": "code",
   "execution_count": 13,
   "metadata": {},
   "outputs": [
    {
     "data": {
      "text/html": [
       "<div>\n",
       "<style scoped>\n",
       "    .dataframe tbody tr th:only-of-type {\n",
       "        vertical-align: middle;\n",
       "    }\n",
       "\n",
       "    .dataframe tbody tr th {\n",
       "        vertical-align: top;\n",
       "    }\n",
       "\n",
       "    .dataframe thead th {\n",
       "        text-align: right;\n",
       "    }\n",
       "</style>\n",
       "<table border=\"1\" class=\"dataframe\">\n",
       "  <thead>\n",
       "    <tr style=\"text-align: right;\">\n",
       "      <th></th>\n",
       "      <th>Route</th>\n",
       "      <th>Min Gap</th>\n",
       "      <th>Vehicle</th>\n",
       "      <th>Direction_e</th>\n",
       "      <th>Direction_n</th>\n",
       "      <th>Direction_s</th>\n",
       "      <th>Direction_w</th>\n",
       "      <th>Incident_Diversion</th>\n",
       "      <th>Incident_Emergency Services</th>\n",
       "      <th>Incident_General Delay</th>\n",
       "      <th>...</th>\n",
       "      <th>Day_Monday</th>\n",
       "      <th>Day_Saturday</th>\n",
       "      <th>Day_Sunday</th>\n",
       "      <th>Day_Thursday</th>\n",
       "      <th>Day_Tuesday</th>\n",
       "      <th>Day_Wednesday</th>\n",
       "      <th>Year</th>\n",
       "      <th>Month</th>\n",
       "      <th>Day</th>\n",
       "      <th>Hour</th>\n",
       "    </tr>\n",
       "  </thead>\n",
       "  <tbody>\n",
       "    <tr>\n",
       "      <td>40978</td>\n",
       "      <td>506</td>\n",
       "      <td>12</td>\n",
       "      <td>4169</td>\n",
       "      <td>1</td>\n",
       "      <td>0</td>\n",
       "      <td>0</td>\n",
       "      <td>0</td>\n",
       "      <td>0</td>\n",
       "      <td>0</td>\n",
       "      <td>0</td>\n",
       "      <td>...</td>\n",
       "      <td>0</td>\n",
       "      <td>0</td>\n",
       "      <td>0</td>\n",
       "      <td>1</td>\n",
       "      <td>0</td>\n",
       "      <td>0</td>\n",
       "      <td>2017</td>\n",
       "      <td>7</td>\n",
       "      <td>27</td>\n",
       "      <td>17</td>\n",
       "    </tr>\n",
       "    <tr>\n",
       "      <td>29934</td>\n",
       "      <td>501</td>\n",
       "      <td>10</td>\n",
       "      <td>4221</td>\n",
       "      <td>0</td>\n",
       "      <td>0</td>\n",
       "      <td>0</td>\n",
       "      <td>1</td>\n",
       "      <td>0</td>\n",
       "      <td>0</td>\n",
       "      <td>0</td>\n",
       "      <td>...</td>\n",
       "      <td>0</td>\n",
       "      <td>0</td>\n",
       "      <td>0</td>\n",
       "      <td>0</td>\n",
       "      <td>0</td>\n",
       "      <td>1</td>\n",
       "      <td>2016</td>\n",
       "      <td>9</td>\n",
       "      <td>21</td>\n",
       "      <td>22</td>\n",
       "    </tr>\n",
       "    <tr>\n",
       "      <td>12501</td>\n",
       "      <td>504</td>\n",
       "      <td>8</td>\n",
       "      <td>4038</td>\n",
       "      <td>1</td>\n",
       "      <td>0</td>\n",
       "      <td>0</td>\n",
       "      <td>0</td>\n",
       "      <td>0</td>\n",
       "      <td>0</td>\n",
       "      <td>0</td>\n",
       "      <td>...</td>\n",
       "      <td>0</td>\n",
       "      <td>0</td>\n",
       "      <td>0</td>\n",
       "      <td>0</td>\n",
       "      <td>1</td>\n",
       "      <td>0</td>\n",
       "      <td>2015</td>\n",
       "      <td>2</td>\n",
       "      <td>24</td>\n",
       "      <td>6</td>\n",
       "    </tr>\n",
       "    <tr>\n",
       "      <td>7718</td>\n",
       "      <td>504</td>\n",
       "      <td>8</td>\n",
       "      <td>4153</td>\n",
       "      <td>1</td>\n",
       "      <td>0</td>\n",
       "      <td>0</td>\n",
       "      <td>0</td>\n",
       "      <td>0</td>\n",
       "      <td>0</td>\n",
       "      <td>0</td>\n",
       "      <td>...</td>\n",
       "      <td>0</td>\n",
       "      <td>0</td>\n",
       "      <td>0</td>\n",
       "      <td>1</td>\n",
       "      <td>0</td>\n",
       "      <td>0</td>\n",
       "      <td>2014</td>\n",
       "      <td>10</td>\n",
       "      <td>2</td>\n",
       "      <td>10</td>\n",
       "    </tr>\n",
       "    <tr>\n",
       "      <td>41369</td>\n",
       "      <td>506</td>\n",
       "      <td>1</td>\n",
       "      <td>4035</td>\n",
       "      <td>0</td>\n",
       "      <td>0</td>\n",
       "      <td>0</td>\n",
       "      <td>1</td>\n",
       "      <td>0</td>\n",
       "      <td>0</td>\n",
       "      <td>0</td>\n",
       "      <td>...</td>\n",
       "      <td>0</td>\n",
       "      <td>0</td>\n",
       "      <td>0</td>\n",
       "      <td>1</td>\n",
       "      <td>0</td>\n",
       "      <td>0</td>\n",
       "      <td>2017</td>\n",
       "      <td>8</td>\n",
       "      <td>10</td>\n",
       "      <td>11</td>\n",
       "    </tr>\n",
       "    <tr>\n",
       "      <td>...</td>\n",
       "      <td>...</td>\n",
       "      <td>...</td>\n",
       "      <td>...</td>\n",
       "      <td>...</td>\n",
       "      <td>...</td>\n",
       "      <td>...</td>\n",
       "      <td>...</td>\n",
       "      <td>...</td>\n",
       "      <td>...</td>\n",
       "      <td>...</td>\n",
       "      <td>...</td>\n",
       "      <td>...</td>\n",
       "      <td>...</td>\n",
       "      <td>...</td>\n",
       "      <td>...</td>\n",
       "      <td>...</td>\n",
       "      <td>...</td>\n",
       "      <td>...</td>\n",
       "      <td>...</td>\n",
       "      <td>...</td>\n",
       "      <td>...</td>\n",
       "    </tr>\n",
       "    <tr>\n",
       "      <td>27651</td>\n",
       "      <td>501</td>\n",
       "      <td>29</td>\n",
       "      <td>4205</td>\n",
       "      <td>1</td>\n",
       "      <td>0</td>\n",
       "      <td>0</td>\n",
       "      <td>0</td>\n",
       "      <td>0</td>\n",
       "      <td>0</td>\n",
       "      <td>0</td>\n",
       "      <td>...</td>\n",
       "      <td>0</td>\n",
       "      <td>0</td>\n",
       "      <td>0</td>\n",
       "      <td>0</td>\n",
       "      <td>1</td>\n",
       "      <td>0</td>\n",
       "      <td>2016</td>\n",
       "      <td>7</td>\n",
       "      <td>5</td>\n",
       "      <td>8</td>\n",
       "    </tr>\n",
       "    <tr>\n",
       "      <td>43907</td>\n",
       "      <td>501</td>\n",
       "      <td>10</td>\n",
       "      <td>4232</td>\n",
       "      <td>0</td>\n",
       "      <td>0</td>\n",
       "      <td>0</td>\n",
       "      <td>1</td>\n",
       "      <td>0</td>\n",
       "      <td>0</td>\n",
       "      <td>0</td>\n",
       "      <td>...</td>\n",
       "      <td>0</td>\n",
       "      <td>0</td>\n",
       "      <td>0</td>\n",
       "      <td>0</td>\n",
       "      <td>0</td>\n",
       "      <td>1</td>\n",
       "      <td>2017</td>\n",
       "      <td>12</td>\n",
       "      <td>6</td>\n",
       "      <td>14</td>\n",
       "    </tr>\n",
       "    <tr>\n",
       "      <td>26054</td>\n",
       "      <td>512</td>\n",
       "      <td>74</td>\n",
       "      <td>4183</td>\n",
       "      <td>0</td>\n",
       "      <td>0</td>\n",
       "      <td>0</td>\n",
       "      <td>1</td>\n",
       "      <td>0</td>\n",
       "      <td>0</td>\n",
       "      <td>0</td>\n",
       "      <td>...</td>\n",
       "      <td>0</td>\n",
       "      <td>1</td>\n",
       "      <td>0</td>\n",
       "      <td>0</td>\n",
       "      <td>0</td>\n",
       "      <td>0</td>\n",
       "      <td>2016</td>\n",
       "      <td>5</td>\n",
       "      <td>14</td>\n",
       "      <td>8</td>\n",
       "    </tr>\n",
       "    <tr>\n",
       "      <td>31049</td>\n",
       "      <td>503</td>\n",
       "      <td>24</td>\n",
       "      <td>0</td>\n",
       "      <td>0</td>\n",
       "      <td>0</td>\n",
       "      <td>0</td>\n",
       "      <td>1</td>\n",
       "      <td>0</td>\n",
       "      <td>0</td>\n",
       "      <td>0</td>\n",
       "      <td>...</td>\n",
       "      <td>0</td>\n",
       "      <td>0</td>\n",
       "      <td>0</td>\n",
       "      <td>0</td>\n",
       "      <td>0</td>\n",
       "      <td>1</td>\n",
       "      <td>2016</td>\n",
       "      <td>10</td>\n",
       "      <td>26</td>\n",
       "      <td>8</td>\n",
       "    </tr>\n",
       "    <tr>\n",
       "      <td>42517</td>\n",
       "      <td>509</td>\n",
       "      <td>12</td>\n",
       "      <td>4406</td>\n",
       "      <td>1</td>\n",
       "      <td>0</td>\n",
       "      <td>0</td>\n",
       "      <td>0</td>\n",
       "      <td>0</td>\n",
       "      <td>0</td>\n",
       "      <td>1</td>\n",
       "      <td>...</td>\n",
       "      <td>0</td>\n",
       "      <td>0</td>\n",
       "      <td>1</td>\n",
       "      <td>0</td>\n",
       "      <td>0</td>\n",
       "      <td>0</td>\n",
       "      <td>2017</td>\n",
       "      <td>10</td>\n",
       "      <td>22</td>\n",
       "      <td>1</td>\n",
       "    </tr>\n",
       "  </tbody>\n",
       "</table>\n",
       "<p>30179 rows × 27 columns</p>\n",
       "</div>"
      ],
      "text/plain": [
       "       Route  Min Gap  Vehicle  Direction_e  Direction_n  Direction_s  \\\n",
       "40978    506       12     4169            1            0            0   \n",
       "29934    501       10     4221            0            0            0   \n",
       "12501    504        8     4038            1            0            0   \n",
       "7718     504        8     4153            1            0            0   \n",
       "41369    506        1     4035            0            0            0   \n",
       "...      ...      ...      ...          ...          ...          ...   \n",
       "27651    501       29     4205            1            0            0   \n",
       "43907    501       10     4232            0            0            0   \n",
       "26054    512       74     4183            0            0            0   \n",
       "31049    503       24        0            0            0            0   \n",
       "42517    509       12     4406            1            0            0   \n",
       "\n",
       "       Direction_w  Incident_Diversion  Incident_Emergency Services  \\\n",
       "40978            0                   0                            0   \n",
       "29934            1                   0                            0   \n",
       "12501            0                   0                            0   \n",
       "7718             0                   0                            0   \n",
       "41369            1                   0                            0   \n",
       "...            ...                 ...                          ...   \n",
       "27651            0                   0                            0   \n",
       "43907            1                   0                            0   \n",
       "26054            1                   0                            0   \n",
       "31049            1                   0                            0   \n",
       "42517            0                   0                            0   \n",
       "\n",
       "       Incident_General Delay  ...  Day_Monday  Day_Saturday  Day_Sunday  \\\n",
       "40978                       0  ...           0             0           0   \n",
       "29934                       0  ...           0             0           0   \n",
       "12501                       0  ...           0             0           0   \n",
       "7718                        0  ...           0             0           0   \n",
       "41369                       0  ...           0             0           0   \n",
       "...                       ...  ...         ...           ...         ...   \n",
       "27651                       0  ...           0             0           0   \n",
       "43907                       0  ...           0             0           0   \n",
       "26054                       0  ...           0             1           0   \n",
       "31049                       0  ...           0             0           0   \n",
       "42517                       1  ...           0             0           1   \n",
       "\n",
       "       Day_Thursday  Day_Tuesday  Day_Wednesday  Year  Month  Day  Hour  \n",
       "40978             1            0              0  2017      7   27    17  \n",
       "29934             0            0              1  2016      9   21    22  \n",
       "12501             0            1              0  2015      2   24     6  \n",
       "7718              1            0              0  2014     10    2    10  \n",
       "41369             1            0              0  2017      8   10    11  \n",
       "...             ...          ...            ...   ...    ...  ...   ...  \n",
       "27651             0            1              0  2016      7    5     8  \n",
       "43907             0            0              1  2017     12    6    14  \n",
       "26054             0            0              0  2016      5   14     8  \n",
       "31049             0            0              1  2016     10   26     8  \n",
       "42517             0            0              0  2017     10   22     1  \n",
       "\n",
       "[30179 rows x 27 columns]"
      ]
     },
     "execution_count": 13,
     "metadata": {},
     "output_type": "execute_result"
    }
   ],
   "source": [
    "X_train"
   ]
  },
  {
   "cell_type": "code",
   "execution_count": 14,
   "metadata": {},
   "outputs": [
    {
     "data": {
      "text/plain": [
       "(30179, 27)"
      ]
     },
     "execution_count": 14,
     "metadata": {},
     "output_type": "execute_result"
    }
   ],
   "source": [
    "X_train.shape"
   ]
  },
  {
   "cell_type": "code",
   "execution_count": 15,
   "metadata": {},
   "outputs": [
    {
     "data": {
      "text/plain": [
       "(14865, 27)"
      ]
     },
     "execution_count": 15,
     "metadata": {},
     "output_type": "execute_result"
    }
   ],
   "source": [
    "X_test.shape"
   ]
  },
  {
   "cell_type": "code",
   "execution_count": 16,
   "metadata": {},
   "outputs": [
    {
     "data": {
      "text/plain": [
       "(30179,)"
      ]
     },
     "execution_count": 16,
     "metadata": {},
     "output_type": "execute_result"
    }
   ],
   "source": [
    " y_train.shape\n",
    "    "
   ]
  },
  {
   "cell_type": "code",
   "execution_count": 17,
   "metadata": {},
   "outputs": [
    {
     "data": {
      "text/plain": [
       "(14865,)"
      ]
     },
     "execution_count": 17,
     "metadata": {},
     "output_type": "execute_result"
    }
   ],
   "source": [
    "y_test.shape"
   ]
  },
  {
   "cell_type": "code",
   "execution_count": 18,
   "metadata": {},
   "outputs": [],
   "source": [
    "scaler = preprocessing.StandardScaler()\n",
    "scaler.fit(X_train)\n",
    "X_train = scaler.transform(X_train)\n",
    "X_test = scaler.transform(X_test)"
   ]
  },
  {
   "cell_type": "code",
   "execution_count": 19,
   "metadata": {},
   "outputs": [
    {
     "name": "stdout",
     "output_type": "stream",
     "text": [
      "Train Delay:  29731      Train Without Delay:  448\n"
     ]
    }
   ],
   "source": [
    "wd_train = np.sum(y_train == 0)\n",
    "d_train = np.sum(y_train == 1)\n",
    "print('Train Delay: ', d_train, '     Train Without Delay: ', wd_train)"
   ]
  },
  {
   "cell_type": "code",
   "execution_count": 20,
   "metadata": {},
   "outputs": [
    {
     "data": {
      "text/plain": [
       "1    29731\n",
       "0      448\n",
       "Name: Delay, dtype: int64"
      ]
     },
     "execution_count": 20,
     "metadata": {},
     "output_type": "execute_result"
    }
   ],
   "source": [
    "y_train.value_counts()"
   ]
  },
  {
   "cell_type": "code",
   "execution_count": 21,
   "metadata": {},
   "outputs": [
    {
     "name": "stdout",
     "output_type": "stream",
     "text": [
      "Test Delay:  14645      Test Without Delay:  220\n"
     ]
    }
   ],
   "source": [
    "wd_test = np.sum(y_test == 0)\n",
    "d_test = np.sum(y_test == 1)\n",
    "print('Test Delay: ', d_test, '     Test Without Delay: ', wd_test)"
   ]
  },
  {
   "cell_type": "code",
   "execution_count": 22,
   "metadata": {},
   "outputs": [
    {
     "data": {
      "image/png": "[encoded data removed]",
      "text/plain": [
       "<Figure size 504x504 with 1 Axes>"
      ]
     },
     "metadata": {
      "needs_background": "light"
     },
     "output_type": "display_data"
    }
   ],
   "source": [
    "plt.figure(figsize = (7, 7))\n",
    "matplotlib.rc('xtick', labelsize = 12) \n",
    "matplotlib.rc('ytick', labelsize = 12) \n",
    "plt.title(\"Visual inspection of stratification\")\n",
    "plt.xticks([0,1])\n",
    "plt.xlabel('No delay                                                        delay ', fontsize = 15 )\n",
    "plt.hist([y_train, y_test], color=['red', 'blue'], label=['training set ',' testing set'])\n",
    "plt.legend(loc='best')\n",
    "plt.show()"
   ]
  },
  {
   "cell_type": "markdown",
   "metadata": {},
   "source": [
    "## Model learning"
   ]
  },
  {
   "cell_type": "markdown",
   "metadata": {},
   "source": [
    "### It is always good to be able to fine-tune hyperparameters so that the algorithm works best for the type of data I  have. GridSearchCV is a function that is in sklearn’s model_selection package. It allows you to specify the different values for each hyperparameter and try out all the possible combinations when fitting model. It does the training and testing using cross validation of dataset — hence the acronym “CV” in GridSearchCV. The end result of GridSearchCV is a set of hyperparameters that best fit data according to the scoring metric that model to optimize on."
   ]
  },
  {
   "cell_type": "code",
   "execution_count": 23,
   "metadata": {},
   "outputs": [],
   "source": [
    "# penalty — Specify the norm of the penalty. l1 is lasso and l2 is ridge\n",
    "# C — Inverse of regularization strength; smaller values specify stronger regularization.\n",
    "# solver — Algorithm to use in the optimization problem.\n",
    "# max_iter — Maximum number of iterations taken for the solvers to converge."
   ]
  },
  {
   "cell_type": "code",
   "execution_count": 24,
   "metadata": {},
   "outputs": [],
   "source": [
    "warnings.filterwarnings('ignore')"
   ]
  },
  {
   "cell_type": "code",
   "execution_count": 25,
   "metadata": {},
   "outputs": [],
   "source": [
    "# parameter grid\n",
    "parameters = {\n",
    "     'C'       : np.logspace(-3,3,7),\n",
    "     'solver'  : ['newton-cg', 'lbfgs', 'liblinear']\n",
    "}"
   ]
  },
  {
   "cell_type": "code",
   "execution_count": 26,
   "metadata": {},
   "outputs": [],
   "source": [
    "logistic_regression = linear_model.LogisticRegression()\n",
    "model = GridSearchCV( logistic_regression,       # model\n",
    "                      param_grid = parameters,   # hyperparameters\n",
    "                      scoring = 'accuracy',        # metric for scoring\n",
    "                      cv = 10                      # number of folds\n",
    "                    )                    "
   ]
  },
  {
   "cell_type": "code",
   "execution_count": 27,
   "metadata": {},
   "outputs": [
    {
     "data": {
      "text/plain": [
       "GridSearchCV(cv=10, error_score='raise-deprecating',\n",
       "             estimator=LogisticRegression(C=1.0, class_weight=None, dual=False,\n",
       "                                          fit_intercept=True,\n",
       "                                          intercept_scaling=1, l1_ratio=None,\n",
       "                                          max_iter=100, multi_class='warn',\n",
       "                                          n_jobs=None, penalty='l2',\n",
       "                                          random_state=None, solver='warn',\n",
       "                                          tol=0.0001, verbose=0,\n",
       "                                          warm_start=False),\n",
       "             iid='warn', n_jobs=None,\n",
       "             param_grid={'C': array([1.e-03, 1.e-02, 1.e-01, 1.e+00, 1.e+01, 1.e+02, 1.e+03]),\n",
       "                         'solver': ['newton-cg', 'lbfgs', 'liblinear']},\n",
       "             pre_dispatch='2*n_jobs', refit=True, return_train_score=False,\n",
       "             scoring='accuracy', verbose=0)"
      ]
     },
     "execution_count": 27,
     "metadata": {},
     "output_type": "execute_result"
    }
   ],
   "source": [
    "model.fit(X_train, y_train)"
   ]
  },
  {
   "cell_type": "code",
   "execution_count": 28,
   "metadata": {},
   "outputs": [
    {
     "name": "stdout",
     "output_type": "stream",
     "text": [
      "Best parameters)  {'C': 10.0, 'solver': 'newton-cg'}\n",
      "Accuracy : 0.9868782928526458\n"
     ]
    }
   ],
   "source": [
    "print(\"Best parameters) \",model.best_params_)\n",
    "print(\"Accuracy :\", model.best_score_)"
   ]
  },
  {
   "cell_type": "markdown",
   "metadata": {},
   "source": [
    "### I will now use values of the hyperparameters returned by the GridSearchCV() function to build Logistic Regesion model using the training dataset"
   ]
  },
  {
   "cell_type": "code",
   "execution_count": 29,
   "metadata": {},
   "outputs": [
    {
     "data": {
      "text/plain": [
       "LogisticRegression(C=10.0, class_weight=None, dual=False, fit_intercept=True,\n",
       "                   intercept_scaling=1, l1_ratio=None, max_iter=100,\n",
       "                   multi_class='warn', n_jobs=None, penalty='l2',\n",
       "                   random_state=None, solver='newton-cg', tol=0.0001, verbose=0,\n",
       "                   warm_start=False)"
      ]
     },
     "execution_count": 29,
     "metadata": {},
     "output_type": "execute_result"
    }
   ],
   "source": [
    "model = linear_model.LogisticRegression( C = 10.0, \n",
    "                                         penalty = 'l2', \n",
    "                                         solver = 'newton-cg'\n",
    "                                       )\n",
    "model.fit(X_train, y_train)\n",
    "# Solvers lbfgs and newton-cg supports only 'l2' or 'none' penalties."
   ]
  },
  {
   "cell_type": "code",
   "execution_count": 30,
   "metadata": {},
   "outputs": [
    {
     "data": {
      "text/plain": [
       "array([9.50781349])"
      ]
     },
     "execution_count": 30,
     "metadata": {},
     "output_type": "execute_result"
    }
   ],
   "source": [
    "model.intercept_"
   ]
  },
  {
   "cell_type": "code",
   "execution_count": 31,
   "metadata": {},
   "outputs": [
    {
     "data": {
      "text/plain": [
       "array([[ 3.22168854e-02,  1.46431120e+01,  6.13282980e-02,\n",
       "        -1.35491285e-02,  6.73940131e-02, -1.79489898e-02,\n",
       "        -1.46199383e-02, -3.88030097e-02, -1.22266312e-02,\n",
       "        -2.60893057e-01,  1.76617455e-01, -1.80137254e-01,\n",
       "         2.45123263e-01,  2.06812302e-02,  5.38691767e-02,\n",
       "        -1.49883902e-01, -5.08544123e-02,  4.71087617e-02,\n",
       "        -3.22697062e-02, -2.31146162e-02, -4.78931402e-02,\n",
       "         5.63993586e-02,  4.44474849e-02, -1.05426787e-01,\n",
       "         3.77565361e-02, -5.83130032e-02, -3.39119059e-02]])"
      ]
     },
     "execution_count": 31,
     "metadata": {},
     "output_type": "execute_result"
    }
   ],
   "source": [
    "model.coef_"
   ]
  },
  {
   "cell_type": "markdown",
   "metadata": {},
   "source": [
    "## Evaluation"
   ]
  },
  {
   "cell_type": "code",
   "execution_count": 32,
   "metadata": {},
   "outputs": [],
   "source": [
    "y_test_predicted = model.predict(X_test)"
   ]
  },
  {
   "cell_type": "code",
   "execution_count": 33,
   "metadata": {},
   "outputs": [],
   "source": [
    "model_score = model.score(             X_test, y_test           )\n",
    "accuracy    = metrics.accuracy_score(  y_test, y_test_predicted )\n",
    "precision   = metrics.precision_score( y_test, y_test_predicted )\n",
    "recall      = metrics.recall_score(    y_test, y_test_predicted )\n",
    "f1          = metrics.f1_score(        y_test, y_test_predicted )\n",
    "auc         = metrics.roc_auc_score(   y_test, y_test_predicted )"
   ]
  },
  {
   "cell_type": "code",
   "execution_count": 34,
   "metadata": {},
   "outputs": [
    {
     "name": "stdout",
     "output_type": "stream",
     "text": [
      "Model Score :   0.9864783047426842\n",
      "Accuracy :      0.9864783047426842\n",
      "Precision :     0.9871829465731247\n",
      "Recall :        0.999248890406282\n",
      "Precision :     0.9931792731344802\n",
      "AUC :           0.5678062633849591\n"
     ]
    }
   ],
   "source": [
    "print(\"Model Score :  \" , model_score )\n",
    "print(\"Accuracy :     \" , accuracy )\n",
    "print(\"Precision :    \" , precision )\n",
    "print(\"Recall :       \" , recall )\n",
    "print(\"Precision :    \" , f1 )\n",
    "print(\"AUC :          \" , auc )"
   ]
  },
  {
   "cell_type": "code",
   "execution_count": 35,
   "metadata": {},
   "outputs": [],
   "source": [
    "# metrics.plot_roc_curve(logistic_regression, X_test, y_test)"
   ]
  },
  {
   "cell_type": "code",
   "execution_count": 36,
   "metadata": {},
   "outputs": [],
   "source": [
    "y_train_predicted = model.predict(X_train)"
   ]
  },
  {
   "cell_type": "code",
   "execution_count": 37,
   "metadata": {},
   "outputs": [
    {
     "data": {
      "text/plain": [
       "array([1, 1, 1, 1, 1, 1, 1, 1, 1, 1, 1, 1, 1, 1, 1, 1, 1, 1, 1, 1, 1, 1,\n",
       "       1, 1, 1, 1, 1, 1, 1, 1], dtype=int64)"
      ]
     },
     "execution_count": 37,
     "metadata": {},
     "output_type": "execute_result"
    }
   ],
   "source": [
    "y_train_predicted[:30]"
   ]
  },
  {
   "cell_type": "code",
   "execution_count": 38,
   "metadata": {},
   "outputs": [],
   "source": [
    "train_score = metrics.accuracy_score(y_train, y_train_predicted)\n",
    "test_score = metrics.accuracy_score(y_test, y_test_predicted)"
   ]
  },
  {
   "cell_type": "code",
   "execution_count": 39,
   "metadata": {},
   "outputs": [
    {
     "name": "stdout",
     "output_type": "stream",
     "text": [
      "Accuracy at the training set: 0.9870439709731933\n",
      "Accuracy at the test set: 0.9864783047426842\n"
     ]
    }
   ],
   "source": [
    "print(\"Accuracy at the training set: {train}\\nAccuracy at the test set: {test}\".format(train=train_score, test=test_score))"
   ]
  },
  {
   "cell_type": "code",
   "execution_count": 40,
   "metadata": {},
   "outputs": [
    {
     "name": "stdout",
     "output_type": "stream",
     "text": [
      "              precision    recall  f1-score   support\n",
      "\n",
      "           0       0.73      0.14      0.23       220\n",
      "           1       0.99      1.00      0.99     14645\n",
      "\n",
      "    accuracy                           0.99     14865\n",
      "   macro avg       0.86      0.57      0.61     14865\n",
      "weighted avg       0.98      0.99      0.98     14865\n",
      "\n"
     ]
    }
   ],
   "source": [
    "print(metrics.classification_report(y_test, y_test_predicted))"
   ]
  },
  {
   "cell_type": "code",
   "execution_count": 41,
   "metadata": {},
   "outputs": [
    {
     "data": {
      "text/plain": [
       "array([[   30,   190],\n",
       "       [   11, 14634]], dtype=int64)"
      ]
     },
     "execution_count": 41,
     "metadata": {},
     "output_type": "execute_result"
    }
   ],
   "source": [
    "metrics.confusion_matrix(y_test, y_test_predicted)"
   ]
  },
  {
   "cell_type": "code",
   "execution_count": 42,
   "metadata": {},
   "outputs": [
    {
     "data": {
      "image/png": "[encoded data removed]",
      "text/plain": [
       "<Figure size 720x360 with 1 Axes>"
      ]
     },
     "metadata": {
      "needs_background": "light"
     },
     "output_type": "display_data"
    }
   ],
   "source": [
    "fig = plt.figure(figsize=(10, 5))\n",
    "plt.bar(['accuracy', 'precision', 'recall', 'f1', 'AUC'], [accuracy , precision, recall, f1, auc], color='orangered')\n",
    "plt.title(\"Evaluation Logistic Regression\")\n",
    "plt.yticks(np.arange(0, 1, 0.1)) \n",
    "plt.show()"
   ]
  },
  {
   "cell_type": "markdown",
   "metadata": {},
   "source": [
    "# Neural networks"
   ]
  },
  {
   "cell_type": "code",
   "execution_count": 43,
   "metadata": {},
   "outputs": [],
   "source": [
    "np.random.seed(7)"
   ]
  },
  {
   "cell_type": "markdown",
   "metadata": {},
   "source": [
    "## Creating Neural networks"
   ]
  },
  {
   "cell_type": "markdown",
   "metadata": {},
   "source": [
    "I will create a neural network with advance propagation. <br> The neural network will have an input layer, three hidden layers with, respectively, 100, 40 and 20 neurons, and an output layer. <br> The number of input layer neurons corresponds to the number of attributes of the data set, which is 27. <br> The number of output layer neurons is 1 since it is a binary classification. <br> In hidden layers I will use relu activation function and in the latter sigmoid function. <br> Optimizer Adam will be used. <br> Binary cross entropy as a function of error will be used. <br> Since the task of classification metrics will be accuracy. <br> I will use Dropout regularization for reducing overfitting and improving the generalization. "
   ]
  },
  {
   "cell_type": "code",
   "execution_count": 44,
   "metadata": {},
   "outputs": [],
   "source": [
    "number_of_features = X_train.shape[1]\n",
    "output_size = 1"
   ]
  },
  {
   "cell_type": "code",
   "execution_count": 45,
   "metadata": {},
   "outputs": [
    {
     "data": {
      "text/plain": [
       "27"
      ]
     },
     "execution_count": 45,
     "metadata": {},
     "output_type": "execute_result"
    }
   ],
   "source": [
    "number_of_features"
   ]
  },
  {
   "cell_type": "code",
   "execution_count": 46,
   "metadata": {},
   "outputs": [],
   "source": [
    "model_FNN = Sequential()\n",
    "model_FNN.add(Dense(units = 100, input_dim = number_of_features, activation = 'relu'))\n",
    "model_FNN.add(Dense(units = 40, activation = 'relu'))\n",
    "model_FNN.add(Dense(units = 20, activation = 'relu'))\n",
    "model_FNN.add(Dropout(0.1))\n",
    "model_FNN.add(Dense(units = output_size, activation = 'sigmoid'))"
   ]
  },
  {
   "cell_type": "code",
   "execution_count": 47,
   "metadata": {},
   "outputs": [],
   "source": [
    "model_FNN.compile( optimizers.Adam(learning_rate = 0.0001), loss = losses.BinaryCrossentropy(), metrics = ['accuracy'] )"
   ]
  },
  {
   "cell_type": "code",
   "execution_count": 48,
   "metadata": {},
   "outputs": [
    {
     "name": "stdout",
     "output_type": "stream",
     "text": [
      "Model: \"sequential\"\n",
      "_________________________________________________________________\n",
      "Layer (type)                 Output Shape              Param #   \n",
      "=================================================================\n",
      "dense (Dense)                (None, 100)               2800      \n",
      "_________________________________________________________________\n",
      "dense_1 (Dense)              (None, 40)                4040      \n",
      "_________________________________________________________________\n",
      "dense_2 (Dense)              (None, 20)                820       \n",
      "_________________________________________________________________\n",
      "dropout (Dropout)            (None, 20)                0         \n",
      "_________________________________________________________________\n",
      "dense_3 (Dense)              (None, 1)                 21        \n",
      "=================================================================\n",
      "Total params: 7,681\n",
      "Trainable params: 7,681\n",
      "Non-trainable params: 0\n",
      "_________________________________________________________________\n"
     ]
    }
   ],
   "source": [
    "model_FNN.summary()"
   ]
  },
  {
   "cell_type": "code",
   "execution_count": 49,
   "metadata": {},
   "outputs": [],
   "source": [
    "history = model_FNN.fit(X_train, y_train, epochs = 50, batch_size = 32, verbose = 0, validation_split = 0.2)"
   ]
  },
  {
   "cell_type": "code",
   "execution_count": 50,
   "metadata": {},
   "outputs": [],
   "source": [
    "epochs = history.epoch\n",
    "\n",
    "loss = history.history['loss']\n",
    "validation_loss = history.history['val_loss']\n",
    "\n",
    "acc = history.history['accuracy']\n",
    "validation_acc = history.history['val_accuracy']"
   ]
  },
  {
   "cell_type": "code",
   "execution_count": 51,
   "metadata": {},
   "outputs": [
    {
     "name": "stdout",
     "output_type": "stream",
     "text": [
      "Loss                =  0.019805697724223137\n",
      "Accuracy            =  0.9946154356002808\n",
      "Validation Loss     =  0.03719339147210121\n",
      "Validation Accuracy =  0.988734245300293\n"
     ]
    }
   ],
   "source": [
    "print(\"Loss                = \" , loss[49] )\n",
    "print(\"Accuracy            = \" ,  acc[49])\n",
    "\n",
    "print(\"Validation Loss     = \" , validation_loss[49] )\n",
    "print(\"Validation Accuracy = \" ,  validation_acc[49])"
   ]
  },
  {
   "cell_type": "code",
   "execution_count": 52,
   "metadata": {},
   "outputs": [
    {
     "data": {
      "text/plain": [
       "<matplotlib.legend.Legend at 0x1f19b89cb88>"
      ]
     },
     "execution_count": 52,
     "metadata": {},
     "output_type": "execute_result"
    },
    {
     "data": {
      "image/png": "[encoded data removed]",
      "text/plain": [
       "<Figure size 1080x360 with 2 Axes>"
      ]
     },
     "metadata": {
      "needs_background": "light"
     },
     "output_type": "display_data"
    }
   ],
   "source": [
    "fig = plt.figure(figsize=(15, 5))\n",
    "\n",
    "plt.subplot(1,2,1)\n",
    "plt.title('Loss')\n",
    "plt.xlabel('Epochs')\n",
    "plt.ylabel('Loss')\n",
    "plt.plot(epochs, loss, c='red', label='training')\n",
    "plt.plot(epochs, validation_loss, c='blue', label='validation')\n",
    "plt.legend(loc='best')\n",
    "\n",
    "plt.subplot(1,2,2)\n",
    "plt.title('Accuracy')\n",
    "plt.xlabel('Epochs')\n",
    "plt.ylabel('Acccuracy')\n",
    "plt.plot(epochs, acc, c='red', label='training')\n",
    "plt.plot(epochs, validation_acc, c='blue', label='validation')\n",
    "plt.legend(loc='best')"
   ]
  },
  {
   "cell_type": "markdown",
   "metadata": {},
   "source": [
    "## Neural network evaluation"
   ]
  },
  {
   "cell_type": "code",
   "execution_count": 53,
   "metadata": {},
   "outputs": [],
   "source": [
    "final_model_FNN = Sequential()\n",
    "final_model_FNN.add(Dense(units=100, input_dim=number_of_features, activation='relu'))\n",
    "final_model_FNN.add(Dense(units=40, activation='relu'))\n",
    "final_model_FNN.add(Dense(units=20, activation='relu'))\n",
    "final_model_FNN.add(Dropout(0.1))\n",
    "final_model_FNN.add(Dense(units=output_size, activation='sigmoid'))\n",
    "final_model_FNN.compile(optimizers.Adam(learning_rate = 0.0001), loss=losses.BinaryCrossentropy(), metrics=['accuracy'])"
   ]
  },
  {
   "cell_type": "code",
   "execution_count": 54,
   "metadata": {},
   "outputs": [],
   "source": [
    "history = final_model_FNN.fit(X_train, y_train, epochs=50, batch_size=32, verbose = 0)"
   ]
  },
  {
   "cell_type": "code",
   "execution_count": 55,
   "metadata": {},
   "outputs": [
    {
     "name": "stdout",
     "output_type": "stream",
     "text": [
      "465/465 [==============================] - 1s 3ms/step - loss: 0.0386 - accuracy: 0.9876\n",
      "Test loss: 0.03858280926942825, test accuracy: 0.9876219034194946\n"
     ]
    }
   ],
   "source": [
    "test_loss, test_accuracy = final_model_FNN.evaluate(X_test, y_test)\n",
    "print (\"Test loss: {}, test accuracy: {}\".format(test_loss, test_accuracy))"
   ]
  },
  {
   "cell_type": "code",
   "execution_count": 56,
   "metadata": {},
   "outputs": [
    {
     "name": "stdout",
     "output_type": "stream",
     "text": [
      "944/944 [==============================] - 2s 3ms/step - loss: 0.0152 - accuracy: 0.9965\n",
      "Train loss: 0.01523535419255495, train accuracy: 0.9965207576751709\n"
     ]
    }
   ],
   "source": [
    "train_loss, train_accuracy = final_model_FNN.evaluate(X_train, y_train)\n",
    "print (\"Train loss: {}, train accuracy: {}\".format(train_loss, train_accuracy))"
   ]
  },
  {
   "cell_type": "code",
   "execution_count": 57,
   "metadata": {},
   "outputs": [],
   "source": [
    "epochs = history.epoch\n",
    "loss = history.history['loss']\n",
    "acc = history.history['accuracy']"
   ]
  },
  {
   "cell_type": "code",
   "execution_count": 58,
   "metadata": {},
   "outputs": [
    {
     "data": {
      "text/plain": [
       "<matplotlib.legend.Legend at 0x1f1986a5b88>"
      ]
     },
     "execution_count": 58,
     "metadata": {},
     "output_type": "execute_result"
    },
    {
     "data": {
      "image/png": "[encoded data removed]",
      "text/plain": [
       "<Figure size 1080x360 with 2 Axes>"
      ]
     },
     "metadata": {
      "needs_background": "light"
     },
     "output_type": "display_data"
    }
   ],
   "source": [
    "fig = plt.figure(figsize=(15, 5))\n",
    "\n",
    "plt.subplot(1, 2, 1)\n",
    "plt.title('Loss')\n",
    "plt.xlabel('Epochs')\n",
    "plt.ylabel('Loss')\n",
    "plt.plot(epochs, loss, c='red', label='test loss')\n",
    "plt.legend(loc='best')\n",
    "\n",
    "plt.subplot(1, 2, 2)\n",
    "plt.title('Accuracy')\n",
    "plt.xlabel('Epochs')\n",
    "plt.ylabel('Acccuracy')\n",
    "plt.plot(epochs, acc, c='blue', label = 'test accuracy')\n",
    "plt.legend(loc='best')"
   ]
  },
  {
   "cell_type": "code",
   "execution_count": null,
   "metadata": {},
   "outputs": [],
   "source": []
  },
  {
   "cell_type": "markdown",
   "metadata": {},
   "source": [
    "### Oversampling \n",
    "Since the data is not balanced I will do Oversampling"
   ]
  },
  {
   "cell_type": "code",
   "execution_count": 59,
   "metadata": {},
   "outputs": [
    {
     "name": "stdout",
     "output_type": "stream",
     "text": [
      "With Delay:  44376      Without Delay:  668\n"
     ]
    }
   ],
   "source": [
    "wd = np.sum(y == 0)\n",
    "d = np.sum(y == 1)\n",
    "print('With Delay: ', d , '     Without Delay: ', wd)"
   ]
  },
  {
   "cell_type": "code",
   "execution_count": 60,
   "metadata": {},
   "outputs": [
    {
     "data": {
      "text/plain": [
       "1    44376\n",
       "0      668\n",
       "Name: Delay, dtype: int64"
      ]
     },
     "execution_count": 60,
     "metadata": {},
     "output_type": "execute_result"
    }
   ],
   "source": [
    "y.value_counts()"
   ]
  },
  {
   "cell_type": "code",
   "execution_count": 61,
   "metadata": {},
   "outputs": [
    {
     "data": {
      "text/html": [
       "<div>\n",
       "<style scoped>\n",
       "    .dataframe tbody tr th:only-of-type {\n",
       "        vertical-align: middle;\n",
       "    }\n",
       "\n",
       "    .dataframe tbody tr th {\n",
       "        vertical-align: top;\n",
       "    }\n",
       "\n",
       "    .dataframe thead th {\n",
       "        text-align: right;\n",
       "    }\n",
       "</style>\n",
       "<table border=\"1\" class=\"dataframe\">\n",
       "  <thead>\n",
       "    <tr style=\"text-align: right;\">\n",
       "      <th></th>\n",
       "      <th>Route</th>\n",
       "      <th>Min Gap</th>\n",
       "      <th>Vehicle</th>\n",
       "      <th>Direction_e</th>\n",
       "      <th>Direction_n</th>\n",
       "      <th>Direction_s</th>\n",
       "      <th>Direction_w</th>\n",
       "      <th>Incident_Diversion</th>\n",
       "      <th>Incident_Emergency Services</th>\n",
       "      <th>Incident_General Delay</th>\n",
       "      <th>...</th>\n",
       "      <th>Day_Monday</th>\n",
       "      <th>Day_Saturday</th>\n",
       "      <th>Day_Sunday</th>\n",
       "      <th>Day_Thursday</th>\n",
       "      <th>Day_Tuesday</th>\n",
       "      <th>Day_Wednesday</th>\n",
       "      <th>Year</th>\n",
       "      <th>Month</th>\n",
       "      <th>Day</th>\n",
       "      <th>Hour</th>\n",
       "    </tr>\n",
       "  </thead>\n",
       "  <tbody>\n",
       "    <tr>\n",
       "      <td>0</td>\n",
       "      <td>505</td>\n",
       "      <td>8</td>\n",
       "      <td>4018</td>\n",
       "      <td>1</td>\n",
       "      <td>0</td>\n",
       "      <td>0</td>\n",
       "      <td>0</td>\n",
       "      <td>0</td>\n",
       "      <td>0</td>\n",
       "      <td>0</td>\n",
       "      <td>...</td>\n",
       "      <td>0</td>\n",
       "      <td>0</td>\n",
       "      <td>0</td>\n",
       "      <td>1</td>\n",
       "      <td>0</td>\n",
       "      <td>0</td>\n",
       "      <td>2014</td>\n",
       "      <td>1</td>\n",
       "      <td>2</td>\n",
       "      <td>6</td>\n",
       "    </tr>\n",
       "    <tr>\n",
       "      <td>1</td>\n",
       "      <td>504</td>\n",
       "      <td>22</td>\n",
       "      <td>4128</td>\n",
       "      <td>1</td>\n",
       "      <td>0</td>\n",
       "      <td>0</td>\n",
       "      <td>0</td>\n",
       "      <td>0</td>\n",
       "      <td>0</td>\n",
       "      <td>0</td>\n",
       "      <td>...</td>\n",
       "      <td>0</td>\n",
       "      <td>0</td>\n",
       "      <td>0</td>\n",
       "      <td>1</td>\n",
       "      <td>0</td>\n",
       "      <td>0</td>\n",
       "      <td>2014</td>\n",
       "      <td>1</td>\n",
       "      <td>2</td>\n",
       "      <td>12</td>\n",
       "    </tr>\n",
       "    <tr>\n",
       "      <td>2</td>\n",
       "      <td>501</td>\n",
       "      <td>19</td>\n",
       "      <td>4016</td>\n",
       "      <td>0</td>\n",
       "      <td>0</td>\n",
       "      <td>0</td>\n",
       "      <td>1</td>\n",
       "      <td>0</td>\n",
       "      <td>0</td>\n",
       "      <td>0</td>\n",
       "      <td>...</td>\n",
       "      <td>0</td>\n",
       "      <td>0</td>\n",
       "      <td>0</td>\n",
       "      <td>1</td>\n",
       "      <td>0</td>\n",
       "      <td>0</td>\n",
       "      <td>2014</td>\n",
       "      <td>1</td>\n",
       "      <td>2</td>\n",
       "      <td>14</td>\n",
       "    </tr>\n",
       "    <tr>\n",
       "      <td>3</td>\n",
       "      <td>504</td>\n",
       "      <td>11</td>\n",
       "      <td>4175</td>\n",
       "      <td>0</td>\n",
       "      <td>0</td>\n",
       "      <td>0</td>\n",
       "      <td>1</td>\n",
       "      <td>0</td>\n",
       "      <td>0</td>\n",
       "      <td>0</td>\n",
       "      <td>...</td>\n",
       "      <td>0</td>\n",
       "      <td>0</td>\n",
       "      <td>0</td>\n",
       "      <td>1</td>\n",
       "      <td>0</td>\n",
       "      <td>0</td>\n",
       "      <td>2014</td>\n",
       "      <td>1</td>\n",
       "      <td>2</td>\n",
       "      <td>14</td>\n",
       "    </tr>\n",
       "    <tr>\n",
       "      <td>4</td>\n",
       "      <td>504</td>\n",
       "      <td>6</td>\n",
       "      <td>4080</td>\n",
       "      <td>1</td>\n",
       "      <td>0</td>\n",
       "      <td>0</td>\n",
       "      <td>0</td>\n",
       "      <td>0</td>\n",
       "      <td>0</td>\n",
       "      <td>0</td>\n",
       "      <td>...</td>\n",
       "      <td>0</td>\n",
       "      <td>0</td>\n",
       "      <td>0</td>\n",
       "      <td>1</td>\n",
       "      <td>0</td>\n",
       "      <td>0</td>\n",
       "      <td>2014</td>\n",
       "      <td>1</td>\n",
       "      <td>2</td>\n",
       "      <td>16</td>\n",
       "    </tr>\n",
       "    <tr>\n",
       "      <td>...</td>\n",
       "      <td>...</td>\n",
       "      <td>...</td>\n",
       "      <td>...</td>\n",
       "      <td>...</td>\n",
       "      <td>...</td>\n",
       "      <td>...</td>\n",
       "      <td>...</td>\n",
       "      <td>...</td>\n",
       "      <td>...</td>\n",
       "      <td>...</td>\n",
       "      <td>...</td>\n",
       "      <td>...</td>\n",
       "      <td>...</td>\n",
       "      <td>...</td>\n",
       "      <td>...</td>\n",
       "      <td>...</td>\n",
       "      <td>...</td>\n",
       "      <td>...</td>\n",
       "      <td>...</td>\n",
       "      <td>...</td>\n",
       "      <td>...</td>\n",
       "    </tr>\n",
       "    <tr>\n",
       "      <td>45039</td>\n",
       "      <td>505</td>\n",
       "      <td>16</td>\n",
       "      <td>4164</td>\n",
       "      <td>1</td>\n",
       "      <td>0</td>\n",
       "      <td>0</td>\n",
       "      <td>0</td>\n",
       "      <td>0</td>\n",
       "      <td>0</td>\n",
       "      <td>0</td>\n",
       "      <td>...</td>\n",
       "      <td>0</td>\n",
       "      <td>0</td>\n",
       "      <td>1</td>\n",
       "      <td>0</td>\n",
       "      <td>0</td>\n",
       "      <td>0</td>\n",
       "      <td>2017</td>\n",
       "      <td>12</td>\n",
       "      <td>31</td>\n",
       "      <td>9</td>\n",
       "    </tr>\n",
       "    <tr>\n",
       "      <td>45040</td>\n",
       "      <td>501</td>\n",
       "      <td>24</td>\n",
       "      <td>4110</td>\n",
       "      <td>0</td>\n",
       "      <td>0</td>\n",
       "      <td>0</td>\n",
       "      <td>1</td>\n",
       "      <td>0</td>\n",
       "      <td>0</td>\n",
       "      <td>0</td>\n",
       "      <td>...</td>\n",
       "      <td>0</td>\n",
       "      <td>0</td>\n",
       "      <td>1</td>\n",
       "      <td>0</td>\n",
       "      <td>0</td>\n",
       "      <td>0</td>\n",
       "      <td>2017</td>\n",
       "      <td>12</td>\n",
       "      <td>31</td>\n",
       "      <td>11</td>\n",
       "    </tr>\n",
       "    <tr>\n",
       "      <td>45041</td>\n",
       "      <td>501</td>\n",
       "      <td>24</td>\n",
       "      <td>1419</td>\n",
       "      <td>0</td>\n",
       "      <td>0</td>\n",
       "      <td>0</td>\n",
       "      <td>1</td>\n",
       "      <td>0</td>\n",
       "      <td>0</td>\n",
       "      <td>0</td>\n",
       "      <td>...</td>\n",
       "      <td>0</td>\n",
       "      <td>0</td>\n",
       "      <td>1</td>\n",
       "      <td>0</td>\n",
       "      <td>0</td>\n",
       "      <td>0</td>\n",
       "      <td>2017</td>\n",
       "      <td>12</td>\n",
       "      <td>31</td>\n",
       "      <td>11</td>\n",
       "    </tr>\n",
       "    <tr>\n",
       "      <td>45042</td>\n",
       "      <td>510</td>\n",
       "      <td>10</td>\n",
       "      <td>4447</td>\n",
       "      <td>0</td>\n",
       "      <td>0</td>\n",
       "      <td>1</td>\n",
       "      <td>0</td>\n",
       "      <td>0</td>\n",
       "      <td>0</td>\n",
       "      <td>0</td>\n",
       "      <td>...</td>\n",
       "      <td>0</td>\n",
       "      <td>0</td>\n",
       "      <td>1</td>\n",
       "      <td>0</td>\n",
       "      <td>0</td>\n",
       "      <td>0</td>\n",
       "      <td>2017</td>\n",
       "      <td>12</td>\n",
       "      <td>31</td>\n",
       "      <td>11</td>\n",
       "    </tr>\n",
       "    <tr>\n",
       "      <td>45043</td>\n",
       "      <td>505</td>\n",
       "      <td>16</td>\n",
       "      <td>4167</td>\n",
       "      <td>0</td>\n",
       "      <td>1</td>\n",
       "      <td>0</td>\n",
       "      <td>0</td>\n",
       "      <td>0</td>\n",
       "      <td>0</td>\n",
       "      <td>0</td>\n",
       "      <td>...</td>\n",
       "      <td>0</td>\n",
       "      <td>0</td>\n",
       "      <td>1</td>\n",
       "      <td>0</td>\n",
       "      <td>0</td>\n",
       "      <td>0</td>\n",
       "      <td>2017</td>\n",
       "      <td>12</td>\n",
       "      <td>31</td>\n",
       "      <td>11</td>\n",
       "    </tr>\n",
       "  </tbody>\n",
       "</table>\n",
       "<p>45044 rows × 27 columns</p>\n",
       "</div>"
      ],
      "text/plain": [
       "       Route  Min Gap  Vehicle  Direction_e  Direction_n  Direction_s  \\\n",
       "0        505        8     4018            1            0            0   \n",
       "1        504       22     4128            1            0            0   \n",
       "2        501       19     4016            0            0            0   \n",
       "3        504       11     4175            0            0            0   \n",
       "4        504        6     4080            1            0            0   \n",
       "...      ...      ...      ...          ...          ...          ...   \n",
       "45039    505       16     4164            1            0            0   \n",
       "45040    501       24     4110            0            0            0   \n",
       "45041    501       24     1419            0            0            0   \n",
       "45042    510       10     4447            0            0            1   \n",
       "45043    505       16     4167            0            1            0   \n",
       "\n",
       "       Direction_w  Incident_Diversion  Incident_Emergency Services  \\\n",
       "0                0                   0                            0   \n",
       "1                0                   0                            0   \n",
       "2                1                   0                            0   \n",
       "3                1                   0                            0   \n",
       "4                0                   0                            0   \n",
       "...            ...                 ...                          ...   \n",
       "45039            0                   0                            0   \n",
       "45040            1                   0                            0   \n",
       "45041            1                   0                            0   \n",
       "45042            0                   0                            0   \n",
       "45043            0                   0                            0   \n",
       "\n",
       "       Incident_General Delay  ...  Day_Monday  Day_Saturday  Day_Sunday  \\\n",
       "0                           0  ...           0             0           0   \n",
       "1                           0  ...           0             0           0   \n",
       "2                           0  ...           0             0           0   \n",
       "3                           0  ...           0             0           0   \n",
       "4                           0  ...           0             0           0   \n",
       "...                       ...  ...         ...           ...         ...   \n",
       "45039                       0  ...           0             0           1   \n",
       "45040                       0  ...           0             0           1   \n",
       "45041                       0  ...           0             0           1   \n",
       "45042                       0  ...           0             0           1   \n",
       "45043                       0  ...           0             0           1   \n",
       "\n",
       "       Day_Thursday  Day_Tuesday  Day_Wednesday  Year  Month  Day  Hour  \n",
       "0                 1            0              0  2014      1    2     6  \n",
       "1                 1            0              0  2014      1    2    12  \n",
       "2                 1            0              0  2014      1    2    14  \n",
       "3                 1            0              0  2014      1    2    14  \n",
       "4                 1            0              0  2014      1    2    16  \n",
       "...             ...          ...            ...   ...    ...  ...   ...  \n",
       "45039             0            0              0  2017     12   31     9  \n",
       "45040             0            0              0  2017     12   31    11  \n",
       "45041             0            0              0  2017     12   31    11  \n",
       "45042             0            0              0  2017     12   31    11  \n",
       "45043             0            0              0  2017     12   31    11  \n",
       "\n",
       "[45044 rows x 27 columns]"
      ]
     },
     "execution_count": 61,
     "metadata": {},
     "output_type": "execute_result"
    }
   ],
   "source": [
    "X"
   ]
  },
  {
   "cell_type": "code",
   "execution_count": 62,
   "metadata": {},
   "outputs": [],
   "source": [
    "ros = SMOTE(k_neighbors=5, sampling_strategy=1/2, random_state=7)\n",
    "# ros = SMOTE()\n",
    "X_resampled, y_resampled = ros.fit_resample(X, y)"
   ]
  },
  {
   "cell_type": "code",
   "execution_count": 63,
   "metadata": {},
   "outputs": [
    {
     "data": {
      "text/plain": [
       "array([22188, 44376], dtype=int64)"
      ]
     },
     "execution_count": 63,
     "metadata": {},
     "output_type": "execute_result"
    }
   ],
   "source": [
    "np.bincount(y_resampled)"
   ]
  },
  {
   "cell_type": "code",
   "execution_count": 64,
   "metadata": {},
   "outputs": [
    {
     "name": "stdout",
     "output_type": "stream",
     "text": [
      "With Delay:  44376      Without Delay:  22188\n"
     ]
    }
   ],
   "source": [
    "wd_resempled = np.sum(y_resampled == 0)\n",
    "d_resempled = np.sum(y_resampled == 1)\n",
    "print('With Delay: ', d_resempled, '     Without Delay: ', wd_resempled)"
   ]
  },
  {
   "cell_type": "code",
   "execution_count": 65,
   "metadata": {},
   "outputs": [
    {
     "data": {
      "text/plain": [
       "<BarContainer object of 2 artists>"
      ]
     },
     "execution_count": 65,
     "metadata": {},
     "output_type": "execute_result"
    },
    {
     "data": {
      "image/png": "[encoded data removed]",
      "text/plain": [
       "<Figure size 720x360 with 2 Axes>"
      ]
     },
     "metadata": {
      "needs_background": "light"
     },
     "output_type": "display_data"
    }
   ],
   "source": [
    "fig = plt.figure(figsize=(10, 5))\n",
    "\n",
    "plt.subplot(1, 2, 1)\n",
    "plt.title('Original data')\n",
    "plt.bar(['Delay', 'No Delay'], [d, wd], color='blue')\n",
    "\n",
    "plt.subplot(1, 2, 2)\n",
    "plt.title('Resempled data')\n",
    "plt.bar(['Delay', 'No Delay'], [d_resempled, wd_resempled], color='blue')\n"
   ]
  },
  {
   "cell_type": "code",
   "execution_count": null,
   "metadata": {},
   "outputs": [],
   "source": []
  },
  {
   "cell_type": "markdown",
   "metadata": {},
   "source": [
    "# Logistic regression"
   ]
  },
  {
   "cell_type": "code",
   "execution_count": 66,
   "metadata": {},
   "outputs": [],
   "source": [
    "X_train_resampled, X_test_resampled, y_train_resampled, y_test_resampled = model_selection.train_test_split(X_resampled, y_resampled, test_size = 0.33, random_state = 7, stratify = y_resampled)"
   ]
  },
  {
   "cell_type": "code",
   "execution_count": 67,
   "metadata": {},
   "outputs": [
    {
     "data": {
      "text/plain": [
       "(44597, 27)"
      ]
     },
     "execution_count": 67,
     "metadata": {},
     "output_type": "execute_result"
    }
   ],
   "source": [
    "X_train_resampled.shape"
   ]
  },
  {
   "cell_type": "code",
   "execution_count": 68,
   "metadata": {},
   "outputs": [
    {
     "data": {
      "text/plain": [
       "(21967, 27)"
      ]
     },
     "execution_count": 68,
     "metadata": {},
     "output_type": "execute_result"
    }
   ],
   "source": [
    "X_test_resampled.shape"
   ]
  },
  {
   "cell_type": "code",
   "execution_count": 69,
   "metadata": {},
   "outputs": [
    {
     "data": {
      "text/plain": [
       "(44597,)"
      ]
     },
     "execution_count": 69,
     "metadata": {},
     "output_type": "execute_result"
    }
   ],
   "source": [
    "y_train_resampled.shape\n",
    "    "
   ]
  },
  {
   "cell_type": "code",
   "execution_count": 70,
   "metadata": {},
   "outputs": [
    {
     "data": {
      "text/plain": [
       "(21967,)"
      ]
     },
     "execution_count": 70,
     "metadata": {},
     "output_type": "execute_result"
    }
   ],
   "source": [
    "y_test_resampled.shape"
   ]
  },
  {
   "cell_type": "code",
   "execution_count": 71,
   "metadata": {},
   "outputs": [],
   "source": [
    "scaler = preprocessing.StandardScaler()\n",
    "scaler.fit(X_train_resampled)\n",
    "X_train_resampled = scaler.transform(X_train_resampled)\n",
    "X_test_resampled = scaler.transform(X_test_resampled)"
   ]
  },
  {
   "cell_type": "code",
   "execution_count": 72,
   "metadata": {},
   "outputs": [
    {
     "name": "stdout",
     "output_type": "stream",
     "text": [
      "Train Delay:  29731      Train Without Delay:  14866\n"
     ]
    }
   ],
   "source": [
    "wd_train_resampled = np.sum(y_train_resampled == 0)\n",
    "d_train_resampled = np.sum(y_train_resampled == 1)\n",
    "print('Train Delay: ', d_train_resampled, '     Train Without Delay: ', wd_train_resampled)"
   ]
  },
  {
   "cell_type": "code",
   "execution_count": 73,
   "metadata": {},
   "outputs": [
    {
     "name": "stdout",
     "output_type": "stream",
     "text": [
      "Test Delay:  14645      Test Without Delay:  7322\n"
     ]
    }
   ],
   "source": [
    "wd_test_resampled = np.sum(y_test_resampled == 0)\n",
    "d_test_resampled = np.sum(y_test_resampled == 1)\n",
    "print('Test Delay: ', d_test_resampled, '     Test Without Delay: ', wd_test_resampled)"
   ]
  },
  {
   "cell_type": "code",
   "execution_count": 74,
   "metadata": {},
   "outputs": [
    {
     "data": {
      "image/png": "[encoded data removed]",
      "text/plain": [
       "<Figure size 504x504 with 1 Axes>"
      ]
     },
     "metadata": {
      "needs_background": "light"
     },
     "output_type": "display_data"
    }
   ],
   "source": [
    "plt.figure(figsize = (7, 7))\n",
    "matplotlib.rc('xtick', labelsize = 12) \n",
    "matplotlib.rc('ytick', labelsize = 12) \n",
    "plt.title(\"Visual inspection of stratification\")\n",
    "plt.xticks([0,1])\n",
    "plt.xlabel('No delay                                                        delay ', fontsize = 15 )\n",
    "plt.hist([y_train_resampled, y_test_resampled], color=['red', 'blue'], label=['training set ',' testing set'])\n",
    "plt.legend(loc='best')\n",
    "plt.show()"
   ]
  },
  {
   "cell_type": "markdown",
   "metadata": {},
   "source": [
    "## Model learning"
   ]
  },
  {
   "cell_type": "code",
   "execution_count": 75,
   "metadata": {},
   "outputs": [],
   "source": [
    "# parameter grid\n",
    "parameters = { 'C'       : np.logspace(-3,3,7),\n",
    "               'solver'  : ['newton-cg', 'lbfgs', 'liblinear']\n",
    "             }"
   ]
  },
  {
   "cell_type": "code",
   "execution_count": 76,
   "metadata": {},
   "outputs": [],
   "source": [
    "logistic_regression = linear_model.LogisticRegression()\n",
    "\n",
    "model_LR_resampled  = GridSearchCV( logistic_regression,       # model\n",
    "                                    param_grid = parameters,   # hyperparameters\n",
    "                                    scoring = 'accuracy',        # metric for scoring\n",
    "                                    cv = 10                      # number of folds\n",
    "                                  )"
   ]
  },
  {
   "cell_type": "code",
   "execution_count": 77,
   "metadata": {},
   "outputs": [
    {
     "data": {
      "text/plain": [
       "GridSearchCV(cv=10, error_score='raise-deprecating',\n",
       "             estimator=LogisticRegression(C=1.0, class_weight=None, dual=False,\n",
       "                                          fit_intercept=True,\n",
       "                                          intercept_scaling=1, l1_ratio=None,\n",
       "                                          max_iter=100, multi_class='warn',\n",
       "                                          n_jobs=None, penalty='l2',\n",
       "                                          random_state=None, solver='warn',\n",
       "                                          tol=0.0001, verbose=0,\n",
       "                                          warm_start=False),\n",
       "             iid='warn', n_jobs=None,\n",
       "             param_grid={'C': array([1.e-03, 1.e-02, 1.e-01, 1.e+00, 1.e+01, 1.e+02, 1.e+03]),\n",
       "                         'solver': ['newton-cg', 'lbfgs', 'liblinear']},\n",
       "             pre_dispatch='2*n_jobs', refit=True, return_train_score=False,\n",
       "             scoring='accuracy', verbose=0)"
      ]
     },
     "execution_count": 77,
     "metadata": {},
     "output_type": "execute_result"
    }
   ],
   "source": [
    "model_LR_resampled.fit(X_train_resampled, y_train_resampled)"
   ]
  },
  {
   "cell_type": "code",
   "execution_count": 78,
   "metadata": {},
   "outputs": [
    {
     "name": "stdout",
     "output_type": "stream",
     "text": [
      "Best parameters)  {'C': 1000.0, 'solver': 'lbfgs'}\n",
      "Accuracy : 0.9894163284525865\n"
     ]
    }
   ],
   "source": [
    "print(\"Best parameters) \" , model_LR_resampled.best_params_)\n",
    "print(\"Accuracy :\" ,        model_LR_resampled.best_score_)"
   ]
  },
  {
   "cell_type": "markdown",
   "metadata": {},
   "source": [
    "### I will now use values of the hyperparameters returned by the GridSearchCV() function to build Logistic Regesion model using the training resampled dataset"
   ]
  },
  {
   "cell_type": "code",
   "execution_count": 79,
   "metadata": {},
   "outputs": [],
   "source": [
    "model_LR_resampled = linear_model.LogisticRegression( C = 1000.0, \n",
    "                                                      solver = 'liblinear'\n",
    "                                                    )"
   ]
  },
  {
   "cell_type": "code",
   "execution_count": 80,
   "metadata": {},
   "outputs": [
    {
     "data": {
      "text/plain": [
       "LogisticRegression(C=1000.0, class_weight=None, dual=False, fit_intercept=True,\n",
       "                   intercept_scaling=1, l1_ratio=None, max_iter=100,\n",
       "                   multi_class='warn', n_jobs=None, penalty='l2',\n",
       "                   random_state=None, solver='liblinear', tol=0.0001, verbose=0,\n",
       "                   warm_start=False)"
      ]
     },
     "execution_count": 80,
     "metadata": {},
     "output_type": "execute_result"
    }
   ],
   "source": [
    "model_LR_resampled.fit(X_train_resampled, y_train_resampled)"
   ]
  },
  {
   "cell_type": "code",
   "execution_count": 81,
   "metadata": {},
   "outputs": [
    {
     "data": {
      "text/plain": [
       "array([-31.85863776])"
      ]
     },
     "execution_count": 81,
     "metadata": {},
     "output_type": "execute_result"
    }
   ],
   "source": [
    "model_LR_resampled.intercept_"
   ]
  },
  {
   "cell_type": "code",
   "execution_count": 82,
   "metadata": {},
   "outputs": [
    {
     "data": {
      "text/plain": [
       "array([[-1.66372087e-01,  1.67142214e+01,  2.49434971e-01,\n",
       "         1.09580247e+01,  5.69209789e+00,  5.58272621e+00,\n",
       "         1.10057599e+01,  1.08969782e+01,  1.59629875e+01,\n",
       "         2.07986023e+01,  3.18183399e+01,  3.55937425e+01,\n",
       "         2.99389741e+01,  5.66637525e+01,  1.33886717e+00,\n",
       "         1.94606416e+01,  1.48516299e+01,  1.42847174e+01,\n",
       "         1.24624178e+01,  1.17769051e+01,  1.51649626e+01,\n",
       "         1.45055304e+01,  1.44838724e+01, -4.96665577e-02,\n",
       "         1.31614355e-01, -7.41514752e-02,  4.46773363e-02]])"
      ]
     },
     "execution_count": 82,
     "metadata": {},
     "output_type": "execute_result"
    }
   ],
   "source": [
    "model_LR_resampled.coef_"
   ]
  },
  {
   "cell_type": "markdown",
   "metadata": {},
   "source": [
    "## Evaluation"
   ]
  },
  {
   "cell_type": "code",
   "execution_count": 83,
   "metadata": {},
   "outputs": [],
   "source": [
    "y_test_predicted = model_LR_resampled.predict(X_test_resampled)"
   ]
  },
  {
   "cell_type": "code",
   "execution_count": 84,
   "metadata": {},
   "outputs": [],
   "source": [
    "accuracy  = metrics.accuracy_score(  y_test_resampled, y_test_predicted )\n",
    "precision = metrics.precision_score( y_test_resampled, y_test_predicted )\n",
    "recall    = metrics.recall_score(    y_test_resampled, y_test_predicted )\n",
    "f1        = metrics.f1_score(        y_test_resampled, y_test_predicted )\n",
    "auc       = metrics.roc_auc_score(   y_test_resampled, y_test_predicted  )"
   ]
  },
  {
   "cell_type": "code",
   "execution_count": 85,
   "metadata": {},
   "outputs": [
    {
     "name": "stdout",
     "output_type": "stream",
     "text": [
      "Accuracy  =  0.9894842263395093\n",
      "Precision =  0.989140762861409\n",
      "Recall    =  0.995151928986002\n",
      "F1        =  0.9921372408863475\n",
      "AUC       =  0.9866499879838506\n"
     ]
    }
   ],
   "source": [
    "print(\"Accuracy  = \" ,  accuracy)\n",
    "print(\"Precision = \" , precision )\n",
    "print(\"Recall    = \" , recall )\n",
    "print(\"F1        = \" , f1 )\n",
    "print(\"AUC       = \" , auc )"
   ]
  },
  {
   "cell_type": "code",
   "execution_count": 86,
   "metadata": {},
   "outputs": [],
   "source": [
    "y_train_predicted = model_LR_resampled.predict(X_train_resampled)"
   ]
  },
  {
   "cell_type": "code",
   "execution_count": 87,
   "metadata": {},
   "outputs": [
    {
     "data": {
      "text/plain": [
       "array([1, 1, 0, 1, 1, 1, 1, 1, 1, 1, 1, 1, 1, 1, 0, 1, 0, 0, 1, 1, 1, 1,\n",
       "       0, 1, 1, 0, 0, 1, 0, 0], dtype=int64)"
      ]
     },
     "execution_count": 87,
     "metadata": {},
     "output_type": "execute_result"
    }
   ],
   "source": [
    "y_train_predicted[:30]"
   ]
  },
  {
   "cell_type": "code",
   "execution_count": 88,
   "metadata": {},
   "outputs": [],
   "source": [
    "train_score = metrics.accuracy_score(y_train_resampled, y_train_predicted)\n",
    "test_score  = metrics.accuracy_score(y_test_resampled,  y_test_predicted)"
   ]
  },
  {
   "cell_type": "code",
   "execution_count": 89,
   "metadata": {},
   "outputs": [
    {
     "name": "stdout",
     "output_type": "stream",
     "text": [
      "Accuracy at the training set: 0.9899544812431329\n",
      "Accuracy at the test set:     0.9894842263395093\n"
     ]
    }
   ],
   "source": [
    "print(\"Accuracy at the training set: {train}\\nAccuracy at the test set:     {test}\".format(train=train_score, test=test_score))"
   ]
  },
  {
   "cell_type": "code",
   "execution_count": 90,
   "metadata": {},
   "outputs": [
    {
     "name": "stdout",
     "output_type": "stream",
     "text": [
      "              precision    recall  f1-score   support\n",
      "\n",
      "           0       0.99      0.98      0.98      7322\n",
      "           1       0.99      1.00      0.99     14645\n",
      "\n",
      "    accuracy                           0.99     21967\n",
      "   macro avg       0.99      0.99      0.99     21967\n",
      "weighted avg       0.99      0.99      0.99     21967\n",
      "\n"
     ]
    }
   ],
   "source": [
    "print(metrics.classification_report(y_test_resampled, y_test_predicted))"
   ]
  },
  {
   "cell_type": "code",
   "execution_count": 91,
   "metadata": {},
   "outputs": [
    {
     "data": {
      "text/plain": [
       "array([[ 7162,   160],\n",
       "       [   71, 14574]], dtype=int64)"
      ]
     },
     "execution_count": 91,
     "metadata": {},
     "output_type": "execute_result"
    }
   ],
   "source": [
    "metrics.confusion_matrix(y_test_resampled, y_test_predicted)"
   ]
  },
  {
   "cell_type": "code",
   "execution_count": 92,
   "metadata": {},
   "outputs": [
    {
     "data": {
      "image/png": "[encoded data removed]",
      "text/plain": [
       "<Figure size 720x360 with 1 Axes>"
      ]
     },
     "metadata": {
      "needs_background": "light"
     },
     "output_type": "display_data"
    }
   ],
   "source": [
    "fig = plt.figure(figsize=(10, 5))\n",
    "plt.bar(['accuracy', 'precision', 'recall', 'f1', 'AUC'], [accuracy , precision, recall, f1, auc], color='orangered')\n",
    "plt.title(\"Evaluation Logistic Regression\")\n",
    "plt.yticks(np.arange(0, 1, 0.1)) \n",
    "plt.show()"
   ]
  },
  {
   "cell_type": "markdown",
   "metadata": {},
   "source": [
    "# Fully Connected Neural Networks "
   ]
  },
  {
   "cell_type": "markdown",
   "metadata": {},
   "source": [
    "## Creating Fully Connected Neural Networks"
   ]
  },
  {
   "cell_type": "markdown",
   "metadata": {},
   "source": [
    "I will create a neural network with advance propagation. <br> The neural network will have an input layer, three hidden layers with, respectively, 100, 40 and 20 neurons, and an output layer. <br> The number of input layer neurons corresponds to the number of attributes of the data set, which is 27. <br> The number of output layer neurons is 1 since it is a binary classification. <br> In hidden layers I will use relu activation function and in the latter sigmoid function. <br> Optimizer Adam will be used. <br> Binary cross entropy as a function of error will be used. <br> Since the task of classification metrics will be accuracy. <br> I will use Dropout regularization for reducing overfitting and improving the generalization. "
   ]
  },
  {
   "cell_type": "code",
   "execution_count": 93,
   "metadata": {},
   "outputs": [],
   "source": [
    "np.random.seed(7)"
   ]
  },
  {
   "cell_type": "code",
   "execution_count": 94,
   "metadata": {},
   "outputs": [],
   "source": [
    "number_of_features = X_train.shape[1]\n",
    "output_size = 1"
   ]
  },
  {
   "cell_type": "code",
   "execution_count": 95,
   "metadata": {},
   "outputs": [
    {
     "data": {
      "text/plain": [
       "27"
      ]
     },
     "execution_count": 95,
     "metadata": {},
     "output_type": "execute_result"
    }
   ],
   "source": [
    "number_of_features"
   ]
  },
  {
   "cell_type": "code",
   "execution_count": 96,
   "metadata": {},
   "outputs": [],
   "source": [
    "model = Sequential()\n",
    "model.add(Dense(units = 100, input_dim = number_of_features, activation = 'relu'))\n",
    "model.add(Dense(units = 40, activation = 'relu'))\n",
    "model.add(Dense(units = 20, activation = 'relu'))\n",
    "model.add(Dropout(0.1))\n",
    "model.add(Dense(units = output_size, activation = 'sigmoid'))"
   ]
  },
  {
   "cell_type": "code",
   "execution_count": 97,
   "metadata": {},
   "outputs": [],
   "source": [
    "model.compile( optimizers.Adam(learning_rate = 0.0001), loss = losses.BinaryCrossentropy(), metrics = ['accuracy'] )"
   ]
  },
  {
   "cell_type": "code",
   "execution_count": 98,
   "metadata": {},
   "outputs": [
    {
     "name": "stdout",
     "output_type": "stream",
     "text": [
      "Model: \"sequential_2\"\n",
      "_________________________________________________________________\n",
      "Layer (type)                 Output Shape              Param #   \n",
      "=================================================================\n",
      "dense_8 (Dense)              (None, 100)               2800      \n",
      "_________________________________________________________________\n",
      "dense_9 (Dense)              (None, 40)                4040      \n",
      "_________________________________________________________________\n",
      "dense_10 (Dense)             (None, 20)                820       \n",
      "_________________________________________________________________\n",
      "dropout_2 (Dropout)          (None, 20)                0         \n",
      "_________________________________________________________________\n",
      "dense_11 (Dense)             (None, 1)                 21        \n",
      "=================================================================\n",
      "Total params: 7,681\n",
      "Trainable params: 7,681\n",
      "Non-trainable params: 0\n",
      "_________________________________________________________________\n"
     ]
    }
   ],
   "source": [
    "model.summary()"
   ]
  },
  {
   "cell_type": "code",
   "execution_count": 99,
   "metadata": {},
   "outputs": [],
   "source": [
    "history = model.fit(X_train_resampled, y_train_resampled, epochs = 50, batch_size = 32, verbose = 0, validation_split = 0.2)"
   ]
  },
  {
   "cell_type": "code",
   "execution_count": 100,
   "metadata": {},
   "outputs": [],
   "source": [
    "epochs = history.epoch\n",
    "\n",
    "loss = history.history['loss']\n",
    "validation_loss = history.history['val_loss']\n",
    "\n",
    "acc = history.history['accuracy']\n",
    "validation_acc = history.history['val_accuracy']"
   ]
  },
  {
   "cell_type": "code",
   "execution_count": 101,
   "metadata": {},
   "outputs": [
    {
     "name": "stdout",
     "output_type": "stream",
     "text": [
      "Loss                =  0.011882875114679337\n",
      "Accuracy            =  0.9970008730888367\n",
      "Validation Loss     =  0.02996302768588066\n",
      "Validation Accuracy =  0.9914798140525818\n"
     ]
    }
   ],
   "source": [
    "print(\"Loss                = \" , loss[49] )\n",
    "print(\"Accuracy            = \" ,  acc[49])\n",
    "\n",
    "print(\"Validation Loss     = \" , validation_loss[49] )\n",
    "print(\"Validation Accuracy = \" ,  validation_acc[49])"
   ]
  },
  {
   "cell_type": "code",
   "execution_count": 102,
   "metadata": {},
   "outputs": [
    {
     "data": {
      "text/plain": [
       "<matplotlib.legend.Legend at 0x1f1989ade88>"
      ]
     },
     "execution_count": 102,
     "metadata": {},
     "output_type": "execute_result"
    },
    {
     "data": {
      "image/png": "[encoded data removed]",
      "text/plain": [
       "<Figure size 1080x360 with 2 Axes>"
      ]
     },
     "metadata": {
      "needs_background": "light"
     },
     "output_type": "display_data"
    }
   ],
   "source": [
    "fig = plt.figure(figsize=(15, 5))\n",
    "\n",
    "plt.subplot(1,2,1)\n",
    "plt.title('Loss')\n",
    "plt.xlabel('Epochs')\n",
    "plt.ylabel('Loss')\n",
    "plt.plot(epochs, loss, c='red', label='training')\n",
    "plt.plot(epochs, validation_loss, c='blue', label='validation')\n",
    "plt.legend(loc='best')\n",
    "\n",
    "plt.subplot(1,2,2)\n",
    "plt.title('Accuracy')\n",
    "plt.xlabel('Epochs')\n",
    "plt.ylabel('Acccuracy')\n",
    "plt.plot(epochs, acc, c='red', label='training')\n",
    "plt.plot(epochs, validation_acc, c='blue', label='validation')\n",
    "plt.legend(loc='best')"
   ]
  },
  {
   "cell_type": "code",
   "execution_count": null,
   "metadata": {},
   "outputs": [],
   "source": []
  },
  {
   "cell_type": "markdown",
   "metadata": {},
   "source": [
    "## Fully Connected Neural Networks Evaluation"
   ]
  },
  {
   "cell_type": "code",
   "execution_count": 103,
   "metadata": {},
   "outputs": [],
   "source": [
    "final_model = Sequential()\n",
    "final_model.add(Dense(units=100, input_dim=number_of_features, activation='relu'))\n",
    "final_model.add(Dense(units=40, activation='relu'))\n",
    "final_model.add(Dense(units=20, activation='relu'))\n",
    "final_model.add(Dropout(0.1))\n",
    "final_model.add(Dense(units=output_size, activation='sigmoid'))\n",
    "final_model.compile(optimizers.Adam(learning_rate = 0.0001), loss=losses.BinaryCrossentropy(), metrics=['accuracy'])"
   ]
  },
  {
   "cell_type": "code",
   "execution_count": 104,
   "metadata": {},
   "outputs": [],
   "source": [
    "history = final_model.fit(X_train_resampled, y_train_resampled, epochs=50, batch_size=32, verbose = 0)"
   ]
  },
  {
   "cell_type": "code",
   "execution_count": 105,
   "metadata": {},
   "outputs": [
    {
     "name": "stdout",
     "output_type": "stream",
     "text": [
      "687/687 [==============================] - 2s 2ms/step - loss: 0.0276 - accuracy: 0.9917\n",
      "Test loss:     0.027594253420829773, \n",
      "Test accuracy: 0.9917148351669312\n"
     ]
    }
   ],
   "source": [
    "test_loss, test_accuracy = final_model.evaluate(X_test_resampled, y_test_resampled)\n",
    "print (\"Test loss:     {}, \\nTest accuracy: {}\".format(test_loss, test_accuracy))"
   ]
  },
  {
   "cell_type": "code",
   "execution_count": 106,
   "metadata": {},
   "outputs": [
    {
     "name": "stdout",
     "output_type": "stream",
     "text": [
      "1394/1394 [==============================] - 3s 2ms/step - loss: 0.0095 - accuracy: 0.9978\n",
      "Train loss:     0.0095335328951478, \n",
      "Train accuracy: 0.9978249669075012\n"
     ]
    }
   ],
   "source": [
    "train_loss, train_accuracy = final_model.evaluate(X_train_resampled, y_train_resampled)\n",
    "print (\"Train loss:     {}, \\nTrain accuracy: {}\".format(train_loss, train_accuracy))"
   ]
  },
  {
   "cell_type": "code",
   "execution_count": 107,
   "metadata": {},
   "outputs": [],
   "source": [
    "epochs = history.epoch\n",
    "loss = history.history['loss']\n",
    "acc = history.history['accuracy']"
   ]
  },
  {
   "cell_type": "code",
   "execution_count": 108,
   "metadata": {},
   "outputs": [
    {
     "data": {
      "text/plain": [
       "<matplotlib.legend.Legend at 0x1f19a916808>"
      ]
     },
     "execution_count": 108,
     "metadata": {},
     "output_type": "execute_result"
    },
    {
     "data": {
      "image/png": "[encoded data removed]",
      "text/plain": [
       "<Figure size 1080x360 with 2 Axes>"
      ]
     },
     "metadata": {
      "needs_background": "light"
     },
     "output_type": "display_data"
    }
   ],
   "source": [
    "fig = plt.figure(figsize=(15, 5))\n",
    "\n",
    "plt.subplot(1, 2, 1)\n",
    "plt.title('Loss')\n",
    "plt.xlabel('Epochs')\n",
    "plt.ylabel('Loss')\n",
    "plt.plot(epochs, loss, c='red', label='test loss')\n",
    "plt.legend(loc='best')\n",
    "\n",
    "plt.subplot(1, 2, 2)\n",
    "plt.title('Accuracy')\n",
    "plt.xlabel('Epochs')\n",
    "plt.ylabel('Acccuracy')\n",
    "plt.plot(epochs, acc , c='blue', label = 'test accuracy')\n",
    "plt.legend(loc='best')"
   ]
  },
  {
   "cell_type": "markdown",
   "metadata": {},
   "source": [
    "## Save model"
   ]
  },
  {
   "cell_type": "code",
   "execution_count": 109,
   "metadata": {},
   "outputs": [],
   "source": [
    "from keras.models import load_model"
   ]
  },
  {
   "cell_type": "code",
   "execution_count": 110,
   "metadata": {},
   "outputs": [],
   "source": [
    "model.save('final_model.h5') "
   ]
  },
  {
   "cell_type": "code",
   "execution_count": null,
   "metadata": {},
   "outputs": [],
   "source": []
  },
  {
   "cell_type": "code",
   "execution_count": null,
   "metadata": {},
   "outputs": [],
   "source": []
  }
 ],
 "metadata": {
  "kernelspec": {
   "display_name": "Python 3",
   "language": "python",
   "name": "python3"
  },
  "language_info": {
   "codemirror_mode": {
    "name": "ipython",
    "version": 3
   },
   "file_extension": ".py",
   "mimetype": "text/x-python",
   "name": "python",
   "nbconvert_exporter": "python",
   "pygments_lexer": "ipython3",
   "version": "3.7.4"
  }
 },
 "nbformat": 4,
 "nbformat_minor": 2
}
