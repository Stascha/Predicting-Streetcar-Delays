{
 "cells": [
  {
   "cell_type": "markdown",
   "metadata": {},
   "source": [
    "# Logistic regression"
   ]
  },
  {
   "cell_type": "code",
   "execution_count": 1,
   "metadata": {},
   "outputs": [
    {
     "name": "stderr",
     "output_type": "stream",
     "text": [
      "C:\\Users\\Korisnik\\Anaconda3\\lib\\site-packages\\sklearn\\externals\\six.py:31: DeprecationWarning: The module is deprecated in version 0.21 and will be removed in version 0.23 since we've dropped support for Python 2.7. Please rely on the official version of six (https://pypi.org/project/six/).\n",
      "  \"(https://pypi.org/project/six/).\", DeprecationWarning)\n"
     ]
    }
   ],
   "source": [
    "import numpy as np \n",
    "import pandas as pd \n",
    "import matplotlib \n",
    "import matplotlib.pyplot as plt\n",
    "\n",
    "import zipfile\n",
    "import os\n",
    "import math\n",
    "import pickle\n",
    "import requests\n",
    "import json\n",
    "import re\n",
    "import logging\n",
    "import seaborn\n",
    "\n",
    "import imblearn\n",
    "from imblearn.over_sampling import SMOTE\n",
    "from imblearn.over_sampling import RandomOverSampler\n",
    "from imblearn.under_sampling import RandomUnderSampler\n",
    "\n",
    "import time\n",
    "import datetime\n",
    "from datetime import datetime, timedelta\n",
    "from datetime import date\n",
    "from dateutil import relativedelta\n",
    "\n",
    "from io import StringIO\n",
    "\n",
    "%matplotlib inline \n",
    "from subprocess import check_output\n",
    "from IPython.display import display\n",
    "from colorama import Fore, Back, Style\n",
    "from scipy.stats import pearsonr\n",
    "\n",
    "from sklearn.model_selection import GridSearchCV\n",
    "from sklearn.base import BaseEstimator\n",
    "from sklearn.base import TransformerMixin\n",
    "from sklearn.utils import shuffle\n",
    "from sklearn import linear_model\n",
    "from sklearn import model_selection\n",
    "from sklearn.model_selection import train_test_split\n",
    "from sklearn import metrics\n",
    "from sklearn import preprocessing\n",
    "from sklearn.preprocessing import StandardScaler, LabelEncoder, MinMaxScaler \n",
    "from sklearn import datasets\n",
    "\n",
    "import tensorflow\n",
    "import keras\n",
    "from keras.models import Sequential\n",
    "from keras.layers import Dense\n",
    "from keras.layers import Activation\n",
    "from keras.layers import Dropout\n",
    "from keras import optimizers\n",
    "from keras import losses\n",
    "\n",
    "import warnings"
   ]
  },
  {
   "cell_type": "code",
   "execution_count": 2,
   "metadata": {},
   "outputs": [],
   "source": [
    "data = pd.read_csv('preprocessed_data.csv')"
   ]
  },
  {
   "cell_type": "code",
   "execution_count": 3,
   "metadata": {},
   "outputs": [
    {
     "data": {
      "text/html": [
       "<div>\n",
       "<style scoped>\n",
       "    .dataframe tbody tr th:only-of-type {\n",
       "        vertical-align: middle;\n",
       "    }\n",
       "\n",
       "    .dataframe tbody tr th {\n",
       "        vertical-align: top;\n",
       "    }\n",
       "\n",
       "    .dataframe thead th {\n",
       "        text-align: right;\n",
       "    }\n",
       "</style>\n",
       "<table border=\"1\" class=\"dataframe\">\n",
       "  <thead>\n",
       "    <tr style=\"text-align: right;\">\n",
       "      <th></th>\n",
       "      <th>Route</th>\n",
       "      <th>Min Gap</th>\n",
       "      <th>Vehicle</th>\n",
       "      <th>Delay</th>\n",
       "      <th>Direction_e</th>\n",
       "      <th>Direction_n</th>\n",
       "      <th>Direction_s</th>\n",
       "      <th>Direction_w</th>\n",
       "      <th>Incident_Diversion</th>\n",
       "      <th>Incident_Emergency Services</th>\n",
       "      <th>...</th>\n",
       "      <th>Day_Monday</th>\n",
       "      <th>Day_Saturday</th>\n",
       "      <th>Day_Sunday</th>\n",
       "      <th>Day_Thursday</th>\n",
       "      <th>Day_Tuesday</th>\n",
       "      <th>Day_Wednesday</th>\n",
       "      <th>Year</th>\n",
       "      <th>Month</th>\n",
       "      <th>Day</th>\n",
       "      <th>Hour</th>\n",
       "    </tr>\n",
       "  </thead>\n",
       "  <tbody>\n",
       "    <tr>\n",
       "      <td>0</td>\n",
       "      <td>505</td>\n",
       "      <td>8</td>\n",
       "      <td>4018</td>\n",
       "      <td>1</td>\n",
       "      <td>1</td>\n",
       "      <td>0</td>\n",
       "      <td>0</td>\n",
       "      <td>0</td>\n",
       "      <td>0</td>\n",
       "      <td>0</td>\n",
       "      <td>...</td>\n",
       "      <td>0</td>\n",
       "      <td>0</td>\n",
       "      <td>0</td>\n",
       "      <td>1</td>\n",
       "      <td>0</td>\n",
       "      <td>0</td>\n",
       "      <td>2014</td>\n",
       "      <td>1</td>\n",
       "      <td>2</td>\n",
       "      <td>6</td>\n",
       "    </tr>\n",
       "    <tr>\n",
       "      <td>1</td>\n",
       "      <td>504</td>\n",
       "      <td>22</td>\n",
       "      <td>4128</td>\n",
       "      <td>1</td>\n",
       "      <td>1</td>\n",
       "      <td>0</td>\n",
       "      <td>0</td>\n",
       "      <td>0</td>\n",
       "      <td>0</td>\n",
       "      <td>0</td>\n",
       "      <td>...</td>\n",
       "      <td>0</td>\n",
       "      <td>0</td>\n",
       "      <td>0</td>\n",
       "      <td>1</td>\n",
       "      <td>0</td>\n",
       "      <td>0</td>\n",
       "      <td>2014</td>\n",
       "      <td>1</td>\n",
       "      <td>2</td>\n",
       "      <td>12</td>\n",
       "    </tr>\n",
       "    <tr>\n",
       "      <td>2</td>\n",
       "      <td>501</td>\n",
       "      <td>19</td>\n",
       "      <td>4016</td>\n",
       "      <td>1</td>\n",
       "      <td>0</td>\n",
       "      <td>0</td>\n",
       "      <td>0</td>\n",
       "      <td>1</td>\n",
       "      <td>0</td>\n",
       "      <td>0</td>\n",
       "      <td>...</td>\n",
       "      <td>0</td>\n",
       "      <td>0</td>\n",
       "      <td>0</td>\n",
       "      <td>1</td>\n",
       "      <td>0</td>\n",
       "      <td>0</td>\n",
       "      <td>2014</td>\n",
       "      <td>1</td>\n",
       "      <td>2</td>\n",
       "      <td>14</td>\n",
       "    </tr>\n",
       "    <tr>\n",
       "      <td>3</td>\n",
       "      <td>504</td>\n",
       "      <td>11</td>\n",
       "      <td>4175</td>\n",
       "      <td>1</td>\n",
       "      <td>0</td>\n",
       "      <td>0</td>\n",
       "      <td>0</td>\n",
       "      <td>1</td>\n",
       "      <td>0</td>\n",
       "      <td>0</td>\n",
       "      <td>...</td>\n",
       "      <td>0</td>\n",
       "      <td>0</td>\n",
       "      <td>0</td>\n",
       "      <td>1</td>\n",
       "      <td>0</td>\n",
       "      <td>0</td>\n",
       "      <td>2014</td>\n",
       "      <td>1</td>\n",
       "      <td>2</td>\n",
       "      <td>14</td>\n",
       "    </tr>\n",
       "    <tr>\n",
       "      <td>4</td>\n",
       "      <td>504</td>\n",
       "      <td>6</td>\n",
       "      <td>4080</td>\n",
       "      <td>1</td>\n",
       "      <td>1</td>\n",
       "      <td>0</td>\n",
       "      <td>0</td>\n",
       "      <td>0</td>\n",
       "      <td>0</td>\n",
       "      <td>0</td>\n",
       "      <td>...</td>\n",
       "      <td>0</td>\n",
       "      <td>0</td>\n",
       "      <td>0</td>\n",
       "      <td>1</td>\n",
       "      <td>0</td>\n",
       "      <td>0</td>\n",
       "      <td>2014</td>\n",
       "      <td>1</td>\n",
       "      <td>2</td>\n",
       "      <td>16</td>\n",
       "    </tr>\n",
       "    <tr>\n",
       "      <td>...</td>\n",
       "      <td>...</td>\n",
       "      <td>...</td>\n",
       "      <td>...</td>\n",
       "      <td>...</td>\n",
       "      <td>...</td>\n",
       "      <td>...</td>\n",
       "      <td>...</td>\n",
       "      <td>...</td>\n",
       "      <td>...</td>\n",
       "      <td>...</td>\n",
       "      <td>...</td>\n",
       "      <td>...</td>\n",
       "      <td>...</td>\n",
       "      <td>...</td>\n",
       "      <td>...</td>\n",
       "      <td>...</td>\n",
       "      <td>...</td>\n",
       "      <td>...</td>\n",
       "      <td>...</td>\n",
       "      <td>...</td>\n",
       "      <td>...</td>\n",
       "    </tr>\n",
       "    <tr>\n",
       "      <td>45039</td>\n",
       "      <td>505</td>\n",
       "      <td>16</td>\n",
       "      <td>4164</td>\n",
       "      <td>1</td>\n",
       "      <td>1</td>\n",
       "      <td>0</td>\n",
       "      <td>0</td>\n",
       "      <td>0</td>\n",
       "      <td>0</td>\n",
       "      <td>0</td>\n",
       "      <td>...</td>\n",
       "      <td>0</td>\n",
       "      <td>0</td>\n",
       "      <td>1</td>\n",
       "      <td>0</td>\n",
       "      <td>0</td>\n",
       "      <td>0</td>\n",
       "      <td>2017</td>\n",
       "      <td>12</td>\n",
       "      <td>31</td>\n",
       "      <td>9</td>\n",
       "    </tr>\n",
       "    <tr>\n",
       "      <td>45040</td>\n",
       "      <td>501</td>\n",
       "      <td>24</td>\n",
       "      <td>4110</td>\n",
       "      <td>1</td>\n",
       "      <td>0</td>\n",
       "      <td>0</td>\n",
       "      <td>0</td>\n",
       "      <td>1</td>\n",
       "      <td>0</td>\n",
       "      <td>0</td>\n",
       "      <td>...</td>\n",
       "      <td>0</td>\n",
       "      <td>0</td>\n",
       "      <td>1</td>\n",
       "      <td>0</td>\n",
       "      <td>0</td>\n",
       "      <td>0</td>\n",
       "      <td>2017</td>\n",
       "      <td>12</td>\n",
       "      <td>31</td>\n",
       "      <td>11</td>\n",
       "    </tr>\n",
       "    <tr>\n",
       "      <td>45041</td>\n",
       "      <td>501</td>\n",
       "      <td>24</td>\n",
       "      <td>1419</td>\n",
       "      <td>1</td>\n",
       "      <td>0</td>\n",
       "      <td>0</td>\n",
       "      <td>0</td>\n",
       "      <td>1</td>\n",
       "      <td>0</td>\n",
       "      <td>0</td>\n",
       "      <td>...</td>\n",
       "      <td>0</td>\n",
       "      <td>0</td>\n",
       "      <td>1</td>\n",
       "      <td>0</td>\n",
       "      <td>0</td>\n",
       "      <td>0</td>\n",
       "      <td>2017</td>\n",
       "      <td>12</td>\n",
       "      <td>31</td>\n",
       "      <td>11</td>\n",
       "    </tr>\n",
       "    <tr>\n",
       "      <td>45042</td>\n",
       "      <td>510</td>\n",
       "      <td>10</td>\n",
       "      <td>4447</td>\n",
       "      <td>1</td>\n",
       "      <td>0</td>\n",
       "      <td>0</td>\n",
       "      <td>1</td>\n",
       "      <td>0</td>\n",
       "      <td>0</td>\n",
       "      <td>0</td>\n",
       "      <td>...</td>\n",
       "      <td>0</td>\n",
       "      <td>0</td>\n",
       "      <td>1</td>\n",
       "      <td>0</td>\n",
       "      <td>0</td>\n",
       "      <td>0</td>\n",
       "      <td>2017</td>\n",
       "      <td>12</td>\n",
       "      <td>31</td>\n",
       "      <td>11</td>\n",
       "    </tr>\n",
       "    <tr>\n",
       "      <td>45043</td>\n",
       "      <td>505</td>\n",
       "      <td>16</td>\n",
       "      <td>4167</td>\n",
       "      <td>1</td>\n",
       "      <td>0</td>\n",
       "      <td>1</td>\n",
       "      <td>0</td>\n",
       "      <td>0</td>\n",
       "      <td>0</td>\n",
       "      <td>0</td>\n",
       "      <td>...</td>\n",
       "      <td>0</td>\n",
       "      <td>0</td>\n",
       "      <td>1</td>\n",
       "      <td>0</td>\n",
       "      <td>0</td>\n",
       "      <td>0</td>\n",
       "      <td>2017</td>\n",
       "      <td>12</td>\n",
       "      <td>31</td>\n",
       "      <td>11</td>\n",
       "    </tr>\n",
       "  </tbody>\n",
       "</table>\n",
       "<p>45044 rows × 28 columns</p>\n",
       "</div>"
      ],
      "text/plain": [
       "       Route  Min Gap  Vehicle  Delay  Direction_e  Direction_n  Direction_s  \\\n",
       "0        505        8     4018      1            1            0            0   \n",
       "1        504       22     4128      1            1            0            0   \n",
       "2        501       19     4016      1            0            0            0   \n",
       "3        504       11     4175      1            0            0            0   \n",
       "4        504        6     4080      1            1            0            0   \n",
       "...      ...      ...      ...    ...          ...          ...          ...   \n",
       "45039    505       16     4164      1            1            0            0   \n",
       "45040    501       24     4110      1            0            0            0   \n",
       "45041    501       24     1419      1            0            0            0   \n",
       "45042    510       10     4447      1            0            0            1   \n",
       "45043    505       16     4167      1            0            1            0   \n",
       "\n",
       "       Direction_w  Incident_Diversion  Incident_Emergency Services  ...  \\\n",
       "0                0                   0                            0  ...   \n",
       "1                0                   0                            0  ...   \n",
       "2                1                   0                            0  ...   \n",
       "3                1                   0                            0  ...   \n",
       "4                0                   0                            0  ...   \n",
       "...            ...                 ...                          ...  ...   \n",
       "45039            0                   0                            0  ...   \n",
       "45040            1                   0                            0  ...   \n",
       "45041            1                   0                            0  ...   \n",
       "45042            0                   0                            0  ...   \n",
       "45043            0                   0                            0  ...   \n",
       "\n",
       "       Day_Monday  Day_Saturday  Day_Sunday  Day_Thursday  Day_Tuesday  \\\n",
       "0               0             0           0             1            0   \n",
       "1               0             0           0             1            0   \n",
       "2               0             0           0             1            0   \n",
       "3               0             0           0             1            0   \n",
       "4               0             0           0             1            0   \n",
       "...           ...           ...         ...           ...          ...   \n",
       "45039           0             0           1             0            0   \n",
       "45040           0             0           1             0            0   \n",
       "45041           0             0           1             0            0   \n",
       "45042           0             0           1             0            0   \n",
       "45043           0             0           1             0            0   \n",
       "\n",
       "       Day_Wednesday  Year  Month  Day  Hour  \n",
       "0                  0  2014      1    2     6  \n",
       "1                  0  2014      1    2    12  \n",
       "2                  0  2014      1    2    14  \n",
       "3                  0  2014      1    2    14  \n",
       "4                  0  2014      1    2    16  \n",
       "...              ...   ...    ...  ...   ...  \n",
       "45039              0  2017     12   31     9  \n",
       "45040              0  2017     12   31    11  \n",
       "45041              0  2017     12   31    11  \n",
       "45042              0  2017     12   31    11  \n",
       "45043              0  2017     12   31    11  \n",
       "\n",
       "[45044 rows x 28 columns]"
      ]
     },
     "execution_count": 3,
     "metadata": {},
     "output_type": "execute_result"
    }
   ],
   "source": [
    "data"
   ]
  },
  {
   "cell_type": "code",
   "execution_count": 4,
   "metadata": {},
   "outputs": [
    {
     "name": "stdout",
     "output_type": "stream",
     "text": [
      "Route\n",
      "Min Gap\n",
      "Vehicle\n",
      "Delay\n",
      "Direction_e\n",
      "Direction_n\n",
      "Direction_s\n",
      "Direction_w\n",
      "Incident_Diversion\n",
      "Incident_Emergency Services\n",
      "Incident_General Delay\n",
      "Incident_Held By\n",
      "Incident_Investigation\n",
      "Incident_Late Leaving Garage\n",
      "Incident_Mechanical\n",
      "Incident_Overhead - Pantograph\n",
      "Incident_Utilized Off Route\n",
      "Day_Friday\n",
      "Day_Monday\n",
      "Day_Saturday\n",
      "Day_Sunday\n",
      "Day_Thursday\n",
      "Day_Tuesday\n",
      "Day_Wednesday\n",
      "Year\n",
      "Month\n",
      "Day\n",
      "Hour\n"
     ]
    }
   ],
   "source": [
    "feature_names = data.columns\n",
    "\n",
    "for col in feature_names:\n",
    "     print(col)"
   ]
  },
  {
   "cell_type": "code",
   "execution_count": 5,
   "metadata": {},
   "outputs": [
    {
     "data": {
      "text/plain": [
       "Route                            -0.008716\n",
       "Min Gap                           0.056566\n",
       "Vehicle                           0.001145\n",
       "Delay                             1.000000\n",
       "Direction_e                       0.011842\n",
       "Direction_n                      -0.023678\n",
       "Direction_s                      -0.020946\n",
       "Direction_w                       0.012471\n",
       "Incident_Diversion               -0.023048\n",
       "Incident_Emergency Services       0.001560\n",
       "Incident_General Delay           -0.060980\n",
       "Incident_Held By                  0.030531\n",
       "Incident_Investigation           -0.014389\n",
       "Incident_Late Leaving Garage      0.017236\n",
       "Incident_Mechanical               0.014905\n",
       "Incident_Overhead - Pantograph    0.001530\n",
       "Incident_Utilized Off Route      -0.023245\n",
       "Day_Friday                       -0.008207\n",
       "Day_Monday                        0.005826\n",
       "Day_Saturday                      0.000255\n",
       "Day_Sunday                       -0.000565\n",
       "Day_Thursday                     -0.005024\n",
       "Day_Tuesday                      -0.000402\n",
       "Day_Wednesday                     0.008324\n",
       "Year                             -0.006103\n",
       "Month                             0.005401\n",
       "Day                              -0.006279\n",
       "Hour                              0.000839\n",
       "Name: Delay, dtype: float64"
      ]
     },
     "execution_count": 5,
     "metadata": {},
     "output_type": "execute_result"
    }
   ],
   "source": [
    "corrcoefs = data.corr()['Delay']\n",
    "corrcoefs"
   ]
  },
  {
   "cell_type": "code",
   "execution_count": 6,
   "metadata": {},
   "outputs": [
    {
     "data": {
      "text/plain": [
       "Route                            -0.008716\n",
       "Min Gap                           0.056566\n",
       "Vehicle                           0.001145\n",
       "Direction_e                       0.011842\n",
       "Direction_n                      -0.023678\n",
       "Direction_s                      -0.020946\n",
       "Direction_w                       0.012471\n",
       "Incident_Diversion               -0.023048\n",
       "Incident_Emergency Services       0.001560\n",
       "Incident_General Delay           -0.060980\n",
       "Incident_Held By                  0.030531\n",
       "Incident_Investigation           -0.014389\n",
       "Incident_Late Leaving Garage      0.017236\n",
       "Incident_Mechanical               0.014905\n",
       "Incident_Overhead - Pantograph    0.001530\n",
       "Incident_Utilized Off Route      -0.023245\n",
       "Day_Friday                       -0.008207\n",
       "Day_Monday                        0.005826\n",
       "Day_Saturday                      0.000255\n",
       "Day_Sunday                       -0.000565\n",
       "Day_Thursday                     -0.005024\n",
       "Day_Tuesday                      -0.000402\n",
       "Day_Wednesday                     0.008324\n",
       "Year                             -0.006103\n",
       "Month                             0.005401\n",
       "Day                              -0.006279\n",
       "Hour                              0.000839\n",
       "Name: Delay, dtype: float64"
      ]
     },
     "execution_count": 6,
     "metadata": {},
     "output_type": "execute_result"
    }
   ],
   "source": [
    "# corrcoefs_for_barh = ( (corrcoefs.drop('Delay')) * 1000000 ).astype(int)\n",
    "corrcoefs_for_barh = corrcoefs.drop('Delay')\n",
    "corrcoefs_for_barh\n"
   ]
  },
    {
     "data": {
      "image/png": "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\n",
      "text/plain": [
       "<Figure size 648x648 with 1 Axes>"
      ]
     },
     "metadata": {
      "needs_background": "light"
     },
     "output_type": "display_data"
    }
   ],
   "source": [
    "number_of_features = len(data.columns)\n",
    "\n",
    "coefs_for_plot = pd.Series(corrcoefs_for_barh).sort_values()\n",
    "coefs_for_plot.plot(kind = \"barh\", color = 'orange', figsize = (9, 9))\n",
    "\n",
    "plt.title(\"Attributes correlation with the target variable y\" )\n",
    "plt.ylabel('Attribute name')\n",
    "plt.xlabel('Correlation coefficient value')\n",
    "plt.yticks(np.arange(number_of_features), list(feature_names[coefs_for_plot.index]))\n",
    "plt.plot()"
   ]
  },
  {
   "cell_type": "code",
   "execution_count": null,
   "metadata": {},
   "outputs": [],
   "source": []
  },
  {
   "cell_type": "code",
   "execution_count": 8,
   "metadata": {},
   "outputs": [],
   "source": [
    "y = data['Delay']\n",
    "X = data.drop(columns=['Delay'])"
   ]
  },
  {
   "cell_type": "code",
   "execution_count": 9,
   "metadata": {},
   "outputs": [
    {
     "data": {
      "text/html": [
       "<div>\n",
       "<style scoped>\n",
       "    .dataframe tbody tr th:only-of-type {\n",
       "        vertical-align: middle;\n",
       "    }\n",
       "\n",
       "    .dataframe tbody tr th {\n",
       "        vertical-align: top;\n",
       "    }\n",
       "\n",
       "    .dataframe thead th {\n",
       "        text-align: right;\n",
       "    }\n",
       "</style>\n",
       "<table border=\"1\" class=\"dataframe\">\n",
       "  <thead>\n",
       "    <tr style=\"text-align: right;\">\n",
       "      <th></th>\n",
       "      <th>Route</th>\n",
       "      <th>Min Gap</th>\n",
       "      <th>Vehicle</th>\n",
       "      <th>Direction_e</th>\n",
       "      <th>Direction_n</th>\n",
       "      <th>Direction_s</th>\n",
       "      <th>Direction_w</th>\n",
       "      <th>Incident_Diversion</th>\n",
       "      <th>Incident_Emergency Services</th>\n",
       "      <th>Incident_General Delay</th>\n",
       "      <th>...</th>\n",
       "      <th>Day_Monday</th>\n",
       "      <th>Day_Saturday</th>\n",
       "      <th>Day_Sunday</th>\n",
       "      <th>Day_Thursday</th>\n",
       "      <th>Day_Tuesday</th>\n",
       "      <th>Day_Wednesday</th>\n",
       "      <th>Year</th>\n",
       "      <th>Month</th>\n",
       "      <th>Day</th>\n",
       "      <th>Hour</th>\n",
       "    </tr>\n",
       "  </thead>\n",
       "  <tbody>\n",
       "    <tr>\n",
       "      <td>Route</td>\n",
       "      <td>1.000000</td>\n",
       "      <td>-0.086860</td>\n",
       "      <td>0.003536</td>\n",
       "      <td>-0.019117</td>\n",
       "      <td>0.064304</td>\n",
       "      <td>0.058385</td>\n",
       "      <td>-0.047580</td>\n",
       "      <td>-0.023700</td>\n",
       "      <td>-0.055631</td>\n",
       "      <td>0.017453</td>\n",
       "      <td>...</td>\n",
       "      <td>0.010611</td>\n",
       "      <td>-0.029604</td>\n",
       "      <td>-0.049578</td>\n",
       "      <td>0.015163</td>\n",
       "      <td>0.009791</td>\n",
       "      <td>0.024823</td>\n",
       "      <td>-0.011980</td>\n",
       "      <td>-0.001899</td>\n",
       "      <td>0.011446</td>\n",
       "      <td>-0.000178</td>\n",
       "    </tr>\n",
       "    <tr>\n",
       "      <td>Min Gap</td>\n",
       "      <td>-0.086860</td>\n",
       "      <td>1.000000</td>\n",
       "      <td>-0.020061</td>\n",
       "      <td>-0.018443</td>\n",
       "      <td>-0.031929</td>\n",
       "      <td>-0.017381</td>\n",
       "      <td>0.045133</td>\n",
       "      <td>0.175230</td>\n",
       "      <td>0.048142</td>\n",
       "      <td>0.010307</td>\n",
       "      <td>...</td>\n",
       "      <td>-0.013045</td>\n",
       "      <td>0.015613</td>\n",
       "      <td>0.042096</td>\n",
       "      <td>-0.015156</td>\n",
       "      <td>-0.005897</td>\n",
       "      <td>-0.009730</td>\n",
       "      <td>-0.015375</td>\n",
       "      <td>0.016159</td>\n",
       "      <td>-0.001196</td>\n",
       "      <td>-0.005060</td>\n",
       "    </tr>\n",
       "    <tr>\n",
       "      <td>Vehicle</td>\n",
       "      <td>0.003536</td>\n",
       "      <td>-0.020061</td>\n",
       "      <td>1.000000</td>\n",
       "      <td>0.015028</td>\n",
       "      <td>-0.001610</td>\n",
       "      <td>0.000429</td>\n",
       "      <td>-0.014221</td>\n",
       "      <td>-0.002160</td>\n",
       "      <td>0.001392</td>\n",
       "      <td>-0.024807</td>\n",
       "      <td>...</td>\n",
       "      <td>-0.002274</td>\n",
       "      <td>-0.004080</td>\n",
       "      <td>-0.003524</td>\n",
       "      <td>-0.002267</td>\n",
       "      <td>0.008051</td>\n",
       "      <td>0.001761</td>\n",
       "      <td>-0.049402</td>\n",
       "      <td>0.001179</td>\n",
       "      <td>-0.001149</td>\n",
       "      <td>0.000911</td>\n",
       "    </tr>\n",
       "    <tr>\n",
       "      <td>Direction_e</td>\n",
       "      <td>-0.019117</td>\n",
       "      <td>-0.018443</td>\n",
       "      <td>0.015028</td>\n",
       "      <td>1.000000</td>\n",
       "      <td>-0.247167</td>\n",
       "      <td>-0.235475</td>\n",
       "      <td>-0.728888</td>\n",
       "      <td>-0.018901</td>\n",
       "      <td>-0.012847</td>\n",
       "      <td>-0.022736</td>\n",
       "      <td>...</td>\n",
       "      <td>-0.004201</td>\n",
       "      <td>-0.007830</td>\n",
       "      <td>-0.005333</td>\n",
       "      <td>0.004471</td>\n",
       "      <td>0.012275</td>\n",
       "      <td>0.000122</td>\n",
       "      <td>-0.008377</td>\n",
       "      <td>-0.030390</td>\n",
       "      <td>-0.010049</td>\n",
       "      <td>0.003917</td>\n",
       "    </tr>\n",
       "    <tr>\n",
       "      <td>Direction_n</td>\n",
       "      <td>0.064304</td>\n",
       "      <td>-0.031929</td>\n",
       "      <td>-0.001610</td>\n",
       "      <td>-0.247167</td>\n",
       "      <td>1.000000</td>\n",
       "      <td>-0.084908</td>\n",
       "      <td>-0.262825</td>\n",
       "      <td>-0.001596</td>\n",
       "      <td>-0.012627</td>\n",
       "      <td>-0.015004</td>\n",
       "      <td>...</td>\n",
       "      <td>-0.004585</td>\n",
       "      <td>0.009142</td>\n",
       "      <td>0.001315</td>\n",
       "      <td>0.000321</td>\n",
       "      <td>-0.004783</td>\n",
       "      <td>0.003262</td>\n",
       "      <td>-0.003167</td>\n",
       "      <td>-0.001273</td>\n",
       "      <td>-0.010484</td>\n",
       "      <td>-0.002060</td>\n",
       "    </tr>\n",
       "    <tr>\n",
       "      <td>Direction_s</td>\n",
       "      <td>0.058385</td>\n",
       "      <td>-0.017381</td>\n",
       "      <td>0.000429</td>\n",
       "      <td>-0.235475</td>\n",
       "      <td>-0.084908</td>\n",
       "      <td>1.000000</td>\n",
       "      <td>-0.250392</td>\n",
       "      <td>-0.002825</td>\n",
       "      <td>-0.005542</td>\n",
       "      <td>-0.020404</td>\n",
       "      <td>...</td>\n",
       "      <td>0.006021</td>\n",
       "      <td>0.005678</td>\n",
       "      <td>0.006880</td>\n",
       "      <td>-0.007091</td>\n",
       "      <td>-0.009010</td>\n",
       "      <td>-0.002902</td>\n",
       "      <td>-0.005430</td>\n",
       "      <td>0.008200</td>\n",
       "      <td>0.000749</td>\n",
       "      <td>0.002629</td>\n",
       "    </tr>\n",
       "    <tr>\n",
       "      <td>Direction_w</td>\n",
       "      <td>-0.047580</td>\n",
       "      <td>0.045133</td>\n",
       "      <td>-0.014221</td>\n",
       "      <td>-0.728888</td>\n",
       "      <td>-0.262825</td>\n",
       "      <td>-0.250392</td>\n",
       "      <td>1.000000</td>\n",
       "      <td>0.021100</td>\n",
       "      <td>0.022643</td>\n",
       "      <td>0.041636</td>\n",
       "      <td>...</td>\n",
       "      <td>0.003501</td>\n",
       "      <td>-0.000309</td>\n",
       "      <td>0.000905</td>\n",
       "      <td>-0.000843</td>\n",
       "      <td>-0.004734</td>\n",
       "      <td>-0.000384</td>\n",
       "      <td>0.012928</td>\n",
       "      <td>0.026452</td>\n",
       "      <td>0.015350</td>\n",
       "      <td>-0.004136</td>\n",
       "    </tr>\n",
       "    <tr>\n",
       "      <td>Incident_Diversion</td>\n",
       "      <td>-0.023700</td>\n",
       "      <td>0.175230</td>\n",
       "      <td>-0.002160</td>\n",
       "      <td>-0.018901</td>\n",
       "      <td>-0.001596</td>\n",
       "      <td>-0.002825</td>\n",
       "      <td>0.021100</td>\n",
       "      <td>1.000000</td>\n",
       "      <td>-0.020563</td>\n",
       "      <td>-0.022316</td>\n",
       "      <td>...</td>\n",
       "      <td>-0.005460</td>\n",
       "      <td>0.002509</td>\n",
       "      <td>0.026506</td>\n",
       "      <td>-0.002049</td>\n",
       "      <td>-0.000388</td>\n",
       "      <td>-0.006262</td>\n",
       "      <td>0.009340</td>\n",
       "      <td>0.011782</td>\n",
       "      <td>-0.000767</td>\n",
       "      <td>0.001514</td>\n",
       "    </tr>\n",
       "    <tr>\n",
       "      <td>Incident_Emergency Services</td>\n",
       "      <td>-0.055631</td>\n",
       "      <td>0.048142</td>\n",
       "      <td>0.001392</td>\n",
       "      <td>-0.012847</td>\n",
       "      <td>-0.012627</td>\n",
       "      <td>-0.005542</td>\n",
       "      <td>0.022643</td>\n",
       "      <td>-0.020563</td>\n",
       "      <td>1.000000</td>\n",
       "      <td>-0.032508</td>\n",
       "      <td>...</td>\n",
       "      <td>-0.008074</td>\n",
       "      <td>0.017137</td>\n",
       "      <td>0.026137</td>\n",
       "      <td>-0.005801</td>\n",
       "      <td>-0.007367</td>\n",
       "      <td>-0.006865</td>\n",
       "      <td>0.018482</td>\n",
       "      <td>-0.000305</td>\n",
       "      <td>-0.007546</td>\n",
       "      <td>-0.008458</td>\n",
       "    </tr>\n",
       "    <tr>\n",
       "      <td>Incident_General Delay</td>\n",
       "      <td>0.017453</td>\n",
       "      <td>0.010307</td>\n",
       "      <td>-0.024807</td>\n",
       "      <td>-0.022736</td>\n",
       "      <td>-0.015004</td>\n",
       "      <td>-0.020404</td>\n",
       "      <td>0.041636</td>\n",
       "      <td>-0.022316</td>\n",
       "      <td>-0.032508</td>\n",
       "      <td>1.000000</td>\n",
       "      <td>...</td>\n",
       "      <td>-0.020637</td>\n",
       "      <td>0.010302</td>\n",
       "      <td>0.018267</td>\n",
       "      <td>0.003729</td>\n",
       "      <td>-0.014024</td>\n",
       "      <td>-0.001173</td>\n",
       "      <td>0.038061</td>\n",
       "      <td>0.021885</td>\n",
       "      <td>0.013049</td>\n",
       "      <td>-0.000141</td>\n",
       "    </tr>\n",
       "    <tr>\n",
       "      <td>Incident_Held By</td>\n",
       "      <td>-0.051014</td>\n",
       "      <td>0.120897</td>\n",
       "      <td>-0.030666</td>\n",
       "      <td>-0.033710</td>\n",
       "      <td>-0.007301</td>\n",
       "      <td>-0.002220</td>\n",
       "      <td>0.038600</td>\n",
       "      <td>-0.044681</td>\n",
       "      <td>-0.065086</td>\n",
       "      <td>-0.070636</td>\n",
       "      <td>...</td>\n",
       "      <td>-0.013836</td>\n",
       "      <td>0.008668</td>\n",
       "      <td>0.020760</td>\n",
       "      <td>-0.007592</td>\n",
       "      <td>-0.016455</td>\n",
       "      <td>0.012992</td>\n",
       "      <td>-0.041700</td>\n",
       "      <td>0.019259</td>\n",
       "      <td>-0.009008</td>\n",
       "      <td>0.001846</td>\n",
       "    </tr>\n",
       "    <tr>\n",
       "      <td>Incident_Investigation</td>\n",
       "      <td>-0.028893</td>\n",
       "      <td>0.065511</td>\n",
       "      <td>0.016439</td>\n",
       "      <td>-0.004412</td>\n",
       "      <td>-0.006178</td>\n",
       "      <td>0.026648</td>\n",
       "      <td>-0.006354</td>\n",
       "      <td>-0.048016</td>\n",
       "      <td>-0.069945</td>\n",
       "      <td>-0.075909</td>\n",
       "      <td>...</td>\n",
       "      <td>-0.001621</td>\n",
       "      <td>0.018940</td>\n",
       "      <td>0.010416</td>\n",
       "      <td>-0.005356</td>\n",
       "      <td>-0.006661</td>\n",
       "      <td>-0.005792</td>\n",
       "      <td>-0.004248</td>\n",
       "      <td>0.025530</td>\n",
       "      <td>0.010606</td>\n",
       "      <td>-0.007366</td>\n",
       "    </tr>\n",
       "    <tr>\n",
       "      <td>Incident_Late Leaving Garage</td>\n",
       "      <td>0.049934</td>\n",
       "      <td>-0.074298</td>\n",
       "      <td>-0.025434</td>\n",
       "      <td>0.013744</td>\n",
       "      <td>0.020793</td>\n",
       "      <td>-0.061734</td>\n",
       "      <td>0.007648</td>\n",
       "      <td>-0.040548</td>\n",
       "      <td>-0.059066</td>\n",
       "      <td>-0.064102</td>\n",
       "      <td>...</td>\n",
       "      <td>0.016812</td>\n",
       "      <td>-0.064864</td>\n",
       "      <td>-0.058682</td>\n",
       "      <td>0.025853</td>\n",
       "      <td>0.003978</td>\n",
       "      <td>0.027213</td>\n",
       "      <td>-0.018749</td>\n",
       "      <td>-0.050263</td>\n",
       "      <td>0.009444</td>\n",
       "      <td>-0.000664</td>\n",
       "    </tr>\n",
       "    <tr>\n",
       "      <td>Incident_Mechanical</td>\n",
       "      <td>0.040936</td>\n",
       "      <td>-0.131724</td>\n",
       "      <td>0.010159</td>\n",
       "      <td>0.031156</td>\n",
       "      <td>-0.000686</td>\n",
       "      <td>0.032453</td>\n",
       "      <td>-0.047696</td>\n",
       "      <td>-0.123362</td>\n",
       "      <td>-0.179700</td>\n",
       "      <td>-0.195023</td>\n",
       "      <td>...</td>\n",
       "      <td>0.009860</td>\n",
       "      <td>0.014734</td>\n",
       "      <td>-0.002727</td>\n",
       "      <td>-0.009538</td>\n",
       "      <td>0.015828</td>\n",
       "      <td>-0.018840</td>\n",
       "      <td>0.031992</td>\n",
       "      <td>0.000394</td>\n",
       "      <td>-0.009576</td>\n",
       "      <td>0.005685</td>\n",
       "    </tr>\n",
       "    <tr>\n",
       "      <td>Incident_Overhead - Pantograph</td>\n",
       "      <td>0.002571</td>\n",
       "      <td>0.036531</td>\n",
       "      <td>-0.000058</td>\n",
       "      <td>0.000555</td>\n",
       "      <td>0.002776</td>\n",
       "      <td>-0.003546</td>\n",
       "      <td>-0.000203</td>\n",
       "      <td>-0.001481</td>\n",
       "      <td>-0.002158</td>\n",
       "      <td>-0.002342</td>\n",
       "      <td>...</td>\n",
       "      <td>-0.000148</td>\n",
       "      <td>0.001179</td>\n",
       "      <td>0.001761</td>\n",
       "      <td>0.004015</td>\n",
       "      <td>0.004389</td>\n",
       "      <td>-0.005400</td>\n",
       "      <td>0.016526</td>\n",
       "      <td>0.017289</td>\n",
       "      <td>0.012407</td>\n",
       "      <td>0.009360</td>\n",
       "    </tr>\n",
       "    <tr>\n",
       "      <td>Incident_Utilized Off Route</td>\n",
       "      <td>0.000294</td>\n",
       "      <td>-0.027116</td>\n",
       "      <td>0.062868</td>\n",
       "      <td>0.007375</td>\n",
       "      <td>0.019138</td>\n",
       "      <td>-0.004667</td>\n",
       "      <td>-0.015405</td>\n",
       "      <td>-0.022749</td>\n",
       "      <td>-0.033139</td>\n",
       "      <td>-0.035964</td>\n",
       "      <td>...</td>\n",
       "      <td>0.004324</td>\n",
       "      <td>-0.010976</td>\n",
       "      <td>-0.010781</td>\n",
       "      <td>0.009278</td>\n",
       "      <td>0.012908</td>\n",
       "      <td>0.005385</td>\n",
       "      <td>-0.034379</td>\n",
       "      <td>-0.030115</td>\n",
       "      <td>0.000091</td>\n",
       "      <td>0.002521</td>\n",
       "    </tr>\n",
       "    <tr>\n",
       "      <td>Day_Friday</td>\n",
       "      <td>0.006170</td>\n",
       "      <td>-0.004490</td>\n",
       "      <td>0.001162</td>\n",
       "      <td>-0.001670</td>\n",
       "      <td>-0.003376</td>\n",
       "      <td>0.002689</td>\n",
       "      <td>0.002094</td>\n",
       "      <td>-0.009972</td>\n",
       "      <td>-0.008425</td>\n",
       "      <td>0.007419</td>\n",
       "      <td>...</td>\n",
       "      <td>-0.180019</td>\n",
       "      <td>-0.154693</td>\n",
       "      <td>-0.144847</td>\n",
       "      <td>-0.193356</td>\n",
       "      <td>-0.187446</td>\n",
       "      <td>-0.187791</td>\n",
       "      <td>-0.005489</td>\n",
       "      <td>-0.000036</td>\n",
       "      <td>-0.008049</td>\n",
       "      <td>-0.000797</td>\n",
       "    </tr>\n",
       "    <tr>\n",
       "      <td>Day_Monday</td>\n",
       "      <td>0.010611</td>\n",
       "      <td>-0.013045</td>\n",
       "      <td>-0.002274</td>\n",
       "      <td>-0.004201</td>\n",
       "      <td>-0.004585</td>\n",
       "      <td>0.006021</td>\n",
       "      <td>0.003501</td>\n",
       "      <td>-0.005460</td>\n",
       "      <td>-0.008074</td>\n",
       "      <td>-0.020637</td>\n",
       "      <td>...</td>\n",
       "      <td>1.000000</td>\n",
       "      <td>-0.148155</td>\n",
       "      <td>-0.138725</td>\n",
       "      <td>-0.185184</td>\n",
       "      <td>-0.179523</td>\n",
       "      <td>-0.179854</td>\n",
       "      <td>0.004539</td>\n",
       "      <td>-0.014690</td>\n",
       "      <td>-0.000877</td>\n",
       "      <td>-0.010434</td>\n",
       "    </tr>\n",
       "    <tr>\n",
       "      <td>Day_Saturday</td>\n",
       "      <td>-0.029604</td>\n",
       "      <td>0.015613</td>\n",
       "      <td>-0.004080</td>\n",
       "      <td>-0.007830</td>\n",
       "      <td>0.009142</td>\n",
       "      <td>0.005678</td>\n",
       "      <td>-0.000309</td>\n",
       "      <td>0.002509</td>\n",
       "      <td>0.017137</td>\n",
       "      <td>0.010302</td>\n",
       "      <td>...</td>\n",
       "      <td>-0.148155</td>\n",
       "      <td>1.000000</td>\n",
       "      <td>-0.119209</td>\n",
       "      <td>-0.159131</td>\n",
       "      <td>-0.154267</td>\n",
       "      <td>-0.154551</td>\n",
       "      <td>0.021111</td>\n",
       "      <td>-0.002790</td>\n",
       "      <td>0.010693</td>\n",
       "      <td>-0.016054</td>\n",
       "    </tr>\n",
       "    <tr>\n",
       "      <td>Day_Sunday</td>\n",
       "      <td>-0.049578</td>\n",
       "      <td>0.042096</td>\n",
       "      <td>-0.003524</td>\n",
       "      <td>-0.005333</td>\n",
       "      <td>0.001315</td>\n",
       "      <td>0.006880</td>\n",
       "      <td>0.000905</td>\n",
       "      <td>0.026506</td>\n",
       "      <td>0.026137</td>\n",
       "      <td>0.018267</td>\n",
       "      <td>...</td>\n",
       "      <td>-0.138725</td>\n",
       "      <td>-0.119209</td>\n",
       "      <td>1.000000</td>\n",
       "      <td>-0.149003</td>\n",
       "      <td>-0.144448</td>\n",
       "      <td>-0.144714</td>\n",
       "      <td>0.006928</td>\n",
       "      <td>-0.005580</td>\n",
       "      <td>0.005384</td>\n",
       "      <td>0.007741</td>\n",
       "    </tr>\n",
       "    <tr>\n",
       "      <td>Day_Thursday</td>\n",
       "      <td>0.015163</td>\n",
       "      <td>-0.015156</td>\n",
       "      <td>-0.002267</td>\n",
       "      <td>0.004471</td>\n",
       "      <td>0.000321</td>\n",
       "      <td>-0.007091</td>\n",
       "      <td>-0.000843</td>\n",
       "      <td>-0.002049</td>\n",
       "      <td>-0.005801</td>\n",
       "      <td>0.003729</td>\n",
       "      <td>...</td>\n",
       "      <td>-0.185184</td>\n",
       "      <td>-0.159131</td>\n",
       "      <td>-0.149003</td>\n",
       "      <td>1.000000</td>\n",
       "      <td>-0.192824</td>\n",
       "      <td>-0.193179</td>\n",
       "      <td>0.004579</td>\n",
       "      <td>0.008586</td>\n",
       "      <td>0.015499</td>\n",
       "      <td>0.024265</td>\n",
       "    </tr>\n",
       "    <tr>\n",
       "      <td>Day_Tuesday</td>\n",
       "      <td>0.009791</td>\n",
       "      <td>-0.005897</td>\n",
       "      <td>0.008051</td>\n",
       "      <td>0.012275</td>\n",
       "      <td>-0.004783</td>\n",
       "      <td>-0.009010</td>\n",
       "      <td>-0.004734</td>\n",
       "      <td>-0.000388</td>\n",
       "      <td>-0.007367</td>\n",
       "      <td>-0.014024</td>\n",
       "      <td>...</td>\n",
       "      <td>-0.179523</td>\n",
       "      <td>-0.154267</td>\n",
       "      <td>-0.144448</td>\n",
       "      <td>-0.192824</td>\n",
       "      <td>1.000000</td>\n",
       "      <td>-0.187274</td>\n",
       "      <td>-0.018085</td>\n",
       "      <td>0.003496</td>\n",
       "      <td>-0.001210</td>\n",
       "      <td>0.002012</td>\n",
       "    </tr>\n",
       "    <tr>\n",
       "      <td>Day_Wednesday</td>\n",
       "      <td>0.024823</td>\n",
       "      <td>-0.009730</td>\n",
       "      <td>0.001761</td>\n",
       "      <td>0.000122</td>\n",
       "      <td>0.003262</td>\n",
       "      <td>-0.002902</td>\n",
       "      <td>-0.000384</td>\n",
       "      <td>-0.006262</td>\n",
       "      <td>-0.006865</td>\n",
       "      <td>-0.001173</td>\n",
       "      <td>...</td>\n",
       "      <td>-0.179854</td>\n",
       "      <td>-0.154551</td>\n",
       "      <td>-0.144714</td>\n",
       "      <td>-0.193179</td>\n",
       "      <td>-0.187274</td>\n",
       "      <td>1.000000</td>\n",
       "      <td>-0.009552</td>\n",
       "      <td>0.009071</td>\n",
       "      <td>-0.019410</td>\n",
       "      <td>-0.008277</td>\n",
       "    </tr>\n",
       "    <tr>\n",
       "      <td>Year</td>\n",
       "      <td>-0.011980</td>\n",
       "      <td>-0.015375</td>\n",
       "      <td>-0.049402</td>\n",
       "      <td>-0.008377</td>\n",
       "      <td>-0.003167</td>\n",
       "      <td>-0.005430</td>\n",
       "      <td>0.012928</td>\n",
       "      <td>0.009340</td>\n",
       "      <td>0.018482</td>\n",
       "      <td>0.038061</td>\n",
       "      <td>...</td>\n",
       "      <td>0.004539</td>\n",
       "      <td>0.021111</td>\n",
       "      <td>0.006928</td>\n",
       "      <td>0.004579</td>\n",
       "      <td>-0.018085</td>\n",
       "      <td>-0.009552</td>\n",
       "      <td>1.000000</td>\n",
       "      <td>-0.048151</td>\n",
       "      <td>0.019126</td>\n",
       "      <td>0.008461</td>\n",
       "    </tr>\n",
       "    <tr>\n",
       "      <td>Month</td>\n",
       "      <td>-0.001899</td>\n",
       "      <td>0.016159</td>\n",
       "      <td>0.001179</td>\n",
       "      <td>-0.030390</td>\n",
       "      <td>-0.001273</td>\n",
       "      <td>0.008200</td>\n",
       "      <td>0.026452</td>\n",
       "      <td>0.011782</td>\n",
       "      <td>-0.000305</td>\n",
       "      <td>0.021885</td>\n",
       "      <td>...</td>\n",
       "      <td>-0.014690</td>\n",
       "      <td>-0.002790</td>\n",
       "      <td>-0.005580</td>\n",
       "      <td>0.008586</td>\n",
       "      <td>0.003496</td>\n",
       "      <td>0.009071</td>\n",
       "      <td>-0.048151</td>\n",
       "      <td>1.000000</td>\n",
       "      <td>0.036648</td>\n",
       "      <td>0.002977</td>\n",
       "    </tr>\n",
       "    <tr>\n",
       "      <td>Day</td>\n",
       "      <td>0.011446</td>\n",
       "      <td>-0.001196</td>\n",
       "      <td>-0.001149</td>\n",
       "      <td>-0.010049</td>\n",
       "      <td>-0.010484</td>\n",
       "      <td>0.000749</td>\n",
       "      <td>0.015350</td>\n",
       "      <td>-0.000767</td>\n",
       "      <td>-0.007546</td>\n",
       "      <td>0.013049</td>\n",
       "      <td>...</td>\n",
       "      <td>-0.000877</td>\n",
       "      <td>0.010693</td>\n",
       "      <td>0.005384</td>\n",
       "      <td>0.015499</td>\n",
       "      <td>-0.001210</td>\n",
       "      <td>-0.019410</td>\n",
       "      <td>0.019126</td>\n",
       "      <td>0.036648</td>\n",
       "      <td>1.000000</td>\n",
       "      <td>0.151580</td>\n",
       "    </tr>\n",
       "    <tr>\n",
       "      <td>Hour</td>\n",
       "      <td>-0.000178</td>\n",
       "      <td>-0.005060</td>\n",
       "      <td>0.000911</td>\n",
       "      <td>0.003917</td>\n",
       "      <td>-0.002060</td>\n",
       "      <td>0.002629</td>\n",
       "      <td>-0.004136</td>\n",
       "      <td>0.001514</td>\n",
       "      <td>-0.008458</td>\n",
       "      <td>-0.000141</td>\n",
       "      <td>...</td>\n",
       "      <td>-0.010434</td>\n",
       "      <td>-0.016054</td>\n",
       "      <td>0.007741</td>\n",
       "      <td>0.024265</td>\n",
       "      <td>0.002012</td>\n",
       "      <td>-0.008277</td>\n",
       "      <td>0.008461</td>\n",
       "      <td>0.002977</td>\n",
       "      <td>0.151580</td>\n",
       "      <td>1.000000</td>\n",
       "    </tr>\n",
       "  </tbody>\n",
       "</table>\n",
       "<p>27 rows × 27 columns</p>\n",
       "</div>"
      ],
      "text/plain": [
       "                                   Route   Min Gap   Vehicle  Direction_e  \\\n",
       "Route                           1.000000 -0.086860  0.003536    -0.019117   \n",
       "Min Gap                        -0.086860  1.000000 -0.020061    -0.018443   \n",
       "Vehicle                         0.003536 -0.020061  1.000000     0.015028   \n",
       "Direction_e                    -0.019117 -0.018443  0.015028     1.000000   \n",
       "Direction_n                     0.064304 -0.031929 -0.001610    -0.247167   \n",
       "Direction_s                     0.058385 -0.017381  0.000429    -0.235475   \n",
       "Direction_w                    -0.047580  0.045133 -0.014221    -0.728888   \n",
       "Incident_Diversion             -0.023700  0.175230 -0.002160    -0.018901   \n",
       "Incident_Emergency Services    -0.055631  0.048142  0.001392    -0.012847   \n",
       "Incident_General Delay          0.017453  0.010307 -0.024807    -0.022736   \n",
       "Incident_Held By               -0.051014  0.120897 -0.030666    -0.033710   \n",
       "Incident_Investigation         -0.028893  0.065511  0.016439    -0.004412   \n",
       "Incident_Late Leaving Garage    0.049934 -0.074298 -0.025434     0.013744   \n",
       "Incident_Mechanical             0.040936 -0.131724  0.010159     0.031156   \n",
       "Incident_Overhead - Pantograph  0.002571  0.036531 -0.000058     0.000555   \n",
       "Incident_Utilized Off Route     0.000294 -0.027116  0.062868     0.007375   \n",
       "Day_Friday                      0.006170 -0.004490  0.001162    -0.001670   \n",
       "Day_Monday                      0.010611 -0.013045 -0.002274    -0.004201   \n",
       "Day_Saturday                   -0.029604  0.015613 -0.004080    -0.007830   \n",
       "Day_Sunday                     -0.049578  0.042096 -0.003524    -0.005333   \n",
       "Day_Thursday                    0.015163 -0.015156 -0.002267     0.004471   \n",
       "Day_Tuesday                     0.009791 -0.005897  0.008051     0.012275   \n",
       "Day_Wednesday                   0.024823 -0.009730  0.001761     0.000122   \n",
       "Year                           -0.011980 -0.015375 -0.049402    -0.008377   \n",
       "Month                          -0.001899  0.016159  0.001179    -0.030390   \n",
       "Day                             0.011446 -0.001196 -0.001149    -0.010049   \n",
       "Hour                           -0.000178 -0.005060  0.000911     0.003917   \n",
       "\n",
       "                                Direction_n  Direction_s  Direction_w  \\\n",
       "Route                              0.064304     0.058385    -0.047580   \n",
       "Min Gap                           -0.031929    -0.017381     0.045133   \n",
       "Vehicle                           -0.001610     0.000429    -0.014221   \n",
       "Direction_e                       -0.247167    -0.235475    -0.728888   \n",
       "Direction_n                        1.000000    -0.084908    -0.262825   \n",
       "Direction_s                       -0.084908     1.000000    -0.250392   \n",
       "Direction_w                       -0.262825    -0.250392     1.000000   \n",
       "Incident_Diversion                -0.001596    -0.002825     0.021100   \n",
       "Incident_Emergency Services       -0.012627    -0.005542     0.022643   \n",
       "Incident_General Delay            -0.015004    -0.020404     0.041636   \n",
       "Incident_Held By                  -0.007301    -0.002220     0.038600   \n",
       "Incident_Investigation            -0.006178     0.026648    -0.006354   \n",
       "Incident_Late Leaving Garage       0.020793    -0.061734     0.007648   \n",
       "Incident_Mechanical               -0.000686     0.032453    -0.047696   \n",
       "Incident_Overhead - Pantograph     0.002776    -0.003546    -0.000203   \n",
       "Incident_Utilized Off Route        0.019138    -0.004667    -0.015405   \n",
       "Day_Friday                        -0.003376     0.002689     0.002094   \n",
       "Day_Monday                        -0.004585     0.006021     0.003501   \n",
       "Day_Saturday                       0.009142     0.005678    -0.000309   \n",
       "Day_Sunday                         0.001315     0.006880     0.000905   \n",
       "Day_Thursday                       0.000321    -0.007091    -0.000843   \n",
       "Day_Tuesday                       -0.004783    -0.009010    -0.004734   \n",
       "Day_Wednesday                      0.003262    -0.002902    -0.000384   \n",
       "Year                              -0.003167    -0.005430     0.012928   \n",
       "Month                             -0.001273     0.008200     0.026452   \n",
       "Day                               -0.010484     0.000749     0.015350   \n",
       "Hour                              -0.002060     0.002629    -0.004136   \n",
       "\n",
       "                                Incident_Diversion  \\\n",
       "Route                                    -0.023700   \n",
       "Min Gap                                   0.175230   \n",
       "Vehicle                                  -0.002160   \n",
       "Direction_e                              -0.018901   \n",
       "Direction_n                              -0.001596   \n",
       "Direction_s                              -0.002825   \n",
       "Direction_w                               0.021100   \n",
       "Incident_Diversion                        1.000000   \n",
       "Incident_Emergency Services              -0.020563   \n",
       "Incident_General Delay                   -0.022316   \n",
       "Incident_Held By                         -0.044681   \n",
       "Incident_Investigation                   -0.048016   \n",
       "Incident_Late Leaving Garage             -0.040548   \n",
       "Incident_Mechanical                      -0.123362   \n",
       "Incident_Overhead - Pantograph           -0.001481   \n",
       "Incident_Utilized Off Route              -0.022749   \n",
       "Day_Friday                               -0.009972   \n",
       "Day_Monday                               -0.005460   \n",
       "Day_Saturday                              0.002509   \n",
       "Day_Sunday                                0.026506   \n",
       "Day_Thursday                             -0.002049   \n",
       "Day_Tuesday                              -0.000388   \n",
       "Day_Wednesday                            -0.006262   \n",
       "Year                                      0.009340   \n",
       "Month                                     0.011782   \n",
       "Day                                      -0.000767   \n",
       "Hour                                      0.001514   \n",
       "\n",
       "                                Incident_Emergency Services  \\\n",
       "Route                                             -0.055631   \n",
       "Min Gap                                            0.048142   \n",
       "Vehicle                                            0.001392   \n",
       "Direction_e                                       -0.012847   \n",
       "Direction_n                                       -0.012627   \n",
       "Direction_s                                       -0.005542   \n",
       "Direction_w                                        0.022643   \n",
       "Incident_Diversion                                -0.020563   \n",
       "Incident_Emergency Services                        1.000000   \n",
       "Incident_General Delay                            -0.032508   \n",
       "Incident_Held By                                  -0.065086   \n",
       "Incident_Investigation                            -0.069945   \n",
       "Incident_Late Leaving Garage                      -0.059066   \n",
       "Incident_Mechanical                               -0.179700   \n",
       "Incident_Overhead - Pantograph                    -0.002158   \n",
       "Incident_Utilized Off Route                       -0.033139   \n",
       "Day_Friday                                        -0.008425   \n",
       "Day_Monday                                        -0.008074   \n",
       "Day_Saturday                                       0.017137   \n",
       "Day_Sunday                                         0.026137   \n",
       "Day_Thursday                                      -0.005801   \n",
       "Day_Tuesday                                       -0.007367   \n",
       "Day_Wednesday                                     -0.006865   \n",
       "Year                                               0.018482   \n",
       "Month                                             -0.000305   \n",
       "Day                                               -0.007546   \n",
       "Hour                                              -0.008458   \n",
       "\n",
       "                                Incident_General Delay  ...  Day_Monday  \\\n",
       "Route                                         0.017453  ...    0.010611   \n",
       "Min Gap                                       0.010307  ...   -0.013045   \n",
       "Vehicle                                      -0.024807  ...   -0.002274   \n",
       "Direction_e                                  -0.022736  ...   -0.004201   \n",
       "Direction_n                                  -0.015004  ...   -0.004585   \n",
       "Direction_s                                  -0.020404  ...    0.006021   \n",
       "Direction_w                                   0.041636  ...    0.003501   \n",
       "Incident_Diversion                           -0.022316  ...   -0.005460   \n",
       "Incident_Emergency Services                  -0.032508  ...   -0.008074   \n",
       "Incident_General Delay                        1.000000  ...   -0.020637   \n",
       "Incident_Held By                             -0.070636  ...   -0.013836   \n",
       "Incident_Investigation                       -0.075909  ...   -0.001621   \n",
       "Incident_Late Leaving Garage                 -0.064102  ...    0.016812   \n",
       "Incident_Mechanical                          -0.195023  ...    0.009860   \n",
       "Incident_Overhead - Pantograph               -0.002342  ...   -0.000148   \n",
       "Incident_Utilized Off Route                  -0.035964  ...    0.004324   \n",
       "Day_Friday                                    0.007419  ...   -0.180019   \n",
       "Day_Monday                                   -0.020637  ...    1.000000   \n",
       "Day_Saturday                                  0.010302  ...   -0.148155   \n",
       "Day_Sunday                                    0.018267  ...   -0.138725   \n",
       "Day_Thursday                                  0.003729  ...   -0.185184   \n",
       "Day_Tuesday                                  -0.014024  ...   -0.179523   \n",
       "Day_Wednesday                                -0.001173  ...   -0.179854   \n",
       "Year                                          0.038061  ...    0.004539   \n",
       "Month                                         0.021885  ...   -0.014690   \n",
       "Day                                           0.013049  ...   -0.000877   \n",
       "Hour                                         -0.000141  ...   -0.010434   \n",
       "\n",
       "                                Day_Saturday  Day_Sunday  Day_Thursday  \\\n",
       "Route                              -0.029604   -0.049578      0.015163   \n",
       "Min Gap                             0.015613    0.042096     -0.015156   \n",
       "Vehicle                            -0.004080   -0.003524     -0.002267   \n",
       "Direction_e                        -0.007830   -0.005333      0.004471   \n",
       "Direction_n                         0.009142    0.001315      0.000321   \n",
       "Direction_s                         0.005678    0.006880     -0.007091   \n",
       "Direction_w                        -0.000309    0.000905     -0.000843   \n",
       "Incident_Diversion                  0.002509    0.026506     -0.002049   \n",
       "Incident_Emergency Services         0.017137    0.026137     -0.005801   \n",
       "Incident_General Delay              0.010302    0.018267      0.003729   \n",
       "Incident_Held By                    0.008668    0.020760     -0.007592   \n",
       "Incident_Investigation              0.018940    0.010416     -0.005356   \n",
       "Incident_Late Leaving Garage       -0.064864   -0.058682      0.025853   \n",
       "Incident_Mechanical                 0.014734   -0.002727     -0.009538   \n",
       "Incident_Overhead - Pantograph      0.001179    0.001761      0.004015   \n",
       "Incident_Utilized Off Route        -0.010976   -0.010781      0.009278   \n",
       "Day_Friday                         -0.154693   -0.144847     -0.193356   \n",
       "Day_Monday                         -0.148155   -0.138725     -0.185184   \n",
       "Day_Saturday                        1.000000   -0.119209     -0.159131   \n",
       "Day_Sunday                         -0.119209    1.000000     -0.149003   \n",
       "Day_Thursday                       -0.159131   -0.149003      1.000000   \n",
       "Day_Tuesday                        -0.154267   -0.144448     -0.192824   \n",
       "Day_Wednesday                      -0.154551   -0.144714     -0.193179   \n",
       "Year                                0.021111    0.006928      0.004579   \n",
       "Month                              -0.002790   -0.005580      0.008586   \n",
       "Day                                 0.010693    0.005384      0.015499   \n",
       "Hour                               -0.016054    0.007741      0.024265   \n",
       "\n",
       "                                Day_Tuesday  Day_Wednesday      Year  \\\n",
       "Route                              0.009791       0.024823 -0.011980   \n",
       "Min Gap                           -0.005897      -0.009730 -0.015375   \n",
       "Vehicle                            0.008051       0.001761 -0.049402   \n",
       "Direction_e                        0.012275       0.000122 -0.008377   \n",
       "Direction_n                       -0.004783       0.003262 -0.003167   \n",
       "Direction_s                       -0.009010      -0.002902 -0.005430   \n",
       "Direction_w                       -0.004734      -0.000384  0.012928   \n",
       "Incident_Diversion                -0.000388      -0.006262  0.009340   \n",
       "Incident_Emergency Services       -0.007367      -0.006865  0.018482   \n",
       "Incident_General Delay            -0.014024      -0.001173  0.038061   \n",
       "Incident_Held By                  -0.016455       0.012992 -0.041700   \n",
       "Incident_Investigation            -0.006661      -0.005792 -0.004248   \n",
       "Incident_Late Leaving Garage       0.003978       0.027213 -0.018749   \n",
       "Incident_Mechanical                0.015828      -0.018840  0.031992   \n",
       "Incident_Overhead - Pantograph     0.004389      -0.005400  0.016526   \n",
       "Incident_Utilized Off Route        0.012908       0.005385 -0.034379   \n",
       "Day_Friday                        -0.187446      -0.187791 -0.005489   \n",
       "Day_Monday                        -0.179523      -0.179854  0.004539   \n",
       "Day_Saturday                      -0.154267      -0.154551  0.021111   \n",
       "Day_Sunday                        -0.144448      -0.144714  0.006928   \n",
       "Day_Thursday                      -0.192824      -0.193179  0.004579   \n",
       "Day_Tuesday                        1.000000      -0.187274 -0.018085   \n",
       "Day_Wednesday                     -0.187274       1.000000 -0.009552   \n",
       "Year                              -0.018085      -0.009552  1.000000   \n",
       "Month                              0.003496       0.009071 -0.048151   \n",
       "Day                               -0.001210      -0.019410  0.019126   \n",
       "Hour                               0.002012      -0.008277  0.008461   \n",
       "\n",
       "                                   Month       Day      Hour  \n",
       "Route                          -0.001899  0.011446 -0.000178  \n",
       "Min Gap                         0.016159 -0.001196 -0.005060  \n",
       "Vehicle                         0.001179 -0.001149  0.000911  \n",
       "Direction_e                    -0.030390 -0.010049  0.003917  \n",
       "Direction_n                    -0.001273 -0.010484 -0.002060  \n",
       "Direction_s                     0.008200  0.000749  0.002629  \n",
       "Direction_w                     0.026452  0.015350 -0.004136  \n",
       "Incident_Diversion              0.011782 -0.000767  0.001514  \n",
       "Incident_Emergency Services    -0.000305 -0.007546 -0.008458  \n",
       "Incident_General Delay          0.021885  0.013049 -0.000141  \n",
       "Incident_Held By                0.019259 -0.009008  0.001846  \n",
       "Incident_Investigation          0.025530  0.010606 -0.007366  \n",
       "Incident_Late Leaving Garage   -0.050263  0.009444 -0.000664  \n",
       "Incident_Mechanical             0.000394 -0.009576  0.005685  \n",
       "Incident_Overhead - Pantograph  0.017289  0.012407  0.009360  \n",
       "Incident_Utilized Off Route    -0.030115  0.000091  0.002521  \n",
       "Day_Friday                     -0.000036 -0.008049 -0.000797  \n",
       "Day_Monday                     -0.014690 -0.000877 -0.010434  \n",
       "Day_Saturday                   -0.002790  0.010693 -0.016054  \n",
       "Day_Sunday                     -0.005580  0.005384  0.007741  \n",
       "Day_Thursday                    0.008586  0.015499  0.024265  \n",
       "Day_Tuesday                     0.003496 -0.001210  0.002012  \n",
       "Day_Wednesday                   0.009071 -0.019410 -0.008277  \n",
       "Year                           -0.048151  0.019126  0.008461  \n",
       "Month                           1.000000  0.036648  0.002977  \n",
       "Day                             0.036648  1.000000  0.151580  \n",
       "Hour                            0.002977  0.151580  1.000000  \n",
       "\n",
       "[27 rows x 27 columns]"
      ]
     },
     "execution_count": 9,
     "metadata": {},
     "output_type": "execute_result"
    }
   ],
   "source": [
    "X.corr()"
   ]
  },
  {
   "cell_type": "code",
   "execution_count": 10,
   "metadata": {},
   "outputs": [],
   "source": [
    "number_of_features = X.shape[1]"
   ]
  },
  {
   "cell_type": "code",
   "execution_count": 11,
   "metadata": {},
   "outputs": [
    {
     "data": {
      "image/png": "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\n",
      "text/plain": [
       "<Figure size 720x720 with 2 Axes>"
      ]
     },
     "metadata": {
      "needs_background": "light"
     },
     "output_type": "display_data"
    }
   ],
   "source": [
    "plt.figure(figsize = (10, 10))\n",
    "plt.xticks(range(0, number_of_features), feature_names, rotation='vertical')\n",
    "plt.yticks(range(0, number_of_features), feature_names)\n",
    "plt.imshow(X.corr(), cmap='ocean')\n",
    "plt.colorbar()\n",
    "plt.show()"
   ]
  },
  {
   "cell_type": "code",
   "execution_count": null,
   "metadata": {},
   "outputs": [],
   "source": []
  },
  {
   "cell_type": "code",
   "execution_count": 12,
   "metadata": {},
   "outputs": [],
   "source": [
    "X_train, X_test, y_train, y_test = model_selection.train_test_split(X, y, test_size = 0.33, random_state = 7, stratify = y)"
   ]
  },
  {
   "cell_type": "code",
   "execution_count": 13,
   "metadata": {},
   "outputs": [
    {
     "data": {
      "text/html": [
       "<div>\n",
       "<style scoped>\n",
       "    .dataframe tbody tr th:only-of-type {\n",
       "        vertical-align: middle;\n",
       "    }\n",
       "\n",
       "    .dataframe tbody tr th {\n",
       "        vertical-align: top;\n",
       "    }\n",
       "\n",
       "    .dataframe thead th {\n",
       "        text-align: right;\n",
       "    }\n",
       "</style>\n",
       "<table border=\"1\" class=\"dataframe\">\n",
       "  <thead>\n",
       "    <tr style=\"text-align: right;\">\n",
       "      <th></th>\n",
       "      <th>Route</th>\n",
       "      <th>Min Gap</th>\n",
       "      <th>Vehicle</th>\n",
       "      <th>Direction_e</th>\n",
       "      <th>Direction_n</th>\n",
       "      <th>Direction_s</th>\n",
       "      <th>Direction_w</th>\n",
       "      <th>Incident_Diversion</th>\n",
       "      <th>Incident_Emergency Services</th>\n",
       "      <th>Incident_General Delay</th>\n",
       "      <th>...</th>\n",
       "      <th>Day_Monday</th>\n",
       "      <th>Day_Saturday</th>\n",
       "      <th>Day_Sunday</th>\n",
       "      <th>Day_Thursday</th>\n",
       "      <th>Day_Tuesday</th>\n",
       "      <th>Day_Wednesday</th>\n",
       "      <th>Year</th>\n",
       "      <th>Month</th>\n",
       "      <th>Day</th>\n",
       "      <th>Hour</th>\n",
       "    </tr>\n",
       "  </thead>\n",
       "  <tbody>\n",
       "    <tr>\n",
       "      <td>40978</td>\n",
       "      <td>506</td>\n",
       "      <td>12</td>\n",
       "      <td>4169</td>\n",
       "      <td>1</td>\n",
       "      <td>0</td>\n",
       "      <td>0</td>\n",
       "      <td>0</td>\n",
       "      <td>0</td>\n",
       "      <td>0</td>\n",
       "      <td>0</td>\n",
       "      <td>...</td>\n",
       "      <td>0</td>\n",
       "      <td>0</td>\n",
       "      <td>0</td>\n",
       "      <td>1</td>\n",
       "      <td>0</td>\n",
       "      <td>0</td>\n",
       "      <td>2017</td>\n",
       "      <td>7</td>\n",
       "      <td>27</td>\n",
       "      <td>17</td>\n",
       "    </tr>\n",
       "    <tr>\n",
       "      <td>29934</td>\n",
       "      <td>501</td>\n",
       "      <td>10</td>\n",
       "      <td>4221</td>\n",
       "      <td>0</td>\n",
       "      <td>0</td>\n",
       "      <td>0</td>\n",
       "      <td>1</td>\n",
       "      <td>0</td>\n",
       "      <td>0</td>\n",
       "      <td>0</td>\n",
       "      <td>...</td>\n",
       "      <td>0</td>\n",
       "      <td>0</td>\n",
       "      <td>0</td>\n",
       "      <td>0</td>\n",
       "      <td>0</td>\n",
       "      <td>1</td>\n",
       "      <td>2016</td>\n",
       "      <td>9</td>\n",
       "      <td>21</td>\n",
       "      <td>22</td>\n",
       "    </tr>\n",
       "    <tr>\n",
       "      <td>12501</td>\n",
       "      <td>504</td>\n",
       "      <td>8</td>\n",
       "      <td>4038</td>\n",
       "      <td>1</td>\n",
       "      <td>0</td>\n",
       "      <td>0</td>\n",
       "      <td>0</td>\n",
       "      <td>0</td>\n",
       "      <td>0</td>\n",
       "      <td>0</td>\n",
       "      <td>...</td>\n",
       "      <td>0</td>\n",
       "      <td>0</td>\n",
       "      <td>0</td>\n",
       "      <td>0</td>\n",
       "      <td>1</td>\n",
       "      <td>0</td>\n",
       "      <td>2015</td>\n",
       "      <td>2</td>\n",
       "      <td>24</td>\n",
       "      <td>6</td>\n",
       "    </tr>\n",
       "    <tr>\n",
       "      <td>7718</td>\n",
       "      <td>504</td>\n",
       "      <td>8</td>\n",
       "      <td>4153</td>\n",
       "      <td>1</td>\n",
       "      <td>0</td>\n",
       "      <td>0</td>\n",
       "      <td>0</td>\n",
       "      <td>0</td>\n",
       "      <td>0</td>\n",
       "      <td>0</td>\n",
       "      <td>...</td>\n",
       "      <td>0</td>\n",
       "      <td>0</td>\n",
       "      <td>0</td>\n",
       "      <td>1</td>\n",
       "      <td>0</td>\n",
       "      <td>0</td>\n",
       "      <td>2014</td>\n",
       "      <td>10</td>\n",
       "      <td>2</td>\n",
       "      <td>10</td>\n",
       "    </tr>\n",
       "    <tr>\n",
       "      <td>41369</td>\n",
       "      <td>506</td>\n",
       "      <td>1</td>\n",
       "      <td>4035</td>\n",
       "      <td>0</td>\n",
       "      <td>0</td>\n",
       "      <td>0</td>\n",
       "      <td>1</td>\n",
       "      <td>0</td>\n",
       "      <td>0</td>\n",
       "      <td>0</td>\n",
       "      <td>...</td>\n",
       "      <td>0</td>\n",
       "      <td>0</td>\n",
       "      <td>0</td>\n",
       "      <td>1</td>\n",
       "      <td>0</td>\n",
       "      <td>0</td>\n",
       "      <td>2017</td>\n",
       "      <td>8</td>\n",
       "      <td>10</td>\n",
       "      <td>11</td>\n",
       "    </tr>\n",
       "    <tr>\n",
       "      <td>...</td>\n",
       "      <td>...</td>\n",
       "      <td>...</td>\n",
       "      <td>...</td>\n",
       "      <td>...</td>\n",
       "      <td>...</td>\n",
       "      <td>...</td>\n",
       "      <td>...</td>\n",
       "      <td>...</td>\n",
       "      <td>...</td>\n",
       "      <td>...</td>\n",
       "      <td>...</td>\n",
       "      <td>...</td>\n",
       "      <td>...</td>\n",
       "      <td>...</td>\n",
       "      <td>...</td>\n",
       "      <td>...</td>\n",
       "      <td>...</td>\n",
       "      <td>...</td>\n",
       "      <td>...</td>\n",
       "      <td>...</td>\n",
       "      <td>...</td>\n",
       "    </tr>\n",
       "    <tr>\n",
       "      <td>27651</td>\n",
       "      <td>501</td>\n",
       "      <td>29</td>\n",
       "      <td>4205</td>\n",
       "      <td>1</td>\n",
       "      <td>0</td>\n",
       "      <td>0</td>\n",
       "      <td>0</td>\n",
       "      <td>0</td>\n",
       "      <td>0</td>\n",
       "      <td>0</td>\n",
       "      <td>...</td>\n",
       "      <td>0</td>\n",
       "      <td>0</td>\n",
       "      <td>0</td>\n",
       "      <td>0</td>\n",
       "      <td>1</td>\n",
       "      <td>0</td>\n",
       "      <td>2016</td>\n",
       "      <td>7</td>\n",
       "      <td>5</td>\n",
       "      <td>8</td>\n",
       "    </tr>\n",
       "    <tr>\n",
       "      <td>43907</td>\n",
       "      <td>501</td>\n",
       "      <td>10</td>\n",
       "      <td>4232</td>\n",
       "      <td>0</td>\n",
       "      <td>0</td>\n",
       "      <td>0</td>\n",
       "      <td>1</td>\n",
       "      <td>0</td>\n",
       "      <td>0</td>\n",
       "      <td>0</td>\n",
       "      <td>...</td>\n",
       "      <td>0</td>\n",
       "      <td>0</td>\n",
       "      <td>0</td>\n",
       "      <td>0</td>\n",
       "      <td>0</td>\n",
       "      <td>1</td>\n",
       "      <td>2017</td>\n",
       "      <td>12</td>\n",
       "      <td>6</td>\n",
       "      <td>14</td>\n",
       "    </tr>\n",
       "    <tr>\n",
       "      <td>26054</td>\n",
       "      <td>512</td>\n",
       "      <td>74</td>\n",
       "      <td>4183</td>\n",
       "      <td>0</td>\n",
       "      <td>0</td>\n",
       "      <td>0</td>\n",
       "      <td>1</td>\n",
       "      <td>0</td>\n",
       "      <td>0</td>\n",
       "      <td>0</td>\n",
       "      <td>...</td>\n",
       "      <td>0</td>\n",
       "      <td>1</td>\n",
       "      <td>0</td>\n",
       "      <td>0</td>\n",
       "      <td>0</td>\n",
       "      <td>0</td>\n",
       "      <td>2016</td>\n",
       "      <td>5</td>\n",
       "      <td>14</td>\n",
       "      <td>8</td>\n",
       "    </tr>\n",
       "    <tr>\n",
       "      <td>31049</td>\n",
       "      <td>503</td>\n",
       "      <td>24</td>\n",
       "      <td>0</td>\n",
       "      <td>0</td>\n",
       "      <td>0</td>\n",
       "      <td>0</td>\n",
       "      <td>1</td>\n",
       "      <td>0</td>\n",
       "      <td>0</td>\n",
       "      <td>0</td>\n",
       "      <td>...</td>\n",
       "      <td>0</td>\n",
       "      <td>0</td>\n",
       "      <td>0</td>\n",
       "      <td>0</td>\n",
       "      <td>0</td>\n",
       "      <td>1</td>\n",
       "      <td>2016</td>\n",
       "      <td>10</td>\n",
       "      <td>26</td>\n",
       "      <td>8</td>\n",
       "    </tr>\n",
       "    <tr>\n",
       "      <td>42517</td>\n",
       "      <td>509</td>\n",
       "      <td>12</td>\n",
       "      <td>4406</td>\n",
       "      <td>1</td>\n",
       "      <td>0</td>\n",
       "      <td>0</td>\n",
       "      <td>0</td>\n",
       "      <td>0</td>\n",
       "      <td>0</td>\n",
       "      <td>1</td>\n",
       "      <td>...</td>\n",
       "      <td>0</td>\n",
       "      <td>0</td>\n",
       "      <td>1</td>\n",
       "      <td>0</td>\n",
       "      <td>0</td>\n",
       "      <td>0</td>\n",
       "      <td>2017</td>\n",
       "      <td>10</td>\n",
       "      <td>22</td>\n",
       "      <td>1</td>\n",
       "    </tr>\n",
       "  </tbody>\n",
       "</table>\n",
       "<p>30179 rows × 27 columns</p>\n",
       "</div>"
      ],
      "text/plain": [
       "       Route  Min Gap  Vehicle  Direction_e  Direction_n  Direction_s  \\\n",
       "40978    506       12     4169            1            0            0   \n",
       "29934    501       10     4221            0            0            0   \n",
       "12501    504        8     4038            1            0            0   \n",
       "7718     504        8     4153            1            0            0   \n",
       "41369    506        1     4035            0            0            0   \n",
       "...      ...      ...      ...          ...          ...          ...   \n",
       "27651    501       29     4205            1            0            0   \n",
       "43907    501       10     4232            0            0            0   \n",
       "26054    512       74     4183            0            0            0   \n",
       "31049    503       24        0            0            0            0   \n",
       "42517    509       12     4406            1            0            0   \n",
       "\n",
       "       Direction_w  Incident_Diversion  Incident_Emergency Services  \\\n",
       "40978            0                   0                            0   \n",
       "29934            1                   0                            0   \n",
       "12501            0                   0                            0   \n",
       "7718             0                   0                            0   \n",
       "41369            1                   0                            0   \n",
       "...            ...                 ...                          ...   \n",
       "27651            0                   0                            0   \n",
       "43907            1                   0                            0   \n",
       "26054            1                   0                            0   \n",
       "31049            1                   0                            0   \n",
       "42517            0                   0                            0   \n",
       "\n",
       "       Incident_General Delay  ...  Day_Monday  Day_Saturday  Day_Sunday  \\\n",
       "40978                       0  ...           0             0           0   \n",
       "29934                       0  ...           0             0           0   \n",
       "12501                       0  ...           0             0           0   \n",
       "7718                        0  ...           0             0           0   \n",
       "41369                       0  ...           0             0           0   \n",
       "...                       ...  ...         ...           ...         ...   \n",
       "27651                       0  ...           0             0           0   \n",
       "43907                       0  ...           0             0           0   \n",
       "26054                       0  ...           0             1           0   \n",
       "31049                       0  ...           0             0           0   \n",
       "42517                       1  ...           0             0           1   \n",
       "\n",
       "       Day_Thursday  Day_Tuesday  Day_Wednesday  Year  Month  Day  Hour  \n",
       "40978             1            0              0  2017      7   27    17  \n",
       "29934             0            0              1  2016      9   21    22  \n",
       "12501             0            1              0  2015      2   24     6  \n",
       "7718              1            0              0  2014     10    2    10  \n",
       "41369             1            0              0  2017      8   10    11  \n",
       "...             ...          ...            ...   ...    ...  ...   ...  \n",
       "27651             0            1              0  2016      7    5     8  \n",
       "43907             0            0              1  2017     12    6    14  \n",
       "26054             0            0              0  2016      5   14     8  \n",
       "31049             0            0              1  2016     10   26     8  \n",
       "42517             0            0              0  2017     10   22     1  \n",
       "\n",
       "[30179 rows x 27 columns]"
      ]
     },
     "execution_count": 13,
     "metadata": {},
     "output_type": "execute_result"
    }
   ],
   "source": [
    "X_train"
   ]
  },
  {
   "cell_type": "code",
   "execution_count": 14,
   "metadata": {},
   "outputs": [
    {
     "data": {
      "text/plain": [
       "(30179, 27)"
      ]
     },
     "execution_count": 14,
     "metadata": {},
     "output_type": "execute_result"
    }
   ],
   "source": [
    "X_train.shape"
   ]
  },
  {
   "cell_type": "code",
   "execution_count": 15,
   "metadata": {},
   "outputs": [
    {
     "data": {
      "text/plain": [
       "(14865, 27)"
      ]
     },
     "execution_count": 15,
     "metadata": {},
     "output_type": "execute_result"
    }
   ],
   "source": [
    "X_test.shape"
   ]
  },
  {
   "cell_type": "code",
   "execution_count": 16,
   "metadata": {},
   "outputs": [
    {
     "data": {
      "text/plain": [
       "(30179,)"
      ]
     },
     "execution_count": 16,
     "metadata": {},
     "output_type": "execute_result"
    }
   ],
   "source": [
    " y_train.shape\n",
    "    "
   ]
  },
  {
   "cell_type": "code",
   "execution_count": 17,
   "metadata": {},
   "outputs": [
    {
     "data": {
      "text/plain": [
       "(14865,)"
      ]
     },
     "execution_count": 17,
     "metadata": {},
     "output_type": "execute_result"
    }
   ],
   "source": [
    "y_test.shape"
   ]
  },
  {
   "cell_type": "code",
   "execution_count": 18,
   "metadata": {},
   "outputs": [],
   "source": [
    "scaler = preprocessing.StandardScaler()\n",
    "scaler.fit(X_train)\n",
    "X_train = scaler.transform(X_train)\n",
    "X_test = scaler.transform(X_test)"
   ]
  },
  {
   "cell_type": "code",
   "execution_count": 19,
   "metadata": {},
   "outputs": [
    {
     "name": "stdout",
     "output_type": "stream",
     "text": [
      "Train Delay:  29731      Train Without Delay:  448\n"
     ]
    }
   ],
   "source": [
    "wd_train = np.sum(y_train == 0)\n",
    "d_train = np.sum(y_train == 1)\n",
    "print('Train Delay: ', d_train, '     Train Without Delay: ', wd_train)"
   ]
  },
  {
   "cell_type": "code",
   "execution_count": 20,
   "metadata": {},
   "outputs": [
    {
     "data": {
      "text/plain": [
       "1    29731\n",
       "0      448\n",
       "Name: Delay, dtype: int64"
      ]
     },
     "execution_count": 20,
     "metadata": {},
     "output_type": "execute_result"
    }
   ],
   "source": [
    "y_train.value_counts()"
   ]
  },
  {
   "cell_type": "code",
   "execution_count": 21,
   "metadata": {},
   "outputs": [
    {
     "name": "stdout",
     "output_type": "stream",
     "text": [
      "Test Delay:  14645      Test Without Delay:  220\n"
     ]
    }
   ],
   "source": [
    "wd_test = np.sum(y_test == 0)\n",
    "d_test = np.sum(y_test == 1)\n",
    "print('Test Delay: ', d_test, '     Test Without Delay: ', wd_test)"
   ]
  },
  {
   "cell_type": "code",
   "execution_count": 22,
   "metadata": {},
   "outputs": [
    {
     "data": {
      "image/png": "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\n",
      "text/plain": [
       "<Figure size 504x504 with 1 Axes>"
      ]
     },
     "metadata": {
      "needs_background": "light"
     },
     "output_type": "display_data"
    }
   ],
   "source": [
    "plt.figure(figsize = (7, 7))\n",
    "matplotlib.rc('xtick', labelsize = 12) \n",
    "matplotlib.rc('ytick', labelsize = 12) \n",
    "plt.title(\"Visual inspection of stratification\")\n",
    "plt.xticks([0,1])\n",
    "plt.xlabel('No delay                                                        delay ', fontsize = 15 )\n",
    "plt.hist([y_train, y_test], color=['red', 'blue'], label=['training set ',' testing set'])\n",
    "plt.legend(loc='best')\n",
    "plt.show()"
   ]
  },
  {
   "cell_type": "markdown",
   "metadata": {},
   "source": [
    "## Model learning"
   ]
  },
  {
   "cell_type": "markdown",
   "metadata": {},
   "source": [
    "### It is always good to be able to fine-tune hyperparameters so that the algorithm works best for the type of data I  have. GridSearchCV is a function that is in sklearn’s model_selection package. It allows you to specify the different values for each hyperparameter and try out all the possible combinations when fitting model. It does the training and testing using cross validation of dataset — hence the acronym “CV” in GridSearchCV. The end result of GridSearchCV is a set of hyperparameters that best fit data according to the scoring metric that model to optimize on."
   ]
  },
  {
   "cell_type": "code",
   "execution_count": 23,
   "metadata": {},
   "outputs": [],
   "source": [
    "# penalty — Specify the norm of the penalty. l1 is lasso and l2 is ridge\n",
    "# C — Inverse of regularization strength; smaller values specify stronger regularization.\n",
    "# solver — Algorithm to use in the optimization problem.\n",
    "# max_iter — Maximum number of iterations taken for the solvers to converge."
   ]
  },
  {
   "cell_type": "code",
   "execution_count": 24,
   "metadata": {},
   "outputs": [],
   "source": [
    "warnings.filterwarnings('ignore')"
   ]
  },
  {
   "cell_type": "code",
   "execution_count": 25,
   "metadata": {},
   "outputs": [],
   "source": [
    "# parameter grid\n",
    "parameters = {\n",
    "     'C'       : np.logspace(-3,3,7),\n",
    "     'solver'  : ['newton-cg', 'lbfgs', 'liblinear']\n",
    "}"
   ]
  },
  {
   "cell_type": "code",
   "execution_count": 26,
   "metadata": {},
   "outputs": [],
   "source": [
    "logistic_regression = linear_model.LogisticRegression()\n",
    "model = GridSearchCV( logistic_regression,       # model\n",
    "                      param_grid = parameters,   # hyperparameters\n",
    "                      scoring = 'accuracy',        # metric for scoring\n",
    "                      cv = 10                      # number of folds\n",
    "                    )                    "
   ]
  },
  {
   "cell_type": "code",
   "execution_count": 27,
   "metadata": {},
   "outputs": [
    {
     "data": {
      "text/plain": [
       "GridSearchCV(cv=10, error_score='raise-deprecating',\n",
       "             estimator=LogisticRegression(C=1.0, class_weight=None, dual=False,\n",
       "                                          fit_intercept=True,\n",
       "                                          intercept_scaling=1, l1_ratio=None,\n",
       "                                          max_iter=100, multi_class='warn',\n",
       "                                          n_jobs=None, penalty='l2',\n",
       "                                          random_state=None, solver='warn',\n",
       "                                          tol=0.0001, verbose=0,\n",
       "                                          warm_start=False),\n",
       "             iid='warn', n_jobs=None,\n",
       "             param_grid={'C': array([1.e-03, 1.e-02, 1.e-01, 1.e+00, 1.e+01, 1.e+02, 1.e+03]),\n",
       "                         'solver': ['newton-cg', 'lbfgs', 'liblinear']},\n",
       "             pre_dispatch='2*n_jobs', refit=True, return_train_score=False,\n",
       "             scoring='accuracy', verbose=0)"
      ]
     },
     "execution_count": 27,
     "metadata": {},
     "output_type": "execute_result"
    }
   ],
   "source": [
    "model.fit(X_train, y_train)"
   ]
  },
  {
   "cell_type": "code",
   "execution_count": 28,
   "metadata": {},
   "outputs": [
    {
     "name": "stdout",
     "output_type": "stream",
     "text": [
      "Best parameters)  {'C': 10.0, 'solver': 'newton-cg'}\n",
      "Accuracy : 0.9868782928526458\n"
     ]
    }
   ],
   "source": [
    "print(\"Best parameters) \",model.best_params_)\n",
    "print(\"Accuracy :\", model.best_score_)"
   ]
  },
  {
   "cell_type": "markdown",
   "metadata": {},
   "source": [
    "### I will now use values of the hyperparameters returned by the GridSearchCV() function to build Logistic Regesion model using the training dataset"
   ]
  },
  {
   "cell_type": "code",
   "execution_count": 29,
   "metadata": {},
   "outputs": [
    {
     "data": {
      "text/plain": [
       "LogisticRegression(C=10.0, class_weight=None, dual=False, fit_intercept=True,\n",
       "                   intercept_scaling=1, l1_ratio=None, max_iter=100,\n",
       "                   multi_class='warn', n_jobs=None, penalty='l2',\n",
       "                   random_state=None, solver='newton-cg', tol=0.0001, verbose=0,\n",
       "                   warm_start=False)"
      ]
     },
     "execution_count": 29,
     "metadata": {},
     "output_type": "execute_result"
    }
   ],
   "source": [
    "model = linear_model.LogisticRegression( C = 10.0, \n",
    "                                         penalty = 'l2', \n",
    "                                         solver = 'newton-cg'\n",
    "                                       )\n",
    "model.fit(X_train, y_train)\n",
    "# Solvers lbfgs and newton-cg supports only 'l2' or 'none' penalties."
   ]
  },
  {
   "cell_type": "code",
   "execution_count": 30,
   "metadata": {},
   "outputs": [
    {
     "data": {
      "text/plain": [
       "array([9.50781349])"
      ]
     },
     "execution_count": 30,
     "metadata": {},
     "output_type": "execute_result"
    }
   ],
   "source": [
    "model.intercept_"
   ]
  },
  {
   "cell_type": "code",
   "execution_count": 31,
   "metadata": {},
   "outputs": [
    {
     "data": {
      "text/plain": [
       "array([[ 3.22168854e-02,  1.46431120e+01,  6.13282980e-02,\n",
       "        -1.35491285e-02,  6.73940131e-02, -1.79489898e-02,\n",
       "        -1.46199383e-02, -3.88030097e-02, -1.22266312e-02,\n",
       "        -2.60893057e-01,  1.76617455e-01, -1.80137254e-01,\n",
       "         2.45123263e-01,  2.06812302e-02,  5.38691767e-02,\n",
       "        -1.49883902e-01, -5.08544123e-02,  4.71087617e-02,\n",
       "        -3.22697062e-02, -2.31146162e-02, -4.78931402e-02,\n",
       "         5.63993586e-02,  4.44474849e-02, -1.05426787e-01,\n",
       "         3.77565361e-02, -5.83130032e-02, -3.39119059e-02]])"
      ]
     },
     "execution_count": 31,
     "metadata": {},
     "output_type": "execute_result"
    }
   ],
   "source": [
    "model.coef_"
   ]
  },
  {
   "cell_type": "markdown",
   "metadata": {},
   "source": [
    "## Evaluation"
   ]
  },
  {
   "cell_type": "code",
   "execution_count": 32,
   "metadata": {},
   "outputs": [],
   "source": [
    "y_test_predicted = model.predict(X_test)"
   ]
  },
  {
   "cell_type": "code",
   "execution_count": 33,
   "metadata": {},
   "outputs": [],
   "source": [
    "model_score = model.score(             X_test, y_test)\n",
    "accuracy    = metrics.accuracy_score(  y_test, y_test_predicted )\n",
    "precision   = metrics.precision_score( y_test, y_test_predicted )\n",
    "recall      = metrics.recall_score(    y_test, y_test_predicted )\n",
    "f1          = metrics.f1_score(        y_test, y_test_predicted )\n",
    "auc         = metrics.roc_auc_score(   y_test, y_test_predicted )"
   ]
  },
  {
   "cell_type": "code",
   "execution_count": 34,
   "metadata": {},
   "outputs": [
    {
     "name": "stdout",
     "output_type": "stream",
     "text": [
      "Model Score :   0.9864783047426842\n",
      "Accuracy :      0.9864783047426842\n",
      "Precision :     0.9871829465731247\n",
      "Recall :        0.999248890406282\n",
      "Precision :     0.9931792731344802\n",
      "AUC :           0.5678062633849591\n"
     ]
    }
   ],
   "source": [
    "print(\"Model Score :  \" , model_score )\n",
    "print(\"Accuracy :     \" , accuracy )\n",
    "print(\"Precision :    \" , precision )\n",
    "print(\"Recall :       \" , recall )\n",
    "print(\"Precision :    \" , f1 )\n",
    "print(\"AUC :          \" , auc )"
   ]
  },
  {
   "cell_type": "code",
   "execution_count": 35,
   "metadata": {},
   "outputs": [],
   "source": [
    "# metrics.plot_roc_curve(logistic_regression, X_test, y_test)"
   ]
  },
  {
   "cell_type": "code",
   "execution_count": 36,
   "metadata": {},
   "outputs": [],
   "source": [
    "y_train_predicted = model.predict(X_train)"
   ]
  },
  {
   "cell_type": "code",
   "execution_count": 37,
   "metadata": {},
   "outputs": [
    {
     "data": {
      "text/plain": [
       "array([1, 1, 1, 1, 1, 1, 1, 1, 1, 1, 1, 1, 1, 1, 1, 1, 1, 1, 1, 1, 1, 1,\n",
       "       1, 1, 1, 1, 1, 1, 1, 1], dtype=int64)"
      ]
     },
     "execution_count": 37,
     "metadata": {},
     "output_type": "execute_result"
    }
   ],
   "source": [
    "y_train_predicted[:30]"
   ]
  },
  {
   "cell_type": "code",
   "execution_count": 38,
   "metadata": {},
   "outputs": [],
   "source": [
    "train_score = metrics.accuracy_score(y_train, y_train_predicted)\n",
    "test_score = metrics.accuracy_score(y_test, y_test_predicted)"
   ]
  },
  {
   "cell_type": "code",
   "execution_count": 39,
   "metadata": {},
   "outputs": [
    {
     "name": "stdout",
     "output_type": "stream",
     "text": [
      "Accuracy at the training set: 0.9870439709731933\n",
      "Accuracy at the test set: 0.9864783047426842\n"
     ]
    }
   ],
   "source": [
    "print(\"Accuracy at the training set: {train}\\nAccuracy at the test set: {test}\".format(train=train_score, test=test_score))"
   ]
  },
  {
   "cell_type": "code",
   "execution_count": 40,
   "metadata": {},
   "outputs": [
    {
     "name": "stdout",
     "output_type": "stream",
     "text": [
      "              precision    recall  f1-score   support\n",
      "\n",
      "           0       0.73      0.14      0.23       220\n",
      "           1       0.99      1.00      0.99     14645\n",
      "\n",
      "    accuracy                           0.99     14865\n",
      "   macro avg       0.86      0.57      0.61     14865\n",
      "weighted avg       0.98      0.99      0.98     14865\n",
      "\n"
     ]
    }
   ],
   "source": [
    "print(metrics.classification_report(y_test, y_test_predicted))"
   ]
  },
  {
   "cell_type": "code",
   "execution_count": 41,
   "metadata": {},
   "outputs": [
    {
     "data": {
      "text/plain": [
       "array([[   30,   190],\n",
       "       [   11, 14634]], dtype=int64)"
      ]
     },
     "execution_count": 41,
     "metadata": {},
     "output_type": "execute_result"
    }
   ],
   "source": [
    "metrics.confusion_matrix(y_test, y_test_predicted)"
   ]
  },
  {
   "cell_type": "code",
   "execution_count": 42,
   "metadata": {},
   "outputs": [
    {
     "data": {
      "image/png": "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\n",
      "text/plain": [
       "<Figure size 720x360 with 1 Axes>"
      ]
     },
     "metadata": {
      "needs_background": "light"
     },
     "output_type": "display_data"
    }
   ],
   "source": [
    "fig = plt.figure(figsize=(10, 5))\n",
    "plt.bar(['accuracy', 'precision', 'recall', 'f1', 'AUC'], [accuracy , precision, recall, f1, auc], color='orangered')\n",
    "plt.title(\"Evaluation Logistic Regression\")\n",
    "plt.yticks(np.arange(0, 1, 0.1)) \n",
    "plt.show()"
   ]
  },
  {
   "cell_type": "markdown",
   "metadata": {},
   "source": [
    "# Neural networks"
   ]
  },
  {
   "cell_type": "code",
   "execution_count": 43,
   "metadata": {},
   "outputs": [],
   "source": [
    "np.random.seed(7)"
   ]
  },
  {
   "cell_type": "markdown",
   "metadata": {},
   "source": [
    "## Creating Neural networks"
   ]
  },
  {
   "cell_type": "markdown",
   "metadata": {},
   "source": [
    "I will create a neural network with advance propagation. <br> The neural network will have an input layer, three hidden layers with, respectively, 100, 40 and 20 neurons, and an output layer. <br> The number of input layer neurons corresponds to the number of attributes of the data set, which is 27. <br> The number of output layer neurons is 1 since it is a binary classification. <br> In hidden layers I will use relu activation function and in the latter sigmoid function. <br> Optimizer Adam will be used. <br> Binary cross entropy as a function of error will be used. <br> Since the task of classification metrics will be accuracy. <br> I will use Dropout regularization for reducing overfitting and improving the generalization. "
   ]
  },
  {
   "cell_type": "code",
   "execution_count": 44,
   "metadata": {},
   "outputs": [],
   "source": [
    "number_of_features = X_train.shape[1]\n",
    "output_size = 1"
   ]
  },
  {
   "cell_type": "code",
   "execution_count": 45,
   "metadata": {},
   "outputs": [
    {
     "data": {
      "text/plain": [
       "27"
      ]
     },
     "execution_count": 45,
     "metadata": {},
     "output_type": "execute_result"
    }
   ],
   "source": [
    "number_of_features"
   ]
  },
  {
   "cell_type": "code",
   "execution_count": 46,
   "metadata": {},
   "outputs": [],
   "source": [
    "model_FNN = Sequential()\n",
    "model_FNN.add(Dense(units = 100, input_dim = number_of_features, activation = 'relu'))\n",
    "model_FNN.add(Dense(units = 40, activation = 'relu'))\n",
    "model_FNN.add(Dense(units = 20, activation = 'relu'))\n",
    "model_FNN.add(Dropout(0.1))\n",
    "model_FNN.add(Dense(units = output_size, activation = 'sigmoid'))"
   ]
  },
  {
   "cell_type": "code",
   "execution_count": 47,
   "metadata": {},
   "outputs": [],
   "source": [
    "model_FNN.compile( optimizers.Adam(learning_rate = 0.0001), loss = losses.BinaryCrossentropy(), metrics = ['accuracy'] )"
   ]
  },
  {
   "cell_type": "code",
   "execution_count": 48,
   "metadata": {},
   "outputs": [
    {
     "name": "stdout",
     "output_type": "stream",
     "text": [
      "Model: \"sequential\"\n",
      "_________________________________________________________________\n",
      "Layer (type)                 Output Shape              Param #   \n",
      "=================================================================\n",
      "dense (Dense)                (None, 100)               2800      \n",
      "_________________________________________________________________\n",
      "dense_1 (Dense)              (None, 40)                4040      \n",
      "_________________________________________________________________\n",
      "dense_2 (Dense)              (None, 20)                820       \n",
      "_________________________________________________________________\n",
      "dropout (Dropout)            (None, 20)                0         \n",
      "_________________________________________________________________\n",
      "dense_3 (Dense)              (None, 1)                 21        \n",
      "=================================================================\n",
      "Total params: 7,681\n",
      "Trainable params: 7,681\n",
      "Non-trainable params: 0\n",
      "_________________________________________________________________\n"
     ]
    }
   ],
   "source": [
    "model_FNN.summary()"
   ]
  },
  {
   "cell_type": "code",
   "execution_count": 49,
   "metadata": {},
   "outputs": [],
   "source": [
    "history = model_FNN.fit(X_train, y_train, epochs = 50, batch_size = 32, verbose = 0, validation_split = 0.2)"
   ]
  },
  {
   "cell_type": "code",
   "execution_count": 50,
   "metadata": {},
   "outputs": [],
   "source": [
    "epochs = history.epoch\n",
    "\n",
    "loss = history.history['loss']\n",
    "validation_loss = history.history['val_loss']\n",
    "\n",
    "acc = history.history['accuracy']\n",
    "validation_acc = history.history['val_accuracy']"
   ]
  },
  {
   "cell_type": "code",
   "execution_count": 53,
   "metadata": {},
   "outputs": [
    {
     "name": "stdout",
     "output_type": "stream",
     "text": [
      "Loss                =  0.0196657907217741\n",
      "Accuracy            =  0.9954023957252502\n",
      "Validation Loss     =  0.0382206104695797\n",
      "Validation Accuracy =  0.9885686039924622\n"
     ]
    }
   ],
   "source": [
    "print(\"Loss                = \" , loss[49] )\n",
    "print(\"Accuracy            = \" ,  acc[49])\n",
    "\n",
    "print(\"Validation Loss     = \" , validation_loss[49] )\n",
    "print(\"Validation Accuracy = \" ,  validation_acc[49])"
   ]
  },
  {
   "cell_type": "code",
   "execution_count": 54,
   "metadata": {},
   "outputs": [
    {
     "data": {
      "text/plain": [
       "<matplotlib.legend.Legend at 0x21e86ee0cc8>"
      ]
     },
     "execution_count": 54,
     "metadata": {},
     "output_type": "execute_result"
    },
    {
     "data": {
      "image/png": "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\n",
      "text/plain": [
       "<Figure size 1080x360 with 2 Axes>"
      ]
     },
     "metadata": {
      "needs_background": "light"
     },
     "output_type": "display_data"
    }
   ],
   "source": [
    "fig = plt.figure(figsize=(15, 5))\n",
    "\n",
    "plt.subplot(1,2,1)\n",
    "plt.title('Loss')\n",
    "plt.xlabel('Epochs')\n",
    "plt.ylabel('Loss')\n",
    "plt.plot(epochs, loss, c='red', label='training')\n",
    "plt.plot(epochs, validation_loss, c='blue', label='validation')\n",
    "plt.legend(loc='best')\n",
    "\n",
    "plt.subplot(1,2,2)\n",
    "plt.title('Accuracy')\n",
    "plt.xlabel('Epochs')\n",
    "plt.ylabel('Acccuracy')\n",
    "plt.plot(epochs, acc, c='red', label='training')\n",
    "plt.plot(epochs, validation_acc, c='blue', label='validation')\n",
    "plt.legend(loc='best')"
   ]
  },
  {
   "cell_type": "markdown",
   "metadata": {},
   "source": [
    "## Neural network evaluation"
   ]
  },
  {
   "cell_type": "code",
   "execution_count": 55,
   "metadata": {},
   "outputs": [],
   "source": [
    "final_model_FNN = Sequential()\n",
    "final_model_FNN.add(Dense(units=100, input_dim=number_of_features, activation='relu'))\n",
    "final_model_FNN.add(Dense(units=40, activation='relu'))\n",
    "final_model_FNN.add(Dense(units=20, activation='relu'))\n",
    "final_model_FNN.add(Dropout(0.1))\n",
    "final_model_FNN.add(Dense(units=output_size, activation='sigmoid'))\n",
    "final_model_FNN.compile(optimizers.Adam(learning_rate = 0.0001), loss=losses.BinaryCrossentropy(), metrics=['accuracy'])"
   ]
  },
  {
   "cell_type": "code",
   "execution_count": 56,
   "metadata": {},
   "outputs": [],
   "source": [
    "history = final_model_FNN.fit(X_train, y_train, epochs=50, batch_size=32, verbose = 0)"
   ]
  },
  {
   "cell_type": "code",
   "execution_count": 58,
   "metadata": {},
   "outputs": [
    {
     "name": "stdout",
     "output_type": "stream",
     "text": [
      "465/465 [==============================] - 2s 4ms/step - loss: 0.0377 - accuracy: 0.9877\n",
      "Test loss: 0.03765985369682312, test accuracy: 0.987689197063446\n"
     ]
    }
   ],
   "source": [
    "test_loss, test_accuracy = final_model_FNN.evaluate(X_test, y_test)\n",
    "print (\"Test loss: {}, test accuracy: {}\".format(test_loss, test_accuracy))"
   ]
  },
  {
   "cell_type": "code",
   "execution_count": 59,
   "metadata": {},
   "outputs": [
    {
     "name": "stdout",
     "output_type": "stream",
     "text": [
      "944/944 [==============================] - 3s 4ms/step - loss: 0.0167 - accuracy: 0.9960\n",
      "Train loss: 0.01672796905040741, train accuracy: 0.9960237145423889\n"
     ]
    }
   ],
   "source": [
    "train_loss, train_accuracy = final_model_FNN.evaluate(X_train, y_train)\n",
    "print (\"Train loss: {}, train accuracy: {}\".format(train_loss, train_accuracy))"
   ]
  },
  {
   "cell_type": "code",
   "execution_count": 60,
   "metadata": {},
   "outputs": [],
   "source": [
    "epochs = history.epoch\n",
    "loss = history.history['loss']\n",
    "acc = history.history['accuracy']"
   ]
  },
  {
   "cell_type": "code",
   "execution_count": 61,
   "metadata": {},
   "outputs": [
    {
     "data": {
      "text/plain": [
       "<matplotlib.legend.Legend at 0x21e83ae1488>"
      ]
     },
     "execution_count": 61,
     "metadata": {},
     "output_type": "execute_result"
    },
    {
     "data": {
      "image/png": "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\n",
      "text/plain": [
       "<Figure size 1080x360 with 2 Axes>"
      ]
     },
     "metadata": {
      "needs_background": "light"
     },
     "output_type": "display_data"
    }
   ],
   "source": [
    "fig = plt.figure(figsize=(15, 5))\n",
    "\n",
    "plt.subplot(1, 2, 1)\n",
    "plt.title('Loss')\n",
    "plt.xlabel('Epochs')\n",
    "plt.ylabel('Loss')\n",
    "plt.plot(epochs, loss, c='red', label='test loss')\n",
    "plt.legend(loc='best')\n",
    "\n",
    "plt.subplot(1, 2, 2)\n",
    "plt.title('Accuracy')\n",
    "plt.xlabel('Epochs')\n",
    "plt.ylabel('Acccuracy')\n",
    "plt.plot(epochs, acc, c='blue', label = 'test accuracy')\n",
    "plt.legend(loc='best')"
   ]
  },
  {
   "cell_type": "code",
   "execution_count": null,
   "metadata": {},
   "outputs": [],
   "source": []
  },
  {
   "cell_type": "markdown",
   "metadata": {},
   "source": [
    "### Oversampling \n",
    "Since the data is not balanced I will do Oversampling"
   ]
  },
  {
   "cell_type": "code",
   "execution_count": 62,
   "metadata": {},
   "outputs": [
    {
     "name": "stdout",
     "output_type": "stream",
     "text": [
      "With Delay:  44376      Without Delay:  668\n"
     ]
    }
   ],
   "source": [
    "wd = np.sum(y == 0)\n",
    "d = np.sum(y == 1)\n",
    "print('With Delay: ', d , '     Without Delay: ', wd)"
   ]
  },
  {
   "cell_type": "code",
   "execution_count": 63,
   "metadata": {},
   "outputs": [
    {
     "data": {
      "text/plain": [
       "1    44376\n",
       "0      668\n",
       "Name: Delay, dtype: int64"
      ]
     },
     "execution_count": 63,
     "metadata": {},
     "output_type": "execute_result"
    }
   ],
   "source": [
    "y.value_counts()"
   ]
  },
  {
   "cell_type": "code",
   "execution_count": 64,
   "metadata": {},
   "outputs": [
    {
     "data": {
      "text/html": [
       "<div>\n",
       "<style scoped>\n",
       "    .dataframe tbody tr th:only-of-type {\n",
       "        vertical-align: middle;\n",
       "    }\n",
       "\n",
       "    .dataframe tbody tr th {\n",
       "        vertical-align: top;\n",
       "    }\n",
       "\n",
       "    .dataframe thead th {\n",
       "        text-align: right;\n",
       "    }\n",
       "</style>\n",
       "<table border=\"1\" class=\"dataframe\">\n",
       "  <thead>\n",
       "    <tr style=\"text-align: right;\">\n",
       "      <th></th>\n",
       "      <th>Route</th>\n",
       "      <th>Min Gap</th>\n",
       "      <th>Vehicle</th>\n",
       "      <th>Direction_e</th>\n",
       "      <th>Direction_n</th>\n",
       "      <th>Direction_s</th>\n",
       "      <th>Direction_w</th>\n",
       "      <th>Incident_Diversion</th>\n",
       "      <th>Incident_Emergency Services</th>\n",
       "      <th>Incident_General Delay</th>\n",
       "      <th>...</th>\n",
       "      <th>Day_Monday</th>\n",
       "      <th>Day_Saturday</th>\n",
       "      <th>Day_Sunday</th>\n",
       "      <th>Day_Thursday</th>\n",
       "      <th>Day_Tuesday</th>\n",
       "      <th>Day_Wednesday</th>\n",
       "      <th>Year</th>\n",
       "      <th>Month</th>\n",
       "      <th>Day</th>\n",
       "      <th>Hour</th>\n",
       "    </tr>\n",
       "  </thead>\n",
       "  <tbody>\n",
       "    <tr>\n",
       "      <td>0</td>\n",
       "      <td>505</td>\n",
       "      <td>8</td>\n",
       "      <td>4018</td>\n",
       "      <td>1</td>\n",
       "      <td>0</td>\n",
       "      <td>0</td>\n",
       "      <td>0</td>\n",
       "      <td>0</td>\n",
       "      <td>0</td>\n",
       "      <td>0</td>\n",
       "      <td>...</td>\n",
       "      <td>0</td>\n",
       "      <td>0</td>\n",
       "      <td>0</td>\n",
       "      <td>1</td>\n",
       "      <td>0</td>\n",
       "      <td>0</td>\n",
       "      <td>2014</td>\n",
       "      <td>1</td>\n",
       "      <td>2</td>\n",
       "      <td>6</td>\n",
       "    </tr>\n",
       "    <tr>\n",
       "      <td>1</td>\n",
       "      <td>504</td>\n",
       "      <td>22</td>\n",
       "      <td>4128</td>\n",
       "      <td>1</td>\n",
       "      <td>0</td>\n",
       "      <td>0</td>\n",
       "      <td>0</td>\n",
       "      <td>0</td>\n",
       "      <td>0</td>\n",
       "      <td>0</td>\n",
       "      <td>...</td>\n",
       "      <td>0</td>\n",
       "      <td>0</td>\n",
       "      <td>0</td>\n",
       "      <td>1</td>\n",
       "      <td>0</td>\n",
       "      <td>0</td>\n",
       "      <td>2014</td>\n",
       "      <td>1</td>\n",
       "      <td>2</td>\n",
       "      <td>12</td>\n",
       "    </tr>\n",
       "    <tr>\n",
       "      <td>2</td>\n",
       "      <td>501</td>\n",
       "      <td>19</td>\n",
       "      <td>4016</td>\n",
       "      <td>0</td>\n",
       "      <td>0</td>\n",
       "      <td>0</td>\n",
       "      <td>1</td>\n",
       "      <td>0</td>\n",
       "      <td>0</td>\n",
       "      <td>0</td>\n",
       "      <td>...</td>\n",
       "      <td>0</td>\n",
       "      <td>0</td>\n",
       "      <td>0</td>\n",
       "      <td>1</td>\n",
       "      <td>0</td>\n",
       "      <td>0</td>\n",
       "      <td>2014</td>\n",
       "      <td>1</td>\n",
       "      <td>2</td>\n",
       "      <td>14</td>\n",
       "    </tr>\n",
       "    <tr>\n",
       "      <td>3</td>\n",
       "      <td>504</td>\n",
       "      <td>11</td>\n",
       "      <td>4175</td>\n",
       "      <td>0</td>\n",
       "      <td>0</td>\n",
       "      <td>0</td>\n",
       "      <td>1</td>\n",
       "      <td>0</td>\n",
       "      <td>0</td>\n",
       "      <td>0</td>\n",
       "      <td>...</td>\n",
       "      <td>0</td>\n",
       "      <td>0</td>\n",
       "      <td>0</td>\n",
       "      <td>1</td>\n",
       "      <td>0</td>\n",
       "      <td>0</td>\n",
       "      <td>2014</td>\n",
       "      <td>1</td>\n",
       "      <td>2</td>\n",
       "      <td>14</td>\n",
       "    </tr>\n",
       "    <tr>\n",
       "      <td>4</td>\n",
       "      <td>504</td>\n",
       "      <td>6</td>\n",
       "      <td>4080</td>\n",
       "      <td>1</td>\n",
       "      <td>0</td>\n",
       "      <td>0</td>\n",
       "      <td>0</td>\n",
       "      <td>0</td>\n",
       "      <td>0</td>\n",
       "      <td>0</td>\n",
       "      <td>...</td>\n",
       "      <td>0</td>\n",
       "      <td>0</td>\n",
       "      <td>0</td>\n",
       "      <td>1</td>\n",
       "      <td>0</td>\n",
       "      <td>0</td>\n",
       "      <td>2014</td>\n",
       "      <td>1</td>\n",
       "      <td>2</td>\n",
       "      <td>16</td>\n",
       "    </tr>\n",
       "    <tr>\n",
       "      <td>...</td>\n",
       "      <td>...</td>\n",
       "      <td>...</td>\n",
       "      <td>...</td>\n",
       "      <td>...</td>\n",
       "      <td>...</td>\n",
       "      <td>...</td>\n",
       "      <td>...</td>\n",
       "      <td>...</td>\n",
       "      <td>...</td>\n",
       "      <td>...</td>\n",
       "      <td>...</td>\n",
       "      <td>...</td>\n",
       "      <td>...</td>\n",
       "      <td>...</td>\n",
       "      <td>...</td>\n",
       "      <td>...</td>\n",
       "      <td>...</td>\n",
       "      <td>...</td>\n",
       "      <td>...</td>\n",
       "      <td>...</td>\n",
       "      <td>...</td>\n",
       "    </tr>\n",
       "    <tr>\n",
       "      <td>45039</td>\n",
       "      <td>505</td>\n",
       "      <td>16</td>\n",
       "      <td>4164</td>\n",
       "      <td>1</td>\n",
       "      <td>0</td>\n",
       "      <td>0</td>\n",
       "      <td>0</td>\n",
       "      <td>0</td>\n",
       "      <td>0</td>\n",
       "      <td>0</td>\n",
       "      <td>...</td>\n",
       "      <td>0</td>\n",
       "      <td>0</td>\n",
       "      <td>1</td>\n",
       "      <td>0</td>\n",
       "      <td>0</td>\n",
       "      <td>0</td>\n",
       "      <td>2017</td>\n",
       "      <td>12</td>\n",
       "      <td>31</td>\n",
       "      <td>9</td>\n",
       "    </tr>\n",
       "    <tr>\n",
       "      <td>45040</td>\n",
       "      <td>501</td>\n",
       "      <td>24</td>\n",
       "      <td>4110</td>\n",
       "      <td>0</td>\n",
       "      <td>0</td>\n",
       "      <td>0</td>\n",
       "      <td>1</td>\n",
       "      <td>0</td>\n",
       "      <td>0</td>\n",
       "      <td>0</td>\n",
       "      <td>...</td>\n",
       "      <td>0</td>\n",
       "      <td>0</td>\n",
       "      <td>1</td>\n",
       "      <td>0</td>\n",
       "      <td>0</td>\n",
       "      <td>0</td>\n",
       "      <td>2017</td>\n",
       "      <td>12</td>\n",
       "      <td>31</td>\n",
       "      <td>11</td>\n",
       "    </tr>\n",
       "    <tr>\n",
       "      <td>45041</td>\n",
       "      <td>501</td>\n",
       "      <td>24</td>\n",
       "      <td>1419</td>\n",
       "      <td>0</td>\n",
       "      <td>0</td>\n",
       "      <td>0</td>\n",
       "      <td>1</td>\n",
       "      <td>0</td>\n",
       "      <td>0</td>\n",
       "      <td>0</td>\n",
       "      <td>...</td>\n",
       "      <td>0</td>\n",
       "      <td>0</td>\n",
       "      <td>1</td>\n",
       "      <td>0</td>\n",
       "      <td>0</td>\n",
       "      <td>0</td>\n",
       "      <td>2017</td>\n",
       "      <td>12</td>\n",
       "      <td>31</td>\n",
       "      <td>11</td>\n",
       "    </tr>\n",
       "    <tr>\n",
       "      <td>45042</td>\n",
       "      <td>510</td>\n",
       "      <td>10</td>\n",
       "      <td>4447</td>\n",
       "      <td>0</td>\n",
       "      <td>0</td>\n",
       "      <td>1</td>\n",
       "      <td>0</td>\n",
       "      <td>0</td>\n",
       "      <td>0</td>\n",
       "      <td>0</td>\n",
       "      <td>...</td>\n",
       "      <td>0</td>\n",
       "      <td>0</td>\n",
       "      <td>1</td>\n",
       "      <td>0</td>\n",
       "      <td>0</td>\n",
       "      <td>0</td>\n",
       "      <td>2017</td>\n",
       "      <td>12</td>\n",
       "      <td>31</td>\n",
       "      <td>11</td>\n",
       "    </tr>\n",
       "    <tr>\n",
       "      <td>45043</td>\n",
       "      <td>505</td>\n",
       "      <td>16</td>\n",
       "      <td>4167</td>\n",
       "      <td>0</td>\n",
       "      <td>1</td>\n",
       "      <td>0</td>\n",
       "      <td>0</td>\n",
       "      <td>0</td>\n",
       "      <td>0</td>\n",
       "      <td>0</td>\n",
       "      <td>...</td>\n",
       "      <td>0</td>\n",
       "      <td>0</td>\n",
       "      <td>1</td>\n",
       "      <td>0</td>\n",
       "      <td>0</td>\n",
       "      <td>0</td>\n",
       "      <td>2017</td>\n",
       "      <td>12</td>\n",
       "      <td>31</td>\n",
       "      <td>11</td>\n",
       "    </tr>\n",
       "  </tbody>\n",
       "</table>\n",
       "<p>45044 rows × 27 columns</p>\n",
       "</div>"
      ],
      "text/plain": [
       "       Route  Min Gap  Vehicle  Direction_e  Direction_n  Direction_s  \\\n",
       "0        505        8     4018            1            0            0   \n",
       "1        504       22     4128            1            0            0   \n",
       "2        501       19     4016            0            0            0   \n",
       "3        504       11     4175            0            0            0   \n",
       "4        504        6     4080            1            0            0   \n",
       "...      ...      ...      ...          ...          ...          ...   \n",
       "45039    505       16     4164            1            0            0   \n",
       "45040    501       24     4110            0            0            0   \n",
       "45041    501       24     1419            0            0            0   \n",
       "45042    510       10     4447            0            0            1   \n",
       "45043    505       16     4167            0            1            0   \n",
       "\n",
       "       Direction_w  Incident_Diversion  Incident_Emergency Services  \\\n",
       "0                0                   0                            0   \n",
       "1                0                   0                            0   \n",
       "2                1                   0                            0   \n",
       "3                1                   0                            0   \n",
       "4                0                   0                            0   \n",
       "...            ...                 ...                          ...   \n",
       "45039            0                   0                            0   \n",
       "45040            1                   0                            0   \n",
       "45041            1                   0                            0   \n",
       "45042            0                   0                            0   \n",
       "45043            0                   0                            0   \n",
       "\n",
       "       Incident_General Delay  ...  Day_Monday  Day_Saturday  Day_Sunday  \\\n",
       "0                           0  ...           0             0           0   \n",
       "1                           0  ...           0             0           0   \n",
       "2                           0  ...           0             0           0   \n",
       "3                           0  ...           0             0           0   \n",
       "4                           0  ...           0             0           0   \n",
       "...                       ...  ...         ...           ...         ...   \n",
       "45039                       0  ...           0             0           1   \n",
       "45040                       0  ...           0             0           1   \n",
       "45041                       0  ...           0             0           1   \n",
       "45042                       0  ...           0             0           1   \n",
       "45043                       0  ...           0             0           1   \n",
       "\n",
       "       Day_Thursday  Day_Tuesday  Day_Wednesday  Year  Month  Day  Hour  \n",
       "0                 1            0              0  2014      1    2     6  \n",
       "1                 1            0              0  2014      1    2    12  \n",
       "2                 1            0              0  2014      1    2    14  \n",
       "3                 1            0              0  2014      1    2    14  \n",
       "4                 1            0              0  2014      1    2    16  \n",
       "...             ...          ...            ...   ...    ...  ...   ...  \n",
       "45039             0            0              0  2017     12   31     9  \n",
       "45040             0            0              0  2017     12   31    11  \n",
       "45041             0            0              0  2017     12   31    11  \n",
       "45042             0            0              0  2017     12   31    11  \n",
       "45043             0            0              0  2017     12   31    11  \n",
       "\n",
       "[45044 rows x 27 columns]"
      ]
     },
     "execution_count": 64,
     "metadata": {},
     "output_type": "execute_result"
    }
   ],
   "source": [
    "X"
   ]
  },
  {
   "cell_type": "code",
   "execution_count": 65,
   "metadata": {},
   "outputs": [],
   "source": [
    "ros = SMOTE()\n",
    "X_resampled, y_resampled = ros.fit_resample(X, y)"
   ]
  },
  {
   "cell_type": "code",
   "execution_count": 66,
   "metadata": {},
   "outputs": [
    {
     "data": {
      "text/plain": [
       "array([44376, 44376], dtype=int64)"
      ]
     },
     "execution_count": 66,
     "metadata": {},
     "output_type": "execute_result"
    }
   ],
   "source": [
    "np.bincount(y_resampled)"
   ]
  },
  {
   "cell_type": "code",
   "execution_count": 67,
   "metadata": {},
   "outputs": [
    {
     "name": "stdout",
     "output_type": "stream",
     "text": [
      "With Delay:  44376      Without Delay:  44376\n"
     ]
    }
   ],
   "source": [
    "wd_resempled = np.sum(y_resampled == 0)\n",
    "d_resempled = np.sum(y_resampled == 1)\n",
    "print('With Delay: ', d_resempled, '     Without Delay: ', wd_resempled)"
   ]
  },
  {
   "cell_type": "code",
   "execution_count": 68,
   "metadata": {},
   "outputs": [
    {
     "data": {
      "text/plain": [
       "<BarContainer object of 2 artists>"
      ]
     },
     "execution_count": 68,
     "metadata": {},
     "output_type": "execute_result"
    },
    {
     "data": {
      "image/png": "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\n",
      "text/plain": [
       "<Figure size 720x360 with 2 Axes>"
      ]
     },
     "metadata": {
      "needs_background": "light"
     },
     "output_type": "display_data"
    }
   ],
   "source": [
    "fig = plt.figure(figsize=(10, 5))\n",
    "\n",
    "plt.subplot(1, 2, 1)\n",
    "plt.title('Original data')\n",
    "plt.bar(['Delay', 'No Delay'], [d, wd], color='blue')\n",
    "\n",
    "plt.subplot(1, 2, 2)\n",
    "plt.title('Resempled data')\n",
    "plt.bar(['Delay', 'No Delay'], [d_resempled, wd_resempled], color='blue')\n"
   ]
  },
  {
   "cell_type": "code",
   "execution_count": null,
   "metadata": {},
   "outputs": [],
   "source": []
  },
  {
   "cell_type": "markdown",
   "metadata": {},
   "source": [
    "# Logistic regression"
   ]
  },
  {
   "cell_type": "code",
   "execution_count": 69,
   "metadata": {},
   "outputs": [],
   "source": [
    "X_train_resampled, X_test_resampled, y_train_resampled, y_test_resampled = model_selection.train_test_split(X_resampled, y_resampled, test_size = 0.33, random_state = 7, stratify = y_resampled)"
   ]
  },
  {
   "cell_type": "code",
   "execution_count": 70,
   "metadata": {},
   "outputs": [
    {
     "data": {
      "text/plain": [
       "(59463, 27)"
      ]
     },
     "execution_count": 70,
     "metadata": {},
     "output_type": "execute_result"
    }
   ],
   "source": [
    "X_train_resampled.shape"
   ]
  },
  {
   "cell_type": "code",
   "execution_count": 71,
   "metadata": {},
   "outputs": [
    {
     "data": {
      "text/plain": [
       "(29289, 27)"
      ]
     },
     "execution_count": 71,
     "metadata": {},
     "output_type": "execute_result"
    }
   ],
   "source": [
    "X_test_resampled.shape"
   ]
  },
  {
   "cell_type": "code",
   "execution_count": 72,
   "metadata": {},
   "outputs": [
    {
     "data": {
      "text/plain": [
       "(59463,)"
      ]
     },
     "execution_count": 72,
     "metadata": {},
     "output_type": "execute_result"
    }
   ],
   "source": [
    "y_train_resampled.shape\n",
    "    "
   ]
  },
  {
   "cell_type": "code",
   "execution_count": 73,
   "metadata": {},
   "outputs": [
    {
     "data": {
      "text/plain": [
       "(29289,)"
      ]
     },
     "execution_count": 73,
     "metadata": {},
     "output_type": "execute_result"
    }
   ],
   "source": [
    "y_test_resampled.shape"
   ]
  },
  {
   "cell_type": "code",
   "execution_count": 74,
   "metadata": {},
   "outputs": [],
   "source": [
    "scaler = preprocessing.StandardScaler()\n",
    "scaler.fit(X_train_resampled)\n",
    "X_train_resampled = scaler.transform(X_train_resampled)\n",
    "X_test_resampled = scaler.transform(X_test_resampled)"
   ]
  },
  {
   "cell_type": "code",
   "execution_count": 75,
   "metadata": {},
   "outputs": [
    {
     "name": "stdout",
     "output_type": "stream",
     "text": [
      "Train Delay:  29731      Train Without Delay:  29732\n"
     ]
    }
   ],
   "source": [
    "wd_train_resampled = np.sum(y_train_resampled == 0)\n",
    "d_train_resampled = np.sum(y_train_resampled == 1)\n",
    "print('Train Delay: ', d_train_resampled, '     Train Without Delay: ', wd_train_resampled)"
   ]
  },
  {
   "cell_type": "code",
   "execution_count": 76,
   "metadata": {},
   "outputs": [
    {
     "name": "stdout",
     "output_type": "stream",
     "text": [
      "Test Delay:  14645      Test Without Delay:  14644\n"
     ]
    }
   ],
   "source": [
    "wd_test_resampled = np.sum(y_test_resampled == 0)\n",
    "d_test_resampled = np.sum(y_test_resampled == 1)\n",
    "print('Test Delay: ', d_test_resampled, '     Test Without Delay: ', wd_test_resampled)"
   ]
  },
  {
   "cell_type": "code",
   "execution_count": 77,
   "metadata": {},
   "outputs": [
    {
     "data": {
      "image/png": "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\n",
      "text/plain": [
       "<Figure size 504x504 with 1 Axes>"
      ]
     },
     "metadata": {
      "needs_background": "light"
     },
     "output_type": "display_data"
    }
   ],
   "source": [
    "plt.figure(figsize = (7, 7))\n",
    "matplotlib.rc('xtick', labelsize = 12) \n",
    "matplotlib.rc('ytick', labelsize = 12) \n",
    "plt.title(\"Visual inspection of stratification\")\n",
    "plt.xticks([0,1])\n",
    "plt.xlabel('No delay                                                        delay ', fontsize = 15 )\n",
    "plt.hist([y_train_resampled, y_test_resampled], color=['red', 'blue'], label=['training set ',' testing set'])\n",
    "plt.legend(loc='best')\n",
    "plt.show()"
   ]
  },
  {
   "cell_type": "markdown",
   "metadata": {},
   "source": [
    "## Model learning"
   ]
  },
  {
   "cell_type": "code",
   "execution_count": 140,
   "metadata": {},
   "outputs": [],
   "source": [
    "# parameter grid\n",
    "parameters = { 'C'       : np.logspace(-3,3,7),\n",
    "               'solver'  : ['newton-cg', 'lbfgs', 'liblinear']\n",
    "             }"
   ]
  },
  {
   "cell_type": "code",
   "execution_count": 141,
   "metadata": {},
   "outputs": [],
   "source": [
    "logistic_regression = linear_model.LogisticRegression()\n",
    "\n",
    "model_LR_resampled  = GridSearchCV( logistic_regression,       # model\n",
    "                                    param_grid = parameters,   # hyperparameters\n",
    "                                    scoring = 'accuracy',        # metric for scoring\n",
    "                                    cv = 10                      # number of folds\n",
    "                                  )"
   ]
  },
  {
   "cell_type": "code",
   "execution_count": 142,
   "metadata": {},
   "outputs": [
    {
     "data": {
      "text/plain": [
       "GridSearchCV(cv=10, error_score='raise-deprecating',\n",
       "             estimator=LogisticRegression(C=1.0, class_weight=None, dual=False,\n",
       "                                          fit_intercept=True,\n",
       "                                          intercept_scaling=1, l1_ratio=None,\n",
       "                                          max_iter=100, multi_class='warn',\n",
       "                                          n_jobs=None, penalty='l2',\n",
       "                                          random_state=None, solver='warn',\n",
       "                                          tol=0.0001, verbose=0,\n",
       "                                          warm_start=False),\n",
       "             iid='warn', n_jobs=None,\n",
       "             param_grid={'C': array([1.e-03, 1.e-02, 1.e-01, 1.e+00, 1.e+01, 1.e+02, 1.e+03]),\n",
       "                         'solver': ['newton-cg', 'lbfgs', 'liblinear']},\n",
       "             pre_dispatch='2*n_jobs', refit=True, return_train_score=False,\n",
       "             scoring='accuracy', verbose=0)"
      ]
     },
     "execution_count": 142,
     "metadata": {},
     "output_type": "execute_result"
    }
   ],
   "source": [
    "model_LR_resampled.fit(X_train_resampled, y_train_resampled)"
   ]
  },
  {
   "cell_type": "code",
   "execution_count": 143,
   "metadata": {},
   "outputs": [
    {
     "name": "stdout",
     "output_type": "stream",
     "text": [
      "Best parameters)  {'C': 1000.0, 'solver': 'liblinear'}\n",
      "Accuracy : 0.9909019053865429\n"
     ]
    }
   ],
   "source": [
    "print(\"Best parameters) \" , model_LR_resampled.best_params_)\n",
    "print(\"Accuracy :\" ,        model_LR_resampled.best_score_)"
   ]
  },
  {
   "cell_type": "markdown",
   "metadata": {},
   "source": [
    "### I will now use values of the hyperparameters returned by the GridSearchCV() function to build Logistic Regesion model using the training resampled dataset"
   ]
  },
  {
   "cell_type": "code",
   "execution_count": 144,
   "metadata": {},
   "outputs": [],
   "source": [
    "model_LR_resampled = linear_model.LogisticRegression( C = 1000.0, \n",
    "                                                      solver = 'liblinear'\n",
    "                                                    )"
   ]
  },
  {
   "cell_type": "code",
   "execution_count": 145,
   "metadata": {},
   "outputs": [
    {
     "data": {
      "text/plain": [
       "LogisticRegression(C=1000.0, class_weight=None, dual=False, fit_intercept=True,\n",
       "                   intercept_scaling=1, l1_ratio=None, max_iter=100,\n",
       "                   multi_class='warn', n_jobs=None, penalty='l2',\n",
       "                   random_state=None, solver='liblinear', tol=0.0001, verbose=0,\n",
       "                   warm_start=False)"
      ]
     },
     "execution_count": 145,
     "metadata": {},
     "output_type": "execute_result"
    }
   ],
   "source": [
    "model_LR_resampled.fit(X_train_resampled, y_train_resampled)"
   ]
  },
  {
   "cell_type": "code",
   "execution_count": 146,
   "metadata": {},
   "outputs": [
    {
     "data": {
      "text/plain": [
       "array([-51.46390748])"
      ]
     },
     "execution_count": 146,
     "metadata": {},
     "output_type": "execute_result"
    }
   ],
   "source": [
    "model_LR_resampled.intercept_"
   ]
  },
  {
   "cell_type": "code",
   "execution_count": 147,
   "metadata": {},
   "outputs": [
    {
     "data": {
      "text/plain": [
       "array([[-1.72596870e-01,  1.45378682e+01,  3.81512212e-01,\n",
       "         5.90628109e+00,  2.94842134e+00,  2.92218175e+00,\n",
       "         5.85194031e+00,  1.26986030e+01,  1.89115049e+01,\n",
       "         2.88350352e+01,  3.69559197e+01,  4.40316199e+01,\n",
       "         3.47422223e+01,  7.40161729e+01,  1.16406878e+00,\n",
       "         2.46458362e+01,  5.85976506e+00,  5.57588431e+00,\n",
       "         4.75679424e+00,  4.46828629e+00,  6.01280738e+00,\n",
       "         5.61638510e+00,  5.68676351e+00, -1.15431453e-02,\n",
       "         1.58483682e-01, -8.91888041e-02,  6.32363241e-02]])"
      ]
     },
     "execution_count": 147,
     "metadata": {},
     "output_type": "execute_result"
    }
   ],
   "source": [
    "model_LR_resampled.coef_"
   ]
  },
  {
   "cell_type": "markdown",
   "metadata": {},
   "source": [
    "## Evaluation"
   ]
  },
  {
   "cell_type": "code",
   "execution_count": 148,
   "metadata": {},
   "outputs": [],
   "source": [
    "y_test_predicted = model_LR_resampled.predict(X_test_resampled)"
   ]
  },
  {
   "cell_type": "code",
   "execution_count": 149,
   "metadata": {},
   "outputs": [],
   "source": [
    "accuracy  = metrics.accuracy_score(  y_test_resampled, y_test_predicted )\n",
    "precision = metrics.precision_score( y_test_resampled, y_test_predicted )\n",
    "recall    = metrics.recall_score(    y_test_resampled, y_test_predicted )\n",
    "f1        = metrics.f1_score(        y_test_resampled, y_test_predicted )\n",
    "auc       = metrics.roc_auc_score(   y_test_resampled, y_test_predicted  )"
   ]
  },
  {
   "cell_type": "code",
   "execution_count": 150,
   "metadata": {},
   "outputs": [
    {
     "name": "stdout",
     "output_type": "stream",
     "text": [
      "Accuracy  =  0.9893475366178429\n",
      "Precision =  0.9868876961750119\n",
      "Recall    =  0.9918743598497781\n",
      "F1        =  0.9893747445852064\n",
      "AUC       =  0.9893474503428077\n"
     ]
    }
   ],
   "source": [
    "print(\"Accuracy  = \" ,  accuracy)\n",
    "print(\"Precision = \" , precision )\n",
    "print(\"Recall    = \" , recall )\n",
    "print(\"F1        = \" , f1 )\n",
    "print(\"AUC       = \" , auc )"
   ]
  },
  {
   "cell_type": "code",
   "execution_count": 151,
   "metadata": {},
   "outputs": [],
   "source": [
    "y_train_predicted = model_LR_resampled.predict(X_train_resampled)"
   ]
  },
  {
   "cell_type": "code",
   "execution_count": 152,
   "metadata": {},
   "outputs": [
    {
     "data": {
      "text/plain": [
       "array([1, 1, 0, 1, 1, 0, 0, 0, 0, 0, 1, 0, 1, 1, 1, 0, 0, 0, 0, 1, 1, 1,\n",
       "       1, 0, 1, 0, 1, 1, 0, 1], dtype=int64)"
      ]
     },
     "execution_count": 152,
     "metadata": {},
     "output_type": "execute_result"
    }
   ],
   "source": [
    "y_train_predicted[:30]"
   ]
  },
  {
   "cell_type": "code",
   "execution_count": 153,
   "metadata": {},
   "outputs": [],
   "source": [
    "train_score = metrics.accuracy_score(y_train_resampled, y_train_predicted)\n",
    "test_score  = metrics.accuracy_score(y_test_resampled,  y_test_predicted)"
   ]
  },
  {
   "cell_type": "code",
   "execution_count": 154,
   "metadata": {},
   "outputs": [
    {
     "name": "stdout",
     "output_type": "stream",
     "text": [
      "Accuracy at the training set: 0.9909523569278375\n",
      "Accuracy at the test set:     0.9893475366178429\n"
     ]
    }
   ],
   "source": [
    "print(\"Accuracy at the training set: {train}\\nAccuracy at the test set:     {test}\".format(train=train_score, test=test_score))"
   ]
  },
  {
   "cell_type": "code",
   "execution_count": 155,
   "metadata": {},
   "outputs": [
    {
     "name": "stdout",
     "output_type": "stream",
     "text": [
      "              precision    recall  f1-score   support\n",
      "\n",
      "           0       0.99      0.99      0.99     14644\n",
      "           1       0.99      0.99      0.99     14645\n",
      "\n",
      "    accuracy                           0.99     29289\n",
      "   macro avg       0.99      0.99      0.99     29289\n",
      "weighted avg       0.99      0.99      0.99     29289\n",
      "\n"
     ]
    }
   ],
   "source": [
    "print(metrics.classification_report(y_test_resampled, y_test_predicted))"
   ]
  },
  {
   "cell_type": "code",
   "execution_count": 156,
   "metadata": {},
   "outputs": [
    {
     "data": {
      "text/plain": [
       "array([[14451,   193],\n",
       "       [  119, 14526]], dtype=int64)"
      ]
     },
     "execution_count": 156,
     "metadata": {},
     "output_type": "execute_result"
    }
   ],
   "source": [
    "metrics.confusion_matrix(y_test_resampled, y_test_predicted)"
   ]
  },
  {
   "cell_type": "code",
   "execution_count": 157,
   "metadata": {},
   "outputs": [
    {
     "data": {
      "image/png": "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\n",
      "text/plain": [
       "<Figure size 720x360 with 1 Axes>"
      ]
     },
     "metadata": {
      "needs_background": "light"
     },
     "output_type": "display_data"
    }
   ],
   "source": [
    "fig = plt.figure(figsize=(10, 5))\n",
    "plt.bar(['accuracy', 'precision', 'recall', 'f1', 'AUC'], [accuracy , precision, recall, f1, auc], color='orangered')\n",
    "plt.title(\"Evaluation Logistic Regression\")\n",
    "plt.yticks(np.arange(0, 1, 0.1)) \n",
    "plt.show()"
   ]
  },
  {
   "cell_type": "markdown",
   "metadata": {},
   "source": [
    "# Fully Connected Neural Networks "
   ]
  },
  {
   "cell_type": "markdown",
   "metadata": {},
   "source": [
    "## Creating Fully Connected Neural Networks"
   ]
  },
  {
   "cell_type": "markdown",
   "metadata": {},
   "source": [
    "I will create a neural network with advance propagation. <br> The neural network will have an input layer, three hidden layers with, respectively, 100, 40 and 20 neurons, and an output layer. <br> The number of input layer neurons corresponds to the number of attributes of the data set, which is 27. <br> The number of output layer neurons is 1 since it is a binary classification. <br> In hidden layers I will use relu activation function and in the latter sigmoid function. <br> Optimizer Adam will be used. <br> Binary cross entropy as a function of error will be used. <br> Since the task of classification metrics will be accuracy. <br> I will use Dropout regularization for reducing overfitting and improving the generalization. "
   ]
  },
  {
   "cell_type": "code",
   "execution_count": 121,
   "metadata": {},
   "outputs": [],
   "source": [
    "np.random.seed(7)"
   ]
  },
  {
   "cell_type": "code",
   "execution_count": 122,
   "metadata": {},
   "outputs": [],
   "source": [
    "number_of_features = X_train.shape[1]\n",
    "output_size = 1"
   ]
  },
  {
   "cell_type": "code",
   "execution_count": 123,
   "metadata": {},
   "outputs": [
    {
     "data": {
      "text/plain": [
       "27"
      ]
     },
     "execution_count": 123,
     "metadata": {},
     "output_type": "execute_result"
    }
   ],
   "source": [
    "number_of_features"
   ]
  },
  {
   "cell_type": "code",
   "execution_count": 124,
   "metadata": {},
   "outputs": [],
   "source": [
    "model = Sequential()\n",
    "model.add(Dense(units = 100, input_dim = number_of_features, activation = 'relu'))\n",
    "model.add(Dense(units = 40, activation = 'relu'))\n",
    "model.add(Dense(units = 20, activation = 'relu'))\n",
    "model.add(Dropout(0.1))\n",
    "model.add(Dense(units = output_size, activation = 'sigmoid'))"
   ]
  },
  {
   "cell_type": "code",
   "execution_count": 125,
   "metadata": {},
   "outputs": [],
   "source": [
    "model.compile( optimizers.Adam(learning_rate = 0.0001), loss = losses.BinaryCrossentropy(), metrics = ['accuracy'] )"
   ]
  },
  {
   "cell_type": "code",
   "execution_count": 126,
   "metadata": {},
   "outputs": [
    {
     "name": "stdout",
     "output_type": "stream",
     "text": [
      "Model: \"sequential_2\"\n",
      "_________________________________________________________________\n",
      "Layer (type)                 Output Shape              Param #   \n",
      "=================================================================\n",
      "dense_8 (Dense)              (None, 100)               2800      \n",
      "_________________________________________________________________\n",
      "dense_9 (Dense)              (None, 40)                4040      \n",
      "_________________________________________________________________\n",
      "dense_10 (Dense)             (None, 20)                820       \n",
      "_________________________________________________________________\n",
      "dropout_2 (Dropout)          (None, 20)                0         \n",
      "_________________________________________________________________\n",
      "dense_11 (Dense)             (None, 1)                 21        \n",
      "=================================================================\n",
      "Total params: 7,681\n",
      "Trainable params: 7,681\n",
      "Non-trainable params: 0\n",
      "_________________________________________________________________\n"
     ]
    }
   ],
   "source": [
    "model.summary()"
   ]
  },
  {
   "cell_type": "code",
   "execution_count": 127,
   "metadata": {},
   "outputs": [],
   "source": [
    "history = model.fit(X_train_resampled, y_train_resampled, epochs = 50, batch_size = 32, verbose = 0, validation_split = 0.2)"
   ]
  },
  {
   "cell_type": "code",
   "execution_count": 128,
   "metadata": {},
   "outputs": [],
   "source": [
    "epochs = history.epoch\n",
    "\n",
    "loss = history.history['loss']\n",
    "validation_loss = history.history['val_loss']\n",
    "\n",
    "acc = history.history['accuracy']\n",
    "validation_acc = history.history['val_accuracy']"
   ]
  },
  {
   "cell_type": "code",
   "execution_count": 130,
   "metadata": {},
   "outputs": [
    {
     "name": "stdout",
     "output_type": "stream",
     "text": [
      "Loss                =  0.007758540101349354\n",
      "Accuracy            =  0.9978978633880615\n",
      "Validation Loss     =  0.021041497588157654\n",
      "Validation Accuracy =  0.9945346117019653\n"
     ]
    }
   ],
   "source": [
    "print(\"Loss                = \" , loss[49] )\n",
    "print(\"Accuracy            = \" ,  acc[49])\n",
    "\n",
    "print(\"Validation Loss     = \" , validation_loss[49] )\n",
    "print(\"Validation Accuracy = \" ,  validation_acc[49])"
   ]
  },
  {
   "cell_type": "code",
   "execution_count": 131,
   "metadata": {},
   "outputs": [
    {
     "data": {
      "text/plain": [
       "<matplotlib.legend.Legend at 0x21e86b04c08>"
      ]
     },
     "execution_count": 131,
     "metadata": {},
     "output_type": "execute_result"
    },
    {
     "data": {
      "image/png": "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\n",
      "text/plain": [
       "<Figure size 1080x360 with 2 Axes>"
      ]
     },
     "metadata": {
      "needs_background": "light"
     },
     "output_type": "display_data"
    }
   ],
   "source": [
    "fig = plt.figure(figsize=(15, 5))\n",
    "\n",
    "plt.subplot(1,2,1)\n",
    "plt.title('Loss')\n",
    "plt.xlabel('Epochs')\n",
    "plt.ylabel('Loss')\n",
    "plt.plot(epochs, loss, c='red', label='training')\n",
    "plt.plot(epochs, validation_loss, c='blue', label='validation')\n",
    "plt.legend(loc='best')\n",
    "\n",
    "plt.subplot(1,2,2)\n",
    "plt.title('Accuracy')\n",
    "plt.xlabel('Epochs')\n",
    "plt.ylabel('Acccuracy')\n",
    "plt.plot(epochs, acc, c='red', label='training')\n",
    "plt.plot(epochs, validation_acc, c='blue', label='validation')\n",
    "plt.legend(loc='best')"
   ]
  },
  {
   "cell_type": "code",
   "execution_count": null,
   "metadata": {},
   "outputs": [],
   "source": []
  },
  {
   "cell_type": "markdown",
   "metadata": {},
   "source": [
    "## Fully Connected Neural Networks Evaluation"
   ]
  },
  {
   "cell_type": "code",
   "execution_count": 132,
   "metadata": {},
   "outputs": [],
   "source": [
    "final_model = Sequential()\n",
    "final_model.add(Dense(units=100, input_dim=number_of_features, activation='relu'))\n",
    "final_model.add(Dense(units=40, activation='relu'))\n",
    "final_model.add(Dense(units=20, activation='relu'))\n",
    "final_model.add(Dropout(0.1))\n",
    "final_model.add(Dense(units=output_size, activation='sigmoid'))\n",
    "final_model.compile(optimizers.Adam(learning_rate = 0.0001), loss=losses.BinaryCrossentropy(), metrics=['accuracy'])"
   ]
  },
  {
   "cell_type": "code",
   "execution_count": 133,
   "metadata": {},
   "outputs": [],
   "source": [
    "history = final_model.fit(X_train_resampled, y_train_resampled, epochs=50, batch_size=32, verbose = 0)"
   ]
  },
  {
   "cell_type": "code",
   "execution_count": 134,
   "metadata": {},
   "outputs": [
    {
     "name": "stdout",
     "output_type": "stream",
     "text": [
      "916/916 [==============================] - 3s 3ms/step - loss: 0.0243 - accuracy: 0.9935\n",
      "Test loss:     0.024266500025987625, \n",
      "Test accuracy: 0.9935470819473267\n"
     ]
    }
   ],
   "source": [
    "test_loss, test_accuracy = final_model.evaluate(X_test_resampled, y_test_resampled)\n",
    "print (\"Test loss:     {}, \\nTest accuracy: {}\".format(test_loss, test_accuracy))"
   ]
  },
  {
   "cell_type": "code",
   "execution_count": 135,
   "metadata": {},
   "outputs": [
    {
     "name": "stdout",
     "output_type": "stream",
     "text": [
      "1859/1859 [==============================] - 7s 4ms/step - loss: 0.0062 - accuracy: 0.9985\n",
      "Train loss:     0.00624389573931694, \n",
      "Train accuracy: 0.9984528422355652\n"
     ]
    }
   ],
   "source": [
    "train_loss, train_accuracy = final_model.evaluate(X_train_resampled, y_train_resampled)\n",
    "print (\"Train loss:     {}, \\nTrain accuracy: {}\".format(train_loss, train_accuracy))"
   ]
  },
  {
   "cell_type": "code",
   "execution_count": 136,
   "metadata": {},
   "outputs": [],
   "source": [
    "epochs = history.epoch\n",
    "loss = history.history['loss']\n",
    "acc = history.history['accuracy']"
   ]
  },
  {
   "cell_type": "code",
   "execution_count": 137,
   "metadata": {},
   "outputs": [
    {
     "data": {
      "text/plain": [
       "<matplotlib.legend.Legend at 0x21e874111c8>"
      ]
     },
     "execution_count": 137,
     "metadata": {},
     "output_type": "execute_result"
    },
    {
     "data": {
      "image/png": "iVBORw0KGgoAAAANSUhEUgAAA4oAAAFQCAYAAAD5t4CYAAAABHNCSVQICAgIfAhkiAAAAAlwSFlzAAALEgAACxIB0t1+/AAAADh0RVh0U29mdHdhcmUAbWF0cGxvdGxpYiB2ZXJzaW9uMy4xLjMsIGh0dHA6Ly9tYXRwbG90bGliLm9yZy+AADFEAAAgAElEQVR4nOzde5wcVZ3//9c7yeQyuZAL4RIgBhAUwxLU7KpgNEEEQYVoFJWA3Ny4sApGRXBXRMEVhRXUlUVZ7khAFBBYENA1CKi7CN8fUSIaBBJJuIWEhExmcv/8/jjVpqfTM+nJdE9NZd7Px6Me3V11qvrU6IPKuz+nTikiMDMzMzMzMyvpl3cHzMzMzMzMrHdxUDQzMzMzM7N2HBTNzMzMzMysHQdFMzMzMzMza8dB0czMzMzMzNpxUDQzMzMzM7N2HBTNzMzMzMysHQdFswKTtFDSoXn3w8zMrNEk3S/pFUmD8u6LWV/goGhmZmZmvZqkCcAUIICjevB7B/TUd5n1Ng6KZtshSf8o6S+Slku6Q9K4bL0kXSLpJUkrJf1e0v7ZtiMl/VHSKklLJH0+37MwMzP7m48D/wtcA5xQWilpiKRvSVqUXdcekjQk2/Z2Sb+RtELSs5JOzNbfL+kTZcc4UdJDZZ9D0j9LehJ4Mlv3newYr0p6VNKUsvb9Jf2LpKeya+ijkvaQdKmkb5WfhKQ7JX2mEX8gs3pzUDTbzkg6BLgAOAbYFVgE3JRtPgx4B7AvMBL4CLAs23Yl8MmIGA7sD/yyB7ttZmbWmY8DN2TL4ZJ2ztb/O/Bm4CBgNPAFYJOk8cDPgP8AxgIHAo914fumA28B3pB9/l12jNHAHODHkgZn2z4LfAw4EhgBnAy0AtcCH5PUD0DSjsC7gBu7cuJmeXFQNNv+zASuioj/FxFrgS8Cb8uG7awHhgOvBxQRT0TE89l+64E3SBoREa9ExP/Loe9mZmbtSHo78Brg5oh4FHgKODYLYCcDZ0TEkojYGBG/ya59M4FfRMSNEbE+IpZFRFeC4gURsTwi2gAi4ofZMTZExLeAQcDrsrafAL4UEX+OZF7W9mFgJSkcAnwUuD8iXuzmn8SsRzgomm1/xpGqiABERAuparhbRPwS+B5wKfCipMsljciaziD9GrpI0q8kva2H+21mZlbNCcB9EfFy9nlOtm5HYDApOFbao4P1tXq2/IOkz0l6IhveugLYIfv+rX3XtcBx2fvjgOu70SezHuWgaLb9eY70yysAkoYCY4AlABHx3Yh4MzCRNAT1zGz97yLiaGAn4KfAzT3cbzMzs3ay+w2PAd4p6QVJLwCzgUmk2yvWAHtX2fXZDtYDrAaayz7vUqVNlPVhCnBW1o9RETGSVClUDd/1Q+BoSZOA/UjXV7NCcFA0K74mSYNLCyngnSTpwGwK8a8D/xcRCyX9vaS3SGoiXSjXABslDZQ0U9IOEbEeeBXYmNsZmZmZJdNJ16M3kO4RPJAUuB4k3bd4FXCxpHHZpDJvy659NwCHSjpG0gBJYyQdmB3zMeCDkpolvRY4ZSt9GA5sAJYCAyR9mXQvYskVwPmS9skmjTtA0hiAiFhMur/xeuCW0lBWsyJwUDQrvruBtrJlCnAOcAvwPOlXzo9mbUcA/wW8Qhqeuow0EQDA8cBCSa8C/8TmoTJmZmZ5OQG4OiL+GhEvlBbSbRQzgbOBP5DC2HLgm0C/iPgr6XaKz2XrHyNVIQEuAdYBL5KGht6wlT7cS5oYZwHp2rmG9kNTLyb9SHsf6YfWK4EhZduvBf4ODzu1glFEbL2VmZmZmZl1maR3kIagToiITXn3x6xWriiamZmZmTVAdqvHGcAVDolWNA6KZmZmZmZ1Jmk/YAVp0p1v59wdsy7z0FMzMzMzMzNrxxVFMzMzMzMza8dB0czMzMzMzNoZkHcH8rLjjjvGhAkT8u6GmZn1gEcfffTliBibdz9qJelTwImkKfVvjIgTO2k7m/Qw8CGkx+KcGhFrs20TgKuBtwB/BT4VEb/Y2vf7Gmlm1jd0dn3ss0FxwoQJPPLII3l3w8zMeoCkRXn3oYueA74GHE7757G1I+lw0nPkDsn2uQ34arYO4Ebgt6TnyR0J/ETSPhGxtLMv9zXSzKxv6Oz66KGnZmZmvUxE3BoRPwWWbaXpCcCVETE/Il4BzidVIpG0L/Am4NyIaIuIW0gPJp/RuJ6bmdn2wkHRzMysuCYC88o+zwN2ljQm2/Z0RKyq2D6xB/tnZmYF5aBoZmZWXMOAlWWfS++HV9lW2j682oEkzZL0iKRHli7tdGSqmZn1AX32HkUzs95u/fr1LF68mDVr1uTdlcIYPHgwu+++O01NTXl3pae0ACPKPpfer6qyrbR9FVVExOXA5QCTJ0/2Q5bNzPo4B0Uzs15q8eLFDB8+nAkTJiAp7+70ehHBsmXLWLx4MXvuuWfe3ekp84FJwM3Z50nAixGxTNJ8YC9Jw8uGn04C5uTQTzMzKxgPPTUz66XWrFnDmDFjHBJrJIkxY8ZsFxVYSQMkDQb6A/0lDZZU7cfd64BTJL1B0ijgS8A1ABGxAHgMODfb/wPAAaRHaJiZmXXKQdHMrBdzSOya7ejv9SWgjfSYi+Oy91+SNF5Si6TxABFxD3AhMBdYlC3nlh3no8Bk4BXgG8CHtvZoDDMzM3BQNDOzDqxYsYL//M//3Ob9v/3tb9Pa2lp129SpU/2cvk5ExFciQhXLVyLirxExLCL+Wtb24ojYOSJGRMRJEbG2bNvCiJgaEUMi4nUR8Yt8zsjMzIrGQdHMzKpqZFA0MzOz3s2T2WyrJUvgrrvg/e+HXXfNuzdmZnV39tln89RTT3HggQfy7ne/m4suuoiLLrqIm2++mbVr1/KBD3yAr371q6xevZpjjjmGxYsXs3HjRs455xxefPFFnnvuOaZNm8aOO+7I3LlzO/yeG2+8ka9//etEBO9973v55je/ycaNGznllFN45JFHkMTJJ5/M7Nmz+e53v8v3v/99BgwYwBve8AZuuummHvyLmJmZdV0EtLbCq6/CypXtX199NW0fMACamtovAwbAoEGbl8GD279vboYhQxrXbwfFbbVgAXzyk7Dvvg6KZrZd+sY3vsHjjz/OY489BsB9993Hk08+ycMPP0xEcNRRR/HAAw+wdOlSxo0bx1133QXAypUr2WGHHbj44ouZO3cuO+64Y4ff8dxzz3HWWWfx6KOPMmrUKA477DB++tOfsscee7BkyRIef/xxIFU3S3165plnGDRo0N/WmZlZ37JhA7z4IixdChL06wf9+7d/jYBVq6qHs1Wrttyv/P2mTWnZuLH9awTssAOMGQM77tj+deRIeP55+Mtf0vLkk5tfn3oK1q7d+nl11THHwI9+VP/jljgobqvm5vTqYVVm1hM+8xnIAlvdHHggfPvbNTe/7777uO+++3jjG98IQEtLC08++SRTpkzh85//PGeddRbve9/7mDJlSs3H/N3vfsfUqVMZO3YsADNnzuSBBx7gnHPO4emnn+bTn/40733veznssMMAOOCAA5g5cybTp09n+vTpXThZM7O+Z9OmFFDWrEmvpWXNmhS2qoWhUiCqDF6l13Xr4JVX0rJ8+eb3r7ySjt1RBQw2V9Aqg9vatTBiRFp22KH9a1NTCmBLlsBzz6XXF19M/dxW/funoLhxYzrXrZHSPpD+brUYPBj23hv22Qfe8x7Yaaf251Z6P2JE+ruuX99+2bAh/a3XrWv/v1v5+7333va/QS0cFLeVg6KZ9TERwRe/+EU++clPbrHt0Ucf5e677+aLX/wihx12GF/+8pdrPmY1o0aNYt68edx7771ceuml3HzzzVx11VXcddddPPDAA9xxxx2cf/75zJ8/nwEDfCkzs/p54gm4806YOBGmTEn/kO+uiPQP+0GDUiioxdq1mwPS88/DCy9sXso/t7VVD3ul9z1h6FAYNSqFo/JAWgo0JYMGbRkG99wTBg7cXP174YXNIXLVqvS3GzMGxo2D3XaDSZM2vx87dnPgqxZ2hw9vH8pKr4MHb+5TRFrK9y1VGEtLaULt0hDSZcvg5Zfbv77yCuyyC7z2tWnZbbfa/7furXx13ValoNjWlm8/zKxv6ELlr16GDx/OqlWr/vb58MMP55xzzmHmzJkMGzaMJUuW0NTUxIYNGxg9ejTHHXccw4YN45prrmm3f2dDT9/ylrdwxhln8PLLLzNq1ChuvPFGPv3pT/Pyyy8zcOBAZsyYwd57782JJ57Ipk2bePbZZ5k2bRpvf/vbmTNnDi0tLYwcObLRfwoz285t2gT33gvf+U56LenfHyZPhkMOgWnT4OCDN/8TEFKYefbZzcuSJWk4ZGWIePnlFJr69YPRo1PwKR+2OHp0OlapYrZkSdqnUv/+qTK1664plEyaBMOGdTyEsqlpy8peaRk4cMv2pdfS36Ra8GxqSqGwtIwcmY7VkYhUIYvYXFnsyv8uGzZ0fvzukjYPQ62l7dChaRk/vnF96i0aGhQljQauBA4DXga+GBFzqrQ7EzgBeE3W7j8j4qKy7ROAq4G3AH8FPlU+xbek2cBZwBDSg4RPLZ8evCFcUTSz7dyYMWM4+OCD2X///TniiCO46KKLeOKJJ3jb294GwLBhw/jhD3/IX/7yF84880z69etHU1MTl112GQCzZs3iiCOOYNddd+1wMptdd92VCy64gGnTphERHHnkkRx99NHMmzePk046iU3Zz+EXXHABGzdu5LjjjmPlypVEBLNnz3ZINOtDStWcymGL69fD7rvDhAldr/61tMB118F3vwt//nMKYOefDyeckO4tmzsXfvlLuOgiuOCCFJLe+Ma037PPpopXufIguOOOqU+TJ6fPo0ZtWY1atAgefTQN4RwxIlXK9tgD3vrWVJEqVc7GjUvBcMyYzUMgi0La9qDXr19jQ6J1Th0N+6nLwaUbSY/gOAU4ELgLOCgi5le0+wLwC+D3wN7AfcBZEXFTtv23wG+BfwWOJIXPfSJiqaTDgeuAQ4DngNuA/42Iszvr2+TJk6Nbz/BauTL9hHLxxTB79rYfx8ysA0888QT77bdf3t0onGp/N0mPRsTknLpUON2+RprVKCKFrmXL4KWXNlfTyu9HK92T9uqrqarVmZEjUzh7zWvS67hxaebIap59Fq65BlasSGFu9mz40IeqB5OWFnjooRQaf/e79D177LHl0tn3mfVGnV0fG/Z/ZUlDgRnA/hHRAjwk6Q7geKBdiIuIC8s+/lnS7cDBwE2S9gXeBBwWEW3ALZI+kx37+6RK5JWl8CnpfOCGyu+oO1cUzczMbDuzYQM8/XS6T2/9+s3VrF13rR6g1q9PVbHyWR6XLev4+GvWbK6mlSpr69dv2W7AgPS948alewXf9a7q95rtsEOqOj37bOrHokWwcGHqxy9+AatXd9yX/v1hxgw44wx429s234dWzbBhaUKS97yn4zZm25tG/uaxL7AxIhaUrZsHvLOznSQJmAL8IFs1EXg6IsqL+/Oy9aXtt1ds21nSmIjo5D9V3VR6uImDopmZmfVyEekeuZaWzcuqVSlYPfFEWv74xxT21q2rfoyddtocHDduTGHsmWfaV/mGDUvtOgpdAwemIZmvfW0aXll+n97YsZuPP3Zs9ycCKVUrOxo819TU2GfQmRVdI4PiMGBlxbqVwPCt7PcV0nDVq7dynN062F56PxxoFxQlzQJmAYyvxx2oQ4Y4KJqZmVluNm2C//u/FNpeeqn6snJlCkwdDdvs1w/22gv22w/e+970ut9+aQKUasNAFy9O+7zpTek5bvvsk4LfPvt0HhJ7mpRmvTSzbdPIoNgCVN5SPAJYVaUtAJI+BXwcmFI2Gc3WjlO5vfR+i++JiMuByyHdf7H1U9iK5mYHRTNrqIhAveVfXQXQyPvuzXqLiPRY1Tlz4KabUnArGTgwhbXSst9+aRKVYcPaL8OHp5kbd9sN9t23/eMCyk2a1DPnZGa9TyOD4gJggKR9IuLJbN0kYH61xpJOJt1X+I6IKPtPHvOBvSQNLxt+OgmYU7Z9EnBz2bYXGzrstMRB0cwaaPDgwSxbtowxY8Y4LNYgIli2bBmDO/oXr1kv9sc/ws03p7tayme73G23NHGKlIaF3nhjWv70p9T2iCPgwgvh7/8+BcPhw3tPRc/Miq1hQTEiVku6FThP0idIs54eDRxU2VbSTODrwLSIeLriOAskPQacK+lLwBHAAaTJbCDNeHqNpBuA54EvAdc05qwqOCiaWQPtvvvuLF68mKVLl+bdlcIYPHgwu+++e97dMKtJS0sKh1dcAb/9bQp41YriQ4ake/gWL05t3vGONEPnjBlpvZlZIzR6At/TgKuAl0j3C54aEfMlTQF+FhHDsnZfA8YAvyv71fyHEfFP2fuPksLfK6TnKH4oIpYCRMQ9ki4E5rL5OYrnNvi8EgdFM2ugpqYm9txzz7y7YWY12rgRnn8eXnghDeUszcw5fPjmiVki0j2FV16Zho22tMDrXw///u9w/PGp/fPPb3lv4AsvpOf3feQj6ZmBZmaN1tCgGBHLgelV1j9ImoSm9LnTfwlFxEJgaifbLwYu3tZ+bjMHRTMzsz7nqafg3nvTYxj++tf0aIZnn02hrqMJY4YPT8ERUmWwuRk++lE45ZQtH82w555pMTPLkx8J2h3NzeAhYWZmZtu1CJg/H269NS3z5qX1gwal6t4ee8DUqZsfur7rrukREytXpofEl7+2tsKhh6bKoGfkNLPezEGxO1xRNDMz265EQFtbCnWLFsHtt6dwuGBBqvodfDBcfDEcfXSq+nniGDPbXjkodkdzc7qamJmZWaG0tMA116QQuHx5+8rfhg2b2/XvD9OmwWc+A9Onp2qhmVlf4KDYHa4ompmZFcrixfC978EPfgArVsABB8CECWkSmR122DwBzQ47pBlFDznEM4uaWd/koNgdDopmZmaF8OijcMkl8KMfwaZN6dESs2eniWTMzGxLDordUQqKEb5JwczMrJdZtSrdY3jFFfCrX8GwYfCpT8Hpp3tWUTOzrXFQ7I4hQ9I82OvXw8CBeffGzMysz1u7Fu65B+bMgTvvTFMJvOY16TmFn/jE5kdUmJlZ5xwUu6O5Ob22tjoompmZ5WTTplQxnDMHfvKTdO/hjjvCiSfCscfCQQdtfuC9mZnVxkGxO8qD4siR+fbFzMysD9q0CU46Ca67Lg0tnT49hcNDD4Wmprx7Z2ZWXA6K3VEeFM3MzKxHRaQJaa67Dv71X+Ff/mXzpdnMzLrHQbE7HBTNzMxyc/758N3vprB4/vmeV87MrJ48Yr87HBTNzMxy8b3vwbnnwgknpIlqHBLNzOrLQbE7HBTNzMx63Jw58OlPw1FHpUdfeKIaM7P6839au8NB0czMrEfdfXeqIr7znfCjH8EA30RjZtYQDord4aBoZmYNIGm0pNskrZa0SNKxHbQbKelaSS9ly1cqth8k6WFJqyT9XtLbe+QEGuShh2DGDDjgALjjDhg8OO8emZltvxwUu6MUFNva8u2HmZltby4F1gE7AzOByyRNrNLuEqAZmAD8A3C8pJMghU3gDuAiYCRwIXCnpFEN730D/P738L73wfjx8LOfwYgReffIzGz75qDYHa4omplZnUkaCswAzomIloh4iBT4jq/S/P3AhRHRGhELgSuBk7NtBwEvRsSPI2JjRPwQWAp8sOEnUWevvgof/CAMHQo//znstFPePTIz2/55ZH93OCiamVn97QtsjIgFZevmAe/soL0q3u9f9r5yLtDy7YUQAbNmwcKFcP/9qaJoZmaN54pidwwZkl4dFM3MrH6GASsr1q0Ehldpew9wtqThkl5LqiaWHjn/G2CcpI9JapJ0ArB32fZ2JM2S9IikR5YuXVqXE6mH//qvNGnN+efD2wt9h6WZWbE4KHbHgAHQ1OSgaGZm9dQCVN6BNwJYVaXt6UAb8CRwO3AjsBggIpYBRwOfBV4E3gP8orS9UkRcHhGTI2Ly2LFj63Aa3ff738MZZ8Bhh8FZZ+XdGzOzvsVBsbuamx0UzcysnhYAAyTtU7ZuEjC/smFELI+ImRGxS0RMJF3XHy7b/quI+PuIGE26x/F15dt7s5YWOOYYGDkSrr/ez0o0M+tpDf3Pbhem954maa6klZIWVmwbL6mlYglJn8u2T5W0qWL7CY08r3YcFM3MrI4iYjVwK3CepKGSDiZVBq+vbCtpb0ljJPWXdAQwC/ha2fY3ZsNORwD/DiyOiHt75ky655//GRYsgDlzPHmNmVkeGv37XK3Te68GrgLOrNwQEX+NiGGlBfg7YBNwS1mz58rbRMS1dT+TjjgomplZ/Z0GDAFeIg0nPTUi5kuaIqmlrN2bgT+QhqVeAMyMiPLK4xeAl4FngV2BD/RE57vr2mvhuuvgy1+GadPy7o2ZWd/UsFlPy6b33j8iWoCHJJWm9z67vG1EPAw8LOnQGg79ceCBbBrw/DkomplZnUXEcmB6lfUPkia7KX2+Gbi5k+N8rCEdbKAnnoDTToOpU+Gcc/LujZlZ39XIimJH03tXqyh2xceByorhTpJelPSMpEuykNozHBTNzMzqorU13Zc4dCjccAP07593j8zM+q5GBsWuTO9dE0lTSMNYf1K2+k/AgaQhNYeQhuFc3MH+9Z/620HRzMysLr76VXj88TR5zbhxeffGzKxva2RQ7Mr03rU6AbglG8oKQES8EBF/jIhNEfEM6X6MD1XbuSFTfzsompmZdduaNXDFFfDhD8Phh+fdGzMza2RQrHl671pIGgJ8mC2HnVYKQNvyHdukuRna2nrs68zMzLZHt94Ky5fDrFl598TMzKCBQbGL03v3kzQYaEofNVjSwIpmHwBWAHMr9p2aPUJDkvYAvkF66HDPcEXRzMys2y6/HPbaCw45JO+emJkZNP7xGLVO7/0OoA24Gxifvb+v4lgnANdFRFSsfxPwW9IjNn4DPA6cXu8T6ZCDopmZWbf8+c/wq1/BP/4j9Gv0v0zMzKwmDXs8BnRpeu/72cpw0YioesdCRFxMB5PX9AgHRTMzs2654goYMABOPDHvnpiZWYl/t+uuIUNSUNyi0GlmZmZbs3YtXHMNHHUU7LJL3r0xM7MSB8Xuam5OIXHt2rx7YmZmVji33w4vv5yGnZqZWe/hoNhdzc3p1cNPzczMuuzyy+E1r4F3vzvvnpiZWTkHxe5yUDQzM9smTz0F//M/cMop0L9/3r0xM7NyDord5aBoZma2Ta64Is1yevLJeffEzMwqOSh2l4OimZlZl61fD1dfDe99L+y2W969MTOzSg6K3eWgaGZm1mV33gkvvgizZuXdEzMzq8ZBsbscFM3MzLrs8stTJfE978m7J2ZmVo2DYnc5KJqZmXXJwoVw331pEpsBA/LujZmZVeOg2F2loNjWlm8/zMzMCuLKK9PrKafk2w8zM+uYg2J3uaJoZmZWsw0b4Kqr0pDT8ePz7o2ZmXXEQbG7HBTNzMxqdvfd8NxznsTGzKy3c1DsLgdFMzOzmt1yC+y4Y3oshpmZ9V4Oit01ZEh6dVA0MzPbqhUr0mynTU1598TMzDrjoNhd/frBoEEOimZmZjVobd08GMfMzHovB8V6aG52UDQzM6tBW9vmwThmZtZ7OSjWg4OimZlZTVxRNDMrBgfFenBQNDMzq4krimZmxeCgWA8OimZmZjVxRdHMrBgcFOvBQdHMzKwmriiamRWDg2I9OCiamZnVxBVFM7NiaGhQlDRa0m2SVktaJOnYDtpNkzRX0kpJC6tsXyipTVJLttxXsX22pBey/a+SNKhBp1Sdg6KZmdlWRbiiaGZWFI2uKF4KrAN2BmYCl0maWKXdauAq4MxOjvX+iBiWLYeVVko6HDgbeBcwAdgL+Gp9ul+j5uZ05TMzM7MOrVsHmza5omhmVgQNC4qShgIzgHMioiUiHgLuAI6vbBsRD0fE9cDT2/BVJwBXRsT8iHgFOB84cdt7vg1cUTQzszrqwoickZKulfRStnylYvuBkh7MRtwslvTlHjmBDpR+U3VF0cys92tkRXFfYGNELChbNw+oVlGsxQ2Slkq6T9KksvUTs+OWf8fOksZs4/d0nYOimZnVV60jci4Bmkkjav4BOF7SSWXb5wAPAKOBdwKnSjqqgf3uVOlS6YqimVnv18igOAxYWbFuJTB8G441k3QRfA0wF7hX0sgOvqf0fovvkTRL0iOSHlm6dOk2dKMDQ4Y4KJqZWV10ZUQO8H7gwohojYiFwJXAyWXbJwA3RMTGiHgKeIht/8G221xRNDMrjkYGxRZgRMW6EcCqrh4oIn4dEW3ZhfACYAUwpYPvKb3f4nsi4vKImBwRk8eOHdvVbnSsdI/ipk31O6aZmfVVXR2Ro4r3+5d9/jbwcUlNkl4HvA34RdWDNOrH1DKuKJqZFUcjg+ICYICkfcrWTQLm1+HYweYL4/zsuOXf8WJELKvD99SmdMVbs6bHvtLMzLZbXRmRcw9wtqThkl5LqiaWx7D/Bj4EtAF/It3T/7tqX9qwH1PLuKJoZlYcDQuKEbEauBU4T9JQSQcDRwPXV7aV1E/SYKApfdRgSQOzbeMlHSxpYLb+TGBH4NfZ7tcBp0h6g6RRwJeAaxp1XlWVgqKHn5qZWfd1ZUTO6aQQ+CRwO3AjsBjShDikIHkeMBjYAzhc0mmN6fbWuaJoZlYcjX48xmnAEOAl0sXr1IiYL2mKpJaydu8gXejuBsZn70vPShwOXAa8AiwB3gMcUaoYRsQ9wIWkexcXZcu5DT6v9hwUzcysfmoekRMRyyNiZkTsEhETSdf1h7PNe5GGsF4XERsiYjFwE3Bkg/vfIVcUzcyKY0AjDx4Ry4HpVdY/SBpaU/p8P+3vsShvOx84YCvfczFwcXf62i0OimZmVicRsVpSaUTOJ4ADSSNyDqpsK2lv0n37K4DDgFmk2U0hBU5lj9a4CdgJ+Ajwy4afRAdcUTQzK45GVxT7BgdFMzOrr1pH5LwZ+ANpWOoFwMzsB1Yi4lXgg8Bs0qicx4DHgX/rsbOo4IqimVlxNLSi2Gc4KJqZWR11YUTOzcDNnRznl8DfN6KP28IVRTOz4nBFsR4cFM3MzLaqdJl0RdHMrPdzUKyHUlAsjRAgaqMAACAASURBVKkxMzOzLZQuk64ompn1fg6K9eCKopmZ2Va1toIEgwbl3RMzM9saB8V6cFA0MzPbqra2NOxUVec5NzOz3sRBsR4cFM3MzLaqtdX3J5qZFYWDYj2UrnoOimZmZh1qa/P9iWZmReGgWA+DB6dXB0UzM7MOuaJoZlYcDor10K9fuvI5KJqZmXXIFUUzs+JwUKyX5mYHRTMzs064omhmVhwOivXioGhmZtYpVxTNzIrDQbFeHBTNzMw65YqimVlxOCjWi4OimZlZp1xRNDMrDgfFenFQNDMz65QrimZmxeGgWC8OimZmZp1yRdHMrDgcFOuluTldAc3MzKyq1lYHRTOzonBQrBdXFM3MzDoUkX5P9dBTM7NicFCsFwdFMzOzDq1dm8KiK4pmZsXgoFgvDopmZmYdKt2d4YqimVkxOCjWy5AhDopmZmYdKF0iXVE0MysGB8V6aW5O42o2bsy7J2ZmZr2OK4pmZsXS0KAoabSk2yStlrRI0rEdtJsmaa6klZIWVmzbSdKNkp7Ltv9a0lvKtk+VtElSS9lyQiPPq6rST6Se+dTMzGwLriiamRVLoyuKlwLrgJ2BmcBlkiZWabcauAo4s8q2YcDvgDcDo4FrgbskDStr81xEDCtbrq3nSdSkdOXz8FMzM7MtuKJoZlYsDQuKkoYCM4BzIqIlIh4C7gCOr2wbEQ9HxPXA01W2PR0RF0fE8xGxMSIuBwYCr2tU37eJg6KZmZWR1D/vPvQmriiamRVLIyuK+wIbI2JB2bp5QLWKYs0kHUgKin8pW72TpBclPSPpkiykVtt3lqRHJD2ydOnS7nRjSw6KZmbW3l8kXSTpDXl3pDdwRdHMrFgaGRSHASsr1q0Ehm/rASWNAK4HvhoRpWP/CTgQ2BU4hDRE9eJq+0fE5RExOSImjx07dlu7UZ2DopmZtXcAsAC4QtL/Zj9Wjsi7U3lxRdHMrFgaGRRbgMoL4ghg1bYcTNIQ4E7gfyPigtL6iHghIv4YEZsi4hngC8CHtrHP285B0czMykTEqoj4r4g4iHRtOhd4XtK1kl6bc/d6nCuKZmbF0siguAAYIGmfsnWTgPldPZCkQcBPgSXAJ7fSPAB19Tu6zbOemplZGUn9JR0l6TbgO8C3gL1IP3renWvncuCKoplZsQxo1IEjYrWkW4HzJH2CNDz0aOCgyraS+pHuO2xKHzUY2BQR6yQ1AT8B2oCPR8Smin2nkibBeRbYHfgGcHujzqtDriiamVl7TwJzgYsi4jdl638i6R059Sk3riiamRVLw4Ji5jTSYy9eApYBp0bEfElTgJ9FROkRF+8gXUxL2oBfAVNJwfJ92boV0t+KhUdExIPAm4AbgFHZd/wU+JcGnlN1DopmZtbeARHRUm1DRJze053JmyuKZmbF0tDnKEbE8oiYHhFDI2J8RMzJ1j9YFhKJiPsjQhXL1Gzbr7LPzRXPSnww235xROyWbd8jIj4dEdt0H2S3OCiamVl7l0oaWfogaZSkq2rZUdJoSbdJWi1pkaRjO2g3Mrvn8aVs+UrZtvGSWiqWkPS5bp/ZNmhrAwkGDszj283MrKsaXVHsO0pjaRwUzcwsOSAiVpQ+RMQrkt5Y476XAuuAnUm3btwlaV5EVN7nfwnQDEwAdgL+R9KiiLg6Iv5KmoEcAEl7kh4tdcu2nlB3tLam31TV87MImJnZNmhoRbFPcUXRzMza6ydpVOmDpNHU8ANt9izgGcA5EdESEQ8BdwDHV2n+fuDCiGiNiIXAlcDJHRz648ADWbse19bm+xPNzIrEFcV6GTQo/UzqoGhmZsm3gN9I+kn2+cPAv9Ww377AxohYULZuHvDODtqr4v3+HbT7OHB+Dd/fEKWKopmZFYMrivUipSugg6KZmQERcR3pub4vkiZ1+2BEXF/DrsOAlRXrVgLDq7S9Bzhb0vDs2Ywnk4aitpNNIrczaRbxqiTNkvSIpEeWLl1aQze7xhVFM7NicVCsJwdFMzMrk91TeDPpsU0tksbXsFsLMKJi3Qig2kRtp5NmBX8y+44bgcVV2p0A3NLRLKxZXy+PiMkRMXns2LE1dLNrXFE0MysWB8V6clA0M7OMpKMkPQk8Q3rk00LgZzXsugAYIGmfsnWTgMqJbEqzi8+MiF0iYiLpuv5wRT+GkIa9XrtNJ1InriiamRWLg2I9OSiamdlm5wNvBRZExJ7Au4Bfb22niFgN3AqcJ2mopIOBo4Ethq1K2lvSGEn9JR0BzAK+VtHsA8AK2j+vuMe5omhmViw1BcXsQjQoez9V0unlz4ayjIOimZlttj4ilpFmP+0XEXNJj7qoxWnAENK9jTcCp0bEfElTJJUPH30z8AfSsNQLgJlVHqFxAnBdRER3Tqa7WltdUTQzK5JaZz29BZic3Sh/JWma7jnAkY3qWCE5KJqZ2WYrJA0DHgBukPQSsKGWHSNiOTC9yvoHKXs2YkTcTLoHsrNjHd6VTjdKW5srimZmRVLr0NNNEbGBNHzl2xExG9i1cd0qqObmdCU0MzNLw0Vbgdmk2UmfIj33sE9yRdHMrFhqrSiul/Qx0vCV0kWuqTFdKrDmZnjuubx7YWZmOZPUH7g9Ig4FNpHzRDK9gSuKZmbFUmtF8STgbcC/RcQzkvYEfti4bhWUh56amRkQERuBVkk75N2X3sIVRTOzYqmpohgRfyQ9qwlJo4DhEfGNRnaskBwUzcxsszXAHyT9HFhdWhkRp+fXpXxEuKJoZlY0NQVFSfcDR2XtHwOWSvpVRHy2gX0rniFDHBTNzKzkrmzp89asSa+uKJqZFUet9yjuEBGvSvoEcHVEnCvp943sWCG5omhmZpmI6PP3JZaU5nlzRdHMrDhqDYoDJO0KHAP8awP7U2zNzbB+fVqaPNePmVlfJukZYItnF0bEXjl0J1el31BdUTQzK45ag+J5wL3AryPid5L2Ap5sXLcKqvRTaVubg6KZmU0uez8Y+DAwOqe+5MoVRTOz4ql1MpsfAz8u+/w0MKNRnSqs0hWwtRVGjMi3L2ZmlquIWFax6tuSHgK+nEd/8lSqKDoompkVR62T2ewO/AdwMGkYzUPAGRGxuIF9K57yoGhmZn2apDeVfexHqjAOz6k7uSpVFD301MysOGodeno1MIc0bAbguGzduxvRqcJyUDQzs82+VfZ+A/AM6V7/PscVRTOz4qk1KI6NiKvLPl8j6TON6FChOSiamVkmIqbl3YfewhVFM7Pi6Vdju5clHSepf7YcB1Tee7EFSaMl3SZptaRFko7toN00SXMlrZS0sMr2Cdn2Vkl/knRoxfbZkl7I9r9K0qAaz6u+HBTNzCwj6euSRpZ9HiXpa3n2KS+uKJqZFU+tQfFk0nCZF4DngQ8BJ9Ww36XAOmBnYCZwmaSJVdqtBq4CzuzgODcC/x8whvR4jp9IGgsg6XDgbOBdwARgL+CrtZxU3ZXPempmZn3dERGxovQhIl4BjsyxP7lxRdHMrHhqCooR8deIOCoixkbEThExHfhgZ/tIGkqaGfWciGiJiIeAO4Djqxz/4Yi4Hni6ynH2Bd4EnBsRbRFxC/AHNs+6egJwZUTMzy7C5wMn1nJedeeKopmZbda/fISLpCFAPiNecuaKoplZ8dRaUazms1vZvi+wMSIWlK2bB1SrKHZmIvB0RKzq4DgTs8/l23aWNKbyQJJmSXpE0iNLly7tYjdq4KBoZmab/RD4H0mnSDoZ+Dlwbc59yoUrimZmxVPrZDbVaCvbhwErK9atpOtTg3d0nN062F56P5yK+ygj4nLgcoDJkydHF/uxdaUroIOimVmfFxEXSvo9cCjpmnl+RNybc7dy4YqimVnxdCcobi1otQCVT50fAayq0rY7x6ncXnrf1e/pPlcUzcwsI2lP4P6IuCf7PETShIhYmG/Pel5bG/TrB01NeffEzMxq1enQU0mrJL1aZVkFjNvKsRcAAyTtU7ZuEjC/i32cD+wlqbwSWX6c+dnn8m0vRsRWZ2WtOwdFMzPb7MfAprLPG7N1fU5ra7pEamtjkczMrNfoNChGxPCIGFFlGR4RnVYjI2I1cCtwnqShkg4Gjgaur2wrqZ+kwUBT+qjBkgZmx1kAPAacm63/AHAAcEu2+3XAKZLeIGkU8CXgmi78DeqnqQn693dQNDMzgAERsa70IXs/MMf+5KatzfcnmpkVTXcms6nFacAQ4CXSIy5OjYj5kqZIailr9w6gDbgbGJ+9v69s+0eBycArwDeAD0XEUoBsSM+FwFxgUbac28iT6pCUfjJ1UDQzM1gq6ajSB0lHAy/n2J/clCqKZmZWHN25R3GrImI5ML3K+gdJk9CUPt9PJ5PjZPdzTO1k+8XAxdve0zpyUDQzs+SfgBskfS/7vBj4eI79yY0rimZmxdPQoNgnOSiamRkQEU8Bb5U0DFDFY576FFcUzcyKp9FDT/seB0UzMwMkfV3SyIhoiYhVkkZJ+lre/cqDK4pmZsXjoFhvDopmZpYcERErSh8i4hXgyBz7kxtXFM3MisdBsd6am9NPp2Zm1tf1lzSo9EHSEGBQJ+23W64ompkVj+9RrLfmZni5T05qZ2Zm7f0Q+B9JV2efTwKuzbE/uXFF0cyseBwU681DT83MDIiICyX9HjiUNLP3PcBr8u1VPlxRNDMrHg89rTcHRTMz2+wFYBMwA3gX8ES+3cmHK4pmZsXjimK9DRnioGhm1odJ2hf4KPAxYBnwI9LjMabl2rEcuaJoZlY8rijWmyuKZmZ93Z9I1cP3R8TbI+I/gI1dOYCk0ZJuk7Ra0iJJx3bQbqSkayW9lC1fqdLmDEnPZMd6IguyPSYiBUVXFM3MisUVxXorBcUIkPLujZmZ9bwZpIriXEn3ADeR7lHsikuBdcDOwIHAXZLmRcT8inaXAM3ABGAn0uQ5iyLiagBJnwBOAd5LGva6F/DKtpzUtlqzJr26omhmViyuKNZbczNs3Ajr1+fdEzMzy0FE3BYRHwFeD9wPzAZ2lnSZpMO2tr+koaSweU5EtETEQ8AdwPFVmr8fuDAiWiNiIXAlcHJ2nH7AucDsiPhjJE9FxPLun2XtSoNsXFE0MysWB8V6K10JPfzUzKxPi4jVEXFDRLwP2B14DDi7hl33BTZGxIKydfOAiR20V8X7/bP3u2fL/pKezYaffjULkD2mdDl0RdHMrFgcFOvNQdHMzCpExPKI+EFEHFJD82HAyop1K4HhVdreA5wtabik15KqiaXa3e7Z62HA3wHTSBPsnFLtSyXNkvSIpEeWLl1aQzdr09aWXl1RNDMrFgfFenNQNDOz7mkBRlSsGwGsqtL2dKANeBK4HbgRWJxtyyIaF0bEimxo6g+AI6t9aURcHhGTI2Ly2LFju3cGZVxRNDMrJgfFenNQNDOz7lkADJC0T9m6SUDlRDalSuXMiNglIiaSrusPZ5v/TJoQJxrd4c64omhmVkwOivXmoGhmZt0QEauBW4HzJA2VdDBwNHB9ZVtJe0saI6m/pCOAWcDXsuO0kp7h+IVsaOruwD8C/91T5wKuKJqZFZWDYr2VgmLpJ1QzM7OuOw0YArxEGk56akTMlzRFUktZuzcDfyANS70AmFnxCI1PkYayPgf8FpgDXNUD/f8bVxTNzIrJz1GsN1cUzcysm7JHWEyvsv5B0mQ3pc83Azd3cpxXSc90zI0rimZmxeSKYr05KJqZmf2NK4pmZsXkoFhvpZ9MHRTNzMz+djl0UDQzKxYHxXpzRdHMzOxvShVFDz01MyuWhgZFSaMl3SZptaRFko7toJ0kfVPSsmy5UJKybVMktVQsIWlGtv1ESRsrtk9t5Hl1ykHRzMzsb1xRNDMrpkZPZnMp6RlOOwMHAndJmlcxIxuk6bynk54TFcDPgaeB71feuJ+FwDuBe8r2/21EvL1RJ9ElHnpqZmb2N21t0L8/NDXl3RMzM+uKhlUUJQ0FZgDnRERLRDwE3AEcX6X5CcC3ImJxRCwBvgWc2MGhTwB+kj1nqvdpakqLg6KZmRmtra4mmpkVUSOHnu4LbIyIBWXr5gETq7SdmG3rtJ2kZuBDwLUVm94o6WVJCySdIynfx340NzsompmZkSqKvj/RzKx4GhmohgErK9atBIbX0HYlMEySIiLK1s8AXgZ+VbbuAWB/YBEpXP4I2EB68HA7kmaRhrkyfvz4rpxL1zgompmZAa4ompkVVSMrii3AiIp1I4BVNbQdAbRUhERIw06vK18fEU9HxDMRsSki/gCcR6o6biEiLo+IyRExeezYsV08nS5wUDQzMwNcUTQzK6pGBsUFwABJ+5StmwRUTmRDtm5SZ+0k7QFMBa7byvcGoK52tq4cFM3MzABXFM3MiqphQTGbbOZW4DxJQyUdDBwNXF+l+XXAZyXtJmkc8Dngmoo2xwO/iYinyldKOkLSztn71wPnALfX9WS6ykHRzMwMcEXRzKyoGvocReA0YAjwEnAjcGpEzC89G7Gs3Q9Ij7z4A/A4cFe2rtzH2XISG4B3Ab+XtBq4mxROv17Xs+iq5ubNTxg2MzPrw1xRNDMrpobODhoRy0nPR6xc3+7ZiNk9h1/Ilo6O9foO1n8e+Hy3O1tPzc3wwgt598LMzCx3bW2wyy5598LMzLqq0RXFvslDT83MzABXFM3MispBsRGGDHFQNDMzw/compkVlYNiI7iiaGZmBriiaGZWVA6KjeCgaGZmBriiaGZWVA6KjVAKihF598TMzCw3mzbBmjWuKJqZFZGDYiM0N6eQuHZt3j0xMzPLzZo16dUVRTOz4nFQbITST6cefmpmZn1Y6TLoiqKZWfE4KDaCg6KZmRltbenVFUUzs+JxUGwEB0UzMzNXFM3MCsxBsREcFM3MzFxRNDMrMAfFRigFxdIV0szMrA9yRdHMrLgcFBvBFUUzMzNXFM3MCsxBsRFGjkyvzz6bbz/MzMxy5IqimVlxOSg2wsSJsPvucNtteffEzMwsN64ompkVl4NiI/TrBx/+MNxzD6xcmXdvzMzMcuGKoplZcTkoNsqHPwzr1sEdd+TdEzMzs1yUgqIrimZmxeOg2ChveQvssQfcfHPePTEzM8tFaeipK4pmZsXjoNgopeGn994LK1bk3RszMysQSaMl3SZptaRFko7toN1ISddKeilbvlKxfaGkNkkt2XJfj5xAxhVFM7PiclBspGOOgfXr4fbb8+6JmZkVy6XAOmBnYCZwmaSJVdpdAjQDE4B/AI6XdFJFm/dHxLBsOayBfd5CWxsMGABNTT35rWZmVg8Oio30D/8A48fDj3+cd0/MzKwgJA0FZgDnRERLRDwE3AEcX6X5+4ELI6I1IhYCVwIn91hnt6K11dVEM7OiclBsJClVFe+7D155Je/emJlZMewLbIyIBWXr5gHVKooAqni/f8X2GyQtlXSfpEl17OdWtbX5/kQzs6JqaFDswj0WkvRNScuy5UJJKtse2TFK91hcUeu+ufPwUzMz65phQOWzlVYCw6u0vQc4W9JwSa8lVRPLo9lM0rDU1wBzgXsljaz2pZJmSXpE0iNLly7t5ikkra0OimZmRdXoimKt91jMAqYDk4ADgPcBn6xoM6nsHotPdHHf/EyeDBMmePZTMzOrVQswomLdCGBVlbanA23Ak8DtwI3A4tLGiPh1RLRlQ1MvAFYAU6p9aURcHhGTI2Ly2LFj63AaqaLooadmZsXUsKDYxXssTgC+FRGLI2IJ8C3gxBq/qjv7Nl5p+OnPfw7Ll+fdGzMz6/0WAAMk7VO2bhIwv7JhRCyPiJkRsUtETCRd1x/u5NhB+6GqDeWKoplZcTWyotiVeywmZts6a/eApBck3SppQhf3zdcxx8CGDfDTn+bdEzMz6+UiYjVwK3CepKGSDgaOBq6vbCtpb0ljJPWXdARplM3Xsm3jJR0saaCkwZLOBHYEft1T5+KKoplZcTUyKHblHovKtiuBYWX3Gr6TdI/F64HngP+WNKDGff+mEfdf1ORNb4K99vLwUzMzq9VpwBDgJdJw0lMjYr6kKZJaytq9GfgDaVjqBcDMiChVHocDlwGvAEuA9wBHRMSyHjoHVxTNzApswNabbLOu3GNR2XYE0BIRARARD2Tr10k6A3gV2I90cex033IRcTlwOcDkyZO32N4wpeGnF10Ey5bBmDE99tVmZlY8EbGcdP995foHST+Qlj7fDFT9FTILjAc0qo+1aGuDcePy7IGZmW2rRlYUa77HIls3qYZ2JeX3WHR133x8+MOwcSPcdlvePTEzM+sRriiamRVXw4JiV+6xAK4DPitpN0njgM8B1wBImijpwOz+i2GkyWqWAE9sbd9e5Y1vhL339vBTMzPrM3yPoplZcTX68Ri13mPxA+BO0lDSx4G7snWQHq3xI9Jw06dJ9yq+LyLW17Bv71EafvrLX0JP3h9pZmaWE1cUzcyKq6FBMZu2e3pEDI2I8RExJ1v/YESU32MREfGFiBidLV8ouz/xlxHxuuwYO2XHe7KWfXudY47x8FMzM+szXFE0MyuuRlcUrdykSbDPPh5+amZm272NG2HtWlcUzcyKykGxJ5WGn86d6+GnZma2XVuzJr26omhmVkwOij3tIx+BTZvg+9/PuydmZmYN09qaXl1RNDMrJgfFnvZ3fwczZsA3vgGLF+fdGzMzs4Zoa0uvriiamRWTg2IeLroo3bxx1ll598TMzKwhXFE0Mys2B8U87LknnHkmzJkDv/513r0xMzOrO1cUzcyKzUExL2efDbvtBmecke5ZNDMz2464omhmVmwOinkZOhQuvBAefRSuuSbv3piZmdWVK4pmZsXmoJinj30MDjoIvvhFWLky796YmZnVjSuKZmbF5qCYJwm++930TMWvfS3v3piZmdWNK4pmZsXmoJi3N78ZTjoJvvMdWLAg796YmZnVhSuKZmbF5qDYG/zbv8HgwfDZz+bdEzMzs7pwRdHMrNgcFHuDXXaBL38Z7roLfvazvHtjZmbWba4ompkVm4Nib3H66bDPPjB7Nqxbl3dvzMzMusUVRTOzYnNQ7C0GDoRLLoE//xm+9KW8e2NmZtYtra3Q1AQDBuTdEzMz2xYOir3JkUfCP/0TXHQR/Md/5N0bMzOzbdbW5mqimVmR+Xe+3kSC730Pnn8ezjgDxo2DGTPy7pWZmVmXtbb6/kQzsyJzRbG36d8f5syBt74VZs6EBx/Mu0dmZmZd5oqimVmxOSj2Rs3NcOedMGECHHUU/PGPeffIzMysS1xRNDMrNgfF3mrMGLjnnvR8xfe8B5YsybtHZmZmNWttdUXRzKzIHBR7swkT0nMVV6yAI46AlSvz7pGZmVlN2tpcUTQzK7KGBkVJoyXdJmm1pEWSju2gnSR9U9KybLlQkrJt+0q6XdJSScsl3SvpdWX7nihpo6SWsmVqI8+rRx14INx6KzzxBEyfDmvX5t0jMzOzrXJF0cys2BpdUbwUWAfsDMwELpM0sUq7WcB0YBJwAPA+4JPZtpHAHcDrsuM8DNxesf9vI2JY2XJ/vU8kV4ceCtdcA/ffDwccADfdBJs25d0rMzOzDrmiaGZWbA0LipKGAjOAcyKiJSIe4v9v797Dq6ru/I+/v7mB5AKEINUGjVpvBRFqdLwMI/WG+CsIPx0rRqvOKF4eW9upVmzFRxnqOHgpU+u9tijacZSpaEUdbEt1dLwMzCAatKD9gQYFw51cCeH7+2PtQ84J55AEcnIS8nk9z3r2PvuWdb6Es/I9a+21Q8J3SZLDLwXucfcqd18N3ANcBuDu77r7Y+6+wd2bgJ8BR5rZoHTVvVuqqID58yEvDyZPhlGjwoQ37pmumYiIyC40mY2ISM+Wzh7FI4Bmd18et+09IFmP4rBoX1vHAfwNsMbd18dtG2Vm68xsuZlNM7N98/mQ55wD770XHp9RVxdmRD3pJPjDHzJdMxERkQR6PIaISM+WzkSxAGg9+8pmoLAdx24GCmL3KcaYWSlhOOs/xG1+HRgO7E/owZwM3JisQmY2xcwWmdmi6urqDryVbiQrK/QoLlsGjz4aZkM94ww47TRYuFA9jCIi0i2oR1FEpGdLZ6JYAxS12lYEbG3HsUVAjXtL1mNmg4EFwAPu/q+x7e7+F3f/f+6+w93fB6YD5yerkLs/4u7l7l4+ePDgPXpT3UZuLlxxBaxYAbNmQWVlSBa/8Q144gnYti3TNRQRkT3UgcngBpjZ42b2ZVRuS3HcqWbmZjYjrRWPox5FEZGeLZ2J4nIgx8wOj9t2LFCZ5NjKaF/S48xsICFJfMHdf9rGz3XA2jhm39G3L1x/PaxcCY88EhLESy+Fgw+GGTNg3bpM11BERDquvZPB/QzoB5QBJwCXmNnl8QeYWS7wL8A76axwvObm0BypR1FEpOdKW6Lo7rXAb4HpZpZvZqcA5wJzkhz+BPAPZvZVMzsQ+CEwG8DMioD/AN5096mtTzSzcWY2JFo/CpjGrrOi7vv22w+uvBI++ABeeQWOPRamTYOhQ2HKFFiwANas0dBUEZFuroOTwY0HZrp7nbuvBB4D/q7VMT8kfNn6Ufpqnai+PizVoygi0nOle9KXa4FfAV8C64Fr3L3SzEYDL7t7QXTcw8ChwPvR619G2wAmAccDw8zssrhrf93dPwVOB2abWQGwFngSuCN9b6mbM4OxY0NZtiwMS50zJ9zPCFBSEh6xccwxoYwYEUqfPpmtt4iIxKSaDO7UFMdbq/XhO1+YHUxIHL8B/GJ3P9TMphAeV8VBBx3U8VrHqasLS/Uoioj0XGlNFN19A+H5iK23/ydhApvYawd+FJXWxz4OPL6bn3EDcENn1Hef8/Wvh+GoM2fCkiWwdCm8/35YPvpoS0teUBASywkTwsyqJSWZrbeISO/WkcngXgGmmtmlhGGqf0cYihrzc6KeyVbzw+3C3R8BHgEoLy/fq+En6lEUEen59s3HSEiiAQNgzJhQYnbsgL/8JTxu49VXwzMZ//3fw6yqJ58MMlmVLQAAFblJREFU48eHxPHII0MvpYiIdJWOTAb3PeA+YAVh5M6/Emb/xszGA4Xu/m/pq2py6lEUEen50jmZjXRnWVnwta/BeefBQw9BVRUsWgS33AK1tXDTTXD00WFSnL/9W7jnHnjzzZaviUVEJF3aPRmcu29w9wp3/4q7DyO06+9Gu08Hys1sjZmtAb4NfN/M0n4fv3oURUR6PvUoSmAGxx0Xyu23w2efwYsvwuuvw9tvw9y54bicnDBRzoknht7GoiIoLGxZxtZLSsKMrCIi0iHuXmtmscngrgBGEiaDO7n1sWZ2GLApKmcR7jGM3cs4Dbgz7vB/AT4H/jF9tQ/Uoygi0vMpUZTkhg6Fa64JBWDtWnjnnZA0vv02zJ4deh5TycqCww6DYcMSy5FHauIcEZG2tXcyuOOAWcAAQk9khbtXArj7VuKGq5pZPVAbzR+QVupRFBHp+ZQoSvsMGRLuWZwwIbxuboYNG2DrVtiyJSxj61u2hKGsy5ZBZWW4/7G5OZyXnQ2lpVBcHO6dHDgwlNj6kCFwxBFw1FEweLDujxSRXqkDk8E9AzzTzmte1ln1a4t6FEVEej4lirJnsrNDIjd4cNvHNjbC8uUhaayshFWrYONG2LQJ/vznsL5x4673Pw4YEBLGI48M5dBDoX//xOGusfXsbKipCdfZsKHlmhs3wvbtcPzx4TEgOfqVFxFJN/UoivReTU1NVFVV0dDQkOmqSJy+fftSWlpKbm5uu8/RX82Sfn36tDy3cXcaG+GLL0Ly+NFHLctXX4XHUz4hJcjKCjO57k5BAZx0Evz1X4fyV38F+fkdey8iItIm9SiK9F5VVVUUFhZSVlZGW4/lka7h7qxfv56qqioOOeSQdp+nRFG6jz59oKwslLFjE/dt2QKffpo41DU2zHXr1pBkxg9ljS/u4b7KN94I5bbbwrbsbBg+HAYNCr2SBQW7LvPzw186+fktJf51bD0vT8NkRUQi6lEU6b0aGhqUJHYzZsagQYOorq7u0HlKFKVnKCoKSd2eKiuDCy8M65s3w1tvhaTxf/4nJJvr1oWhqzU1IfHs6GNAsrISE8eBA8PMr4MGJZbi4nBsU1Mo27e3LLdvD0Nj+/QJM8b26ZO4np+fOLtsbMitiEg3ox5Fkd5NSWL3syf/JkoUpffp3x/OPjuUVJqbQ9JYVxdmd62tTVyPf916GbtXcv16WLEiLDdvTs976dcvJIz5+eGr+379wjJ+ffDgMIvtQQe1lCFDQsKaintY6oNeRPaAehRFJFM2bdrEb37zG6699to9On/WrFlMmTKFfvqmS4miSFLZ2SGh7N+/c67X1NSSPJpBbm7oPYxfZmeHXsXGxlAaGlqWDQ0hCY3NLtt6ttm6ulDq60PZuBE+/zxsW7s2JK/xcnPD7LP9+rX8vPif2dgYhtMOHhx6RpMthwyB/fdvKf37p04sd+xoeR/19S3r8dvMwjUPOCD0vCpJFemx6urCR4gGPYhIV9u0aRMPPPDAXiWKF198cUYTxe3bt5PTDSZgzHwNRHqD3NyWhKqruYcezU8/hc8+C8tYqa9PHN4aP+R12zaorg5l3TpYuTKsp+odzcsL7y8/f9ekcNu2jtU5Lw++8pWQNB5wQEhMY0l165KX13JfabIS61nt10+z3op0kfp69SaKSGZMnTqVTz75hJEjR3LmmWdy1113cdddd/HMM8/Q2NjIpEmTuP3226mtreWCCy6gqqqK5uZmpk2bxtq1a/n888/55je/SUlJCQsXLky49vTp0/nd735HfX09J598Mg8//DBmxscff8zVV19NdXU12dnZPPvssxx22GHMnDmTOXPmkJWVxbhx47jzzjsZM2YMd999N+Xl5axbt47y8nJWrlzJ7NmzmT9/Pg0NDdTW1vLCCy9w7rnnsnHjRpqampgxYwbnnnsuAE888QR33303ZsaIESN44IEHGDFiBMuXLyc3N5ctW7YwYsQIVqxY0aFZTlvTX00i+zqzMNHPgAHhESF7a9u2kDhWV4feyi+/TCy1teEvxL59Q4lfj3/devuOHbBmTZj5Nr6sWBEmI4rdx9m6dEROTuKw3Nh9pbF7S2Pr/fq1DM2N79k0CyUvL7Hu8Ql2rPe3piZxWVcX7l0tLQ3lq19tWS8s3Pt/F5FupK5O9yeKCHz/+7BkSedec+RImDUr9f4777yTDz74gCXRD16wYAErVqzg3Xffxd2ZMGECr7/+OtXV1Rx44IHMnz8fgM2bN9O/f3/uvfdeFi5cSElJyS7Xvu6667j11lsBuOSSS3jxxRcZP348FRUVTJ06lUmTJtHQ0MCOHTt4+eWXmTdvHu+88w79+vVjw4YNbb63t956i6VLl1JcXMz27dt57rnnKCoqYt26dZx44olMmDCBZcuW8dOf/pQ333yTkpISNmzYQGFhIWPGjGH+/PlMnDiRp59+mvPOO2+vkkRQoigiHZWXBwceGEp30NTUMglR/HDcWKmvTxyWG1uPDdeN3VsaS3Jj29xb7tWElvUdO0Ky3NDQ9iNZYr2dsSR0w4aQYLcW6/mElmQ0fr1Pn12T2dh67J7U+AQ8tr5jx64Ja2y9uTlcNy9v15KTE8YMZmUlLrOzd9+DO3BgmHCpo8OGm5s1RnEfox5FEekuFixYwIIFCxg1ahQANTU1rFixgtGjR3PDDTdw00038a1vfYvRo0e3ea2FCxcyc+ZM6urq2LBhA8OGDWPMmDGsXr2aSZMmAeF5hQC///3vufzyy3cOYS0uLm7z+meeeebO49ydH//4x7z++utkZWWxevVq1q5dyx//+EfOP//8nYls7PgrrriCmTNnMnHiRH7961/z6KOPdjBSu1KiKCI9W25uy6NQutr27Yn3WjY2hgQt9viUZN/kNTSE+0erqmD16rCsqgrnxiensXX3sC8+sV2zpiXpiw3vra8PCVcqOTkhwYslrtnZIeFNVpqaEpPkjigoCL2kQ4cmLgsLQ70//zyU1atb1mtqQlZRVNQys29svagI7r03DD+WHkM9iiICu+/56yruzs0338xVV121y77Fixfz0ksvcfPNN3PWWWft7C1MpqGhgWuvvZZFixYxdOhQbrvtNhoaGvAU7aW7J51pNCcnhx3RF80NDQ0J+/Ljnu/91FNPUV1dzeLFi8nNzaWsrGznz0t23VNOOYWVK1fy2muv0dzczPC9eVpArK57fQURkd4qPvlqr7594dBDQ+lsTU0tPaf19SEZzM8P9cvL69i13EOPZHNz4rKxsaW3NtaTGyvr17ckvp99BpWVYfhwfCPap09Lj/Sxx8K4cWFYdG3trs9IXbUqLPc0aZWMUY+iiGRKYWEhW7du3fl67NixTJs2jYqKCgoKCli9ejW5ubls376d4uJiLr74YgoKCpg9e3bC+a2HnsaSupKSEmpqapg7dy7nn38+RUVFlJaWMm/ePCZOnEhjYyPNzc2cddZZTJ8+nYsuumjn0NPi4mLKyspYvHgxJ5xwAnPnzk35PjZv3sz+++9Pbm4uCxcuZNWqVQCcfvrpTJo0iR/84AcMGjRo53UBvvOd7zB58mSmTZvWKbFUoigisq/IzQ2lqGjvr2XWMtw0XmFhmPm2vZqaQrK4dWuYmGjgQM1o2wvcf3/4TkFEpKsNGjSIU045heHDhzNu3DjuuusuPvzwQ0466SQACgoKePLJJ/n444+58cYbycrKIjc3lwcffBCAKVOmMG7cOA444ICEyWwGDBjAlVdeyTHHHENZWRnHH3/8zn1z5szhqquu4tZbbyU3N5dnn32Ws88+myVLllBeXk5eXh7nnHMOd9xxBzfccAMXXHABc+bM4bTTTkv5PioqKhg/fjzl5eWMHDmSo446CoBhw4bxk5/8hFNPPZXs7GxGjRq1M8mtqKjglltuYfLkyZ0SS0vVXbqvKy8v90WLFmW6GiIi0gXMbLG7l2e6Hj2F2kgR2VMffvghRx99dKar0SvNnTuX559/njlz5iTdn+zfZnfto3oURUREREREerDvfve7vPzyy7z00kuddk0liiIiIiIiIj3Yfffd1+nXzOr0K4qIiIiIiEiPltZE0cyKzew5M6s1s1VmdlGK48zM/tnM1kdlpsXN+2pmI81ssZnVRcuR7T1XRERERES6Tm+dA6U725N/k3T3KN4PbAOGABXAg2Y2LMlxU4CJwLHACOBbwFUAZpYHPA88CQwEHgeej7bv9lwREREREek6ffv2Zf369UoWuxF3Z/369fTt27dD56XtHkUzywfOA4a7ew3whpm9AFwCTG11+KXAPe5eFZ17D3Al8BAwJqrnLA+/cT83sxuA04BX2jhXRERERES6SGlpKVVVVVRXV2e6KhKnb9++lJaWduicdE5mcwTQ7O7L47a9B5ya5Nhh0b7444bF7VvqiV9LLI22v9LGuSIiIiIi0kVyc3M55JBDMl0N6QTpHHpaAGxutW0zUNiOYzcDBdG9hm1dZ3fnJjCzKWa2yMwW6VsOERERERGR5NKZKNYARa22FQFb23FsEVAT9SK2dZ3dnZvA3R9x93J3Lx88eHC734iIiIiIiEhvks5EcTmQY2aHx207FqhMcmxltC/ZcZXAiFY9hCNa7U91roiIiIiIiHSQpXNGIjN7GnDgCmAk8BJwsrtXtjruauB64Izo+FeB+9z9oWh20xXAvYQJaq4EbgQOd/dtuzu3jbpVA6v28i2WAOv28hr7KsUmNcUmOcUlNcUmuY7E5WB311CSdlIbmXaKTXKKS2qKTXKKS2rtjU3K9jGdk9kAXAv8CvgSWA9c4+6VZjYaeNndC6LjHgYOBd6PXv8y2kaUDE6Mtt0JfAhMdPdtbZ27O53xB4OZLXL38r29zr5IsUlNsUlOcUlNsUlOcUkftZHppdgkp7ikptgkp7ik1hmxSWui6O4bCM84bL39PwmT0MReO/CjqCS7zv8Cx6XYt9tzRUREREREpGPSeY+iiIiIiIiI9EBKFPfOI5muQDem2KSm2CSnuKSm2CSnuHRv+vdJTbFJTnFJTbFJTnFJba9jk9bJbERERERERKTnUY+iiIiIiIiIJFCiKCIiIiIiIgmUKO4BMys2s+fMrNbMVpnZRZmuU6aY2XVmtsjMGs1sdqt9p5vZR2ZWZ2YLzezgDFWzy5lZHzN7LPr92Gpm/2tm4+L299rYAJjZk2b2hZltMbPlZnZF3L5eHRsAMzvczBrM7Mm4bRdFv0+1ZjbPzIozWceuZmZ/imJSE5U/x+3r1bHpbtRGBmofU1MbmZrax91T+7irdLaPShT3zP3ANmAIUAE8aGbDMluljPkcmEF4XuZOZlYC/BaYBhQDi4B/6/LaZU4O8BlwKtCfEIdnzKxMsQHgn4Aydy8CJgAzzOw4xWan+4H/jr2IPl8eBi4hfO7UAQ9kpmoZdZ27F0TlSFBsuim1kYHax9TURqam9nH31D4ml5b2UZPZdJCZ5QMbgeHuvjzaNgdY7e5TM1q5DDKzGUCpu18WvZ4CXObuJ0ev84F1wCh3/yhjFc0gM1sK3A4MQrHZycyOBP4EXA8MoJfHxswuBP4vsAz4mrtfbGZ3EP5wuCg65jDgQ2CQu2/NXG27jpn9CXjS3X/Zanuvj013ojZyV2of20dt5K7UPiZS+5hcOttH9Sh23BFAc6wBjLwH9MZvS3dnGCEuALh7LfAJvTROZjaE8LtTiWIDgJk9YGZ1wEfAF8BL9PLYmFkRMB34YatdrePyCaHH5oiuq1238E9mts7M3jSzMdE2xaZ7URvZtl79OZeM2shEah93pfaxTWlpH5UodlwBsLnVts1AYQbq0p0pThEzywWeAh6PvvVTbAB3v5bwnkcThtM0otj8I/CYu3/WantvjwvATcChwFcJz4b6XfTtqGLTvejfo22KURy1kbtS+5iU2sfU0tY+KlHsuBqgqNW2IqBXdG93gOIEmFkWMIfwDc510WbFJuLuze7+BlAKXEMvjo2ZjQTOAH6WZHevjUuMu7/j7lvdvdHdHwfeBM5Bselu9O/RNsUoojYyNbWPLdQ+7l4628eczqtmr7EcyDGzw919RbTtWMJwCWlRCVwaexGNpT+MXhQnMzPgMcINxOe4e1O0q9fHJokcWmLQW2MzBigDPg2/OhQA2Wb2deAVwucMAGZ2KNCH8HnUWzlghN8Nxab7UBvZtt78ObeT2sh2U/uo9rGjOq19VI9iB0Vjwn8LTDezfDM7BTiX8I1Yr2NmOWbWF8gm/Kfta2Y5wHPAcDM7L9p/K7C0t9xwHXkQOBoY7+71cdt7dWzMbH8zu9DMCsws28zGApOBP9K7Y/MIodEfGZWHgPnAWMKwrPFmNjr642A68NtedKP+ADMbG/t8MbMK4G+A/6CXx6a7URvZQu1jm9RGtqL2MSW1jymkvX10d5UOFsK0xPOAWuBT4KJM1ymDsbiN8M1FfLkt2ncG4UbsesKsXWWZrm8XxuXgKBYNhK7/WKlQbBgMvAZsArYA7wNXxu3vtbFpFafbCLOYxV5fFH3e1ALPA8WZrmMX/878N2G4zCbgbeBMxaZ7FrWRO+Og9jF1bNRGJo+L2sf2xUntY+LvTNraRz0eQ0RERERERBJo6KmIiIiIiIgkUKIoIiIiIiIiCZQoioiIiIiISAIliiIiIiIiIpJAiaKIiIiIiIgkUKIoIiIiIiIiCZQoivQgZtZsZkviytROvHaZmX3QWdcTERHpKmofRTpfTqYrICIdUu/uIzNdCRERkW5G7aNIJ1OPosg+wMxWmtk/m9m7UflatP1gM/uDmS2NlgdF24eY2XNm9l5UTo4ulW1mj5pZpZktMLP9ouO/Z2bLous8naG3KSIi0iFqH0X2nBJFkZ5lv1ZDa74dt2+Lu58A/AKYFW37BfCEu48AngJ+Hm3/OfCaux8LfAOojLYfDtzv7sOATcB50fapwKjoOlen682JiIjsIbWPIp3M3D3TdRCRdjKzGncvSLJ9JXCau//FzHKBNe4+yMzWAQe4e1O0/Qt3LzGzaqDU3RvjrlEGvOruh0evbwJy3X2Gmb0C1ADzgHnuXpPmtyoiItJuah9FOp96FEX2HZ5iPdUxyTTGrTfTch/z/wHuB44DFpuZ7m8WEZGeQu2jyB5Qoiiy7/h23PKtaP2/gAuj9QrgjWj9D8A1AGaWbWZFqS5qZlnAUHdfCPwIGADs8q2tiIhIN6X2UWQP6FsPkZ5lPzNbEvf6FXePTQHex8zeIXwBNDna9j3gV2Z2I1ANXB5tvx54xMz+nvDN6DXAFyl+ZjbwpJn1Bwz4mbtv6rR3JCIisvfUPop0Mt2jKLIPiO7BKHf3dZmui4iISHeh9lFkz2noqYiIiIiIiCRQj6KIiIiIiIgkUI+iiIiIiIiIJFCiKCIiIiIiIgmUKIqIiIiIiEgCJYoiIiIiIiKSQImiiIiIiIiIJFCiKCIiIiIiIgn+P+vc1+TzNG0lAAAAAElFTkSuQmCC\n",
      "text/plain": [
       "<Figure size 1080x360 with 2 Axes>"
      ]
     },
     "metadata": {
      "needs_background": "light"
     },
     "output_type": "display_data"
    }
   ],
   "source": [
    "fig = plt.figure(figsize=(15, 5))\n",
    "\n",
    "plt.subplot(1, 2, 1)\n",
    "plt.title('Loss')\n",
    "plt.xlabel('Epochs')\n",
    "plt.ylabel('Loss')\n",
    "plt.plot(epochs, loss, c='red', label='test loss')\n",
    "plt.legend(loc='best')\n",
    "\n",
    "plt.subplot(1, 2, 2)\n",
    "plt.title('Accuracy')\n",
    "plt.xlabel('Epochs')\n",
    "plt.ylabel('Acccuracy')\n",
    "plt.plot(epochs, acc , c='blue', label = 'test accuracy')\n",
    "plt.legend(loc='best')\n",
    "\n"
   ]
  },
  {
   "cell_type": "markdown",
   "metadata": {},
   "source": [
    "## Save model"
   ]
  },
  {
   "cell_type": "code",
   "execution_count": 138,
   "metadata": {},
   "outputs": [],
   "source": [
    "from keras.models import load_model"
   ]
  },
  {
   "cell_type": "code",
   "execution_count": 139,
   "metadata": {},
   "outputs": [],
   "source": [
    "model.save('final_model.h5') "
   ]
  },
  {
   "cell_type": "code",
   "execution_count": null,
   "metadata": {},
   "outputs": [],
   "source": []
  },
  {
   "cell_type": "code",
   "execution_count": null,
   "metadata": {},
   "outputs": [],
   "source": []
  }
 ],
 "metadata": {
  "kernelspec": {
   "display_name": "Python 3",
   "language": "python",
   "name": "python3"
  },
  "language_info": {
   "codemirror_mode": {
    "name": "ipython",
    "version": 3
   },
   "file_extension": ".py",
   "mimetype": "text/x-python",
   "name": "python",
   "nbconvert_exporter": "python",
   "pygments_lexer": "ipython3",
   "version": "3.7.4"
  }
 },
 "nbformat": 4,
 "nbformat_minor": 2
}
