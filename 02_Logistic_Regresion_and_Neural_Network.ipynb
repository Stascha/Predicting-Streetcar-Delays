{
 "cells": [
  {
   "cell_type": "markdown",
   "metadata": {},
   "source": [
    "# Logistic regression"
   ]
  },
  {
   "cell_type": "code",
   "execution_count": 52,
   "metadata": {},
   "outputs": [],
   "source": [
    "import numpy as np \n",
    "import pandas as pd \n",
    "import matplotlib \n",
    "import matplotlib.pyplot as plt\n",
    "import datetime as dt\n",
    "import keras\n",
    "import zipfile\n",
    "import time\n",
    "import os\n",
    "import math\n",
    "import datetime\n",
    "import pandas as pd\n",
    "import pickle\n",
    "import requests\n",
    "import json\n",
    "import matplotlib.pyplot as plt\n",
    "import seaborn as sns\n",
    "import re\n",
    "import os\n",
    "import logging\n",
    "import imblearn\n",
    "import seaborn as sns\n",
    "from imblearn.over_sampling import SMOTE\n",
    "from imblearn.over_sampling import RandomOverSampler\n",
    "from imblearn.under_sampling import RandomUnderSampler\n",
    "from datetime import datetime, timedelta\n",
    "from datetime import date\n",
    "from dateutil import relativedelta\n",
    "from io import StringIO\n",
    "from sklearn.base import BaseEstimator\n",
    "from sklearn.base import TransformerMixin\n",
    "from sklearn.utils import shuffle\n",
    "from io import StringIO\n",
    "from sklearn.preprocessing import LabelEncoder, MinMaxScaler, StandardScaler\n",
    "from sklearn.model_selection import train_test_split\n",
    "%matplotlib inline \n",
    "from subprocess import check_output\n",
    "from IPython.display import display\n",
    "from colorama import Fore, Back, Style\n",
    "from scipy.stats import pearsonr\n",
    "\n",
    "from sklearn import linear_model\n",
    "from sklearn import model_selection\n",
    "from sklearn import metrics\n",
    "from sklearn import preprocessing\n",
    "from sklearn import datasets"
   ]
  },
  {
   "cell_type": "code",
   "execution_count": 53,
   "metadata": {},
   "outputs": [],
   "source": [
    "data = pd.read_csv('preprocessed_data.csv')"
   ]
  },
  {
   "cell_type": "code",
   "execution_count": 54,
   "metadata": {},
   "outputs": [],
   "source": [
    "y = data['Delay']\n",
    "X = data.drop(columns=['Delay'])"
   ]
  },
  {
   "cell_type": "code",
   "execution_count": 55,
   "metadata": {},
   "outputs": [],
   "source": [
    "X_train, X_test, y_train, y_test = model_selection.train_test_split(X, y, test_size = 0.33, random_state = 7, stratify = y)"
   ]
  },
  {
   "cell_type": "code",
   "execution_count": 56,
   "metadata": {},
   "outputs": [
    {
     "data": {
      "text/plain": [
       "(30179, 27)"
      ]
     },
     "execution_count": 56,
     "metadata": {},
     "output_type": "execute_result"
    }
   ],
   "source": [
    "X_train.shape"
   ]
  },
  {
   "cell_type": "code",
   "execution_count": 57,
   "metadata": {},
   "outputs": [
    {
     "data": {
      "text/plain": [
       "(14865, 27)"
      ]
     },
     "execution_count": 57,
     "metadata": {},
     "output_type": "execute_result"
    }
   ],
   "source": [
    "X_test.shape"
   ]
  },
  {
   "cell_type": "code",
   "execution_count": 58,
   "metadata": {},
   "outputs": [
    {
     "data": {
      "text/plain": [
       "(30179,)"
      ]
     },
     "execution_count": 58,
     "metadata": {},
     "output_type": "execute_result"
    }
   ],
   "source": [
    " y_train.shape\n",
    "    "
   ]
  },
  {
   "cell_type": "code",
   "execution_count": 59,
   "metadata": {},
   "outputs": [
    {
     "data": {
      "text/plain": [
       "(14865,)"
      ]
     },
     "execution_count": 59,
     "metadata": {},
     "output_type": "execute_result"
    }
   ],
   "source": [
    "y_test.shape"
   ]
  },
  {
   "cell_type": "code",
   "execution_count": 60,
   "metadata": {},
   "outputs": [],
   "source": [
    "scaler = preprocessing.StandardScaler()\n",
    "scaler.fit(X_train)\n",
    "X_train = scaler.transform(X_train)\n",
    "X_test = scaler.transform(X_test)"
   ]
  },
  {
   "cell_type": "code",
   "execution_count": 61,
   "metadata": {},
   "outputs": [
    {
     "name": "stdout",
     "output_type": "stream",
     "text": [
      "Train Delay:  29731      Train Without Delay:  448\n"
     ]
    }
   ],
   "source": [
    "wd_train = np.sum(y_train == 0)\n",
    "d_train = np.sum(y_train == 1)\n",
    "print('Train Delay: ', d_train, '     Train Without Delay: ', wd_train)"
   ]
  },
  {
   "cell_type": "code",
   "execution_count": 62,
   "metadata": {},
   "outputs": [
    {
     "name": "stdout",
     "output_type": "stream",
     "text": [
      "Test Delay:  14645      Test Without Delay:  220\n"
     ]
    }
   ],
   "source": [
    "wd_test = np.sum(y_test == 0)\n",
    "d_test = np.sum(y_test == 1)\n",
    "print('Test Delay: ', d_test, '     Test Without Delay: ', wd_test)"
   ]
  },
  {
   "cell_type": "code",
   "execution_count": 63,
   "metadata": {},
   "outputs": [
    {
     "data": {
      "image/png": "[encoded data removed]",
      "text/plain": [
       "<Figure size 504x504 with 1 Axes>"
      ]
     },
     "metadata": {
      "needs_background": "light"
     },
     "output_type": "display_data"
    }
   ],
   "source": [
    "plt.figure(figsize = (7, 7))\n",
    "matplotlib.rc('xtick', labelsize = 12) \n",
    "matplotlib.rc('ytick', labelsize = 12) \n",
    "plt.title(\"Visual inspection of stratification\")\n",
    "plt.xticks([0,1])\n",
    "plt.xlabel('No delay                                                        delay ', fontsize = 15 )\n",
    "plt.hist([y_train, y_test], color=['red', 'blue'], label=['training set ',' testing set'])\n",
    "plt.legend(loc='best')\n",
    "plt.show()"
   ]
  },
  {
   "cell_type": "markdown",
   "metadata": {},
   "source": [
    "## Model learning"
   ]
  },
  {
   "cell_type": "code",
   "execution_count": 64,
   "metadata": {},
   "outputs": [],
   "source": [
    "model = linear_model.LogisticRegression(solver='lbfgs')"
   ]
  },
  {
   "cell_type": "code",
   "execution_count": 65,
   "metadata": {},
   "outputs": [
    {
     "data": {
      "text/plain": [
       "LogisticRegression(C=1.0, class_weight=None, dual=False, fit_intercept=True,\n",
       "                   intercept_scaling=1, l1_ratio=None, max_iter=100,\n",
       "                   multi_class='warn', n_jobs=None, penalty='l2',\n",
       "                   random_state=None, solver='lbfgs', tol=0.0001, verbose=0,\n",
       "                   warm_start=False)"
      ]
     },
     "execution_count": 65,
     "metadata": {},
     "output_type": "execute_result"
    }
   ],
   "source": [
    "model.fit(X_train, y_train)"
   ]
  },
  {
   "cell_type": "code",
   "execution_count": 66,
   "metadata": {},
   "outputs": [
    {
     "data": {
      "text/plain": [
       "array([8.5299948])"
      ]
     },
     "execution_count": 66,
     "metadata": {},
     "output_type": "execute_result"
    }
   ],
   "source": [
    "model.intercept_"
   ]
  },
  {
   "cell_type": "code",
   "execution_count": 67,
   "metadata": {},
   "outputs": [
    {
     "data": {
      "text/plain": [
       "array([[ 4.90790829e-02,  1.25658767e+01,  6.03311894e-02,\n",
       "        -2.18276782e-03,  4.70885003e-02, -3.05541783e-02,\n",
       "        -7.86958723e-03, -5.82339156e-02, -2.60995201e-02,\n",
       "        -2.68324722e-01,  1.66379250e-01, -1.86619328e-01,\n",
       "         2.52870554e-01,  3.64399362e-02,  3.34655481e-02,\n",
       "        -1.40924837e-01, -4.81297162e-02,  4.74150376e-02,\n",
       "        -3.25820731e-02, -3.67521391e-02, -4.32427030e-02,\n",
       "         5.60851700e-02,  4.84709167e-02, -1.02366586e-01,\n",
       "         3.55862687e-02, -5.56892492e-02, -3.04213311e-02]])"
      ]
     },
     "execution_count": 67,
     "metadata": {},
     "output_type": "execute_result"
    }
   ],
   "source": [
    "model.coef_"
   ]
  },
  {
   "cell_type": "markdown",
   "metadata": {},
   "source": [
    "## Evaluation"
   ]
  },
  {
   "cell_type": "code",
   "execution_count": 68,
   "metadata": {},
   "outputs": [],
   "source": [
    "y_test_predicted = model.predict(X_test)"
   ]
  },
  {
   "cell_type": "code",
   "execution_count": 69,
   "metadata": {},
   "outputs": [
    {
     "data": {
      "text/plain": [
       "0.986343760511268"
      ]
     },
     "execution_count": 69,
     "metadata": {},
     "output_type": "execute_result"
    }
   ],
   "source": [
    "accuracy = metrics.accuracy_score(y_test, y_test_predicted)\n",
    "accuracy"
   ]
  },
  {
   "cell_type": "code",
   "execution_count": 70,
   "metadata": {},
   "outputs": [
    {
     "data": {
      "text/plain": [
       "0.9868527508090615"
      ]
     },
     "execution_count": 70,
     "metadata": {},
     "output_type": "execute_result"
    }
   ],
   "source": [
    "precision = metrics.precision_score(y_test, y_test_predicted)\n",
    "precision"
   ]
  },
  {
   "cell_type": "code",
   "execution_count": 71,
   "metadata": {},
   "outputs": [
    {
     "data": {
      "text/plain": [
       "0.999453738477296"
      ]
     },
     "execution_count": 71,
     "metadata": {},
     "output_type": "execute_result"
    }
   ],
   "source": [
    "recall = metrics.recall_score(y_test, y_test_predicted)\n",
    "recall"
   ]
  },
  {
   "cell_type": "code",
   "execution_count": 72,
   "metadata": {},
   "outputs": [
    {
     "data": {
      "text/plain": [
       "0.99311327475659"
      ]
     },
     "execution_count": 72,
     "metadata": {},
     "output_type": "execute_result"
    }
   ],
   "source": [
    "f1 = metrics.f1_score(y_test, y_test_predicted)\n",
    "f1"
   ]
  },
  {
   "cell_type": "code",
   "execution_count": 73,
   "metadata": {},
   "outputs": [],
   "source": [
    "y_train_predicted = model.predict(X_train)"
   ]
  },
  {
   "cell_type": "code",
   "execution_count": 74,
   "metadata": {},
   "outputs": [
    {
     "data": {
      "text/plain": [
       "array([1, 1, 1, 1, 1, 1, 1, 1, 1, 1, 1, 1, 1, 1, 1, 1, 1, 1, 1, 1, 1, 1,\n",
       "       1, 1, 1, 1, 1, 1, 1, 1], dtype=int64)"
      ]
     },
     "execution_count": 74,
     "metadata": {},
     "output_type": "execute_result"
    }
   ],
   "source": [
    "y_train_predicted[:30]"
   ]
  },
  {
   "cell_type": "code",
   "execution_count": 75,
   "metadata": {},
   "outputs": [],
   "source": [
    "train_score = metrics.accuracy_score(y_train, y_train_predicted)\n",
    "test_score = metrics.accuracy_score(y_test, y_test_predicted)"
   ]
  },
  {
   "cell_type": "code",
   "execution_count": 76,
   "metadata": {},
   "outputs": [
    {
     "name": "stdout",
     "output_type": "stream",
     "text": [
      "Accuracy at the training set: 0.9867126147320985\n",
      "Accuracy at the test set: 0.986343760511268\n"
     ]
    }
   ],
   "source": [
    "print(\"Accuracy at the training set: {train}\\nAccuracy at the test set: {test}\".format(train=train_score, test=test_score))"
   ]
  },
  {
   "cell_type": "code",
   "execution_count": 77,
   "metadata": {},
   "outputs": [
    {
     "name": "stdout",
     "output_type": "stream",
     "text": [
      "              precision    recall  f1-score   support\n",
      "\n",
      "           0       0.76      0.11      0.20       220\n",
      "           1       0.99      1.00      0.99     14645\n",
      "\n",
      "    accuracy                           0.99     14865\n",
      "   macro avg       0.87      0.56      0.60     14865\n",
      "weighted avg       0.98      0.99      0.98     14865\n",
      "\n"
     ]
    }
   ],
   "source": [
    "print(metrics.classification_report(y_test, y_test_predicted))"
   ]
  },
  {
   "cell_type": "code",
   "execution_count": 78,
   "metadata": {},
   "outputs": [
    {
     "data": {
      "text/plain": [
       "array([[   25,   195],\n",
       "       [    8, 14637]], dtype=int64)"
      ]
     },
     "execution_count": 78,
     "metadata": {},
     "output_type": "execute_result"
    }
   ],
   "source": [
    "metrics.confusion_matrix(y_test, y_test_predicted)"
   ]
  },
  {
   "cell_type": "code",
   "execution_count": 79,
   "metadata": {},
   "outputs": [
    {
     "data": {
      "image/png": "[encoded data removed]",
      "text/plain": [
       "<Figure size 720x360 with 1 Axes>"
      ]
     },
     "metadata": {
      "needs_background": "light"
     },
     "output_type": "display_data"
    }
   ],
   "source": [
    "fig = plt.figure(figsize=(10, 5))\n",
    "plt.bar(['accuracy', 'precision', 'recall', 'f1'], [accuracy , precision, recall, f1], color='orangered')\n",
    "plt.title(\"Evaluation Logistic Regression\")\n",
    "plt.yticks(np.arange(0, 1, 0.1)) \n",
    "plt.show()"
   ]
  },
  {
   "cell_type": "markdown",
   "metadata": {},
   "source": [
    "# Neural networks"
   ]
  },
  {
   "cell_type": "code",
   "execution_count": 80,
   "metadata": {},
   "outputs": [],
   "source": [
    "import tensorflow as tf\n",
    "from keras.models import Sequential\n",
    "from keras.layers import Dense, Activation\n",
    "from keras import losses, optimizers\n",
    "from keras.layers import Dropout\n",
    "import numpy as np\n",
    "from matplotlib import pyplot as plt\n",
    "from sklearn import preprocessing\n",
    "from sklearn import datasets\n",
    "from sklearn import model_selection\n",
    "from keras import optimizers\n",
    "from keras import losses"
   ]
  },
  {
   "cell_type": "code",
   "execution_count": 81,
   "metadata": {},
   "outputs": [],
   "source": [
    "np.random.seed(7)"
   ]
  },
  {
   "cell_type": "markdown",
   "metadata": {},
   "source": [
    "## Creating Neural networks"
   ]
  },
  {
   "cell_type": "markdown",
   "metadata": {},
   "source": [
    "I will create a neural network with advance propagation. <br> The neural network will have an input layer, three hidden layers with, respectively, 100, 40 and 20 neurons, and an output layer. <br> The number of input layer neurons corresponds to the number of attributes of the data set, which is 27. <br> The number of output layer neurons is 1 since it is a binary classification. <br> In hidden layers I will use relu activation function and in the latter sigmoid function. <br> Optimizer Adam will be used. <br> Binary cross entropy as a function of error will be used. <br> Since the task of classification metrics will be accuracy. <br> I will use Dropout regularization for reducing overfitting and improving the generalization. "
   ]
  },
  {
   "cell_type": "code",
   "execution_count": 82,
   "metadata": {},
   "outputs": [],
   "source": [
    "number_of_features = X_train.shape[1]\n",
    "output_size = 1"
   ]
  },
  {
   "cell_type": "code",
   "execution_count": 83,
   "metadata": {},
   "outputs": [
    {
     "data": {
      "text/plain": [
       "27"
      ]
     },
     "execution_count": 83,
     "metadata": {},
     "output_type": "execute_result"
    }
   ],
   "source": [
    "number_of_features"
   ]
  },
  {
   "cell_type": "code",
   "execution_count": 84,
   "metadata": {},
   "outputs": [],
   "source": [
    "model = Sequential()\n",
    "model.add(Dense(units = 100, input_dim = number_of_features, activation = 'relu'))\n",
    "model.add(Dense(units = 40, activation = 'relu'))\n",
    "model.add(Dense(units = 20, activation = 'relu'))\n",
    "model.add(Dropout(0.1))\n",
    "model.add(Dense(units = output_size, activation = 'sigmoid'))"
   ]
  },
  {
   "cell_type": "code",
   "execution_count": 85,
   "metadata": {},
   "outputs": [],
   "source": [
    "model.compile( optimizers.Adam(learning_rate = 0.0001), loss = losses.BinaryCrossentropy(), metrics = ['accuracy'] )"
   ]
  },
  {
   "cell_type": "code",
   "execution_count": 86,
   "metadata": {},
   "outputs": [
    {
     "name": "stdout",
     "output_type": "stream",
     "text": [
      "Model: \"sequential_2\"\n",
      "_________________________________________________________________\n",
      "Layer (type)                 Output Shape              Param #   \n",
      "=================================================================\n",
      "dense_8 (Dense)              (None, 100)               2800      \n",
      "_________________________________________________________________\n",
      "dense_9 (Dense)              (None, 40)                4040      \n",
      "_________________________________________________________________\n",
      "dense_10 (Dense)             (None, 20)                820       \n",
      "_________________________________________________________________\n",
      "dropout_2 (Dropout)          (None, 20)                0         \n",
      "_________________________________________________________________\n",
      "dense_11 (Dense)             (None, 1)                 21        \n",
      "=================================================================\n",
      "Total params: 7,681\n",
      "Trainable params: 7,681\n",
      "Non-trainable params: 0\n",
      "_________________________________________________________________\n"
     ]
    }
   ],
   "source": [
    "model.summary()"
   ]
  },
  {
   "cell_type": "code",
   "execution_count": 87,
   "metadata": {},
   "outputs": [
    {
     "name": "stdout",
     "output_type": "stream",
     "text": [
      "Epoch 1/50\n",
      "755/755 [==============================] - 5s 6ms/step - loss: 0.2207 - accuracy: 0.9349 - val_loss: 0.0800 - val_accuracy: 0.9853\n",
      "Epoch 2/50\n",
      "755/755 [==============================] - 4s 6ms/step - loss: 0.0818 - accuracy: 0.9851 - val_loss: 0.0741 - val_accuracy: 0.9853\n",
      "Epoch 3/50\n",
      "755/755 [==============================] - 3s 4ms/step - loss: 0.0762 - accuracy: 0.9851 - val_loss: 0.0703 - val_accuracy: 0.9853\n",
      "Epoch 4/50\n",
      "755/755 [==============================] - 3s 4ms/step - loss: 0.0729 - accuracy: 0.9851 - val_loss: 0.0674 - val_accuracy: 0.9853\n",
      "Epoch 5/50\n",
      "755/755 [==============================] - 3s 4ms/step - loss: 0.0695 - accuracy: 0.9851 - val_loss: 0.0655 - val_accuracy: 0.9853\n",
      "Epoch 6/50\n",
      "755/755 [==============================] - 3s 4ms/step - loss: 0.0669 - accuracy: 0.9851 - val_loss: 0.0636 - val_accuracy: 0.9853\n",
      "Epoch 7/50\n",
      "755/755 [==============================] - 3s 4ms/step - loss: 0.0649 - accuracy: 0.9851 - val_loss: 0.0617 - val_accuracy: 0.9853\n",
      "Epoch 8/50\n",
      "755/755 [==============================] - 3s 4ms/step - loss: 0.0620 - accuracy: 0.9851 - val_loss: 0.0595 - val_accuracy: 0.9853\n",
      "Epoch 9/50\n",
      "755/755 [==============================] - 3s 4ms/step - loss: 0.0600 - accuracy: 0.9852 - val_loss: 0.0579 - val_accuracy: 0.9853\n",
      "Epoch 10/50\n",
      "755/755 [==============================] - 3s 4ms/step - loss: 0.0580 - accuracy: 0.9853 - val_loss: 0.0553 - val_accuracy: 0.9853\n",
      "Epoch 11/50\n",
      "755/755 [==============================] - 3s 4ms/step - loss: 0.0557 - accuracy: 0.9855 - val_loss: 0.0531 - val_accuracy: 0.9853\n",
      "Epoch 12/50\n",
      "755/755 [==============================] - 3s 4ms/step - loss: 0.0527 - accuracy: 0.9857 - val_loss: 0.0500 - val_accuracy: 0.9864\n",
      "Epoch 13/50\n",
      "755/755 [==============================] - 3s 4ms/step - loss: 0.0496 - accuracy: 0.9864 - val_loss: 0.0480 - val_accuracy: 0.9867\n",
      "Epoch 14/50\n",
      "755/755 [==============================] - 3s 4ms/step - loss: 0.0475 - accuracy: 0.9865 - val_loss: 0.0457 - val_accuracy: 0.9872\n",
      "Epoch 15/50\n",
      "755/755 [==============================] - 3s 4ms/step - loss: 0.0445 - accuracy: 0.9871 - val_loss: 0.0438 - val_accuracy: 0.9872\n",
      "Epoch 16/50\n",
      "755/755 [==============================] - 3s 4ms/step - loss: 0.0425 - accuracy: 0.9872 - val_loss: 0.0419 - val_accuracy: 0.9874\n",
      "Epoch 17/50\n",
      "755/755 [==============================] - 3s 4ms/step - loss: 0.0408 - accuracy: 0.9881 - val_loss: 0.0406 - val_accuracy: 0.9871\n",
      "Epoch 18/50\n",
      "755/755 [==============================] - 3s 4ms/step - loss: 0.0395 - accuracy: 0.9885 - val_loss: 0.0388 - val_accuracy: 0.9884\n",
      "Epoch 19/50\n",
      "755/755 [==============================] - 4s 5ms/step - loss: 0.0382 - accuracy: 0.9891 - val_loss: 0.0380 - val_accuracy: 0.9887\n",
      "Epoch 20/50\n",
      "755/755 [==============================] - 4s 6ms/step - loss: 0.0354 - accuracy: 0.9897 - val_loss: 0.0373 - val_accuracy: 0.9884\n",
      "Epoch 21/50\n",
      "755/755 [==============================] - 3s 4ms/step - loss: 0.0358 - accuracy: 0.9903 - val_loss: 0.0364 - val_accuracy: 0.9897\n",
      "Epoch 22/50\n",
      "755/755 [==============================] - 3s 4ms/step - loss: 0.0346 - accuracy: 0.9903 - val_loss: 0.0358 - val_accuracy: 0.9897\n",
      "Epoch 23/50\n",
      "755/755 [==============================] - 3s 4ms/step - loss: 0.0325 - accuracy: 0.9909 - val_loss: 0.0363 - val_accuracy: 0.9889\n",
      "Epoch 24/50\n",
      "755/755 [==============================] - 3s 4ms/step - loss: 0.0323 - accuracy: 0.9911 - val_loss: 0.0348 - val_accuracy: 0.9906\n",
      "Epoch 25/50\n",
      "755/755 [==============================] - 3s 4ms/step - loss: 0.0311 - accuracy: 0.9914 - val_loss: 0.0347 - val_accuracy: 0.9896\n",
      "Epoch 26/50\n",
      "755/755 [==============================] - 3s 4ms/step - loss: 0.0308 - accuracy: 0.9917 - val_loss: 0.0345 - val_accuracy: 0.9901\n",
      "Epoch 27/50\n",
      "755/755 [==============================] - 4s 5ms/step - loss: 0.0304 - accuracy: 0.9918 - val_loss: 0.0341 - val_accuracy: 0.9901\n",
      "Epoch 28/50\n",
      "755/755 [==============================] - 4s 6ms/step - loss: 0.0285 - accuracy: 0.9923 - val_loss: 0.0344 - val_accuracy: 0.9899\n",
      "Epoch 29/50\n",
      "755/755 [==============================] - 5s 7ms/step - loss: 0.0288 - accuracy: 0.9921 - val_loss: 0.0335 - val_accuracy: 0.9896\n",
      "Epoch 30/50\n",
      "755/755 [==============================] - 7s 9ms/step - loss: 0.0282 - accuracy: 0.9927 - val_loss: 0.0331 - val_accuracy: 0.9901\n",
      "Epoch 31/50\n",
      "755/755 [==============================] - 6s 7ms/step - loss: 0.0282 - accuracy: 0.9930 - val_loss: 0.0334 - val_accuracy: 0.9892\n",
      "Epoch 32/50\n",
      "755/755 [==============================] - 4s 6ms/step - loss: 0.0278 - accuracy: 0.9929 - val_loss: 0.0334 - val_accuracy: 0.9902\n",
      "Epoch 33/50\n",
      "755/755 [==============================] - 4s 6ms/step - loss: 0.0260 - accuracy: 0.9935 - val_loss: 0.0339 - val_accuracy: 0.9902\n",
      "Epoch 34/50\n",
      "755/755 [==============================] - 4s 5ms/step - loss: 0.0262 - accuracy: 0.9935 - val_loss: 0.0330 - val_accuracy: 0.9897\n",
      "Epoch 35/50\n",
      "755/755 [==============================] - 3s 4ms/step - loss: 0.0259 - accuracy: 0.9929 - val_loss: 0.0327 - val_accuracy: 0.9907\n",
      "Epoch 36/50\n",
      "755/755 [==============================] - 4s 5ms/step - loss: 0.0245 - accuracy: 0.9930 - val_loss: 0.0327 - val_accuracy: 0.9914\n",
      "Epoch 37/50\n",
      "755/755 [==============================] - 4s 5ms/step - loss: 0.0244 - accuracy: 0.9937 - val_loss: 0.0344 - val_accuracy: 0.9894\n",
      "Epoch 38/50\n",
      "755/755 [==============================] - 5s 6ms/step - loss: 0.0242 - accuracy: 0.9933 - val_loss: 0.0332 - val_accuracy: 0.9901\n",
      "Epoch 39/50\n",
      "755/755 [==============================] - 4s 5ms/step - loss: 0.0238 - accuracy: 0.9938 - val_loss: 0.0333 - val_accuracy: 0.9901\n",
      "Epoch 40/50\n",
      "755/755 [==============================] - 3s 4ms/step - loss: 0.0233 - accuracy: 0.9933 - val_loss: 0.0329 - val_accuracy: 0.9901\n",
      "Epoch 41/50\n",
      "755/755 [==============================] - 3s 4ms/step - loss: 0.0234 - accuracy: 0.9945 - val_loss: 0.0325 - val_accuracy: 0.9906\n",
      "Epoch 42/50\n",
      "755/755 [==============================] - 3s 5ms/step - loss: 0.0227 - accuracy: 0.9940 - val_loss: 0.0328 - val_accuracy: 0.9909\n",
      "Epoch 43/50\n",
      "755/755 [==============================] - 4s 5ms/step - loss: 0.0225 - accuracy: 0.9941 - val_loss: 0.0334 - val_accuracy: 0.9897\n",
      "Epoch 44/50\n",
      "755/755 [==============================] - 4s 5ms/step - loss: 0.0213 - accuracy: 0.9943 - val_loss: 0.0331 - val_accuracy: 0.9901\n",
      "Epoch 45/50\n",
      "755/755 [==============================] - 5s 6ms/step - loss: 0.0217 - accuracy: 0.9946 - val_loss: 0.0331 - val_accuracy: 0.9909\n",
      "Epoch 46/50\n",
      "755/755 [==============================] - 4s 5ms/step - loss: 0.0210 - accuracy: 0.9947 - val_loss: 0.0323 - val_accuracy: 0.9914\n",
      "Epoch 47/50\n",
      "755/755 [==============================] - 4s 5ms/step - loss: 0.0204 - accuracy: 0.9943 - val_loss: 0.0329 - val_accuracy: 0.9907\n",
      "Epoch 48/50\n",
      "755/755 [==============================] - 4s 5ms/step - loss: 0.0206 - accuracy: 0.9945 - val_loss: 0.0327 - val_accuracy: 0.9912\n",
      "Epoch 49/50\n",
      "755/755 [==============================] - 4s 5ms/step - loss: 0.0203 - accuracy: 0.9949 - val_loss: 0.0331 - val_accuracy: 0.9904\n",
      "Epoch 50/50\n",
      "755/755 [==============================] - 4s 6ms/step - loss: 0.0199 - accuracy: 0.9951 - val_loss: 0.0329 - val_accuracy: 0.9909\n"
     ]
    }
   ],
   "source": [
    "history = model.fit(X_train, y_train, epochs = 50, batch_size = 32, verbose = 1, validation_split = 0.2)"
   ]
  },
  {
   "cell_type": "code",
   "execution_count": 89,
   "metadata": {},
   "outputs": [],
   "source": [
    "epochs = history.epoch\n",
    "\n",
    "loss = history.history['loss']\n",
    "validation_loss = history.history['val_loss']\n",
    "\n",
    "acc = history.history['accuracy']\n",
    "validation_acc = history.history['val_accuracy']"
   ]
  },
  {
   "cell_type": "code",
   "execution_count": 90,
   "metadata": {},
   "outputs": [
    {
     "data": {
      "text/plain": [
       "<matplotlib.legend.Legend at 0x14a448f4588>"
      ]
     },
     "execution_count": 90,
     "metadata": {},
     "output_type": "execute_result"
    },
    {
     "data": {
      "image/png": "[encoded data removed]",
      "text/plain": [
       "<Figure size 1080x360 with 2 Axes>"
      ]
     },
     "metadata": {
      "needs_background": "light"
     },
     "output_type": "display_data"
    }
   ],
   "source": [
    "fig = plt.figure(figsize=(15, 5))\n",
    "\n",
    "plt.subplot(1,2,1)\n",
    "plt.title('Loss')\n",
    "plt.xlabel('Epochs')\n",
    "plt.ylabel('Loss')\n",
    "plt.plot(epochs, loss, c='red', label='training')\n",
    "plt.plot(epochs, validation_loss, c='blue', label='validation')\n",
    "plt.legend(loc='best')\n",
    "\n",
    "plt.subplot(1,2,2)\n",
    "plt.title('Accuracy')\n",
    "plt.xlabel('Epochs')\n",
    "plt.ylabel('Acccuracy')\n",
    "plt.plot(epochs, acc, c='red', label='training')\n",
    "plt.plot(epochs, validation_acc, c='blue', label='validation')\n",
    "plt.legend(loc='best')"
   ]
  },
  {
   "cell_type": "markdown",
   "metadata": {},
   "source": [
    "## Neural network evaluation"
   ]
  },
  {
   "cell_type": "code",
   "execution_count": 91,
   "metadata": {},
   "outputs": [],
   "source": [
    "final_model = Sequential()\n",
    "final_model.add(Dense(units=100, input_dim=number_of_features, activation='relu'))\n",
    "final_model.add(Dense(units=40, activation='relu'))\n",
    "final_model.add(Dense(units=20, activation='relu'))\n",
    "final_model.add(Dropout(0.1))\n",
    "final_model.add(Dense(units=output_size, activation='sigmoid'))\n",
    "final_model.compile(optimizers.Adam(learning_rate = 0.0001), loss=losses.BinaryCrossentropy(), metrics=['accuracy'])"
   ]
  },
  {
   "cell_type": "code",
   "execution_count": 92,
   "metadata": {},
   "outputs": [
    {
     "name": "stdout",
     "output_type": "stream",
     "text": [
      "Epoch 1/50\n",
      "944/944 [==============================] - 6s 6ms/step - loss: 0.2167 - accuracy: 0.9324\n",
      "Epoch 2/50\n",
      "944/944 [==============================] - 4s 5ms/step - loss: 0.0798 - accuracy: 0.9852: 0s - loss: 0.0810 - ac\n",
      "Epoch 3/50\n",
      "944/944 [==============================] - 5s 6ms/step - loss: 0.0746 - accuracy: 0.9852\n",
      "Epoch 4/50\n",
      "944/944 [==============================] - 5s 5ms/step - loss: 0.0714 - accuracy: 0.9852\n",
      "Epoch 5/50\n",
      "944/944 [==============================] - 5s 5ms/step - loss: 0.0683 - accuracy: 0.9852\n",
      "Epoch 6/50\n",
      "944/944 [==============================] - 7s 7ms/step - loss: 0.0651 - accuracy: 0.9852\n",
      "Epoch 7/50\n",
      "944/944 [==============================] - 6s 6ms/step - loss: 0.0612 - accuracy: 0.9852\n",
      "Epoch 8/50\n",
      "944/944 [==============================] - 3s 4ms/step - loss: 0.0592 - accuracy: 0.9854\n",
      "Epoch 9/50\n",
      "944/944 [==============================] - 5s 6ms/step - loss: 0.0553 - accuracy: 0.9857\n",
      "Epoch 10/50\n",
      "944/944 [==============================] - 3s 3ms/step - loss: 0.0517 - accuracy: 0.9862\n",
      "Epoch 11/50\n",
      "944/944 [==============================] - 3s 3ms/step - loss: 0.0485 - accuracy: 0.9867\n",
      "Epoch 12/50\n",
      "944/944 [==============================] - 5s 5ms/step - loss: 0.0451 - accuracy: 0.9874\n",
      "Epoch 13/50\n",
      "944/944 [==============================] - 4s 5ms/step - loss: 0.0427 - accuracy: 0.9879\n",
      "Epoch 14/50\n",
      "944/944 [==============================] - 4s 4ms/step - loss: 0.0407 - accuracy: 0.9883\n",
      "Epoch 15/50\n",
      "944/944 [==============================] - 4s 4ms/step - loss: 0.0383 - accuracy: 0.9886\n",
      "Epoch 16/50\n",
      "944/944 [==============================] - 4s 4ms/step - loss: 0.0361 - accuracy: 0.9897\n",
      "Epoch 17/50\n",
      "944/944 [==============================] - 4s 4ms/step - loss: 0.0345 - accuracy: 0.9903\n",
      "Epoch 18/50\n",
      "944/944 [==============================] - 4s 4ms/step - loss: 0.0337 - accuracy: 0.9903\n",
      "Epoch 19/50\n",
      "944/944 [==============================] - 4s 4ms/step - loss: 0.0325 - accuracy: 0.9911\n",
      "Epoch 20/50\n",
      "944/944 [==============================] - 4s 5ms/step - loss: 0.0320 - accuracy: 0.9910\n",
      "Epoch 21/50\n",
      "944/944 [==============================] - 5s 5ms/step - loss: 0.0312 - accuracy: 0.9915\n",
      "Epoch 22/50\n",
      "944/944 [==============================] - 4s 4ms/step - loss: 0.0293 - accuracy: 0.9918\n",
      "Epoch 23/50\n",
      "944/944 [==============================] - 4s 4ms/step - loss: 0.0290 - accuracy: 0.9919\n",
      "Epoch 24/50\n",
      "944/944 [==============================] - 4s 4ms/step - loss: 0.0290 - accuracy: 0.9920\n",
      "Epoch 25/50\n",
      "944/944 [==============================] - 4s 4ms/step - loss: 0.0284 - accuracy: 0.9926\n",
      "Epoch 26/50\n",
      "944/944 [==============================] - 4s 4ms/step - loss: 0.0279 - accuracy: 0.9928: 0s - loss: 0.0275 - accuracy: 0.\n",
      "Epoch 27/50\n",
      "944/944 [==============================] - 4s 4ms/step - loss: 0.0274 - accuracy: 0.9929\n",
      "Epoch 28/50\n",
      "944/944 [==============================] - 4s 4ms/step - loss: 0.0266 - accuracy: 0.9930\n",
      "Epoch 29/50\n",
      "944/944 [==============================] - 4s 4ms/step - loss: 0.0261 - accuracy: 0.9930\n",
      "Epoch 30/50\n",
      "944/944 [==============================] - 4s 5ms/step - loss: 0.0255 - accuracy: 0.9934\n",
      "Epoch 31/50\n",
      "944/944 [==============================] - 4s 4ms/step - loss: 0.0248 - accuracy: 0.9936\n",
      "Epoch 32/50\n",
      "944/944 [==============================] - 5s 5ms/step - loss: 0.0248 - accuracy: 0.9936\n",
      "Epoch 33/50\n",
      "944/944 [==============================] - 6s 6ms/step - loss: 0.0243 - accuracy: 0.9940\n",
      "Epoch 34/50\n",
      "944/944 [==============================] - 4s 4ms/step - loss: 0.0239 - accuracy: 0.9941\n",
      "Epoch 35/50\n",
      "944/944 [==============================] - 4s 5ms/step - loss: 0.0237 - accuracy: 0.9937\n",
      "Epoch 36/50\n",
      "944/944 [==============================] - 6s 7ms/step - loss: 0.0232 - accuracy: 0.9942: 0s - loss: 0.0\n",
      "Epoch 37/50\n",
      "944/944 [==============================] - 5s 5ms/step - loss: 0.0234 - accuracy: 0.9941\n",
      "Epoch 38/50\n",
      "944/944 [==============================] - 4s 4ms/step - loss: 0.0230 - accuracy: 0.9945\n",
      "Epoch 39/50\n",
      "944/944 [==============================] - 4s 4ms/step - loss: 0.0224 - accuracy: 0.9947\n",
      "Epoch 40/50\n",
      "944/944 [==============================] - 5s 5ms/step - loss: 0.0215 - accuracy: 0.9949\n",
      "Epoch 41/50\n",
      "944/944 [==============================] - 5s 5ms/step - loss: 0.0213 - accuracy: 0.9950\n",
      "Epoch 42/50\n",
      "944/944 [==============================] - 5s 5ms/step - loss: 0.0216 - accuracy: 0.9944\n",
      "Epoch 43/50\n",
      "944/944 [==============================] - 6s 6ms/step - loss: 0.0214 - accuracy: 0.9946\n",
      "Epoch 44/50\n",
      "944/944 [==============================] - 5s 6ms/step - loss: 0.0205 - accuracy: 0.9951\n",
      "Epoch 45/50\n",
      "944/944 [==============================] - 4s 5ms/step - loss: 0.0198 - accuracy: 0.9956\n",
      "Epoch 46/50\n",
      "944/944 [==============================] - 5s 5ms/step - loss: 0.0200 - accuracy: 0.9955\n",
      "Epoch 47/50\n",
      "944/944 [==============================] - 4s 5ms/step - loss: 0.0193 - accuracy: 0.9951\n",
      "Epoch 48/50\n",
      "944/944 [==============================] - 4s 4ms/step - loss: 0.0192 - accuracy: 0.9953\n",
      "Epoch 49/50\n",
      "944/944 [==============================] - 4s 4ms/step - loss: 0.0189 - accuracy: 0.9956\n",
      "Epoch 50/50\n",
      "944/944 [==============================] - 4s 4ms/step - loss: 0.0185 - accuracy: 0.9952\n"
     ]
    }
   ],
   "source": [
    "history = final_model.fit(X_train, y_train, epochs=50, batch_size=32, verbose = 1)"
   ]
  },
  {
   "cell_type": "code",
   "execution_count": 93,
   "metadata": {},
   "outputs": [
    {
     "name": "stdout",
     "output_type": "stream",
     "text": [
      "465/465 [==============================] - 2s 3ms/step - loss: 0.0349 - accuracy: 0.9879\n",
      "Test loss: 0.034854330122470856, test accuracy: 0.9878910183906555\n"
     ]
    }
   ],
   "source": [
    "test_loss, test_accuracy = final_model.evaluate(X_test, y_test)\n",
    "print (\"Test loss: {}, test accuracy: {}\".format(test_loss, test_accuracy))"
   ]
  },
  {
   "cell_type": "code",
   "execution_count": 94,
   "metadata": {},
   "outputs": [
    {
     "name": "stdout",
     "output_type": "stream",
     "text": [
      "944/944 [==============================] - 4s 4ms/step - loss: 0.0167 - accuracy: 0.9967\n",
      "Train loss: 0.016689864918589592, train accuracy: 0.9966864585876465\n"
     ]
    }
   ],
   "source": [
    "train_loss, train_accuracy = final_model.evaluate(X_train, y_train)\n",
    "print (\"Train loss: {}, train accuracy: {}\".format(train_loss, train_accuracy))"
   ]
  },
  {
   "cell_type": "code",
   "execution_count": 95,
   "metadata": {},
   "outputs": [],
   "source": [
    "epochs = history.epoch\n",
    "loss = history.history['loss']\n",
    "acc = history.history['accuracy']"
   ]
  },
  {
   "cell_type": "code",
   "execution_count": 96,
   "metadata": {},
   "outputs": [
    {
     "data": {
      "text/plain": [
       "<matplotlib.legend.Legend at 0x14a45872f48>"
      ]
     },
     "execution_count": 96,
     "metadata": {},
     "output_type": "execute_result"
    },
    {
     "data": {
      "image/png": "[encoded data removed]",
      "text/plain": [
       "<Figure size 1080x360 with 2 Axes>"
      ]
     },
     "metadata": {
      "needs_background": "light"
     },
     "output_type": "display_data"
    }
   ],
   "source": [
    "fig = plt.figure(figsize=(15, 5))\n",
    "\n",
    "plt.subplot(1, 2, 1)\n",
    "plt.title('Loss')\n",
    "plt.xlabel('Epochs')\n",
    "plt.ylabel('Loss')\n",
    "plt.plot(epochs, loss, c='red', label='test loss')\n",
    "plt.legend(loc='best')\n",
    "\n",
    "plt.subplot(1, 2, 2)\n",
    "plt.title('Accuracy')\n",
    "plt.xlabel('Epochs')\n",
    "plt.ylabel('Acccuracy')\n",
    "plt.plot(epochs, acc, c='blue', label = 'test accuracy')\n",
    "plt.legend(loc='best')"
   ]
  },
  {
   "cell_type": "code",
   "execution_count": null,
   "metadata": {},
   "outputs": [],
   "source": []
  },
  {
   "cell_type": "markdown",
   "metadata": {},
   "source": [
    "### Oversampling \n",
    "Since the data is not balanced I will do Oversampling"
   ]
  },
  {
   "cell_type": "code",
   "execution_count": 97,
   "metadata": {},
   "outputs": [],
   "source": [
    "oversampling_set = data[data['Delay'] == 0.0]"
   ]
  },
  {
   "cell_type": "code",
   "execution_count": 98,
   "metadata": {},
   "outputs": [],
   "source": [
    "data_balanced  = data"
   ]
  },
  {
   "cell_type": "code",
   "execution_count": 99,
   "metadata": {},
   "outputs": [],
   "source": [
    "for x in range(50):\n",
    "    oversampling_set  = shuffle(oversampling_set)\n",
    "    data_balanced = data_balanced.append(oversampling_set)\n",
    "    data_balanced  = shuffle(data_balanced )"
   ]
  },
  {
   "cell_type": "code",
   "execution_count": 100,
   "metadata": {},
   "outputs": [],
   "source": [
    "data_balanced  = shuffle(data_balanced )"
   ]
  },
  {
   "cell_type": "code",
   "execution_count": 101,
   "metadata": {},
   "outputs": [
    {
     "name": "stdout",
     "output_type": "stream",
     "text": [
      "Without delay  34068\n",
      "With delay  44376\n"
     ]
    }
   ],
   "source": [
    "print(\"Without delay \", data_balanced[data_balanced['Delay']==0].shape[0])\n",
    "print(\"With delay \", data_balanced[data_balanced['Delay']==1].shape[0])"
   ]
  },
  {
   "cell_type": "code",
   "execution_count": 102,
   "metadata": {},
   "outputs": [
    {
     "data": {
      "text/plain": [
       "1    44376\n",
       "0    34068\n",
       "Name: Delay, dtype: int64"
      ]
     },
     "execution_count": 102,
     "metadata": {},
     "output_type": "execute_result"
    }
   ],
   "source": [
    "data_balanced['Delay'].value_counts()"
   ]
  },
  {
   "cell_type": "code",
   "execution_count": 103,
   "metadata": {},
   "outputs": [
    {
     "data": {
      "image/png": "[encoded data removed]",
      "text/plain": [
       "<Figure size 288x504 with 1 Axes>"
      ]
     },
     "metadata": {
      "needs_background": "light"
     },
     "output_type": "display_data"
    }
   ],
   "source": [
    "plt.figure(figsize=(4, 7))\n",
    "plt.bar(['Delay', 'No Delay'], data_balanced['Delay'].value_counts().values, color='blue')\n",
    "plt.title(\"Delay\")\n",
    "plt.show()"
   ]
  },
  {
   "cell_type": "code",
   "execution_count": 104,
   "metadata": {},
   "outputs": [
    {
     "data": {
      "text/html": [
       "<div>\n",
       "<style scoped>\n",
       "    .dataframe tbody tr th:only-of-type {\n",
       "        vertical-align: middle;\n",
       "    }\n",
       "\n",
       "    .dataframe tbody tr th {\n",
       "        vertical-align: top;\n",
       "    }\n",
       "\n",
       "    .dataframe thead th {\n",
       "        text-align: right;\n",
       "    }\n",
       "</style>\n",
       "<table border=\"1\" class=\"dataframe\">\n",
       "  <thead>\n",
       "    <tr style=\"text-align: right;\">\n",
       "      <th></th>\n",
       "      <th>Route</th>\n",
       "      <th>Min Gap</th>\n",
       "      <th>Vehicle</th>\n",
       "      <th>Delay</th>\n",
       "      <th>Direction_e</th>\n",
       "      <th>Direction_n</th>\n",
       "      <th>Direction_s</th>\n",
       "      <th>Direction_w</th>\n",
       "      <th>Incident_Diversion</th>\n",
       "      <th>Incident_Emergency Services</th>\n",
       "      <th>...</th>\n",
       "      <th>Day_Monday</th>\n",
       "      <th>Day_Saturday</th>\n",
       "      <th>Day_Sunday</th>\n",
       "      <th>Day_Thursday</th>\n",
       "      <th>Day_Tuesday</th>\n",
       "      <th>Day_Wednesday</th>\n",
       "      <th>Year</th>\n",
       "      <th>Month</th>\n",
       "      <th>Day</th>\n",
       "      <th>Hour</th>\n",
       "    </tr>\n",
       "  </thead>\n",
       "  <tbody>\n",
       "    <tr>\n",
       "      <td>7612</td>\n",
       "      <td>511</td>\n",
       "      <td>0</td>\n",
       "      <td>4190</td>\n",
       "      <td>1</td>\n",
       "      <td>0</td>\n",
       "      <td>1</td>\n",
       "      <td>0</td>\n",
       "      <td>0</td>\n",
       "      <td>0</td>\n",
       "      <td>0</td>\n",
       "      <td>...</td>\n",
       "      <td>0</td>\n",
       "      <td>0</td>\n",
       "      <td>0</td>\n",
       "      <td>0</td>\n",
       "      <td>1</td>\n",
       "      <td>0</td>\n",
       "      <td>2014</td>\n",
       "      <td>9</td>\n",
       "      <td>30</td>\n",
       "      <td>6</td>\n",
       "    </tr>\n",
       "    <tr>\n",
       "      <td>15808</td>\n",
       "      <td>504</td>\n",
       "      <td>8</td>\n",
       "      <td>4049</td>\n",
       "      <td>1</td>\n",
       "      <td>1</td>\n",
       "      <td>0</td>\n",
       "      <td>0</td>\n",
       "      <td>0</td>\n",
       "      <td>0</td>\n",
       "      <td>0</td>\n",
       "      <td>...</td>\n",
       "      <td>0</td>\n",
       "      <td>0</td>\n",
       "      <td>0</td>\n",
       "      <td>0</td>\n",
       "      <td>0</td>\n",
       "      <td>0</td>\n",
       "      <td>2015</td>\n",
       "      <td>6</td>\n",
       "      <td>12</td>\n",
       "      <td>8</td>\n",
       "    </tr>\n",
       "    <tr>\n",
       "      <td>35083</td>\n",
       "      <td>504</td>\n",
       "      <td>0</td>\n",
       "      <td>4077</td>\n",
       "      <td>0</td>\n",
       "      <td>0</td>\n",
       "      <td>1</td>\n",
       "      <td>0</td>\n",
       "      <td>0</td>\n",
       "      <td>0</td>\n",
       "      <td>0</td>\n",
       "      <td>...</td>\n",
       "      <td>0</td>\n",
       "      <td>0</td>\n",
       "      <td>0</td>\n",
       "      <td>0</td>\n",
       "      <td>0</td>\n",
       "      <td>1</td>\n",
       "      <td>2017</td>\n",
       "      <td>2</td>\n",
       "      <td>1</td>\n",
       "      <td>18</td>\n",
       "    </tr>\n",
       "    <tr>\n",
       "      <td>6866</td>\n",
       "      <td>506</td>\n",
       "      <td>0</td>\n",
       "      <td>4028</td>\n",
       "      <td>0</td>\n",
       "      <td>0</td>\n",
       "      <td>0</td>\n",
       "      <td>1</td>\n",
       "      <td>0</td>\n",
       "      <td>0</td>\n",
       "      <td>0</td>\n",
       "      <td>...</td>\n",
       "      <td>0</td>\n",
       "      <td>0</td>\n",
       "      <td>0</td>\n",
       "      <td>0</td>\n",
       "      <td>1</td>\n",
       "      <td>0</td>\n",
       "      <td>2014</td>\n",
       "      <td>9</td>\n",
       "      <td>9</td>\n",
       "      <td>9</td>\n",
       "    </tr>\n",
       "    <tr>\n",
       "      <td>34782</td>\n",
       "      <td>501</td>\n",
       "      <td>11</td>\n",
       "      <td>1601</td>\n",
       "      <td>1</td>\n",
       "      <td>0</td>\n",
       "      <td>0</td>\n",
       "      <td>0</td>\n",
       "      <td>1</td>\n",
       "      <td>0</td>\n",
       "      <td>0</td>\n",
       "      <td>...</td>\n",
       "      <td>0</td>\n",
       "      <td>0</td>\n",
       "      <td>0</td>\n",
       "      <td>0</td>\n",
       "      <td>0</td>\n",
       "      <td>1</td>\n",
       "      <td>2017</td>\n",
       "      <td>1</td>\n",
       "      <td>25</td>\n",
       "      <td>6</td>\n",
       "    </tr>\n",
       "    <tr>\n",
       "      <td>...</td>\n",
       "      <td>...</td>\n",
       "      <td>...</td>\n",
       "      <td>...</td>\n",
       "      <td>...</td>\n",
       "      <td>...</td>\n",
       "      <td>...</td>\n",
       "      <td>...</td>\n",
       "      <td>...</td>\n",
       "      <td>...</td>\n",
       "      <td>...</td>\n",
       "      <td>...</td>\n",
       "      <td>...</td>\n",
       "      <td>...</td>\n",
       "      <td>...</td>\n",
       "      <td>...</td>\n",
       "      <td>...</td>\n",
       "      <td>...</td>\n",
       "      <td>...</td>\n",
       "      <td>...</td>\n",
       "      <td>...</td>\n",
       "      <td>...</td>\n",
       "    </tr>\n",
       "    <tr>\n",
       "      <td>21274</td>\n",
       "      <td>510</td>\n",
       "      <td>12</td>\n",
       "      <td>4124</td>\n",
       "      <td>1</td>\n",
       "      <td>0</td>\n",
       "      <td>1</td>\n",
       "      <td>0</td>\n",
       "      <td>0</td>\n",
       "      <td>0</td>\n",
       "      <td>0</td>\n",
       "      <td>...</td>\n",
       "      <td>0</td>\n",
       "      <td>1</td>\n",
       "      <td>0</td>\n",
       "      <td>0</td>\n",
       "      <td>0</td>\n",
       "      <td>0</td>\n",
       "      <td>2016</td>\n",
       "      <td>1</td>\n",
       "      <td>2</td>\n",
       "      <td>8</td>\n",
       "    </tr>\n",
       "    <tr>\n",
       "      <td>21714</td>\n",
       "      <td>505</td>\n",
       "      <td>14</td>\n",
       "      <td>4045</td>\n",
       "      <td>1</td>\n",
       "      <td>1</td>\n",
       "      <td>0</td>\n",
       "      <td>0</td>\n",
       "      <td>0</td>\n",
       "      <td>0</td>\n",
       "      <td>0</td>\n",
       "      <td>...</td>\n",
       "      <td>0</td>\n",
       "      <td>0</td>\n",
       "      <td>0</td>\n",
       "      <td>0</td>\n",
       "      <td>0</td>\n",
       "      <td>1</td>\n",
       "      <td>2016</td>\n",
       "      <td>1</td>\n",
       "      <td>13</td>\n",
       "      <td>5</td>\n",
       "    </tr>\n",
       "    <tr>\n",
       "      <td>17680</td>\n",
       "      <td>505</td>\n",
       "      <td>0</td>\n",
       "      <td>4074</td>\n",
       "      <td>0</td>\n",
       "      <td>0</td>\n",
       "      <td>0</td>\n",
       "      <td>0</td>\n",
       "      <td>1</td>\n",
       "      <td>0</td>\n",
       "      <td>0</td>\n",
       "      <td>...</td>\n",
       "      <td>0</td>\n",
       "      <td>0</td>\n",
       "      <td>0</td>\n",
       "      <td>0</td>\n",
       "      <td>1</td>\n",
       "      <td>0</td>\n",
       "      <td>2015</td>\n",
       "      <td>8</td>\n",
       "      <td>18</td>\n",
       "      <td>14</td>\n",
       "    </tr>\n",
       "    <tr>\n",
       "      <td>42516</td>\n",
       "      <td>504</td>\n",
       "      <td>18</td>\n",
       "      <td>4023</td>\n",
       "      <td>1</td>\n",
       "      <td>0</td>\n",
       "      <td>0</td>\n",
       "      <td>0</td>\n",
       "      <td>1</td>\n",
       "      <td>0</td>\n",
       "      <td>0</td>\n",
       "      <td>...</td>\n",
       "      <td>0</td>\n",
       "      <td>0</td>\n",
       "      <td>1</td>\n",
       "      <td>0</td>\n",
       "      <td>0</td>\n",
       "      <td>0</td>\n",
       "      <td>2017</td>\n",
       "      <td>10</td>\n",
       "      <td>22</td>\n",
       "      <td>22</td>\n",
       "    </tr>\n",
       "    <tr>\n",
       "      <td>16699</td>\n",
       "      <td>503</td>\n",
       "      <td>30</td>\n",
       "      <td>4118</td>\n",
       "      <td>1</td>\n",
       "      <td>1</td>\n",
       "      <td>0</td>\n",
       "      <td>0</td>\n",
       "      <td>0</td>\n",
       "      <td>0</td>\n",
       "      <td>0</td>\n",
       "      <td>...</td>\n",
       "      <td>0</td>\n",
       "      <td>0</td>\n",
       "      <td>0</td>\n",
       "      <td>0</td>\n",
       "      <td>1</td>\n",
       "      <td>0</td>\n",
       "      <td>2015</td>\n",
       "      <td>7</td>\n",
       "      <td>14</td>\n",
       "      <td>14</td>\n",
       "    </tr>\n",
       "  </tbody>\n",
       "</table>\n",
       "<p>78444 rows × 28 columns</p>\n",
       "</div>"
      ],
      "text/plain": [
       "       Route  Min Gap  Vehicle  Delay  Direction_e  Direction_n  Direction_s  \\\n",
       "7612     511        0     4190      1            0            1            0   \n",
       "15808    504        8     4049      1            1            0            0   \n",
       "35083    504        0     4077      0            0            1            0   \n",
       "6866     506        0     4028      0            0            0            1   \n",
       "34782    501       11     1601      1            0            0            0   \n",
       "...      ...      ...      ...    ...          ...          ...          ...   \n",
       "21274    510       12     4124      1            0            1            0   \n",
       "21714    505       14     4045      1            1            0            0   \n",
       "17680    505        0     4074      0            0            0            0   \n",
       "42516    504       18     4023      1            0            0            0   \n",
       "16699    503       30     4118      1            1            0            0   \n",
       "\n",
       "       Direction_w  Incident_Diversion  Incident_Emergency Services  ...  \\\n",
       "7612             0                   0                            0  ...   \n",
       "15808            0                   0                            0  ...   \n",
       "35083            0                   0                            0  ...   \n",
       "6866             0                   0                            0  ...   \n",
       "34782            1                   0                            0  ...   \n",
       "...            ...                 ...                          ...  ...   \n",
       "21274            0                   0                            0  ...   \n",
       "21714            0                   0                            0  ...   \n",
       "17680            1                   0                            0  ...   \n",
       "42516            1                   0                            0  ...   \n",
       "16699            0                   0                            0  ...   \n",
       "\n",
       "       Day_Monday  Day_Saturday  Day_Sunday  Day_Thursday  Day_Tuesday  \\\n",
       "7612            0             0           0             0            1   \n",
       "15808           0             0           0             0            0   \n",
       "35083           0             0           0             0            0   \n",
       "6866            0             0           0             0            1   \n",
       "34782           0             0           0             0            0   \n",
       "...           ...           ...         ...           ...          ...   \n",
       "21274           0             1           0             0            0   \n",
       "21714           0             0           0             0            0   \n",
       "17680           0             0           0             0            1   \n",
       "42516           0             0           1             0            0   \n",
       "16699           0             0           0             0            1   \n",
       "\n",
       "       Day_Wednesday  Year  Month  Day  Hour  \n",
       "7612               0  2014      9   30     6  \n",
       "15808              0  2015      6   12     8  \n",
       "35083              1  2017      2    1    18  \n",
       "6866               0  2014      9    9     9  \n",
       "34782              1  2017      1   25     6  \n",
       "...              ...   ...    ...  ...   ...  \n",
       "21274              0  2016      1    2     8  \n",
       "21714              1  2016      1   13     5  \n",
       "17680              0  2015      8   18    14  \n",
       "42516              0  2017     10   22    22  \n",
       "16699              0  2015      7   14    14  \n",
       "\n",
       "[78444 rows x 28 columns]"
      ]
     },
     "execution_count": 104,
     "metadata": {},
     "output_type": "execute_result"
    }
   ],
   "source": [
    "data_balanced"
   ]
  },
  {
   "cell_type": "code",
   "execution_count": 105,
   "metadata": {},
   "outputs": [
    {
     "data": {
      "text/html": [
       "<div>\n",
       "<style scoped>\n",
       "    .dataframe tbody tr th:only-of-type {\n",
       "        vertical-align: middle;\n",
       "    }\n",
       "\n",
       "    .dataframe tbody tr th {\n",
       "        vertical-align: top;\n",
       "    }\n",
       "\n",
       "    .dataframe thead th {\n",
       "        text-align: right;\n",
       "    }\n",
       "</style>\n",
       "<table border=\"1\" class=\"dataframe\">\n",
       "  <thead>\n",
       "    <tr style=\"text-align: right;\">\n",
       "      <th></th>\n",
       "      <th>Route</th>\n",
       "      <th>Min Gap</th>\n",
       "      <th>Vehicle</th>\n",
       "      <th>Delay</th>\n",
       "      <th>Direction_e</th>\n",
       "      <th>Direction_n</th>\n",
       "      <th>Direction_s</th>\n",
       "      <th>Direction_w</th>\n",
       "      <th>Incident_Diversion</th>\n",
       "      <th>Incident_Emergency Services</th>\n",
       "      <th>...</th>\n",
       "      <th>Day_Monday</th>\n",
       "      <th>Day_Saturday</th>\n",
       "      <th>Day_Sunday</th>\n",
       "      <th>Day_Thursday</th>\n",
       "      <th>Day_Tuesday</th>\n",
       "      <th>Day_Wednesday</th>\n",
       "      <th>Year</th>\n",
       "      <th>Month</th>\n",
       "      <th>Day</th>\n",
       "      <th>Hour</th>\n",
       "    </tr>\n",
       "  </thead>\n",
       "  <tbody>\n",
       "    <tr>\n",
       "      <td>count</td>\n",
       "      <td>78444.000000</td>\n",
       "      <td>78444.000000</td>\n",
       "      <td>78444.000000</td>\n",
       "      <td>78444.000000</td>\n",
       "      <td>78444.000000</td>\n",
       "      <td>78444.000000</td>\n",
       "      <td>78444.000000</td>\n",
       "      <td>78444.000000</td>\n",
       "      <td>78444.000000</td>\n",
       "      <td>78444.000000</td>\n",
       "      <td>...</td>\n",
       "      <td>78444.000000</td>\n",
       "      <td>78444.000000</td>\n",
       "      <td>78444.000000</td>\n",
       "      <td>78444.000000</td>\n",
       "      <td>78444.000000</td>\n",
       "      <td>78444.000000</td>\n",
       "      <td>78444.000000</td>\n",
       "      <td>78444.000000</td>\n",
       "      <td>78444.000000</td>\n",
       "      <td>78444.000000</td>\n",
       "    </tr>\n",
       "    <tr>\n",
       "      <td>mean</td>\n",
       "      <td>502.700487</td>\n",
       "      <td>11.364986</td>\n",
       "      <td>4299.540908</td>\n",
       "      <td>0.565703</td>\n",
       "      <td>0.386505</td>\n",
       "      <td>0.104355</td>\n",
       "      <td>0.093965</td>\n",
       "      <td>0.415175</td>\n",
       "      <td>0.023291</td>\n",
       "      <td>0.028173</td>\n",
       "      <td>...</td>\n",
       "      <td>0.139896</td>\n",
       "      <td>0.112654</td>\n",
       "      <td>0.101002</td>\n",
       "      <td>0.172390</td>\n",
       "      <td>0.157998</td>\n",
       "      <td>0.147443</td>\n",
       "      <td>2015.573556</td>\n",
       "      <td>6.374254</td>\n",
       "      <td>15.879621</td>\n",
       "      <td>10.750433</td>\n",
       "    </tr>\n",
       "    <tr>\n",
       "      <td>std</td>\n",
       "      <td>26.667264</td>\n",
       "      <td>29.411028</td>\n",
       "      <td>1433.941371</td>\n",
       "      <td>0.495667</td>\n",
       "      <td>0.486952</td>\n",
       "      <td>0.305722</td>\n",
       "      <td>0.291782</td>\n",
       "      <td>0.492755</td>\n",
       "      <td>0.150826</td>\n",
       "      <td>0.165468</td>\n",
       "      <td>...</td>\n",
       "      <td>0.346881</td>\n",
       "      <td>0.316171</td>\n",
       "      <td>0.301333</td>\n",
       "      <td>0.377722</td>\n",
       "      <td>0.364742</td>\n",
       "      <td>0.354549</td>\n",
       "      <td>1.059206</td>\n",
       "      <td>3.400198</td>\n",
       "      <td>8.883369</td>\n",
       "      <td>5.436824</td>\n",
       "    </tr>\n",
       "    <tr>\n",
       "      <td>min</td>\n",
       "      <td>301.000000</td>\n",
       "      <td>0.000000</td>\n",
       "      <td>0.000000</td>\n",
       "      <td>0.000000</td>\n",
       "      <td>0.000000</td>\n",
       "      <td>0.000000</td>\n",
       "      <td>0.000000</td>\n",
       "      <td>0.000000</td>\n",
       "      <td>0.000000</td>\n",
       "      <td>0.000000</td>\n",
       "      <td>...</td>\n",
       "      <td>0.000000</td>\n",
       "      <td>0.000000</td>\n",
       "      <td>0.000000</td>\n",
       "      <td>0.000000</td>\n",
       "      <td>0.000000</td>\n",
       "      <td>0.000000</td>\n",
       "      <td>2014.000000</td>\n",
       "      <td>1.000000</td>\n",
       "      <td>1.000000</td>\n",
       "      <td>0.000000</td>\n",
       "    </tr>\n",
       "    <tr>\n",
       "      <td>25%</td>\n",
       "      <td>504.000000</td>\n",
       "      <td>0.000000</td>\n",
       "      <td>4076.000000</td>\n",
       "      <td>0.000000</td>\n",
       "      <td>0.000000</td>\n",
       "      <td>0.000000</td>\n",
       "      <td>0.000000</td>\n",
       "      <td>0.000000</td>\n",
       "      <td>0.000000</td>\n",
       "      <td>0.000000</td>\n",
       "      <td>...</td>\n",
       "      <td>0.000000</td>\n",
       "      <td>0.000000</td>\n",
       "      <td>0.000000</td>\n",
       "      <td>0.000000</td>\n",
       "      <td>0.000000</td>\n",
       "      <td>0.000000</td>\n",
       "      <td>2015.000000</td>\n",
       "      <td>4.000000</td>\n",
       "      <td>8.000000</td>\n",
       "      <td>6.000000</td>\n",
       "    </tr>\n",
       "    <tr>\n",
       "      <td>50%</td>\n",
       "      <td>505.000000</td>\n",
       "      <td>8.000000</td>\n",
       "      <td>4152.000000</td>\n",
       "      <td>1.000000</td>\n",
       "      <td>0.000000</td>\n",
       "      <td>0.000000</td>\n",
       "      <td>0.000000</td>\n",
       "      <td>0.000000</td>\n",
       "      <td>0.000000</td>\n",
       "      <td>0.000000</td>\n",
       "      <td>...</td>\n",
       "      <td>0.000000</td>\n",
       "      <td>0.000000</td>\n",
       "      <td>0.000000</td>\n",
       "      <td>0.000000</td>\n",
       "      <td>0.000000</td>\n",
       "      <td>0.000000</td>\n",
       "      <td>2016.000000</td>\n",
       "      <td>6.000000</td>\n",
       "      <td>16.000000</td>\n",
       "      <td>10.000000</td>\n",
       "    </tr>\n",
       "    <tr>\n",
       "      <td>75%</td>\n",
       "      <td>510.000000</td>\n",
       "      <td>14.000000</td>\n",
       "      <td>4227.000000</td>\n",
       "      <td>1.000000</td>\n",
       "      <td>1.000000</td>\n",
       "      <td>0.000000</td>\n",
       "      <td>0.000000</td>\n",
       "      <td>1.000000</td>\n",
       "      <td>0.000000</td>\n",
       "      <td>0.000000</td>\n",
       "      <td>...</td>\n",
       "      <td>0.000000</td>\n",
       "      <td>0.000000</td>\n",
       "      <td>0.000000</td>\n",
       "      <td>0.000000</td>\n",
       "      <td>0.000000</td>\n",
       "      <td>0.000000</td>\n",
       "      <td>2016.000000</td>\n",
       "      <td>9.000000</td>\n",
       "      <td>24.000000</td>\n",
       "      <td>15.000000</td>\n",
       "    </tr>\n",
       "    <tr>\n",
       "      <td>max</td>\n",
       "      <td>512.000000</td>\n",
       "      <td>4216.000000</td>\n",
       "      <td>163242.000000</td>\n",
       "      <td>1.000000</td>\n",
       "      <td>1.000000</td>\n",
       "      <td>1.000000</td>\n",
       "      <td>1.000000</td>\n",
       "      <td>1.000000</td>\n",
       "      <td>1.000000</td>\n",
       "      <td>1.000000</td>\n",
       "      <td>...</td>\n",
       "      <td>1.000000</td>\n",
       "      <td>1.000000</td>\n",
       "      <td>1.000000</td>\n",
       "      <td>1.000000</td>\n",
       "      <td>1.000000</td>\n",
       "      <td>1.000000</td>\n",
       "      <td>2017.000000</td>\n",
       "      <td>12.000000</td>\n",
       "      <td>31.000000</td>\n",
       "      <td>23.000000</td>\n",
       "    </tr>\n",
       "  </tbody>\n",
       "</table>\n",
       "<p>8 rows × 28 columns</p>\n",
       "</div>"
      ],
      "text/plain": [
       "              Route       Min Gap        Vehicle         Delay   Direction_e  \\\n",
       "count  78444.000000  78444.000000   78444.000000  78444.000000  78444.000000   \n",
       "mean     502.700487     11.364986    4299.540908      0.565703      0.386505   \n",
       "std       26.667264     29.411028    1433.941371      0.495667      0.486952   \n",
       "min      301.000000      0.000000       0.000000      0.000000      0.000000   \n",
       "25%      504.000000      0.000000    4076.000000      0.000000      0.000000   \n",
       "50%      505.000000      8.000000    4152.000000      1.000000      0.000000   \n",
       "75%      510.000000     14.000000    4227.000000      1.000000      1.000000   \n",
       "max      512.000000   4216.000000  163242.000000      1.000000      1.000000   \n",
       "\n",
       "        Direction_n   Direction_s   Direction_w  Incident_Diversion  \\\n",
       "count  78444.000000  78444.000000  78444.000000        78444.000000   \n",
       "mean       0.104355      0.093965      0.415175            0.023291   \n",
       "std        0.305722      0.291782      0.492755            0.150826   \n",
       "min        0.000000      0.000000      0.000000            0.000000   \n",
       "25%        0.000000      0.000000      0.000000            0.000000   \n",
       "50%        0.000000      0.000000      0.000000            0.000000   \n",
       "75%        0.000000      0.000000      1.000000            0.000000   \n",
       "max        1.000000      1.000000      1.000000            1.000000   \n",
       "\n",
       "       Incident_Emergency Services  ...    Day_Monday  Day_Saturday  \\\n",
       "count                 78444.000000  ...  78444.000000  78444.000000   \n",
       "mean                      0.028173  ...      0.139896      0.112654   \n",
       "std                       0.165468  ...      0.346881      0.316171   \n",
       "min                       0.000000  ...      0.000000      0.000000   \n",
       "25%                       0.000000  ...      0.000000      0.000000   \n",
       "50%                       0.000000  ...      0.000000      0.000000   \n",
       "75%                       0.000000  ...      0.000000      0.000000   \n",
       "max                       1.000000  ...      1.000000      1.000000   \n",
       "\n",
       "         Day_Sunday  Day_Thursday   Day_Tuesday  Day_Wednesday          Year  \\\n",
       "count  78444.000000  78444.000000  78444.000000   78444.000000  78444.000000   \n",
       "mean       0.101002      0.172390      0.157998       0.147443   2015.573556   \n",
       "std        0.301333      0.377722      0.364742       0.354549      1.059206   \n",
       "min        0.000000      0.000000      0.000000       0.000000   2014.000000   \n",
       "25%        0.000000      0.000000      0.000000       0.000000   2015.000000   \n",
       "50%        0.000000      0.000000      0.000000       0.000000   2016.000000   \n",
       "75%        0.000000      0.000000      0.000000       0.000000   2016.000000   \n",
       "max        1.000000      1.000000      1.000000       1.000000   2017.000000   \n",
       "\n",
       "              Month           Day          Hour  \n",
       "count  78444.000000  78444.000000  78444.000000  \n",
       "mean       6.374254     15.879621     10.750433  \n",
       "std        3.400198      8.883369      5.436824  \n",
       "min        1.000000      1.000000      0.000000  \n",
       "25%        4.000000      8.000000      6.000000  \n",
       "50%        6.000000     16.000000     10.000000  \n",
       "75%        9.000000     24.000000     15.000000  \n",
       "max       12.000000     31.000000     23.000000  \n",
       "\n",
       "[8 rows x 28 columns]"
      ]
     },
     "execution_count": 105,
     "metadata": {},
     "output_type": "execute_result"
    }
   ],
   "source": [
    "data_balanced.describe() "
   ]
  },
  {
   "cell_type": "code",
   "execution_count": null,
   "metadata": {},
   "outputs": [],
   "source": []
  },
  {
   "cell_type": "code",
   "execution_count": 106,
   "metadata": {},
   "outputs": [],
   "source": [
    "feature_names = data_balanced.columns\n",
    "# for col in feature_names:\n",
    "#     print(col)"
   ]
  },
  {
   "cell_type": "code",
   "execution_count": 107,
   "metadata": {},
   "outputs": [
    {
     "data": {
      "text/plain": [
       "Route                            -0.034926\n",
       "Min Gap                           0.278729\n",
       "Vehicle                           0.004735\n",
       "Delay                             1.000000\n",
       "Direction_e                       0.048985\n",
       "Direction_n                      -0.087057\n",
       "Direction_s                      -0.077461\n",
       "Direction_w                       0.051473\n",
       "Incident_Diversion               -0.073416\n",
       "Incident_Emergency Services       0.006497\n",
       "Incident_General Delay           -0.174988\n",
       "Incident_Held By                  0.144867\n",
       "Incident_Investigation           -0.056236\n",
       "Incident_Late Leaving Garage      0.077048\n",
       "Incident_Mechanical               0.061083\n",
       "Incident_Overhead - Pantograph    0.008277\n",
       "Incident_Utilized Off Route      -0.080581\n",
       "Day_Friday                       -0.032804\n",
       "Day_Monday                        0.024392\n",
       "Day_Saturday                      0.001048\n",
       "Day_Sunday                       -0.002310\n",
       "Day_Thursday                     -0.020291\n",
       "Day_Tuesday                      -0.001645\n",
       "Day_Wednesday                     0.035115\n",
       "Year                             -0.025838\n",
       "Month                             0.022761\n",
       "Day                              -0.025458\n",
       "Hour                              0.003447\n",
       "Name: Delay, dtype: float64"
      ]
     },
     "execution_count": 107,
     "metadata": {},
     "output_type": "execute_result"
    }
   ],
   "source": [
    "corrcoefs = data_balanced.corr()['Delay']\n",
    "corrcoefs"
   ]
  },
  {
   "cell_type": "code",
   "execution_count": 108,
   "metadata": {},
   "outputs": [
    {
     "data": {
      "text/plain": [
       "Route                            -0.034926\n",
       "Min Gap                           0.278729\n",
       "Vehicle                           0.004735\n",
       "Direction_e                       0.048985\n",
       "Direction_n                      -0.087057\n",
       "Direction_s                      -0.077461\n",
       "Direction_w                       0.051473\n",
       "Incident_Diversion               -0.073416\n",
       "Incident_Emergency Services       0.006497\n",
       "Incident_General Delay           -0.174988\n",
       "Incident_Held By                  0.144867\n",
       "Incident_Investigation           -0.056236\n",
       "Incident_Late Leaving Garage      0.077048\n",
       "Incident_Mechanical               0.061083\n",
       "Incident_Overhead - Pantograph    0.008277\n",
       "Incident_Utilized Off Route      -0.080581\n",
       "Day_Friday                       -0.032804\n",
       "Day_Monday                        0.024392\n",
       "Day_Saturday                      0.001048\n",
       "Day_Sunday                       -0.002310\n",
       "Day_Thursday                     -0.020291\n",
       "Day_Tuesday                      -0.001645\n",
       "Day_Wednesday                     0.035115\n",
       "Year                             -0.025838\n",
       "Month                             0.022761\n",
       "Day                              -0.025458\n",
       "Hour                              0.003447\n",
       "Name: Delay, dtype: float64"
      ]
     },
     "execution_count": 108,
     "metadata": {},
     "output_type": "execute_result"
    }
   ],
   "source": [
    "# corrcoefs_for_barh = ( (corrcoefs.drop('Delay')) * 1000000 ).astype(int)\n",
    "corrcoefs_for_barh = corrcoefs.drop('Delay')\n",
    "corrcoefs_for_barh\n"
   ]
  },
  {
   "cell_type": "code",
   "execution_count": 109,
   "metadata": {},
   "outputs": [
    {
     "ename": "IndexError",
     "evalue": "arrays used as indices must be of integer (or boolean) type",
     "output_type": "error",
     "traceback": [
      "\u001b[1;31m---------------------------------------------------------------------------\u001b[0m",
      "\u001b[1;31mIndexError\u001b[0m                                Traceback (most recent call last)",
      "\u001b[1;32m<ipython-input-109-18cc8209e05a>\u001b[0m in \u001b[0;36m<module>\u001b[1;34m\u001b[0m\n\u001b[0;32m      7\u001b[0m \u001b[0mplt\u001b[0m\u001b[1;33m.\u001b[0m\u001b[0mylabel\u001b[0m\u001b[1;33m(\u001b[0m\u001b[1;34m'Attribute name'\u001b[0m\u001b[1;33m)\u001b[0m\u001b[1;33m\u001b[0m\u001b[1;33m\u001b[0m\u001b[0m\n\u001b[0;32m      8\u001b[0m \u001b[0mplt\u001b[0m\u001b[1;33m.\u001b[0m\u001b[0mxlabel\u001b[0m\u001b[1;33m(\u001b[0m\u001b[1;34m'Correlation coefficient value'\u001b[0m\u001b[1;33m)\u001b[0m\u001b[1;33m\u001b[0m\u001b[1;33m\u001b[0m\u001b[0m\n\u001b[1;32m----> 9\u001b[1;33m \u001b[0mplt\u001b[0m\u001b[1;33m.\u001b[0m\u001b[0myticks\u001b[0m\u001b[1;33m(\u001b[0m\u001b[0mnp\u001b[0m\u001b[1;33m.\u001b[0m\u001b[0marange\u001b[0m\u001b[1;33m(\u001b[0m\u001b[0mnumber_of_features\u001b[0m\u001b[1;33m)\u001b[0m\u001b[1;33m,\u001b[0m \u001b[0mlist\u001b[0m\u001b[1;33m(\u001b[0m\u001b[0mfeature_names\u001b[0m\u001b[1;33m[\u001b[0m\u001b[0mcoefs_for_plot\u001b[0m\u001b[1;33m.\u001b[0m\u001b[0mindex\u001b[0m\u001b[1;33m]\u001b[0m\u001b[1;33m)\u001b[0m\u001b[1;33m)\u001b[0m\u001b[1;33m\u001b[0m\u001b[1;33m\u001b[0m\u001b[0m\n\u001b[0m\u001b[0;32m     10\u001b[0m \u001b[0mplt\u001b[0m\u001b[1;33m.\u001b[0m\u001b[0mplot\u001b[0m\u001b[1;33m(\u001b[0m\u001b[1;33m)\u001b[0m\u001b[1;33m\u001b[0m\u001b[1;33m\u001b[0m\u001b[0m\n",
      "\u001b[1;32m~\\Anaconda3\\lib\\site-packages\\pandas\\core\\indexes\\base.py\u001b[0m in \u001b[0;36m__getitem__\u001b[1;34m(self, key)\u001b[0m\n\u001b[0;32m   4289\u001b[0m \u001b[1;33m\u001b[0m\u001b[0m\n\u001b[0;32m   4290\u001b[0m         \u001b[0mkey\u001b[0m \u001b[1;33m=\u001b[0m \u001b[0mcom\u001b[0m\u001b[1;33m.\u001b[0m\u001b[0mvalues_from_object\u001b[0m\u001b[1;33m(\u001b[0m\u001b[0mkey\u001b[0m\u001b[1;33m)\u001b[0m\u001b[1;33m\u001b[0m\u001b[1;33m\u001b[0m\u001b[0m\n\u001b[1;32m-> 4291\u001b[1;33m         \u001b[0mresult\u001b[0m \u001b[1;33m=\u001b[0m \u001b[0mgetitem\u001b[0m\u001b[1;33m(\u001b[0m\u001b[0mkey\u001b[0m\u001b[1;33m)\u001b[0m\u001b[1;33m\u001b[0m\u001b[1;33m\u001b[0m\u001b[0m\n\u001b[0m\u001b[0;32m   4292\u001b[0m         \u001b[1;32mif\u001b[0m \u001b[1;32mnot\u001b[0m \u001b[0mis_scalar\u001b[0m\u001b[1;33m(\u001b[0m\u001b[0mresult\u001b[0m\u001b[1;33m)\u001b[0m\u001b[1;33m:\u001b[0m\u001b[1;33m\u001b[0m\u001b[1;33m\u001b[0m\u001b[0m\n\u001b[0;32m   4293\u001b[0m             \u001b[1;32mreturn\u001b[0m \u001b[0mpromote\u001b[0m\u001b[1;33m(\u001b[0m\u001b[0mresult\u001b[0m\u001b[1;33m)\u001b[0m\u001b[1;33m\u001b[0m\u001b[1;33m\u001b[0m\u001b[0m\n",
      "\u001b[1;31mIndexError\u001b[0m: arrays used as indices must be of integer (or boolean) type"
     ]
    },
    {
     "data": {
      "image/png": "[encoded data removed]",
      "text/plain": [
       "<Figure size 648x648 with 1 Axes>"
      ]
     },
     "metadata": {
      "needs_background": "light"
     },
     "output_type": "display_data"
    }
   ],
   "source": [
    "number_of_features = len(data_balanced.columns)\n",
    "\n",
    "coefs_for_plot = pd.Series(corrcoefs_for_barh).sort_values()\n",
    "coefs_for_plot.plot(kind = \"barh\", color = 'orange', figsize = (9, 9))\n",
    "\n",
    "plt.title(\"Attributes correlation with the target variable y\" )\n",
    "plt.ylabel('Attribute name')\n",
    "plt.xlabel('Correlation coefficient value')\n",
    "plt.yticks(np.arange(number_of_features), list(feature_names[coefs_for_plot.index]))\n",
    "plt.plot()"
   ]
  },
  {
   "cell_type": "code",
   "execution_count": 110,
   "metadata": {},
   "outputs": [],
   "source": [
    "y = data_balanced['Delay']\n",
    "X = data_balanced.drop(columns=['Delay'])"
   ]
  },
  {
   "cell_type": "code",
   "execution_count": 111,
   "metadata": {},
   "outputs": [
    {
     "data": {
      "text/html": [
       "<div>\n",
       "<style scoped>\n",
       "    .dataframe tbody tr th:only-of-type {\n",
       "        vertical-align: middle;\n",
       "    }\n",
       "\n",
       "    .dataframe tbody tr th {\n",
       "        vertical-align: top;\n",
       "    }\n",
       "\n",
       "    .dataframe thead th {\n",
       "        text-align: right;\n",
       "    }\n",
       "</style>\n",
       "<table border=\"1\" class=\"dataframe\">\n",
       "  <thead>\n",
       "    <tr style=\"text-align: right;\">\n",
       "      <th></th>\n",
       "      <th>Route</th>\n",
       "      <th>Min Gap</th>\n",
       "      <th>Vehicle</th>\n",
       "      <th>Direction_e</th>\n",
       "      <th>Direction_n</th>\n",
       "      <th>Direction_s</th>\n",
       "      <th>Direction_w</th>\n",
       "      <th>Incident_Diversion</th>\n",
       "      <th>Incident_Emergency Services</th>\n",
       "      <th>Incident_General Delay</th>\n",
       "      <th>...</th>\n",
       "      <th>Day_Monday</th>\n",
       "      <th>Day_Saturday</th>\n",
       "      <th>Day_Sunday</th>\n",
       "      <th>Day_Thursday</th>\n",
       "      <th>Day_Tuesday</th>\n",
       "      <th>Day_Wednesday</th>\n",
       "      <th>Year</th>\n",
       "      <th>Month</th>\n",
       "      <th>Day</th>\n",
       "      <th>Hour</th>\n",
       "    </tr>\n",
       "  </thead>\n",
       "  <tbody>\n",
       "    <tr>\n",
       "      <td>Route</td>\n",
       "      <td>1.000000</td>\n",
       "      <td>-0.090835</td>\n",
       "      <td>-0.000206</td>\n",
       "      <td>-0.007527</td>\n",
       "      <td>0.056262</td>\n",
       "      <td>0.065490</td>\n",
       "      <td>-0.066248</td>\n",
       "      <td>-0.068125</td>\n",
       "      <td>-0.115807</td>\n",
       "      <td>0.066561</td>\n",
       "      <td>...</td>\n",
       "      <td>0.025761</td>\n",
       "      <td>-0.076482</td>\n",
       "      <td>-0.057406</td>\n",
       "      <td>0.022075</td>\n",
       "      <td>-0.004348</td>\n",
       "      <td>0.038360</td>\n",
       "      <td>-0.015195</td>\n",
       "      <td>-0.024061</td>\n",
       "      <td>-0.011307</td>\n",
       "      <td>-0.001935</td>\n",
       "    </tr>\n",
       "    <tr>\n",
       "      <td>Min Gap</td>\n",
       "      <td>-0.090835</td>\n",
       "      <td>1.000000</td>\n",
       "      <td>-0.012631</td>\n",
       "      <td>-0.012296</td>\n",
       "      <td>-0.051257</td>\n",
       "      <td>-0.036179</td>\n",
       "      <td>0.065376</td>\n",
       "      <td>0.088779</td>\n",
       "      <td>0.088769</td>\n",
       "      <td>-0.056070</td>\n",
       "      <td>...</td>\n",
       "      <td>0.000389</td>\n",
       "      <td>0.008964</td>\n",
       "      <td>0.024205</td>\n",
       "      <td>-0.025578</td>\n",
       "      <td>0.016828</td>\n",
       "      <td>-0.002881</td>\n",
       "      <td>-0.009246</td>\n",
       "      <td>0.013451</td>\n",
       "      <td>-0.018059</td>\n",
       "      <td>-0.006272</td>\n",
       "    </tr>\n",
       "    <tr>\n",
       "      <td>Vehicle</td>\n",
       "      <td>-0.000206</td>\n",
       "      <td>-0.012631</td>\n",
       "      <td>1.000000</td>\n",
       "      <td>0.029031</td>\n",
       "      <td>0.025599</td>\n",
       "      <td>-0.014690</td>\n",
       "      <td>-0.035873</td>\n",
       "      <td>-0.020570</td>\n",
       "      <td>0.012695</td>\n",
       "      <td>-0.044952</td>\n",
       "      <td>...</td>\n",
       "      <td>0.008296</td>\n",
       "      <td>0.021635</td>\n",
       "      <td>0.024436</td>\n",
       "      <td>-0.040605</td>\n",
       "      <td>-0.002598</td>\n",
       "      <td>-0.002825</td>\n",
       "      <td>-0.108997</td>\n",
       "      <td>0.031157</td>\n",
       "      <td>-0.001586</td>\n",
       "      <td>0.013271</td>\n",
       "    </tr>\n",
       "    <tr>\n",
       "      <td>Direction_e</td>\n",
       "      <td>-0.007527</td>\n",
       "      <td>-0.012296</td>\n",
       "      <td>0.029031</td>\n",
       "      <td>1.000000</td>\n",
       "      <td>-0.270932</td>\n",
       "      <td>-0.255613</td>\n",
       "      <td>-0.668767</td>\n",
       "      <td>-0.017383</td>\n",
       "      <td>-0.018855</td>\n",
       "      <td>0.150019</td>\n",
       "      <td>...</td>\n",
       "      <td>0.020339</td>\n",
       "      <td>-0.020828</td>\n",
       "      <td>-0.035471</td>\n",
       "      <td>-0.006980</td>\n",
       "      <td>0.028255</td>\n",
       "      <td>0.020282</td>\n",
       "      <td>-0.043491</td>\n",
       "      <td>-0.033423</td>\n",
       "      <td>-0.016545</td>\n",
       "      <td>-0.024280</td>\n",
       "    </tr>\n",
       "    <tr>\n",
       "      <td>Direction_n</td>\n",
       "      <td>0.056262</td>\n",
       "      <td>-0.051257</td>\n",
       "      <td>0.025599</td>\n",
       "      <td>-0.270932</td>\n",
       "      <td>1.000000</td>\n",
       "      <td>-0.109926</td>\n",
       "      <td>-0.287601</td>\n",
       "      <td>-0.025340</td>\n",
       "      <td>-0.025106</td>\n",
       "      <td>-0.072576</td>\n",
       "      <td>...</td>\n",
       "      <td>-0.014808</td>\n",
       "      <td>-0.009256</td>\n",
       "      <td>-0.007168</td>\n",
       "      <td>-0.043958</td>\n",
       "      <td>0.018935</td>\n",
       "      <td>0.016469</td>\n",
       "      <td>0.031135</td>\n",
       "      <td>-0.037375</td>\n",
       "      <td>-0.034034</td>\n",
       "      <td>0.029090</td>\n",
       "    </tr>\n",
       "    <tr>\n",
       "      <td>Direction_s</td>\n",
       "      <td>0.065490</td>\n",
       "      <td>-0.036179</td>\n",
       "      <td>-0.014690</td>\n",
       "      <td>-0.255613</td>\n",
       "      <td>-0.109926</td>\n",
       "      <td>1.000000</td>\n",
       "      <td>-0.271340</td>\n",
       "      <td>-0.008306</td>\n",
       "      <td>0.020948</td>\n",
       "      <td>-0.069629</td>\n",
       "      <td>...</td>\n",
       "      <td>-0.007579</td>\n",
       "      <td>0.009898</td>\n",
       "      <td>0.009934</td>\n",
       "      <td>-0.016505</td>\n",
       "      <td>-0.002708</td>\n",
       "      <td>0.022575</td>\n",
       "      <td>0.043613</td>\n",
       "      <td>0.032938</td>\n",
       "      <td>0.010645</td>\n",
       "      <td>0.029907</td>\n",
       "    </tr>\n",
       "    <tr>\n",
       "      <td>Direction_w</td>\n",
       "      <td>-0.066248</td>\n",
       "      <td>0.065376</td>\n",
       "      <td>-0.035873</td>\n",
       "      <td>-0.668767</td>\n",
       "      <td>-0.287601</td>\n",
       "      <td>-0.271340</td>\n",
       "      <td>1.000000</td>\n",
       "      <td>0.037818</td>\n",
       "      <td>0.021805</td>\n",
       "      <td>-0.061993</td>\n",
       "      <td>...</td>\n",
       "      <td>-0.006424</td>\n",
       "      <td>0.020465</td>\n",
       "      <td>0.033618</td>\n",
       "      <td>0.043944</td>\n",
       "      <td>-0.038067</td>\n",
       "      <td>-0.043629</td>\n",
       "      <td>-0.002163</td>\n",
       "      <td>0.036714</td>\n",
       "      <td>0.031163</td>\n",
       "      <td>-0.011764</td>\n",
       "    </tr>\n",
       "    <tr>\n",
       "      <td>Incident_Diversion</td>\n",
       "      <td>-0.068125</td>\n",
       "      <td>0.088779</td>\n",
       "      <td>-0.020570</td>\n",
       "      <td>-0.017383</td>\n",
       "      <td>-0.025340</td>\n",
       "      <td>-0.008306</td>\n",
       "      <td>0.037818</td>\n",
       "      <td>1.000000</td>\n",
       "      <td>-0.026292</td>\n",
       "      <td>-0.043165</td>\n",
       "      <td>...</td>\n",
       "      <td>-0.005748</td>\n",
       "      <td>0.045228</td>\n",
       "      <td>0.047816</td>\n",
       "      <td>-0.036912</td>\n",
       "      <td>-0.032596</td>\n",
       "      <td>0.004201</td>\n",
       "      <td>0.024028</td>\n",
       "      <td>0.008930</td>\n",
       "      <td>-0.021989</td>\n",
       "      <td>0.003933</td>\n",
       "    </tr>\n",
       "    <tr>\n",
       "      <td>Incident_Emergency Services</td>\n",
       "      <td>-0.115807</td>\n",
       "      <td>0.088769</td>\n",
       "      <td>0.012695</td>\n",
       "      <td>-0.018855</td>\n",
       "      <td>-0.025106</td>\n",
       "      <td>0.020948</td>\n",
       "      <td>0.021805</td>\n",
       "      <td>-0.026292</td>\n",
       "      <td>1.000000</td>\n",
       "      <td>-0.047593</td>\n",
       "      <td>...</td>\n",
       "      <td>0.002627</td>\n",
       "      <td>0.058491</td>\n",
       "      <td>-0.008236</td>\n",
       "      <td>-0.006116</td>\n",
       "      <td>0.007778</td>\n",
       "      <td>-0.029954</td>\n",
       "      <td>0.000469</td>\n",
       "      <td>0.033781</td>\n",
       "      <td>0.020867</td>\n",
       "      <td>0.014830</td>\n",
       "    </tr>\n",
       "    <tr>\n",
       "      <td>Incident_General Delay</td>\n",
       "      <td>0.066561</td>\n",
       "      <td>-0.056070</td>\n",
       "      <td>-0.044952</td>\n",
       "      <td>0.150019</td>\n",
       "      <td>-0.072576</td>\n",
       "      <td>-0.069629</td>\n",
       "      <td>-0.061993</td>\n",
       "      <td>-0.043165</td>\n",
       "      <td>-0.047593</td>\n",
       "      <td>1.000000</td>\n",
       "      <td>...</td>\n",
       "      <td>-0.011242</td>\n",
       "      <td>-0.052943</td>\n",
       "      <td>0.004047</td>\n",
       "      <td>0.024207</td>\n",
       "      <td>-0.006500</td>\n",
       "      <td>0.013977</td>\n",
       "      <td>-0.077786</td>\n",
       "      <td>-0.015583</td>\n",
       "      <td>0.014625</td>\n",
       "      <td>-0.039306</td>\n",
       "    </tr>\n",
       "    <tr>\n",
       "      <td>Incident_Held By</td>\n",
       "      <td>-0.049623</td>\n",
       "      <td>0.145627</td>\n",
       "      <td>-0.015260</td>\n",
       "      <td>-0.006821</td>\n",
       "      <td>-0.022187</td>\n",
       "      <td>-0.014879</td>\n",
       "      <td>0.029317</td>\n",
       "      <td>-0.048264</td>\n",
       "      <td>-0.053216</td>\n",
       "      <td>-0.087366</td>\n",
       "      <td>...</td>\n",
       "      <td>0.009214</td>\n",
       "      <td>0.004895</td>\n",
       "      <td>0.007118</td>\n",
       "      <td>-0.020086</td>\n",
       "      <td>0.004544</td>\n",
       "      <td>0.015495</td>\n",
       "      <td>-0.019401</td>\n",
       "      <td>0.003823</td>\n",
       "      <td>0.017521</td>\n",
       "      <td>0.015541</td>\n",
       "    </tr>\n",
       "    <tr>\n",
       "      <td>Incident_Investigation</td>\n",
       "      <td>-0.041579</td>\n",
       "      <td>0.023180</td>\n",
       "      <td>-0.003480</td>\n",
       "      <td>-0.046298</td>\n",
       "      <td>-0.028632</td>\n",
       "      <td>0.044383</td>\n",
       "      <td>0.037236</td>\n",
       "      <td>-0.066828</td>\n",
       "      <td>-0.073684</td>\n",
       "      <td>-0.120969</td>\n",
       "      <td>...</td>\n",
       "      <td>0.004026</td>\n",
       "      <td>-0.026103</td>\n",
       "      <td>0.009773</td>\n",
       "      <td>0.003226</td>\n",
       "      <td>-0.014102</td>\n",
       "      <td>-0.015631</td>\n",
       "      <td>-0.062379</td>\n",
       "      <td>0.036988</td>\n",
       "      <td>0.014471</td>\n",
       "      <td>-0.027776</td>\n",
       "    </tr>\n",
       "    <tr>\n",
       "      <td>Incident_Late Leaving Garage</td>\n",
       "      <td>0.034905</td>\n",
       "      <td>-0.037796</td>\n",
       "      <td>-0.001127</td>\n",
       "      <td>0.046257</td>\n",
       "      <td>0.016165</td>\n",
       "      <td>-0.071073</td>\n",
       "      <td>-0.013656</td>\n",
       "      <td>-0.047379</td>\n",
       "      <td>-0.052239</td>\n",
       "      <td>-0.085762</td>\n",
       "      <td>...</td>\n",
       "      <td>0.003780</td>\n",
       "      <td>-0.044904</td>\n",
       "      <td>-0.053205</td>\n",
       "      <td>0.041948</td>\n",
       "      <td>-0.013253</td>\n",
       "      <td>0.049226</td>\n",
       "      <td>-0.013602</td>\n",
       "      <td>-0.063212</td>\n",
       "      <td>-0.017454</td>\n",
       "      <td>-0.019346</td>\n",
       "    </tr>\n",
       "    <tr>\n",
       "      <td>Incident_Mechanical</td>\n",
       "      <td>0.056004</td>\n",
       "      <td>-0.085908</td>\n",
       "      <td>-0.024044</td>\n",
       "      <td>-0.033899</td>\n",
       "      <td>0.056116</td>\n",
       "      <td>0.066202</td>\n",
       "      <td>-0.040518</td>\n",
       "      <td>-0.152255</td>\n",
       "      <td>-0.167875</td>\n",
       "      <td>-0.275605</td>\n",
       "      <td>...</td>\n",
       "      <td>-0.010622</td>\n",
       "      <td>0.035317</td>\n",
       "      <td>-0.006562</td>\n",
       "      <td>0.002093</td>\n",
       "      <td>0.017514</td>\n",
       "      <td>-0.011817</td>\n",
       "      <td>0.128088</td>\n",
       "      <td>0.023887</td>\n",
       "      <td>-0.025039</td>\n",
       "      <td>0.037455</td>\n",
       "    </tr>\n",
       "    <tr>\n",
       "      <td>Incident_Overhead - Pantograph</td>\n",
       "      <td>0.001624</td>\n",
       "      <td>0.035491</td>\n",
       "      <td>-0.000006</td>\n",
       "      <td>0.000816</td>\n",
       "      <td>0.001190</td>\n",
       "      <td>-0.003042</td>\n",
       "      <td>0.000257</td>\n",
       "      <td>-0.001459</td>\n",
       "      <td>-0.001608</td>\n",
       "      <td>-0.002641</td>\n",
       "      <td>...</td>\n",
       "      <td>0.000081</td>\n",
       "      <td>0.000902</td>\n",
       "      <td>0.001312</td>\n",
       "      <td>0.002834</td>\n",
       "      <td>0.003308</td>\n",
       "      <td>-0.003929</td>\n",
       "      <td>0.012722</td>\n",
       "      <td>0.013646</td>\n",
       "      <td>0.009091</td>\n",
       "      <td>0.007136</td>\n",
       "    </tr>\n",
       "    <tr>\n",
       "      <td>Incident_Utilized Off Route</td>\n",
       "      <td>0.016764</td>\n",
       "      <td>-0.046876</td>\n",
       "      <td>0.140084</td>\n",
       "      <td>-0.047447</td>\n",
       "      <td>0.050103</td>\n",
       "      <td>-0.042293</td>\n",
       "      <td>0.040846</td>\n",
       "      <td>-0.035525</td>\n",
       "      <td>-0.039170</td>\n",
       "      <td>-0.064306</td>\n",
       "      <td>...</td>\n",
       "      <td>0.016045</td>\n",
       "      <td>0.001256</td>\n",
       "      <td>0.026091</td>\n",
       "      <td>-0.036568</td>\n",
       "      <td>0.018718</td>\n",
       "      <td>-0.026884</td>\n",
       "      <td>-0.071474</td>\n",
       "      <td>-0.054064</td>\n",
       "      <td>0.014349</td>\n",
       "      <td>-0.002403</td>\n",
       "    </tr>\n",
       "    <tr>\n",
       "      <td>Day_Friday</td>\n",
       "      <td>0.032561</td>\n",
       "      <td>-0.015271</td>\n",
       "      <td>0.000548</td>\n",
       "      <td>-0.012397</td>\n",
       "      <td>0.037609</td>\n",
       "      <td>-0.011421</td>\n",
       "      <td>-0.004320</td>\n",
       "      <td>-0.006335</td>\n",
       "      <td>-0.018240</td>\n",
       "      <td>0.020540</td>\n",
       "      <td>...</td>\n",
       "      <td>-0.181626</td>\n",
       "      <td>-0.160463</td>\n",
       "      <td>-0.150951</td>\n",
       "      <td>-0.205539</td>\n",
       "      <td>-0.195083</td>\n",
       "      <td>-0.187284</td>\n",
       "      <td>0.004422</td>\n",
       "      <td>0.000818</td>\n",
       "      <td>0.016896</td>\n",
       "      <td>0.006037</td>\n",
       "    </tr>\n",
       "    <tr>\n",
       "      <td>Day_Monday</td>\n",
       "      <td>0.025761</td>\n",
       "      <td>0.000389</td>\n",
       "      <td>0.008296</td>\n",
       "      <td>0.020339</td>\n",
       "      <td>-0.014808</td>\n",
       "      <td>-0.007579</td>\n",
       "      <td>-0.006424</td>\n",
       "      <td>-0.005748</td>\n",
       "      <td>0.002627</td>\n",
       "      <td>-0.011242</td>\n",
       "      <td>...</td>\n",
       "      <td>1.000000</td>\n",
       "      <td>-0.143699</td>\n",
       "      <td>-0.135180</td>\n",
       "      <td>-0.184065</td>\n",
       "      <td>-0.174701</td>\n",
       "      <td>-0.167717</td>\n",
       "      <td>-0.012810</td>\n",
       "      <td>-0.013111</td>\n",
       "      <td>-0.043923</td>\n",
       "      <td>-0.030190</td>\n",
       "    </tr>\n",
       "    <tr>\n",
       "      <td>Day_Saturday</td>\n",
       "      <td>-0.076482</td>\n",
       "      <td>0.008964</td>\n",
       "      <td>0.021635</td>\n",
       "      <td>-0.020828</td>\n",
       "      <td>-0.009256</td>\n",
       "      <td>0.009898</td>\n",
       "      <td>0.020465</td>\n",
       "      <td>0.045228</td>\n",
       "      <td>0.058491</td>\n",
       "      <td>-0.052943</td>\n",
       "      <td>...</td>\n",
       "      <td>-0.143699</td>\n",
       "      <td>1.000000</td>\n",
       "      <td>-0.119429</td>\n",
       "      <td>-0.162618</td>\n",
       "      <td>-0.154346</td>\n",
       "      <td>-0.148175</td>\n",
       "      <td>0.004206</td>\n",
       "      <td>0.025978</td>\n",
       "      <td>0.052954</td>\n",
       "      <td>0.036483</td>\n",
       "    </tr>\n",
       "    <tr>\n",
       "      <td>Day_Sunday</td>\n",
       "      <td>-0.057406</td>\n",
       "      <td>0.024205</td>\n",
       "      <td>0.024436</td>\n",
       "      <td>-0.035471</td>\n",
       "      <td>-0.007168</td>\n",
       "      <td>0.009934</td>\n",
       "      <td>0.033618</td>\n",
       "      <td>0.047816</td>\n",
       "      <td>-0.008236</td>\n",
       "      <td>0.004047</td>\n",
       "      <td>...</td>\n",
       "      <td>-0.135180</td>\n",
       "      <td>-0.119429</td>\n",
       "      <td>1.000000</td>\n",
       "      <td>-0.152978</td>\n",
       "      <td>-0.145196</td>\n",
       "      <td>-0.139391</td>\n",
       "      <td>0.019879</td>\n",
       "      <td>0.006965</td>\n",
       "      <td>0.004209</td>\n",
       "      <td>-0.003569</td>\n",
       "    </tr>\n",
       "    <tr>\n",
       "      <td>Day_Thursday</td>\n",
       "      <td>0.022075</td>\n",
       "      <td>-0.025578</td>\n",
       "      <td>-0.040605</td>\n",
       "      <td>-0.006980</td>\n",
       "      <td>-0.043958</td>\n",
       "      <td>-0.016505</td>\n",
       "      <td>0.043944</td>\n",
       "      <td>-0.036912</td>\n",
       "      <td>-0.006116</td>\n",
       "      <td>0.024207</td>\n",
       "      <td>...</td>\n",
       "      <td>-0.184065</td>\n",
       "      <td>-0.162618</td>\n",
       "      <td>-0.152978</td>\n",
       "      <td>1.000000</td>\n",
       "      <td>-0.197703</td>\n",
       "      <td>-0.189799</td>\n",
       "      <td>0.009266</td>\n",
       "      <td>0.017152</td>\n",
       "      <td>0.005619</td>\n",
       "      <td>0.013929</td>\n",
       "    </tr>\n",
       "    <tr>\n",
       "      <td>Day_Tuesday</td>\n",
       "      <td>-0.004348</td>\n",
       "      <td>0.016828</td>\n",
       "      <td>-0.002598</td>\n",
       "      <td>0.028255</td>\n",
       "      <td>0.018935</td>\n",
       "      <td>-0.002708</td>\n",
       "      <td>-0.038067</td>\n",
       "      <td>-0.032596</td>\n",
       "      <td>0.007778</td>\n",
       "      <td>-0.006500</td>\n",
       "      <td>...</td>\n",
       "      <td>-0.174701</td>\n",
       "      <td>-0.154346</td>\n",
       "      <td>-0.145196</td>\n",
       "      <td>-0.197703</td>\n",
       "      <td>1.000000</td>\n",
       "      <td>-0.180144</td>\n",
       "      <td>-0.019094</td>\n",
       "      <td>-0.037709</td>\n",
       "      <td>0.015171</td>\n",
       "      <td>-0.012117</td>\n",
       "    </tr>\n",
       "    <tr>\n",
       "      <td>Day_Wednesday</td>\n",
       "      <td>0.038360</td>\n",
       "      <td>-0.002881</td>\n",
       "      <td>-0.002825</td>\n",
       "      <td>0.020282</td>\n",
       "      <td>0.016469</td>\n",
       "      <td>0.022575</td>\n",
       "      <td>-0.043629</td>\n",
       "      <td>0.004201</td>\n",
       "      <td>-0.029954</td>\n",
       "      <td>0.013977</td>\n",
       "      <td>...</td>\n",
       "      <td>-0.167717</td>\n",
       "      <td>-0.148175</td>\n",
       "      <td>-0.139391</td>\n",
       "      <td>-0.189799</td>\n",
       "      <td>-0.180144</td>\n",
       "      <td>1.000000</td>\n",
       "      <td>-0.003013</td>\n",
       "      <td>0.003398</td>\n",
       "      <td>-0.047262</td>\n",
       "      <td>-0.008713</td>\n",
       "    </tr>\n",
       "    <tr>\n",
       "      <td>Year</td>\n",
       "      <td>-0.015195</td>\n",
       "      <td>-0.009246</td>\n",
       "      <td>-0.108997</td>\n",
       "      <td>-0.043491</td>\n",
       "      <td>0.031135</td>\n",
       "      <td>0.043613</td>\n",
       "      <td>-0.002163</td>\n",
       "      <td>0.024028</td>\n",
       "      <td>0.000469</td>\n",
       "      <td>-0.077786</td>\n",
       "      <td>...</td>\n",
       "      <td>-0.012810</td>\n",
       "      <td>0.004206</td>\n",
       "      <td>0.019879</td>\n",
       "      <td>0.009266</td>\n",
       "      <td>-0.019094</td>\n",
       "      <td>-0.003013</td>\n",
       "      <td>1.000000</td>\n",
       "      <td>-0.083268</td>\n",
       "      <td>-0.009604</td>\n",
       "      <td>-0.007846</td>\n",
       "    </tr>\n",
       "    <tr>\n",
       "      <td>Month</td>\n",
       "      <td>-0.024061</td>\n",
       "      <td>0.013451</td>\n",
       "      <td>0.031157</td>\n",
       "      <td>-0.033423</td>\n",
       "      <td>-0.037375</td>\n",
       "      <td>0.032938</td>\n",
       "      <td>0.036714</td>\n",
       "      <td>0.008930</td>\n",
       "      <td>0.033781</td>\n",
       "      <td>-0.015583</td>\n",
       "      <td>...</td>\n",
       "      <td>-0.013111</td>\n",
       "      <td>0.025978</td>\n",
       "      <td>0.006965</td>\n",
       "      <td>0.017152</td>\n",
       "      <td>-0.037709</td>\n",
       "      <td>0.003398</td>\n",
       "      <td>-0.083268</td>\n",
       "      <td>1.000000</td>\n",
       "      <td>0.044324</td>\n",
       "      <td>0.032825</td>\n",
       "    </tr>\n",
       "    <tr>\n",
       "      <td>Day</td>\n",
       "      <td>-0.011307</td>\n",
       "      <td>-0.018059</td>\n",
       "      <td>-0.001586</td>\n",
       "      <td>-0.016545</td>\n",
       "      <td>-0.034034</td>\n",
       "      <td>0.010645</td>\n",
       "      <td>0.031163</td>\n",
       "      <td>-0.021989</td>\n",
       "      <td>0.020867</td>\n",
       "      <td>0.014625</td>\n",
       "      <td>...</td>\n",
       "      <td>-0.043923</td>\n",
       "      <td>0.052954</td>\n",
       "      <td>0.004209</td>\n",
       "      <td>0.005619</td>\n",
       "      <td>0.015171</td>\n",
       "      <td>-0.047262</td>\n",
       "      <td>-0.009604</td>\n",
       "      <td>0.044324</td>\n",
       "      <td>1.000000</td>\n",
       "      <td>0.148926</td>\n",
       "    </tr>\n",
       "    <tr>\n",
       "      <td>Hour</td>\n",
       "      <td>-0.001935</td>\n",
       "      <td>-0.006272</td>\n",
       "      <td>0.013271</td>\n",
       "      <td>-0.024280</td>\n",
       "      <td>0.029090</td>\n",
       "      <td>0.029907</td>\n",
       "      <td>-0.011764</td>\n",
       "      <td>0.003933</td>\n",
       "      <td>0.014830</td>\n",
       "      <td>-0.039306</td>\n",
       "      <td>...</td>\n",
       "      <td>-0.030190</td>\n",
       "      <td>0.036483</td>\n",
       "      <td>-0.003569</td>\n",
       "      <td>0.013929</td>\n",
       "      <td>-0.012117</td>\n",
       "      <td>-0.008713</td>\n",
       "      <td>-0.007846</td>\n",
       "      <td>0.032825</td>\n",
       "      <td>0.148926</td>\n",
       "      <td>1.000000</td>\n",
       "    </tr>\n",
       "  </tbody>\n",
       "</table>\n",
       "<p>27 rows × 27 columns</p>\n",
       "</div>"
      ],
      "text/plain": [
       "                                   Route   Min Gap   Vehicle  Direction_e  \\\n",
       "Route                           1.000000 -0.090835 -0.000206    -0.007527   \n",
       "Min Gap                        -0.090835  1.000000 -0.012631    -0.012296   \n",
       "Vehicle                        -0.000206 -0.012631  1.000000     0.029031   \n",
       "Direction_e                    -0.007527 -0.012296  0.029031     1.000000   \n",
       "Direction_n                     0.056262 -0.051257  0.025599    -0.270932   \n",
       "Direction_s                     0.065490 -0.036179 -0.014690    -0.255613   \n",
       "Direction_w                    -0.066248  0.065376 -0.035873    -0.668767   \n",
       "Incident_Diversion             -0.068125  0.088779 -0.020570    -0.017383   \n",
       "Incident_Emergency Services    -0.115807  0.088769  0.012695    -0.018855   \n",
       "Incident_General Delay          0.066561 -0.056070 -0.044952     0.150019   \n",
       "Incident_Held By               -0.049623  0.145627 -0.015260    -0.006821   \n",
       "Incident_Investigation         -0.041579  0.023180 -0.003480    -0.046298   \n",
       "Incident_Late Leaving Garage    0.034905 -0.037796 -0.001127     0.046257   \n",
       "Incident_Mechanical             0.056004 -0.085908 -0.024044    -0.033899   \n",
       "Incident_Overhead - Pantograph  0.001624  0.035491 -0.000006     0.000816   \n",
       "Incident_Utilized Off Route     0.016764 -0.046876  0.140084    -0.047447   \n",
       "Day_Friday                      0.032561 -0.015271  0.000548    -0.012397   \n",
       "Day_Monday                      0.025761  0.000389  0.008296     0.020339   \n",
       "Day_Saturday                   -0.076482  0.008964  0.021635    -0.020828   \n",
       "Day_Sunday                     -0.057406  0.024205  0.024436    -0.035471   \n",
       "Day_Thursday                    0.022075 -0.025578 -0.040605    -0.006980   \n",
       "Day_Tuesday                    -0.004348  0.016828 -0.002598     0.028255   \n",
       "Day_Wednesday                   0.038360 -0.002881 -0.002825     0.020282   \n",
       "Year                           -0.015195 -0.009246 -0.108997    -0.043491   \n",
       "Month                          -0.024061  0.013451  0.031157    -0.033423   \n",
       "Day                            -0.011307 -0.018059 -0.001586    -0.016545   \n",
       "Hour                           -0.001935 -0.006272  0.013271    -0.024280   \n",
       "\n",
       "                                Direction_n  Direction_s  Direction_w  \\\n",
       "Route                              0.056262     0.065490    -0.066248   \n",
       "Min Gap                           -0.051257    -0.036179     0.065376   \n",
       "Vehicle                            0.025599    -0.014690    -0.035873   \n",
       "Direction_e                       -0.270932    -0.255613    -0.668767   \n",
       "Direction_n                        1.000000    -0.109926    -0.287601   \n",
       "Direction_s                       -0.109926     1.000000    -0.271340   \n",
       "Direction_w                       -0.287601    -0.271340     1.000000   \n",
       "Incident_Diversion                -0.025340    -0.008306     0.037818   \n",
       "Incident_Emergency Services       -0.025106     0.020948     0.021805   \n",
       "Incident_General Delay            -0.072576    -0.069629    -0.061993   \n",
       "Incident_Held By                  -0.022187    -0.014879     0.029317   \n",
       "Incident_Investigation            -0.028632     0.044383     0.037236   \n",
       "Incident_Late Leaving Garage       0.016165    -0.071073    -0.013656   \n",
       "Incident_Mechanical                0.056116     0.066202    -0.040518   \n",
       "Incident_Overhead - Pantograph     0.001190    -0.003042     0.000257   \n",
       "Incident_Utilized Off Route        0.050103    -0.042293     0.040846   \n",
       "Day_Friday                         0.037609    -0.011421    -0.004320   \n",
       "Day_Monday                        -0.014808    -0.007579    -0.006424   \n",
       "Day_Saturday                      -0.009256     0.009898     0.020465   \n",
       "Day_Sunday                        -0.007168     0.009934     0.033618   \n",
       "Day_Thursday                      -0.043958    -0.016505     0.043944   \n",
       "Day_Tuesday                        0.018935    -0.002708    -0.038067   \n",
       "Day_Wednesday                      0.016469     0.022575    -0.043629   \n",
       "Year                               0.031135     0.043613    -0.002163   \n",
       "Month                             -0.037375     0.032938     0.036714   \n",
       "Day                               -0.034034     0.010645     0.031163   \n",
       "Hour                               0.029090     0.029907    -0.011764   \n",
       "\n",
       "                                Incident_Diversion  \\\n",
       "Route                                    -0.068125   \n",
       "Min Gap                                   0.088779   \n",
       "Vehicle                                  -0.020570   \n",
       "Direction_e                              -0.017383   \n",
       "Direction_n                              -0.025340   \n",
       "Direction_s                              -0.008306   \n",
       "Direction_w                               0.037818   \n",
       "Incident_Diversion                        1.000000   \n",
       "Incident_Emergency Services              -0.026292   \n",
       "Incident_General Delay                   -0.043165   \n",
       "Incident_Held By                         -0.048264   \n",
       "Incident_Investigation                   -0.066828   \n",
       "Incident_Late Leaving Garage             -0.047379   \n",
       "Incident_Mechanical                      -0.152255   \n",
       "Incident_Overhead - Pantograph           -0.001459   \n",
       "Incident_Utilized Off Route              -0.035525   \n",
       "Day_Friday                               -0.006335   \n",
       "Day_Monday                               -0.005748   \n",
       "Day_Saturday                              0.045228   \n",
       "Day_Sunday                                0.047816   \n",
       "Day_Thursday                             -0.036912   \n",
       "Day_Tuesday                              -0.032596   \n",
       "Day_Wednesday                             0.004201   \n",
       "Year                                      0.024028   \n",
       "Month                                     0.008930   \n",
       "Day                                      -0.021989   \n",
       "Hour                                      0.003933   \n",
       "\n",
       "                                Incident_Emergency Services  \\\n",
       "Route                                             -0.115807   \n",
       "Min Gap                                            0.088769   \n",
       "Vehicle                                            0.012695   \n",
       "Direction_e                                       -0.018855   \n",
       "Direction_n                                       -0.025106   \n",
       "Direction_s                                        0.020948   \n",
       "Direction_w                                        0.021805   \n",
       "Incident_Diversion                                -0.026292   \n",
       "Incident_Emergency Services                        1.000000   \n",
       "Incident_General Delay                            -0.047593   \n",
       "Incident_Held By                                  -0.053216   \n",
       "Incident_Investigation                            -0.073684   \n",
       "Incident_Late Leaving Garage                      -0.052239   \n",
       "Incident_Mechanical                               -0.167875   \n",
       "Incident_Overhead - Pantograph                    -0.001608   \n",
       "Incident_Utilized Off Route                       -0.039170   \n",
       "Day_Friday                                        -0.018240   \n",
       "Day_Monday                                         0.002627   \n",
       "Day_Saturday                                       0.058491   \n",
       "Day_Sunday                                        -0.008236   \n",
       "Day_Thursday                                      -0.006116   \n",
       "Day_Tuesday                                        0.007778   \n",
       "Day_Wednesday                                     -0.029954   \n",
       "Year                                               0.000469   \n",
       "Month                                              0.033781   \n",
       "Day                                                0.020867   \n",
       "Hour                                               0.014830   \n",
       "\n",
       "                                Incident_General Delay  ...  Day_Monday  \\\n",
       "Route                                         0.066561  ...    0.025761   \n",
       "Min Gap                                      -0.056070  ...    0.000389   \n",
       "Vehicle                                      -0.044952  ...    0.008296   \n",
       "Direction_e                                   0.150019  ...    0.020339   \n",
       "Direction_n                                  -0.072576  ...   -0.014808   \n",
       "Direction_s                                  -0.069629  ...   -0.007579   \n",
       "Direction_w                                  -0.061993  ...   -0.006424   \n",
       "Incident_Diversion                           -0.043165  ...   -0.005748   \n",
       "Incident_Emergency Services                  -0.047593  ...    0.002627   \n",
       "Incident_General Delay                        1.000000  ...   -0.011242   \n",
       "Incident_Held By                             -0.087366  ...    0.009214   \n",
       "Incident_Investigation                       -0.120969  ...    0.004026   \n",
       "Incident_Late Leaving Garage                 -0.085762  ...    0.003780   \n",
       "Incident_Mechanical                          -0.275605  ...   -0.010622   \n",
       "Incident_Overhead - Pantograph               -0.002641  ...    0.000081   \n",
       "Incident_Utilized Off Route                  -0.064306  ...    0.016045   \n",
       "Day_Friday                                    0.020540  ...   -0.181626   \n",
       "Day_Monday                                   -0.011242  ...    1.000000   \n",
       "Day_Saturday                                 -0.052943  ...   -0.143699   \n",
       "Day_Sunday                                    0.004047  ...   -0.135180   \n",
       "Day_Thursday                                  0.024207  ...   -0.184065   \n",
       "Day_Tuesday                                  -0.006500  ...   -0.174701   \n",
       "Day_Wednesday                                 0.013977  ...   -0.167717   \n",
       "Year                                         -0.077786  ...   -0.012810   \n",
       "Month                                        -0.015583  ...   -0.013111   \n",
       "Day                                           0.014625  ...   -0.043923   \n",
       "Hour                                         -0.039306  ...   -0.030190   \n",
       "\n",
       "                                Day_Saturday  Day_Sunday  Day_Thursday  \\\n",
       "Route                              -0.076482   -0.057406      0.022075   \n",
       "Min Gap                             0.008964    0.024205     -0.025578   \n",
       "Vehicle                             0.021635    0.024436     -0.040605   \n",
       "Direction_e                        -0.020828   -0.035471     -0.006980   \n",
       "Direction_n                        -0.009256   -0.007168     -0.043958   \n",
       "Direction_s                         0.009898    0.009934     -0.016505   \n",
       "Direction_w                         0.020465    0.033618      0.043944   \n",
       "Incident_Diversion                  0.045228    0.047816     -0.036912   \n",
       "Incident_Emergency Services         0.058491   -0.008236     -0.006116   \n",
       "Incident_General Delay             -0.052943    0.004047      0.024207   \n",
       "Incident_Held By                    0.004895    0.007118     -0.020086   \n",
       "Incident_Investigation             -0.026103    0.009773      0.003226   \n",
       "Incident_Late Leaving Garage       -0.044904   -0.053205      0.041948   \n",
       "Incident_Mechanical                 0.035317   -0.006562      0.002093   \n",
       "Incident_Overhead - Pantograph      0.000902    0.001312      0.002834   \n",
       "Incident_Utilized Off Route         0.001256    0.026091     -0.036568   \n",
       "Day_Friday                         -0.160463   -0.150951     -0.205539   \n",
       "Day_Monday                         -0.143699   -0.135180     -0.184065   \n",
       "Day_Saturday                        1.000000   -0.119429     -0.162618   \n",
       "Day_Sunday                         -0.119429    1.000000     -0.152978   \n",
       "Day_Thursday                       -0.162618   -0.152978      1.000000   \n",
       "Day_Tuesday                        -0.154346   -0.145196     -0.197703   \n",
       "Day_Wednesday                      -0.148175   -0.139391     -0.189799   \n",
       "Year                                0.004206    0.019879      0.009266   \n",
       "Month                               0.025978    0.006965      0.017152   \n",
       "Day                                 0.052954    0.004209      0.005619   \n",
       "Hour                                0.036483   -0.003569      0.013929   \n",
       "\n",
       "                                Day_Tuesday  Day_Wednesday      Year  \\\n",
       "Route                             -0.004348       0.038360 -0.015195   \n",
       "Min Gap                            0.016828      -0.002881 -0.009246   \n",
       "Vehicle                           -0.002598      -0.002825 -0.108997   \n",
       "Direction_e                        0.028255       0.020282 -0.043491   \n",
       "Direction_n                        0.018935       0.016469  0.031135   \n",
       "Direction_s                       -0.002708       0.022575  0.043613   \n",
       "Direction_w                       -0.038067      -0.043629 -0.002163   \n",
       "Incident_Diversion                -0.032596       0.004201  0.024028   \n",
       "Incident_Emergency Services        0.007778      -0.029954  0.000469   \n",
       "Incident_General Delay            -0.006500       0.013977 -0.077786   \n",
       "Incident_Held By                   0.004544       0.015495 -0.019401   \n",
       "Incident_Investigation            -0.014102      -0.015631 -0.062379   \n",
       "Incident_Late Leaving Garage      -0.013253       0.049226 -0.013602   \n",
       "Incident_Mechanical                0.017514      -0.011817  0.128088   \n",
       "Incident_Overhead - Pantograph     0.003308      -0.003929  0.012722   \n",
       "Incident_Utilized Off Route        0.018718      -0.026884 -0.071474   \n",
       "Day_Friday                        -0.195083      -0.187284  0.004422   \n",
       "Day_Monday                        -0.174701      -0.167717 -0.012810   \n",
       "Day_Saturday                      -0.154346      -0.148175  0.004206   \n",
       "Day_Sunday                        -0.145196      -0.139391  0.019879   \n",
       "Day_Thursday                      -0.197703      -0.189799  0.009266   \n",
       "Day_Tuesday                        1.000000      -0.180144 -0.019094   \n",
       "Day_Wednesday                     -0.180144       1.000000 -0.003013   \n",
       "Year                              -0.019094      -0.003013  1.000000   \n",
       "Month                             -0.037709       0.003398 -0.083268   \n",
       "Day                                0.015171      -0.047262 -0.009604   \n",
       "Hour                              -0.012117      -0.008713 -0.007846   \n",
       "\n",
       "                                   Month       Day      Hour  \n",
       "Route                          -0.024061 -0.011307 -0.001935  \n",
       "Min Gap                         0.013451 -0.018059 -0.006272  \n",
       "Vehicle                         0.031157 -0.001586  0.013271  \n",
       "Direction_e                    -0.033423 -0.016545 -0.024280  \n",
       "Direction_n                    -0.037375 -0.034034  0.029090  \n",
       "Direction_s                     0.032938  0.010645  0.029907  \n",
       "Direction_w                     0.036714  0.031163 -0.011764  \n",
       "Incident_Diversion              0.008930 -0.021989  0.003933  \n",
       "Incident_Emergency Services     0.033781  0.020867  0.014830  \n",
       "Incident_General Delay         -0.015583  0.014625 -0.039306  \n",
       "Incident_Held By                0.003823  0.017521  0.015541  \n",
       "Incident_Investigation          0.036988  0.014471 -0.027776  \n",
       "Incident_Late Leaving Garage   -0.063212 -0.017454 -0.019346  \n",
       "Incident_Mechanical             0.023887 -0.025039  0.037455  \n",
       "Incident_Overhead - Pantograph  0.013646  0.009091  0.007136  \n",
       "Incident_Utilized Off Route    -0.054064  0.014349 -0.002403  \n",
       "Day_Friday                      0.000818  0.016896  0.006037  \n",
       "Day_Monday                     -0.013111 -0.043923 -0.030190  \n",
       "Day_Saturday                    0.025978  0.052954  0.036483  \n",
       "Day_Sunday                      0.006965  0.004209 -0.003569  \n",
       "Day_Thursday                    0.017152  0.005619  0.013929  \n",
       "Day_Tuesday                    -0.037709  0.015171 -0.012117  \n",
       "Day_Wednesday                   0.003398 -0.047262 -0.008713  \n",
       "Year                           -0.083268 -0.009604 -0.007846  \n",
       "Month                           1.000000  0.044324  0.032825  \n",
       "Day                             0.044324  1.000000  0.148926  \n",
       "Hour                            0.032825  0.148926  1.000000  \n",
       "\n",
       "[27 rows x 27 columns]"
      ]
     },
     "execution_count": 111,
     "metadata": {},
     "output_type": "execute_result"
    }
   ],
   "source": [
    "X.corr()"
   ]
  },
  {
   "cell_type": "code",
   "execution_count": 112,
   "metadata": {},
   "outputs": [],
   "source": [
    "number_of_features = X.shape[1]"
   ]
  },
  {
   "cell_type": "code",
   "execution_count": 113,
   "metadata": {},
   "outputs": [
    {
     "data": {
      "image/png": "[encoded data removed]",
      "text/plain": [
       "<Figure size 720x720 with 2 Axes>"
      ]
     },
     "metadata": {
      "needs_background": "light"
     },
     "output_type": "display_data"
    }
   ],
   "source": [
    "plt.figure(figsize = (10, 10))\n",
    "plt.xticks(range(0, number_of_features), feature_names, rotation='vertical')\n",
    "plt.yticks(range(0, number_of_features), feature_names)\n",
    "plt.imshow(X.corr(), cmap='ocean')\n",
    "plt.colorbar()\n",
    "plt.show()"
   ]
  },
  {
   "cell_type": "markdown",
   "metadata": {},
   "source": [
    "# Logistic regression"
   ]
  },
  {
   "cell_type": "code",
   "execution_count": 114,
   "metadata": {},
   "outputs": [],
   "source": [
    "from sklearn import linear_model\n",
    "from sklearn import model_selection\n",
    "from sklearn import metrics\n",
    "from sklearn import preprocessing\n",
    "from sklearn import datasets"
   ]
  },
  {
   "cell_type": "code",
   "execution_count": 115,
   "metadata": {},
   "outputs": [],
   "source": [
    "X_train, X_test, y_train, y_test = model_selection.train_test_split(X, y, test_size = 0.33, random_state = 7, stratify = y)"
   ]
  },
  {
   "cell_type": "code",
   "execution_count": 116,
   "metadata": {},
   "outputs": [
    {
     "data": {
      "text/plain": [
       "(52557, 27)"
      ]
     },
     "execution_count": 116,
     "metadata": {},
     "output_type": "execute_result"
    }
   ],
   "source": [
    "X_train.shape"
   ]
  },
  {
   "cell_type": "code",
   "execution_count": 117,
   "metadata": {},
   "outputs": [
    {
     "data": {
      "text/plain": [
       "(25887, 27)"
      ]
     },
     "execution_count": 117,
     "metadata": {},
     "output_type": "execute_result"
    }
   ],
   "source": [
    "X_test.shape"
   ]
  },
  {
   "cell_type": "code",
   "execution_count": 118,
   "metadata": {},
   "outputs": [
    {
     "data": {
      "text/plain": [
       "(52557,)"
      ]
     },
     "execution_count": 118,
     "metadata": {},
     "output_type": "execute_result"
    }
   ],
   "source": [
    " y_train.shape\n",
    "    "
   ]
  },
  {
   "cell_type": "code",
   "execution_count": 119,
   "metadata": {},
   "outputs": [
    {
     "data": {
      "text/plain": [
       "(25887,)"
      ]
     },
     "execution_count": 119,
     "metadata": {},
     "output_type": "execute_result"
    }
   ],
   "source": [
    "y_test.shape"
   ]
  },
  {
   "cell_type": "code",
   "execution_count": 120,
   "metadata": {},
   "outputs": [],
   "source": [
    "scaler = preprocessing.StandardScaler()\n",
    "scaler.fit(X_train)\n",
    "X_train = scaler.transform(X_train)\n",
    "X_test = scaler.transform(X_test)"
   ]
  },
  {
   "cell_type": "code",
   "execution_count": 121,
   "metadata": {},
   "outputs": [
    {
     "name": "stdout",
     "output_type": "stream",
     "text": [
      "Train Delay:  29732      Train Without Delay:  22825\n"
     ]
    }
   ],
   "source": [
    "wd_train = np.sum(y_train == 0)\n",
    "d_train = np.sum(y_train == 1)\n",
    "print('Train Delay: ', d_train, '     Train Without Delay: ', wd_train)"
   ]
  },
  {
   "cell_type": "code",
   "execution_count": 122,
   "metadata": {},
   "outputs": [
    {
     "name": "stdout",
     "output_type": "stream",
     "text": [
      "Test Delay:  14644      Test Without Delay:  11243\n"
     ]
    }
   ],
   "source": [
    "wd_test = np.sum(y_test == 0)\n",
    "d_test = np.sum(y_test == 1)\n",
    "print('Test Delay: ', d_test, '     Test Without Delay: ', wd_test)"
   ]
  },
  {
   "cell_type": "code",
   "execution_count": 123,
   "metadata": {},
   "outputs": [
    {
     "data": {
      "image/png": "[encoded data removed]",
      "text/plain": [
       "<Figure size 504x504 with 1 Axes>"
      ]
     },
     "metadata": {
      "needs_background": "light"
     },
     "output_type": "display_data"
    }
   ],
   "source": [
    "plt.figure(figsize = (7, 7))\n",
    "matplotlib.rc('xtick', labelsize = 12) \n",
    "matplotlib.rc('ytick', labelsize = 12) \n",
    "plt.title(\"Visual inspection of stratification\")\n",
    "plt.xticks([0,1])\n",
    "plt.xlabel('No delay                                                        delay ', fontsize = 15 )\n",
    "plt.hist([y_train, y_test], color=['red', 'blue'], label=['training set ',' testing set'])\n",
    "plt.legend(loc='best')\n",
    "plt.show()"
   ]
  },
  {
   "cell_type": "markdown",
   "metadata": {},
   "source": [
    "## Model learning"
   ]
  },
  {
   "cell_type": "code",
   "execution_count": 124,
   "metadata": {},
   "outputs": [],
   "source": [
    "model = linear_model.LogisticRegression(solver='lbfgs')"
   ]
  },
  {
   "cell_type": "code",
   "execution_count": 125,
   "metadata": {},
   "outputs": [
    {
     "data": {
      "text/plain": [
       "LogisticRegression(C=1.0, class_weight=None, dual=False, fit_intercept=True,\n",
       "                   intercept_scaling=1, l1_ratio=None, max_iter=100,\n",
       "                   multi_class='warn', n_jobs=None, penalty='l2',\n",
       "                   random_state=None, solver='lbfgs', tol=0.0001, verbose=0,\n",
       "                   warm_start=False)"
      ]
     },
     "execution_count": 125,
     "metadata": {},
     "output_type": "execute_result"
    }
   ],
   "source": [
    "model.fit(X_train, y_train)"
   ]
  },
  {
   "cell_type": "code",
   "execution_count": 126,
   "metadata": {},
   "outputs": [
    {
     "data": {
      "text/plain": [
       "array([1.4270589])"
      ]
     },
     "execution_count": 126,
     "metadata": {},
     "output_type": "execute_result"
    }
   ],
   "source": [
    "model.intercept_"
   ]
  },
  {
   "cell_type": "code",
   "execution_count": 127,
   "metadata": {},
   "outputs": [
    {
     "data": {
      "text/plain": [
       "array([[ 2.44740938e-01,  8.15960031e+00, -6.38730536e-03,\n",
       "         7.67678217e-02, -6.96427118e-02, -4.09649060e-02,\n",
       "        -8.26101754e-03, -2.43019356e-01, -2.21664151e-01,\n",
       "        -2.41417202e-01,  7.44242648e-02, -1.05001040e-01,\n",
       "         2.32997961e-01,  1.77756597e-01,  7.41219202e-02,\n",
       "        -7.05116802e-03, -9.06699464e-03,  3.41975469e-02,\n",
       "        -3.87929716e-02, -5.28210258e-02,  1.45075522e-02,\n",
       "        -1.31644725e-02,  5.35833103e-02, -1.22083375e-01,\n",
       "         3.56497175e-02, -1.76945274e-02,  8.85600129e-03]])"
      ]
     },
     "execution_count": 127,
     "metadata": {},
     "output_type": "execute_result"
    }
   ],
   "source": [
    "model.coef_"
   ]
  },
  {
   "cell_type": "markdown",
   "metadata": {},
   "source": [
    "## Evaluation"
   ]
  },
  {
   "cell_type": "code",
   "execution_count": 128,
   "metadata": {},
   "outputs": [],
   "source": [
    "y_test_predicted = model.predict(X_test)"
   ]
  },
  {
   "cell_type": "code",
   "execution_count": 129,
   "metadata": {},
   "outputs": [
    {
     "data": {
      "text/plain": [
       "0.9361069262564221"
      ]
     },
     "execution_count": 129,
     "metadata": {},
     "output_type": "execute_result"
    }
   ],
   "source": [
    "accuracy = metrics.accuracy_score(y_test, y_test_predicted)\n",
    "accuracy"
   ]
  },
  {
   "cell_type": "code",
   "execution_count": 130,
   "metadata": {},
   "outputs": [
    {
     "data": {
      "text/plain": [
       "0.9390293362173854"
      ]
     },
     "execution_count": 130,
     "metadata": {},
     "output_type": "execute_result"
    }
   ],
   "source": [
    "precision = metrics.precision_score(y_test, y_test_predicted)\n",
    "precision"
   ]
  },
  {
   "cell_type": "code",
   "execution_count": 131,
   "metadata": {},
   "outputs": [
    {
     "data": {
      "text/plain": [
       "0.9486479104069926"
      ]
     },
     "execution_count": 131,
     "metadata": {},
     "output_type": "execute_result"
    }
   ],
   "source": [
    "recall = metrics.recall_score(y_test, y_test_predicted)\n",
    "recall"
   ]
  },
  {
   "cell_type": "code",
   "execution_count": 132,
   "metadata": {},
   "outputs": [
    {
     "data": {
      "text/plain": [
       "0.9438141178069163"
      ]
     },
     "execution_count": 132,
     "metadata": {},
     "output_type": "execute_result"
    }
   ],
   "source": [
    "f1 = metrics.f1_score(y_test, y_test_predicted)\n",
    "f1"
   ]
  },
  {
   "cell_type": "code",
   "execution_count": 133,
   "metadata": {},
   "outputs": [],
   "source": [
    "y_train_predicted = model.predict(X_train)"
   ]
  },
  {
   "cell_type": "code",
   "execution_count": 134,
   "metadata": {},
   "outputs": [
    {
     "data": {
      "text/plain": [
       "array([1, 0, 0, 1, 1, 1, 0, 0, 1, 0, 1, 1, 1, 1, 1, 0, 1, 1, 1, 1, 1, 1,\n",
       "       1, 0, 1, 1, 0, 1, 1, 1], dtype=int64)"
      ]
     },
     "execution_count": 134,
     "metadata": {},
     "output_type": "execute_result"
    }
   ],
   "source": [
    "y_train_predicted[:30]"
   ]
  },
  {
   "cell_type": "code",
   "execution_count": 135,
   "metadata": {},
   "outputs": [],
   "source": [
    "train_score = metrics.accuracy_score(y_train, y_train_predicted)\n",
    "test_score = metrics.accuracy_score(y_test, y_test_predicted)"
   ]
  },
  {
   "cell_type": "code",
   "execution_count": 136,
   "metadata": {},
   "outputs": [
    {
     "name": "stdout",
     "output_type": "stream",
     "text": [
      "Accuracy at the training set: 0.9337290941263771\n",
      "Accuracy at the test set: 0.9361069262564221\n"
     ]
    }
   ],
   "source": [
    "print(\"Accuracy at the training set: {train}\\nAccuracy at the test set: {test}\".format(train=train_score, test=test_score))"
   ]
  },
  {
   "cell_type": "code",
   "execution_count": 137,
   "metadata": {},
   "outputs": [
    {
     "name": "stdout",
     "output_type": "stream",
     "text": [
      "              precision    recall  f1-score   support\n",
      "\n",
      "           0       0.93      0.92      0.93     11243\n",
      "           1       0.94      0.95      0.94     14644\n",
      "\n",
      "    accuracy                           0.94     25887\n",
      "   macro avg       0.94      0.93      0.93     25887\n",
      "weighted avg       0.94      0.94      0.94     25887\n",
      "\n"
     ]
    }
   ],
   "source": [
    "print(metrics.classification_report(y_test, y_test_predicted))"
   ]
  },
  {
   "cell_type": "code",
   "execution_count": 138,
   "metadata": {},
   "outputs": [
    {
     "data": {
      "text/plain": [
       "array([[10341,   902],\n",
       "       [  752, 13892]], dtype=int64)"
      ]
     },
     "execution_count": 138,
     "metadata": {},
     "output_type": "execute_result"
    }
   ],
   "source": [
    "metrics.confusion_matrix(y_test, y_test_predicted)"
   ]
  },
  {
   "cell_type": "code",
   "execution_count": 139,
   "metadata": {},
   "outputs": [
    {
     "data": {
      "image/png": "[encoded data removed]",
      "text/plain": [
       "<Figure size 720x360 with 1 Axes>"
      ]
     },
     "metadata": {
      "needs_background": "light"
     },
     "output_type": "display_data"
    }
   ],
   "source": [
    "fig = plt.figure(figsize=(10, 5))\n",
    "plt.bar(['accuracy', 'precision', 'recall', 'f1'], [accuracy , precision, recall, f1], color='orangered')\n",
    "plt.title(\"Evaluation Logistic Regression\")\n",
    "plt.yticks(np.arange(0, 1, 0.1)) \n",
    "plt.show()"
   ]
  },
  {
   "cell_type": "markdown",
   "metadata": {},
   "source": [
    "# Neural networks"
   ]
  },
  {
   "cell_type": "code",
   "execution_count": 140,
   "metadata": {},
   "outputs": [],
   "source": [
    "import tensorflow as tf\n",
    "from keras.models import Sequential\n",
    "from keras.layers import Dense, Activation\n",
    "from keras import losses, optimizers\n",
    "from keras.layers import Dropout\n",
    "import numpy as np\n",
    "from matplotlib import pyplot as plt\n",
    "from sklearn import preprocessing\n",
    "from sklearn import datasets\n",
    "from sklearn import model_selection\n"
   ]
  },
  {
   "cell_type": "code",
   "execution_count": 141,
   "metadata": {},
   "outputs": [],
   "source": [
    "np.random.seed(7)"
   ]
  },
  {
   "cell_type": "markdown",
   "metadata": {},
   "source": [
    "## Creating Neural networks"
   ]
  },
  {
   "cell_type": "markdown",
   "metadata": {},
   "source": [
    "I will create a neural network with advance propagation. <br> The neural network will have an input layer, three hidden layers with, respectively, 100, 40 and 20 neurons, and an output layer. <br> The number of input layer neurons corresponds to the number of attributes of the data set, which is 27. <br> The number of output layer neurons is 1 since it is a binary classification. <br> In hidden layers I will use relu activation function and in the latter sigmoid function. <br> Optimizer Adam will be used. <br> Binary cross entropy as a function of error will be used. <br> Since the task of classification metrics will be accuracy. <br> I will use Dropout regularization for reducing overfitting and improving the generalization. "
   ]
  },
  {
   "cell_type": "code",
   "execution_count": 142,
   "metadata": {},
   "outputs": [],
   "source": [
    "number_of_features = X_train.shape[1]\n",
    "output_size = 1"
   ]
  },
  {
   "cell_type": "code",
   "execution_count": 143,
   "metadata": {},
   "outputs": [
    {
     "data": {
      "text/plain": [
       "27"
      ]
     },
     "execution_count": 143,
     "metadata": {},
     "output_type": "execute_result"
    }
   ],
   "source": [
    "number_of_features"
   ]
  },
  {
   "cell_type": "code",
   "execution_count": 144,
   "metadata": {},
   "outputs": [],
   "source": [
    "model = Sequential()\n",
    "model.add(Dense(units = 100, input_dim = number_of_features, activation = 'relu'))\n",
    "model.add(Dense(units = 40, activation = 'relu'))\n",
    "model.add(Dense(units = 20, activation = 'relu'))\n",
    "model.add(Dropout(0.1))\n",
    "model.add(Dense(units = output_size, activation = 'sigmoid'))"
   ]
  },
  {
   "cell_type": "code",
   "execution_count": 145,
   "metadata": {},
   "outputs": [],
   "source": [
    "model.compile( optimizers.Adam(learning_rate = 0.0001), loss = losses.BinaryCrossentropy(), metrics = ['accuracy'] )"
   ]
  },
  {
   "cell_type": "code",
   "execution_count": 146,
   "metadata": {},
   "outputs": [
    {
     "name": "stdout",
     "output_type": "stream",
     "text": [
      "Model: \"sequential_4\"\n",
      "_________________________________________________________________\n",
      "Layer (type)                 Output Shape              Param #   \n",
      "=================================================================\n",
      "dense_16 (Dense)             (None, 100)               2800      \n",
      "_________________________________________________________________\n",
      "dense_17 (Dense)             (None, 40)                4040      \n",
      "_________________________________________________________________\n",
      "dense_18 (Dense)             (None, 20)                820       \n",
      "_________________________________________________________________\n",
      "dropout_4 (Dropout)          (None, 20)                0         \n",
      "_________________________________________________________________\n",
      "dense_19 (Dense)             (None, 1)                 21        \n",
      "=================================================================\n",
      "Total params: 7,681\n",
      "Trainable params: 7,681\n",
      "Non-trainable params: 0\n",
      "_________________________________________________________________\n"
     ]
    }
   ],
   "source": [
    "model.summary()"
   ]
  },
  {
   "cell_type": "code",
   "execution_count": 147,
   "metadata": {},
   "outputs": [
    {
     "name": "stdout",
     "output_type": "stream",
     "text": [
      "Epoch 1/50\n",
      "1314/1314 [==============================] - 6s 5ms/step - loss: 0.5923 - accuracy: 0.6894 - val_loss: 0.4792 - val_accuracy: 0.7956\n",
      "Epoch 2/50\n",
      "1314/1314 [==============================] - 8s 6ms/step - loss: 0.3718 - accuracy: 0.8729 - val_loss: 0.2781 - val_accuracy: 0.9212\n",
      "Epoch 3/50\n",
      "1314/1314 [==============================] - 6s 4ms/step - loss: 0.2432 - accuracy: 0.9331 - val_loss: 0.2089 - val_accuracy: 0.9439\n",
      "Epoch 4/50\n",
      "1314/1314 [==============================] - 6s 5ms/step - loss: 0.1925 - accuracy: 0.9460 - val_loss: 0.1750 - val_accuracy: 0.9503\n",
      "Epoch 5/50\n",
      "1314/1314 [==============================] - 6s 5ms/step - loss: 0.1639 - accuracy: 0.9517 - val_loss: 0.1514 - val_accuracy: 0.9536\n",
      "Epoch 6/50\n",
      "1314/1314 [==============================] - 6s 5ms/step - loss: 0.1422 - accuracy: 0.9547 - val_loss: 0.1377 - val_accuracy: 0.9580\n",
      "Epoch 7/50\n",
      "1314/1314 [==============================] - 7s 6ms/step - loss: 0.1282 - accuracy: 0.9589 - val_loss: 0.1254 - val_accuracy: 0.9604\n",
      "Epoch 8/50\n",
      "1314/1314 [==============================] - 7s 6ms/step - loss: 0.1162 - accuracy: 0.9619 - val_loss: 0.1174 - val_accuracy: 0.9626\n",
      "Epoch 9/50\n",
      "1314/1314 [==============================] - 7s 6ms/step - loss: 0.1067 - accuracy: 0.9656 - val_loss: 0.1065 - val_accuracy: 0.9675\n",
      "Epoch 10/50\n",
      "1314/1314 [==============================] - 7s 5ms/step - loss: 0.0983 - accuracy: 0.9691 - val_loss: 0.1005 - val_accuracy: 0.9697\n",
      "Epoch 11/50\n",
      "1314/1314 [==============================] - 6s 5ms/step - loss: 0.0910 - accuracy: 0.9713 - val_loss: 0.0933 - val_accuracy: 0.9704\n",
      "Epoch 12/50\n",
      "1314/1314 [==============================] - 7s 5ms/step - loss: 0.0841 - accuracy: 0.9736 - val_loss: 0.0862 - val_accuracy: 0.9733\n",
      "Epoch 13/50\n",
      "1314/1314 [==============================] - 6s 5ms/step - loss: 0.0780 - accuracy: 0.9750 - val_loss: 0.0855 - val_accuracy: 0.9742\n",
      "Epoch 14/50\n",
      "1314/1314 [==============================] - 7s 5ms/step - loss: 0.0721 - accuracy: 0.9774 - val_loss: 0.0752 - val_accuracy: 0.9765\n",
      "Epoch 15/50\n",
      "1314/1314 [==============================] - 7s 5ms/step - loss: 0.0669 - accuracy: 0.9797 - val_loss: 0.0724 - val_accuracy: 0.9765\n",
      "Epoch 16/50\n",
      "1314/1314 [==============================] - 7s 6ms/step - loss: 0.0636 - accuracy: 0.9807 - val_loss: 0.0696 - val_accuracy: 0.9782\n",
      "Epoch 17/50\n",
      "1314/1314 [==============================] - 6s 5ms/step - loss: 0.0588 - accuracy: 0.9824 - val_loss: 0.0674 - val_accuracy: 0.9786\n",
      "Epoch 18/50\n",
      "1314/1314 [==============================] - 6s 5ms/step - loss: 0.0550 - accuracy: 0.9829 - val_loss: 0.0638 - val_accuracy: 0.9817\n",
      "Epoch 19/50\n",
      "1314/1314 [==============================] - 6s 5ms/step - loss: 0.0529 - accuracy: 0.9844 - val_loss: 0.0592 - val_accuracy: 0.9854\n",
      "Epoch 20/50\n",
      "1314/1314 [==============================] - 6s 5ms/step - loss: 0.0492 - accuracy: 0.9856 - val_loss: 0.0574 - val_accuracy: 0.9836\n",
      "Epoch 21/50\n",
      "1314/1314 [==============================] - 6s 5ms/step - loss: 0.0465 - accuracy: 0.9866 - val_loss: 0.0556 - val_accuracy: 0.9838\n",
      "Epoch 22/50\n",
      "1314/1314 [==============================] - 7s 5ms/step - loss: 0.0432 - accuracy: 0.9876 - val_loss: 0.0572 - val_accuracy: 0.9854\n",
      "Epoch 23/50\n",
      "1314/1314 [==============================] - 6s 5ms/step - loss: 0.0410 - accuracy: 0.9891 - val_loss: 0.0530 - val_accuracy: 0.9851\n",
      "Epoch 24/50\n",
      "1314/1314 [==============================] - 6s 5ms/step - loss: 0.0384 - accuracy: 0.9894 - val_loss: 0.0498 - val_accuracy: 0.9871\n",
      "Epoch 25/50\n",
      "1314/1314 [==============================] - 6s 5ms/step - loss: 0.0363 - accuracy: 0.9903 - val_loss: 0.0478 - val_accuracy: 0.9884\n",
      "Epoch 26/50\n",
      "1314/1314 [==============================] - 7s 5ms/step - loss: 0.0347 - accuracy: 0.9908 - val_loss: 0.0455 - val_accuracy: 0.9892\n",
      "Epoch 27/50\n",
      "1314/1314 [==============================] - 8s 6ms/step - loss: 0.0334 - accuracy: 0.9913 - val_loss: 0.0495 - val_accuracy: 0.9882\n",
      "Epoch 28/50\n",
      "1314/1314 [==============================] - 7s 5ms/step - loss: 0.0320 - accuracy: 0.9916 - val_loss: 0.0441 - val_accuracy: 0.9894\n",
      "Epoch 29/50\n",
      "1314/1314 [==============================] - 8s 6ms/step - loss: 0.0297 - accuracy: 0.9923 - val_loss: 0.0415 - val_accuracy: 0.9898\n",
      "Epoch 30/50\n",
      "1314/1314 [==============================] - 6s 4ms/step - loss: 0.0285 - accuracy: 0.9928 - val_loss: 0.0403 - val_accuracy: 0.9912\n",
      "Epoch 31/50\n",
      "1314/1314 [==============================] - 6s 4ms/step - loss: 0.0277 - accuracy: 0.9934 - val_loss: 0.0400 - val_accuracy: 0.9901\n",
      "Epoch 32/50\n",
      "1314/1314 [==============================] - 6s 4ms/step - loss: 0.0260 - accuracy: 0.9938 - val_loss: 0.0373 - val_accuracy: 0.9924\n",
      "Epoch 33/50\n",
      "1314/1314 [==============================] - 6s 4ms/step - loss: 0.0253 - accuracy: 0.9945 - val_loss: 0.0379 - val_accuracy: 0.9918\n",
      "Epoch 34/50\n",
      "1314/1314 [==============================] - 6s 5ms/step - loss: 0.0238 - accuracy: 0.9945 - val_loss: 0.0413 - val_accuracy: 0.9902\n",
      "Epoch 35/50\n",
      "1314/1314 [==============================] - 6s 4ms/step - loss: 0.0230 - accuracy: 0.9948 - val_loss: 0.0355 - val_accuracy: 0.9923\n",
      "Epoch 36/50\n",
      "1314/1314 [==============================] - 6s 5ms/step - loss: 0.0219 - accuracy: 0.9948 - val_loss: 0.0371 - val_accuracy: 0.9918\n",
      "Epoch 37/50\n",
      "1314/1314 [==============================] - 7s 5ms/step - loss: 0.0215 - accuracy: 0.9951 - val_loss: 0.0369 - val_accuracy: 0.9916\n",
      "Epoch 38/50\n",
      "1314/1314 [==============================] - 6s 5ms/step - loss: 0.0208 - accuracy: 0.9952 - val_loss: 0.0383 - val_accuracy: 0.9916\n",
      "Epoch 39/50\n",
      "1314/1314 [==============================] - 6s 5ms/step - loss: 0.0195 - accuracy: 0.9956 - val_loss: 0.0350 - val_accuracy: 0.9917\n",
      "Epoch 40/50\n",
      "1314/1314 [==============================] - 5s 4ms/step - loss: 0.0186 - accuracy: 0.9958 - val_loss: 0.0398 - val_accuracy: 0.9900\n",
      "Epoch 41/50\n",
      "1314/1314 [==============================] - 5s 4ms/step - loss: 0.0185 - accuracy: 0.9958 - val_loss: 0.0393 - val_accuracy: 0.9903\n",
      "Epoch 42/50\n",
      "1314/1314 [==============================] - 6s 4ms/step - loss: 0.0176 - accuracy: 0.9958 - val_loss: 0.0360 - val_accuracy: 0.9922\n",
      "Epoch 43/50\n",
      "1314/1314 [==============================] - 5s 4ms/step - loss: 0.0169 - accuracy: 0.9962 - val_loss: 0.0387 - val_accuracy: 0.9912\n",
      "Epoch 44/50\n",
      "1314/1314 [==============================] - 5s 4ms/step - loss: 0.0166 - accuracy: 0.9963 - val_loss: 0.0361 - val_accuracy: 0.9922\n",
      "Epoch 45/50\n",
      "1314/1314 [==============================] - 5s 4ms/step - loss: 0.0158 - accuracy: 0.9965 - val_loss: 0.0340 - val_accuracy: 0.9932\n",
      "Epoch 46/50\n",
      "1314/1314 [==============================] - 6s 4ms/step - loss: 0.0147 - accuracy: 0.9963 - val_loss: 0.0354 - val_accuracy: 0.9928\n",
      "Epoch 47/50\n",
      "1314/1314 [==============================] - 5s 4ms/step - loss: 0.0147 - accuracy: 0.9966 - val_loss: 0.0350 - val_accuracy: 0.9921\n",
      "Epoch 48/50\n",
      "1314/1314 [==============================] - 5s 4ms/step - loss: 0.0144 - accuracy: 0.9969 - val_loss: 0.0330 - val_accuracy: 0.9929\n",
      "Epoch 49/50\n",
      "1314/1314 [==============================] - 5s 4ms/step - loss: 0.0134 - accuracy: 0.9971 - val_loss: 0.0394 - val_accuracy: 0.9912\n",
      "Epoch 50/50\n",
      "1314/1314 [==============================] - 6s 5ms/step - loss: 0.0138 - accuracy: 0.9968 - val_loss: 0.0336 - val_accuracy: 0.9935\n"
     ]
    }
   ],
   "source": [
    "history = model.fit(X_train, y_train, epochs = 50, batch_size = 32, verbose = 1, validation_split = 0.2)"
   ]
  },
  {
   "cell_type": "code",
   "execution_count": null,
   "metadata": {},
   "outputs": [],
   "source": []
  },
  {
   "cell_type": "code",
   "execution_count": 148,
   "metadata": {},
   "outputs": [],
   "source": [
    "epochs = history.epoch\n",
    "\n",
    "loss = history.history['loss']\n",
    "validation_loss = history.history['val_loss']\n",
    "\n",
    "acc = history.history['accuracy']\n",
    "validation_acc = history.history['val_accuracy']"
   ]
  },
  {
   "cell_type": "code",
   "execution_count": 149,
   "metadata": {},
   "outputs": [
    {
     "data": {
      "text/plain": [
       "<matplotlib.legend.Legend at 0x14a4425fd08>"
      ]
     },
     "execution_count": 149,
     "metadata": {},
     "output_type": "execute_result"
    },
    {
     "data": {
      "image/png": "[encoded data removed]",
      "text/plain": [
       "<Figure size 1080x360 with 2 Axes>"
      ]
     },
     "metadata": {
      "needs_background": "light"
     },
     "output_type": "display_data"
    }
   ],
   "source": [
    "fig = plt.figure(figsize=(15, 5))\n",
    "\n",
    "plt.subplot(1,2,1)\n",
    "plt.title('Loss')\n",
    "plt.xlabel('Epochs')\n",
    "plt.ylabel('Loss')\n",
    "plt.plot(epochs, loss, c='red', label='training')\n",
    "plt.plot(epochs, validation_loss, c='blue', label='validation')\n",
    "plt.legend(loc='best')\n",
    "\n",
    "plt.subplot(1,2,2)\n",
    "plt.title('Accuracy')\n",
    "plt.xlabel('Epochs')\n",
    "plt.ylabel('Acccuracy')\n",
    "plt.plot(epochs, acc, c='red', label='training')\n",
    "plt.plot(epochs, validation_acc, c='blue', label='validation')\n",
    "plt.legend(loc='best')"
   ]
  },
  {
   "cell_type": "code",
   "execution_count": null,
   "metadata": {},
   "outputs": [],
   "source": []
  },
  {
   "cell_type": "markdown",
   "metadata": {},
   "source": [
    "## Neural network evaluation"
   ]
  },
  {
   "cell_type": "code",
   "execution_count": 150,
   "metadata": {},
   "outputs": [],
   "source": [
    "final_model = Sequential()\n",
    "final_model.add(Dense(units=100, input_dim=number_of_features, activation='relu'))\n",
    "final_model.add(Dense(units=40, activation='relu'))\n",
    "final_model.add(Dense(units=20, activation='relu'))\n",
    "final_model.add(Dropout(0.1))\n",
    "final_model.add(Dense(units=output_size, activation='sigmoid'))\n",
    "final_model.compile(optimizers.Adam(learning_rate = 0.0001), loss=losses.BinaryCrossentropy(), metrics=['accuracy'])"
   ]
  },
  {
   "cell_type": "code",
   "execution_count": null,
   "metadata": {},
   "outputs": [],
   "source": []
  },
  {
   "cell_type": "code",
   "execution_count": 151,
   "metadata": {},
   "outputs": [
    {
     "name": "stdout",
     "output_type": "stream",
     "text": [
      "Epoch 1/50\n",
      "1643/1643 [==============================] - 8s 5ms/step - loss: 0.5453 - accuracy: 0.7362\n",
      "Epoch 2/50\n",
      "1643/1643 [==============================] - 8s 5ms/step - loss: 0.3014 - accuracy: 0.9141\n",
      "Epoch 3/50\n",
      "1643/1643 [==============================] - 6s 4ms/step - loss: 0.2119 - accuracy: 0.9431\n",
      "Epoch 4/50\n",
      "1643/1643 [==============================] - 6s 4ms/step - loss: 0.1747 - accuracy: 0.9502\n",
      "Epoch 5/50\n",
      "1643/1643 [==============================] - 6s 4ms/step - loss: 0.1509 - accuracy: 0.9539\n",
      "Epoch 6/50\n",
      "1643/1643 [==============================] - 5s 3ms/step - loss: 0.1339 - accuracy: 0.9580\n",
      "Epoch 7/50\n",
      "1643/1643 [==============================] - 6s 3ms/step - loss: 0.1205 - accuracy: 0.9608\n",
      "Epoch 8/50\n",
      "1643/1643 [==============================] - 5s 3ms/step - loss: 0.1112 - accuracy: 0.9632\n",
      "Epoch 9/50\n",
      "1643/1643 [==============================] - 5s 3ms/step - loss: 0.1029 - accuracy: 0.9652\n",
      "Epoch 10/50\n",
      "1643/1643 [==============================] - 6s 3ms/step - loss: 0.0944 - accuracy: 0.9672\n",
      "Epoch 11/50\n",
      "1643/1643 [==============================] - 5s 3ms/step - loss: 0.0883 - accuracy: 0.9684\n",
      "Epoch 12/50\n",
      "1643/1643 [==============================] - 5s 3ms/step - loss: 0.0819 - accuracy: 0.9699\n",
      "Epoch 13/50\n",
      "1643/1643 [==============================] - 6s 3ms/step - loss: 0.0766 - accuracy: 0.9711\n",
      "Epoch 14/50\n",
      "1643/1643 [==============================] - 5s 3ms/step - loss: 0.0711 - accuracy: 0.9717\n",
      "Epoch 15/50\n",
      "1643/1643 [==============================] - 6s 3ms/step - loss: 0.0666 - accuracy: 0.9742\n",
      "Epoch 16/50\n",
      "1643/1643 [==============================] - 6s 4ms/step - loss: 0.0629 - accuracy: 0.9763\n",
      "Epoch 17/50\n",
      "1643/1643 [==============================] - 7s 4ms/step - loss: 0.0587 - accuracy: 0.9787\n",
      "Epoch 18/50\n",
      "1643/1643 [==============================] - 9s 6ms/step - loss: 0.0557 - accuracy: 0.9807\n",
      "Epoch 19/50\n",
      "1643/1643 [==============================] - 9s 5ms/step - loss: 0.0522 - accuracy: 0.9820: 1s - loss: 0.0522 - accura\n",
      "Epoch 20/50\n",
      "1643/1643 [==============================] - 9s 6ms/step - loss: 0.0498 - accuracy: 0.9835\n",
      "Epoch 21/50\n",
      "1643/1643 [==============================] - 8s 5ms/step - loss: 0.0469 - accuracy: 0.9858\n",
      "Epoch 22/50\n",
      "1643/1643 [==============================] - 10s 6ms/step - loss: 0.0448 - accuracy: 0.9871\n",
      "Epoch 23/50\n",
      "1643/1643 [==============================] - 7s 4ms/step - loss: 0.0428 - accuracy: 0.9879\n",
      "Epoch 24/50\n",
      "1643/1643 [==============================] - 8s 5ms/step - loss: 0.0405 - accuracy: 0.9888\n",
      "Epoch 25/50\n",
      "1643/1643 [==============================] - 7s 4ms/step - loss: 0.0391 - accuracy: 0.9898\n",
      "Epoch 26/50\n",
      "1643/1643 [==============================] - 8s 5ms/step - loss: 0.0378 - accuracy: 0.9912\n",
      "Epoch 27/50\n",
      "1643/1643 [==============================] - 8s 5ms/step - loss: 0.0360 - accuracy: 0.9918\n",
      "Epoch 28/50\n",
      "1643/1643 [==============================] - 8s 5ms/step - loss: 0.0343 - accuracy: 0.9926\n",
      "Epoch 29/50\n",
      "1643/1643 [==============================] - 8s 5ms/step - loss: 0.0324 - accuracy: 0.9928\n",
      "Epoch 30/50\n",
      "1643/1643 [==============================] - 7s 4ms/step - loss: 0.0314 - accuracy: 0.9936\n",
      "Epoch 31/50\n",
      "1643/1643 [==============================] - 6s 4ms/step - loss: 0.0301 - accuracy: 0.9940\n",
      "Epoch 32/50\n",
      "1643/1643 [==============================] - 6s 4ms/step - loss: 0.0289 - accuracy: 0.9940\n",
      "Epoch 33/50\n",
      "1643/1643 [==============================] - 6s 4ms/step - loss: 0.0283 - accuracy: 0.9946\n",
      "Epoch 34/50\n",
      "1643/1643 [==============================] - 6s 4ms/step - loss: 0.0270 - accuracy: 0.9950\n",
      "Epoch 35/50\n",
      "1643/1643 [==============================] - 7s 5ms/step - loss: 0.0252 - accuracy: 0.9951\n",
      "Epoch 36/50\n",
      "1643/1643 [==============================] - 6s 4ms/step - loss: 0.0251 - accuracy: 0.9951\n",
      "Epoch 37/50\n",
      "1643/1643 [==============================] - 6s 4ms/step - loss: 0.0233 - accuracy: 0.9955\n",
      "Epoch 38/50\n",
      "1643/1643 [==============================] - 6s 3ms/step - loss: 0.0231 - accuracy: 0.9956\n",
      "Epoch 39/50\n",
      "1643/1643 [==============================] - 5s 3ms/step - loss: 0.0218 - accuracy: 0.9958\n",
      "Epoch 40/50\n",
      "1643/1643 [==============================] - 6s 4ms/step - loss: 0.0213 - accuracy: 0.9959\n",
      "Epoch 41/50\n",
      "1643/1643 [==============================] - 6s 4ms/step - loss: 0.0208 - accuracy: 0.9960\n",
      "Epoch 42/50\n",
      "1643/1643 [==============================] - 6s 3ms/step - loss: 0.0195 - accuracy: 0.9963\n",
      "Epoch 43/50\n",
      "1643/1643 [==============================] - 6s 4ms/step - loss: 0.0191 - accuracy: 0.9964\n",
      "Epoch 44/50\n",
      "1643/1643 [==============================] - 6s 3ms/step - loss: 0.0185 - accuracy: 0.9966\n",
      "Epoch 45/50\n",
      "1643/1643 [==============================] - 7s 4ms/step - loss: 0.0180 - accuracy: 0.9964\n",
      "Epoch 46/50\n",
      "1643/1643 [==============================] - 7s 4ms/step - loss: 0.0170 - accuracy: 0.9968\n",
      "Epoch 47/50\n",
      "1643/1643 [==============================] - 6s 4ms/step - loss: 0.0163 - accuracy: 0.9969: 0s - loss: 0.0\n",
      "Epoch 48/50\n",
      "1643/1643 [==============================] - 6s 4ms/step - loss: 0.0163 - accuracy: 0.9969\n",
      "Epoch 49/50\n",
      "1643/1643 [==============================] - 6s 4ms/step - loss: 0.0158 - accuracy: 0.9971\n",
      "Epoch 50/50\n",
      "1643/1643 [==============================] - 6s 3ms/step - loss: 0.0155 - accuracy: 0.9971: 0s - loss: 0.0155 - accura\n"
     ]
    }
   ],
   "source": [
    "history = final_model.fit(X_train, y_train, epochs=50, batch_size=32, verbose = 1)"
   ]
  },
  {
   "cell_type": "code",
   "execution_count": 152,
   "metadata": {},
   "outputs": [
    {
     "name": "stdout",
     "output_type": "stream",
     "text": [
      "809/809 [==============================] - 3s 3ms/step - loss: 0.0385 - accuracy: 0.9932\n",
      "Test loss: 0.03846949711441994, test accuracy: 0.9932398796081543\n"
     ]
    }
   ],
   "source": [
    "test_loss, test_accuracy = final_model.evaluate(X_test, y_test)\n",
    "print (\"Test loss: {}, test accuracy: {}\".format(test_loss, test_accuracy))"
   ]
  },
  {
   "cell_type": "code",
   "execution_count": 153,
   "metadata": {},
   "outputs": [
    {
     "name": "stdout",
     "output_type": "stream",
     "text": [
      "1643/1643 [==============================] - 6s 3ms/step - loss: 0.0132 - accuracy: 0.9975\n",
      "Train loss: 0.013154169544577599, train accuracy: 0.9975264668464661\n"
     ]
    }
   ],
   "source": [
    "train_loss, train_accuracy = final_model.evaluate(X_train, y_train)\n",
    "print (\"Train loss: {}, train accuracy: {}\".format(train_loss, train_accuracy))"
   ]
  },
  {
   "cell_type": "code",
   "execution_count": 154,
   "metadata": {},
   "outputs": [],
   "source": [
    "epochs = history.epoch\n",
    "loss = history.history['loss']\n",
    "acc = history.history['accuracy']"
   ]
  },
  {
   "cell_type": "code",
   "execution_count": 155,
   "metadata": {},
   "outputs": [
    {
     "data": {
      "text/plain": [
       "<matplotlib.legend.Legend at 0x14a4482be88>"
      ]
     },
     "execution_count": 155,
     "metadata": {},
     "output_type": "execute_result"
    },
    {
     "data": {
      "image/png": "[encoded data removed]",
      "text/plain": [
       "<Figure size 1080x360 with 2 Axes>"
      ]
     },
     "metadata": {
      "needs_background": "light"
     },
     "output_type": "display_data"
    }
   ],
   "source": [
    "fig = plt.figure(figsize=(15, 5))\n",
    "\n",
    "plt.subplot(1, 2, 1)\n",
    "plt.title('Loss')\n",
    "plt.xlabel('Epochs')\n",
    "plt.ylabel('Loss')\n",
    "plt.plot(epochs, loss, c='red', label='test loss')\n",
    "plt.legend(loc='best')\n",
    "\n",
    "plt.subplot(1, 2, 2)\n",
    "plt.title('Accuracy')\n",
    "plt.xlabel('Epochs')\n",
    "plt.ylabel('Acccuracy')\n",
    "plt.plot(epochs, acc, c='blue', label = 'test accuracy')\n",
    "plt.legend(loc='best')"
   ]
  },
  {
   "cell_type": "code",
   "execution_count": null,
   "metadata": {},
   "outputs": [],
   "source": []
  },
  {
   "cell_type": "markdown",
   "metadata": {},
   "source": [
    "## Save model"
   ]
  },
  {
   "cell_type": "code",
   "execution_count": 156,
   "metadata": {},
   "outputs": [],
   "source": [
    "from keras.models import load_model"
   ]
  },
  {
   "cell_type": "code",
   "execution_count": 157,
   "metadata": {},
   "outputs": [],
   "source": [
    "model.save('final_model.h5') "
   ]
  },
  {
   "cell_type": "code",
   "execution_count": null,
   "metadata": {},
   "outputs": [],
   "source": []
  },
  {
   "cell_type": "code",
   "execution_count": null,
   "metadata": {},
   "outputs": [],
   "source": []
  }
 ],
 "metadata": {
  "kernelspec": {
   "display_name": "Python 3",
   "language": "python",
   "name": "python3"
  },
  "language_info": {
   "codemirror_mode": {
    "name": "ipython",
    "version": 3
   },
   "file_extension": ".py",
   "mimetype": "text/x-python",
   "name": "python",
   "nbconvert_exporter": "python",
   "pygments_lexer": "ipython3",
   "version": "3.7.4"
  }
 },
 "nbformat": 4,
 "nbformat_minor": 2
}
